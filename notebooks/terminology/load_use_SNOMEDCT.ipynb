{
 "cells": [
  {
   "cell_type": "markdown",
   "metadata": {},
   "source": [
    "# Use SnomedCT Ontology loader"
   ]
  },
  {
   "cell_type": "markdown",
   "metadata": {},
   "source": [
    "Para cargar la ontología como un grafo hay que utilizar el archivo de relaciones presente en la versión internacional de Snomed-CT. La versión en español es considerada una extensión y por lo tanto no dispone de archivo de relaciones (sólo de conceptos). El archivo de relaciones se encuentra en el path `.../Full/Terminology/sct2_Relationship_Full_INT_XXXXXXXX.txt`"
   ]
  },
  {
   "cell_type": "code",
   "execution_count": 2,
   "metadata": {},
   "outputs": [
    {
     "name": "stdout",
     "output_type": "stream",
     "text": [
      "Removing an already removed relation id 64885022\n",
      "Removing an already removed relation id 65015023\n",
      "Removing an already removed relation id 85964023\n",
      "Removing an already removed relation id 85965024\n",
      "Removing an already removed relation id 2534609022\n",
      "Removing an already removed relation id 2534612020\n",
      "Removing an already removed relation id 2535579020\n",
      "Removing an already removed relation id 6665732021\n",
      "Removing an already removed relation id 6665734022\n",
      "Removing an already removed relation id 13466013021\n",
      "Removing an already removed relation id 13763994028\n",
      "Removing an already removed relation id 13764011027\n"
     ]
    },
    {
     "name": "stderr",
     "output_type": "stream",
     "text": [
      " 85%|████████▍ | 5553318/6539138 [00:06<00:01, 962552.29it/s] "
     ]
    },
    {
     "name": "stdout",
     "output_type": "stream",
     "text": [
      "WARNING: Trying to remove key 719715003 from dict. The element was removed before\n",
      "WARNING: Trying to remove key 719722006 from dict. The element was removed before\n"
     ]
    },
    {
     "name": "stderr",
     "output_type": "stream",
     "text": [
      "100%|██████████| 6539138/6539138 [00:07<00:00, 834866.98it/s]\n"
     ]
    },
    {
     "name": "stdout",
     "output_type": "stream",
     "text": [
      "Se han obtenido 464388 relaciones del archivo\n"
     ]
    }
   ],
   "source": [
    "from src.ontology.SnomedCT import SnomedCT\n",
    "relationship_file = \"/home/abecerra/Documents/SnomedCT_InternationalRF2_PRODUCTION_20240901T120000Z/Full/Terminology/sct2_Relationship_Full_INT_20240901.txt\"\n",
    "\n",
    "sct = SnomedCT(file_name_rel=relationship_file, root_concept_code = \"138875005\", relation_types=[\"116680003\"])"
   ]
  },
  {
   "cell_type": "code",
   "execution_count": 3,
   "metadata": {},
   "outputs": [
    {
     "data": {
      "text/plain": [
       "['302168000', '18526009']"
      ]
     },
     "execution_count": 3,
     "metadata": {},
     "output_type": "execute_result"
    }
   ],
   "source": [
    "sct.rel_active[\"74400008\"]"
   ]
  },
  {
   "cell_type": "code",
   "execution_count": 4,
   "metadata": {},
   "outputs": [
    {
     "data": {
      "text/plain": [
       "['18526009', '302168000']"
      ]
     },
     "execution_count": 4,
     "metadata": {},
     "output_type": "execute_result"
    }
   ],
   "source": [
    "sct.get_parents(\"74400008\")"
   ]
  },
  {
   "cell_type": "code",
   "execution_count": 5,
   "metadata": {},
   "outputs": [
    {
     "data": {
      "text/plain": [
       "['3951002',\n",
       " '74400008',\n",
       " '61564002',\n",
       " '4494009',\n",
       " '64226004',\n",
       " '7620006',\n",
       " '307418008',\n",
       " '302168000',\n",
       " '38420005']"
      ]
     },
     "execution_count": 5,
     "metadata": {},
     "output_type": "execute_result"
    }
   ],
   "source": [
    "sct.get_children(\"302168000\")"
   ]
  }
 ],
 "metadata": {
  "kernelspec": {
   "display_name": ".venv",
   "language": "python",
   "name": "python3"
  },
  "language_info": {
   "codemirror_mode": {
    "name": "ipython",
    "version": 3
   },
   "file_extension": ".py",
   "mimetype": "text/x-python",
   "name": "python",
   "nbconvert_exporter": "python",
   "pygments_lexer": "ipython3",
   "version": "3.8.10"
  }
 },
 "nbformat": 4,
 "nbformat_minor": 2
}
