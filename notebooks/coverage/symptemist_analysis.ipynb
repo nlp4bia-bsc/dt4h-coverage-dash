{
 "cells": [
  {
   "cell_type": "markdown",
   "metadata": {},
   "source": [
    "# Data Characterisation: Symptemist"
   ]
  },
  {
   "cell_type": "code",
   "execution_count": 1,
   "metadata": {},
   "outputs": [
    {
     "name": "stdout",
     "output_type": "stream",
     "text": [
      "|    | filename                     |   off0 |   off1 |      code | span                                                                | semantic_rel   |\n",
      "|---:|:-----------------------------|-------:|-------:|----------:|:--------------------------------------------------------------------|:---------------|\n",
      "|  0 | es-S0365-66912011000600005-2 |    333 |    361 | 246658005 | «manchas» en el campo visual                                        | EXACT          |\n",
      "|  1 | es-S0004-06142010000300011-1 |    649 |    716 | 171250001 | 5HIAA en orina de 24 horas estaba dentro de los parámetros normales | NARROW         |\n",
      "|  2 | es-S1130-01082007000700011-2 |   1463 |   1505 | 166315009 | A nivel analítico no presentaba alteración                          | NARROW         |\n",
      "|  3 | es-S0210-48062009000300017-1 |   2713 |   2759 | 126825008 | a nivel del cardias masa mamelonada y ulcerada                      | NARROW         |\n",
      "|  4 | es-S1130-01082006000100014-1 |   2282 |   2295 |   9209005 | abdomen agudo                                                       | EXACT          |\n",
      "(11721, 6)\n",
      "|    | ID        | name       |       code | semantic_tag      | term          |\n",
      "|---:|:----------|:-----------|-----------:|:------------------|:--------------|\n",
      "|  0 | DT4HDem-3 | Sex female |  248152002 | finding           | Female        |\n",
      "|  1 | DT4HDem-4 | Sex male   |  248153007 | finding           | Male          |\n",
      "|  2 | DT4HDem-6 | YOB        |  184099003 | observable entity | Date of birth |\n",
      "|  3 | DT4HDem-7 | Height     | 1153637007 | observable entity | Body height   |\n",
      "|  4 | DT4HDem-8 | Weight     |   27113001 | observable entity | Body weight   |\n",
      "(669, 5)\n"
     ]
    }
   ],
   "source": [
    "import pandas as pd\n",
    "import matplotlib.pyplot as plt\n",
    "import seaborn as sns\n",
    "\n",
    "DATA = 'data/processed/symptemist.tsv'\n",
    "DATA_VAR = 'data/variables/processed/variables.tsv'\n",
    "df_symptemist = pd.read_csv(DATA, sep='\\t', dtype={'code': str})\n",
    "df_variables = pd.read_csv(DATA_VAR, sep='\\t', dtype={'code': str})\n",
    "# df_variables['term'] = df_variables['term'].str.lower()\n",
    "# df_variables = df_variables[df_variables['semantic_tag']==\"disorder\"]\n",
    "\n",
    "print(df_symptemist.head().to_markdown())\n",
    "print(df_symptemist.shape)\n",
    "print(df_variables.head().to_markdown())\n",
    "print(df_variables.shape)"
   ]
  },
  {
   "cell_type": "code",
   "execution_count": 2,
   "metadata": {},
   "outputs": [
    {
     "name": "stdout",
     "output_type": "stream",
     "text": [
      "|     | ID             | name                                                                                |           code | semantic_tag      | term                                                                                                                              |\n",
      "|----:|:---------------|:------------------------------------------------------------------------------------|---------------:|:------------------|:----------------------------------------------------------------------------------------------------------------------------------|\n",
      "|  62 | DT4H-Lab10     | TropThs                                                                             |      102682001 | substance         | Troponin T                                                                                                                        |\n",
      "|  63 | DT4H-Lab11     | TropTnhs                                                                            |      102682001 | substance         | Troponin T                                                                                                                        |\n",
      "|  60 | DT4H-Lab8      | TropIhs                                                                             |      102683006 | substance         | Troponin I                                                                                                                        |\n",
      "|  61 | DT4H-Lab9      | TropInhs                                                                            |      102683006 | substance         | Troponin I                                                                                                                        |\n",
      "| 299 | DT4H-MedD187   | Torasemide                                                                          |      108476002 | substance         | Torasemide                                                                                                                        |\n",
      "| 347 | DT4H-MedL105   | Torasemide                                                                          |      108476002 | substance         | Torasemide                                                                                                                        |\n",
      "| 224 | DT4H-MedA144   | Moexipril hydrochloride                                                             |      108567007 | substance         | Moexipril hydrochloride                                                                                                           |\n",
      "| 185 | DT4H-MedR164   | Moexipril hydrochloride                                                             |      108567007 | substance         | Moexipril hydrochloride                                                                                                           |\n",
      "| 223 | DT4H-MedA143   | Fosinopril sodium                                                                   |      108570006 | substance         | Fosinopril sodium                                                                                                                 |\n",
      "| 184 | DT4H-MedR163   | Fosinopril sodium                                                                   |      108570006 | substance         | Fosinopril sodium                                                                                                                 |\n",
      "| 222 | DT4H-MedA142   | Benazepril hydrochloride                                                            |      108573008 | substance         | Benazepril hydrochloride                                                                                                          |\n",
      "| 183 | DT4H-MedR162   | Benazepril hydrochloride                                                            |      108573008 | substance         | Benazepril hydrochloride                                                                                                          |\n",
      "| 243 | DT4H-MedAR127  | Losartan potassium                                                                  |      108582002 | substance         | Losartan potassium                                                                                                                |\n",
      "| 150 | DT4H-MedR127   | Losartan potassium                                                                  |      108582002 | substance         | Losartan potassium                                                                                                                |\n",
      "| 195 | DT4H-MedA115   | Enalapril sodium                                                                    |     1119307002 | substance         | Enalapril sodium                                                                                                                  |\n",
      "| 156 | DT4H-MedR135   | Enalapril sodium                                                                    |     1119307002 | substance         | Enalapril sodium                                                                                                                  |\n",
      "| 155 | DT4H-MedR134   | Perindopril erbumine monohydrate                                                    |     1119308007 | substance         | Perindopril erbumine monohydrate                                                                                                  |\n",
      "| 194 | DT4H-MedA114   | Perindopril erbumine monohydrate                                                    |     1119308007 | substance         | Perindopril erbumine monohydrate                                                                                                  |\n",
      "| 306 | DT4H-MedD194   | Trichlormethiazide                                                                  |       11473005 | substance         | Trichlormethiazide                                                                                                                |\n",
      "| 334 | DT4H-MedD233   | Trichlormethiazide                                                                  |       11473005 | substance         | Trichlormethiazide                                                                                                                |\n",
      "| 437 | DT4H-MedP141   | substance with glycoprotein-IIb/IIIa receptor antagonist mechanism of action        |     1162907009 | substance         | substance with glycoprotein-IIb/IIIa receptor antagonist mechanism of action                                                      |\n",
      "| 417 | DT4H-MedP11    | Substance with glycoprotein-IIb/IIIa receptor antagonist mechanism of action        |     1162907009 | substance         | Substance with glycoprotein-IIb/IIIa receptor antagonist mechanism of action                                                      |\n",
      "| 279 | DT4H-MedD152   | Finerenone                                                                          |     1163346008 | substance         | Finerenone                                                                                                                        |\n",
      "| 246 | DT4H-MedM111   | Finerenone                                                                          |     1163346008 | substance         | Finerenone                                                                                                                        |\n",
      "| 626 | DT4H-MedRHY113 | Amiloride hydrochloride anhydrous                                                   |     1268944002 | substance         | Amiloride hydrochloride anhydrous                                                                                                 |\n",
      "| 278 | DT4H-MedD151   | Amiloride hydrochloride anhydrous                                                   |     1268944002 | substance         | Amiloride hydrochloride anhydrous                                                                                                 |\n",
      "| 154 | DT4H-MedR133   | Cilazapril anhydrous                                                                |     1268982005 | substance         | Cilazapril anhydrous                                                                                                              |\n",
      "| 193 | DT4H-MedA113   | Cilazapril anhydrous                                                                |     1268982005 | substance         | Cilazapril anhydrous                                                                                                              |\n",
      "| 153 | DT4H-MedR132   | Lisinopril anhydrous                                                                |     1269132005 | substance         | Lisinopril anhydrous                                                                                                              |\n",
      "| 192 | DT4H-MedA112   | Lisinopril anhydrous                                                                |     1269132005 | substance         | Lisinopril anhydrous                                                                                                              |\n",
      "| 182 | DT4H-MedR161   | Perindopril erbumine                                                                |      129485000 | substance         | Perindopril erbumine                                                                                                              |\n",
      "| 221 | DT4H-MedA141   | Perindopril erbumine                                                                |      129485000 | substance         | Perindopril erbumine                                                                                                              |\n",
      "| 242 | DT4H-MedAR126  | Eprosartan mesilate                                                                 |      129488003 | substance         | Eprosartan mesilate                                                                                                               |\n",
      "| 149 | DT4H-MedR126   | Eprosartan mesilate                                                                 |      129488003 | substance         | Eprosartan mesilate                                                                                                               |\n",
      "| 135 | DT4H-MedR112   | Fimasartan                                                                          |     1332433003 | substance         | Fimasartan                                                                                                                        |\n",
      "| 228 | DT4H-MedAR112  | Fimasartan                                                                          |     1332433003 | substance         | Fimasartan                                                                                                                        |\n",
      "| 227 | DT4H-MedAR111  | Fimasartan potassium trihydrate                                                     |     1332434009 | substance         | Fimasartan potassium trihydrate                                                                                                   |\n",
      "| 134 | DT4H-MedR111   | Fimasartan potassium trihydrate                                                     |     1332434009 | substance         | Fimasartan potassium trihydrate                                                                                                   |\n",
      "| 322 | DT4H-MedD221   | Butizide                                                                            | 20551000122108 | substance         | Butizide                                                                                                                          |\n",
      "| 293 | DT4H-MedD181   | Butizide                                                                            | 20551000122108 | substance         | Butizide                                                                                                                          |\n",
      "|  49 | DT4H-US2       | BSA                                                                                 |      301898006 | observable entity | Body surface area                                                                                                                 |\n",
      "|  50 | DT4H-US5       | LVEDV                                                                               |      301898006 | observable entity | Left ventricular end-diastolic cavity size                                                                                        |\n",
      "| 191 | DT4H-MedA111   | Lisinopril dihydrate                                                                |   341000220102 | substance         | Lisinopril dihydrate                                                                                                              |\n",
      "| 152 | DT4H-MedR131   | Lisinopril dihydrate                                                                |   341000220102 | substance         | Lisinopril dihydrate                                                                                                              |\n",
      "| 305 | DT4H-MedD193   | Cyclothiazide                                                                       |       37006008 | substance         | Cyclothiazide                                                                                                                     |\n",
      "| 333 | DT4H-MedD232   | Cyclothiazide                                                                       |       37006008 | substance         | Cyclothiazide                                                                                                                     |\n",
      "| 181 | DT4H-MedR160   | Fosinopril                                                                          |      372510000 | substance         | Fosinopril                                                                                                                        |\n",
      "| 220 | DT4H-MedA140   | Fosinopril                                                                          |      372510000 | substance         | Fosinopril                                                                                                                        |\n",
      "| 180 | DT4H-MedR159   | Benazepril                                                                          |      372511001 | substance         | Benazepril                                                                                                                        |\n",
      "| 219 | DT4H-MedA139   | Benazepril                                                                          |      372511001 | substance         | Benazepril                                                                                                                        |\n",
      "| 241 | DT4H-MedAR125  | Candesartan                                                                         |      372512008 | substance         | Candesartan                                                                                                                       |\n",
      "| 148 | DT4H-MedR125   | Candesartan                                                                         |      372512008 | substance         | Candesartan                                                                                                                       |\n",
      "| 114 | DT4H-MedM1     | Mineralcorticoid Receptor Antagonist (MRA)                                          |      372603003 | substance         | Substance with aldosterone receptor antagonist mechanism of action                                                                |\n",
      "| 245 | DT4H-MedM1     | MINERALCORTICOID RECEPTOR ANTAGONIST (MRA)                                          |      372603003 | substance         | MINERALCORTICOID RECEPTOR ANTAGONIST (MRA)                                                                                        |\n",
      "| 287 | DT4H-MedD160   | Aldosterone receptor antagonist                                                     |      372603003 | substance         | Aldosterone receptor antagonist                                                                                                   |\n",
      "| 179 | DT4H-MedR158   | Enalapril                                                                           |      372658000 | substance         | Enalapril                                                                                                                         |\n",
      "| 218 | DT4H-MedA138   | Enalapril                                                                           |      372658000 | substance         | Enalapril                                                                                                                         |\n",
      "| 592 | DT4H-MedBB130  | Beta-1 adrenergic receptor antagonist                                               |      372661004 | substance         | Beta-1 adrenergic receptor antagonist                                                                                             |\n",
      "| 601 | DT4H-MedBB15   | Substance with beta-1 adrenergic receptor antagonist mechanism of action            |      372661004 | substance         | Substance with beta-1 adrenergic receptor antagonist mechanism of action                                                          |\n",
      "| 116 | DT4H-MedL1     | Loop diuretics                                                                      |      372691009 | substance         | Loop diuretic                                                                                                                     |\n",
      "| 342 | DT4H-MedL1     | LOOP DIURETIC                                                                       |      372691009 | substance         | LOOP DIURETIC                                                                                                                     |\n",
      "| 115 | DT4H-MedD1     | Diuretics                                                                           |      372695000 | substance         | Diuretic                                                                                                                          |\n",
      "| 251 | DT4H-MedD1     | DIURETICS                                                                           |      372695000 | substance         | DIURETICS                                                                                                                         |\n",
      "| 190 | DT4H-MedA1     | ACE-INHIBITORS                                                                      |      372733002 | substance         | ACE-INHIBITORS                                                                                                                    |\n",
      "| 111 | DT4H-MedA1     | ACE-inhibitors                                                                      |      372733002 | substance         | Substance with angiotensin-converting enzyme inhibitor mechanism of action                                                        |\n",
      "| 151 | DT4H-MedR13    | Substance with angiotensin-converting                                               |      372733002 | substance         | Substance with angiotensin-converting                                                                                             |\n",
      "|     |                | enzyme inhibitor mechanism of action                                                |                |                   | enzyme inhibitor mechanism of action                                                                                              |\n",
      "| 331 | DT4H-MedD230   | Chlorothiazide                                                                      |      372782002 | substance         | Chlorothiazide                                                                                                                    |\n",
      "| 298 | DT4H-MedD186   | Chlorothiazide                                                                      |      372782002 | substance         | Chlorothiazide                                                                                                                    |\n",
      "| 120 | DT4H-MedCO1    | Anticoagulants                                                                      |      372862008 | substance         | Anticoagulant                                                                                                                     |\n",
      "| 461 | DT4H-MedCO1    | ANTICOAGULANTS                                                                      |      372862008 | substance         | ANTICOAGULANTS                                                                                                                    |\n",
      "| 121 | DT4H-MedS1     | Statins                                                                             |      372912004 | substance         | Substance with 3-hydroxy-3-methylglutaryl-coenzyme A reductase inhibitor mechanism of action                                      |\n",
      "| 544 | DT4H-MedS1     | STATINS                                                                             |      372912004 | substance         | STATINS                                                                                                                           |\n",
      "| 112 | DT4H-MedAR1    | Angiotensin receptor blocker                                                        |      372913009 | substance         | Substance with angiotensin II receptor antagonist mechanism of action                                                             |\n",
      "| 226 | DT4H-MedAR1    | ANGIOTENSIN RECEPTOR BLOCKER                                                        |      372913009 | substance         | ANGIOTENSIN RECEPTOR BLOCKER                                                                                                      |\n",
      "| 133 | DT4H-MedR11    | Substance with angiotensin II receptor antagonist mechanism of action               |      372913009 | substance         | Substance with angiotensin II receptor antagonist mechanism of action                                                             |\n",
      "| 217 | DT4H-MedA137   | Perindopril                                                                         |      372916001 | substance         | Perindopril                                                                                                                       |\n",
      "| 178 | DT4H-MedR157   | Perindopril                                                                         |      372916001 | substance         | Perindopril                                                                                                                       |\n",
      "| 572 | DT4H-MedBB1    | BETABLOCKERS                                                                        |      373254001 | substance         | BETABLOCKERS                                                                                                                      |\n",
      "| 123 | DT4H-MedBB1    | Betablockers                                                                        |      373254001 | substance         | Substance with beta adrenergic receptor antagonist mechanism of action                                                            |\n",
      "| 350 | DT4H-MedC1     | CALCIUM CHANNEL BLOCKER                                                             |      373304005 | substance         | CALCIUM CHANNEL BLOCKER                                                                                                           |\n",
      "| 117 | DT4H-MedC1     | Calcium Channel Blockers                                                            |      373304005 | substance         | Substance with calcium channel blocker mechanism of action                                                                        |\n",
      "| 177 | DT4H-MedR156   | Moexipril                                                                           |      373442003 | substance         | Moexipril                                                                                                                         |\n",
      "| 216 | DT4H-MedA136   | Moexipril                                                                           |      373442003 | substance         | Moexipril                                                                                                                         |\n",
      "| 346 | DT4H-MedL104   | Ethacrynic acid                                                                     |      373536004 | substance         | Ethacrynic acid                                                                                                                   |\n",
      "| 297 | DT4H-MedD185   | Ethacrynic acid                                                                     |      373536004 | substance         | Ethacrynic acid                                                                                                                   |\n",
      "| 147 | DT4H-MedR124   | Losartan                                                                            |      373567002 | substance         | Losartan                                                                                                                          |\n",
      "| 240 | DT4H-MedAR124  | Losartan                                                                            |      373567002 | substance         | Losartan                                                                                                                          |\n",
      "| 176 | DT4H-MedR155   | Trandolapril                                                                        |      386871006 | substance         | Trandolapril                                                                                                                      |\n",
      "| 215 | DT4H-MedA135   | Trandolapril                                                                        |      386871006 | substance         | Trandolapril                                                                                                                      |\n",
      "| 214 | DT4H-MedA134   | Ramipril                                                                            |      386872004 | substance         | Ramipril                                                                                                                          |\n",
      "| 175 | DT4H-MedR154   | Ramipril                                                                            |      386872004 | substance         | Ramipril                                                                                                                          |\n",
      "| 174 | DT4H-MedR153   | Lisinopril                                                                          |      386873009 | substance         | Lisinopril                                                                                                                        |\n",
      "| 213 | DT4H-MedA133   | Lisinopril                                                                          |      386873009 | substance         | Lisinopril                                                                                                                        |\n",
      "| 173 | DT4H-MedR152   | Quinapril                                                                           |      386874003 | substance         | Quinapril                                                                                                                         |\n",
      "| 212 | DT4H-MedA132   | Quinapril                                                                           |      386874003 | substance         | Quinapril                                                                                                                         |\n",
      "| 172 | DT4H-MedR151   | Quinapril hydrochloride                                                             |      386875002 | substance         | Quinapril hydrochloride                                                                                                           |\n",
      "| 211 | DT4H-MedA131   | Quinapril hydrochloride                                                             |      386875002 | substance         | Quinapril hydrochloride                                                                                                           |\n",
      "| 239 | DT4H-MedAR123  | Valsartan                                                                           |      386876001 | substance         | Valsartan                                                                                                                         |\n",
      "| 146 | DT4H-MedR123   | Valsartan                                                                           |      386876001 | substance         | Valsartan                                                                                                                         |\n",
      "| 238 | DT4H-MedAR122  | Irbesartan                                                                          |      386877005 | substance         | Irbesartan                                                                                                                        |\n",
      "| 145 | DT4H-MedR122   | Irbesartan                                                                          |      386877005 | substance         | Irbesartan                                                                                                                        |\n",
      "| 144 | DT4H-MedR121   | Candesartan cilexetil                                                               |      386878000 | substance         | Candesartan cilexetil                                                                                                             |\n",
      "| 237 | DT4H-MedAR121  | Candesartan cilexetil                                                               |      386878000 | substance         | Candesartan cilexetil                                                                                                             |\n",
      "| 638 | DT4H-MedRHY125 | Triamterene                                                                         |      387053007 | substance         | Triamterene                                                                                                                       |\n",
      "| 286 | DT4H-MedD159   | Triamterene                                                                         |      387053007 | substance         | Triamterene                                                                                                                       |\n",
      "| 236 | DT4H-MedAR120  | Telmisartan                                                                         |      387069000 | substance         | Telmisartan                                                                                                                       |\n",
      "| 143 | DT4H-MedR120   | Telmisartan                                                                         |      387069000 | substance         | Telmisartan                                                                                                                       |\n",
      "| 249 | DT4H-MedM114   | Spironolactone                                                                      |      387078006 | substance         | Spironolactone                                                                                                                    |\n",
      "| 285 | DT4H-MedD158   | Spironolactone                                                                      |      387078006 | substance         | Spironolactone                                                                                                                    |\n",
      "| 210 | DT4H-MedA130   | Captopril                                                                           |      387160004 | substance         | Captopril                                                                                                                         |\n",
      "| 171 | DT4H-MedR150   | Captopril                                                                           |      387160004 | substance         | Captopril                                                                                                                         |\n",
      "| 170 | DT4H-MedR149   | Enalapril maleate                                                                   |      387165009 | substance         | Enalapril maleate                                                                                                                 |\n",
      "| 209 | DT4H-MedA129   | Enalapril maleate                                                                   |      387165009 | substance         | Enalapril maleate                                                                                                                 |\n",
      "| 296 | DT4H-MedD184   | Chlortalidone                                                                       |      387324004 | substance         | Chlortalidone                                                                                                                     |\n",
      "| 316 | DT4H-MedD208   | Chlortalidone                                                                       |      387324004 | substance         | Chlortalidone                                                                                                                     |\n",
      "| 345 | DT4H-MedL103   | Furosemide                                                                          |      387475002 | substance         | Furosemide                                                                                                                        |\n",
      "| 314 | DT4H-MedD206   | Furosemide                                                                          |      387475002 | substance         | Furosemide                                                                                                                        |\n",
      "| 295 | DT4H-MedD183   | Furosemide                                                                          |      387475002 | substance         | Furosemide                                                                                                                        |\n",
      "| 294 | DT4H-MedD182   | Bumetanide                                                                          |      387498005 | substance         | Bumetanide                                                                                                                        |\n",
      "| 344 | DT4H-MedL102   | Bumetanide                                                                          |      387498005 | substance         | Bumetanide                                                                                                                        |\n",
      "| 313 | DT4H-MedD205   | Bumetanide                                                                          |      387498005 | substance         | Bumetanide                                                                                                                        |\n",
      "| 284 | DT4H-MedD157   | Amiloride                                                                           |      387503008 | substance         | Amiloride                                                                                                                         |\n",
      "| 634 | DT4H-MedRHY121 | Amiloride                                                                           |      387503008 | substance         | Amiloride                                                                                                                         |\n",
      "| 283 | DT4H-MedD156   | Amiloride hydrochloride                                                             |      387516008 | substance         | Amiloride hydrochloride                                                                                                           |\n",
      "| 633 | DT4H-MedRHY120 | Amiloride hydrochloride                                                             |      387516008 | substance         | Amiloride hydrochloride                                                                                                           |\n",
      "| 169 | DT4H-MedR148   | Imidapril hydrochloride                                                             |      395741003 | substance         | Imidapril hydrochloride                                                                                                           |\n",
      "| 208 | DT4H-MedA128   | Imidapril hydrochloride                                                             |      395741003 | substance         | Imidapril hydrochloride                                                                                                           |\n",
      "| 168 | DT4H-MedR147   | Cilazapril                                                                          |      395947008 | substance         | Cilazapril                                                                                                                        |\n",
      "| 207 | DT4H-MedA127   | Cilazapril                                                                          |      395947008 | substance         | Cilazapril                                                                                                                        |\n",
      "| 206 | DT4H-MedA126   | Imidapril                                                                           |      395984005 | substance         | Imidapril                                                                                                                         |\n",
      "| 167 | DT4H-MedR146   | Imidapril                                                                           |      395984005 | substance         | Imidapril                                                                                                                         |\n",
      "| 235 | DT4H-MedAR119  | Eprosartan                                                                          |      396044005 | substance         | Eprosartan                                                                                                                        |\n",
      "| 142 | DT4H-MedR119   | Eprosartan                                                                          |      396044005 | substance         | Eprosartan                                                                                                                        |\n",
      "| 562 | DT4H-MedDG1    | DIGITALIS GLYCOSIDES                                                                |      406759007 | substance         | DIGITALIS GLYCOSIDES                                                                                                              |\n",
      "| 122 | DT4H-MedDG1    | Digitalis glycosides                                                                |      406759007 | substance         | Digitalis glycoside                                                                                                               |\n",
      "| 324 | DT4H-MedD223   | Mefruside                                                                           |      406772008 | substance         | Mefruside                                                                                                                         |\n",
      "| 310 | DT4H-MedD202   | Mefruside                                                                           |      406772008 | substance         | Mefruside                                                                                                                         |\n",
      "| 248 | DT4H-MedM113   | Eplerenone                                                                          |      407010008 | substance         | Eplerenone                                                                                                                        |\n",
      "| 282 | DT4H-MedD155   | Eplerenone                                                                          |      407010008 | substance         | Eplerenone                                                                                                                        |\n",
      "| 631 | DT4H-MedRHY118 | Amiloride hydrochloride dihydrate                                                   |      412082007 | substance         | Amiloride hydrochloride dihydrate                                                                                                 |\n",
      "| 281 | DT4H-MedD154   | Amiloride hydrochloride dihydrate                                                   |      412082007 | substance         | Amiloride hydrochloride dihydrate                                                                                                 |\n",
      "| 234 | DT4H-MedAR118  | Olmesartan                                                                          |      412259001 | substance         | Olmesartan                                                                                                                        |\n",
      "| 141 | DT4H-MedR118   | Olmesartan                                                                          |      412259001 | substance         | Olmesartan                                                                                                                        |\n",
      "| 140 | DT4H-MedR117   | Olmesartan medoxomil                                                                |      412260006 | substance         | Olmesartan medoxomil                                                                                                              |\n",
      "| 233 | DT4H-MedAR117  | Olmesartan medoxomil                                                                |      412260006 | substance         | Olmesartan medoxomil                                                                                                              |\n",
      "| 420 | DT4H-MedP113   | Tirofiban hydrochloride monohydrate                                                 |      412321006 | substance         | Tirofiban hydrochloride monohydrate                                                                                               |\n",
      "| 448 | DT4H-MedP152   | tirofiban hydrochloride monohydrate                                                 |      412321006 | substance         | tirofiban hydrochloride monohydrate                                                                                               |\n",
      "| 304 | DT4H-MedD192   | Quinethazone                                                                        |       41261002 | substance         | Quinethazone                                                                                                                      |\n",
      "| 320 | DT4H-MedD212   | Quinethazone                                                                        |       41261002 | substance         | Quinethazone                                                                                                                      |\n",
      "| 280 | DT4H-MedD153   | Potassium canrenoate                                                                |      419615001 | substance         | Potassium canrenoate                                                                                                              |\n",
      "| 247 | DT4H-MedM112   | Potassium canrenoate                                                                |      419615001 | substance         | Potassium canrenoate                                                                                                              |\n",
      "| 656 | DT4H-MedIV1    | IVABRADINE                                                                          |      421228002 | substance         | IVABRADINE                                                                                                                        |\n",
      "| 125 | DT4H-MedIV1    | Ivabradine                                                                          |      421228002 | substance         | Ivabradine                                                                                                                        |\n",
      "| 166 | DT4H-MedR145   | Perindopril arginine                                                                |      442509000 | substance         | Perindopril arginine                                                                                                              |\n",
      "| 205 | DT4H-MedA125   | Perindopril arginine                                                                |      442509000 | substance         | Perindopril arginine                                                                                                              |\n",
      "| 139 | DT4H-MedR116   | Azilsartan                                                                          |      449042005 | substance         | Azilsartan                                                                                                                        |\n",
      "| 232 | DT4H-MedAR116  | Azilsartan                                                                          |      449042005 | substance         | Azilsartan                                                                                                                        |\n",
      "| 138 | DT4H-MedR115   | Azilsartan medoxomil                                                                |      449561004 | substance         | Azilsartan medoxomil                                                                                                              |\n",
      "| 231 | DT4H-MedAR115  | Azilsartan medoxomil                                                                |      449561004 | substance         | Azilsartan medoxomil                                                                                                              |\n",
      "| 225 | DT4H-MedA145   | Enalaprilat                                                                         |       48052001 | substance         | Enalaprilat                                                                                                                       |\n",
      "| 186 | DT4H-MedR165   | Enalaprilat                                                                         |       48052001 | substance         | Enalaprilat                                                                                                                       |\n",
      "| 349 | DT4H-MedL107   | Tienilic acid                                                                       |       64029000 | substance         | Tienilic acid                                                                                                                     |\n",
      "| 303 | DT4H-MedD191   | Tienilic acid                                                                       |       64029000 | substance         | Tienilic acid                                                                                                                     |\n",
      "| 302 | DT4H-MedD190   | Benzthiazide                                                                        |       66290002 | substance         | Benzthiazide                                                                                                                      |\n",
      "| 332 | DT4H-MedD231   | Benzthiazide                                                                        |       66290002 | substance         | Benzthiazide                                                                                                                      |\n",
      "| 165 | DT4H-MedR144   | Delapril                                                                            |      698093003 | substance         | Delapril                                                                                                                          |\n",
      "| 204 | DT4H-MedA124   | Delapril                                                                            |      698093003 | substance         | Delapril                                                                                                                          |\n",
      "| 203 | DT4H-MedA123   | Delapril hydrochloride                                                              |      700066002 | substance         | Delapril hydrochloride                                                                                                            |\n",
      "| 164 | DT4H-MedR143   | Delapril hydrochloride                                                              |      700066002 | substance         | Delapril hydrochloride                                                                                                            |\n",
      "| 202 | DT4H-MedA122   | Zofenopril                                                                          |      703340007 | substance         | Zofenopril                                                                                                                        |\n",
      "| 163 | DT4H-MedR142   | Zofenopril                                                                          |      703340007 | substance         | Zofenopril                                                                                                                        |\n",
      "| 162 | DT4H-MedR141   | Zofenopril calcium                                                                  |      703341006 | substance         | Zofenopril calcium                                                                                                                |\n",
      "| 201 | DT4H-MedA121   | Zofenopril calcium                                                                  |      703341006 | substance         | Zofenopril calcium                                                                                                                |\n",
      "| 161 | DT4H-MedR140   | Zofenoprilat                                                                        |      703342004 | substance         | Zofenoprilat                                                                                                                      |\n",
      "| 200 | DT4H-MedA120   | Zofenoprilat                                                                        |      703342004 | substance         | Zofenoprilat                                                                                                                      |\n",
      "| 199 | DT4H-MedA119   | Zofenoprilat arginine                                                               |      703343009 | substance         | Zofenoprilat arginine                                                                                                             |\n",
      "| 160 | DT4H-MedR139   | Zofenoprilat arginine                                                               |      703343009 | substance         | Zofenoprilat arginine                                                                                                             |\n",
      "| 657 | DT4H-MedSG1    | SUBSTANCE WITH SODIUM GLUCOSE COTRANSPORTER SUBTYPE 2 INHIBITOR MECHANISM OF ACTION |      703673007 | substance         | SUBSTANCE WITH SODIUM GLUCOSE COTRANSPORTER SUBTYPE 2 INHIBITOR MECHANISM OF ACTION                                               |\n",
      "| 126 | DT4H-MedSG1    | SGLT-2 Inhibitor                                                                    |      703673007 | substance         | Substance with sodium glucose cotransporter subtype 2 inhibitor mechanism of action                                               |\n",
      "| 198 | DT4H-MedA118   | Spirapril                                                                           |      713473008 | substance         | Spirapril                                                                                                                         |\n",
      "| 159 | DT4H-MedR138   | Spirapril                                                                           |      713473008 | substance         | Spirapril                                                                                                                         |\n",
      "| 197 | DT4H-MedA117   | Cilazapril monohydrate                                                              |      725786001 | substance         | Cilazapril monohydrate                                                                                                            |\n",
      "| 158 | DT4H-MedR137   | Cilazapril monohydrate                                                              |      725786001 | substance         | Cilazapril monohydrate                                                                                                            |\n",
      "| 137 | DT4H-MedR114   | Irbesartan hydrochloride                                                            |      734504000 | substance         | Irbesartan hydrochloride                                                                                                          |\n",
      "| 230 | DT4H-MedAR114  | Irbesartan hydrochloride                                                            |      734504000 | substance         | Irbesartan hydrochloride                                                                                                          |\n",
      "| 260 | DT4H-MedD118   | conivaptan hydrochloride                                                            |      735160008 | substance         | conivaptan hydrochloride                                                                                                          |\n",
      "| 258 | DT4H-MedD116   | cicletanine hydrochloride                                                           |      735160008 | substance         | cicletanine hydrochloride                                                                                                         |\n",
      "| 196 | DT4H-MedA116   | Perindopril tosylate                                                                |      735174001 | substance         | Perindopril tosylate                                                                                                              |\n",
      "| 157 | DT4H-MedR136   | Perindopril tosylate                                                                |      735174001 | substance         | Perindopril tosylate                                                                                                              |\n",
      "| 301 | DT4H-MedD189   | Ethacrynate sodium                                                                  |       75341007 | substance         | Ethacrynate sodium                                                                                                                |\n",
      "| 348 | DT4H-MedL106   | Ethacrynate sodium                                                                  |       75341007 | substance         | Ethacrynate sodium                                                                                                                |\n",
      "| 416 | DT4H-MedP1     | SUBSTANCE WITH PLATELET AGGREGATION INHIBITOR MECHANISM OF ACTION                   |      771452004 | substance         | SUBSTANCE WITH PLATELET AGGREGATION INHIBITOR MECHANISM OF ACTION                                                                 |\n",
      "| 119 | DT4H-MedP1     | Platelet inhibitor                                                                  |      771452004 | substance         | Substance with platelet aggregation inhibitor mechanism of action                                                                 |\n",
      "| 102 | DT4H-SM1       | Smoker                                                                              |       77176002 | finding           | Smoker                                                                                                                            |\n",
      "| 108 | DT4H-SM7       | Smoker                                                                              |       77176002 | finding           | Smoker                                                                                                                            |\n",
      "| 244 | DT4H-Med2      | ANGIOTENSIN RECEPTOR/NEPRILYSIN INHIBITOR (ARNI)                                    |      777480008 | medicinal product | ANGIOTENSIN RECEPTOR/NEPRILYSIN INHIBITOR (ARNI)                                                                                  |\n",
      "| 113 | DT4H-Med2      | Angiotensin receptor/neprilysin inhibitor (ARNI)                                    |      777480008 | medicine          | Product containing only sacubitril and valsartan                                                                                  |\n",
      "| 623 | DT4H-MedRHY11  | Substance with sodium channel blocker mechanism of action                           |      782436006 | substance         | Substance with sodium channel blocker mechanism of action                                                                         |\n",
      "| 124 | DT4H-MedRHY1   | Class 1 and 3 antiarrhytmic drugs                                                   |      782436006 | substance         | Substance with sodium channel blocker mechanism of action +415152007 Substance with potassium channel blocker mechanism of action |\n",
      "| 335 | DT4H-MedD234   | Chlorothiazide sodium                                                               |        8252004 | substance         | Chlorothiazide sodium                                                                                                             |\n",
      "| 307 | DT4H-MedD195   | Chlorothiazide sodium                                                               |        8252004 | substance         | Chlorothiazide sodium                                                                                                             |\n",
      "| 106 | DT4H-SM5       | Ex-smoker                                                                           |        8517006 | finding           | Ex-smoker                                                                                                                         |\n",
      "| 103 | DT4H-SM2       | Ex-smoker                                                                           |        8517006 | finding           | Ex-smoker                                                                                                                         |\n",
      "| 110 | DT4H-MedR1     | RAS-inhibitors                                                                      |      866173006 | substance         | Substance with renin-angiotensin system inhibitor mechanism of action                                                             |\n",
      "| 132 | DT4H-MedR1     | RAS-INHIBITORS                                                                      |      866173006 | substance         | RAS-INHIBITORS                                                                                                                    |\n",
      "| 136 | DT4H-MedR113   | Azilsartan medoxomil potassium                                                      |      895431005 | substance         | Azilsartan medoxomil potassium                                                                                                    |\n",
      "| 229 | DT4H-MedAR113  | Azilsartan medoxomil potassium                                                      |      895431005 | substance         | Azilsartan medoxomil potassium                                                                                                    |\n",
      "| 288 | DT4H-MedD161   | Canrenone                                                                           |       96291007 | substance         | Canrenone                                                                                                                         |\n",
      "| 300 | DT4H-MedD188   | Canrenone                                                                           |       96291007 | substance         | Canrenone                                                                                                                         |\n",
      "| 250 | DT4H-MedM115   | Canrenone                                                                           |       96291007 | substance         | Canrenone                                                                                                                         |\n",
      "| 459 | DT4H-MedP163   | resveratrol                                                                         |       96383001 | substance         | resveratrol                                                                                                                       |\n",
      "| 462 | DT4H-MedCO111  | resveratrol                                                                         |       96383001 | substance         | resveratrol                                                                                                                       |\n"
     ]
    }
   ],
   "source": [
    "print(df_variables[df_variables[\"code\"].duplicated(keep=False)].sort_values(by=\"code\").to_markdown())"
   ]
  },
  {
   "cell_type": "code",
   "execution_count": 3,
   "metadata": {},
   "outputs": [
    {
     "data": {
      "text/plain": [
       "(560,)"
      ]
     },
     "execution_count": 3,
     "metadata": {},
     "output_type": "execute_result"
    }
   ],
   "source": [
    "df_variables[\"code\"].drop_duplicates().shape"
   ]
  },
  {
   "cell_type": "code",
   "execution_count": 4,
   "metadata": {},
   "outputs": [
    {
     "data": {
      "text/plain": [
       "<Axes: xlabel='semantic_rel'>"
      ]
     },
     "execution_count": 4,
     "metadata": {},
     "output_type": "execute_result"
    },
    {
     "data": {
      "image/png": "[encoded data removed]",
      "text/plain": [
       "<Figure size 640x480 with 1 Axes>"
      ]
     },
     "metadata": {},
     "output_type": "display_data"
    }
   ],
   "source": [
    "df_symptemist.semantic_rel.value_counts().plot(kind='bar')"
   ]
  },
  {
   "cell_type": "markdown",
   "metadata": {},
   "source": [
    "## Code overlap"
   ]
  },
  {
   "cell_type": "code",
   "execution_count": 5,
   "metadata": {},
   "outputs": [
    {
     "name": "stdout",
     "output_type": "stream",
     "text": [
      "Shape: (733, 14)\n",
      "Unique codes: 653\n",
      "Codes not found: 538\n",
      "|    | ID          | name             |      code | span                    | term             | semantic_rel   | semantic_tag   |   count | found   |   count_ID |   COMPOSITE |   EXACT |   NARROW |   NOT_FOUND |\n",
      "|---:|:------------|:-----------------|----------:|:------------------------|:-----------------|:---------------|:---------------|--------:|:--------|-----------:|------------:|--------:|---------:|------------:|\n",
      "|  0 | DT4HSign-19 | weight loss      |  89362005 | pérdida de peso         | Weight loss      | EXACT          | finding        |      34 | True    |         64 |           0 |      64 |        0 |           0 |\n",
      "|  1 | DT4HSign-10 | loss of appetite |  79890006 | anorexia                | Loss of appetite | EXACT          | finding        |      30 | True    |         63 |          25 |      38 |        0 |           0 |\n",
      "|  2 | DT4HSign-13 | dizziness        | 404640003 | mareo                   | Dizziness        | EXACT          | finding        |      20 | True    |         23 |           0 |      23 |        0 |           0 |\n",
      "|  3 | DT4HSign-10 | loss of appetite |  79890006 | síndrome constitucional | Loss of appetite | COMPOSITE      | finding        |      15 | True    |         63 |          25 |      38 |        0 |           0 |\n",
      "|  4 | DT4HSign-2  | Chest pain       |  29857009 | dolor torácico          | Chest pain       | EXACT          | finding        |      13 | True    |         15 |           0 |      15 |        0 |           0 | \n",
      "\n",
      "|     | ID           | name                 |      code | span      | term                 | semantic_rel   | semantic_tag   |   count | found   |   count_ID |   COMPOSITE |   EXACT |   NARROW |   NOT_FOUND |\n",
      "|----:|:-------------|:---------------------|----------:|:----------|:---------------------|:---------------|:---------------|--------:|:--------|-----------:|------------:|--------:|---------:|------------:|\n",
      "| 299 | DT4H-MedS124 | Atorvastatin calcium | 108601004 | NOT_FOUND | Atorvastatin calcium | NOT_FOUND      | substance      |       0 | False   |          0 |           0 |       0 |        0 |           0 |\n",
      "| 300 | DT4H-MedS125 | Cerivastatin sodium  | 108597004 | NOT_FOUND | Cerivastatin sodium  | NOT_FOUND      | substance      |       0 | False   |          0 |           0 |       0 |        0 |           0 |\n",
      "| 301 | DT4H-MedS126 | Pravastatin sodium   |  96306007 | NOT_FOUND | Pravastatin sodium   | NOT_FOUND      | substance      |       0 | False   |          0 |           0 |       0 |        0 |           0 |\n",
      "| 302 | DT4H-MedS116 | Pitavastatin         | 443586000 | NOT_FOUND | Pitavastatin         | NOT_FOUND      | substance      |       0 | False   |          0 |           0 |       0 |        0 |           0 |\n",
      "| 292 | DT4H-MedS117 | Fluvastatin sodium   | 412392009 | NOT_FOUND | Fluvastatin sodium   | NOT_FOUND      | substance      |       0 | False   |          0 |           0 |       0 |        0 |           0 | \n",
      "\n"
     ]
    }
   ],
   "source": [
    "def process_composites(df, df_vars):\n",
    "    '''\n",
    "    Function to extract composite codes. Get the first code that is in the list of variables.\n",
    "    '''\n",
    "\n",
    "    df_data = df.copy()\n",
    "    df_vars = df_vars.copy()\n",
    "\n",
    "    # Get the unique codes from the variables dataframe to process the composites\n",
    "    ls_var_codes = df_vars[\"code\"].drop_duplicates().tolist()\n",
    "\n",
    "    # Merge df_variables with df_symptemist on 'code', filling missing values with \"NOT_FOUND\"\n",
    "    df_data_comp = df_data[df_data[\"semantic_rel\"] == \"COMPOSITE\"].copy()\n",
    "    df_data_comp[\"code_list\"] = df_data_comp[\"code\"].str.split(\"+\")\n",
    "    df_data_comp[\"var_code\"] = df_data_comp[\"code_list\"].apply(lambda code: [c for c in code if c in ls_var_codes][0] if any(c in ls_var_codes for c in code) else code[0])\n",
    "    df_data_comp[\"var_code\"] = df_data_comp[\"var_code\"].astype(str)\n",
    "    df_data_comp.code = df_data_comp.var_code\n",
    "\n",
    "    # Process composites\n",
    "    df_data_no_comp = df_data[df_data[\"semantic_rel\"] != \"COMPOSITE\"].copy()\n",
    "\n",
    "    # Once composites have a single code instead of a list, concatenate the dataframes\n",
    "    df_data = pd.concat([df_data_no_comp, df_data_comp], ignore_index=True)\n",
    "\n",
    "    return df_data\n",
    "\n",
    "def generate_df_codes(df_data, df_vars):\n",
    "\n",
    "    # Make copies of the dataframes to avoid modifying the originals\n",
    "    df_data = df_data.copy()\n",
    "    df_vars = df_vars.copy()\n",
    "\n",
    "    df_data = process_composites(df_data, df_vars)\n",
    "\n",
    "    df_code_ovr = df_vars[[\"ID\", \"name\", \"code\", \"term\", \"semantic_tag\"]].merge(\n",
    "                                                                            df_data[['code', 'span', 'semantic_rel']].reset_index(), \n",
    "                                                                            on='code', \n",
    "                                                                            how='left'\n",
    "                                                                        ).fillna(\"NOT_FOUND\")\n",
    "\n",
    "    # assert (df_code_ovr[\"semantic_rel\"] == \"COMPOSITE\").sum() > 0, \"NO COMPOSITES FOUND\"\n",
    "\n",
    "    # Group by 'code', 'span', and 'semantic_rel', then count occurrences\n",
    "    df_code_ovr = df_code_ovr.groupby(['ID', 'name', 'code', 'span', 'term', 'semantic_rel', 'semantic_tag']).size().reset_index(name='count').sort_values(by=\"count\", ascending=False)\n",
    "\n",
    "    # Set count to 0 for entries with 'span' marked as \"NOT_FOUND\"\n",
    "    df_code_ovr.loc[df_code_ovr.span == \"NOT_FOUND\", \"count\"] = 0\n",
    "\n",
    "    # Rename columns for clarity\n",
    "    df_code_ovr.columns = ['ID', 'name', 'code', 'span', 'term', 'semantic_rel', 'semantic_tag', 'count']\n",
    "\n",
    "    \n",
    "    df_code_ovr[\"found\"] = df_code_ovr[\"span\"] != \"NOT_FOUND\"\n",
    "\n",
    "    # Include column of count by code\n",
    "    df_code_count = df_code_ovr.groupby([\"ID\"]).aggregate({\"count\":\"sum\"}).reset_index()\n",
    "    df_count_group = df_code_count.groupby(\"ID\").aggregate({\"count\":\"sum\"}).reset_index()\n",
    "    df_code_ovr = df_code_ovr.merge(df_count_group, on=\"ID\", suffixes=('', '_ID'))\n",
    "\n",
    "    # Include columns of count by semantic_rel\n",
    "    df_code_rel = df_code_ovr.groupby([\"ID\", \"semantic_rel\"]).aggregate({\"count\":\"sum\"}).reset_index()\n",
    "    df_code_rel = df_code_rel.pivot(index=\"ID\", columns=\"semantic_rel\", values=\"count\").fillna(0).reset_index()\n",
    "    df_code_ovr = df_code_ovr.merge(df_code_rel, on=\"ID\").sort_values(by=\"count\", ascending=False)\n",
    "\n",
    "    # Print the shape of the resulting dataframe\n",
    "    print(\"Shape:\", df_code_ovr.shape)\n",
    "    print(\"Unique codes:\", df_code_ovr[\"ID\"].nunique())\n",
    "    # Print the number of codes not found (count is 0)\n",
    "    print(\"Codes not found:\", df_code_ovr[~df_code_ovr[\"found\"]].code.nunique())\n",
    "\n",
    "    # Print the top 10 codes by count in markdown format\n",
    "    print(df_code_ovr.head().to_markdown(), \"\\n\")\n",
    "\n",
    "    # Print the bottom 10 codes by count in markdown format\n",
    "    print(df_code_ovr.tail().to_markdown(), \"\\n\")\n",
    "\n",
    "    return df_code_ovr\n",
    "\n",
    "df_code_ovr = generate_df_codes(df_symptemist, df_variables)"
   ]
  },
  {
   "cell_type": "code",
   "execution_count": 6,
   "metadata": {},
   "outputs": [
    {
     "data": {
      "text/plain": [
       "<Axes: xlabel='semantic_rel'>"
      ]
     },
     "execution_count": 6,
     "metadata": {},
     "output_type": "execute_result"
    },
    {
     "data": {
      "image/png": "[encoded data removed]",
      "text/plain": [
       "<Figure size 640x480 with 1 Axes>"
      ]
     },
     "metadata": {},
     "output_type": "display_data"
    }
   ],
   "source": [
    "df_code_ovr.semantic_rel.value_counts().plot(kind='bar')"
   ]
  },
  {
   "cell_type": "code",
   "execution_count": 7,
   "metadata": {},
   "outputs": [
    {
     "data": {
      "text/plain": [
       "(653,)"
      ]
     },
     "execution_count": 7,
     "metadata": {},
     "output_type": "execute_result"
    }
   ],
   "source": [
    "df_code_ovr[\"ID\"].drop_duplicates().shape"
   ]
  },
  {
   "cell_type": "code",
   "execution_count": 9,
   "metadata": {},
   "outputs": [
    {
     "data": {
      "application/vnd.plotly.v1+json": {
       "config": {
        "plotlyServerURL": "https://plot.ly"
       },
       "data": [
        {
         "domain": {
          "x": [
           0,
           0.2888888888888889
          ],
          "y": [
           0,
           1
          ]
         },
         "hovertemplate": "found=%{label}<extra></extra>",
         "labels": [
          true,
          true,
          true,
          true,
          true,
          true,
          true,
          true,
          true,
          true,
          true,
          true,
          true,
          true,
          true,
          true,
          true,
          true,
          true,
          true,
          true,
          true,
          false,
          false,
          false,
          false,
          false,
          false,
          false,
          false,
          false,
          false,
          false,
          false,
          false,
          false,
          false,
          false,
          false,
          false,
          false,
          false,
          false,
          false,
          false,
          false,
          false,
          false,
          false,
          false,
          false,
          false,
          false,
          false,
          false,
          false,
          false,
          false,
          false,
          false,
          false,
          false,
          false,
          false,
          false,
          false,
          false,
          false,
          false,
          false,
          false,
          false,
          false,
          false,
          false,
          false,
          false,
          false,
          false,
          false,
          false,
          false,
          false,
          false,
          false,
          false,
          false,
          false,
          false,
          false,
          false,
          false,
          false,
          false,
          false,
          false,
          false,
          false,
          false,
          false,
          false,
          false,
          false,
          false,
          false,
          false,
          false,
          false,
          false,
          false,
          false,
          false,
          false,
          false,
          false,
          false,
          false,
          false,
          false,
          false,
          false,
          false,
          false,
          false,
          false,
          false,
          false,
          false,
          false,
          false,
          false,
          false,
          false,
          false,
          false,
          false,
          false,
          false,
          false,
          false,
          false,
          false,
          false,
          false,
          false,
          false,
          false,
          false,
          false,
          false,
          false,
          false,
          false,
          false,
          false,
          false,
          false,
          false,
          false,
          false,
          false,
          false,
          false,
          false,
          false,
          false,
          false,
          false,
          false,
          false,
          false,
          false,
          false,
          false,
          false,
          false,
          false,
          false,
          false,
          false,
          false,
          false,
          false,
          false,
          false,
          false,
          false,
          false,
          false,
          false,
          false,
          false,
          false,
          false,
          false,
          false,
          false,
          false,
          false,
          false,
          false,
          false,
          false,
          false,
          false,
          false,
          false,
          false,
          false,
          false,
          false,
          false,
          false,
          false,
          false,
          false,
          false,
          false,
          false,
          false,
          false,
          false,
          false,
          false,
          false,
          false,
          false,
          false,
          false,
          false,
          false,
          false,
          false,
          false,
          false,
          false,
          false,
          false,
          false,
          false,
          false,
          false,
          false,
          false,
          false,
          false,
          false,
          false,
          false,
          false,
          false,
          false,
          false,
          false,
          false,
          false,
          false,
          false,
          false,
          false,
          false,
          false,
          false,
          false,
          false,
          false,
          false,
          false,
          false,
          false,
          false,
          false,
          false,
          false,
          false,
          false,
          false,
          false,
          false,
          false,
          false,
          false,
          false,
          false,
          false,
          false,
          false,
          false,
          false,
          false,
          false,
          false,
          false,
          false,
          false,
          false,
          false,
          false,
          false,
          false,
          false,
          false,
          false,
          false,
          false,
          false,
          false,
          false,
          false,
          false,
          false,
          false,
          false,
          false,
          false,
          false,
          false,
          false,
          false,
          false,
          false,
          false,
          false,
          false,
          false,
          false,
          false,
          false,
          false,
          false,
          false,
          false,
          false,
          false,
          false,
          false,
          false,
          false,
          false,
          false,
          false,
          false,
          false,
          false,
          false,
          false,
          false,
          false,
          false,
          false,
          false,
          false,
          false,
          false,
          false,
          false,
          false,
          false,
          false,
          false,
          false,
          false,
          false,
          false,
          false,
          false,
          false,
          false,
          false,
          false,
          false,
          false,
          false,
          false,
          false,
          false,
          false,
          false,
          false,
          false,
          false,
          false,
          false,
          false,
          false,
          false,
          false,
          false,
          false,
          false,
          false,
          false,
          false,
          false,
          false,
          false,
          false,
          false,
          false,
          false,
          false,
          false,
          false,
          false,
          false,
          false,
          false,
          false,
          false,
          false,
          false,
          false,
          false,
          false,
          false,
          false,
          false,
          false,
          false,
          false,
          false,
          false,
          false,
          false,
          false,
          false,
          false,
          false,
          false,
          false,
          false,
          false,
          false,
          false,
          false,
          false,
          false,
          false,
          false,
          false,
          false,
          false,
          false,
          false,
          false,
          false,
          false,
          false,
          false,
          false,
          false,
          false,
          false,
          false,
          false,
          false,
          false,
          false,
          false,
          false,
          false,
          false,
          false,
          false,
          false,
          false,
          false,
          false,
          false,
          false,
          false,
          false,
          false,
          false,
          false,
          false,
          false,
          false,
          false,
          false,
          false,
          false,
          false,
          false,
          false,
          false,
          false,
          false,
          false,
          false,
          false,
          false,
          false,
          false,
          false,
          false,
          false,
          false,
          false,
          false,
          false,
          false,
          false,
          false,
          false,
          false,
          false,
          false,
          false,
          false,
          false,
          false,
          false,
          false,
          false,
          false,
          false,
          false,
          false,
          false,
          false,
          false,
          false,
          false,
          false,
          false,
          false,
          false,
          false,
          false,
          false,
          false,
          false,
          false,
          false,
          false,
          false,
          false,
          false,
          false,
          false,
          false,
          false,
          false,
          false,
          false,
          false,
          false,
          false,
          false,
          false,
          false,
          false,
          false,
          false,
          false,
          false,
          false,
          false,
          false,
          false,
          false,
          false,
          false,
          false,
          false,
          false,
          false,
          false,
          false,
          false,
          false,
          false,
          false,
          false,
          false,
          false,
          false,
          false,
          false,
          false,
          false,
          false,
          false,
          false,
          false,
          false,
          false,
          false,
          false,
          false,
          false,
          false,
          false,
          false,
          false,
          false,
          false,
          false,
          false,
          false,
          false,
          false,
          false,
          false,
          false,
          false,
          false,
          false,
          false,
          false,
          false,
          false,
          false,
          false,
          false,
          false,
          false,
          false,
          false,
          false,
          false,
          false,
          false,
          false,
          false,
          false,
          false,
          false,
          false,
          false,
          false,
          false,
          false,
          false,
          false,
          false,
          false,
          false,
          false,
          false,
          false,
          false,
          false,
          false,
          false,
          false,
          false,
          false,
          false,
          false,
          false,
          false
         ],
         "legendgroup": "",
         "name": "",
         "showlegend": true,
         "textinfo": "label+percent+value",
         "type": "pie"
        },
        {
         "domain": {
          "x": [
           0.35555555555555557,
           0.6444444444444445
          ],
          "y": [
           0,
           1
          ]
         },
         "hovertemplate": "semantic_tag=%{label}<extra></extra>",
         "labels": [
          "finding",
          "finding",
          "finding",
          "finding",
          "finding",
          "disorder",
          "finding",
          "finding",
          "finding",
          "finding",
          "finding",
          "finding",
          "disorder",
          "disorder",
          "finding",
          "finding",
          "finding",
          "finding",
          "finding",
          "finding",
          "finding",
          "finding"
         ],
         "legendgroup": "",
         "name": "",
         "showlegend": true,
         "textinfo": "label+percent+value",
         "type": "pie"
        },
        {
         "domain": {
          "x": [
           0.7111111111111111,
           1
          ],
          "y": [
           0,
           1
          ]
         },
         "hovertemplate": "semantic_rel=%{label}<extra></extra>",
         "labels": [
          "EXACT",
          "EXACT",
          "EXACT",
          "COMPOSITE",
          "EXACT",
          "EXACT",
          "EXACT",
          "EXACT",
          "EXACT",
          "EXACT",
          "EXACT",
          "EXACT",
          "COMPOSITE",
          "EXACT",
          "EXACT",
          "EXACT",
          "EXACT",
          "EXACT",
          "EXACT",
          "EXACT",
          "EXACT",
          "EXACT",
          "COMPOSITE",
          "EXACT",
          "EXACT",
          "EXACT",
          "NARROW",
          "EXACT",
          "EXACT",
          "EXACT",
          "EXACT",
          "EXACT",
          "EXACT",
          "EXACT",
          "EXACT",
          "EXACT",
          "EXACT",
          "EXACT",
          "NARROW",
          "EXACT",
          "EXACT",
          "EXACT",
          "EXACT",
          "EXACT",
          "EXACT",
          "EXACT",
          "EXACT",
          "EXACT",
          "EXACT",
          "EXACT",
          "EXACT",
          "EXACT",
          "COMPOSITE",
          "EXACT",
          "EXACT",
          "EXACT",
          "EXACT",
          "NARROW",
          "EXACT",
          "COMPOSITE",
          "EXACT",
          "EXACT",
          "EXACT",
          "EXACT",
          "EXACT",
          "EXACT",
          "EXACT",
          "EXACT",
          "EXACT",
          "EXACT",
          "EXACT",
          "EXACT",
          "EXACT",
          "EXACT",
          "EXACT",
          "EXACT",
          "EXACT",
          "EXACT",
          "EXACT",
          "EXACT",
          "EXACT",
          "EXACT",
          "EXACT",
          "EXACT",
          "EXACT",
          "COMPOSITE"
         ],
         "legendgroup": "",
         "name": "",
         "showlegend": true,
         "textinfo": "label+percent+value",
         "type": "pie"
        }
       ],
       "layout": {
        "annotations": [
         {
          "font": {
           "size": 16
          },
          "showarrow": false,
          "text": "Found Variables",
          "x": 0.14444444444444446,
          "xanchor": "center",
          "xref": "paper",
          "y": 1,
          "yanchor": "bottom",
          "yref": "paper"
         },
         {
          "font": {
           "size": 16
          },
          "showarrow": false,
          "text": "Semantic Tag Distribution",
          "x": 0.5,
          "xanchor": "center",
          "xref": "paper",
          "y": 1,
          "yanchor": "bottom",
          "yref": "paper"
         },
         {
          "font": {
           "size": 16
          },
          "showarrow": false,
          "text": "Semantic Relationship Distribution (Total Mentions)",
          "x": 0.8555555555555556,
          "xanchor": "center",
          "xref": "paper",
          "y": 1,
          "yanchor": "bottom",
          "yref": "paper"
         }
        ],
        "height": 600,
        "showlegend": false,
        "template": {
         "data": {
          "bar": [
           {
            "error_x": {
             "color": "#2a3f5f"
            },
            "error_y": {
             "color": "#2a3f5f"
            },
            "marker": {
             "line": {
              "color": "#E5ECF6",
              "width": 0.5
             },
             "pattern": {
              "fillmode": "overlay",
              "size": 10,
              "solidity": 0.2
             }
            },
            "type": "bar"
           }
          ],
          "barpolar": [
           {
            "marker": {
             "line": {
              "color": "#E5ECF6",
              "width": 0.5
             },
             "pattern": {
              "fillmode": "overlay",
              "size": 10,
              "solidity": 0.2
             }
            },
            "type": "barpolar"
           }
          ],
          "carpet": [
           {
            "aaxis": {
             "endlinecolor": "#2a3f5f",
             "gridcolor": "white",
             "linecolor": "white",
             "minorgridcolor": "white",
             "startlinecolor": "#2a3f5f"
            },
            "baxis": {
             "endlinecolor": "#2a3f5f",
             "gridcolor": "white",
             "linecolor": "white",
             "minorgridcolor": "white",
             "startlinecolor": "#2a3f5f"
            },
            "type": "carpet"
           }
          ],
          "choropleth": [
           {
            "colorbar": {
             "outlinewidth": 0,
             "ticks": ""
            },
            "type": "choropleth"
           }
          ],
          "contour": [
           {
            "colorbar": {
             "outlinewidth": 0,
             "ticks": ""
            },
            "colorscale": [
             [
              0,
              "#0d0887"
             ],
             [
              0.1111111111111111,
              "#46039f"
             ],
             [
              0.2222222222222222,
              "#7201a8"
             ],
             [
              0.3333333333333333,
              "#9c179e"
             ],
             [
              0.4444444444444444,
              "#bd3786"
             ],
             [
              0.5555555555555556,
              "#d8576b"
             ],
             [
              0.6666666666666666,
              "#ed7953"
             ],
             [
              0.7777777777777778,
              "#fb9f3a"
             ],
             [
              0.8888888888888888,
              "#fdca26"
             ],
             [
              1,
              "#f0f921"
             ]
            ],
            "type": "contour"
           }
          ],
          "contourcarpet": [
           {
            "colorbar": {
             "outlinewidth": 0,
             "ticks": ""
            },
            "type": "contourcarpet"
           }
          ],
          "heatmap": [
           {
            "colorbar": {
             "outlinewidth": 0,
             "ticks": ""
            },
            "colorscale": [
             [
              0,
              "#0d0887"
             ],
             [
              0.1111111111111111,
              "#46039f"
             ],
             [
              0.2222222222222222,
              "#7201a8"
             ],
             [
              0.3333333333333333,
              "#9c179e"
             ],
             [
              0.4444444444444444,
              "#bd3786"
             ],
             [
              0.5555555555555556,
              "#d8576b"
             ],
             [
              0.6666666666666666,
              "#ed7953"
             ],
             [
              0.7777777777777778,
              "#fb9f3a"
             ],
             [
              0.8888888888888888,
              "#fdca26"
             ],
             [
              1,
              "#f0f921"
             ]
            ],
            "type": "heatmap"
           }
          ],
          "heatmapgl": [
           {
            "colorbar": {
             "outlinewidth": 0,
             "ticks": ""
            },
            "colorscale": [
             [
              0,
              "#0d0887"
             ],
             [
              0.1111111111111111,
              "#46039f"
             ],
             [
              0.2222222222222222,
              "#7201a8"
             ],
             [
              0.3333333333333333,
              "#9c179e"
             ],
             [
              0.4444444444444444,
              "#bd3786"
             ],
             [
              0.5555555555555556,
              "#d8576b"
             ],
             [
              0.6666666666666666,
              "#ed7953"
             ],
             [
              0.7777777777777778,
              "#fb9f3a"
             ],
             [
              0.8888888888888888,
              "#fdca26"
             ],
             [
              1,
              "#f0f921"
             ]
            ],
            "type": "heatmapgl"
           }
          ],
          "histogram": [
           {
            "marker": {
             "pattern": {
              "fillmode": "overlay",
              "size": 10,
              "solidity": 0.2
             }
            },
            "type": "histogram"
           }
          ],
          "histogram2d": [
           {
            "colorbar": {
             "outlinewidth": 0,
             "ticks": ""
            },
            "colorscale": [
             [
              0,
              "#0d0887"
             ],
             [
              0.1111111111111111,
              "#46039f"
             ],
             [
              0.2222222222222222,
              "#7201a8"
             ],
             [
              0.3333333333333333,
              "#9c179e"
             ],
             [
              0.4444444444444444,
              "#bd3786"
             ],
             [
              0.5555555555555556,
              "#d8576b"
             ],
             [
              0.6666666666666666,
              "#ed7953"
             ],
             [
              0.7777777777777778,
              "#fb9f3a"
             ],
             [
              0.8888888888888888,
              "#fdca26"
             ],
             [
              1,
              "#f0f921"
             ]
            ],
            "type": "histogram2d"
           }
          ],
          "histogram2dcontour": [
           {
            "colorbar": {
             "outlinewidth": 0,
             "ticks": ""
            },
            "colorscale": [
             [
              0,
              "#0d0887"
             ],
             [
              0.1111111111111111,
              "#46039f"
             ],
             [
              0.2222222222222222,
              "#7201a8"
             ],
             [
              0.3333333333333333,
              "#9c179e"
             ],
             [
              0.4444444444444444,
              "#bd3786"
             ],
             [
              0.5555555555555556,
              "#d8576b"
             ],
             [
              0.6666666666666666,
              "#ed7953"
             ],
             [
              0.7777777777777778,
              "#fb9f3a"
             ],
             [
              0.8888888888888888,
              "#fdca26"
             ],
             [
              1,
              "#f0f921"
             ]
            ],
            "type": "histogram2dcontour"
           }
          ],
          "mesh3d": [
           {
            "colorbar": {
             "outlinewidth": 0,
             "ticks": ""
            },
            "type": "mesh3d"
           }
          ],
          "parcoords": [
           {
            "line": {
             "colorbar": {
              "outlinewidth": 0,
              "ticks": ""
             }
            },
            "type": "parcoords"
           }
          ],
          "pie": [
           {
            "automargin": true,
            "type": "pie"
           }
          ],
          "scatter": [
           {
            "fillpattern": {
             "fillmode": "overlay",
             "size": 10,
             "solidity": 0.2
            },
            "type": "scatter"
           }
          ],
          "scatter3d": [
           {
            "line": {
             "colorbar": {
              "outlinewidth": 0,
              "ticks": ""
             }
            },
            "marker": {
             "colorbar": {
              "outlinewidth": 0,
              "ticks": ""
             }
            },
            "type": "scatter3d"
           }
          ],
          "scattercarpet": [
           {
            "marker": {
             "colorbar": {
              "outlinewidth": 0,
              "ticks": ""
             }
            },
            "type": "scattercarpet"
           }
          ],
          "scattergeo": [
           {
            "marker": {
             "colorbar": {
              "outlinewidth": 0,
              "ticks": ""
             }
            },
            "type": "scattergeo"
           }
          ],
          "scattergl": [
           {
            "marker": {
             "colorbar": {
              "outlinewidth": 0,
              "ticks": ""
             }
            },
            "type": "scattergl"
           }
          ],
          "scattermapbox": [
           {
            "marker": {
             "colorbar": {
              "outlinewidth": 0,
              "ticks": ""
             }
            },
            "type": "scattermapbox"
           }
          ],
          "scatterpolar": [
           {
            "marker": {
             "colorbar": {
              "outlinewidth": 0,
              "ticks": ""
             }
            },
            "type": "scatterpolar"
           }
          ],
          "scatterpolargl": [
           {
            "marker": {
             "colorbar": {
              "outlinewidth": 0,
              "ticks": ""
             }
            },
            "type": "scatterpolargl"
           }
          ],
          "scatterternary": [
           {
            "marker": {
             "colorbar": {
              "outlinewidth": 0,
              "ticks": ""
             }
            },
            "type": "scatterternary"
           }
          ],
          "surface": [
           {
            "colorbar": {
             "outlinewidth": 0,
             "ticks": ""
            },
            "colorscale": [
             [
              0,
              "#0d0887"
             ],
             [
              0.1111111111111111,
              "#46039f"
             ],
             [
              0.2222222222222222,
              "#7201a8"
             ],
             [
              0.3333333333333333,
              "#9c179e"
             ],
             [
              0.4444444444444444,
              "#bd3786"
             ],
             [
              0.5555555555555556,
              "#d8576b"
             ],
             [
              0.6666666666666666,
              "#ed7953"
             ],
             [
              0.7777777777777778,
              "#fb9f3a"
             ],
             [
              0.8888888888888888,
              "#fdca26"
             ],
             [
              1,
              "#f0f921"
             ]
            ],
            "type": "surface"
           }
          ],
          "table": [
           {
            "cells": {
             "fill": {
              "color": "#EBF0F8"
             },
             "line": {
              "color": "white"
             }
            },
            "header": {
             "fill": {
              "color": "#C8D4E3"
             },
             "line": {
              "color": "white"
             }
            },
            "type": "table"
           }
          ]
         },
         "layout": {
          "annotationdefaults": {
           "arrowcolor": "#2a3f5f",
           "arrowhead": 0,
           "arrowwidth": 1
          },
          "autotypenumbers": "strict",
          "coloraxis": {
           "colorbar": {
            "outlinewidth": 0,
            "ticks": ""
           }
          },
          "colorscale": {
           "diverging": [
            [
             0,
             "#8e0152"
            ],
            [
             0.1,
             "#c51b7d"
            ],
            [
             0.2,
             "#de77ae"
            ],
            [
             0.3,
             "#f1b6da"
            ],
            [
             0.4,
             "#fde0ef"
            ],
            [
             0.5,
             "#f7f7f7"
            ],
            [
             0.6,
             "#e6f5d0"
            ],
            [
             0.7,
             "#b8e186"
            ],
            [
             0.8,
             "#7fbc41"
            ],
            [
             0.9,
             "#4d9221"
            ],
            [
             1,
             "#276419"
            ]
           ],
           "sequential": [
            [
             0,
             "#0d0887"
            ],
            [
             0.1111111111111111,
             "#46039f"
            ],
            [
             0.2222222222222222,
             "#7201a8"
            ],
            [
             0.3333333333333333,
             "#9c179e"
            ],
            [
             0.4444444444444444,
             "#bd3786"
            ],
            [
             0.5555555555555556,
             "#d8576b"
            ],
            [
             0.6666666666666666,
             "#ed7953"
            ],
            [
             0.7777777777777778,
             "#fb9f3a"
            ],
            [
             0.8888888888888888,
             "#fdca26"
            ],
            [
             1,
             "#f0f921"
            ]
           ],
           "sequentialminus": [
            [
             0,
             "#0d0887"
            ],
            [
             0.1111111111111111,
             "#46039f"
            ],
            [
             0.2222222222222222,
             "#7201a8"
            ],
            [
             0.3333333333333333,
             "#9c179e"
            ],
            [
             0.4444444444444444,
             "#bd3786"
            ],
            [
             0.5555555555555556,
             "#d8576b"
            ],
            [
             0.6666666666666666,
             "#ed7953"
            ],
            [
             0.7777777777777778,
             "#fb9f3a"
            ],
            [
             0.8888888888888888,
             "#fdca26"
            ],
            [
             1,
             "#f0f921"
            ]
           ]
          },
          "colorway": [
           "#636efa",
           "#EF553B",
           "#00cc96",
           "#ab63fa",
           "#FFA15A",
           "#19d3f3",
           "#FF6692",
           "#B6E880",
           "#FF97FF",
           "#FECB52"
          ],
          "font": {
           "color": "#2a3f5f"
          },
          "geo": {
           "bgcolor": "white",
           "lakecolor": "white",
           "landcolor": "#E5ECF6",
           "showlakes": true,
           "showland": true,
           "subunitcolor": "white"
          },
          "hoverlabel": {
           "align": "left"
          },
          "hovermode": "closest",
          "mapbox": {
           "style": "light"
          },
          "paper_bgcolor": "white",
          "plot_bgcolor": "#E5ECF6",
          "polar": {
           "angularaxis": {
            "gridcolor": "white",
            "linecolor": "white",
            "ticks": ""
           },
           "bgcolor": "#E5ECF6",
           "radialaxis": {
            "gridcolor": "white",
            "linecolor": "white",
            "ticks": ""
           }
          },
          "scene": {
           "xaxis": {
            "backgroundcolor": "#E5ECF6",
            "gridcolor": "white",
            "gridwidth": 2,
            "linecolor": "white",
            "showbackground": true,
            "ticks": "",
            "zerolinecolor": "white"
           },
           "yaxis": {
            "backgroundcolor": "#E5ECF6",
            "gridcolor": "white",
            "gridwidth": 2,
            "linecolor": "white",
            "showbackground": true,
            "ticks": "",
            "zerolinecolor": "white"
           },
           "zaxis": {
            "backgroundcolor": "#E5ECF6",
            "gridcolor": "white",
            "gridwidth": 2,
            "linecolor": "white",
            "showbackground": true,
            "ticks": "",
            "zerolinecolor": "white"
           }
          },
          "shapedefaults": {
           "line": {
            "color": "#2a3f5f"
           }
          },
          "ternary": {
           "aaxis": {
            "gridcolor": "white",
            "linecolor": "white",
            "ticks": ""
           },
           "baxis": {
            "gridcolor": "white",
            "linecolor": "white",
            "ticks": ""
           },
           "bgcolor": "#E5ECF6",
           "caxis": {
            "gridcolor": "white",
            "linecolor": "white",
            "ticks": ""
           }
          },
          "title": {
           "x": 0.05
          },
          "xaxis": {
           "automargin": true,
           "gridcolor": "white",
           "linecolor": "white",
           "ticks": "",
           "title": {
            "standoff": 15
           },
           "zerolinecolor": "white",
           "zerolinewidth": 2
          },
          "yaxis": {
           "automargin": true,
           "gridcolor": "white",
           "linecolor": "white",
           "ticks": "",
           "title": {
            "standoff": 15
           },
           "zerolinecolor": "white",
           "zerolinewidth": 2
          }
         }
        },
        "title": {
         "text": "Distribution of Semantic Relationships and Found Codes"
        }
       }
      }
     },
     "metadata": {},
     "output_type": "display_data"
    },
    {
     "data": {
      "application/vnd.plotly.v1+json": {
       "config": {
        "plotlyServerURL": "https://plot.ly"
       },
       "data": [
        {
         "alignmentgroup": "True",
         "hovertemplate": "semantic_rel=EXACT<br>Count=%{x}<br>Name=%{y}<extra></extra>",
         "legendgroup": "EXACT",
         "marker": {
          "color": "#636efa",
          "pattern": {
           "shape": ""
          }
         },
         "name": "EXACT",
         "offsetgroup": "EXACT",
         "orientation": "h",
         "showlegend": true,
         "textposition": "auto",
         "type": "bar",
         "x": [
          1,
          1,
          1,
          0,
          1,
          1,
          1,
          2,
          4,
          5,
          4,
          7,
          7,
          8,
          11,
          14,
          15,
          15,
          15,
          23,
          38,
          64
         ],
         "xaxis": "x",
         "y": [
          "DT4HSign-24-tachycardia (Tachycardia )",
          "DT4HSign-16-hepatojugular reflux ( Hepatojugular reflux )",
          "DT4HSign-20-cardiac murmur ( Heart murmur )",
          "DT4HSign-9-nocturnal cough (Nocturnal cough )",
          "DT4HSign-15-elevated jugular venous pressure ( Raised jugular venous pressure )",
          "DT4HSign-25-irregular pulse ( Pulse irregular )",
          "DT4HSign-17-third heart sound ( Third heart sound )",
          "DT4HSign-23-pleural effusion ( Pleural effusion )",
          "DT4HSign-11-depression (Depressed mood )",
          "DT4HSign-4-orthopnoea (Orthopnea )",
          "DT4HSign-28-hepatomegaly (Large liver )",
          "DT4HSign-22-pulmonary crepitations ( Respiratory crackles )",
          "DT4HSign-14-syncope ( Syncope )",
          "DT4HSign-12-palpitation ( Palpitations )",
          "DT4HSign-30-oliguria ( Oliguria )",
          "DT4HSign-7-fatigue (Fatigue )",
          "DT4HSign-2-Chest pain ( Chest pain )",
          "DT4HSign-29-ascites ( Ascites )",
          "DT4HSign-26-tachypneoea (Tachypnea )",
          "DT4HSign-13-dizziness ( Dizziness )",
          "DT4HSign-10-loss of appetite (Loss of appetite )",
          "DT4HSign-19-weight loss  ( Weight loss )"
         ],
         "yaxis": "y"
        },
        {
         "alignmentgroup": "True",
         "hovertemplate": "semantic_rel=NARROW<br>Count=%{x}<br>Name=%{y}<extra></extra>",
         "legendgroup": "NARROW",
         "marker": {
          "color": "#EF553B",
          "pattern": {
           "shape": ""
          }
         },
         "name": "NARROW",
         "offsetgroup": "NARROW",
         "orientation": "h",
         "showlegend": true,
         "textposition": "auto",
         "type": "bar",
         "x": [
          0,
          0,
          0,
          0,
          0,
          0,
          0,
          0,
          0,
          0,
          2,
          0,
          0,
          0,
          0,
          0,
          0,
          0,
          2,
          0,
          0,
          0
         ],
         "xaxis": "x",
         "y": [
          "DT4HSign-15-elevated jugular venous pressure ( Raised jugular venous pressure )",
          "DT4HSign-25-irregular pulse ( Pulse irregular )",
          "DT4HSign-24-tachycardia (Tachycardia )",
          "DT4HSign-17-third heart sound ( Third heart sound )",
          "DT4HSign-16-hepatojugular reflux ( Hepatojugular reflux )",
          "DT4HSign-20-cardiac murmur ( Heart murmur )",
          "DT4HSign-9-nocturnal cough (Nocturnal cough )",
          "DT4HSign-23-pleural effusion ( Pleural effusion )",
          "DT4HSign-11-depression (Depressed mood )",
          "DT4HSign-4-orthopnoea (Orthopnea )",
          "DT4HSign-28-hepatomegaly (Large liver )",
          "DT4HSign-14-syncope ( Syncope )",
          "DT4HSign-22-pulmonary crepitations ( Respiratory crackles )",
          "DT4HSign-12-palpitation ( Palpitations )",
          "DT4HSign-30-oliguria ( Oliguria )",
          "DT4HSign-7-fatigue (Fatigue )",
          "DT4HSign-2-Chest pain ( Chest pain )",
          "DT4HSign-29-ascites ( Ascites )",
          "DT4HSign-26-tachypneoea (Tachypnea )",
          "DT4HSign-13-dizziness ( Dizziness )",
          "DT4HSign-10-loss of appetite (Loss of appetite )",
          "DT4HSign-19-weight loss  ( Weight loss )"
         ],
         "yaxis": "y"
        },
        {
         "alignmentgroup": "True",
         "hovertemplate": "semantic_rel=COMPOSITE<br>Count=%{x}<br>Name=%{y}<extra></extra>",
         "legendgroup": "COMPOSITE",
         "marker": {
          "color": "#00cc96",
          "pattern": {
           "shape": ""
          }
         },
         "name": "COMPOSITE",
         "offsetgroup": "COMPOSITE",
         "orientation": "h",
         "showlegend": true,
         "textposition": "auto",
         "type": "bar",
         "x": [
          0,
          1,
          0,
          0,
          0,
          0,
          0,
          0,
          0,
          0,
          0,
          0,
          0,
          0,
          0,
          0,
          0,
          0,
          0,
          0,
          25,
          0
         ],
         "xaxis": "x",
         "y": [
          "DT4HSign-15-elevated jugular venous pressure ( Raised jugular venous pressure )",
          "DT4HSign-9-nocturnal cough (Nocturnal cough )",
          "DT4HSign-20-cardiac murmur ( Heart murmur )",
          "DT4HSign-16-hepatojugular reflux ( Hepatojugular reflux )",
          "DT4HSign-24-tachycardia (Tachycardia )",
          "DT4HSign-17-third heart sound ( Third heart sound )",
          "DT4HSign-25-irregular pulse ( Pulse irregular )",
          "DT4HSign-23-pleural effusion ( Pleural effusion )",
          "DT4HSign-11-depression (Depressed mood )",
          "DT4HSign-4-orthopnoea (Orthopnea )",
          "DT4HSign-28-hepatomegaly (Large liver )",
          "DT4HSign-22-pulmonary crepitations ( Respiratory crackles )",
          "DT4HSign-14-syncope ( Syncope )",
          "DT4HSign-12-palpitation ( Palpitations )",
          "DT4HSign-30-oliguria ( Oliguria )",
          "DT4HSign-7-fatigue (Fatigue )",
          "DT4HSign-29-ascites ( Ascites )",
          "DT4HSign-2-Chest pain ( Chest pain )",
          "DT4HSign-26-tachypneoea (Tachypnea )",
          "DT4HSign-13-dizziness ( Dizziness )",
          "DT4HSign-10-loss of appetite (Loss of appetite )",
          "DT4HSign-19-weight loss  ( Weight loss )"
         ],
         "yaxis": "y"
        },
        {
         "alignmentgroup": "True",
         "hovertemplate": "semantic_rel=NOT_FOUND<br>Count=%{x}<br>Name=%{y}<extra></extra>",
         "legendgroup": "NOT_FOUND",
         "marker": {
          "color": "#ab63fa",
          "pattern": {
           "shape": ""
          }
         },
         "name": "NOT_FOUND",
         "offsetgroup": "NOT_FOUND",
         "orientation": "h",
         "showlegend": true,
         "textposition": "auto",
         "type": "bar",
         "x": [
          0,
          0,
          0,
          0,
          0,
          0,
          0,
          0,
          0,
          0,
          0,
          0,
          0,
          0,
          0,
          0,
          0,
          0,
          0,
          0,
          0,
          0
         ],
         "xaxis": "x",
         "y": [
          "DT4HSign-16-hepatojugular reflux ( Hepatojugular reflux )",
          "DT4HSign-9-nocturnal cough (Nocturnal cough )",
          "DT4HSign-15-elevated jugular venous pressure ( Raised jugular venous pressure )",
          "DT4HSign-20-cardiac murmur ( Heart murmur )",
          "DT4HSign-24-tachycardia (Tachycardia )",
          "DT4HSign-25-irregular pulse ( Pulse irregular )",
          "DT4HSign-17-third heart sound ( Third heart sound )",
          "DT4HSign-23-pleural effusion ( Pleural effusion )",
          "DT4HSign-11-depression (Depressed mood )",
          "DT4HSign-4-orthopnoea (Orthopnea )",
          "DT4HSign-28-hepatomegaly (Large liver )",
          "DT4HSign-22-pulmonary crepitations ( Respiratory crackles )",
          "DT4HSign-14-syncope ( Syncope )",
          "DT4HSign-12-palpitation ( Palpitations )",
          "DT4HSign-30-oliguria ( Oliguria )",
          "DT4HSign-7-fatigue (Fatigue )",
          "DT4HSign-29-ascites ( Ascites )",
          "DT4HSign-2-Chest pain ( Chest pain )",
          "DT4HSign-26-tachypneoea (Tachypnea )",
          "DT4HSign-13-dizziness ( Dizziness )",
          "DT4HSign-10-loss of appetite (Loss of appetite )",
          "DT4HSign-19-weight loss  ( Weight loss )"
         ],
         "yaxis": "y"
        }
       ],
       "layout": {
        "barmode": "relative",
        "height": 600,
        "legend": {
         "title": {
          "text": "semantic_rel"
         },
         "tracegroupgap": 0
        },
        "template": {
         "data": {
          "bar": [
           {
            "error_x": {
             "color": "#2a3f5f"
            },
            "error_y": {
             "color": "#2a3f5f"
            },
            "marker": {
             "line": {
              "color": "#E5ECF6",
              "width": 0.5
             },
             "pattern": {
              "fillmode": "overlay",
              "size": 10,
              "solidity": 0.2
             }
            },
            "type": "bar"
           }
          ],
          "barpolar": [
           {
            "marker": {
             "line": {
              "color": "#E5ECF6",
              "width": 0.5
             },
             "pattern": {
              "fillmode": "overlay",
              "size": 10,
              "solidity": 0.2
             }
            },
            "type": "barpolar"
           }
          ],
          "carpet": [
           {
            "aaxis": {
             "endlinecolor": "#2a3f5f",
             "gridcolor": "white",
             "linecolor": "white",
             "minorgridcolor": "white",
             "startlinecolor": "#2a3f5f"
            },
            "baxis": {
             "endlinecolor": "#2a3f5f",
             "gridcolor": "white",
             "linecolor": "white",
             "minorgridcolor": "white",
             "startlinecolor": "#2a3f5f"
            },
            "type": "carpet"
           }
          ],
          "choropleth": [
           {
            "colorbar": {
             "outlinewidth": 0,
             "ticks": ""
            },
            "type": "choropleth"
           }
          ],
          "contour": [
           {
            "colorbar": {
             "outlinewidth": 0,
             "ticks": ""
            },
            "colorscale": [
             [
              0,
              "#0d0887"
             ],
             [
              0.1111111111111111,
              "#46039f"
             ],
             [
              0.2222222222222222,
              "#7201a8"
             ],
             [
              0.3333333333333333,
              "#9c179e"
             ],
             [
              0.4444444444444444,
              "#bd3786"
             ],
             [
              0.5555555555555556,
              "#d8576b"
             ],
             [
              0.6666666666666666,
              "#ed7953"
             ],
             [
              0.7777777777777778,
              "#fb9f3a"
             ],
             [
              0.8888888888888888,
              "#fdca26"
             ],
             [
              1,
              "#f0f921"
             ]
            ],
            "type": "contour"
           }
          ],
          "contourcarpet": [
           {
            "colorbar": {
             "outlinewidth": 0,
             "ticks": ""
            },
            "type": "contourcarpet"
           }
          ],
          "heatmap": [
           {
            "colorbar": {
             "outlinewidth": 0,
             "ticks": ""
            },
            "colorscale": [
             [
              0,
              "#0d0887"
             ],
             [
              0.1111111111111111,
              "#46039f"
             ],
             [
              0.2222222222222222,
              "#7201a8"
             ],
             [
              0.3333333333333333,
              "#9c179e"
             ],
             [
              0.4444444444444444,
              "#bd3786"
             ],
             [
              0.5555555555555556,
              "#d8576b"
             ],
             [
              0.6666666666666666,
              "#ed7953"
             ],
             [
              0.7777777777777778,
              "#fb9f3a"
             ],
             [
              0.8888888888888888,
              "#fdca26"
             ],
             [
              1,
              "#f0f921"
             ]
            ],
            "type": "heatmap"
           }
          ],
          "heatmapgl": [
           {
            "colorbar": {
             "outlinewidth": 0,
             "ticks": ""
            },
            "colorscale": [
             [
              0,
              "#0d0887"
             ],
             [
              0.1111111111111111,
              "#46039f"
             ],
             [
              0.2222222222222222,
              "#7201a8"
             ],
             [
              0.3333333333333333,
              "#9c179e"
             ],
             [
              0.4444444444444444,
              "#bd3786"
             ],
             [
              0.5555555555555556,
              "#d8576b"
             ],
             [
              0.6666666666666666,
              "#ed7953"
             ],
             [
              0.7777777777777778,
              "#fb9f3a"
             ],
             [
              0.8888888888888888,
              "#fdca26"
             ],
             [
              1,
              "#f0f921"
             ]
            ],
            "type": "heatmapgl"
           }
          ],
          "histogram": [
           {
            "marker": {
             "pattern": {
              "fillmode": "overlay",
              "size": 10,
              "solidity": 0.2
             }
            },
            "type": "histogram"
           }
          ],
          "histogram2d": [
           {
            "colorbar": {
             "outlinewidth": 0,
             "ticks": ""
            },
            "colorscale": [
             [
              0,
              "#0d0887"
             ],
             [
              0.1111111111111111,
              "#46039f"
             ],
             [
              0.2222222222222222,
              "#7201a8"
             ],
             [
              0.3333333333333333,
              "#9c179e"
             ],
             [
              0.4444444444444444,
              "#bd3786"
             ],
             [
              0.5555555555555556,
              "#d8576b"
             ],
             [
              0.6666666666666666,
              "#ed7953"
             ],
             [
              0.7777777777777778,
              "#fb9f3a"
             ],
             [
              0.8888888888888888,
              "#fdca26"
             ],
             [
              1,
              "#f0f921"
             ]
            ],
            "type": "histogram2d"
           }
          ],
          "histogram2dcontour": [
           {
            "colorbar": {
             "outlinewidth": 0,
             "ticks": ""
            },
            "colorscale": [
             [
              0,
              "#0d0887"
             ],
             [
              0.1111111111111111,
              "#46039f"
             ],
             [
              0.2222222222222222,
              "#7201a8"
             ],
             [
              0.3333333333333333,
              "#9c179e"
             ],
             [
              0.4444444444444444,
              "#bd3786"
             ],
             [
              0.5555555555555556,
              "#d8576b"
             ],
             [
              0.6666666666666666,
              "#ed7953"
             ],
             [
              0.7777777777777778,
              "#fb9f3a"
             ],
             [
              0.8888888888888888,
              "#fdca26"
             ],
             [
              1,
              "#f0f921"
             ]
            ],
            "type": "histogram2dcontour"
           }
          ],
          "mesh3d": [
           {
            "colorbar": {
             "outlinewidth": 0,
             "ticks": ""
            },
            "type": "mesh3d"
           }
          ],
          "parcoords": [
           {
            "line": {
             "colorbar": {
              "outlinewidth": 0,
              "ticks": ""
             }
            },
            "type": "parcoords"
           }
          ],
          "pie": [
           {
            "automargin": true,
            "type": "pie"
           }
          ],
          "scatter": [
           {
            "fillpattern": {
             "fillmode": "overlay",
             "size": 10,
             "solidity": 0.2
            },
            "type": "scatter"
           }
          ],
          "scatter3d": [
           {
            "line": {
             "colorbar": {
              "outlinewidth": 0,
              "ticks": ""
             }
            },
            "marker": {
             "colorbar": {
              "outlinewidth": 0,
              "ticks": ""
             }
            },
            "type": "scatter3d"
           }
          ],
          "scattercarpet": [
           {
            "marker": {
             "colorbar": {
              "outlinewidth": 0,
              "ticks": ""
             }
            },
            "type": "scattercarpet"
           }
          ],
          "scattergeo": [
           {
            "marker": {
             "colorbar": {
              "outlinewidth": 0,
              "ticks": ""
             }
            },
            "type": "scattergeo"
           }
          ],
          "scattergl": [
           {
            "marker": {
             "colorbar": {
              "outlinewidth": 0,
              "ticks": ""
             }
            },
            "type": "scattergl"
           }
          ],
          "scattermapbox": [
           {
            "marker": {
             "colorbar": {
              "outlinewidth": 0,
              "ticks": ""
             }
            },
            "type": "scattermapbox"
           }
          ],
          "scatterpolar": [
           {
            "marker": {
             "colorbar": {
              "outlinewidth": 0,
              "ticks": ""
             }
            },
            "type": "scatterpolar"
           }
          ],
          "scatterpolargl": [
           {
            "marker": {
             "colorbar": {
              "outlinewidth": 0,
              "ticks": ""
             }
            },
            "type": "scatterpolargl"
           }
          ],
          "scatterternary": [
           {
            "marker": {
             "colorbar": {
              "outlinewidth": 0,
              "ticks": ""
             }
            },
            "type": "scatterternary"
           }
          ],
          "surface": [
           {
            "colorbar": {
             "outlinewidth": 0,
             "ticks": ""
            },
            "colorscale": [
             [
              0,
              "#0d0887"
             ],
             [
              0.1111111111111111,
              "#46039f"
             ],
             [
              0.2222222222222222,
              "#7201a8"
             ],
             [
              0.3333333333333333,
              "#9c179e"
             ],
             [
              0.4444444444444444,
              "#bd3786"
             ],
             [
              0.5555555555555556,
              "#d8576b"
             ],
             [
              0.6666666666666666,
              "#ed7953"
             ],
             [
              0.7777777777777778,
              "#fb9f3a"
             ],
             [
              0.8888888888888888,
              "#fdca26"
             ],
             [
              1,
              "#f0f921"
             ]
            ],
            "type": "surface"
           }
          ],
          "table": [
           {
            "cells": {
             "fill": {
              "color": "#EBF0F8"
             },
             "line": {
              "color": "white"
             }
            },
            "header": {
             "fill": {
              "color": "#C8D4E3"
             },
             "line": {
              "color": "white"
             }
            },
            "type": "table"
           }
          ]
         },
         "layout": {
          "annotationdefaults": {
           "arrowcolor": "#2a3f5f",
           "arrowhead": 0,
           "arrowwidth": 1
          },
          "autotypenumbers": "strict",
          "coloraxis": {
           "colorbar": {
            "outlinewidth": 0,
            "ticks": ""
           }
          },
          "colorscale": {
           "diverging": [
            [
             0,
             "#8e0152"
            ],
            [
             0.1,
             "#c51b7d"
            ],
            [
             0.2,
             "#de77ae"
            ],
            [
             0.3,
             "#f1b6da"
            ],
            [
             0.4,
             "#fde0ef"
            ],
            [
             0.5,
             "#f7f7f7"
            ],
            [
             0.6,
             "#e6f5d0"
            ],
            [
             0.7,
             "#b8e186"
            ],
            [
             0.8,
             "#7fbc41"
            ],
            [
             0.9,
             "#4d9221"
            ],
            [
             1,
             "#276419"
            ]
           ],
           "sequential": [
            [
             0,
             "#0d0887"
            ],
            [
             0.1111111111111111,
             "#46039f"
            ],
            [
             0.2222222222222222,
             "#7201a8"
            ],
            [
             0.3333333333333333,
             "#9c179e"
            ],
            [
             0.4444444444444444,
             "#bd3786"
            ],
            [
             0.5555555555555556,
             "#d8576b"
            ],
            [
             0.6666666666666666,
             "#ed7953"
            ],
            [
             0.7777777777777778,
             "#fb9f3a"
            ],
            [
             0.8888888888888888,
             "#fdca26"
            ],
            [
             1,
             "#f0f921"
            ]
           ],
           "sequentialminus": [
            [
             0,
             "#0d0887"
            ],
            [
             0.1111111111111111,
             "#46039f"
            ],
            [
             0.2222222222222222,
             "#7201a8"
            ],
            [
             0.3333333333333333,
             "#9c179e"
            ],
            [
             0.4444444444444444,
             "#bd3786"
            ],
            [
             0.5555555555555556,
             "#d8576b"
            ],
            [
             0.6666666666666666,
             "#ed7953"
            ],
            [
             0.7777777777777778,
             "#fb9f3a"
            ],
            [
             0.8888888888888888,
             "#fdca26"
            ],
            [
             1,
             "#f0f921"
            ]
           ]
          },
          "colorway": [
           "#636efa",
           "#EF553B",
           "#00cc96",
           "#ab63fa",
           "#FFA15A",
           "#19d3f3",
           "#FF6692",
           "#B6E880",
           "#FF97FF",
           "#FECB52"
          ],
          "font": {
           "color": "#2a3f5f"
          },
          "geo": {
           "bgcolor": "white",
           "lakecolor": "white",
           "landcolor": "#E5ECF6",
           "showlakes": true,
           "showland": true,
           "subunitcolor": "white"
          },
          "hoverlabel": {
           "align": "left"
          },
          "hovermode": "closest",
          "mapbox": {
           "style": "light"
          },
          "paper_bgcolor": "white",
          "plot_bgcolor": "#E5ECF6",
          "polar": {
           "angularaxis": {
            "gridcolor": "white",
            "linecolor": "white",
            "ticks": ""
           },
           "bgcolor": "#E5ECF6",
           "radialaxis": {
            "gridcolor": "white",
            "linecolor": "white",
            "ticks": ""
           }
          },
          "scene": {
           "xaxis": {
            "backgroundcolor": "#E5ECF6",
            "gridcolor": "white",
            "gridwidth": 2,
            "linecolor": "white",
            "showbackground": true,
            "ticks": "",
            "zerolinecolor": "white"
           },
           "yaxis": {
            "backgroundcolor": "#E5ECF6",
            "gridcolor": "white",
            "gridwidth": 2,
            "linecolor": "white",
            "showbackground": true,
            "ticks": "",
            "zerolinecolor": "white"
           },
           "zaxis": {
            "backgroundcolor": "#E5ECF6",
            "gridcolor": "white",
            "gridwidth": 2,
            "linecolor": "white",
            "showbackground": true,
            "ticks": "",
            "zerolinecolor": "white"
           }
          },
          "shapedefaults": {
           "line": {
            "color": "#2a3f5f"
           }
          },
          "ternary": {
           "aaxis": {
            "gridcolor": "white",
            "linecolor": "white",
            "ticks": ""
           },
           "baxis": {
            "gridcolor": "white",
            "linecolor": "white",
            "ticks": ""
           },
           "bgcolor": "#E5ECF6",
           "caxis": {
            "gridcolor": "white",
            "linecolor": "white",
            "ticks": ""
           }
          },
          "title": {
           "x": 0.05
          },
          "xaxis": {
           "automargin": true,
           "gridcolor": "white",
           "linecolor": "white",
           "ticks": "",
           "title": {
            "standoff": 15
           },
           "zerolinecolor": "white",
           "zerolinewidth": 2
          },
          "yaxis": {
           "automargin": true,
           "gridcolor": "white",
           "linecolor": "white",
           "ticks": "",
           "title": {
            "standoff": 15
           },
           "zerolinecolor": "white",
           "zerolinewidth": 2
          }
         }
        },
        "title": {
         "text": "Codes by Semantic Relationship [Variable Name (SNOMED term)]"
        },
        "xaxis": {
         "anchor": "y",
         "domain": [
          0,
          1
         ],
         "title": {
          "text": "Count"
         }
        },
        "yaxis": {
         "anchor": "x",
         "domain": [
          0,
          1
         ],
         "title": {
          "text": "Name"
         }
        }
       }
      }
     },
     "metadata": {},
     "output_type": "display_data"
    },
    {
     "name": "stdout",
     "output_type": "stream",
     "text": [
      "|    | ID          | name             |      code | span                    | term             | semantic_rel   | semantic_tag   |   count | found   |   count_ID |   COMPOSITE |   EXACT |   NARROW |   NOT_FOUND | ID+term                                          |\n",
      "|---:|:------------|:-----------------|----------:|:------------------------|:-----------------|:---------------|:---------------|--------:|:--------|-----------:|------------:|--------:|---------:|------------:|:-------------------------------------------------|\n",
      "|  0 | DT4HSign-19 | weight loss      |  89362005 | pérdida de peso         | Weight loss      | EXACT          | finding        |      34 | True    |         64 |           0 |      64 |        0 |           0 | DT4HSign-19-weight loss  ( Weight loss )         |\n",
      "|  1 | DT4HSign-10 | loss of appetite |  79890006 | anorexia                | Loss of appetite | EXACT          | finding        |      30 | True    |         63 |          25 |      38 |        0 |           0 | DT4HSign-10-loss of appetite (Loss of appetite ) |\n",
      "|  2 | DT4HSign-13 | dizziness        | 404640003 | mareo                   | Dizziness        | EXACT          | finding        |      20 | True    |         23 |           0 |      23 |        0 |           0 | DT4HSign-13-dizziness ( Dizziness )              |\n",
      "|  3 | DT4HSign-10 | loss of appetite |  79890006 | síndrome constitucional | Loss of appetite | COMPOSITE      | finding        |      15 | True    |         63 |          25 |      38 |        0 |           0 | DT4HSign-10-loss of appetite (Loss of appetite ) |\n",
      "|  4 | DT4HSign-2  | Chest pain       |  29857009 | dolor torácico          | Chest pain       | EXACT          | finding        |      13 | True    |         15 |           0 |      15 |        0 |           0 | DT4HSign-2-Chest pain ( Chest pain )             |\n"
     ]
    },
    {
     "data": {
      "application/vnd.plotly.v1+json": {
       "config": {
        "plotlyServerURL": "https://plot.ly"
       },
       "data": [
        {
         "alignmentgroup": "True",
         "customdata": [
          [
           "EXACT"
          ]
         ],
         "hovertemplate": "span=tercer ruido<br>Count=%{x}<br>Name=%{y}<br>Semantic Relationship=%{customdata[0]}<extra></extra>",
         "legendgroup": "tercer ruido",
         "marker": {
          "color": "#636efa",
          "pattern": {
           "shape": ""
          }
         },
         "name": "tercer ruido",
         "offsetgroup": "tercer ruido",
         "orientation": "h",
         "showlegend": true,
         "textposition": "auto",
         "type": "bar",
         "x": [
          1
         ],
         "xaxis": "x",
         "y": [
          "DT4HSign-17-third heart sound ( Third heart sound )"
         ],
         "yaxis": "y"
        },
        {
         "alignmentgroup": "True",
         "customdata": [
          [
           "COMPOSITE"
          ]
         ],
         "hovertemplate": "span=tos de predominio vespertino y nocturno<br>Count=%{x}<br>Name=%{y}<br>Semantic Relationship=%{customdata[0]}<extra></extra>",
         "legendgroup": "tos de predominio vespertino y nocturno",
         "marker": {
          "color": "#EF553B",
          "pattern": {
           "shape": ""
          }
         },
         "name": "tos de predominio vespertino y nocturno",
         "offsetgroup": "tos de predominio vespertino y nocturno",
         "orientation": "h",
         "showlegend": true,
         "textposition": "auto",
         "type": "bar",
         "x": [
          1
         ],
         "xaxis": "x",
         "y": [
          "DT4HSign-9-nocturnal cough (Nocturnal cough )"
         ],
         "yaxis": "y"
        },
        {
         "alignmentgroup": "True",
         "customdata": [
          [
           "EXACT"
          ]
         ],
         "hovertemplate": "span=soplo cardíaco<br>Count=%{x}<br>Name=%{y}<br>Semantic Relationship=%{customdata[0]}<extra></extra>",
         "legendgroup": "soplo cardíaco",
         "marker": {
          "color": "#00cc96",
          "pattern": {
           "shape": ""
          }
         },
         "name": "soplo cardíaco",
         "offsetgroup": "soplo cardíaco",
         "orientation": "h",
         "showlegend": true,
         "textposition": "auto",
         "type": "bar",
         "x": [
          1
         ],
         "xaxis": "x",
         "y": [
          "DT4HSign-20-cardiac murmur ( Heart murmur )"
         ],
         "yaxis": "y"
        },
        {
         "alignmentgroup": "True",
         "customdata": [
          [
           "EXACT"
          ]
         ],
         "hovertemplate": "span=aumento de la presión venosa yugular<br>Count=%{x}<br>Name=%{y}<br>Semantic Relationship=%{customdata[0]}<extra></extra>",
         "legendgroup": "aumento de la presión venosa yugular",
         "marker": {
          "color": "#ab63fa",
          "pattern": {
           "shape": ""
          }
         },
         "name": "aumento de la presión venosa yugular",
         "offsetgroup": "aumento de la presión venosa yugular",
         "orientation": "h",
         "showlegend": true,
         "textposition": "auto",
         "type": "bar",
         "x": [
          1
         ],
         "xaxis": "x",
         "y": [
          "DT4HSign-15-elevated jugular venous pressure ( Raised jugular venous pressure )"
         ],
         "yaxis": "y"
        },
        {
         "alignmentgroup": "True",
         "customdata": [
          [
           "EXACT"
          ]
         ],
         "hovertemplate": "span=pulso arritmico<br>Count=%{x}<br>Name=%{y}<br>Semantic Relationship=%{customdata[0]}<extra></extra>",
         "legendgroup": "pulso arritmico",
         "marker": {
          "color": "#FFA15A",
          "pattern": {
           "shape": ""
          }
         },
         "name": "pulso arritmico",
         "offsetgroup": "pulso arritmico",
         "orientation": "h",
         "showlegend": true,
         "textposition": "auto",
         "type": "bar",
         "x": [
          1
         ],
         "xaxis": "x",
         "y": [
          "DT4HSign-25-irregular pulse ( Pulse irregular )"
         ],
         "yaxis": "y"
        },
        {
         "alignmentgroup": "True",
         "customdata": [
          [
           "EXACT"
          ]
         ],
         "hovertemplate": "span=reflejo hepatoyugular positivo<br>Count=%{x}<br>Name=%{y}<br>Semantic Relationship=%{customdata[0]}<extra></extra>",
         "legendgroup": "reflejo hepatoyugular positivo",
         "marker": {
          "color": "#19d3f3",
          "pattern": {
           "shape": ""
          }
         },
         "name": "reflejo hepatoyugular positivo",
         "offsetgroup": "reflejo hepatoyugular positivo",
         "orientation": "h",
         "showlegend": true,
         "textposition": "auto",
         "type": "bar",
         "x": [
          1
         ],
         "xaxis": "x",
         "y": [
          "DT4HSign-16-hepatojugular reflux ( Hepatojugular reflux )"
         ],
         "yaxis": "y"
        },
        {
         "alignmentgroup": "True",
         "customdata": [
          [
           "EXACT"
          ]
         ],
         "hovertemplate": "span=taquicardización<br>Count=%{x}<br>Name=%{y}<br>Semantic Relationship=%{customdata[0]}<extra></extra>",
         "legendgroup": "taquicardización",
         "marker": {
          "color": "#FF6692",
          "pattern": {
           "shape": ""
          }
         },
         "name": "taquicardización",
         "offsetgroup": "taquicardización",
         "orientation": "h",
         "showlegend": true,
         "textposition": "auto",
         "type": "bar",
         "x": [
          1
         ],
         "xaxis": "x",
         "y": [
          "DT4HSign-24-tachycardia (Tachycardia )"
         ],
         "yaxis": "y"
        },
        {
         "alignmentgroup": "True",
         "customdata": [
          [
           "EXACT"
          ]
         ],
         "hovertemplate": "span=derrame pleural<br>Count=%{x}<br>Name=%{y}<br>Semantic Relationship=%{customdata[0]}<extra></extra>",
         "legendgroup": "derrame pleural",
         "marker": {
          "color": "#B6E880",
          "pattern": {
           "shape": ""
          }
         },
         "name": "derrame pleural",
         "offsetgroup": "derrame pleural",
         "orientation": "h",
         "showlegend": true,
         "textposition": "auto",
         "type": "bar",
         "x": [
          2
         ],
         "xaxis": "x",
         "y": [
          "DT4HSign-23-pleural effusion ( Pleural effusion )"
         ],
         "yaxis": "y"
        },
        {
         "alignmentgroup": "True",
         "customdata": [
          [
           "EXACT"
          ]
         ],
         "hovertemplate": "span=ánimo depresivo<br>Count=%{x}<br>Name=%{y}<br>Semantic Relationship=%{customdata[0]}<extra></extra>",
         "legendgroup": "ánimo depresivo",
         "marker": {
          "color": "#FF97FF",
          "pattern": {
           "shape": ""
          }
         },
         "name": "ánimo depresivo",
         "offsetgroup": "ánimo depresivo",
         "orientation": "h",
         "showlegend": true,
         "textposition": "auto",
         "type": "bar",
         "x": [
          1
         ],
         "xaxis": "x",
         "y": [
          "DT4HSign-11-depression (Depressed mood )"
         ],
         "yaxis": "y"
        },
        {
         "alignmentgroup": "True",
         "customdata": [
          [
           "EXACT"
          ]
         ],
         "hovertemplate": "span=humor depresivo<br>Count=%{x}<br>Name=%{y}<br>Semantic Relationship=%{customdata[0]}<extra></extra>",
         "legendgroup": "humor depresivo",
         "marker": {
          "color": "#FECB52",
          "pattern": {
           "shape": ""
          }
         },
         "name": "humor depresivo",
         "offsetgroup": "humor depresivo",
         "orientation": "h",
         "showlegend": true,
         "textposition": "auto",
         "type": "bar",
         "x": [
          1
         ],
         "xaxis": "x",
         "y": [
          "DT4HSign-11-depression (Depressed mood )"
         ],
         "yaxis": "y"
        },
        {
         "alignmentgroup": "True",
         "customdata": [
          [
           "EXACT"
          ]
         ],
         "hovertemplate": "span=ánimo decaído<br>Count=%{x}<br>Name=%{y}<br>Semantic Relationship=%{customdata[0]}<extra></extra>",
         "legendgroup": "ánimo decaído",
         "marker": {
          "color": "#636efa",
          "pattern": {
           "shape": ""
          }
         },
         "name": "ánimo decaído",
         "offsetgroup": "ánimo decaído",
         "orientation": "h",
         "showlegend": true,
         "textposition": "auto",
         "type": "bar",
         "x": [
          1
         ],
         "xaxis": "x",
         "y": [
          "DT4HSign-11-depression (Depressed mood )"
         ],
         "yaxis": "y"
        },
        {
         "alignmentgroup": "True",
         "customdata": [
          [
           "EXACT"
          ]
         ],
         "hovertemplate": "span=ánimo bajo<br>Count=%{x}<br>Name=%{y}<br>Semantic Relationship=%{customdata[0]}<extra></extra>",
         "legendgroup": "ánimo bajo",
         "marker": {
          "color": "#EF553B",
          "pattern": {
           "shape": ""
          }
         },
         "name": "ánimo bajo",
         "offsetgroup": "ánimo bajo",
         "orientation": "h",
         "showlegend": true,
         "textposition": "auto",
         "type": "bar",
         "x": [
          1
         ],
         "xaxis": "x",
         "y": [
          "DT4HSign-11-depression (Depressed mood )"
         ],
         "yaxis": "y"
        },
        {
         "alignmentgroup": "True",
         "customdata": [
          [
           "EXACT"
          ]
         ],
         "hovertemplate": "span=ortopnea<br>Count=%{x}<br>Name=%{y}<br>Semantic Relationship=%{customdata[0]}<extra></extra>",
         "legendgroup": "ortopnea",
         "marker": {
          "color": "#00cc96",
          "pattern": {
           "shape": ""
          }
         },
         "name": "ortopnea",
         "offsetgroup": "ortopnea",
         "orientation": "h",
         "showlegend": true,
         "textposition": "auto",
         "type": "bar",
         "x": [
          5
         ],
         "xaxis": "x",
         "y": [
          "DT4HSign-4-orthopnoea (Orthopnea )"
         ],
         "yaxis": "y"
        },
        {
         "alignmentgroup": "True",
         "customdata": [
          [
           "EXACT"
          ]
         ],
         "hovertemplate": "span=Hígado aumentado de tamaño y peso<br>Count=%{x}<br>Name=%{y}<br>Semantic Relationship=%{customdata[0]}<extra></extra>",
         "legendgroup": "Hígado aumentado de tamaño y peso",
         "marker": {
          "color": "#ab63fa",
          "pattern": {
           "shape": ""
          }
         },
         "name": "Hígado aumentado de tamaño y peso",
         "offsetgroup": "Hígado aumentado de tamaño y peso",
         "orientation": "h",
         "showlegend": true,
         "textposition": "auto",
         "type": "bar",
         "x": [
          1
         ],
         "xaxis": "x",
         "y": [
          "DT4HSign-28-hepatomegaly (Large liver )"
         ],
         "yaxis": "y"
        },
        {
         "alignmentgroup": "True",
         "customdata": [
          [
           "NARROW"
          ]
         ],
         "hovertemplate": "span=hepatomegalia dolorosa<br>Count=%{x}<br>Name=%{y}<br>Semantic Relationship=%{customdata[0]}<extra></extra>",
         "legendgroup": "hepatomegalia dolorosa",
         "marker": {
          "color": "#FFA15A",
          "pattern": {
           "shape": ""
          }
         },
         "name": "hepatomegalia dolorosa",
         "offsetgroup": "hepatomegalia dolorosa",
         "orientation": "h",
         "showlegend": true,
         "textposition": "auto",
         "type": "bar",
         "x": [
          2
         ],
         "xaxis": "x",
         "y": [
          "DT4HSign-28-hepatomegaly (Large liver )"
         ],
         "yaxis": "y"
        },
        {
         "alignmentgroup": "True",
         "customdata": [
          [
           "EXACT"
          ]
         ],
         "hovertemplate": "span=Hígado aumentado difusamente de tamaño<br>Count=%{x}<br>Name=%{y}<br>Semantic Relationship=%{customdata[0]}<extra></extra>",
         "legendgroup": "Hígado aumentado difusamente de tamaño",
         "marker": {
          "color": "#19d3f3",
          "pattern": {
           "shape": ""
          }
         },
         "name": "Hígado aumentado difusamente de tamaño",
         "offsetgroup": "Hígado aumentado difusamente de tamaño",
         "orientation": "h",
         "showlegend": true,
         "textposition": "auto",
         "type": "bar",
         "x": [
          2
         ],
         "xaxis": "x",
         "y": [
          "DT4HSign-28-hepatomegaly (Large liver )"
         ],
         "yaxis": "y"
        },
        {
         "alignmentgroup": "True",
         "customdata": [
          [
           "EXACT"
          ]
         ],
         "hovertemplate": "span=aumento del hígado<br>Count=%{x}<br>Name=%{y}<br>Semantic Relationship=%{customdata[0]}<extra></extra>",
         "legendgroup": "aumento del hígado",
         "marker": {
          "color": "#FF6692",
          "pattern": {
           "shape": ""
          }
         },
         "name": "aumento del hígado",
         "offsetgroup": "aumento del hígado",
         "orientation": "h",
         "showlegend": true,
         "textposition": "auto",
         "type": "bar",
         "x": [
          1
         ],
         "xaxis": "x",
         "y": [
          "DT4HSign-28-hepatomegaly (Large liver )"
         ],
         "yaxis": "y"
        },
        {
         "alignmentgroup": "True",
         "customdata": [
          [
           "EXACT"
          ]
         ],
         "hovertemplate": "span=crepitantes en la auscultación pulmonar<br>Count=%{x}<br>Name=%{y}<br>Semantic Relationship=%{customdata[0]}<extra></extra>",
         "legendgroup": "crepitantes en la auscultación pulmonar",
         "marker": {
          "color": "#B6E880",
          "pattern": {
           "shape": ""
          }
         },
         "name": "crepitantes en la auscultación pulmonar",
         "offsetgroup": "crepitantes en la auscultación pulmonar",
         "orientation": "h",
         "showlegend": true,
         "textposition": "auto",
         "type": "bar",
         "x": [
          1
         ],
         "xaxis": "x",
         "y": [
          "DT4HSign-22-pulmonary crepitations ( Respiratory crackles )"
         ],
         "yaxis": "y"
        },
        {
         "alignmentgroup": "True",
         "customdata": [
          [
           "EXACT"
          ]
         ],
         "hovertemplate": "span=síncopes<br>Count=%{x}<br>Name=%{y}<br>Semantic Relationship=%{customdata[0]}<extra></extra>",
         "legendgroup": "síncopes",
         "marker": {
          "color": "#FF97FF",
          "pattern": {
           "shape": ""
          }
         },
         "name": "síncopes",
         "offsetgroup": "síncopes",
         "orientation": "h",
         "showlegend": true,
         "textposition": "auto",
         "type": "bar",
         "x": [
          1
         ],
         "xaxis": "x",
         "y": [
          "DT4HSign-14-syncope ( Syncope )"
         ],
         "yaxis": "y"
        },
        {
         "alignmentgroup": "True",
         "customdata": [
          [
           "EXACT"
          ]
         ],
         "hovertemplate": "span=roncus y crepitantes bilaterales<br>Count=%{x}<br>Name=%{y}<br>Semantic Relationship=%{customdata[0]}<extra></extra>",
         "legendgroup": "roncus y crepitantes bilaterales",
         "marker": {
          "color": "#FECB52",
          "pattern": {
           "shape": ""
          }
         },
         "name": "roncus y crepitantes bilaterales",
         "offsetgroup": "roncus y crepitantes bilaterales",
         "orientation": "h",
         "showlegend": true,
         "textposition": "auto",
         "type": "bar",
         "x": [
          1
         ],
         "xaxis": "x",
         "y": [
          "DT4HSign-22-pulmonary crepitations ( Respiratory crackles )"
         ],
         "yaxis": "y"
        },
        {
         "alignmentgroup": "True",
         "customdata": [
          [
           "EXACT"
          ]
         ],
         "hovertemplate": "span=crepitantes<br>Count=%{x}<br>Name=%{y}<br>Semantic Relationship=%{customdata[0]}<extra></extra>",
         "legendgroup": "crepitantes",
         "marker": {
          "color": "#636efa",
          "pattern": {
           "shape": ""
          }
         },
         "name": "crepitantes",
         "offsetgroup": "crepitantes",
         "orientation": "h",
         "showlegend": true,
         "textposition": "auto",
         "type": "bar",
         "x": [
          3
         ],
         "xaxis": "x",
         "y": [
          "DT4HSign-22-pulmonary crepitations ( Respiratory crackles )"
         ],
         "yaxis": "y"
        },
        {
         "alignmentgroup": "True",
         "customdata": [
          [
           "EXACT"
          ]
         ],
         "hovertemplate": "span=cuadro sincopal<br>Count=%{x}<br>Name=%{y}<br>Semantic Relationship=%{customdata[0]}<extra></extra>",
         "legendgroup": "cuadro sincopal",
         "marker": {
          "color": "#EF553B",
          "pattern": {
           "shape": ""
          }
         },
         "name": "cuadro sincopal",
         "offsetgroup": "cuadro sincopal",
         "orientation": "h",
         "showlegend": true,
         "textposition": "auto",
         "type": "bar",
         "x": [
          2
         ],
         "xaxis": "x",
         "y": [
          "DT4HSign-14-syncope ( Syncope )"
         ],
         "yaxis": "y"
        },
        {
         "alignmentgroup": "True",
         "customdata": [
          [
           "EXACT"
          ]
         ],
         "hovertemplate": "span=síncope<br>Count=%{x}<br>Name=%{y}<br>Semantic Relationship=%{customdata[0]}<extra></extra>",
         "legendgroup": "síncope",
         "marker": {
          "color": "#00cc96",
          "pattern": {
           "shape": ""
          }
         },
         "name": "síncope",
         "offsetgroup": "síncope",
         "orientation": "h",
         "showlegend": true,
         "textposition": "auto",
         "type": "bar",
         "x": [
          3
         ],
         "xaxis": "x",
         "y": [
          "DT4HSign-14-syncope ( Syncope )"
         ],
         "yaxis": "y"
        },
        {
         "alignmentgroup": "True",
         "customdata": [
          [
           "EXACT"
          ]
         ],
         "hovertemplate": "span=episodio sincopal<br>Count=%{x}<br>Name=%{y}<br>Semantic Relationship=%{customdata[0]}<extra></extra>",
         "legendgroup": "episodio sincopal",
         "marker": {
          "color": "#ab63fa",
          "pattern": {
           "shape": ""
          }
         },
         "name": "episodio sincopal",
         "offsetgroup": "episodio sincopal",
         "orientation": "h",
         "showlegend": true,
         "textposition": "auto",
         "type": "bar",
         "x": [
          1
         ],
         "xaxis": "x",
         "y": [
          "DT4HSign-14-syncope ( Syncope )"
         ],
         "yaxis": "y"
        },
        {
         "alignmentgroup": "True",
         "customdata": [
          [
           "EXACT"
          ]
         ],
         "hovertemplate": "span=murmullo vesicular con crepitantes en la base<br>Count=%{x}<br>Name=%{y}<br>Semantic Relationship=%{customdata[0]}<extra></extra>",
         "legendgroup": "murmullo vesicular con crepitantes en la base",
         "marker": {
          "color": "#FFA15A",
          "pattern": {
           "shape": ""
          }
         },
         "name": "murmullo vesicular con crepitantes en la base",
         "offsetgroup": "murmullo vesicular con crepitantes en la base",
         "orientation": "h",
         "showlegend": true,
         "textposition": "auto",
         "type": "bar",
         "x": [
          1
         ],
         "xaxis": "x",
         "y": [
          "DT4HSign-22-pulmonary crepitations ( Respiratory crackles )"
         ],
         "yaxis": "y"
        },
        {
         "alignmentgroup": "True",
         "customdata": [
          [
           "EXACT"
          ]
         ],
         "hovertemplate": "span=ruidos sobreañadidos<br>Count=%{x}<br>Name=%{y}<br>Semantic Relationship=%{customdata[0]}<extra></extra>",
         "legendgroup": "ruidos sobreañadidos",
         "marker": {
          "color": "#19d3f3",
          "pattern": {
           "shape": ""
          }
         },
         "name": "ruidos sobreañadidos",
         "offsetgroup": "ruidos sobreañadidos",
         "orientation": "h",
         "showlegend": true,
         "textposition": "auto",
         "type": "bar",
         "x": [
          1
         ],
         "xaxis": "x",
         "y": [
          "DT4HSign-22-pulmonary crepitations ( Respiratory crackles )"
         ],
         "yaxis": "y"
        },
        {
         "alignmentgroup": "True",
         "customdata": [
          [
           "EXACT"
          ]
         ],
         "hovertemplate": "span=sensación de palpitaciones<br>Count=%{x}<br>Name=%{y}<br>Semantic Relationship=%{customdata[0]}<extra></extra>",
         "legendgroup": "sensación de palpitaciones",
         "marker": {
          "color": "#FF6692",
          "pattern": {
           "shape": ""
          }
         },
         "name": "sensación de palpitaciones",
         "offsetgroup": "sensación de palpitaciones",
         "orientation": "h",
         "showlegend": true,
         "textposition": "auto",
         "type": "bar",
         "x": [
          1
         ],
         "xaxis": "x",
         "y": [
          "DT4HSign-12-palpitation ( Palpitations )"
         ],
         "yaxis": "y"
        },
        {
         "alignmentgroup": "True",
         "customdata": [
          [
           "EXACT"
          ]
         ],
         "hovertemplate": "span=palpitaciones<br>Count=%{x}<br>Name=%{y}<br>Semantic Relationship=%{customdata[0]}<extra></extra>",
         "legendgroup": "palpitaciones",
         "marker": {
          "color": "#B6E880",
          "pattern": {
           "shape": ""
          }
         },
         "name": "palpitaciones",
         "offsetgroup": "palpitaciones",
         "orientation": "h",
         "showlegend": true,
         "textposition": "auto",
         "type": "bar",
         "x": [
          7
         ],
         "xaxis": "x",
         "y": [
          "DT4HSign-12-palpitation ( Palpitations )"
         ],
         "yaxis": "y"
        },
        {
         "alignmentgroup": "True",
         "customdata": [
          [
           "EXACT"
          ]
         ],
         "hovertemplate": "span=oligoanuria<br>Count=%{x}<br>Name=%{y}<br>Semantic Relationship=%{customdata[0]}<extra></extra>",
         "legendgroup": "oligoanuria",
         "marker": {
          "color": "#FF97FF",
          "pattern": {
           "shape": ""
          }
         },
         "name": "oligoanuria",
         "offsetgroup": "oligoanuria",
         "orientation": "h",
         "showlegend": true,
         "textposition": "auto",
         "type": "bar",
         "x": [
          5
         ],
         "xaxis": "x",
         "y": [
          "DT4HSign-30-oliguria ( Oliguria )"
         ],
         "yaxis": "y"
        },
        {
         "alignmentgroup": "True",
         "customdata": [
          [
           "EXACT"
          ]
         ],
         "hovertemplate": "span=oliguria<br>Count=%{x}<br>Name=%{y}<br>Semantic Relationship=%{customdata[0]}<extra></extra>",
         "legendgroup": "oliguria",
         "marker": {
          "color": "#FECB52",
          "pattern": {
           "shape": ""
          }
         },
         "name": "oliguria",
         "offsetgroup": "oliguria",
         "orientation": "h",
         "showlegend": true,
         "textposition": "auto",
         "type": "bar",
         "x": [
          5
         ],
         "xaxis": "x",
         "y": [
          "DT4HSign-30-oliguria ( Oliguria )"
         ],
         "yaxis": "y"
        },
        {
         "alignmentgroup": "True",
         "customdata": [
          [
           "EXACT"
          ]
         ],
         "hovertemplate": "span=oligoanuria progresiva<br>Count=%{x}<br>Name=%{y}<br>Semantic Relationship=%{customdata[0]}<extra></extra>",
         "legendgroup": "oligoanuria progresiva",
         "marker": {
          "color": "#636efa",
          "pattern": {
           "shape": ""
          }
         },
         "name": "oligoanuria progresiva",
         "offsetgroup": "oligoanuria progresiva",
         "orientation": "h",
         "showlegend": true,
         "textposition": "auto",
         "type": "bar",
         "x": [
          1
         ],
         "xaxis": "x",
         "y": [
          "DT4HSign-30-oliguria ( Oliguria )"
         ],
         "yaxis": "y"
        },
        {
         "alignmentgroup": "True",
         "customdata": [
          [
           "EXACT"
          ]
         ],
         "hovertemplate": "span=cansancio<br>Count=%{x}<br>Name=%{y}<br>Semantic Relationship=%{customdata[0]}<extra></extra>",
         "legendgroup": "cansancio",
         "marker": {
          "color": "#EF553B",
          "pattern": {
           "shape": ""
          }
         },
         "name": "cansancio",
         "offsetgroup": "cansancio",
         "orientation": "h",
         "showlegend": true,
         "textposition": "auto",
         "type": "bar",
         "x": [
          6
         ],
         "xaxis": "x",
         "y": [
          "DT4HSign-7-fatigue (Fatigue )"
         ],
         "yaxis": "y"
        },
        {
         "alignmentgroup": "True",
         "customdata": [
          [
           "EXACT"
          ]
         ],
         "hovertemplate": "span=sensación de fatiga<br>Count=%{x}<br>Name=%{y}<br>Semantic Relationship=%{customdata[0]}<extra></extra>",
         "legendgroup": "sensación de fatiga",
         "marker": {
          "color": "#00cc96",
          "pattern": {
           "shape": ""
          }
         },
         "name": "sensación de fatiga",
         "offsetgroup": "sensación de fatiga",
         "orientation": "h",
         "showlegend": true,
         "textposition": "auto",
         "type": "bar",
         "x": [
          3
         ],
         "xaxis": "x",
         "y": [
          "DT4HSign-7-fatigue (Fatigue )"
         ],
         "yaxis": "y"
        },
        {
         "alignmentgroup": "True",
         "customdata": [
          [
           "EXACT"
          ]
         ],
         "hovertemplate": "span=fatiga<br>Count=%{x}<br>Name=%{y}<br>Semantic Relationship=%{customdata[0]}<extra></extra>",
         "legendgroup": "fatiga",
         "marker": {
          "color": "#ab63fa",
          "pattern": {
           "shape": ""
          }
         },
         "name": "fatiga",
         "offsetgroup": "fatiga",
         "orientation": "h",
         "showlegend": true,
         "textposition": "auto",
         "type": "bar",
         "x": [
          5
         ],
         "xaxis": "x",
         "y": [
          "DT4HSign-7-fatigue (Fatigue )"
         ],
         "yaxis": "y"
        },
        {
         "alignmentgroup": "True",
         "customdata": [
          [
           "EXACT"
          ]
         ],
         "hovertemplate": "span=ascitis<br>Count=%{x}<br>Name=%{y}<br>Semantic Relationship=%{customdata[0]}<extra></extra>",
         "legendgroup": "ascitis",
         "marker": {
          "color": "#FFA15A",
          "pattern": {
           "shape": ""
          }
         },
         "name": "ascitis",
         "offsetgroup": "ascitis",
         "orientation": "h",
         "showlegend": true,
         "textposition": "auto",
         "type": "bar",
         "x": [
          9
         ],
         "xaxis": "x",
         "y": [
          "DT4HSign-29-ascites ( Ascites )"
         ],
         "yaxis": "y"
        },
        {
         "alignmentgroup": "True",
         "customdata": [
          [
           "EXACT"
          ]
         ],
         "hovertemplate": "span=molestias pectorales<br>Count=%{x}<br>Name=%{y}<br>Semantic Relationship=%{customdata[0]}<extra></extra>",
         "legendgroup": "molestias pectorales",
         "marker": {
          "color": "#19d3f3",
          "pattern": {
           "shape": ""
          }
         },
         "name": "molestias pectorales",
         "offsetgroup": "molestias pectorales",
         "orientation": "h",
         "showlegend": true,
         "textposition": "auto",
         "type": "bar",
         "x": [
          1
         ],
         "xaxis": "x",
         "y": [
          "DT4HSign-2-Chest pain ( Chest pain )"
         ],
         "yaxis": "y"
        },
        {
         "alignmentgroup": "True",
         "customdata": [
          [
           "EXACT"
          ]
         ],
         "hovertemplate": "span=líquido ascítico<br>Count=%{x}<br>Name=%{y}<br>Semantic Relationship=%{customdata[0]}<extra></extra>",
         "legendgroup": "líquido ascítico",
         "marker": {
          "color": "#FF6692",
          "pattern": {
           "shape": ""
          }
         },
         "name": "líquido ascítico",
         "offsetgroup": "líquido ascítico",
         "orientation": "h",
         "showlegend": true,
         "textposition": "auto",
         "type": "bar",
         "x": [
          2
         ],
         "xaxis": "x",
         "y": [
          "DT4HSign-29-ascites ( Ascites )"
         ],
         "yaxis": "y"
        },
        {
         "alignmentgroup": "True",
         "customdata": [
          [
           "EXACT"
          ]
         ],
         "hovertemplate": "span=Ascitis<br>Count=%{x}<br>Name=%{y}<br>Semantic Relationship=%{customdata[0]}<extra></extra>",
         "legendgroup": "Ascitis",
         "marker": {
          "color": "#B6E880",
          "pattern": {
           "shape": ""
          }
         },
         "name": "Ascitis",
         "offsetgroup": "Ascitis",
         "orientation": "h",
         "showlegend": true,
         "textposition": "auto",
         "type": "bar",
         "x": [
          2
         ],
         "xaxis": "x",
         "y": [
          "DT4HSign-29-ascites ( Ascites )"
         ],
         "yaxis": "y"
        },
        {
         "alignmentgroup": "True",
         "customdata": [
          [
           "EXACT"
          ]
         ],
         "hovertemplate": "span=dolor torácico bilateral<br>Count=%{x}<br>Name=%{y}<br>Semantic Relationship=%{customdata[0]}<extra></extra>",
         "legendgroup": "dolor torácico bilateral",
         "marker": {
          "color": "#FF97FF",
          "pattern": {
           "shape": ""
          }
         },
         "name": "dolor torácico bilateral",
         "offsetgroup": "dolor torácico bilateral",
         "orientation": "h",
         "showlegend": true,
         "textposition": "auto",
         "type": "bar",
         "x": [
          1
         ],
         "xaxis": "x",
         "y": [
          "DT4HSign-2-Chest pain ( Chest pain )"
         ],
         "yaxis": "y"
        },
        {
         "alignmentgroup": "True",
         "customdata": [
          [
           "EXACT"
          ]
         ],
         "hovertemplate": "span=dolor torácico<br>Count=%{x}<br>Name=%{y}<br>Semantic Relationship=%{customdata[0]}<extra></extra>",
         "legendgroup": "dolor torácico",
         "marker": {
          "color": "#FECB52",
          "pattern": {
           "shape": ""
          }
         },
         "name": "dolor torácico",
         "offsetgroup": "dolor torácico",
         "orientation": "h",
         "showlegend": true,
         "textposition": "auto",
         "type": "bar",
         "x": [
          13
         ],
         "xaxis": "x",
         "y": [
          "DT4HSign-2-Chest pain ( Chest pain )"
         ],
         "yaxis": "y"
        },
        {
         "alignmentgroup": "True",
         "customdata": [
          [
           "EXACT"
          ]
         ],
         "hovertemplate": "span=líquido ascítico peritoneal,<br>Count=%{x}<br>Name=%{y}<br>Semantic Relationship=%{customdata[0]}<extra></extra>",
         "legendgroup": "líquido ascítico peritoneal,",
         "marker": {
          "color": "#636efa",
          "pattern": {
           "shape": ""
          }
         },
         "name": "líquido ascítico peritoneal,",
         "offsetgroup": "líquido ascítico peritoneal,",
         "orientation": "h",
         "showlegend": true,
         "textposition": "auto",
         "type": "bar",
         "x": [
          1
         ],
         "xaxis": "x",
         "y": [
          "DT4HSign-29-ascites ( Ascites )"
         ],
         "yaxis": "y"
        },
        {
         "alignmentgroup": "True",
         "customdata": [
          [
           "EXACT"
          ]
         ],
         "hovertemplate": "span=ascitis de distribución difusa<br>Count=%{x}<br>Name=%{y}<br>Semantic Relationship=%{customdata[0]}<extra></extra>",
         "legendgroup": "ascitis de distribución difusa",
         "marker": {
          "color": "#EF553B",
          "pattern": {
           "shape": ""
          }
         },
         "name": "ascitis de distribución difusa",
         "offsetgroup": "ascitis de distribución difusa",
         "orientation": "h",
         "showlegend": true,
         "textposition": "auto",
         "type": "bar",
         "x": [
          1
         ],
         "xaxis": "x",
         "y": [
          "DT4HSign-29-ascites ( Ascites )"
         ],
         "yaxis": "y"
        },
        {
         "alignmentgroup": "True",
         "customdata": [
          [
           "EXACT"
          ]
         ],
         "hovertemplate": "span=taquipnea<br>Count=%{x}<br>Name=%{y}<br>Semantic Relationship=%{customdata[0]}<extra></extra>",
         "legendgroup": "taquipnea",
         "marker": {
          "color": "#00cc96",
          "pattern": {
           "shape": ""
          }
         },
         "name": "taquipnea",
         "offsetgroup": "taquipnea",
         "orientation": "h",
         "showlegend": true,
         "textposition": "auto",
         "type": "bar",
         "x": [
          10
         ],
         "xaxis": "x",
         "y": [
          "DT4HSign-26-tachypneoea (Tachypnea )"
         ],
         "yaxis": "y"
        },
        {
         "alignmentgroup": "True",
         "customdata": [
          [
           "EXACT"
          ]
         ],
         "hovertemplate": "span=taquipneica<br>Count=%{x}<br>Name=%{y}<br>Semantic Relationship=%{customdata[0]}<extra></extra>",
         "legendgroup": "taquipneica",
         "marker": {
          "color": "#ab63fa",
          "pattern": {
           "shape": ""
          }
         },
         "name": "taquipneica",
         "offsetgroup": "taquipneica",
         "orientation": "h",
         "showlegend": true,
         "textposition": "auto",
         "type": "bar",
         "x": [
          1
         ],
         "xaxis": "x",
         "y": [
          "DT4HSign-26-tachypneoea (Tachypnea )"
         ],
         "yaxis": "y"
        },
        {
         "alignmentgroup": "True",
         "customdata": [
          [
           "EXACT"
          ]
         ],
         "hovertemplate": "span=taquipneico<br>Count=%{x}<br>Name=%{y}<br>Semantic Relationship=%{customdata[0]}<extra></extra>",
         "legendgroup": "taquipneico",
         "marker": {
          "color": "#FFA15A",
          "pattern": {
           "shape": ""
          }
         },
         "name": "taquipneico",
         "offsetgroup": "taquipneico",
         "orientation": "h",
         "showlegend": true,
         "textposition": "auto",
         "type": "bar",
         "x": [
          3
         ],
         "xaxis": "x",
         "y": [
          "DT4HSign-26-tachypneoea (Tachypnea )"
         ],
         "yaxis": "y"
        },
        {
         "alignmentgroup": "True",
         "customdata": [
          [
           "EXACT"
          ]
         ],
         "hovertemplate": "span=aumento de la frecuencia respiratoria<br>Count=%{x}<br>Name=%{y}<br>Semantic Relationship=%{customdata[0]}<extra></extra>",
         "legendgroup": "aumento de la frecuencia respiratoria",
         "marker": {
          "color": "#19d3f3",
          "pattern": {
           "shape": ""
          }
         },
         "name": "aumento de la frecuencia respiratoria",
         "offsetgroup": "aumento de la frecuencia respiratoria",
         "orientation": "h",
         "showlegend": true,
         "textposition": "auto",
         "type": "bar",
         "x": [
          1
         ],
         "xaxis": "x",
         "y": [
          "DT4HSign-26-tachypneoea (Tachypnea )"
         ],
         "yaxis": "y"
        },
        {
         "alignmentgroup": "True",
         "customdata": [
          [
           "NARROW"
          ]
         ],
         "hovertemplate": "span=taquipnea en reposo<br>Count=%{x}<br>Name=%{y}<br>Semantic Relationship=%{customdata[0]}<extra></extra>",
         "legendgroup": "taquipnea en reposo",
         "marker": {
          "color": "#FF6692",
          "pattern": {
           "shape": ""
          }
         },
         "name": "taquipnea en reposo",
         "offsetgroup": "taquipnea en reposo",
         "orientation": "h",
         "showlegend": true,
         "textposition": "auto",
         "type": "bar",
         "x": [
          1
         ],
         "xaxis": "x",
         "y": [
          "DT4HSign-26-tachypneoea (Tachypnea )"
         ],
         "yaxis": "y"
        },
        {
         "alignmentgroup": "True",
         "customdata": [
          [
           "NARROW"
          ]
         ],
         "hovertemplate": "span=taquipnea persistente<br>Count=%{x}<br>Name=%{y}<br>Semantic Relationship=%{customdata[0]}<extra></extra>",
         "legendgroup": "taquipnea persistente",
         "marker": {
          "color": "#B6E880",
          "pattern": {
           "shape": ""
          }
         },
         "name": "taquipnea persistente",
         "offsetgroup": "taquipnea persistente",
         "orientation": "h",
         "showlegend": true,
         "textposition": "auto",
         "type": "bar",
         "x": [
          1
         ],
         "xaxis": "x",
         "y": [
          "DT4HSign-26-tachypneoea (Tachypnea )"
         ],
         "yaxis": "y"
        },
        {
         "alignmentgroup": "True",
         "customdata": [
          [
           "EXACT"
          ]
         ],
         "hovertemplate": "span=mareo<br>Count=%{x}<br>Name=%{y}<br>Semantic Relationship=%{customdata[0]}<extra></extra>",
         "legendgroup": "mareo",
         "marker": {
          "color": "#FF97FF",
          "pattern": {
           "shape": ""
          }
         },
         "name": "mareo",
         "offsetgroup": "mareo",
         "orientation": "h",
         "showlegend": true,
         "textposition": "auto",
         "type": "bar",
         "x": [
          20
         ],
         "xaxis": "x",
         "y": [
          "DT4HSign-13-dizziness ( Dizziness )"
         ],
         "yaxis": "y"
        },
        {
         "alignmentgroup": "True",
         "customdata": [
          [
           "EXACT"
          ]
         ],
         "hovertemplate": "span=mareos<br>Count=%{x}<br>Name=%{y}<br>Semantic Relationship=%{customdata[0]}<extra></extra>",
         "legendgroup": "mareos",
         "marker": {
          "color": "#FECB52",
          "pattern": {
           "shape": ""
          }
         },
         "name": "mareos",
         "offsetgroup": "mareos",
         "orientation": "h",
         "showlegend": true,
         "textposition": "auto",
         "type": "bar",
         "x": [
          3
         ],
         "xaxis": "x",
         "y": [
          "DT4HSign-13-dizziness ( Dizziness )"
         ],
         "yaxis": "y"
        },
        {
         "alignmentgroup": "True",
         "customdata": [
          [
           "COMPOSITE"
          ]
         ],
         "hovertemplate": "span=síndrome tóxico<br>Count=%{x}<br>Name=%{y}<br>Semantic Relationship=%{customdata[0]}<extra></extra>",
         "legendgroup": "síndrome tóxico",
         "marker": {
          "color": "#636efa",
          "pattern": {
           "shape": ""
          }
         },
         "name": "síndrome tóxico",
         "offsetgroup": "síndrome tóxico",
         "orientation": "h",
         "showlegend": true,
         "textposition": "auto",
         "type": "bar",
         "x": [
          1
         ],
         "xaxis": "x",
         "y": [
          "DT4HSign-10-loss of appetite (Loss of appetite )"
         ],
         "yaxis": "y"
        },
        {
         "alignmentgroup": "True",
         "customdata": [
          [
           "EXACT"
          ]
         ],
         "hovertemplate": "span=pérdida de apetito<br>Count=%{x}<br>Name=%{y}<br>Semantic Relationship=%{customdata[0]}<extra></extra>",
         "legendgroup": "pérdida de apetito",
         "marker": {
          "color": "#EF553B",
          "pattern": {
           "shape": ""
          }
         },
         "name": "pérdida de apetito",
         "offsetgroup": "pérdida de apetito",
         "orientation": "h",
         "showlegend": true,
         "textposition": "auto",
         "type": "bar",
         "x": [
          1
         ],
         "xaxis": "x",
         "y": [
          "DT4HSign-10-loss of appetite (Loss of appetite )"
         ],
         "yaxis": "y"
        },
        {
         "alignmentgroup": "True",
         "customdata": [
          [
           "EXACT"
          ]
         ],
         "hovertemplate": "span=pérdida apetito<br>Count=%{x}<br>Name=%{y}<br>Semantic Relationship=%{customdata[0]}<extra></extra>",
         "legendgroup": "pérdida apetito",
         "marker": {
          "color": "#00cc96",
          "pattern": {
           "shape": ""
          }
         },
         "name": "pérdida apetito",
         "offsetgroup": "pérdida apetito",
         "orientation": "h",
         "showlegend": true,
         "textposition": "auto",
         "type": "bar",
         "x": [
          1
         ],
         "xaxis": "x",
         "y": [
          "DT4HSign-10-loss of appetite (Loss of appetite )"
         ],
         "yaxis": "y"
        },
        {
         "alignmentgroup": "True",
         "customdata": [
          [
           "COMPOSITE"
          ]
         ],
         "hovertemplate": "span=síndrome general<br>Count=%{x}<br>Name=%{y}<br>Semantic Relationship=%{customdata[0]}<extra></extra>",
         "legendgroup": "síndrome general",
         "marker": {
          "color": "#ab63fa",
          "pattern": {
           "shape": ""
          }
         },
         "name": "síndrome general",
         "offsetgroup": "síndrome general",
         "orientation": "h",
         "showlegend": true,
         "textposition": "auto",
         "type": "bar",
         "x": [
          5
         ],
         "xaxis": "x",
         "y": [
          "DT4HSign-10-loss of appetite (Loss of appetite )"
         ],
         "yaxis": "y"
        },
        {
         "alignmentgroup": "True",
         "customdata": [
          [
           "COMPOSITE"
          ]
         ],
         "hovertemplate": "span=cuadro constitucional<br>Count=%{x}<br>Name=%{y}<br>Semantic Relationship=%{customdata[0]}<extra></extra>",
         "legendgroup": "cuadro constitucional",
         "marker": {
          "color": "#FFA15A",
          "pattern": {
           "shape": ""
          }
         },
         "name": "cuadro constitucional",
         "offsetgroup": "cuadro constitucional",
         "orientation": "h",
         "showlegend": true,
         "textposition": "auto",
         "type": "bar",
         "x": [
          3
         ],
         "xaxis": "x",
         "y": [
          "DT4HSign-10-loss of appetite (Loss of appetite )"
         ],
         "yaxis": "y"
        },
        {
         "alignmentgroup": "True",
         "customdata": [
          [
           "COMPOSITE"
          ]
         ],
         "hovertemplate": "span=síndrome constitucional<br>Count=%{x}<br>Name=%{y}<br>Semantic Relationship=%{customdata[0]}<extra></extra>",
         "legendgroup": "síndrome constitucional",
         "marker": {
          "color": "#19d3f3",
          "pattern": {
           "shape": ""
          }
         },
         "name": "síndrome constitucional",
         "offsetgroup": "síndrome constitucional",
         "orientation": "h",
         "showlegend": true,
         "textposition": "auto",
         "type": "bar",
         "x": [
          15
         ],
         "xaxis": "x",
         "y": [
          "DT4HSign-10-loss of appetite (Loss of appetite )"
         ],
         "yaxis": "y"
        },
        {
         "alignmentgroup": "True",
         "customdata": [
          [
           "EXACT"
          ]
         ],
         "hovertemplate": "span=hiporexia<br>Count=%{x}<br>Name=%{y}<br>Semantic Relationship=%{customdata[0]}<extra></extra>",
         "legendgroup": "hiporexia",
         "marker": {
          "color": "#FF6692",
          "pattern": {
           "shape": ""
          }
         },
         "name": "hiporexia",
         "offsetgroup": "hiporexia",
         "orientation": "h",
         "showlegend": true,
         "textposition": "auto",
         "type": "bar",
         "x": [
          4
         ],
         "xaxis": "x",
         "y": [
          "DT4HSign-10-loss of appetite (Loss of appetite )"
         ],
         "yaxis": "y"
        },
        {
         "alignmentgroup": "True",
         "customdata": [
          [
           "COMPOSITE"
          ]
         ],
         "hovertemplate": "span=síndrome constitucional severo<br>Count=%{x}<br>Name=%{y}<br>Semantic Relationship=%{customdata[0]}<extra></extra>",
         "legendgroup": "síndrome constitucional severo",
         "marker": {
          "color": "#B6E880",
          "pattern": {
           "shape": ""
          }
         },
         "name": "síndrome constitucional severo",
         "offsetgroup": "síndrome constitucional severo",
         "orientation": "h",
         "showlegend": true,
         "textposition": "auto",
         "type": "bar",
         "x": [
          1
         ],
         "xaxis": "x",
         "y": [
          "DT4HSign-10-loss of appetite (Loss of appetite )"
         ],
         "yaxis": "y"
        },
        {
         "alignmentgroup": "True",
         "customdata": [
          [
           "EXACT"
          ]
         ],
         "hovertemplate": "span=falta de apetito<br>Count=%{x}<br>Name=%{y}<br>Semantic Relationship=%{customdata[0]}<extra></extra>",
         "legendgroup": "falta de apetito",
         "marker": {
          "color": "#FF97FF",
          "pattern": {
           "shape": ""
          }
         },
         "name": "falta de apetito",
         "offsetgroup": "falta de apetito",
         "orientation": "h",
         "showlegend": true,
         "textposition": "auto",
         "type": "bar",
         "x": [
          1
         ],
         "xaxis": "x",
         "y": [
          "DT4HSign-10-loss of appetite (Loss of appetite )"
         ],
         "yaxis": "y"
        },
        {
         "alignmentgroup": "True",
         "customdata": [
          [
           "EXACT"
          ]
         ],
         "hovertemplate": "span=anorexia moderada<br>Count=%{x}<br>Name=%{y}<br>Semantic Relationship=%{customdata[0]}<extra></extra>",
         "legendgroup": "anorexia moderada",
         "marker": {
          "color": "#FECB52",
          "pattern": {
           "shape": ""
          }
         },
         "name": "anorexia moderada",
         "offsetgroup": "anorexia moderada",
         "orientation": "h",
         "showlegend": true,
         "textposition": "auto",
         "type": "bar",
         "x": [
          1
         ],
         "xaxis": "x",
         "y": [
          "DT4HSign-10-loss of appetite (Loss of appetite )"
         ],
         "yaxis": "y"
        },
        {
         "alignmentgroup": "True",
         "customdata": [
          [
           "EXACT"
          ]
         ],
         "hovertemplate": "span=anorexia<br>Count=%{x}<br>Name=%{y}<br>Semantic Relationship=%{customdata[0]}<extra></extra>",
         "legendgroup": "anorexia",
         "marker": {
          "color": "#636efa",
          "pattern": {
           "shape": ""
          }
         },
         "name": "anorexia",
         "offsetgroup": "anorexia",
         "orientation": "h",
         "showlegend": true,
         "textposition": "auto",
         "type": "bar",
         "x": [
          30
         ],
         "xaxis": "x",
         "y": [
          "DT4HSign-10-loss of appetite (Loss of appetite )"
         ],
         "yaxis": "y"
        },
        {
         "alignmentgroup": "True",
         "customdata": [
          [
           "EXACT"
          ]
         ],
         "hovertemplate": "span=perder peso<br>Count=%{x}<br>Name=%{y}<br>Semantic Relationship=%{customdata[0]}<extra></extra>",
         "legendgroup": "perder peso",
         "marker": {
          "color": "#EF553B",
          "pattern": {
           "shape": ""
          }
         },
         "name": "perder peso",
         "offsetgroup": "perder peso",
         "orientation": "h",
         "showlegend": true,
         "textposition": "auto",
         "type": "bar",
         "x": [
          2
         ],
         "xaxis": "x",
         "y": [
          "DT4HSign-19-weight loss  ( Weight loss )"
         ],
         "yaxis": "y"
        },
        {
         "alignmentgroup": "True",
         "customdata": [
          [
           "EXACT"
          ]
         ],
         "hovertemplate": "span=pérdida de peso<br>Count=%{x}<br>Name=%{y}<br>Semantic Relationship=%{customdata[0]}<extra></extra>",
         "legendgroup": "pérdida de peso",
         "marker": {
          "color": "#00cc96",
          "pattern": {
           "shape": ""
          }
         },
         "name": "pérdida de peso",
         "offsetgroup": "pérdida de peso",
         "orientation": "h",
         "showlegend": true,
         "textposition": "auto",
         "type": "bar",
         "x": [
          34
         ],
         "xaxis": "x",
         "y": [
          "DT4HSign-19-weight loss  ( Weight loss )"
         ],
         "yaxis": "y"
        },
        {
         "alignmentgroup": "True",
         "customdata": [
          [
           "EXACT"
          ]
         ],
         "hovertemplate": "span=pérdida ponderal<br>Count=%{x}<br>Name=%{y}<br>Semantic Relationship=%{customdata[0]}<extra></extra>",
         "legendgroup": "pérdida ponderal",
         "marker": {
          "color": "#ab63fa",
          "pattern": {
           "shape": ""
          }
         },
         "name": "pérdida ponderal",
         "offsetgroup": "pérdida ponderal",
         "orientation": "h",
         "showlegend": true,
         "textposition": "auto",
         "type": "bar",
         "x": [
          4
         ],
         "xaxis": "x",
         "y": [
          "DT4HSign-19-weight loss  ( Weight loss )"
         ],
         "yaxis": "y"
        },
        {
         "alignmentgroup": "True",
         "customdata": [
          [
           "EXACT"
          ]
         ],
         "hovertemplate": "span=pérdida de 8 kg de peso<br>Count=%{x}<br>Name=%{y}<br>Semantic Relationship=%{customdata[0]}<extra></extra>",
         "legendgroup": "pérdida de 8 kg de peso",
         "marker": {
          "color": "#FFA15A",
          "pattern": {
           "shape": ""
          }
         },
         "name": "pérdida de 8 kg de peso",
         "offsetgroup": "pérdida de 8 kg de peso",
         "orientation": "h",
         "showlegend": true,
         "textposition": "auto",
         "type": "bar",
         "x": [
          1
         ],
         "xaxis": "x",
         "y": [
          "DT4HSign-19-weight loss  ( Weight loss )"
         ],
         "yaxis": "y"
        },
        {
         "alignmentgroup": "True",
         "customdata": [
          [
           "EXACT"
          ]
         ],
         "hovertemplate": "span=pérdida de 17 kg de peso<br>Count=%{x}<br>Name=%{y}<br>Semantic Relationship=%{customdata[0]}<extra></extra>",
         "legendgroup": "pérdida de 17 kg de peso",
         "marker": {
          "color": "#19d3f3",
          "pattern": {
           "shape": ""
          }
         },
         "name": "pérdida de 17 kg de peso",
         "offsetgroup": "pérdida de 17 kg de peso",
         "orientation": "h",
         "showlegend": true,
         "textposition": "auto",
         "type": "bar",
         "x": [
          1
         ],
         "xaxis": "x",
         "y": [
          "DT4HSign-19-weight loss  ( Weight loss )"
         ],
         "yaxis": "y"
        },
        {
         "alignmentgroup": "True",
         "customdata": [
          [
           "EXACT"
          ]
         ],
         "hovertemplate": "span=Pérdida de 2-3 Kg de peso<br>Count=%{x}<br>Name=%{y}<br>Semantic Relationship=%{customdata[0]}<extra></extra>",
         "legendgroup": "Pérdida de 2-3 Kg de peso",
         "marker": {
          "color": "#FF6692",
          "pattern": {
           "shape": ""
          }
         },
         "name": "Pérdida de 2-3 Kg de peso",
         "offsetgroup": "Pérdida de 2-3 Kg de peso",
         "orientation": "h",
         "showlegend": true,
         "textposition": "auto",
         "type": "bar",
         "x": [
          1
         ],
         "xaxis": "x",
         "y": [
          "DT4HSign-19-weight loss  ( Weight loss )"
         ],
         "yaxis": "y"
        },
        {
         "alignmentgroup": "True",
         "customdata": [
          [
           "EXACT"
          ]
         ],
         "hovertemplate": "span=perdido unos 20 kg de peso<br>Count=%{x}<br>Name=%{y}<br>Semantic Relationship=%{customdata[0]}<extra></extra>",
         "legendgroup": "perdido unos 20 kg de peso",
         "marker": {
          "color": "#B6E880",
          "pattern": {
           "shape": ""
          }
         },
         "name": "perdido unos 20 kg de peso",
         "offsetgroup": "perdido unos 20 kg de peso",
         "orientation": "h",
         "showlegend": true,
         "textposition": "auto",
         "type": "bar",
         "x": [
          1
         ],
         "xaxis": "x",
         "y": [
          "DT4HSign-19-weight loss  ( Weight loss )"
         ],
         "yaxis": "y"
        },
        {
         "alignmentgroup": "True",
         "customdata": [
          [
           "EXACT"
          ]
         ],
         "hovertemplate": "span=pérdida de 10 kg de peso<br>Count=%{x}<br>Name=%{y}<br>Semantic Relationship=%{customdata[0]}<extra></extra>",
         "legendgroup": "pérdida de 10 kg de peso",
         "marker": {
          "color": "#FF97FF",
          "pattern": {
           "shape": ""
          }
         },
         "name": "pérdida de 10 kg de peso",
         "offsetgroup": "pérdida de 10 kg de peso",
         "orientation": "h",
         "showlegend": true,
         "textposition": "auto",
         "type": "bar",
         "x": [
          1
         ],
         "xaxis": "x",
         "y": [
          "DT4HSign-19-weight loss  ( Weight loss )"
         ],
         "yaxis": "y"
        },
        {
         "alignmentgroup": "True",
         "customdata": [
          [
           "EXACT"
          ]
         ],
         "hovertemplate": "span=perdida de peso<br>Count=%{x}<br>Name=%{y}<br>Semantic Relationship=%{customdata[0]}<extra></extra>",
         "legendgroup": "perdida de peso",
         "marker": {
          "color": "#FECB52",
          "pattern": {
           "shape": ""
          }
         },
         "name": "perdida de peso",
         "offsetgroup": "perdida de peso",
         "orientation": "h",
         "showlegend": true,
         "textposition": "auto",
         "type": "bar",
         "x": [
          1
         ],
         "xaxis": "x",
         "y": [
          "DT4HSign-19-weight loss  ( Weight loss )"
         ],
         "yaxis": "y"
        },
        {
         "alignmentgroup": "True",
         "customdata": [
          [
           "EXACT"
          ]
         ],
         "hovertemplate": "span=pérdida de 7 kg de peso<br>Count=%{x}<br>Name=%{y}<br>Semantic Relationship=%{customdata[0]}<extra></extra>",
         "legendgroup": "pérdida de 7 kg de peso",
         "marker": {
          "color": "#636efa",
          "pattern": {
           "shape": ""
          }
         },
         "name": "pérdida de 7 kg de peso",
         "offsetgroup": "pérdida de 7 kg de peso",
         "orientation": "h",
         "showlegend": true,
         "textposition": "auto",
         "type": "bar",
         "x": [
          3
         ],
         "xaxis": "x",
         "y": [
          "DT4HSign-19-weight loss  ( Weight loss )"
         ],
         "yaxis": "y"
        },
        {
         "alignmentgroup": "True",
         "customdata": [
          [
           "EXACT"
          ]
         ],
         "hovertemplate": "span=pérdida de unos 21 kilogramos de peso<br>Count=%{x}<br>Name=%{y}<br>Semantic Relationship=%{customdata[0]}<extra></extra>",
         "legendgroup": "pérdida de unos 21 kilogramos de peso",
         "marker": {
          "color": "#EF553B",
          "pattern": {
           "shape": ""
          }
         },
         "name": "pérdida de unos 21 kilogramos de peso",
         "offsetgroup": "pérdida de unos 21 kilogramos de peso",
         "orientation": "h",
         "showlegend": true,
         "textposition": "auto",
         "type": "bar",
         "x": [
          1
         ],
         "xaxis": "x",
         "y": [
          "DT4HSign-19-weight loss  ( Weight loss )"
         ],
         "yaxis": "y"
        },
        {
         "alignmentgroup": "True",
         "customdata": [
          [
           "EXACT"
          ]
         ],
         "hovertemplate": "span=pérdida de 6,4 kg de peso<br>Count=%{x}<br>Name=%{y}<br>Semantic Relationship=%{customdata[0]}<extra></extra>",
         "legendgroup": "pérdida de 6,4 kg de peso",
         "marker": {
          "color": "#00cc96",
          "pattern": {
           "shape": ""
          }
         },
         "name": "pérdida de 6,4 kg de peso",
         "offsetgroup": "pérdida de 6,4 kg de peso",
         "orientation": "h",
         "showlegend": true,
         "textposition": "auto",
         "type": "bar",
         "x": [
          1
         ],
         "xaxis": "x",
         "y": [
          "DT4HSign-19-weight loss  ( Weight loss )"
         ],
         "yaxis": "y"
        },
        {
         "alignmentgroup": "True",
         "customdata": [
          [
           "EXACT"
          ]
         ],
         "hovertemplate": "span=pérdida de 5 kg de peso<br>Count=%{x}<br>Name=%{y}<br>Semantic Relationship=%{customdata[0]}<extra></extra>",
         "legendgroup": "pérdida de 5 kg de peso",
         "marker": {
          "color": "#ab63fa",
          "pattern": {
           "shape": ""
          }
         },
         "name": "pérdida de 5 kg de peso",
         "offsetgroup": "pérdida de 5 kg de peso",
         "orientation": "h",
         "showlegend": true,
         "textposition": "auto",
         "type": "bar",
         "x": [
          1
         ],
         "xaxis": "x",
         "y": [
          "DT4HSign-19-weight loss  ( Weight loss )"
         ],
         "yaxis": "y"
        },
        {
         "alignmentgroup": "True",
         "customdata": [
          [
           "EXACT"
          ]
         ],
         "hovertemplate": "span=pérdida de 25 kg de peso<br>Count=%{x}<br>Name=%{y}<br>Semantic Relationship=%{customdata[0]}<extra></extra>",
         "legendgroup": "pérdida de 25 kg de peso",
         "marker": {
          "color": "#FFA15A",
          "pattern": {
           "shape": ""
          }
         },
         "name": "pérdida de 25 kg de peso",
         "offsetgroup": "pérdida de 25 kg de peso",
         "orientation": "h",
         "showlegend": true,
         "textposition": "auto",
         "type": "bar",
         "x": [
          1
         ],
         "xaxis": "x",
         "y": [
          "DT4HSign-19-weight loss  ( Weight loss )"
         ],
         "yaxis": "y"
        },
        {
         "alignmentgroup": "True",
         "customdata": [
          [
           "EXACT"
          ]
         ],
         "hovertemplate": "span=pérdida del 23% de su peso habitual<br>Count=%{x}<br>Name=%{y}<br>Semantic Relationship=%{customdata[0]}<extra></extra>",
         "legendgroup": "pérdida del 23% de su peso habitual",
         "marker": {
          "color": "#19d3f3",
          "pattern": {
           "shape": ""
          }
         },
         "name": "pérdida del 23% de su peso habitual",
         "offsetgroup": "pérdida del 23% de su peso habitual",
         "orientation": "h",
         "showlegend": true,
         "textposition": "auto",
         "type": "bar",
         "x": [
          1
         ],
         "xaxis": "x",
         "y": [
          "DT4HSign-19-weight loss  ( Weight loss )"
         ],
         "yaxis": "y"
        },
        {
         "alignmentgroup": "True",
         "customdata": [
          [
           "EXACT"
          ]
         ],
         "hovertemplate": "span=pérdida de unos 20 kg de peso<br>Count=%{x}<br>Name=%{y}<br>Semantic Relationship=%{customdata[0]}<extra></extra>",
         "legendgroup": "pérdida de unos 20 kg de peso",
         "marker": {
          "color": "#FF6692",
          "pattern": {
           "shape": ""
          }
         },
         "name": "pérdida de unos 20 kg de peso",
         "offsetgroup": "pérdida de unos 20 kg de peso",
         "orientation": "h",
         "showlegend": true,
         "textposition": "auto",
         "type": "bar",
         "x": [
          1
         ],
         "xaxis": "x",
         "y": [
          "DT4HSign-19-weight loss  ( Weight loss )"
         ],
         "yaxis": "y"
        },
        {
         "alignmentgroup": "True",
         "customdata": [
          [
           "EXACT"
          ]
         ],
         "hovertemplate": "span=pérdida de unos 15 kg de peso<br>Count=%{x}<br>Name=%{y}<br>Semantic Relationship=%{customdata[0]}<extra></extra>",
         "legendgroup": "pérdida de unos 15 kg de peso",
         "marker": {
          "color": "#B6E880",
          "pattern": {
           "shape": ""
          }
         },
         "name": "pérdida de unos 15 kg de peso",
         "offsetgroup": "pérdida de unos 15 kg de peso",
         "orientation": "h",
         "showlegend": true,
         "textposition": "auto",
         "type": "bar",
         "x": [
          1
         ],
         "xaxis": "x",
         "y": [
          "DT4HSign-19-weight loss  ( Weight loss )"
         ],
         "yaxis": "y"
        },
        {
         "alignmentgroup": "True",
         "customdata": [
          [
           "EXACT"
          ]
         ],
         "hovertemplate": "span=pérdida de de peso<br>Count=%{x}<br>Name=%{y}<br>Semantic Relationship=%{customdata[0]}<extra></extra>",
         "legendgroup": "pérdida de de peso",
         "marker": {
          "color": "#FF97FF",
          "pattern": {
           "shape": ""
          }
         },
         "name": "pérdida de de peso",
         "offsetgroup": "pérdida de de peso",
         "orientation": "h",
         "showlegend": true,
         "textposition": "auto",
         "type": "bar",
         "x": [
          1
         ],
         "xaxis": "x",
         "y": [
          "DT4HSign-19-weight loss  ( Weight loss )"
         ],
         "yaxis": "y"
        },
        {
         "alignmentgroup": "True",
         "customdata": [
          [
           "EXACT"
          ]
         ],
         "hovertemplate": "span=pérdida de unos 8 kg de peso<br>Count=%{x}<br>Name=%{y}<br>Semantic Relationship=%{customdata[0]}<extra></extra>",
         "legendgroup": "pérdida de unos 8 kg de peso",
         "marker": {
          "color": "#FECB52",
          "pattern": {
           "shape": ""
          }
         },
         "name": "pérdida de unos 8 kg de peso",
         "offsetgroup": "pérdida de unos 8 kg de peso",
         "orientation": "h",
         "showlegend": true,
         "textposition": "auto",
         "type": "bar",
         "x": [
          1
         ],
         "xaxis": "x",
         "y": [
          "DT4HSign-19-weight loss  ( Weight loss )"
         ],
         "yaxis": "y"
        },
        {
         "alignmentgroup": "True",
         "customdata": [
          [
           "EXACT"
          ]
         ],
         "hovertemplate": "span=pérdida de 12 kilogramos de peso<br>Count=%{x}<br>Name=%{y}<br>Semantic Relationship=%{customdata[0]}<extra></extra>",
         "legendgroup": "pérdida de 12 kilogramos de peso",
         "marker": {
          "color": "#636efa",
          "pattern": {
           "shape": ""
          }
         },
         "name": "pérdida de 12 kilogramos de peso",
         "offsetgroup": "pérdida de 12 kilogramos de peso",
         "orientation": "h",
         "showlegend": true,
         "textposition": "auto",
         "type": "bar",
         "x": [
          1
         ],
         "xaxis": "x",
         "y": [
          "DT4HSign-19-weight loss  ( Weight loss )"
         ],
         "yaxis": "y"
        },
        {
         "alignmentgroup": "True",
         "customdata": [
          [
           "EXACT"
          ]
         ],
         "hovertemplate": "span=pérdida de 15 kg de peso<br>Count=%{x}<br>Name=%{y}<br>Semantic Relationship=%{customdata[0]}<extra></extra>",
         "legendgroup": "pérdida de 15 kg de peso",
         "marker": {
          "color": "#EF553B",
          "pattern": {
           "shape": ""
          }
         },
         "name": "pérdida de 15 kg de peso",
         "offsetgroup": "pérdida de 15 kg de peso",
         "orientation": "h",
         "showlegend": true,
         "textposition": "auto",
         "type": "bar",
         "x": [
          1
         ],
         "xaxis": "x",
         "y": [
          "DT4HSign-19-weight loss  ( Weight loss )"
         ],
         "yaxis": "y"
        },
        {
         "alignmentgroup": "True",
         "customdata": [
          [
           "EXACT"
          ]
         ],
         "hovertemplate": "span=pérdida de 15kg de peso<br>Count=%{x}<br>Name=%{y}<br>Semantic Relationship=%{customdata[0]}<extra></extra>",
         "legendgroup": "pérdida de 15kg de peso",
         "marker": {
          "color": "#00cc96",
          "pattern": {
           "shape": ""
          }
         },
         "name": "pérdida de 15kg de peso",
         "offsetgroup": "pérdida de 15kg de peso",
         "orientation": "h",
         "showlegend": true,
         "textposition": "auto",
         "type": "bar",
         "x": [
          1
         ],
         "xaxis": "x",
         "y": [
          "DT4HSign-19-weight loss  ( Weight loss )"
         ],
         "yaxis": "y"
        },
        {
         "alignmentgroup": "True",
         "customdata": [
          [
           "EXACT"
          ]
         ],
         "hovertemplate": "span=pérdida de 16 kilogramos (kg) de peso<br>Count=%{x}<br>Name=%{y}<br>Semantic Relationship=%{customdata[0]}<extra></extra>",
         "legendgroup": "pérdida de 16 kilogramos (kg) de peso",
         "marker": {
          "color": "#ab63fa",
          "pattern": {
           "shape": ""
          }
         },
         "name": "pérdida de 16 kilogramos (kg) de peso",
         "offsetgroup": "pérdida de 16 kilogramos (kg) de peso",
         "orientation": "h",
         "showlegend": true,
         "textposition": "auto",
         "type": "bar",
         "x": [
          1
         ],
         "xaxis": "x",
         "y": [
          "DT4HSign-19-weight loss  ( Weight loss )"
         ],
         "yaxis": "y"
        },
        {
         "alignmentgroup": "True",
         "customdata": [
          [
           "EXACT"
          ]
         ],
         "hovertemplate": "span=pérdida de 3 kg de peso<br>Count=%{x}<br>Name=%{y}<br>Semantic Relationship=%{customdata[0]}<extra></extra>",
         "legendgroup": "pérdida de 3 kg de peso",
         "marker": {
          "color": "#FFA15A",
          "pattern": {
           "shape": ""
          }
         },
         "name": "pérdida de 3 kg de peso",
         "offsetgroup": "pérdida de 3 kg de peso",
         "orientation": "h",
         "showlegend": true,
         "textposition": "auto",
         "type": "bar",
         "x": [
          1
         ],
         "xaxis": "x",
         "y": [
          "DT4HSign-19-weight loss  ( Weight loss )"
         ],
         "yaxis": "y"
        },
        {
         "alignmentgroup": "True",
         "customdata": [
          [
           "EXACT"
          ]
         ],
         "hovertemplate": "span=pérdida de treinta libras de peso<br>Count=%{x}<br>Name=%{y}<br>Semantic Relationship=%{customdata[0]}<extra></extra>",
         "legendgroup": "pérdida de treinta libras de peso",
         "marker": {
          "color": "#19d3f3",
          "pattern": {
           "shape": ""
          }
         },
         "name": "pérdida de treinta libras de peso",
         "offsetgroup": "pérdida de treinta libras de peso",
         "orientation": "h",
         "showlegend": true,
         "textposition": "auto",
         "type": "bar",
         "x": [
          1
         ],
         "xaxis": "x",
         "y": [
          "DT4HSign-19-weight loss  ( Weight loss )"
         ],
         "yaxis": "y"
        }
       ],
       "layout": {
        "barmode": "relative",
        "height": 600,
        "legend": {
         "title": {
          "text": "span"
         },
         "tracegroupgap": 0
        },
        "showlegend": false,
        "template": {
         "data": {
          "bar": [
           {
            "error_x": {
             "color": "#2a3f5f"
            },
            "error_y": {
             "color": "#2a3f5f"
            },
            "marker": {
             "line": {
              "color": "#E5ECF6",
              "width": 0.5
             },
             "pattern": {
              "fillmode": "overlay",
              "size": 10,
              "solidity": 0.2
             }
            },
            "type": "bar"
           }
          ],
          "barpolar": [
           {
            "marker": {
             "line": {
              "color": "#E5ECF6",
              "width": 0.5
             },
             "pattern": {
              "fillmode": "overlay",
              "size": 10,
              "solidity": 0.2
             }
            },
            "type": "barpolar"
           }
          ],
          "carpet": [
           {
            "aaxis": {
             "endlinecolor": "#2a3f5f",
             "gridcolor": "white",
             "linecolor": "white",
             "minorgridcolor": "white",
             "startlinecolor": "#2a3f5f"
            },
            "baxis": {
             "endlinecolor": "#2a3f5f",
             "gridcolor": "white",
             "linecolor": "white",
             "minorgridcolor": "white",
             "startlinecolor": "#2a3f5f"
            },
            "type": "carpet"
           }
          ],
          "choropleth": [
           {
            "colorbar": {
             "outlinewidth": 0,
             "ticks": ""
            },
            "type": "choropleth"
           }
          ],
          "contour": [
           {
            "colorbar": {
             "outlinewidth": 0,
             "ticks": ""
            },
            "colorscale": [
             [
              0,
              "#0d0887"
             ],
             [
              0.1111111111111111,
              "#46039f"
             ],
             [
              0.2222222222222222,
              "#7201a8"
             ],
             [
              0.3333333333333333,
              "#9c179e"
             ],
             [
              0.4444444444444444,
              "#bd3786"
             ],
             [
              0.5555555555555556,
              "#d8576b"
             ],
             [
              0.6666666666666666,
              "#ed7953"
             ],
             [
              0.7777777777777778,
              "#fb9f3a"
             ],
             [
              0.8888888888888888,
              "#fdca26"
             ],
             [
              1,
              "#f0f921"
             ]
            ],
            "type": "contour"
           }
          ],
          "contourcarpet": [
           {
            "colorbar": {
             "outlinewidth": 0,
             "ticks": ""
            },
            "type": "contourcarpet"
           }
          ],
          "heatmap": [
           {
            "colorbar": {
             "outlinewidth": 0,
             "ticks": ""
            },
            "colorscale": [
             [
              0,
              "#0d0887"
             ],
             [
              0.1111111111111111,
              "#46039f"
             ],
             [
              0.2222222222222222,
              "#7201a8"
             ],
             [
              0.3333333333333333,
              "#9c179e"
             ],
             [
              0.4444444444444444,
              "#bd3786"
             ],
             [
              0.5555555555555556,
              "#d8576b"
             ],
             [
              0.6666666666666666,
              "#ed7953"
             ],
             [
              0.7777777777777778,
              "#fb9f3a"
             ],
             [
              0.8888888888888888,
              "#fdca26"
             ],
             [
              1,
              "#f0f921"
             ]
            ],
            "type": "heatmap"
           }
          ],
          "heatmapgl": [
           {
            "colorbar": {
             "outlinewidth": 0,
             "ticks": ""
            },
            "colorscale": [
             [
              0,
              "#0d0887"
             ],
             [
              0.1111111111111111,
              "#46039f"
             ],
             [
              0.2222222222222222,
              "#7201a8"
             ],
             [
              0.3333333333333333,
              "#9c179e"
             ],
             [
              0.4444444444444444,
              "#bd3786"
             ],
             [
              0.5555555555555556,
              "#d8576b"
             ],
             [
              0.6666666666666666,
              "#ed7953"
             ],
             [
              0.7777777777777778,
              "#fb9f3a"
             ],
             [
              0.8888888888888888,
              "#fdca26"
             ],
             [
              1,
              "#f0f921"
             ]
            ],
            "type": "heatmapgl"
           }
          ],
          "histogram": [
           {
            "marker": {
             "pattern": {
              "fillmode": "overlay",
              "size": 10,
              "solidity": 0.2
             }
            },
            "type": "histogram"
           }
          ],
          "histogram2d": [
           {
            "colorbar": {
             "outlinewidth": 0,
             "ticks": ""
            },
            "colorscale": [
             [
              0,
              "#0d0887"
             ],
             [
              0.1111111111111111,
              "#46039f"
             ],
             [
              0.2222222222222222,
              "#7201a8"
             ],
             [
              0.3333333333333333,
              "#9c179e"
             ],
             [
              0.4444444444444444,
              "#bd3786"
             ],
             [
              0.5555555555555556,
              "#d8576b"
             ],
             [
              0.6666666666666666,
              "#ed7953"
             ],
             [
              0.7777777777777778,
              "#fb9f3a"
             ],
             [
              0.8888888888888888,
              "#fdca26"
             ],
             [
              1,
              "#f0f921"
             ]
            ],
            "type": "histogram2d"
           }
          ],
          "histogram2dcontour": [
           {
            "colorbar": {
             "outlinewidth": 0,
             "ticks": ""
            },
            "colorscale": [
             [
              0,
              "#0d0887"
             ],
             [
              0.1111111111111111,
              "#46039f"
             ],
             [
              0.2222222222222222,
              "#7201a8"
             ],
             [
              0.3333333333333333,
              "#9c179e"
             ],
             [
              0.4444444444444444,
              "#bd3786"
             ],
             [
              0.5555555555555556,
              "#d8576b"
             ],
             [
              0.6666666666666666,
              "#ed7953"
             ],
             [
              0.7777777777777778,
              "#fb9f3a"
             ],
             [
              0.8888888888888888,
              "#fdca26"
             ],
             [
              1,
              "#f0f921"
             ]
            ],
            "type": "histogram2dcontour"
           }
          ],
          "mesh3d": [
           {
            "colorbar": {
             "outlinewidth": 0,
             "ticks": ""
            },
            "type": "mesh3d"
           }
          ],
          "parcoords": [
           {
            "line": {
             "colorbar": {
              "outlinewidth": 0,
              "ticks": ""
             }
            },
            "type": "parcoords"
           }
          ],
          "pie": [
           {
            "automargin": true,
            "type": "pie"
           }
          ],
          "scatter": [
           {
            "fillpattern": {
             "fillmode": "overlay",
             "size": 10,
             "solidity": 0.2
            },
            "type": "scatter"
           }
          ],
          "scatter3d": [
           {
            "line": {
             "colorbar": {
              "outlinewidth": 0,
              "ticks": ""
             }
            },
            "marker": {
             "colorbar": {
              "outlinewidth": 0,
              "ticks": ""
             }
            },
            "type": "scatter3d"
           }
          ],
          "scattercarpet": [
           {
            "marker": {
             "colorbar": {
              "outlinewidth": 0,
              "ticks": ""
             }
            },
            "type": "scattercarpet"
           }
          ],
          "scattergeo": [
           {
            "marker": {
             "colorbar": {
              "outlinewidth": 0,
              "ticks": ""
             }
            },
            "type": "scattergeo"
           }
          ],
          "scattergl": [
           {
            "marker": {
             "colorbar": {
              "outlinewidth": 0,
              "ticks": ""
             }
            },
            "type": "scattergl"
           }
          ],
          "scattermapbox": [
           {
            "marker": {
             "colorbar": {
              "outlinewidth": 0,
              "ticks": ""
             }
            },
            "type": "scattermapbox"
           }
          ],
          "scatterpolar": [
           {
            "marker": {
             "colorbar": {
              "outlinewidth": 0,
              "ticks": ""
             }
            },
            "type": "scatterpolar"
           }
          ],
          "scatterpolargl": [
           {
            "marker": {
             "colorbar": {
              "outlinewidth": 0,
              "ticks": ""
             }
            },
            "type": "scatterpolargl"
           }
          ],
          "scatterternary": [
           {
            "marker": {
             "colorbar": {
              "outlinewidth": 0,
              "ticks": ""
             }
            },
            "type": "scatterternary"
           }
          ],
          "surface": [
           {
            "colorbar": {
             "outlinewidth": 0,
             "ticks": ""
            },
            "colorscale": [
             [
              0,
              "#0d0887"
             ],
             [
              0.1111111111111111,
              "#46039f"
             ],
             [
              0.2222222222222222,
              "#7201a8"
             ],
             [
              0.3333333333333333,
              "#9c179e"
             ],
             [
              0.4444444444444444,
              "#bd3786"
             ],
             [
              0.5555555555555556,
              "#d8576b"
             ],
             [
              0.6666666666666666,
              "#ed7953"
             ],
             [
              0.7777777777777778,
              "#fb9f3a"
             ],
             [
              0.8888888888888888,
              "#fdca26"
             ],
             [
              1,
              "#f0f921"
             ]
            ],
            "type": "surface"
           }
          ],
          "table": [
           {
            "cells": {
             "fill": {
              "color": "#EBF0F8"
             },
             "line": {
              "color": "white"
             }
            },
            "header": {
             "fill": {
              "color": "#C8D4E3"
             },
             "line": {
              "color": "white"
             }
            },
            "type": "table"
           }
          ]
         },
         "layout": {
          "annotationdefaults": {
           "arrowcolor": "#2a3f5f",
           "arrowhead": 0,
           "arrowwidth": 1
          },
          "autotypenumbers": "strict",
          "coloraxis": {
           "colorbar": {
            "outlinewidth": 0,
            "ticks": ""
           }
          },
          "colorscale": {
           "diverging": [
            [
             0,
             "#8e0152"
            ],
            [
             0.1,
             "#c51b7d"
            ],
            [
             0.2,
             "#de77ae"
            ],
            [
             0.3,
             "#f1b6da"
            ],
            [
             0.4,
             "#fde0ef"
            ],
            [
             0.5,
             "#f7f7f7"
            ],
            [
             0.6,
             "#e6f5d0"
            ],
            [
             0.7,
             "#b8e186"
            ],
            [
             0.8,
             "#7fbc41"
            ],
            [
             0.9,
             "#4d9221"
            ],
            [
             1,
             "#276419"
            ]
           ],
           "sequential": [
            [
             0,
             "#0d0887"
            ],
            [
             0.1111111111111111,
             "#46039f"
            ],
            [
             0.2222222222222222,
             "#7201a8"
            ],
            [
             0.3333333333333333,
             "#9c179e"
            ],
            [
             0.4444444444444444,
             "#bd3786"
            ],
            [
             0.5555555555555556,
             "#d8576b"
            ],
            [
             0.6666666666666666,
             "#ed7953"
            ],
            [
             0.7777777777777778,
             "#fb9f3a"
            ],
            [
             0.8888888888888888,
             "#fdca26"
            ],
            [
             1,
             "#f0f921"
            ]
           ],
           "sequentialminus": [
            [
             0,
             "#0d0887"
            ],
            [
             0.1111111111111111,
             "#46039f"
            ],
            [
             0.2222222222222222,
             "#7201a8"
            ],
            [
             0.3333333333333333,
             "#9c179e"
            ],
            [
             0.4444444444444444,
             "#bd3786"
            ],
            [
             0.5555555555555556,
             "#d8576b"
            ],
            [
             0.6666666666666666,
             "#ed7953"
            ],
            [
             0.7777777777777778,
             "#fb9f3a"
            ],
            [
             0.8888888888888888,
             "#fdca26"
            ],
            [
             1,
             "#f0f921"
            ]
           ]
          },
          "colorway": [
           "#636efa",
           "#EF553B",
           "#00cc96",
           "#ab63fa",
           "#FFA15A",
           "#19d3f3",
           "#FF6692",
           "#B6E880",
           "#FF97FF",
           "#FECB52"
          ],
          "font": {
           "color": "#2a3f5f"
          },
          "geo": {
           "bgcolor": "white",
           "lakecolor": "white",
           "landcolor": "#E5ECF6",
           "showlakes": true,
           "showland": true,
           "subunitcolor": "white"
          },
          "hoverlabel": {
           "align": "left"
          },
          "hovermode": "closest",
          "mapbox": {
           "style": "light"
          },
          "paper_bgcolor": "white",
          "plot_bgcolor": "#E5ECF6",
          "polar": {
           "angularaxis": {
            "gridcolor": "white",
            "linecolor": "white",
            "ticks": ""
           },
           "bgcolor": "#E5ECF6",
           "radialaxis": {
            "gridcolor": "white",
            "linecolor": "white",
            "ticks": ""
           }
          },
          "scene": {
           "xaxis": {
            "backgroundcolor": "#E5ECF6",
            "gridcolor": "white",
            "gridwidth": 2,
            "linecolor": "white",
            "showbackground": true,
            "ticks": "",
            "zerolinecolor": "white"
           },
           "yaxis": {
            "backgroundcolor": "#E5ECF6",
            "gridcolor": "white",
            "gridwidth": 2,
            "linecolor": "white",
            "showbackground": true,
            "ticks": "",
            "zerolinecolor": "white"
           },
           "zaxis": {
            "backgroundcolor": "#E5ECF6",
            "gridcolor": "white",
            "gridwidth": 2,
            "linecolor": "white",
            "showbackground": true,
            "ticks": "",
            "zerolinecolor": "white"
           }
          },
          "shapedefaults": {
           "line": {
            "color": "#2a3f5f"
           }
          },
          "ternary": {
           "aaxis": {
            "gridcolor": "white",
            "linecolor": "white",
            "ticks": ""
           },
           "baxis": {
            "gridcolor": "white",
            "linecolor": "white",
            "ticks": ""
           },
           "bgcolor": "#E5ECF6",
           "caxis": {
            "gridcolor": "white",
            "linecolor": "white",
            "ticks": ""
           }
          },
          "title": {
           "x": 0.05
          },
          "xaxis": {
           "automargin": true,
           "gridcolor": "white",
           "linecolor": "white",
           "ticks": "",
           "title": {
            "standoff": 15
           },
           "zerolinecolor": "white",
           "zerolinewidth": 2
          },
          "yaxis": {
           "automargin": true,
           "gridcolor": "white",
           "linecolor": "white",
           "ticks": "",
           "title": {
            "standoff": 15
           },
           "zerolinecolor": "white",
           "zerolinewidth": 2
          }
         }
        },
        "title": {
         "text": "Codes Distribution [Variable Name (SNOMED term)]"
        },
        "xaxis": {
         "anchor": "y",
         "domain": [
          0,
          1
         ],
         "title": {
          "text": "Count"
         }
        },
        "yaxis": {
         "anchor": "x",
         "domain": [
          0,
          1
         ],
         "title": {
          "text": "Name"
         }
        }
       }
      }
     },
     "metadata": {},
     "output_type": "display_data"
    }
   ],
   "source": [
    "def plot_code_distribution(df):\n",
    "    import plotly.express as px\n",
    "    from plotly.subplots import make_subplots\n",
    "\n",
    "    # Filter the dataframe to exclude rows where 'span' is \"NOT_FOUND\"\n",
    "    df = df.copy()\n",
    "    ls_semantic_rel = df[\"semantic_rel\"].unique().tolist()\n",
    "\n",
    "    df[\"ID+term\"] = df[\"ID\"] + \"-\" + df[\"name\"] + \" (\" + df[\"term\"] + \")\"\n",
    "    df_found = df.loc[(df[\"span\"] != \"NOT_FOUND\"), :].copy()\n",
    "    df_count_rel = df_found[[\"ID+term\"] + ls_semantic_rel + [\"count_ID\"]].melt(id_vars=[\"ID+term\", \"count_ID\"], var_name=\"semantic_rel\", value_name=\"count\").drop_duplicates()\n",
    "    df_n_founds = df[[\"ID\", \"found\"]].drop_duplicates()\n",
    "\n",
    "    # Assuming df_found and df_n_founds are already defined\n",
    "\n",
    "    # Create the pie charts\n",
    "\n",
    "    fig01 = px.pie(df_n_founds, names='found', title='Found Variables')\n",
    "    fig01.update_traces(textinfo='label+percent+value')\n",
    "\n",
    "    fig02 = px.pie(df_found.drop_duplicates(subset=[\"ID\"]), names='semantic_tag', title='Semantic Tag Distribution')\n",
    "    fig02.update_traces(textinfo='label+percent+value')\n",
    "\n",
    "    fig03 = px.pie(df_found, names='semantic_rel', title='Semantic Relationship Distribution')\n",
    "    fig03.update_traces(textinfo='label+percent+value')\n",
    "\n",
    "\n",
    "    # Create a subplot layout with 1 row and 2 columns\n",
    "    fig = make_subplots(rows=1, cols=3, subplot_titles=(\"Found Variables\", \"Semantic Tag Distribution\", \"Semantic Relationship Distribution (Total Mentions)\"),\n",
    "                            specs=[[{\"type\": \"pie\"}] * 3])\n",
    "\n",
    "    # Add the pie charts to the subplots\n",
    "    fig.add_trace(fig01.data[0], row=1, col=1)\n",
    "    fig.add_trace(fig02.data[0], row=1, col=2)\n",
    "    fig.add_trace(fig03.data[0], row=1, col=3)\n",
    "\n",
    "    # Update the layout to adjust the title and other settings\n",
    "    fig.update_layout(title_text=\"Distribution of Semantic Relationships and Found Codes\", showlegend=False,\n",
    "                      height=600)\n",
    "\n",
    "    # Display the combined figure\n",
    "    fig.show()\n",
    "\n",
    "    # print(df_count_rel[df_count_rel.term.str.contains(\"Diabetes\")].to_markdown())\n",
    "    # Assuming df_aggregated is correctly aggregated data\n",
    "    n_terms = df_found[\"ID+term\"].nunique()\n",
    "    n_show = 25\n",
    "\n",
    "    fig1 = px.bar(df_count_rel.sort_values(by=\"count_ID\", ascending=True),\n",
    "                y='ID+term', x='count', color='semantic_rel', \n",
    "                title=f'Codes by Semantic Relationship [Variable Name (SNOMED term)] <Zoom {n_show} out of {n_terms} terms; zoom out to see all>',\n",
    "                labels={'count': 'Count', 'ID+term': 'Name'},\n",
    "                orientation='h')\n",
    "    \n",
    "    fig1.update_layout(\n",
    "                           height=600,\n",
    "                            yaxis=dict(\n",
    "                                        range=[n_terms - n_show, n_terms],\n",
    "                                        tickmode='linear',\n",
    "                                        dtick=1,\n",
    "                                    )\n",
    "                                    )\n",
    "    fig1.show()\n",
    "\n",
    "    # Create a bar chart for all the found codes by count\n",
    "    # ls_IDs = df_found.sort_values(by=\"count_ID\", ascending=False)[\"ID+term\"].unique().tolist()[:25]\n",
    "    fig2 = px.bar(df_found.sort_values(by=\"count_ID\", ascending=True),\n",
    "                y='ID+term', x='count', color='span', title=f'Codes Distribution [Variable Name (SNOMED term)] <Zoom {n_show} out of {n_terms} terms; zoom out to see all>',\n",
    "                labels={'count': 'Count', 'ID+term': 'Name'},\n",
    "                orientation='h')\n",
    "    \n",
    "    fig2.update_layout(showlegend=False, \n",
    "                           height=600,\n",
    "                            yaxis=dict(\n",
    "                                        range=[n_terms - n_show, n_terms],\n",
    "                                        tickmode='linear',\n",
    "                                        dtick=1,\n",
    "                                    )\n",
    "                                    )\n",
    "    fig2.show()\n",
    "\n",
    "\n",
    "plot_code_distribution(df_code_ovr)"
   ]
  },
  {
   "cell_type": "code",
   "execution_count": null,
   "metadata": {},
   "outputs": [],
   "source": []
  }
 ],
 "metadata": {
  "kernelspec": {
   "display_name": ".venv",
   "language": "python",
   "name": "python3"
  },
  "language_info": {
   "codemirror_mode": {
    "name": "ipython",
    "version": 3
   },
   "file_extension": ".py",
   "mimetype": "text/x-python",
   "name": "python",
   "nbconvert_exporter": "python",
   "pygments_lexer": "ipython3",
   "version": "3.10.12"
  }
 },
 "nbformat": 4,
 "nbformat_minor": 2
}
