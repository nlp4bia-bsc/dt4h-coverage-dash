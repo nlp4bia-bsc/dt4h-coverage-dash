{
 "cells": [
  {
   "cell_type": "markdown",
   "metadata": {},
   "source": [
    "# Analysis of the 3 Corpora"
   ]
  },
  {
   "cell_type": "code",
   "execution_count": 1,
   "metadata": {},
   "outputs": [
    {
     "name": "stdout",
     "output_type": "stream",
     "text": [
      "Loading data from data/processed/distemist.tsv\n",
      "Loading data from data/processed/symptemist.tsv\n",
      "Loading data from data/processed/medprocner.tsv\n"
     ]
    },
    {
     "data": {
      "text/html": [
       "\n",
       "        <iframe\n",
       "            width=\"100%\"\n",
       "            height=\"650\"\n",
       "            src=\"http://127.0.0.1:8001/\"\n",
       "            frameborder=\"0\"\n",
       "            allowfullscreen\n",
       "            \n",
       "        ></iframe>\n",
       "        "
      ],
      "text/plain": [
       "<IPython.lib.display.IFrame at 0x7f6987ad9480>"
      ]
     },
     "metadata": {},
     "output_type": "display_data"
    }
   ],
   "source": [
    "import pandas as pd\n",
    "import matplotlib.pyplot as plt\n",
    "\n",
    "from dash import Dash, dcc, html, dash_table\n",
    "from dash.dash_table.Format import Group\n",
    "\n",
    "from src.preprocessing import generate_df_codes\n",
    "from src.visualization import plot_code_distribution\n",
    "\n",
    "def report_corpus(corpus, show=True, debug=False):\n",
    "    DATA = f'data/processed/{corpus}.tsv'\n",
    "    DATA_VAR = 'data/variables/processed/variables.tsv'\n",
    "\n",
    "    print(f\"Loading data from {DATA}\")\n",
    "    df_data = pd.read_csv(DATA, sep='\\t', dtype={'code': str})\n",
    "    df_var = pd.read_csv(DATA_VAR, sep='\\t', dtype={'code': str})\n",
    "\n",
    "    df_code_ovr = generate_df_codes(df_data=df_data, df_vars=df_var, debug=debug)\n",
    "\n",
    "    output = plot_code_distribution(df_code_ovr, corpus=corpus, show=show)\n",
    "    return df_code_ovr, output\n",
    "\n",
    "ls_corpora = [\"distemist\", \"symptemist\", \"medprocner\"]\n",
    "\n",
    "df_report = pd.DataFrame()\n",
    "ls_figures = []\n",
    "for corpus in ls_corpora:\n",
    "    _, output = report_corpus(corpus, show=False)\n",
    "    df_report_i = output[0]\n",
    "    figures = output[1:]\n",
    "    df_report_i[\"corpus\"] = corpus\n",
    "    df_report = pd.concat([df_report, df_report_i])\n",
    "\n",
    "    ls_figures.extend(figures)\n",
    "\n",
    "# show the count_ID, total_mentions and total_ratio for each corpus using ID as index\n",
    "df_out = df_report.pivot(index=[\"ID\", \"name\", \"term\"], columns=\"corpus\", values=[\"count_ID\", \"total_mentions\", \"total_ratio\"])\n",
    "df_out.columns = [f\"{col}_{sub}\" for col, sub in df_out.columns]\n",
    "df_out = df_out.reset_index()\n",
    "\n",
    "\n",
    "# Initialize the Dash app\n",
    "app = Dash(__name__)\n",
    "# Define the Dash layout with interactive plots and table\n",
    "app.layout = html.Div([\n",
    "    html.H1(\"Interactive Data Report\"),\n",
    "\n",
    "        *[dcc.Graph(figure=fig) for fig in ls_figures],\n",
    "\n",
    "    dash_table.DataTable(\n",
    "        id='datatable-interactivity',\n",
    "        columns=[{\"name\": i, \"id\": i} for i in df_out.columns],\n",
    "        data=df_out.to_dict('records'),\n",
    "        filter_action=\"native\",\n",
    "        sort_action=\"native\",\n",
    "        sort_mode=\"multi\",\n",
    "        column_selectable=\"single\",\n",
    "        row_selectable=\"multi\",\n",
    "        selected_columns=[],\n",
    "        selected_rows=[],\n",
    "        page_action=\"native\",\n",
    "        page_current=0,\n",
    "        page_size=20,\n",
    "    ),\n",
    "])\n",
    "\n",
    "\n",
    "app.run_server(port=8001)"
   ]
  },
  {
   "cell_type": "code",
   "execution_count": 6,
   "metadata": {},
   "outputs": [],
   "source": [
    "# show the count_ID, total_mentions and total_ratio for each corpus using ID as index\n",
    "df_out = df_report.pivot(index=[\"ID\", \"name\", \"term\"], columns=\"corpus\", values=[\"count_ID\", \"total_mentions\", \"total_ratio\"])\n",
    "df_out.columns = [f\"{col}_{sub}\" for col, sub in df_out.columns]\n",
    "df_out = df_out.reset_index()"
   ]
  },
  {
   "cell_type": "code",
   "execution_count": 7,
   "metadata": {},
   "outputs": [
    {
     "name": "stdout",
     "output_type": "stream",
     "text": [
      "|     | ID             | name                                                                                                | term                                                                                                                              |   count_ID_distemist |   count_ID_medprocner |   count_ID_symptemist |   total_mentions_distemist |   total_mentions_medprocner |   total_mentions_symptemist |   total_ratio_distemist |   total_ratio_medprocner |   total_ratio_symptemist |\n",
      "|----:|:---------------|:----------------------------------------------------------------------------------------------------|:----------------------------------------------------------------------------------------------------------------------------------|---------------------:|----------------------:|----------------------:|---------------------------:|----------------------------:|----------------------------:|------------------------:|-------------------------:|-------------------------:|\n",
      "|   0 | DT4-MedR17     | Substance with renin inhibitor mechanism                                                            | Substance with renin inhibitor mechanism                                                                                          |                    0 |                     0 |                     0 |                        500 |                           0 |                         242 |                   0     |                        0 |               0          |\n",
      "|     |                | of action                                                                                           | of action                                                                                                                         |                      |                       |                       |                            |                             |                             |                         |                          |                          |\n",
      "|   1 | DT4-MedR171    | Aliskiren                                                                                           | Aliskiren                                                                                                                         |                    0 |                     0 |                     0 |                        500 |                           0 |                         242 |                   0     |                        0 |               0          |\n",
      "|   2 | DT4-MedR172    | Aliskiren fumarate                                                                                  | Aliskiren fumarate                                                                                                                |                    0 |                     0 |                     0 |                        500 |                           0 |                         242 |                   0     |                        0 |               0          |\n",
      "|   3 | DT4H-CV1       | Angina pectoris                                                                                     | Angina                                                                                                                            |                   21 |                     0 |                     0 |                        500 |                           0 |                         242 |                   0.042 |                        0 |               0          |\n",
      "|   4 | DT4H-CV10      | Transient Ischemic Attack                                                                           | Transient ischemic attack                                                                                                         |                    5 |                     0 |                     0 |                        500 |                           0 |                         242 |                   0.01  |                        0 |               0          |\n",
      "|   5 | DT4H-CV11      | Valvular disorder                                                                                   | Heart valve disorder                                                                                                              |                    5 |                     0 |                     0 |                        500 |                           0 |                         242 |                   0.01  |                        0 |               0          |\n",
      "|   6 | DT4H-CV12      | Revascularized CABG (Coronary artery bypass grafting)                                               | Coronary artery bypass grafting                                                                                                   |                    0 |                     0 |                     0 |                        500 |                           0 |                         242 |                   0     |                        0 |               0          |\n",
      "|   7 | DT4H-CV2       | Atrial fibrillation                                                                                 | Atrial fibrillation                                                                                                               |                   10 |                     0 |                     0 |                        500 |                           0 |                         242 |                   0.02  |                        0 |               0          |\n",
      "|   8 | DT4H-CV3       | Cardiomyopathies                                                                                    | Cardiomyopathy                                                                                                                    |                    0 |                     0 |                     0 |                        500 |                           0 |                         242 |                   0     |                        0 |               0          |\n",
      "|   9 | DT4H-CV4       | Heart failure                                                                                       | Heart failure                                                                                                                     |                    6 |                     0 |                     0 |                        500 |                           0 |                         242 |                   0.012 |                        0 |               0          |\n",
      "|  10 | DT4H-CV5       | Hypertension                                                                                        | Hypertensive disorder, systemic arterial                                                                                          |                  130 |                     0 |                     0 |                        500 |                           0 |                         242 |                   0.26  |                        0 |               0          |\n",
      "|  11 | DT4H-CV6       | Ischemic Heart disorder                                                                             | Ischemic heart disorder                                                                                                           |                    3 |                     0 |                     0 |                        500 |                           0 |                         242 |                   0.006 |                        0 |               0          |\n",
      "|  12 | DT4H-CV7       | Myocardial infarction                                                                               | Myocardial infarction                                                                                                             |                    2 |                     0 |                     0 |                        500 |                           0 |                         242 |                   0.004 |                        0 |               0          |\n",
      "|  13 | DT4H-CV8       | Peripheral artery disorder                                                                          | Peripheral arterial disorder                                                                                                      |                    0 |                     0 |                     0 |                        500 |                           0 |                         242 |                   0     |                        0 |               0          |\n",
      "|  14 | DT4H-CV9       | Stroke                                                                                              | Cerebrovascular accident                                                                                                          |                    1 |                     0 |                     0 |                        500 |                           0 |                         242 |                   0.002 |                        0 |               0          |\n",
      "|  15 | DT4H-Dis1      | AIDS or HIV diagnosis                                                                               | Acquired immune deficiency syndrome                                                                                               |                    0 |                     0 |                     0 |                        500 |                           0 |                         242 |                   0     |                        0 |               0          |\n",
      "|  16 | DT4H-Dis10     | Malignant Cancer                                                                                    | Malignant neoplastic disorder                                                                                                     |                   17 |                     0 |                     0 |                        500 |                           0 |                         242 |                   0.034 |                        0 |               0          |\n",
      "|  17 | DT4H-Dis11     | Obstructive Sleep Apnea                                                                             | Obstructive sleep apnea syndrome                                                                                                  |                    1 |                     0 |                     0 |                        500 |                           0 |                         242 |                   0.002 |                        0 |               0          |\n",
      "|  18 | DT4H-Dis12     | Rheumatic disorder                                                                                  | Rheumatism                                                                                                                        |                    1 |                     0 |                     0 |                        500 |                           0 |                         242 |                   0.002 |                        0 |               0          |\n",
      "|  19 | DT4H-Dis13     | Renal disorder chronic                                                                              | Chronic kidney disorder                                                                                                           |                   11 |                     0 |                     0 |                        500 |                           0 |                         242 |                   0.022 |                        0 |               0          |\n",
      "|  20 | DT4H-Dis2      | HIV positive                                                                                        | Human immunodeficiency virus infection                                                                                            |                    3 |                     0 |                     0 |                        500 |                           0 |                         242 |                   0.006 |                        0 |               0          |\n",
      "|  21 | DT4H-Dis3      | Chronic Obstructive Pulmonic disorder                                                               | Chronic obstructive lung disease                                                                                                  |                   15 |                     0 |                     0 |                        500 |                           0 |                         242 |                   0.03  |                        0 |               0          |\n",
      "|  22 | DT4H-Dis4      | Diabetes Mellitus                                                                                   | Diabetes mellitus                                                                                                                 |                   31 |                     0 |                     0 |                        500 |                           0 |                         242 |                   0.062 |                        0 |               0          |\n",
      "|  23 | DT4H-Dis5      | Dementia                                                                                            | Dementia                                                                                                                          |                    0 |                     0 |                     0 |                        500 |                           0 |                         242 |                   0     |                        0 |               0          |\n",
      "|  24 | DT4H-Dis6      | Depression                                                                                          | Depressive disorder                                                                                                               |                   13 |                     0 |                     0 |                        500 |                           0 |                         242 |                   0.026 |                        0 |               0          |\n",
      "|  25 | DT4H-Dis7      | Dialysis                                                                                            | Renal dialysis                                                                                                                    |                    0 |                     0 |                     0 |                        500 |                           0 |                         242 |                   0     |                        0 |               0          |\n",
      "|  26 | DT4H-Dis8      | Hyperthyroidism                                                                                     | Hyperthyroidism                                                                                                                   |                    2 |                     0 |                     0 |                        500 |                           0 |                         242 |                   0.004 |                        0 |               0          |\n",
      "|  27 | DT4H-Dis9      | Liver disorder                                                                                      | disorder of liver                                                                                                                 |                   14 |                     0 |                     0 |                        500 |                           0 |                         242 |                   0.028 |                        0 |               0          |\n",
      "|  28 | DT4H-Lab1      | Hb                                                                                                  | Hemoglobin                                                                                                                        |                    0 |                     0 |                     0 |                        500 |                           0 |                         242 |                   0     |                        0 |               0          |\n",
      "|  29 | DT4H-Lab10     | TropThs                                                                                             | Troponin T                                                                                                                        |                    0 |                     0 |                     0 |                        500 |                           0 |                         242 |                   0     |                        0 |               0          |\n",
      "|  30 | DT4H-Lab11     | TropTnhs                                                                                            | Troponin T                                                                                                                        |                    0 |                     0 |                     0 |                        500 |                           0 |                         242 |                   0     |                        0 |               0          |\n",
      "|  31 | DT4H-Lab12     | TriGly                                                                                              | Triacylglycerol                                                                                                                   |                    0 |                     0 |                     0 |                        500 |                           0 |                         242 |                   0     |                        0 |               0          |\n",
      "|  32 | DT4H-Lab13     | CholTot                                                                                             | Cholesterol                                                                                                                       |                    0 |                     0 |                     0 |                        500 |                           0 |                         242 |                   0     |                        0 |               0          |\n",
      "|  33 | DT4H-Lab14     | HDL                                                                                                 | High density lipoprotein                                                                                                          |                    0 |                     0 |                     0 |                        500 |                           0 |                         242 |                   0     |                        0 |               0          |\n",
      "|  34 | DT4H-Lab15     | LDL                                                                                                 | Low density lipoprotein                                                                                                           |                    0 |                     0 |                     0 |                        500 |                           0 |                         242 |                   0     |                        0 |               0          |\n",
      "|  35 | DT4H-Lab16     | Potassium                                                                                           | Potassium                                                                                                                         |                    0 |                     0 |                     0 |                        500 |                           0 |                         242 |                   0     |                        0 |               0          |\n",
      "|  36 | DT4H-Lab17     | Sodium                                                                                              | sodium                                                                                                                            |                    0 |                     0 |                     0 |                        500 |                           0 |                         242 |                   0     |                        0 |               0          |\n",
      "|  37 | DT4H-Lab18     | GGT                                                                                                 | Gamma-glutamyltransferase                                                                                                         |                    0 |                     0 |                     0 |                        500 |                           0 |                         242 |                   0     |                        0 |               0          |\n",
      "|  38 | DT4H-Lab19     | CreatUS                                                                                             | Urine creatine measurement                                                                                                        |                    0 |                     0 |                     0 |                        500 |                           0 |                         242 |                   0     |                        0 |               0          |\n",
      "|  39 | DT4H-Lab2      | Ferritin                                                                                            | Ferritin                                                                                                                          |                    0 |                     0 |                     0 |                        500 |                           0 |                         242 |                   0     |                        0 |               0          |\n",
      "|  40 | DT4H-Lab20     | AlbuminBS                                                                                           | Albumin measurement                                                                                                               |                    0 |                     0 |                     0 |                        500 |                           0 |                         242 |                   0     |                        0 |               0          |\n",
      "|  41 | DT4H-Lab21     | AlbuminUS                                                                                           | Urine albumin measurement                                                                                                         |                    0 |                     0 |                     0 |                        500 |                           0 |                         242 |                   0     |                        0 |               0          |\n",
      "|  42 | DT4H-Lab22     | eGFR                                                                                                | Glomerular filtration rate                                                                                                        |                    0 |                     0 |                     0 |                        500 |                           0 |                         242 |                   0     |                        0 |               0          |\n",
      "|  43 | DT4H-Lab23     | BUN                                                                                                 | Blood urea nitrogen measurement                                                                                                   |                    0 |                     0 |                     0 |                        500 |                           0 |                         242 |                   0     |                        0 |               0          |\n",
      "|  44 | DT4H-Lab24     | ACR                                                                                                 | Urine albumin/creatinine ratio measurement                                                                                        |                    0 |                     0 |                     0 |                        500 |                           0 |                         242 |                   0     |                        0 |               0          |\n",
      "|  45 | DT4H-Lab25     | HbA1c                                                                                               | Hemoglobin A1c                                                                                                                    |                    0 |                     0 |                     0 |                        500 |                           0 |                         242 |                   0     |                        0 |               0          |\n",
      "|  46 | DT4H-Lab3      | TFS                                                                                                 | Transferrin saturation index                                                                                                      |                    0 |                     0 |                     0 |                        500 |                           0 |                         242 |                   0     |                        0 |               0          |\n",
      "|  47 | DT4H-Lab4      | NTproBNP                                                                                            | N-terminal pro-B-type natriuretic peptide                                                                                         |                    0 |                     0 |                     0 |                        500 |                           0 |                         242 |                   0     |                        0 |               0          |\n",
      "|  48 | DT4H-Lab5      | BNP                                                                                                 | Brain natriuretic peptide                                                                                                         |                    0 |                     0 |                     0 |                        500 |                           0 |                         242 |                   0     |                        0 |               0          |\n",
      "|  49 | DT4H-Lab6      | CRPhs                                                                                               | Measurement of C-reactive protein using high sensitivity technique                                                                |                    0 |                     0 |                     0 |                        500 |                           0 |                         242 |                   0     |                        0 |               0          |\n",
      "|  50 | DT4H-Lab7      | CRPnonhs                                                                                            | C-reactive protein                                                                                                                |                    0 |                     0 |                     0 |                        500 |                           0 |                         242 |                   0     |                        0 |               0          |\n",
      "|  51 | DT4H-Lab8      | TropIhs                                                                                             | Troponin I                                                                                                                        |                    0 |                     0 |                     0 |                        500 |                           0 |                         242 |                   0     |                        0 |               0          |\n",
      "|  52 | DT4H-Lab9      | TropInhs                                                                                            | Troponin I                                                                                                                        |                    0 |                     0 |                     0 |                        500 |                           0 |                         242 |                   0     |                        0 |               0          |\n",
      "|  53 | DT4H-Med2      | ANGIOTENSIN RECEPTOR/NEPRILYSIN INHIBITOR (ARNI)                                                    | ANGIOTENSIN RECEPTOR/NEPRILYSIN INHIBITOR (ARNI)                                                                                  |                    0 |                     0 |                     0 |                        500 |                           0 |                         242 |                   0     |                        0 |               0          |\n",
      "|  54 | DT4H-Med2      | Angiotensin receptor/neprilysin inhibitor (ARNI)                                                    | Product containing only sacubitril and valsartan                                                                                  |                    0 |                     0 |                     0 |                        500 |                           0 |                         242 |                   0     |                        0 |               0          |\n",
      "|  55 | DT4H-MedA1     | ACE-INHIBITORS                                                                                      | ACE-INHIBITORS                                                                                                                    |                    0 |                     0 |                     0 |                        500 |                           0 |                         242 |                   0     |                        0 |               0          |\n",
      "|  56 | DT4H-MedA1     | ACE-inhibitors                                                                                      | Substance with angiotensin-converting enzyme inhibitor mechanism of action                                                        |                    0 |                     0 |                     0 |                        500 |                           0 |                         242 |                   0     |                        0 |               0          |\n",
      "|  57 | DT4H-MedA111   | Lisinopril dihydrate                                                                                | Lisinopril dihydrate                                                                                                              |                    0 |                     0 |                     0 |                        500 |                           0 |                         242 |                   0     |                        0 |               0          |\n",
      "|  58 | DT4H-MedA112   | Lisinopril anhydrous                                                                                | Lisinopril anhydrous                                                                                                              |                    0 |                     0 |                     0 |                        500 |                           0 |                         242 |                   0     |                        0 |               0          |\n",
      "|  59 | DT4H-MedA113   | Cilazapril anhydrous                                                                                | Cilazapril anhydrous                                                                                                              |                    0 |                     0 |                     0 |                        500 |                           0 |                         242 |                   0     |                        0 |               0          |\n",
      "|  60 | DT4H-MedA114   | Perindopril erbumine monohydrate                                                                    | Perindopril erbumine monohydrate                                                                                                  |                    0 |                     0 |                     0 |                        500 |                           0 |                         242 |                   0     |                        0 |               0          |\n",
      "|  61 | DT4H-MedA115   | Enalapril sodium                                                                                    | Enalapril sodium                                                                                                                  |                    0 |                     0 |                     0 |                        500 |                           0 |                         242 |                   0     |                        0 |               0          |\n",
      "|  62 | DT4H-MedA116   | Perindopril tosylate                                                                                | Perindopril tosylate                                                                                                              |                    0 |                     0 |                     0 |                        500 |                           0 |                         242 |                   0     |                        0 |               0          |\n",
      "|  63 | DT4H-MedA117   | Cilazapril monohydrate                                                                              | Cilazapril monohydrate                                                                                                            |                    0 |                     0 |                     0 |                        500 |                           0 |                         242 |                   0     |                        0 |               0          |\n",
      "|  64 | DT4H-MedA118   | Spirapril                                                                                           | Spirapril                                                                                                                         |                    0 |                     0 |                     0 |                        500 |                           0 |                         242 |                   0     |                        0 |               0          |\n",
      "|  65 | DT4H-MedA119   | Zofenoprilat arginine                                                                               | Zofenoprilat arginine                                                                                                             |                    0 |                     0 |                     0 |                        500 |                           0 |                         242 |                   0     |                        0 |               0          |\n",
      "|  66 | DT4H-MedA120   | Zofenoprilat                                                                                        | Zofenoprilat                                                                                                                      |                    0 |                     0 |                     0 |                        500 |                           0 |                         242 |                   0     |                        0 |               0          |\n",
      "|  67 | DT4H-MedA121   | Zofenopril calcium                                                                                  | Zofenopril calcium                                                                                                                |                    0 |                     0 |                     0 |                        500 |                           0 |                         242 |                   0     |                        0 |               0          |\n",
      "|  68 | DT4H-MedA122   | Zofenopril                                                                                          | Zofenopril                                                                                                                        |                    0 |                     0 |                     0 |                        500 |                           0 |                         242 |                   0     |                        0 |               0          |\n",
      "|  69 | DT4H-MedA123   | Delapril hydrochloride                                                                              | Delapril hydrochloride                                                                                                            |                    0 |                     0 |                     0 |                        500 |                           0 |                         242 |                   0     |                        0 |               0          |\n",
      "|  70 | DT4H-MedA124   | Delapril                                                                                            | Delapril                                                                                                                          |                    0 |                     0 |                     0 |                        500 |                           0 |                         242 |                   0     |                        0 |               0          |\n",
      "|  71 | DT4H-MedA125   | Perindopril arginine                                                                                | Perindopril arginine                                                                                                              |                    0 |                     0 |                     0 |                        500 |                           0 |                         242 |                   0     |                        0 |               0          |\n",
      "|  72 | DT4H-MedA126   | Imidapril                                                                                           | Imidapril                                                                                                                         |                    0 |                     0 |                     0 |                        500 |                           0 |                         242 |                   0     |                        0 |               0          |\n",
      "|  73 | DT4H-MedA127   | Cilazapril                                                                                          | Cilazapril                                                                                                                        |                    0 |                     0 |                     0 |                        500 |                           0 |                         242 |                   0     |                        0 |               0          |\n",
      "|  74 | DT4H-MedA128   | Imidapril hydrochloride                                                                             | Imidapril hydrochloride                                                                                                           |                    0 |                     0 |                     0 |                        500 |                           0 |                         242 |                   0     |                        0 |               0          |\n",
      "|  75 | DT4H-MedA129   | Enalapril maleate                                                                                   | Enalapril maleate                                                                                                                 |                    0 |                     0 |                     0 |                        500 |                           0 |                         242 |                   0     |                        0 |               0          |\n",
      "|  76 | DT4H-MedA130   | Captopril                                                                                           | Captopril                                                                                                                         |                    0 |                     0 |                     0 |                        500 |                           0 |                         242 |                   0     |                        0 |               0          |\n",
      "|  77 | DT4H-MedA131   | Quinapril hydrochloride                                                                             | Quinapril hydrochloride                                                                                                           |                    0 |                     0 |                     0 |                        500 |                           0 |                         242 |                   0     |                        0 |               0          |\n",
      "|  78 | DT4H-MedA132   | Quinapril                                                                                           | Quinapril                                                                                                                         |                    0 |                     0 |                     0 |                        500 |                           0 |                         242 |                   0     |                        0 |               0          |\n",
      "|  79 | DT4H-MedA133   | Lisinopril                                                                                          | Lisinopril                                                                                                                        |                    0 |                     0 |                     0 |                        500 |                           0 |                         242 |                   0     |                        0 |               0          |\n",
      "|  80 | DT4H-MedA134   | Ramipril                                                                                            | Ramipril                                                                                                                          |                    0 |                     0 |                     0 |                        500 |                           0 |                         242 |                   0     |                        0 |               0          |\n",
      "|  81 | DT4H-MedA135   | Trandolapril                                                                                        | Trandolapril                                                                                                                      |                    0 |                     0 |                     0 |                        500 |                           0 |                         242 |                   0     |                        0 |               0          |\n",
      "|  82 | DT4H-MedA136   | Moexipril                                                                                           | Moexipril                                                                                                                         |                    0 |                     0 |                     0 |                        500 |                           0 |                         242 |                   0     |                        0 |               0          |\n",
      "|  83 | DT4H-MedA137   | Perindopril                                                                                         | Perindopril                                                                                                                       |                    0 |                     0 |                     0 |                        500 |                           0 |                         242 |                   0     |                        0 |               0          |\n",
      "|  84 | DT4H-MedA138   | Enalapril                                                                                           | Enalapril                                                                                                                         |                    0 |                     0 |                     0 |                        500 |                           0 |                         242 |                   0     |                        0 |               0          |\n",
      "|  85 | DT4H-MedA139   | Benazepril                                                                                          | Benazepril                                                                                                                        |                    0 |                     0 |                     0 |                        500 |                           0 |                         242 |                   0     |                        0 |               0          |\n",
      "|  86 | DT4H-MedA140   | Fosinopril                                                                                          | Fosinopril                                                                                                                        |                    0 |                     0 |                     0 |                        500 |                           0 |                         242 |                   0     |                        0 |               0          |\n",
      "|  87 | DT4H-MedA141   | Perindopril erbumine                                                                                | Perindopril erbumine                                                                                                              |                    0 |                     0 |                     0 |                        500 |                           0 |                         242 |                   0     |                        0 |               0          |\n",
      "|  88 | DT4H-MedA142   | Benazepril hydrochloride                                                                            | Benazepril hydrochloride                                                                                                          |                    0 |                     0 |                     0 |                        500 |                           0 |                         242 |                   0     |                        0 |               0          |\n",
      "|  89 | DT4H-MedA143   | Fosinopril sodium                                                                                   | Fosinopril sodium                                                                                                                 |                    0 |                     0 |                     0 |                        500 |                           0 |                         242 |                   0     |                        0 |               0          |\n",
      "|  90 | DT4H-MedA144   | Moexipril hydrochloride                                                                             | Moexipril hydrochloride                                                                                                           |                    0 |                     0 |                     0 |                        500 |                           0 |                         242 |                   0     |                        0 |               0          |\n",
      "|  91 | DT4H-MedA145   | Enalaprilat                                                                                         | Enalaprilat                                                                                                                       |                    0 |                     0 |                     0 |                        500 |                           0 |                         242 |                   0     |                        0 |               0          |\n",
      "|  92 | DT4H-MedAR1    | ANGIOTENSIN RECEPTOR BLOCKER                                                                        | ANGIOTENSIN RECEPTOR BLOCKER                                                                                                      |                    0 |                     0 |                     0 |                        500 |                           0 |                         242 |                   0     |                        0 |               0          |\n",
      "|  93 | DT4H-MedAR1    | Angiotensin receptor blocker                                                                        | Substance with angiotensin II receptor antagonist mechanism of action                                                             |                    0 |                     0 |                     0 |                        500 |                           0 |                         242 |                   0     |                        0 |               0          |\n",
      "|  94 | DT4H-MedAR111  | Fimasartan potassium trihydrate                                                                     | Fimasartan potassium trihydrate                                                                                                   |                    0 |                     0 |                     0 |                        500 |                           0 |                         242 |                   0     |                        0 |               0          |\n",
      "|  95 | DT4H-MedAR112  | Fimasartan                                                                                          | Fimasartan                                                                                                                        |                    0 |                     0 |                     0 |                        500 |                           0 |                         242 |                   0     |                        0 |               0          |\n",
      "|  96 | DT4H-MedAR113  | Azilsartan medoxomil potassium                                                                      | Azilsartan medoxomil potassium                                                                                                    |                    0 |                     0 |                     0 |                        500 |                           0 |                         242 |                   0     |                        0 |               0          |\n",
      "|  97 | DT4H-MedAR114  | Irbesartan hydrochloride                                                                            | Irbesartan hydrochloride                                                                                                          |                    0 |                     0 |                     0 |                        500 |                           0 |                         242 |                   0     |                        0 |               0          |\n",
      "|  98 | DT4H-MedAR115  | Azilsartan medoxomil                                                                                | Azilsartan medoxomil                                                                                                              |                    0 |                     0 |                     0 |                        500 |                           0 |                         242 |                   0     |                        0 |               0          |\n",
      "|  99 | DT4H-MedAR116  | Azilsartan                                                                                          | Azilsartan                                                                                                                        |                    0 |                     0 |                     0 |                        500 |                           0 |                         242 |                   0     |                        0 |               0          |\n",
      "| 100 | DT4H-MedAR117  | Olmesartan medoxomil                                                                                | Olmesartan medoxomil                                                                                                              |                    0 |                     0 |                     0 |                        500 |                           0 |                         242 |                   0     |                        0 |               0          |\n",
      "| 101 | DT4H-MedAR118  | Olmesartan                                                                                          | Olmesartan                                                                                                                        |                    0 |                     0 |                     0 |                        500 |                           0 |                         242 |                   0     |                        0 |               0          |\n",
      "| 102 | DT4H-MedAR119  | Eprosartan                                                                                          | Eprosartan                                                                                                                        |                    0 |                     0 |                     0 |                        500 |                           0 |                         242 |                   0     |                        0 |               0          |\n",
      "| 103 | DT4H-MedAR120  | Telmisartan                                                                                         | Telmisartan                                                                                                                       |                    0 |                     0 |                     0 |                        500 |                           0 |                         242 |                   0     |                        0 |               0          |\n",
      "| 104 | DT4H-MedAR121  | Candesartan cilexetil                                                                               | Candesartan cilexetil                                                                                                             |                    0 |                     0 |                     0 |                        500 |                           0 |                         242 |                   0     |                        0 |               0          |\n",
      "| 105 | DT4H-MedAR122  | Irbesartan                                                                                          | Irbesartan                                                                                                                        |                    0 |                     0 |                     0 |                        500 |                           0 |                         242 |                   0     |                        0 |               0          |\n",
      "| 106 | DT4H-MedAR123  | Valsartan                                                                                           | Valsartan                                                                                                                         |                    0 |                     0 |                     0 |                        500 |                           0 |                         242 |                   0     |                        0 |               0          |\n",
      "| 107 | DT4H-MedAR124  | Losartan                                                                                            | Losartan                                                                                                                          |                    0 |                     0 |                     0 |                        500 |                           0 |                         242 |                   0     |                        0 |               0          |\n",
      "| 108 | DT4H-MedAR125  | Candesartan                                                                                         | Candesartan                                                                                                                       |                    0 |                     0 |                     0 |                        500 |                           0 |                         242 |                   0     |                        0 |               0          |\n",
      "| 109 | DT4H-MedAR126  | Eprosartan mesilate                                                                                 | Eprosartan mesilate                                                                                                               |                    0 |                     0 |                     0 |                        500 |                           0 |                         242 |                   0     |                        0 |               0          |\n",
      "| 110 | DT4H-MedAR127  | Losartan potassium                                                                                  | Losartan potassium                                                                                                                |                    0 |                     0 |                     0 |                        500 |                           0 |                         242 |                   0     |                        0 |               0          |\n",
      "| 111 | DT4H-MedBB1    | BETABLOCKERS                                                                                        | BETABLOCKERS                                                                                                                      |                    0 |                     0 |                     0 |                        500 |                           0 |                         242 |                   0     |                        0 |               0          |\n",
      "| 112 | DT4H-MedBB1    | Betablockers                                                                                        | Substance with beta adrenergic receptor antagonist mechanism of action                                                            |                    0 |                     0 |                     0 |                        500 |                           0 |                         242 |                   0     |                        0 |               0          |\n",
      "| 113 | DT4H-MedBB111  | Tertatolol hydrochloride                                                                            | Tertatolol hydrochloride                                                                                                          |                    0 |                     0 |                     0 |                        500 |                           0 |                         242 |                   0     |                        0 |               0          |\n",
      "| 114 | DT4H-MedBB112  | Tertatolol                                                                                          | Tertatolol                                                                                                                        |                    0 |                     0 |                     0 |                        500 |                           0 |                         242 |                   0     |                        0 |               0          |\n",
      "| 115 | DT4H-MedBB113  | Carvedilol phosphate                                                                                | Carvedilol phosphate                                                                                                              |                    0 |                     0 |                     0 |                        500 |                           0 |                         242 |                   0     |                        0 |               0          |\n",
      "| 116 | DT4H-MedBB114  | Levobunolol                                                                                         | Levobunolol                                                                                                                       |                    0 |                     0 |                     0 |                        500 |                           0 |                         242 |                   0     |                        0 |               0          |\n",
      "| 117 | DT4H-MedBB115  | Oxprenolol hydrochloride                                                                            | Oxprenolol hydrochloride                                                                                                          |                    0 |                     0 |                     0 |                        500 |                           0 |                         242 |                   0     |                        0 |               0          |\n",
      "| 118 | DT4H-MedBB116  | Oxprenolol                                                                                          | Oxprenolol                                                                                                                        |                    0 |                     0 |                     0 |                        500 |                           0 |                         242 |                   0     |                        0 |               0          |\n",
      "| 119 | DT4H-MedBB117  | Nadolol                                                                                             | Nadolol                                                                                                                           |                    0 |                     0 |                     0 |                        500 |                           0 |                         242 |                   0     |                        0 |               0          |\n",
      "| 120 | DT4H-MedBB118  | Practolol                                                                                           | Practolol                                                                                                                         |                    0 |                     0 |                     0 |                        500 |                           0 |                         242 |                   0     |                        0 |               0          |\n",
      "| 121 | DT4H-MedBB119  | Levobunolol hydrochloride                                                                           | Levobunolol hydrochloride                                                                                                         |                    0 |                     0 |                     0 |                        500 |                           0 |                         242 |                   0     |                        0 |               0          |\n",
      "| 122 | DT4H-MedBB120  | Pindolol                                                                                            | Pindolol                                                                                                                          |                    0 |                     0 |                     0 |                        500 |                           0 |                         242 |                   0     |                        0 |               0          |\n",
      "| 123 | DT4H-MedBB121  | Carvedilol                                                                                          | Carvedilol                                                                                                                        |                    0 |                     0 |                     0 |                        500 |                           0 |                         242 |                   0     |                        0 |               0          |\n",
      "| 124 | DT4H-MedBB122  | Carteolol hydrochloride                                                                             | Carteolol hydrochloride                                                                                                           |                    0 |                     0 |                     0 |                        500 |                           0 |                         242 |                   0     |                        0 |               0          |\n",
      "| 125 | DT4H-MedBB123  | Carteolol                                                                                           | Carteolol                                                                                                                         |                    0 |                     0 |                     0 |                        500 |                           0 |                         242 |                   0     |                        0 |               0          |\n",
      "| 126 | DT4H-MedBB124  | Penbutolol sulfate                                                                                  | Penbutolol sulfate                                                                                                                |                    0 |                     0 |                     0 |                        500 |                           0 |                         242 |                   0     |                        0 |               0          |\n",
      "| 127 | DT4H-MedBB125  | Metipranolol                                                                                        | Metipranolol                                                                                                                      |                    0 |                     0 |                     0 |                        500 |                           0 |                         242 |                   0     |                        0 |               0          |\n",
      "| 128 | DT4H-MedBB126  | Sotalol                                                                                             | Sotalol                                                                                                                           |                    0 |                     0 |                     0 |                        500 |                           0 |                         242 |                   0     |                        0 |               0          |\n",
      "| 129 | DT4H-MedBB127  | Timolol                                                                                             | Timolol                                                                                                                           |                    0 |                     0 |                     0 |                        500 |                           0 |                         242 |                   0     |                        0 |               0          |\n",
      "| 130 | DT4H-MedBB128  | Propranolol                                                                                         | Propranolol                                                                                                                       |                    0 |                     0 |                     0 |                        500 |                           0 |                         242 |                   0     |                        0 |               0          |\n",
      "| 131 | DT4H-MedBB129  | Labetalol                                                                                           | Labetalol                                                                                                                         |                    0 |                     0 |                     0 |                        500 |                           0 |                         242 |                   0     |                        0 |               0          |\n",
      "| 132 | DT4H-MedBB130  | Beta-1 adrenergic receptor antagonist                                                               | Beta-1 adrenergic receptor antagonist                                                                                             |                    0 |                     0 |                     0 |                        500 |                           0 |                         242 |                   0     |                        0 |               0          |\n",
      "| 133 | DT4H-MedBB131  | Penbutolol                                                                                          | Penbutolol                                                                                                                        |                    0 |                     0 |                     0 |                        500 |                           0 |                         242 |                   0     |                        0 |               0          |\n",
      "| 134 | DT4H-MedBB132  | Metipranolol hydrochloride                                                                          | Metipranolol hydrochloride                                                                                                        |                    0 |                     0 |                     0 |                        500 |                           0 |                         242 |                   0     |                        0 |               0          |\n",
      "| 135 | DT4H-MedBB133  | Sotalol hydrochloride                                                                               | Sotalol hydrochloride                                                                                                             |                    0 |                     0 |                     0 |                        500 |                           0 |                         242 |                   0     |                        0 |               0          |\n",
      "| 136 | DT4H-MedBB134  | Alprenolol                                                                                          | Alprenolol                                                                                                                        |                    0 |                     0 |                     0 |                        500 |                           0 |                         242 |                   0     |                        0 |               0          |\n",
      "| 137 | DT4H-MedBB135  | Timolol maleate                                                                                     | Timolol maleate                                                                                                                   |                    0 |                     0 |                     0 |                        500 |                           0 |                         242 |                   0     |                        0 |               0          |\n",
      "| 138 | DT4H-MedBB136  | Propranolol hydrochloride                                                                           | Propranolol hydrochloride                                                                                                         |                    0 |                     0 |                     0 |                        500 |                           0 |                         242 |                   0     |                        0 |               0          |\n",
      "| 139 | DT4H-MedBB137  | Labetalol hydrochloride                                                                             | Labetalol hydrochloride                                                                                                           |                    0 |                     0 |                     0 |                        500 |                           0 |                         242 |                   0     |                        0 |               0          |\n",
      "| 140 | DT4H-MedBB138  | Beta-2 adrenergic receptor antagonist                                                               | Beta-2 adrenergic receptor antagonist                                                                                             |                    0 |                     0 |                     0 |                        500 |                           0 |                         242 |                   0     |                        0 |               0          |\n",
      "| 141 | DT4H-MedBB15   | Substance with beta-1 adrenergic receptor antagonist mechanism of action                            | Substance with beta-1 adrenergic receptor antagonist mechanism of action                                                          |                    0 |                     0 |                     0 |                        500 |                           0 |                         242 |                   0     |                        0 |               0          |\n",
      "| 142 | DT4H-MedBB151  | (S)-metoprolol tartrate                                                                             | (S)-metoprolol tartrate                                                                                                           |                    0 |                     0 |                     0 |                        500 |                           0 |                         242 |                   0     |                        0 |               0          |\n",
      "| 143 | DT4H-MedBB152  | (S)-metoprolol succinate                                                                            | (S)-metoprolol succinate                                                                                                          |                    0 |                     0 |                     0 |                        500 |                           0 |                         242 |                   0     |                        0 |               0          |\n",
      "| 144 | DT4H-MedBB153  | (S)-metoprolol                                                                                      | (S)-metoprolol                                                                                                                    |                    0 |                     0 |                     0 |                        500 |                           0 |                         242 |                   0     |                        0 |               0          |\n",
      "| 145 | DT4H-MedBB154  | Nebivolol hydrochloride                                                                             | Nebivolol hydrochloride                                                                                                           |                    0 |                     0 |                     0 |                        500 |                           0 |                         242 |                   0     |                        0 |               0          |\n",
      "| 146 | DT4H-MedBB155  | Metoprolol succinate                                                                                | Metoprolol succinate                                                                                                              |                    0 |                     0 |                     0 |                        500 |                           0 |                         242 |                   0     |                        0 |               0          |\n",
      "| 147 | DT4H-MedBB156  | Levobetaxolol                                                                                       | Levobetaxolol                                                                                                                     |                    0 |                     0 |                     0 |                        500 |                           0 |                         242 |                   0     |                        0 |               0          |\n",
      "| 148 | DT4H-MedBB157  | Betaxolol                                                                                           | Betaxolol                                                                                                                         |                    0 |                     0 |                     0 |                        500 |                           0 |                         242 |                   0     |                        0 |               0          |\n",
      "| 149 | DT4H-MedBB158  | Celiprolol                                                                                          | Celiprolol                                                                                                                        |                    0 |                     0 |                     0 |                        500 |                           0 |                         242 |                   0     |                        0 |               0          |\n",
      "| 150 | DT4H-MedBB159  | Celiprolol hydrochloride                                                                            | Celiprolol hydrochloride                                                                                                          |                    0 |                     0 |                     0 |                        500 |                           0 |                         242 |                   0     |                        0 |               0          |\n",
      "| 151 | DT4H-MedBB160  | Nebivolol                                                                                           | Nebivolol                                                                                                                         |                    0 |                     0 |                     0 |                        500 |                           0 |                         242 |                   0     |                        0 |               0          |\n",
      "| 152 | DT4H-MedBB161  | Atenolol                                                                                            | Atenolol                                                                                                                          |                    0 |                     0 |                     0 |                        500 |                           0 |                         242 |                   0     |                        0 |               0          |\n",
      "| 153 | DT4H-MedBB162  | Betaxolol hydrochloride                                                                             | Betaxolol hydrochloride                                                                                                           |                    0 |                     0 |                     0 |                        500 |                           0 |                         242 |                   0     |                        0 |               0          |\n",
      "| 154 | DT4H-MedBB163  | Bisoprolol fumarate                                                                                 | Bisoprolol fumarate                                                                                                               |                    0 |                     0 |                     0 |                        500 |                           0 |                         242 |                   0     |                        0 |               0          |\n",
      "| 155 | DT4H-MedBB164  | Bisoprolol                                                                                          | Bisoprolol                                                                                                                        |                    0 |                     0 |                     0 |                        500 |                           0 |                         242 |                   0     |                        0 |               0          |\n",
      "| 156 | DT4H-MedBB165  | Esmolol                                                                                             | Esmolol                                                                                                                           |                    0 |                     0 |                     0 |                        500 |                           0 |                         242 |                   0     |                        0 |               0          |\n",
      "| 157 | DT4H-MedBB166  | Metoprolol                                                                                          | Metoprolol                                                                                                                        |                    0 |                     0 |                     0 |                        500 |                           0 |                         242 |                   0     |                        0 |               0          |\n",
      "| 158 | DT4H-MedBB167  | Acebutolol                                                                                          | Acebutolol                                                                                                                        |                    0 |                     0 |                     0 |                        500 |                           0 |                         242 |                   0     |                        0 |               0          |\n",
      "| 159 | DT4H-MedBB168  | Metoprolol tartrate                                                                                 | Metoprolol tartrate                                                                                                               |                    0 |                     0 |                     0 |                        500 |                           0 |                         242 |                   0     |                        0 |               0          |\n",
      "| 160 | DT4H-MedBB169  | Esmolol hydrochloride                                                                               | Esmolol hydrochloride                                                                                                             |                    0 |                     0 |                     0 |                        500 |                           0 |                         242 |                   0     |                        0 |               0          |\n",
      "| 161 | DT4H-MedBB170  | Acebutolol hydrochloride                                                                            | Acebutolol hydrochloride                                                                                                          |                    0 |                     0 |                     0 |                        500 |                           0 |                         242 |                   0     |                        0 |               0          |\n",
      "| 162 | DT4H-MedC1     | CALCIUM CHANNEL BLOCKER                                                                             | CALCIUM CHANNEL BLOCKER                                                                                                           |                    0 |                     0 |                     0 |                        500 |                           0 |                         242 |                   0     |                        0 |               0          |\n",
      "| 163 | DT4H-MedC1     | Calcium Channel Blockers                                                                            | Substance with calcium channel blocker mechanism of action                                                                        |                    0 |                     0 |                     0 |                        500 |                           0 |                         242 |                   0     |                        0 |               0          |\n",
      "| 164 | DT4H-MedC101   | Perhexiline maleate                                                                                 | Perhexiline maleate                                                                                                               |                    0 |                     0 |                     0 |                        500 |                           0 |                         242 |                   0     |                        0 |               0          |\n",
      "| 165 | DT4H-MedC102   | Benidipine                                                                                          | Benidipine                                                                                                                        |                    0 |                     0 |                     0 |                        500 |                           0 |                         242 |                   0     |                        0 |               0          |\n",
      "| 166 | DT4H-MedC103   | Benidipine hydrochloride                                                                            | Benidipine hydrochloride                                                                                                          |                    0 |                     0 |                     0 |                        500 |                           0 |                         242 |                   0     |                        0 |               0          |\n",
      "| 167 | DT4H-MedC104   | Terodiline hydrochloride                                                                            | Terodiline hydrochloride                                                                                                          |                    0 |                     0 |                     0 |                        500 |                           0 |                         242 |                   0     |                        0 |               0          |\n",
      "| 168 | DT4H-MedC105   | Gabapentin enacarbil                                                                                | Gabapentin enacarbil                                                                                                              |                    0 |                     0 |                     0 |                        500 |                           0 |                         242 |                   0     |                        0 |               0          |\n",
      "| 169 | DT4H-MedC106   | Pinaverium bromide                                                                                  | Pinaverium bromide                                                                                                                |                    0 |                     0 |                     0 |                        500 |                           0 |                         242 |                   0     |                        0 |               0          |\n",
      "| 170 | DT4H-MedC107   | Perhexiline                                                                                         | Perhexiline                                                                                                                       |                    0 |                     0 |                     0 |                        500 |                           0 |                         242 |                   0     |                        0 |               0          |\n",
      "| 171 | DT4H-MedC108   | Mibefradil                                                                                          | Mibefradil                                                                                                                        |                    0 |                     0 |                     0 |                        500 |                           0 |                         242 |                   0     |                        0 |               0          |\n",
      "| 172 | DT4H-MedC109   | Terodiline                                                                                          | Terodiline                                                                                                                        |                    0 |                     0 |                     0 |                        500 |                           0 |                         242 |                   0     |                        0 |               0          |\n",
      "| 173 | DT4H-MedC110   | Prenylamine                                                                                         | Prenylamine                                                                                                                       |                    0 |                     0 |                     0 |                        500 |                           0 |                         242 |                   0     |                        0 |               0          |\n",
      "| 174 | DT4H-MedC111   | Gabapentin                                                                                          | Gabapentin                                                                                                                        |                    0 |                     0 |                     0 |                        500 |                           0 |                         242 |                   0     |                        0 |               0          |\n",
      "| 175 | DT4H-MedC12    | Benzothiazepine                                                                                     | Benzothiazepine                                                                                                                   |                    0 |                     0 |                     0 |                        500 |                           0 |                         242 |                   0     |                        0 |               0          |\n",
      "| 176 | DT4H-MedC121   | Diltiazem maleate                                                                                   | Diltiazem maleate                                                                                                                 |                    0 |                     0 |                     0 |                        500 |                           0 |                         242 |                   0     |                        0 |               0          |\n",
      "| 177 | DT4H-MedC122   | Diltiazem                                                                                           | Diltiazem                                                                                                                         |                    0 |                     0 |                     0 |                        500 |                           0 |                         242 |                   0     |                        0 |               0          |\n",
      "| 178 | DT4H-MedC123   | Diltiazem hydrochloride                                                                             | Diltiazem hydrochloride                                                                                                           |                    0 |                     0 |                     0 |                        500 |                           0 |                         242 |                   0     |                        0 |               0          |\n",
      "| 179 | DT4H-MedC13    | Diarylaminopropylamine                                                                              | Diarylaminopropylamine                                                                                                            |                    0 |                     0 |                     0 |                        500 |                           0 |                         242 |                   0     |                        0 |               0          |\n",
      "| 180 | DT4H-MedC131   | Bepridil                                                                                            | Bepridil                                                                                                                          |                    0 |                     0 |                     0 |                        500 |                           0 |                         242 |                   0     |                        0 |               0          |\n",
      "| 181 | DT4H-MedC132   | Bepridil hydrochloride                                                                              | Bepridil hydrochloride                                                                                                            |                    0 |                     0 |                     0 |                        500 |                           0 |                         242 |                   0     |                        0 |               0          |\n",
      "| 182 | DT4H-MedC14    | Phenylalkylamine                                                                                    | Phenylalkylamine                                                                                                                  |                    0 |                     0 |                     0 |                        500 |                           0 |                         242 |                   0     |                        0 |               0          |\n",
      "| 183 | DT4H-MedC141   | Gallopamil hydrochloride                                                                            | Gallopamil hydrochloride                                                                                                          |                    0 |                     0 |                     0 |                        500 |                           0 |                         242 |                   0     |                        0 |               0          |\n",
      "| 184 | DT4H-MedC142   | Gallopamil                                                                                          | Gallopamil                                                                                                                        |                    0 |                     0 |                     0 |                        500 |                           0 |                         242 |                   0     |                        0 |               0          |\n",
      "| 185 | DT4H-MedC143   | Verapamil                                                                                           | Verapamil                                                                                                                         |                    0 |                     0 |                     0 |                        500 |                           0 |                         242 |                   0     |                        0 |               0          |\n",
      "| 186 | DT4H-MedC144   | Norverapamil                                                                                        | Norverapamil                                                                                                                      |                    0 |                     0 |                     0 |                        500 |                           0 |                         242 |                   0     |                        0 |               0          |\n",
      "| 187 | DT4H-MedC145   | Verapamil hydrochloride                                                                             | Verapamil hydrochloride                                                                                                           |                    0 |                     0 |                     0 |                        500 |                           0 |                         242 |                   0     |                        0 |               0          |\n",
      "| 188 | DT4H-MedC15    | Piperazine derivative with calcium channel blocker mechanism of action                              | Piperazine derivative with calcium channel blocker mechanism of action                                                            |                    0 |                     0 |                     0 |                        500 |                           0 |                         242 |                   0     |                        0 |               0          |\n",
      "| 189 | DT4H-MedC151   | Lidoflazine                                                                                         | Lidoflazine                                                                                                                       |                    0 |                     0 |                     0 |                        500 |                           0 |                         242 |                   0     |                        0 |               0          |\n",
      "| 190 | DT4H-MedC16    | Substance with dihydropyridine derivative structure and calcium channel blocker mechanism of action | Substance with dihydropyridine derivative structure and calcium channel blocker mechanism of action                               |                    0 |                     0 |                     0 |                        500 |                           0 |                         242 |                   0     |                        0 |               0          |\n",
      "| 191 | DT4H-MedC161   | Lercanidipine hydrochloride hemihydrate                                                             | Lercanidipine hydrochloride hemihydrate                                                                                           |                    0 |                     0 |                     0 |                        500 |                           0 |                         242 |                   0     |                        0 |               0          |\n",
      "| 192 | DT4H-MedC162   | Levamlodipine besylate                                                                              | Levamlodipine besylate                                                                                                            |                    0 |                     0 |                     0 |                        500 |                           0 |                         242 |                   0     |                        0 |               0          |\n",
      "| 193 | DT4H-MedC163   | Levamlodipine                                                                                       | Levamlodipine                                                                                                                     |                    0 |                     0 |                     0 |                        500 |                           0 |                         242 |                   0     |                        0 |               0          |\n",
      "| 194 | DT4H-MedC164   | Amlodipine mesylate                                                                                 | Amlodipine mesylate                                                                                                               |                    0 |                     0 |                     0 |                        500 |                           0 |                         242 |                   0     |                        0 |               0          |\n",
      "| 195 | DT4H-MedC165   | Cilnidipine                                                                                         | Cilnidipine                                                                                                                       |                    0 |                     0 |                     0 |                        500 |                           0 |                         242 |                   0     |                        0 |               0          |\n",
      "| 196 | DT4H-MedC166   | Amlodipine benzoate                                                                                 | Amlodipine benzoate                                                                                                               |                    0 |                     0 |                     0 |                        500 |                           0 |                         242 |                   0     |                        0 |               0          |\n",
      "| 197 | DT4H-MedC167   | Manidipine hydrochloride                                                                            | Manidipine hydrochloride                                                                                                          |                    0 |                     0 |                     0 |                        500 |                           0 |                         242 |                   0     |                        0 |               0          |\n",
      "| 198 | DT4H-MedC168   | Manidipine                                                                                          | Manidipine                                                                                                                        |                    0 |                     0 |                     0 |                        500 |                           0 |                         242 |                   0     |                        0 |               0          |\n",
      "| 199 | DT4H-MedC169   | Nilvadipine                                                                                         | Nilvadipine                                                                                                                       |                    0 |                     0 |                     0 |                        500 |                           0 |                         242 |                   0     |                        0 |               0          |\n",
      "| 200 | DT4H-MedC170   | Barnidipine                                                                                         | Barnidipine                                                                                                                       |                    0 |                     0 |                     0 |                        500 |                           0 |                         242 |                   0     |                        0 |               0          |\n",
      "| 201 | DT4H-MedC171   | Nitrendipine                                                                                        | Nitrendipine                                                                                                                      |                    0 |                     0 |                     0 |                        500 |                           0 |                         242 |                   0     |                        0 |               0          |\n",
      "| 202 | DT4H-MedC172   | Clevidipine                                                                                         | Clevidipine                                                                                                                       |                    0 |                     0 |                     0 |                        500 |                           0 |                         242 |                   0     |                        0 |               0          |\n",
      "| 203 | DT4H-MedC173   | Amlodipine maleate                                                                                  | Amlodipine maleate                                                                                                                |                    0 |                     0 |                     0 |                        500 |                           0 |                         242 |                   0     |                        0 |               0          |\n",
      "| 204 | DT4H-MedC174   | Lercanidipine                                                                                       | Lercanidipine                                                                                                                     |                    0 |                     0 |                     0 |                        500 |                           0 |                         242 |                   0     |                        0 |               0          |\n",
      "| 205 | DT4H-MedC175   | Lercanidipine hydrochloride                                                                         | Lercanidipine hydrochloride                                                                                                       |                    0 |                     0 |                     0 |                        500 |                           0 |                         242 |                   0     |                        0 |               0          |\n",
      "| 206 | DT4H-MedC176   | Lacidipine                                                                                          | Lacidipine                                                                                                                        |                    0 |                     0 |                     0 |                        500 |                           0 |                         242 |                   0     |                        0 |               0          |\n",
      "| 207 | DT4H-MedC177   | Nimodipine                                                                                          | Nimodipine                                                                                                                        |                    0 |                     0 |                     0 |                        500 |                           0 |                         242 |                   0     |                        0 |               0          |\n",
      "| 208 | DT4H-MedC178   | Nifedipine                                                                                          | Nifedipine                                                                                                                        |                    0 |                     0 |                     0 |                        500 |                           0 |                         242 |                   0     |                        0 |               0          |\n",
      "| 209 | DT4H-MedC179   | Amlodipine                                                                                          | Amlodipine                                                                                                                        |                    0 |                     0 |                     0 |                        500 |                           0 |                         242 |                   0     |                        0 |               0          |\n",
      "| 210 | DT4H-MedC180   | Felodipine                                                                                          | Felodipine                                                                                                                        |                    0 |                     0 |                     0 |                        500 |                           0 |                         242 |                   0     |                        0 |               0          |\n",
      "| 211 | DT4H-MedC181   | Isradipine                                                                                          | Isradipine                                                                                                                        |                    0 |                     0 |                     0 |                        500 |                           0 |                         242 |                   0     |                        0 |               0          |\n",
      "| 212 | DT4H-MedC182   | Nisoldipine                                                                                         | Nisoldipine                                                                                                                       |                    0 |                     0 |                     0 |                        500 |                           0 |                         242 |                   0     |                        0 |               0          |\n",
      "| 213 | DT4H-MedC183   | Amlodipine besilate                                                                                 | Amlodipine besilate                                                                                                               |                    0 |                     0 |                     0 |                        500 |                           0 |                         242 |                   0     |                        0 |               0          |\n",
      "| 214 | DT4H-MedC184   | Nicardipine                                                                                         | Nicardipine                                                                                                                       |                    0 |                     0 |                     0 |                        500 |                           0 |                         242 |                   0     |                        0 |               0          |\n",
      "| 215 | DT4H-MedC185   | Nicardipine hydrochloride                                                                           | Nicardipine hydrochloride                                                                                                         |                    0 |                     0 |                     0 |                        500 |                           0 |                         242 |                   0     |                        0 |               0          |\n",
      "| 216 | DT4H-MedCO1    | ANTICOAGULANTS                                                                                      | ANTICOAGULANTS                                                                                                                    |                    0 |                     0 |                     0 |                        500 |                           0 |                         242 |                   0     |                        0 |               0          |\n",
      "| 217 | DT4H-MedCO1    | Anticoagulants                                                                                      | Anticoagulant                                                                                                                     |                    0 |                     0 |                     0 |                        500 |                           0 |                         242 |                   0     |                        0 |               0          |\n",
      "| 218 | DT4H-MedCO111  | resveratrol                                                                                         | resveratrol                                                                                                                       |                    0 |                     0 |                     0 |                        500 |                           0 |                         242 |                   0     |                        0 |               0          |\n",
      "| 219 | DT4H-MedCO12   | Direct acting anticoagulant                                                                         | Direct acting anticoagulant                                                                                                       |                    0 |                     0 |                     0 |                        500 |                           0 |                         242 |                   0     |                        0 |               0          |\n",
      "| 220 | DT4H-MedCO121  | Argatroban anhydrous                                                                                | Argatroban anhydrous                                                                                                              |                    0 |                     0 |                     0 |                        500 |                           0 |                         242 |                   0     |                        0 |               0          |\n",
      "| 221 | DT4H-MedCO122  | Heparin ammonium                                                                                    | Heparin ammonium                                                                                                                  |                    0 |                     0 |                     0 |                        500 |                           0 |                         242 |                   0     |                        0 |               0          |\n",
      "| 222 | DT4H-MedCO123  | Heparin lithium                                                                                     | Heparin lithium                                                                                                                   |                    0 |                     0 |                     0 |                        500 |                           0 |                         242 |                   0     |                        0 |               0          |\n",
      "| 223 | DT4H-MedCO124  | Edoxaban tosilate                                                                                   | Edoxaban tosilate                                                                                                                 |                    0 |                     0 |                     0 |                        500 |                           0 |                         242 |                   0     |                        0 |               0          |\n",
      "| 224 | DT4H-MedCO125  | Porcine heparin sodium                                                                              | Porcine heparin sodium                                                                                                            |                    0 |                     0 |                     0 |                        500 |                           0 |                         242 |                   0     |                        0 |               0          |\n",
      "| 225 | DT4H-MedCO126  | Betrixaban                                                                                          | Betrixaban                                                                                                                        |                    0 |                     0 |                     0 |                        500 |                           0 |                         242 |                   0     |                        0 |               0          |\n",
      "| 226 | DT4H-MedCO127  | Argatroban monohydrate                                                                              | Argatroban monohydrate                                                                                                            |                    0 |                     0 |                     0 |                        500 |                           0 |                         242 |                   0     |                        0 |               0          |\n",
      "| 227 | DT4H-MedCO128  | Edoxaban                                                                                            | Edoxaban                                                                                                                          |                    0 |                     0 |                     0 |                        500 |                           0 |                         242 |                   0     |                        0 |               0          |\n",
      "| 228 | DT4H-MedCO129  | Fondaparinux                                                                                        | Fondaparinux                                                                                                                      |                    0 |                     0 |                     0 |                        500 |                           0 |                         242 |                   0     |                        0 |               0          |\n",
      "| 229 | DT4H-MedCO130  | Dabigatran etexilate mesylate                                                                       | Dabigatran etexilate mesylate                                                                                                     |                    0 |                     0 |                     0 |                        500 |                           0 |                         242 |                   0     |                        0 |               0          |\n",
      "| 230 | DT4H-MedCO131  | Dabigatran etexilate                                                                                | Dabigatran etexilate                                                                                                              |                    0 |                     0 |                     0 |                        500 |                           0 |                         242 |                   0     |                        0 |               0          |\n",
      "| 231 | DT4H-MedCO132  | Nadroparin                                                                                          | Nadroparin                                                                                                                        |                    0 |                     0 |                     0 |                        500 |                           0 |                         242 |                   0     |                        0 |               0          |\n",
      "| 232 | DT4H-MedCO133  | Dabigatran                                                                                          | Dabigatran                                                                                                                        |                    0 |                     0 |                     0 |                        500 |                           0 |                         242 |                   0     |                        0 |               0          |\n",
      "| 233 | DT4H-MedCO134  | Sulodexide                                                                                          | Sulodexide                                                                                                                        |                    0 |                     0 |                     0 |                        500 |                           0 |                         242 |                   0     |                        0 |               0          |\n",
      "| 234 | DT4H-MedCO135  | Nadroparin calcium                                                                                  | Nadroparin calcium                                                                                                                |                    0 |                     0 |                     0 |                        500 |                           0 |                         242 |                   0     |                        0 |               0          |\n",
      "| 235 | DT4H-MedCO136  | Apixaban                                                                                            | Apixaban                                                                                                                          |                    0 |                     0 |                     0 |                        500 |                           0 |                         242 |                   0     |                        0 |               0          |\n",
      "| 236 | DT4H-MedCO137  | Rivaroxaban                                                                                         | Rivaroxaban                                                                                                                       |                    0 |                     0 |                     0 |                        500 |                           0 |                         242 |                   0     |                        0 |               0          |\n",
      "| 237 | DT4H-MedCO138  | Ximelagatran                                                                                        | Ximelagatran                                                                                                                      |                    0 |                     0 |                     0 |                        500 |                           0 |                         242 |                   0     |                        0 |               0          |\n",
      "| 238 | DT4H-MedCO139  | Hirudin                                                                                             | Hirudin                                                                                                                           |                    0 |                     0 |                     0 |                        500 |                           0 |                         242 |                   0     |                        0 |               0          |\n",
      "| 239 | DT4H-MedCO140  | Direct thrombin inhibitor                                                                           | Direct thrombin inhibitor                                                                                                         |                    0 |                     0 |                     0 |                        500 |                           0 |                         242 |                   0     |                        0 |               0          |\n",
      "| 240 | DT4H-MedCO141  | Tinzaparin                                                                                          | Tinzaparin                                                                                                                        |                    0 |                     0 |                     0 |                        500 |                           0 |                         242 |                   0     |                        0 |               0          |\n",
      "| 241 | DT4H-MedCO142  | Bovine heparin sodium                                                                               | Bovine heparin sodium                                                                                                             |                    0 |                     0 |                     0 |                        500 |                           0 |                         242 |                   0     |                        0 |               0          |\n",
      "| 242 | DT4H-MedCO143  | Porcine heparin                                                                                     | Porcine heparin                                                                                                                   |                    0 |                     0 |                     0 |                        500 |                           0 |                         242 |                   0     |                        0 |               0          |\n",
      "| 243 | DT4H-MedCO144  | Bemiparin sodium                                                                                    | Bemiparin sodium                                                                                                                  |                    0 |                     0 |                     0 |                        500 |                           0 |                         242 |                   0     |                        0 |               0          |\n",
      "| 244 | DT4H-MedCO145  | Bemiparin                                                                                           | Bemiparin                                                                                                                         |                    0 |                     0 |                     0 |                        500 |                           0 |                         242 |                   0     |                        0 |               0          |\n",
      "| 245 | DT4H-MedCO146  | Desirudin                                                                                           | Desirudin                                                                                                                         |                    0 |                     0 |                     0 |                        500 |                           0 |                         242 |                   0     |                        0 |               0          |\n",
      "| 246 | DT4H-MedCO147  | Reviparin                                                                                           | Reviparin                                                                                                                         |                    0 |                     0 |                     0 |                        500 |                           0 |                         242 |                   0     |                        0 |               0          |\n",
      "| 247 | DT4H-MedCO148  | Certoparin                                                                                          | Certoparin                                                                                                                        |                    0 |                     0 |                     0 |                        500 |                           0 |                         242 |                   0     |                        0 |               0          |\n",
      "| 248 | DT4H-MedCO149  | Tinzaparin sodium                                                                                   | Tinzaparin sodium                                                                                                                 |                    0 |                     0 |                     0 |                        500 |                           0 |                         242 |                   0     |                        0 |               0          |\n",
      "| 249 | DT4H-MedCO150  | Certoparin sodium                                                                                   | Certoparin sodium                                                                                                                 |                    0 |                     0 |                     0 |                        500 |                           0 |                         242 |                   0     |                        0 |               0          |\n",
      "| 250 | DT4H-MedCO151  | Reviparin sodium                                                                                    | Reviparin sodium                                                                                                                  |                    0 |                     0 |                     0 |                        500 |                           0 |                         242 |                   0     |                        0 |               0          |\n",
      "| 251 | DT4H-MedCO152  | Lepirudin                                                                                           | Lepirudin                                                                                                                         |                    0 |                     0 |                     0 |                        500 |                           0 |                         242 |                   0     |                        0 |               0          |\n",
      "| 252 | DT4H-MedCO153  | Danaparoid sodium                                                                                   | Danaparoid sodium                                                                                                                 |                    0 |                     0 |                     0 |                        500 |                           0 |                         242 |                   0     |                        0 |               0          |\n",
      "| 253 | DT4H-MedCO154  | Coagulation factor Xa inhibitor                                                                     | Coagulation factor Xa inhibitor                                                                                                   |                    0 |                     0 |                     0 |                        500 |                           0 |                         242 |                   0     |                        0 |               0          |\n",
      "| 254 | DT4H-MedCO155  | Fondaparinux sodium                                                                                 | Fondaparinux sodium                                                                                                               |                    0 |                     0 |                     0 |                        500 |                           0 |                         242 |                   0     |                        0 |               0          |\n",
      "| 255 | DT4H-MedCO156  | Ardeparin                                                                                           | Ardeparin                                                                                                                         |                    0 |                     0 |                     0 |                        500 |                           0 |                         242 |                   0     |                        0 |               0          |\n",
      "| 256 | DT4H-MedCO157  | Low molecular weight heparin                                                                        | Low molecular weight heparin                                                                                                      |                    0 |                     0 |                     0 |                        500 |                           0 |                         242 |                   0     |                        0 |               0          |\n",
      "| 257 | DT4H-MedCO158  | Heparin                                                                                             | Heparin                                                                                                                           |                    0 |                     0 |                     0 |                        500 |                           0 |                         242 |                   0     |                        0 |               0          |\n",
      "| 258 | DT4H-MedCO159  | Heparinoid                                                                                          | Heparinoid                                                                                                                        |                    0 |                     0 |                     0 |                        500 |                           0 |                         242 |                   0     |                        0 |               0          |\n",
      "| 259 | DT4H-MedCO160  | Pentosan polysulfate                                                                                | Pentosan polysulfate                                                                                                              |                    0 |                     0 |                     0 |                        500 |                           0 |                         242 |                   0     |                        0 |               0          |\n",
      "| 260 | DT4H-MedCO161  | Danaparoid                                                                                          | Danaparoid                                                                                                                        |                    0 |                     0 |                     0 |                        500 |                           0 |                         242 |                   0     |                        0 |               0          |\n",
      "| 261 | DT4H-MedCO162  | Dalteparin                                                                                          | Dalteparin                                                                                                                        |                    0 |                     0 |                     0 |                        500 |                           0 |                         242 |                   0     |                        0 |               0          |\n",
      "| 262 | DT4H-MedCO163  | Enoxaparin                                                                                          | Enoxaparin                                                                                                                        |                    0 |                     0 |                     0 |                        500 |                           0 |                         242 |                   0     |                        0 |               0          |\n",
      "| 263 | DT4H-MedCO164  | Bivalirudin                                                                                         | Bivalirudin                                                                                                                       |                    0 |                     0 |                     0 |                        500 |                           0 |                         242 |                   0     |                        0 |               0          |\n",
      "| 264 | DT4H-MedCO165  | Argatroban                                                                                          | Argatroban                                                                                                                        |                    0 |                     0 |                     0 |                        500 |                           0 |                         242 |                   0     |                        0 |               0          |\n",
      "| 265 | DT4H-MedCO166  | Pentosan polysulfate sodium                                                                         | Pentosan polysulfate sodium                                                                                                       |                    0 |                     0 |                     0 |                        500 |                           0 |                         242 |                   0     |                        0 |               0          |\n",
      "| 266 | DT4H-MedCO167  | Ardeparin sodium                                                                                    | Ardeparin sodium                                                                                                                  |                    0 |                     0 |                     0 |                        500 |                           0 |                         242 |                   0     |                        0 |               0          |\n",
      "| 267 | DT4H-MedCO168  | Dalteparin sodium                                                                                   | Dalteparin sodium                                                                                                                 |                    0 |                     0 |                     0 |                        500 |                           0 |                         242 |                   0     |                        0 |               0          |\n",
      "| 268 | DT4H-MedCO169  | Enoxaparin sodium                                                                                   | Enoxaparin sodium                                                                                                                 |                    0 |                     0 |                     0 |                        500 |                           0 |                         242 |                   0     |                        0 |               0          |\n",
      "| 269 | DT4H-MedCO170  | Heparin sodium                                                                                      | Heparin sodium                                                                                                                    |                    0 |                     0 |                     0 |                        500 |                           0 |                         242 |                   0     |                        0 |               0          |\n",
      "| 270 | DT4H-MedCO171  | Ancrod                                                                                              | Ancrod                                                                                                                            |                    0 |                     0 |                     0 |                        500 |                           0 |                         242 |                   0     |                        0 |               0          |\n",
      "| 271 | DT4H-MedCO172  | Heparin calcium                                                                                     | Heparin calcium                                                                                                                   |                    0 |                     0 |                     0 |                        500 |                           0 |                         242 |                   0     |                        0 |               0          |\n",
      "| 272 | DT4H-MedCO173  | Glucurolactone                                                                                      | Glucurolactone                                                                                                                    |                    0 |                     0 |                     0 |                        500 |                           0 |                         242 |                   0     |                        0 |               0          |\n",
      "| 273 | DT4H-MedCO21   | Indirect acting anticoagulant                                                                       | Indirect acting anticoagulant                                                                                                     |                    0 |                     0 |                     0 |                        500 |                           0 |                         242 |                   0     |                        0 |               0          |\n",
      "| 274 | DT4H-MedCO211  | Fluindione                                                                                          | Fluindione                                                                                                                        |                    0 |                     0 |                     0 |                        500 |                           0 |                         242 |                   0     |                        0 |               0          |\n",
      "| 275 | DT4H-MedCO212  | Human protein C                                                                                     | Human protein C                                                                                                                   |                    0 |                     0 |                     0 |                        500 |                           0 |                         242 |                   0     |                        0 |               0          |\n",
      "| 276 | DT4H-MedCO213  | Coumafuryl                                                                                          | Coumafuryl                                                                                                                        |                    0 |                     0 |                     0 |                        500 |                           0 |                         242 |                   0     |                        0 |               0          |\n",
      "| 277 | DT4H-MedCO214  | Difenacoum                                                                                          | Difenacoum                                                                                                                        |                    0 |                     0 |                     0 |                        500 |                           0 |                         242 |                   0     |                        0 |               0          |\n",
      "| 278 | DT4H-MedCO215  | Long-acting coumarin derivative                                                                     | Long-acting coumarin derivative                                                                                                   |                    0 |                     0 |                     0 |                        500 |                           0 |                         242 |                   0     |                        0 |               0          |\n",
      "| 279 | DT4H-MedCO216  | Difethialone                                                                                        | Difethialone                                                                                                                      |                    0 |                     0 |                     0 |                        500 |                           0 |                         242 |                   0     |                        0 |               0          |\n",
      "| 280 | DT4H-MedCO217  | Acenocoumarol                                                                                       | Acenocoumarol                                                                                                                     |                    0 |                     0 |                     0 |                        500 |                           0 |                         242 |                   0     |                        0 |               0          |\n",
      "| 281 | DT4H-MedCO218  | Phenindione                                                                                         | Phenindione                                                                                                                       |                    0 |                     0 |                     0 |                        500 |                           0 |                         242 |                   0     |                        0 |               0          |\n",
      "| 282 | DT4H-MedCO219  | Coumarin anticoagulant                                                                              | Coumarin anticoagulant                                                                                                            |                    0 |                     0 |                     0 |                        500 |                           0 |                         242 |                   0     |                        0 |               0          |\n",
      "| 283 | DT4H-MedCO220  | Warfarin                                                                                            | Warfarin                                                                                                                          |                    0 |                     0 |                     0 |                        500 |                           0 |                         242 |                   0     |                        0 |               0          |\n",
      "| 284 | DT4H-MedCO221  | Indanedione                                                                                         | Indanedione                                                                                                                       |                    0 |                     0 |                     0 |                        500 |                           0 |                         242 |                   0     |                        0 |               0          |\n",
      "| 285 | DT4H-MedCO222  | Brodifacoum                                                                                         | Brodifacoum                                                                                                                       |                    0 |                     0 |                     0 |                        500 |                           0 |                         242 |                   0     |                        0 |               0          |\n",
      "| 286 | DT4H-MedCO223  | Acarboxy-protein C                                                                                  | Acarboxy-protein C                                                                                                                |                    0 |                     0 |                     0 |                        500 |                           0 |                         242 |                   0     |                        0 |               0          |\n",
      "| 287 | DT4H-MedCO224  | Bromadiolone                                                                                        | Bromadiolone                                                                                                                      |                    0 |                     0 |                     0 |                        500 |                           0 |                         242 |                   0     |                        0 |               0          |\n",
      "| 288 | DT4H-MedCO225  | Cyclocumarol                                                                                        | Cyclocumarol                                                                                                                      |                    0 |                     0 |                     0 |                        500 |                           0 |                         242 |                   0     |                        0 |               0          |\n",
      "| 289 | DT4H-MedCO226  | Bromindione                                                                                         | Bromindione                                                                                                                       |                    0 |                     0 |                     0 |                        500 |                           0 |                         242 |                   0     |                        0 |               0          |\n",
      "| 290 | DT4H-MedCO227  | Dicumarol                                                                                           | Dicumarol                                                                                                                         |                    0 |                     0 |                     0 |                        500 |                           0 |                         242 |                   0     |                        0 |               0          |\n",
      "| 291 | DT4H-MedCO228  | Warfarin sodium                                                                                     | Warfarin sodium                                                                                                                   |                    0 |                     0 |                     0 |                        500 |                           0 |                         242 |                   0     |                        0 |               0          |\n",
      "| 292 | DT4H-MedCO229  | Phenprocoumon                                                                                       | Phenprocoumon                                                                                                                     |                    0 |                     0 |                     0 |                        500 |                           0 |                         242 |                   0     |                        0 |               0          |\n",
      "| 293 | DT4H-MedCO230  | Ethyl biscoumacetate                                                                                | Ethyl biscoumacetate                                                                                                              |                    0 |                     0 |                     0 |                        500 |                           0 |                         242 |                   0     |                        0 |               0          |\n",
      "| 294 | DT4H-MedCO231  | Potassium warfarin                                                                                  | Potassium warfarin                                                                                                                |                    0 |                     0 |                     0 |                        500 |                           0 |                         242 |                   0     |                        0 |               0          |\n",
      "| 295 | DT4H-MedCO232  | Anisindione                                                                                         | Anisindione                                                                                                                       |                    0 |                     0 |                     0 |                        500 |                           0 |                         242 |                   0     |                        0 |               0          |\n",
      "| 296 | DT4H-MedCO233  | 4-hydroxycoumarin                                                                                   | 4-hydroxycoumarin                                                                                                                 |                    0 |                     0 |                     0 |                        500 |                           0 |                         242 |                   0     |                        0 |               0          |\n",
      "| 297 | DT4H-MedCO234  | Chlorophacinone                                                                                     | Chlorophacinone                                                                                                                   |                    0 |                     0 |                     0 |                        500 |                           0 |                         242 |                   0     |                        0 |               0          |\n",
      "| 298 | DT4H-MedCO235  | Protein C                                                                                           | Protein C                                                                                                                         |                    0 |                     0 |                     0 |                        500 |                           0 |                         242 |                   0     |                        0 |               0          |\n",
      "| 299 | DT4H-MedCO236  | Diphenadione                                                                                        | Diphenadione                                                                                                                      |                    0 |                     0 |                     0 |                        500 |                           0 |                         242 |                   0     |                        0 |               0          |\n",
      "| 300 | DT4H-MedD1     | DIURETICS                                                                                           | DIURETICS                                                                                                                         |                    0 |                     0 |                     0 |                        500 |                           0 |                         242 |                   0     |                        0 |               0          |\n",
      "| 301 | DT4H-MedD1     | Diuretics                                                                                           | Diuretic                                                                                                                          |                    0 |                     0 |                     0 |                        500 |                           0 |                         242 |                   0     |                        0 |               0          |\n",
      "| 302 | DT4H-MedD11    | diuretics other                                                                                     | diuretics other                                                                                                                   |                    0 |                     0 |                     0 |                        500 |                           0 |                         242 |                   0     |                        0 |               0          |\n",
      "| 303 | DT4H-MedD111   | acetazolamide                                                                                       | acetazolamide                                                                                                                     |                    0 |                     0 |                     0 |                        500 |                           0 |                         242 |                   0     |                        0 |               0          |\n",
      "| 304 | DT4H-MedD112   | aminometradine                                                                                      | aminometradine                                                                                                                    |                    0 |                     0 |                     0 |                        500 |                           0 |                         242 |                   0     |                        0 |               0          |\n",
      "| 305 | DT4H-MedD113   | amisometradine                                                                                      | amisometradine                                                                                                                    |                    0 |                     0 |                     0 |                        500 |                           0 |                         242 |                   0     |                        0 |               0          |\n",
      "| 306 | DT4H-MedD114   | chlorazanil                                                                                         | chlorazanil                                                                                                                       |                    0 |                     0 |                     0 |                        500 |                           0 |                         242 |                   0     |                        0 |               0          |\n",
      "| 307 | DT4H-MedD115   | cicletanine                                                                                         | cicletanine                                                                                                                       |                    0 |                     0 |                     0 |                        500 |                           0 |                         242 |                   0     |                        0 |               0          |\n",
      "| 308 | DT4H-MedD116   | cicletanine hydrochloride                                                                           | cicletanine hydrochloride                                                                                                         |                    0 |                     0 |                     0 |                        500 |                           0 |                         242 |                   0     |                        0 |               0          |\n",
      "| 309 | DT4H-MedD117   | conivaptan                                                                                          | conivaptan                                                                                                                        |                    0 |                     0 |                     0 |                        500 |                           0 |                         242 |                   0     |                        0 |               0          |\n",
      "| 310 | DT4H-MedD118   | conivaptan hydrochloride                                                                            | conivaptan hydrochloride                                                                                                          |                    0 |                     0 |                     0 |                        500 |                           0 |                         242 |                   0     |                        0 |               0          |\n",
      "| 311 | DT4H-MedD119   | flumethiazide                                                                                       | flumethiazide                                                                                                                     |                    0 |                     0 |                     0 |                        500 |                           0 |                         242 |                   0     |                        0 |               0          |\n",
      "| 312 | DT4H-MedD120   | pamabrom                                                                                            | pamabrom                                                                                                                          |                    0 |                     0 |                     0 |                        500 |                           0 |                         242 |                   0     |                        0 |               0          |\n",
      "| 313 | DT4H-MedD121   | tolvaptan                                                                                           | tolvaptan                                                                                                                         |                    0 |                     0 |                     0 |                        500 |                           0 |                         242 |                   0     |                        0 |               0          |\n",
      "| 314 | DT4H-MedD13    | Mercurial diuretic                                                                                  | Mercurial diuretic                                                                                                                |                    0 |                     0 |                     0 |                        500 |                           0 |                         242 |                   0     |                        0 |               0          |\n",
      "| 315 | DT4H-MedD131   | Mersalyl sodium                                                                                     | Mersalyl sodium                                                                                                                   |                    0 |                     0 |                     0 |                        500 |                           0 |                         242 |                   0     |                        0 |               0          |\n",
      "| 316 | DT4H-MedD132   | Mersalyl                                                                                            | Mersalyl                                                                                                                          |                    0 |                     0 |                     0 |                        500 |                           0 |                         242 |                   0     |                        0 |               0          |\n",
      "| 317 | DT4H-MedD133   | Mercaptomerin                                                                                       | Mercaptomerin                                                                                                                     |                    0 |                     0 |                     0 |                        500 |                           0 |                         242 |                   0     |                        0 |               0          |\n",
      "| 318 | DT4H-MedD134   | Meralluride                                                                                         | Meralluride                                                                                                                       |                    0 |                     0 |                     0 |                        500 |                           0 |                         242 |                   0     |                        0 |               0          |\n",
      "| 319 | DT4H-MedD135   | Chlormerodrin                                                                                       | Chlormerodrin                                                                                                                     |                    0 |                     0 |                     0 |                        500 |                           0 |                         242 |                   0     |                        0 |               0          |\n",
      "| 320 | DT4H-MedD136   | Merethoxylline procaine                                                                             | Merethoxylline procaine                                                                                                           |                    0 |                     0 |                     0 |                        500 |                           0 |                         242 |                   0     |                        0 |               0          |\n",
      "| 321 | DT4H-MedD137   | Mercumatilin                                                                                        | Mercumatilin                                                                                                                      |                    0 |                     0 |                     0 |                        500 |                           0 |                         242 |                   0     |                        0 |               0          |\n",
      "| 322 | DT4H-MedD138   | Mercaptomerin sodium                                                                                | Mercaptomerin sodium                                                                                                              |                    0 |                     0 |                     0 |                        500 |                           0 |                         242 |                   0     |                        0 |               0          |\n",
      "| 323 | DT4H-MedD14    | Osmotic diuretic                                                                                    | Osmotic diuretic                                                                                                                  |                    0 |                     0 |                     0 |                        500 |                           0 |                         242 |                   0     |                        0 |               0          |\n",
      "| 324 | DT4H-MedD141   | Mannitol                                                                                            | Mannitol                                                                                                                          |                    0 |                     0 |                     0 |                        500 |                           0 |                         242 |                   0     |                        0 |               0          |\n",
      "| 325 | DT4H-MedD142   | Urea                                                                                                | Urea                                                                                                                              |                    0 |                     0 |                     0 |                        500 |                           0 |                         242 |                   0     |                        0 |               0          |\n",
      "| 326 | DT4H-MedD143   | Isosorbide                                                                                          | Isosorbide                                                                                                                        |                    0 |                     0 |                     0 |                        500 |                           0 |                         242 |                   0     |                        0 |               0          |\n",
      "| 327 | DT4H-MedD15    | Potassium sparing diuretic                                                                          | Potassium sparing diuretic                                                                                                        |                    0 |                     0 |                     0 |                        500 |                           0 |                         242 |                   0     |                        0 |               0          |\n",
      "| 328 | DT4H-MedD151   | Amiloride hydrochloride anhydrous                                                                   | Amiloride hydrochloride anhydrous                                                                                                 |                    0 |                     0 |                     0 |                        500 |                           0 |                         242 |                   0     |                        0 |               0          |\n",
      "| 329 | DT4H-MedD152   | Finerenone                                                                                          | Finerenone                                                                                                                        |                    0 |                     0 |                     0 |                        500 |                           0 |                         242 |                   0     |                        0 |               0          |\n",
      "| 330 | DT4H-MedD153   | Potassium canrenoate                                                                                | Potassium canrenoate                                                                                                              |                    0 |                     0 |                     0 |                        500 |                           0 |                         242 |                   0     |                        0 |               0          |\n",
      "| 331 | DT4H-MedD154   | Amiloride hydrochloride dihydrate                                                                   | Amiloride hydrochloride dihydrate                                                                                                 |                    0 |                     0 |                     0 |                        500 |                           0 |                         242 |                   0     |                        0 |               0          |\n",
      "| 332 | DT4H-MedD155   | Eplerenone                                                                                          | Eplerenone                                                                                                                        |                    0 |                     0 |                     0 |                        500 |                           0 |                         242 |                   0     |                        0 |               0          |\n",
      "| 333 | DT4H-MedD156   | Amiloride hydrochloride                                                                             | Amiloride hydrochloride                                                                                                           |                    0 |                     0 |                     0 |                        500 |                           0 |                         242 |                   0     |                        0 |               0          |\n",
      "| 334 | DT4H-MedD157   | Amiloride                                                                                           | Amiloride                                                                                                                         |                    0 |                     0 |                     0 |                        500 |                           0 |                         242 |                   0     |                        0 |               0          |\n",
      "| 335 | DT4H-MedD158   | Spironolactone                                                                                      | Spironolactone                                                                                                                    |                    0 |                     0 |                     0 |                        500 |                           0 |                         242 |                   0     |                        0 |               0          |\n",
      "| 336 | DT4H-MedD159   | Triamterene                                                                                         | Triamterene                                                                                                                       |                    0 |                     0 |                     0 |                        500 |                           0 |                         242 |                   0     |                        0 |               0          |\n",
      "| 337 | DT4H-MedD160   | Aldosterone receptor antagonist                                                                     | Aldosterone receptor antagonist                                                                                                   |                    0 |                     0 |                     0 |                        500 |                           0 |                         242 |                   0     |                        0 |               0          |\n",
      "| 338 | DT4H-MedD161   | Canrenone                                                                                           | Canrenone                                                                                                                         |                    0 |                     0 |                     0 |                        500 |                           0 |                         242 |                   0     |                        0 |               0          |\n",
      "| 339 | DT4H-MedD17    | Purine-derivative diuretic                                                                          | Purine-derivative diuretic                                                                                                        |                    0 |                     0 |                     0 |                        500 |                           0 |                         242 |                   0     |                        0 |               0          |\n",
      "| 340 | DT4H-MedD171   | Choline theophyllinate                                                                              | Choline theophyllinate                                                                                                            |                    0 |                     0 |                     0 |                        500 |                           0 |                         242 |                   0     |                        0 |               0          |\n",
      "| 341 | DT4H-MedD172   | Theobromine                                                                                         | Theobromine                                                                                                                       |                    0 |                     0 |                     0 |                        500 |                           0 |                         242 |                   0     |                        0 |               0          |\n",
      "| 342 | DT4H-MedD18    | Saluretic agent                                                                                     | Saluretic agent                                                                                                                   |                    0 |                     0 |                     0 |                        500 |                           0 |                         242 |                   0     |                        0 |               0          |\n",
      "| 343 | DT4H-MedD181   | Butizide                                                                                            | Butizide                                                                                                                          |                    0 |                     0 |                     0 |                        500 |                           0 |                         242 |                   0     |                        0 |               0          |\n",
      "| 344 | DT4H-MedD182   | Bumetanide                                                                                          | Bumetanide                                                                                                                        |                    0 |                     0 |                     0 |                        500 |                           0 |                         242 |                   0     |                        0 |               0          |\n",
      "| 345 | DT4H-MedD183   | Furosemide                                                                                          | Furosemide                                                                                                                        |                    0 |                     0 |                     0 |                        500 |                           0 |                         242 |                   0     |                        0 |               0          |\n",
      "| 346 | DT4H-MedD184   | Chlortalidone                                                                                       | Chlortalidone                                                                                                                     |                    0 |                     0 |                     0 |                        500 |                           0 |                         242 |                   0     |                        0 |               0          |\n",
      "| 347 | DT4H-MedD185   | Ethacrynic acid                                                                                     | Ethacrynic acid                                                                                                                   |                    0 |                     0 |                     0 |                        500 |                           0 |                         242 |                   0     |                        0 |               0          |\n",
      "| 348 | DT4H-MedD186   | Chlorothiazide                                                                                      | Chlorothiazide                                                                                                                    |                    0 |                     0 |                     0 |                        500 |                           0 |                         242 |                   0     |                        0 |               0          |\n",
      "| 349 | DT4H-MedD187   | Torasemide                                                                                          | Torasemide                                                                                                                        |                    0 |                     0 |                     0 |                        500 |                           0 |                         242 |                   0     |                        0 |               0          |\n",
      "| 350 | DT4H-MedD188   | Canrenone                                                                                           | Canrenone                                                                                                                         |                    0 |                     0 |                     0 |                        500 |                           0 |                         242 |                   0     |                        0 |               0          |\n",
      "| 351 | DT4H-MedD189   | Ethacrynate sodium                                                                                  | Ethacrynate sodium                                                                                                                |                    0 |                     0 |                     0 |                        500 |                           0 |                         242 |                   0     |                        0 |               0          |\n",
      "| 352 | DT4H-MedD190   | Benzthiazide                                                                                        | Benzthiazide                                                                                                                      |                    0 |                     0 |                     0 |                        500 |                           0 |                         242 |                   0     |                        0 |               0          |\n",
      "| 353 | DT4H-MedD191   | Tienilic acid                                                                                       | Tienilic acid                                                                                                                     |                    0 |                     0 |                     0 |                        500 |                           0 |                         242 |                   0     |                        0 |               0          |\n",
      "| 354 | DT4H-MedD192   | Quinethazone                                                                                        | Quinethazone                                                                                                                      |                    0 |                     0 |                     0 |                        500 |                           0 |                         242 |                   0     |                        0 |               0          |\n",
      "| 355 | DT4H-MedD193   | Cyclothiazide                                                                                       | Cyclothiazide                                                                                                                     |                    0 |                     0 |                     0 |                        500 |                           0 |                         242 |                   0     |                        0 |               0          |\n",
      "| 356 | DT4H-MedD194   | Trichlormethiazide                                                                                  | Trichlormethiazide                                                                                                                |                    0 |                     0 |                     0 |                        500 |                           0 |                         242 |                   0     |                        0 |               0          |\n",
      "| 357 | DT4H-MedD195   | Chlorothiazide sodium                                                                               | Chlorothiazide sodium                                                                                                             |                    0 |                     0 |                     0 |                        500 |                           0 |                         242 |                   0     |                        0 |               0          |\n",
      "| 358 | DT4H-MedD2     | Sulfonamide diuretic                                                                                | Sulfonamide diuretic                                                                                                              |                    0 |                     0 |                     0 |                        500 |                           0 |                         242 |                   0     |                        0 |               0          |\n",
      "| 359 | DT4H-MedD201   | Indapamide hemihydrate                                                                              | Indapamide hemihydrate                                                                                                            |                    0 |                     0 |                     0 |                        500 |                           0 |                         242 |                   0     |                        0 |               0          |\n",
      "| 360 | DT4H-MedD202   | Mefruside                                                                                           | Mefruside                                                                                                                         |                    0 |                     0 |                     0 |                        500 |                           0 |                         242 |                   0     |                        0 |               0          |\n",
      "| 361 | DT4H-MedD203   | Clopamide                                                                                           | Clopamide                                                                                                                         |                    0 |                     0 |                     0 |                        500 |                           0 |                         242 |                   0     |                        0 |               0          |\n",
      "| 362 | DT4H-MedD204   | Xipamide                                                                                            | Xipamide                                                                                                                          |                    0 |                     0 |                     0 |                        500 |                           0 |                         242 |                   0     |                        0 |               0          |\n",
      "| 363 | DT4H-MedD205   | Bumetanide                                                                                          | Bumetanide                                                                                                                        |                    0 |                     0 |                     0 |                        500 |                           0 |                         242 |                   0     |                        0 |               0          |\n",
      "| 364 | DT4H-MedD206   | Furosemide                                                                                          | Furosemide                                                                                                                        |                    0 |                     0 |                     0 |                        500 |                           0 |                         242 |                   0     |                        0 |               0          |\n",
      "| 365 | DT4H-MedD207   | Indapamide                                                                                          | Indapamide                                                                                                                        |                    0 |                     0 |                     0 |                        500 |                           0 |                         242 |                   0     |                        0 |               0          |\n",
      "| 366 | DT4H-MedD208   | Chlortalidone                                                                                       | Chlortalidone                                                                                                                     |                    0 |                     0 |                     0 |                        500 |                           0 |                         242 |                   0     |                        0 |               0          |\n",
      "| 367 | DT4H-MedD209   | Metolazone                                                                                          | Metolazone                                                                                                                        |                    0 |                     0 |                     0 |                        500 |                           0 |                         242 |                   0     |                        0 |               0          |\n",
      "| 368 | DT4H-MedD210   | Ethoxyzolamide                                                                                      | Ethoxyzolamide                                                                                                                    |                    0 |                     0 |                     0 |                        500 |                           0 |                         242 |                   0     |                        0 |               0          |\n",
      "| 369 | DT4H-MedD211   | Methazolamide                                                                                       | Methazolamide                                                                                                                     |                    0 |                     0 |                     0 |                        500 |                           0 |                         242 |                   0     |                        0 |               0          |\n",
      "| 370 | DT4H-MedD212   | Quinethazone                                                                                        | Quinethazone                                                                                                                      |                    0 |                     0 |                     0 |                        500 |                           0 |                         242 |                   0     |                        0 |               0          |\n",
      "| 371 | DT4H-MedD22    | Thiazide diuretic                                                                                   | Thiazide diuretic                                                                                                                 |                    0 |                     0 |                     0 |                        500 |                           0 |                         242 |                   0     |                        0 |               0          |\n",
      "| 372 | DT4H-MedD221   | Butizide                                                                                            | Butizide                                                                                                                          |                    0 |                     0 |                     0 |                        500 |                           0 |                         242 |                   0     |                        0 |               0          |\n",
      "| 373 | DT4H-MedD222   | Althiazide                                                                                          | Althiazide                                                                                                                        |                    0 |                     0 |                     0 |                        500 |                           0 |                         242 |                   0     |                        0 |               0          |\n",
      "| 374 | DT4H-MedD223   | Mefruside                                                                                           | Mefruside                                                                                                                         |                    0 |                     0 |                     0 |                        500 |                           0 |                         242 |                   0     |                        0 |               0          |\n",
      "| 375 | DT4H-MedD224   | Cyclopenthiazide                                                                                    | Cyclopenthiazide                                                                                                                  |                    0 |                     0 |                     0 |                        500 |                           0 |                         242 |                   0     |                        0 |               0          |\n",
      "| 376 | DT4H-MedD225   | Hydroflumethiazide                                                                                  | Hydroflumethiazide                                                                                                                |                    0 |                     0 |                     0 |                        500 |                           0 |                         242 |                   0     |                        0 |               0          |\n",
      "| 377 | DT4H-MedD226   | Hydrochlorothiazide                                                                                 | Hydrochlorothiazide                                                                                                               |                    0 |                     0 |                     0 |                        500 |                           0 |                         242 |                   0     |                        0 |               0          |\n",
      "| 378 | DT4H-MedD227   | Bendroflumethiazide                                                                                 | Bendroflumethiazide                                                                                                               |                    0 |                     0 |                     0 |                        500 |                           0 |                         242 |                   0     |                        0 |               0          |\n",
      "| 379 | DT4H-MedD228   | Polythiazide                                                                                        | Polythiazide                                                                                                                      |                    0 |                     0 |                     0 |                        500 |                           0 |                         242 |                   0     |                        0 |               0          |\n",
      "| 380 | DT4H-MedD229   | Methyclothiazide                                                                                    | Methyclothiazide                                                                                                                  |                    0 |                     0 |                     0 |                        500 |                           0 |                         242 |                   0     |                        0 |               0          |\n",
      "| 381 | DT4H-MedD230   | Chlorothiazide                                                                                      | Chlorothiazide                                                                                                                    |                    0 |                     0 |                     0 |                        500 |                           0 |                         242 |                   0     |                        0 |               0          |\n",
      "| 382 | DT4H-MedD231   | Benzthiazide                                                                                        | Benzthiazide                                                                                                                      |                    0 |                     0 |                     0 |                        500 |                           0 |                         242 |                   0     |                        0 |               0          |\n",
      "| 383 | DT4H-MedD232   | Cyclothiazide                                                                                       | Cyclothiazide                                                                                                                     |                    0 |                     0 |                     0 |                        500 |                           0 |                         242 |                   0     |                        0 |               0          |\n",
      "| 384 | DT4H-MedD233   | Trichlormethiazide                                                                                  | Trichlormethiazide                                                                                                                |                    0 |                     0 |                     0 |                        500 |                           0 |                         242 |                   0     |                        0 |               0          |\n",
      "| 385 | DT4H-MedD234   | Chlorothiazide sodium                                                                               | Chlorothiazide sodium                                                                                                             |                    0 |                     0 |                     0 |                        500 |                           0 |                         242 |                   0     |                        0 |               0          |\n",
      "| 386 | DT4H-MedD24    | Uricosuric agent                                                                                    | Uricosuric agent                                                                                                                  |                    0 |                     0 |                     0 |                        500 |                           0 |                         242 |                   0     |                        0 |               0          |\n",
      "| 387 | DT4H-MedD241   | Lesinurad                                                                                           | Lesinurad                                                                                                                         |                    0 |                     0 |                     0 |                        500 |                           0 |                         242 |                   0     |                        0 |               0          |\n",
      "| 388 | DT4H-MedD242   | Benzbromarone                                                                                       | Benzbromarone                                                                                                                     |                    0 |                     0 |                     0 |                        500 |                           0 |                         242 |                   0     |                        0 |               0          |\n",
      "| 389 | DT4H-MedD243   | Apazone                                                                                             | Apazone                                                                                                                           |                    0 |                     0 |                     0 |                        500 |                           0 |                         242 |                   0     |                        0 |               0          |\n",
      "| 390 | DT4H-MedD244   | Probenecid                                                                                          | Probenecid                                                                                                                        |                    0 |                     0 |                     0 |                        500 |                           0 |                         242 |                   0     |                        0 |               0          |\n",
      "| 391 | DT4H-MedD245   | Sulfinpyrazone                                                                                      | Sulfinpyrazone                                                                                                                    |                    0 |                     0 |                     0 |                        500 |                           0 |                         242 |                   0     |                        0 |               0          |\n",
      "| 392 | DT4H-MedDG1    | DIGITALIS GLYCOSIDES                                                                                | DIGITALIS GLYCOSIDES                                                                                                              |                    0 |                     0 |                     0 |                        500 |                           0 |                         242 |                   0     |                        0 |               0          |\n",
      "| 393 | DT4H-MedDG1    | Digitalis glycosides                                                                                | Digitalis glycoside                                                                                                               |                    0 |                     0 |                     0 |                        500 |                           0 |                         242 |                   0     |                        0 |               0          |\n",
      "| 394 | DT4H-MedDG111  | Medigoxin                                                                                           | Medigoxin                                                                                                                         |                    0 |                     0 |                     0 |                        500 |                           0 |                         242 |                   0     |                        0 |               0          |\n",
      "| 395 | DT4H-MedDG112  | Digitalis                                                                                           | Digitalis                                                                                                                         |                    0 |                     0 |                     0 |                        500 |                           0 |                         242 |                   0     |                        0 |               0          |\n",
      "| 396 | DT4H-MedDG113  | Digoxin                                                                                             | Digoxin                                                                                                                           |                    0 |                     0 |                     0 |                        500 |                           0 |                         242 |                   0     |                        0 |               0          |\n",
      "| 397 | DT4H-MedDG114  | Lanatoside C                                                                                        | Lanatoside C                                                                                                                      |                    0 |                     0 |                     0 |                        500 |                           0 |                         242 |                   0     |                        0 |               0          |\n",
      "| 398 | DT4H-MedDG115  | Digitoxin                                                                                           | Digitoxin                                                                                                                         |                    0 |                     0 |                     0 |                        500 |                           0 |                         242 |                   0     |                        0 |               0          |\n",
      "| 399 | DT4H-MedDG116  | Ouabain                                                                                             | Ouabain                                                                                                                           |                    0 |                     0 |                     0 |                        500 |                           0 |                         242 |                   0     |                        0 |               0          |\n",
      "| 400 | DT4H-MedDG117  | Aglycone                                                                                            | Aglycone                                                                                                                          |                    0 |                     0 |                     0 |                        500 |                           0 |                         242 |                   0     |                        0 |               0          |\n",
      "| 401 | DT4H-MedDG118  | Deslanoside                                                                                         | Deslanoside                                                                                                                       |                    0 |                     0 |                     0 |                        500 |                           0 |                         242 |                   0     |                        0 |               0          |\n",
      "| 402 | DT4H-MedDG119  | Acetyldigitoxin                                                                                     | Acetyldigitoxin                                                                                                                   |                    0 |                     0 |                     0 |                        500 |                           0 |                         242 |                   0     |                        0 |               0          |\n",
      "| 403 | DT4H-MedIV1    | IVABRADINE                                                                                          | IVABRADINE                                                                                                                        |                    0 |                     0 |                     0 |                        500 |                           0 |                         242 |                   0     |                        0 |               0          |\n",
      "| 404 | DT4H-MedIV1    | Ivabradine                                                                                          | Ivabradine                                                                                                                        |                    0 |                     0 |                     0 |                        500 |                           0 |                         242 |                   0     |                        0 |               0          |\n",
      "| 405 | DT4H-MedL1     | LOOP DIURETIC                                                                                       | LOOP DIURETIC                                                                                                                     |                    0 |                     0 |                     0 |                        500 |                           0 |                         242 |                   0     |                        0 |               0          |\n",
      "| 406 | DT4H-MedL1     | Loop diuretics                                                                                      | Loop diuretic                                                                                                                     |                    0 |                     0 |                     0 |                        500 |                           0 |                         242 |                   0     |                        0 |               0          |\n",
      "| 407 | DT4H-MedL101   | Piretanide                                                                                          | Piretanide                                                                                                                        |                    0 |                     0 |                     0 |                        500 |                           0 |                         242 |                   0     |                        0 |               0          |\n",
      "| 408 | DT4H-MedL102   | Bumetanide                                                                                          | Bumetanide                                                                                                                        |                    0 |                     0 |                     0 |                        500 |                           0 |                         242 |                   0     |                        0 |               0          |\n",
      "| 409 | DT4H-MedL103   | Furosemide                                                                                          | Furosemide                                                                                                                        |                    0 |                     0 |                     0 |                        500 |                           0 |                         242 |                   0     |                        0 |               0          |\n",
      "| 410 | DT4H-MedL104   | Ethacrynic acid                                                                                     | Ethacrynic acid                                                                                                                   |                    0 |                     0 |                     0 |                        500 |                           0 |                         242 |                   0     |                        0 |               0          |\n",
      "| 411 | DT4H-MedL105   | Torasemide                                                                                          | Torasemide                                                                                                                        |                    0 |                     0 |                     0 |                        500 |                           0 |                         242 |                   0     |                        0 |               0          |\n",
      "| 412 | DT4H-MedL106   | Ethacrynate sodium                                                                                  | Ethacrynate sodium                                                                                                                |                    0 |                     0 |                     0 |                        500 |                           0 |                         242 |                   0     |                        0 |               0          |\n",
      "| 413 | DT4H-MedL107   | Tienilic acid                                                                                       | Tienilic acid                                                                                                                     |                    0 |                     0 |                     0 |                        500 |                           0 |                         242 |                   0     |                        0 |               0          |\n",
      "| 414 | DT4H-MedM1     | MINERALCORTICOID RECEPTOR ANTAGONIST (MRA)                                                          | MINERALCORTICOID RECEPTOR ANTAGONIST (MRA)                                                                                        |                    0 |                     0 |                     0 |                        500 |                           0 |                         242 |                   0     |                        0 |               0          |\n",
      "| 415 | DT4H-MedM1     | Mineralcorticoid Receptor Antagonist (MRA)                                                          | Substance with aldosterone receptor antagonist mechanism of action                                                                |                    0 |                     0 |                     0 |                        500 |                           0 |                         242 |                   0     |                        0 |               0          |\n",
      "| 416 | DT4H-MedM111   | Finerenone                                                                                          | Finerenone                                                                                                                        |                    0 |                     0 |                     0 |                        500 |                           0 |                         242 |                   0     |                        0 |               0          |\n",
      "| 417 | DT4H-MedM112   | Potassium canrenoate                                                                                | Potassium canrenoate                                                                                                              |                    0 |                     0 |                     0 |                        500 |                           0 |                         242 |                   0     |                        0 |               0          |\n",
      "| 418 | DT4H-MedM113   | Eplerenone                                                                                          | Eplerenone                                                                                                                        |                    0 |                     0 |                     0 |                        500 |                           0 |                         242 |                   0     |                        0 |               0          |\n",
      "| 419 | DT4H-MedM114   | Spironolactone                                                                                      | Spironolactone                                                                                                                    |                    0 |                     0 |                     0 |                        500 |                           0 |                         242 |                   0     |                        0 |               0          |\n",
      "| 420 | DT4H-MedM115   | Canrenone                                                                                           | Canrenone                                                                                                                         |                    0 |                     0 |                     0 |                        500 |                           0 |                         242 |                   0     |                        0 |               0          |\n",
      "| 421 | DT4H-MedP1     | Platelet inhibitor                                                                                  | Substance with platelet aggregation inhibitor mechanism of action                                                                 |                    0 |                     0 |                     0 |                        500 |                           0 |                         242 |                   0     |                        0 |               0          |\n",
      "| 422 | DT4H-MedP1     | SUBSTANCE WITH PLATELET AGGREGATION INHIBITOR MECHANISM OF ACTION                                   | SUBSTANCE WITH PLATELET AGGREGATION INHIBITOR MECHANISM OF ACTION                                                                 |                    0 |                     0 |                     0 |                        500 |                           0 |                         242 |                   0     |                        0 |               0          |\n",
      "| 423 | DT4H-MedP11    | Substance with glycoprotein-IIb/IIIa receptor antagonist mechanism of action                        | Substance with glycoprotein-IIb/IIIa receptor antagonist mechanism of action                                                      |                    0 |                     0 |                     0 |                        500 |                           0 |                         242 |                   0     |                        0 |               0          |\n",
      "| 424 | DT4H-MedP111   | Tirofiban hydrochloride                                                                             | Tirofiban hydrochloride                                                                                                           |                    0 |                     0 |                     0 |                        500 |                           0 |                         242 |                   0     |                        0 |               0          |\n",
      "| 425 | DT4H-MedP112   | Tirofiban hydrochloride anhydrous                                                                   | Tirofiban hydrochloride anhydrous                                                                                                 |                    0 |                     0 |                     0 |                        500 |                           0 |                         242 |                   0     |                        0 |               0          |\n",
      "| 426 | DT4H-MedP113   | Tirofiban hydrochloride monohydrate                                                                 | Tirofiban hydrochloride monohydrate                                                                                               |                    0 |                     0 |                     0 |                        500 |                           0 |                         242 |                   0     |                        0 |               0          |\n",
      "| 427 | DT4H-MedP114   | Eptifibatide                                                                                        | Eptifibatide                                                                                                                      |                    0 |                     0 |                     0 |                        500 |                           0 |                         242 |                   0     |                        0 |               0          |\n",
      "| 428 | DT4H-MedP115   | Tirofiban                                                                                           | Tirofiban                                                                                                                         |                    0 |                     0 |                     0 |                        500 |                           0 |                         242 |                   0     |                        0 |               0          |\n",
      "| 429 | DT4H-MedP116   | Abciximab                                                                                           | Abciximab                                                                                                                         |                    0 |                     0 |                     0 |                        500 |                           0 |                         242 |                   0     |                        0 |               0          |\n",
      "| 430 | DT4H-MedP121   | Prasugrel hydrobromide                                                                              | Prasugrel hydrobromide                                                                                                            |                    0 |                     0 |                     0 |                        500 |                           0 |                         242 |                   0     |                        0 |               0          |\n",
      "| 431 | DT4H-MedP122   | Cangrelor tetrasodium                                                                               | Cangrelor tetrasodium                                                                                                             |                    0 |                     0 |                     0 |                        500 |                           0 |                         242 |                   0     |                        0 |               0          |\n",
      "| 432 | DT4H-MedP123   | Prasugrel besylate                                                                                  | Prasugrel besylate                                                                                                                |                    0 |                     0 |                     0 |                        500 |                           0 |                         242 |                   0     |                        0 |               0          |\n",
      "| 433 | DT4H-MedP124   | Prasugrel hydrochloride                                                                             | Prasugrel hydrochloride                                                                                                           |                    0 |                     0 |                     0 |                        500 |                           0 |                         242 |                   0     |                        0 |               0          |\n",
      "| 434 | DT4H-MedP125   | Clopidogrel besylate                                                                                | Clopidogrel besylate                                                                                                              |                    0 |                     0 |                     0 |                        500 |                           0 |                         242 |                   0     |                        0 |               0          |\n",
      "| 435 | DT4H-MedP126   | Clopidogrel hydrochloride                                                                           | Clopidogrel hydrochloride                                                                                                         |                    0 |                     0 |                     0 |                        500 |                           0 |                         242 |                   0     |                        0 |               0          |\n",
      "| 436 | DT4H-MedP127   | Cangrelor                                                                                           | Cangrelor                                                                                                                         |                    0 |                     0 |                     0 |                        500 |                           0 |                         242 |                   0     |                        0 |               0          |\n",
      "| 437 | DT4H-MedP128   | Ticagrelor                                                                                          | Ticagrelor                                                                                                                        |                    0 |                     0 |                     0 |                        500 |                           0 |                         242 |                   0     |                        0 |               0          |\n",
      "| 438 | DT4H-MedP129   | Prasugrel                                                                                           | Prasugrel                                                                                                                         |                    0 |                     0 |                     0 |                        500 |                           0 |                         242 |                   0     |                        0 |               0          |\n",
      "| 439 | DT4H-MedP130   | Clopidogrel bisulfate                                                                               | Clopidogrel bisulfate                                                                                                             |                    0 |                     0 |                     0 |                        500 |                           0 |                         242 |                   0     |                        0 |               0          |\n",
      "| 440 | DT4H-MedP131   | Ticlopidine hydrochloride                                                                           | Ticlopidine hydrochloride                                                                                                         |                    0 |                     0 |                     0 |                        500 |                           0 |                         242 |                   0     |                        0 |               0          |\n",
      "| 441 | DT4H-MedP132   | Clopidogrel                                                                                         | Clopidogrel                                                                                                                       |                    0 |                     0 |                     0 |                        500 |                           0 |                         242 |                   0     |                        0 |               0          |\n",
      "| 442 | DT4H-MedP133   | Ticlopidine                                                                                         | Ticlopidine                                                                                                                       |                    0 |                     0 |                     0 |                        500 |                           0 |                         242 |                   0     |                        0 |               0          |\n",
      "| 443 | DT4H-MedP141   | substance with glycoprotein-IIb/IIIa receptor antagonist mechanism of action                        | substance with glycoprotein-IIb/IIIa receptor antagonist mechanism of action                                                      |                    0 |                     0 |                     0 |                        500 |                           0 |                         242 |                   0     |                        0 |               0          |\n",
      "| 444 | DT4H-MedP142   | substance with P2Y12 G-protein-coupled platelet receptor antagonist mechanism of action             | substance with P2Y12 G-protein-coupled platelet receptor antagonist mechanism of action                                           |                    0 |                     0 |                     0 |                        500 |                           0 |                         242 |                   0     |                        0 |               0          |\n",
      "| 445 | DT4H-MedP143   | caplacizumab                                                                                        | caplacizumab                                                                                                                      |                    0 |                     0 |                     0 |                        500 |                           0 |                         242 |                   0     |                        0 |               0          |\n",
      "| 446 | DT4H-MedP144   | aspirin DL-lysine                                                                                   | aspirin DL-lysine                                                                                                                 |                    0 |                     0 |                     0 |                        500 |                           0 |                         242 |                   0     |                        0 |               0          |\n",
      "| 447 | DT4H-MedP145   | selexipag                                                                                           | selexipag                                                                                                                         |                    0 |                     0 |                     0 |                        500 |                           0 |                         242 |                   0     |                        0 |               0          |\n",
      "| 448 | DT4H-MedP146   | indobufen                                                                                           | indobufen                                                                                                                         |                    0 |                     0 |                     0 |                        500 |                           0 |                         242 |                   0     |                        0 |               0          |\n",
      "| 449 | DT4H-MedP147   | vorapaxar                                                                                           | vorapaxar                                                                                                                         |                    0 |                     0 |                     0 |                        500 |                           0 |                         242 |                   0     |                        0 |               0          |\n",
      "| 450 | DT4H-MedP148   | triflusal                                                                                           | triflusal                                                                                                                         |                    0 |                     0 |                     0 |                        500 |                           0 |                         242 |                   0     |                        0 |               0          |\n",
      "| 451 | DT4H-MedP149   | treprostinil                                                                                        | treprostinil                                                                                                                      |                    0 |                     0 |                     0 |                        500 |                           0 |                         242 |                   0     |                        0 |               0          |\n",
      "| 452 | DT4H-MedP150   | buffered aspirin                                                                                    | buffered aspirin                                                                                                                  |                    0 |                     0 |                     0 |                        500 |                           0 |                         242 |                   0     |                        0 |               0          |\n",
      "| 453 | DT4H-MedP151   | aloxiprin                                                                                           | aloxiprin                                                                                                                         |                    0 |                     0 |                     0 |                        500 |                           0 |                         242 |                   0     |                        0 |               0          |\n",
      "| 454 | DT4H-MedP152   | tirofiban hydrochloride monohydrate                                                                 | tirofiban hydrochloride monohydrate                                                                                               |                    0 |                     0 |                     0 |                        500 |                           0 |                         242 |                   0     |                        0 |               0          |\n",
      "| 455 | DT4H-MedP153   | iloprost                                                                                            | iloprost                                                                                                                          |                    0 |                     0 |                     0 |                        500 |                           0 |                         242 |                   0     |                        0 |               0          |\n",
      "| 456 | DT4H-MedP154   | aspirin                                                                                             | aspirin                                                                                                                           |                    0 |                     0 |                     0 |                        500 |                           0 |                         242 |                   0     |                        0 |               0          |\n",
      "| 457 | DT4H-MedP155   | dipiridamol                                                                                         | dipiridamol                                                                                                                       |                    0 |                     0 |                     0 |                        500 |                           0 |                         242 |                   0     |                        0 |               0          |\n",
      "| 458 | DT4H-MedP156   | treprostinil sodium                                                                                 | treprostinil sodium                                                                                                               |                    0 |                     0 |                     0 |                        500 |                           0 |                         242 |                   0     |                        0 |               0          |\n",
      "| 459 | DT4H-MedP157   | milrinone                                                                                           | milrinone                                                                                                                         |                    0 |                     0 |                     0 |                        500 |                           0 |                         242 |                   0     |                        0 |               0          |\n",
      "| 460 | DT4H-MedP158   | epoprostenol                                                                                        | epoprostenol                                                                                                                      |                    0 |                     0 |                     0 |                        500 |                           0 |                         242 |                   0     |                        0 |               0          |\n",
      "| 461 | DT4H-MedP159   | cilostazol                                                                                          | cilostazol                                                                                                                        |                    0 |                     0 |                     0 |                        500 |                           0 |                         242 |                   0     |                        0 |               0          |\n",
      "| 462 | DT4H-MedP160   | calcium carbaspirin                                                                                 | calcium carbaspirin                                                                                                               |                    0 |                     0 |                     0 |                        500 |                           0 |                         242 |                   0     |                        0 |               0          |\n",
      "| 463 | DT4H-MedP161   | epoprostenol sodium                                                                                 | epoprostenol sodium                                                                                                               |                    0 |                     0 |                     0 |                        500 |                           0 |                         242 |                   0     |                        0 |               0          |\n",
      "| 464 | DT4H-MedP162   | milrinone lactate                                                                                   | milrinone lactate                                                                                                                 |                    0 |                     0 |                     0 |                        500 |                           0 |                         242 |                   0     |                        0 |               0          |\n",
      "| 465 | DT4H-MedP163   | resveratrol                                                                                         | resveratrol                                                                                                                       |                    0 |                     0 |                     0 |                        500 |                           0 |                         242 |                   0     |                        0 |               0          |\n",
      "| 466 | DT4H-MedP164   | aluminium aspirin                                                                                   | aluminium aspirin                                                                                                                 |                    0 |                     0 |                     0 |                        500 |                           0 |                         242 |                   0     |                        0 |               0          |\n",
      "| 467 | DT4H-MedR1     | RAS-INHIBITORS                                                                                      | RAS-INHIBITORS                                                                                                                    |                    0 |                     0 |                     0 |                        500 |                           0 |                         242 |                   0     |                        0 |               0          |\n",
      "| 468 | DT4H-MedR1     | RAS-inhibitors                                                                                      | Substance with renin-angiotensin system inhibitor mechanism of action                                                             |                    0 |                     0 |                     0 |                        500 |                           0 |                         242 |                   0     |                        0 |               0          |\n",
      "| 469 | DT4H-MedR11    | Substance with angiotensin II receptor antagonist mechanism of action                               | Substance with angiotensin II receptor antagonist mechanism of action                                                             |                    0 |                     0 |                     0 |                        500 |                           0 |                         242 |                   0     |                        0 |               0          |\n",
      "| 470 | DT4H-MedR111   | Fimasartan potassium trihydrate                                                                     | Fimasartan potassium trihydrate                                                                                                   |                    0 |                     0 |                     0 |                        500 |                           0 |                         242 |                   0     |                        0 |               0          |\n",
      "| 471 | DT4H-MedR112   | Fimasartan                                                                                          | Fimasartan                                                                                                                        |                    0 |                     0 |                     0 |                        500 |                           0 |                         242 |                   0     |                        0 |               0          |\n",
      "| 472 | DT4H-MedR113   | Azilsartan medoxomil potassium                                                                      | Azilsartan medoxomil potassium                                                                                                    |                    0 |                     0 |                     0 |                        500 |                           0 |                         242 |                   0     |                        0 |               0          |\n",
      "| 473 | DT4H-MedR114   | Irbesartan hydrochloride                                                                            | Irbesartan hydrochloride                                                                                                          |                    0 |                     0 |                     0 |                        500 |                           0 |                         242 |                   0     |                        0 |               0          |\n",
      "| 474 | DT4H-MedR115   | Azilsartan medoxomil                                                                                | Azilsartan medoxomil                                                                                                              |                    0 |                     0 |                     0 |                        500 |                           0 |                         242 |                   0     |                        0 |               0          |\n",
      "| 475 | DT4H-MedR116   | Azilsartan                                                                                          | Azilsartan                                                                                                                        |                    0 |                     0 |                     0 |                        500 |                           0 |                         242 |                   0     |                        0 |               0          |\n",
      "| 476 | DT4H-MedR117   | Olmesartan medoxomil                                                                                | Olmesartan medoxomil                                                                                                              |                    0 |                     0 |                     0 |                        500 |                           0 |                         242 |                   0     |                        0 |               0          |\n",
      "| 477 | DT4H-MedR118   | Olmesartan                                                                                          | Olmesartan                                                                                                                        |                    0 |                     0 |                     0 |                        500 |                           0 |                         242 |                   0     |                        0 |               0          |\n",
      "| 478 | DT4H-MedR119   | Eprosartan                                                                                          | Eprosartan                                                                                                                        |                    0 |                     0 |                     0 |                        500 |                           0 |                         242 |                   0     |                        0 |               0          |\n",
      "| 479 | DT4H-MedR120   | Telmisartan                                                                                         | Telmisartan                                                                                                                       |                    0 |                     0 |                     0 |                        500 |                           0 |                         242 |                   0     |                        0 |               0          |\n",
      "| 480 | DT4H-MedR121   | Candesartan cilexetil                                                                               | Candesartan cilexetil                                                                                                             |                    0 |                     0 |                     0 |                        500 |                           0 |                         242 |                   0     |                        0 |               0          |\n",
      "| 481 | DT4H-MedR122   | Irbesartan                                                                                          | Irbesartan                                                                                                                        |                    0 |                     0 |                     0 |                        500 |                           0 |                         242 |                   0     |                        0 |               0          |\n",
      "| 482 | DT4H-MedR123   | Valsartan                                                                                           | Valsartan                                                                                                                         |                    0 |                     0 |                     0 |                        500 |                           0 |                         242 |                   0     |                        0 |               0          |\n",
      "| 483 | DT4H-MedR124   | Losartan                                                                                            | Losartan                                                                                                                          |                    0 |                     0 |                     0 |                        500 |                           0 |                         242 |                   0     |                        0 |               0          |\n",
      "| 484 | DT4H-MedR125   | Candesartan                                                                                         | Candesartan                                                                                                                       |                    0 |                     0 |                     0 |                        500 |                           0 |                         242 |                   0     |                        0 |               0          |\n",
      "| 485 | DT4H-MedR126   | Eprosartan mesilate                                                                                 | Eprosartan mesilate                                                                                                               |                    0 |                     0 |                     0 |                        500 |                           0 |                         242 |                   0     |                        0 |               0          |\n",
      "| 486 | DT4H-MedR127   | Losartan potassium                                                                                  | Losartan potassium                                                                                                                |                    0 |                     0 |                     0 |                        500 |                           0 |                         242 |                   0     |                        0 |               0          |\n",
      "| 487 | DT4H-MedR13    | Substance with angiotensin-converting                                                               | Substance with angiotensin-converting                                                                                             |                    0 |                     0 |                     0 |                        500 |                           0 |                         242 |                   0     |                        0 |               0          |\n",
      "|     |                | enzyme inhibitor mechanism of action                                                                | enzyme inhibitor mechanism of action                                                                                              |                      |                       |                       |                            |                             |                             |                         |                          |                          |\n",
      "| 488 | DT4H-MedR131   | Lisinopril dihydrate                                                                                | Lisinopril dihydrate                                                                                                              |                    0 |                     0 |                     0 |                        500 |                           0 |                         242 |                   0     |                        0 |               0          |\n",
      "| 489 | DT4H-MedR132   | Lisinopril anhydrous                                                                                | Lisinopril anhydrous                                                                                                              |                    0 |                     0 |                     0 |                        500 |                           0 |                         242 |                   0     |                        0 |               0          |\n",
      "| 490 | DT4H-MedR133   | Cilazapril anhydrous                                                                                | Cilazapril anhydrous                                                                                                              |                    0 |                     0 |                     0 |                        500 |                           0 |                         242 |                   0     |                        0 |               0          |\n",
      "| 491 | DT4H-MedR134   | Perindopril erbumine monohydrate                                                                    | Perindopril erbumine monohydrate                                                                                                  |                    0 |                     0 |                     0 |                        500 |                           0 |                         242 |                   0     |                        0 |               0          |\n",
      "| 492 | DT4H-MedR135   | Enalapril sodium                                                                                    | Enalapril sodium                                                                                                                  |                    0 |                     0 |                     0 |                        500 |                           0 |                         242 |                   0     |                        0 |               0          |\n",
      "| 493 | DT4H-MedR136   | Perindopril tosylate                                                                                | Perindopril tosylate                                                                                                              |                    0 |                     0 |                     0 |                        500 |                           0 |                         242 |                   0     |                        0 |               0          |\n",
      "| 494 | DT4H-MedR137   | Cilazapril monohydrate                                                                              | Cilazapril monohydrate                                                                                                            |                    0 |                     0 |                     0 |                        500 |                           0 |                         242 |                   0     |                        0 |               0          |\n",
      "| 495 | DT4H-MedR138   | Spirapril                                                                                           | Spirapril                                                                                                                         |                    0 |                     0 |                     0 |                        500 |                           0 |                         242 |                   0     |                        0 |               0          |\n",
      "| 496 | DT4H-MedR139   | Zofenoprilat arginine                                                                               | Zofenoprilat arginine                                                                                                             |                    0 |                     0 |                     0 |                        500 |                           0 |                         242 |                   0     |                        0 |               0          |\n",
      "| 497 | DT4H-MedR140   | Zofenoprilat                                                                                        | Zofenoprilat                                                                                                                      |                    0 |                     0 |                     0 |                        500 |                           0 |                         242 |                   0     |                        0 |               0          |\n",
      "| 498 | DT4H-MedR141   | Zofenopril calcium                                                                                  | Zofenopril calcium                                                                                                                |                    0 |                     0 |                     0 |                        500 |                           0 |                         242 |                   0     |                        0 |               0          |\n",
      "| 499 | DT4H-MedR142   | Zofenopril                                                                                          | Zofenopril                                                                                                                        |                    0 |                     0 |                     0 |                        500 |                           0 |                         242 |                   0     |                        0 |               0          |\n",
      "| 500 | DT4H-MedR143   | Delapril hydrochloride                                                                              | Delapril hydrochloride                                                                                                            |                    0 |                     0 |                     0 |                        500 |                           0 |                         242 |                   0     |                        0 |               0          |\n",
      "| 501 | DT4H-MedR144   | Delapril                                                                                            | Delapril                                                                                                                          |                    0 |                     0 |                     0 |                        500 |                           0 |                         242 |                   0     |                        0 |               0          |\n",
      "| 502 | DT4H-MedR145   | Perindopril arginine                                                                                | Perindopril arginine                                                                                                              |                    0 |                     0 |                     0 |                        500 |                           0 |                         242 |                   0     |                        0 |               0          |\n",
      "| 503 | DT4H-MedR146   | Imidapril                                                                                           | Imidapril                                                                                                                         |                    0 |                     0 |                     0 |                        500 |                           0 |                         242 |                   0     |                        0 |               0          |\n",
      "| 504 | DT4H-MedR147   | Cilazapril                                                                                          | Cilazapril                                                                                                                        |                    0 |                     0 |                     0 |                        500 |                           0 |                         242 |                   0     |                        0 |               0          |\n",
      "| 505 | DT4H-MedR148   | Imidapril hydrochloride                                                                             | Imidapril hydrochloride                                                                                                           |                    0 |                     0 |                     0 |                        500 |                           0 |                         242 |                   0     |                        0 |               0          |\n",
      "| 506 | DT4H-MedR149   | Enalapril maleate                                                                                   | Enalapril maleate                                                                                                                 |                    0 |                     0 |                     0 |                        500 |                           0 |                         242 |                   0     |                        0 |               0          |\n",
      "| 507 | DT4H-MedR150   | Captopril                                                                                           | Captopril                                                                                                                         |                    0 |                     0 |                     0 |                        500 |                           0 |                         242 |                   0     |                        0 |               0          |\n",
      "| 508 | DT4H-MedR151   | Quinapril hydrochloride                                                                             | Quinapril hydrochloride                                                                                                           |                    0 |                     0 |                     0 |                        500 |                           0 |                         242 |                   0     |                        0 |               0          |\n",
      "| 509 | DT4H-MedR152   | Quinapril                                                                                           | Quinapril                                                                                                                         |                    0 |                     0 |                     0 |                        500 |                           0 |                         242 |                   0     |                        0 |               0          |\n",
      "| 510 | DT4H-MedR153   | Lisinopril                                                                                          | Lisinopril                                                                                                                        |                    0 |                     0 |                     0 |                        500 |                           0 |                         242 |                   0     |                        0 |               0          |\n",
      "| 511 | DT4H-MedR154   | Ramipril                                                                                            | Ramipril                                                                                                                          |                    0 |                     0 |                     0 |                        500 |                           0 |                         242 |                   0     |                        0 |               0          |\n",
      "| 512 | DT4H-MedR155   | Trandolapril                                                                                        | Trandolapril                                                                                                                      |                    0 |                     0 |                     0 |                        500 |                           0 |                         242 |                   0     |                        0 |               0          |\n",
      "| 513 | DT4H-MedR156   | Moexipril                                                                                           | Moexipril                                                                                                                         |                    0 |                     0 |                     0 |                        500 |                           0 |                         242 |                   0     |                        0 |               0          |\n",
      "| 514 | DT4H-MedR157   | Perindopril                                                                                         | Perindopril                                                                                                                       |                    0 |                     0 |                     0 |                        500 |                           0 |                         242 |                   0     |                        0 |               0          |\n",
      "| 515 | DT4H-MedR158   | Enalapril                                                                                           | Enalapril                                                                                                                         |                    0 |                     0 |                     0 |                        500 |                           0 |                         242 |                   0     |                        0 |               0          |\n",
      "| 516 | DT4H-MedR159   | Benazepril                                                                                          | Benazepril                                                                                                                        |                    0 |                     0 |                     0 |                        500 |                           0 |                         242 |                   0     |                        0 |               0          |\n",
      "| 517 | DT4H-MedR160   | Fosinopril                                                                                          | Fosinopril                                                                                                                        |                    0 |                     0 |                     0 |                        500 |                           0 |                         242 |                   0     |                        0 |               0          |\n",
      "| 518 | DT4H-MedR161   | Perindopril erbumine                                                                                | Perindopril erbumine                                                                                                              |                    0 |                     0 |                     0 |                        500 |                           0 |                         242 |                   0     |                        0 |               0          |\n",
      "| 519 | DT4H-MedR162   | Benazepril hydrochloride                                                                            | Benazepril hydrochloride                                                                                                          |                    0 |                     0 |                     0 |                        500 |                           0 |                         242 |                   0     |                        0 |               0          |\n",
      "| 520 | DT4H-MedR163   | Fosinopril sodium                                                                                   | Fosinopril sodium                                                                                                                 |                    0 |                     0 |                     0 |                        500 |                           0 |                         242 |                   0     |                        0 |               0          |\n",
      "| 521 | DT4H-MedR164   | Moexipril hydrochloride                                                                             | Moexipril hydrochloride                                                                                                           |                    0 |                     0 |                     0 |                        500 |                           0 |                         242 |                   0     |                        0 |               0          |\n",
      "| 522 | DT4H-MedR165   | Enalaprilat                                                                                         | Enalaprilat                                                                                                                       |                    0 |                     0 |                     0 |                        500 |                           0 |                         242 |                   0     |                        0 |               0          |\n",
      "| 523 | DT4H-MedRHY1   | ANTIARRYTHMICS                                                                                      | ANTIARRYTHMICS                                                                                                                    |                    0 |                     0 |                     0 |                        500 |                           0 |                         242 |                   0     |                        0 |               0          |\n",
      "| 524 | DT4H-MedRHY1   | Class 1 and 3 antiarrhytmic drugs                                                                   | Substance with sodium channel blocker mechanism of action +415152007 Substance with potassium channel blocker mechanism of action |                    0 |                     0 |                     0 |                        500 |                           0 |                         242 |                   0     |                        0 |               0          |\n",
      "| 525 | DT4H-MedRHY11  | Substance with sodium channel blocker mechanism of action                                           | Substance with sodium channel blocker mechanism of action                                                                         |                    0 |                     0 |                     0 |                        500 |                           0 |                         242 |                   0     |                        0 |               0          |\n",
      "| 526 | DT4H-MedRHY111 | Phenytoin calcium                                                                                   | Phenytoin calcium                                                                                                                 |                    0 |                     0 |                     0 |                        500 |                           0 |                         242 |                   0     |                        0 |               0          |\n",
      "| 527 | DT4H-MedRHY112 | Lidocaine hydrochloride anhydrous                                                                   | Lidocaine hydrochloride anhydrous                                                                                                 |                    0 |                     0 |                     0 |                        500 |                           0 |                         242 |                   0     |                        0 |               0          |\n",
      "| 528 | DT4H-MedRHY113 | Amiloride hydrochloride anhydrous                                                                   | Amiloride hydrochloride anhydrous                                                                                                 |                    0 |                     0 |                     0 |                        500 |                           0 |                         242 |                   0     |                        0 |               0          |\n",
      "| 529 | DT4H-MedRHY114 | Lidocaine hydrochloride monohydrate                                                                 | Lidocaine hydrochloride monohydrate                                                                                               |                    0 |                     0 |                     0 |                        500 |                           0 |                         242 |                   0     |                        0 |               0          |\n",
      "| 530 | DT4H-MedRHY115 | Lidocaine hydrocarbonate                                                                            | Lidocaine hydrocarbonate                                                                                                          |                    0 |                     0 |                     0 |                        500 |                           0 |                         242 |                   0     |                        0 |               0          |\n",
      "| 531 | DT4H-MedRHY116 | Free phenytoin                                                                                      | Free phenytoin                                                                                                                    |                    0 |                     0 |                     0 |                        500 |                           0 |                         242 |                   0     |                        0 |               0          |\n",
      "| 532 | DT4H-MedRHY117 | Ranolazine                                                                                          | Ranolazine                                                                                                                        |                    0 |                     0 |                     0 |                        500 |                           0 |                         242 |                   0     |                        0 |               0          |\n",
      "| 533 | DT4H-MedRHY118 | Amiloride hydrochloride dihydrate                                                                   | Amiloride hydrochloride dihydrate                                                                                                 |                    0 |                     0 |                     0 |                        500 |                           0 |                         242 |                   0     |                        0 |               0          |\n",
      "| 534 | DT4H-MedRHY119 | Lamotrigine                                                                                         | Lamotrigine                                                                                                                       |                    0 |                     0 |                     0 |                        500 |                           0 |                         242 |                   0     |                        0 |               0          |\n",
      "| 535 | DT4H-MedRHY120 | Amiloride hydrochloride                                                                             | Amiloride hydrochloride                                                                                                           |                    0 |                     0 |                     0 |                        500 |                           0 |                         242 |                   0     |                        0 |               0          |\n",
      "| 536 | DT4H-MedRHY121 | Amiloride                                                                                           | Amiloride                                                                                                                         |                    0 |                     0 |                     0 |                        500 |                           0 |                         242 |                   0     |                        0 |               0          |\n",
      "| 537 | DT4H-MedRHY122 | Lidocaine                                                                                           | Lidocaine                                                                                                                         |                    0 |                     0 |                     0 |                        500 |                           0 |                         242 |                   0     |                        0 |               0          |\n",
      "| 538 | DT4H-MedRHY123 | Phenytoin sodium                                                                                    | Phenytoin sodium                                                                                                                  |                    0 |                     0 |                     0 |                        500 |                           0 |                         242 |                   0     |                        0 |               0          |\n",
      "| 539 | DT4H-MedRHY124 | Phenytoin                                                                                           | Phenytoin                                                                                                                         |                    0 |                     0 |                     0 |                        500 |                           0 |                         242 |                   0     |                        0 |               0          |\n",
      "| 540 | DT4H-MedRHY125 | Triamterene                                                                                         | Triamterene                                                                                                                       |                    0 |                     0 |                     0 |                        500 |                           0 |                         242 |                   0     |                        0 |               0          |\n",
      "| 541 | DT4H-MedRHY126 | Oxcarbazepine                                                                                       | Oxcarbazepine                                                                                                                     |                    0 |                     0 |                     0 |                        500 |                           0 |                         242 |                   0     |                        0 |               0          |\n",
      "| 542 | DT4H-MedRHY127 | Topiramate                                                                                          | Topiramate                                                                                                                        |                    0 |                     0 |                     0 |                        500 |                           0 |                         242 |                   0     |                        0 |               0          |\n",
      "| 543 | DT4H-MedRHY128 | Moracizine                                                                                          | Moracizine                                                                                                                        |                    0 |                     0 |                     0 |                        500 |                           0 |                         242 |                   0     |                        0 |               0          |\n",
      "| 544 | DT4H-MedRHY129 | Mexiletine                                                                                          | Mexiletine                                                                                                                        |                    0 |                     0 |                     0 |                        500 |                           0 |                         242 |                   0     |                        0 |               0          |\n",
      "| 545 | DT4H-MedRHY130 | Disopyramide                                                                                        | Disopyramide                                                                                                                      |                    0 |                     0 |                     0 |                        500 |                           0 |                         242 |                   0     |                        0 |               0          |\n",
      "| 546 | DT4H-MedRHY131 | Encainide                                                                                           | Encainide                                                                                                                         |                    0 |                     0 |                     0 |                        500 |                           0 |                         242 |                   0     |                        0 |               0          |\n",
      "| 547 | DT4H-MedRHY132 | Tocainide                                                                                           | Tocainide                                                                                                                         |                    0 |                     0 |                     0 |                        500 |                           0 |                         242 |                   0     |                        0 |               0          |\n",
      "| 548 | DT4H-MedRHY133 | Mexiletine hydrochloride                                                                            | Mexiletine hydrochloride                                                                                                          |                    0 |                     0 |                     0 |                        500 |                           0 |                         242 |                   0     |                        0 |               0          |\n",
      "| 549 | DT4H-MedRHY134 | Moracizine hydrochloride                                                                            | Moracizine hydrochloride                                                                                                          |                    0 |                     0 |                     0 |                        500 |                           0 |                         242 |                   0     |                        0 |               0          |\n",
      "| 550 | DT4H-MedRHY135 | Encainide hydrochloride                                                                             | Encainide hydrochloride                                                                                                           |                    0 |                     0 |                     0 |                        500 |                           0 |                         242 |                   0     |                        0 |               0          |\n",
      "| 551 | DT4H-MedRHY136 | Lidocaine hydrochloride                                                                             | Lidocaine hydrochloride                                                                                                           |                    0 |                     0 |                     0 |                        500 |                           0 |                         242 |                   0     |                        0 |               0          |\n",
      "| 552 | DT4H-MedRHY137 | Disopyramide phosphate                                                                              | Disopyramide phosphate                                                                                                            |                    0 |                     0 |                     0 |                        500 |                           0 |                         242 |                   0     |                        0 |               0          |\n",
      "| 553 | DT4H-MedRHY138 | Tocainide hydrochloride                                                                             | Tocainide hydrochloride                                                                                                           |                    0 |                     0 |                     0 |                        500 |                           0 |                         242 |                   0     |                        0 |               0          |\n",
      "| 554 | DT4H-MedRHY15  | Substance with potassium channel blocker mechanism of action                                        | Substance with potassium channel blocker mechanism of action                                                                      |                    0 |                     0 |                     0 |                        500 |                           0 |                         242 |                   0     |                        0 |               0          |\n",
      "| 555 | DT4H-MedRHY151 | Amifampridine                                                                                       | Amifampridine                                                                                                                     |                    0 |                     0 |                     0 |                        500 |                           0 |                         242 |                   0     |                        0 |               0          |\n",
      "| 556 | DT4H-MedRHY152 | Dofetilide                                                                                          | Dofetilide                                                                                                                        |                    0 |                     0 |                     0 |                        500 |                           0 |                         242 |                   0     |                        0 |               0          |\n",
      "| 557 | DT4H-MedRHY153 | Dalfampridine                                                                                       | Dalfampridine                                                                                                                     |                    0 |                     0 |                     0 |                        500 |                           0 |                         242 |                   0     |                        0 |               0          |\n",
      "| 558 | DT4H-MedS1     | STATINS                                                                                             | STATINS                                                                                                                           |                    0 |                     0 |                     0 |                        500 |                           0 |                         242 |                   0     |                        0 |               0          |\n",
      "| 559 | DT4H-MedS1     | Statins                                                                                             | Substance with 3-hydroxy-3-methylglutaryl-coenzyme A reductase inhibitor mechanism of action                                      |                    0 |                     0 |                     0 |                        500 |                           0 |                         242 |                   0     |                        0 |               0          |\n",
      "| 560 | DT4H-MedS111   | Atorvastatin calcium anhydrous                                                                      | Atorvastatin calcium anhydrous                                                                                                    |                    0 |                     0 |                     0 |                        500 |                           0 |                         242 |                   0     |                        0 |               0          |\n",
      "| 561 | DT4H-MedS112   | Rosuvastatin zinc                                                                                   | Rosuvastatin zinc                                                                                                                 |                    0 |                     0 |                     0 |                        500 |                           0 |                         242 |                   0     |                        0 |               0          |\n",
      "| 562 | DT4H-MedS113   | Atorvastatin calcium trihydrate                                                                     | Atorvastatin calcium trihydrate                                                                                                   |                    0 |                     0 |                     0 |                        500 |                           0 |                         242 |                   0     |                        0 |               0          |\n",
      "| 563 | DT4H-MedS114   | Pitavastatin calcium                                                                                | Pitavastatin calcium                                                                                                              |                    0 |                     0 |                     0 |                        500 |                           0 |                         242 |                   0     |                        0 |               0          |\n",
      "| 564 | DT4H-MedS115   | Rosuvastatin                                                                                        | Rosuvastatin                                                                                                                      |                    0 |                     0 |                     0 |                        500 |                           0 |                         242 |                   0     |                        0 |               0          |\n",
      "| 565 | DT4H-MedS116   | Pitavastatin                                                                                        | Pitavastatin                                                                                                                      |                    0 |                     0 |                     0 |                        500 |                           0 |                         242 |                   0     |                        0 |               0          |\n",
      "| 566 | DT4H-MedS117   | Fluvastatin sodium                                                                                  | Fluvastatin sodium                                                                                                                |                    0 |                     0 |                     0 |                        500 |                           0 |                         242 |                   0     |                        0 |               0          |\n",
      "| 567 | DT4H-MedS118   | Rosuvastatin calcium                                                                                | Rosuvastatin calcium                                                                                                              |                    0 |                     0 |                     0 |                        500 |                           0 |                         242 |                   0     |                        0 |               0          |\n",
      "| 568 | DT4H-MedS119   | Fluvastatin                                                                                         | Fluvastatin                                                                                                                       |                    0 |                     0 |                     0 |                        500 |                           0 |                         242 |                   0     |                        0 |               0          |\n",
      "| 569 | DT4H-MedS120   | Simvastatin                                                                                         | Simvastatin                                                                                                                       |                    0 |                     0 |                     0 |                        500 |                           0 |                         242 |                   0     |                        0 |               0          |\n",
      "| 570 | DT4H-MedS121   | Pravastatin                                                                                         | Pravastatin                                                                                                                       |                    0 |                     0 |                     0 |                        500 |                           0 |                         242 |                   0     |                        0 |               0          |\n",
      "| 571 | DT4H-MedS122   | Atorvastatin                                                                                        | Atorvastatin                                                                                                                      |                    0 |                     0 |                     0 |                        500 |                           0 |                         242 |                   0     |                        0 |               0          |\n",
      "| 572 | DT4H-MedS123   | Cerivastatin                                                                                        | Cerivastatin                                                                                                                      |                    0 |                     0 |                     0 |                        500 |                           0 |                         242 |                   0     |                        0 |               0          |\n",
      "| 573 | DT4H-MedS124   | Atorvastatin calcium                                                                                | Atorvastatin calcium                                                                                                              |                    0 |                     0 |                     0 |                        500 |                           0 |                         242 |                   0     |                        0 |               0          |\n",
      "| 574 | DT4H-MedS125   | Cerivastatin sodium                                                                                 | Cerivastatin sodium                                                                                                               |                    0 |                     0 |                     0 |                        500 |                           0 |                         242 |                   0     |                        0 |               0          |\n",
      "| 575 | DT4H-MedS126   | Pravastatin sodium                                                                                  | Pravastatin sodium                                                                                                                |                    0 |                     0 |                     0 |                        500 |                           0 |                         242 |                   0     |                        0 |               0          |\n",
      "| 576 | DT4H-MedS127   | Lovastatin                                                                                          | Lovastatin                                                                                                                        |                    0 |                     0 |                     0 |                        500 |                           0 |                         242 |                   0     |                        0 |               0          |\n",
      "| 577 | DT4H-MedSG1    | SGLT-2 Inhibitor                                                                                    | Substance with sodium glucose cotransporter subtype 2 inhibitor mechanism of action                                               |                    0 |                     0 |                     0 |                        500 |                           0 |                         242 |                   0     |                        0 |               0          |\n",
      "| 578 | DT4H-MedSG1    | SUBSTANCE WITH SODIUM GLUCOSE COTRANSPORTER SUBTYPE 2 INHIBITOR MECHANISM OF ACTION                 | SUBSTANCE WITH SODIUM GLUCOSE COTRANSPORTER SUBTYPE 2 INHIBITOR MECHANISM OF ACTION                                               |                    0 |                     0 |                     0 |                        500 |                           0 |                         242 |                   0     |                        0 |               0          |\n",
      "| 579 | DT4H-MedSG111  | Dapagliflozin propanediol anhydrous                                                                 | Dapagliflozin propanediol anhydrous                                                                                               |                    0 |                     0 |                     0 |                        500 |                           0 |                         242 |                   0     |                        0 |               0          |\n",
      "| 580 | DT4H-MedSG112  | Canagliflozin anhydrous                                                                             | Canagliflozin anhydrous                                                                                                           |                    0 |                     0 |                     0 |                        500 |                           0 |                         242 |                   0     |                        0 |               0          |\n",
      "| 581 | DT4H-MedSG113  | Remogliflozin etabonate                                                                             | Remogliflozin etabonate                                                                                                           |                    0 |                     0 |                     0 |                        500 |                           0 |                         242 |                   0     |                        0 |               0          |\n",
      "| 582 | DT4H-MedSG114  | Ertugliflozin pidolate                                                                              | Ertugliflozin pidolate                                                                                                            |                    0 |                     0 |                     0 |                        500 |                           0 |                         242 |                   0     |                        0 |               0          |\n",
      "| 583 | DT4H-MedSG115  | Dapagliflozin propanediol monohydrate                                                               | Dapagliflozin propanediol monohydrate                                                                                             |                    0 |                     0 |                     0 |                        500 |                           0 |                         242 |                   0     |                        0 |               0          |\n",
      "| 584 | DT4H-MedSG116  | Ertugliflozin                                                                                       | Ertugliflozin                                                                                                                     |                    0 |                     0 |                     0 |                        500 |                           0 |                         242 |                   0     |                        0 |               0          |\n",
      "| 585 | DT4H-MedSG117  | Canagliflozin hemihydrate                                                                           | Canagliflozin hemihydrate                                                                                                         |                    0 |                     0 |                     0 |                        500 |                           0 |                         242 |                   0     |                        0 |               0          |\n",
      "| 586 | DT4H-MedSG118  | Empagliflozin                                                                                       | Empagliflozin                                                                                                                     |                    0 |                     0 |                     0 |                        500 |                           0 |                         242 |                   0     |                        0 |               0          |\n",
      "| 587 | DT4H-MedSG119  | Canagliflozin                                                                                       | Canagliflozin                                                                                                                     |                    0 |                     0 |                     0 |                        500 |                           0 |                         242 |                   0     |                        0 |               0          |\n",
      "| 588 | DT4H-MedSG120  | Dapagliflozin propanediol                                                                           | Dapagliflozin propanediol                                                                                                         |                    0 |                     0 |                     0 |                        500 |                           0 |                         242 |                   0     |                        0 |               0          |\n",
      "| 589 | DT4H-MedSG121  | Dapagliflozin                                                                                       | Dapagliflozin                                                                                                                     |                    0 |                     0 |                     0 |                        500 |                           0 |                         242 |                   0     |                        0 |               0          |\n",
      "| 590 | DT4H-MedV1     | Vasodilators used in heart dis.                                                                     | Vasodilator                                                                                                                       |                    0 |                     0 |                     0 |                        500 |                           0 |                         242 |                   0     |                        0 |               0          |\n",
      "| 591 | DT4H-MedV11    | Nitrate-based vasodilating agent                                                                    | Nitrate-based vasodilating agent                                                                                                  |                    0 |                     0 |                     0 |                        500 |                           0 |                         242 |                   0     |                        0 |               0          |\n",
      "| 592 | DT4H-MedV111   | 1,2-dinitroglycerin                                                                                 | 1,2-dinitroglycerin                                                                                                               |                    0 |                     0 |                     0 |                        500 |                           0 |                         242 |                   0     |                        0 |               0          |\n",
      "| 593 | DT4H-MedV112   | Nitroglycerin                                                                                       | Nitroglycerin                                                                                                                     |                    0 |                     0 |                     0 |                        500 |                           0 |                         242 |                   0     |                        0 |               0          |\n",
      "| 594 | DT4H-MedV113   | Isosorbide dinitrate                                                                                | Isosorbide dinitrate                                                                                                              |                    0 |                     0 |                     0 |                        500 |                           0 |                         242 |                   0     |                        0 |               0          |\n",
      "| 595 | DT4H-MedV114   | Amyl nitrite                                                                                        | Amyl nitrite                                                                                                                      |                    0 |                     0 |                     0 |                        500 |                           0 |                         242 |                   0     |                        0 |               0          |\n",
      "| 596 | DT4H-MedV115   | Isosorbide mononitrate                                                                              | Isosorbide mononitrate                                                                                                            |                    0 |                     0 |                     0 |                        500 |                           0 |                         242 |                   0     |                        0 |               0          |\n",
      "| 597 | DT4H-MedV116   | Pentaerythritol tetranitrate                                                                        | Pentaerythritol tetranitrate                                                                                                      |                    0 |                     0 |                     0 |                        500 |                           0 |                         242 |                   0     |                        0 |               0          |\n",
      "| 598 | DT4H-MedV117   | Erythrityl tetranitrate                                                                             | Erythrityl tetranitrate                                                                                                           |                    0 |                     0 |                     0 |                        500 |                           0 |                         242 |                   0     |                        0 |               0          |\n",
      "| 599 | DT4H-MedV118   | Amyl nitrate                                                                                        | Amyl nitrate                                                                                                                      |                    0 |                     0 |                     0 |                        500 |                           0 |                         242 |                   0     |                        0 |               0          |\n",
      "| 600 | DT4H-MedV119   | Inositol hexanitrate                                                                                | Inositol hexanitrate                                                                                                              |                    0 |                     0 |                     0 |                        500 |                           0 |                         242 |                   0     |                        0 |               0          |\n",
      "| 601 | DT4H-MedV131   | flosequinan                                                                                         | flosequinan                                                                                                                       |                    0 |                     0 |                     0 |                        500 |                           0 |                         242 |                   0     |                        0 |               0          |\n",
      "| 602 | DT4H-MedV136   | hexobendine                                                                                         | hexobendine                                                                                                                       |                    0 |                     0 |                     0 |                        500 |                           0 |                         242 |                   0     |                        0 |               0          |\n",
      "| 603 | DT4H-MedV138   | heptaminol                                                                                          | heptaminol                                                                                                                        |                    0 |                     0 |                     0 |                        500 |                           0 |                         242 |                   0     |                        0 |               0          |\n",
      "| 604 | DT4H-Proc1     | PCI (Percutaneous coronary intervention)                                                            | Percutaneous coronary intervention                                                                                                |                    0 |                     0 |                     0 |                        500 |                           0 |                         242 |                   0     |                        0 |               0          |\n",
      "| 605 | DT4H-Proc2     | Cardiovascular implant                                                                              | Cardiovascular implant                                                                                                            |                    0 |                     0 |                     0 |                        500 |                           0 |                         242 |                   0     |                        0 |               0          |\n",
      "| 606 | DT4H-Proc3     | Vascular implant                                                                                    | Vascular implant                                                                                                                  |                    0 |                     0 |                     0 |                        500 |                           0 |                         242 |                   0     |                        0 |               0          |\n",
      "| 607 | DT4H-Proc4     | Transplant heart                                                                                    | Transplant heart                                                                                                                  |                    0 |                     0 |                     0 |                        500 |                           0 |                         242 |                   0     |                        0 |               0          |\n",
      "| 608 | DT4H-SM1       | Smoker                                                                                              | Smoker                                                                                                                            |                   53 |                     0 |                     0 |                        500 |                           0 |                         242 |                   0.106 |                        0 |               0          |\n",
      "| 609 | DT4H-SM2       | Ex-smoker                                                                                           | Ex-smoker                                                                                                                         |                   18 |                     0 |                     0 |                        500 |                           0 |                         242 |                   0.036 |                        0 |               0          |\n",
      "| 610 | DT4H-SM3       | Smokes tobacco daily                                                                                | Smokes tobacco daily                                                                                                              |                    0 |                     0 |                     0 |                        500 |                           0 |                         242 |                   0     |                        0 |               0          |\n",
      "| 611 | DT4H-SM4       | Occasional tobacco smoker                                                                           | Occasional tobacco smoker                                                                                                         |                    0 |                     0 |                     0 |                        500 |                           0 |                         242 |                   0     |                        0 |               0          |\n",
      "| 612 | DT4H-SM5       | Ex-smoker                                                                                           | Ex-smoker                                                                                                                         |                   18 |                     0 |                     0 |                        500 |                           0 |                         242 |                   0.036 |                        0 |               0          |\n",
      "| 613 | DT4H-SM6       | Never smoked tobacco                                                                                | Never smoked tobacco                                                                                                              |                    0 |                     0 |                     0 |                        500 |                           0 |                         242 |                   0     |                        0 |               0          |\n",
      "| 614 | DT4H-SM7       | Smoker                                                                                              | Smoker                                                                                                                            |                   53 |                     0 |                     0 |                        500 |                           0 |                         242 |                   0.106 |                        0 |               0          |\n",
      "| 615 | DT4H-SM8       | Tobacco smoking consumption unknown                                                                 | Tobacco smoking consumption unknown                                                                                               |                    0 |                     0 |                     0 |                        500 |                           0 |                         242 |                   0     |                        0 |               0          |\n",
      "| 616 | DT4H-US1       | LVEF                                                                                                | Left ventricular ejection fraction                                                                                                |                    0 |                     0 |                     0 |                        500 |                           0 |                         242 |                   0     |                        0 |               0          |\n",
      "| 617 | DT4H-US13      | RVEF                                                                                                | Right ventricular ejection fraction                                                                                               |                    0 |                     0 |                     0 |                        500 |                           0 |                         242 |                   0     |                        0 |               0          |\n",
      "| 618 | DT4H-US2       | BSA                                                                                                 | Body surface area                                                                                                                 |                    0 |                     0 |                     0 |                        500 |                           0 |                         242 |                   0     |                        0 |               0          |\n",
      "| 619 | DT4H-US5       | LVEDV                                                                                               | Left ventricular end-diastolic cavity size                                                                                        |                    0 |                     0 |                     0 |                        500 |                           0 |                         242 |                   0     |                        0 |               0          |\n",
      "| 620 | DT4H-US7       | LVESV                                                                                               | Left ventricular end-systolic cavity size                                                                                         |                    0 |                     0 |                     0 |                        500 |                           0 |                         242 |                   0     |                        0 |               0          |\n",
      "| 621 | DT4HDem-11     | Origin                                                                                              | Place of origin                                                                                                                   |                    0 |                     0 |                     0 |                        500 |                           0 |                         242 |                   0     |                        0 |               0          |\n",
      "| 622 | DT4HDem-14     | Admission date                                                                                      | Date of admission                                                                                                                 |                    0 |                     0 |                     0 |                        500 |                           0 |                         242 |                   0     |                        0 |               0          |\n",
      "| 623 | DT4HDem-3      | Sex female                                                                                          | Female                                                                                                                            |                    0 |                     0 |                     0 |                        500 |                           0 |                         242 |                   0     |                        0 |               0          |\n",
      "| 624 | DT4HDem-4      | Sex male                                                                                            | Male                                                                                                                              |                    0 |                     0 |                     0 |                        500 |                           0 |                         242 |                   0     |                        0 |               0          |\n",
      "| 625 | DT4HDem-6      | YOB                                                                                                 | Date of birth                                                                                                                     |                    0 |                     0 |                     0 |                        500 |                           0 |                         242 |                   0     |                        0 |               0          |\n",
      "| 626 | DT4HDem-7      | Height                                                                                              | Body height                                                                                                                       |                    0 |                     0 |                     0 |                        500 |                           0 |                         242 |                   0     |                        0 |               0          |\n",
      "| 627 | DT4HDem-8      | Weight                                                                                              | Body weight                                                                                                                       |                    0 |                     0 |                     0 |                        500 |                           0 |                         242 |                   0     |                        0 |               0          |\n",
      "| 628 | DT4HDem-9      | BMI                                                                                                 | Body mass index                                                                                                                   |                    0 |                     0 |                     0 |                        500 |                           0 |                         242 |                   0     |                        0 |               0          |\n",
      "| 629 | DT4HEKG-1      | Rhythm                                                                                              | Cardiac rhythm type                                                                                                               |                    0 |                     0 |                     0 |                        500 |                           0 |                         242 |                   0     |                        0 |               0          |\n",
      "| 630 | DT4HEKG-2      | ECG_STEMI                                                                                           | Acute ST segment elevation myocardial infarction                                                                                  |                    1 |                     0 |                     0 |                        500 |                           0 |                         242 |                   0.002 |                        0 |               0          |\n",
      "| 631 | DT4HEKG-3      | ECG_nSTEMI                                                                                          | Acute non-ST segment elevation myocardial infarction                                                                              |                    1 |                     0 |                     0 |                        500 |                           0 |                         242 |                   0.002 |                        0 |               0          |\n",
      "| 632 | DT4HEKG-4      | ECG_QRS                                                                                             | QRS complex duration                                                                                                              |                    0 |                     0 |                     0 |                        500 |                           0 |                         242 |                   0     |                        0 |               0          |\n",
      "| 633 | DT4HEKG-5      | ECG_QRSaxis                                                                                         | QRS Axis                                                                                                                          |                    0 |                     0 |                     0 |                        500 |                           0 |                         242 |                   0     |                        0 |               0          |\n",
      "| 634 | DT4HEKG-7      | HR                                                                                                  | Heart rate                                                                                                                        |                    0 |                     0 |                     0 |                        500 |                           0 |                         242 |                   0     |                        0 |               0          |\n",
      "| 635 | DT4HMeas-1     | BPsyst                                                                                              | 399304008 Systolic blood pressure on admission                                                                                    |                    0 |                     0 |                     0 |                        500 |                           0 |                         242 |                   0     |                        0 |               0          |\n",
      "| 636 | DT4HMeas-2     | Bpdia                                                                                               | Diastolic blood pressure on admission                                                                                             |                    0 |                     0 |                     0 |                        500 |                           0 |                         242 |                   0     |                        0 |               0          |\n",
      "| 637 | DT4HMeas-3     | Bpmean                                                                                              | Mean blood pressure                                                                                                               |                    0 |                     0 |                     0 |                        500 |                           0 |                         242 |                   0     |                        0 |               0          |\n",
      "| 638 | DT4HMeas-5     | Arterial oxygen saturation                                                                          | Arterial oxygen saturation                                                                                                        |                    0 |                     0 |                     0 |                        500 |                           0 |                         242 |                   0     |                        0 |               0          |\n",
      "| 639 | DT4HSign-1     | NYHA class                                                                                          | New York Heart Association Classification                                                                                         |                    0 |                     0 |                     0 |                        500 |                           0 |                         242 |                   0     |                        0 |               0          |\n",
      "| 640 | DT4HSign-10    | loss of appetite                                                                                    | Loss of appetite                                                                                                                  |                    0 |                     0 |                    38 |                        500 |                           0 |                         242 |                   0     |                        0 |               0.157025   |\n",
      "| 641 | DT4HSign-11    | depression                                                                                          | Depressed mood                                                                                                                    |                    0 |                     0 |                     4 |                        500 |                           0 |                         242 |                   0     |                        0 |               0.0165289  |\n",
      "| 642 | DT4HSign-12    | palpitation                                                                                         | Palpitations                                                                                                                      |                    0 |                     0 |                     8 |                        500 |                           0 |                         242 |                   0     |                        0 |               0.0330579  |\n",
      "| 643 | DT4HSign-13    | dizziness                                                                                           | Dizziness                                                                                                                         |                    0 |                     0 |                    23 |                        500 |                           0 |                         242 |                   0     |                        0 |               0.0950413  |\n",
      "| 644 | DT4HSign-14    | syncope                                                                                             | Syncope                                                                                                                           |                    4 |                     0 |                     7 |                        500 |                           0 |                         242 |                   0.008 |                        0 |               0.0289256  |\n",
      "| 645 | DT4HSign-15    | elevated jugular venous pressure                                                                    | Raised jugular venous pressure                                                                                                    |                    0 |                     0 |                     1 |                        500 |                           0 |                         242 |                   0     |                        0 |               0.00413223 |\n",
      "| 646 | DT4HSign-16    | hepatojugular reflux                                                                                | Hepatojugular reflux                                                                                                              |                    0 |                     0 |                     1 |                        500 |                           0 |                         242 |                   0     |                        0 |               0.00413223 |\n",
      "| 647 | DT4HSign-17    | third heart sound                                                                                   | Third heart sound                                                                                                                 |                    0 |                     0 |                     1 |                        500 |                           0 |                         242 |                   0     |                        0 |               0.00413223 |\n",
      "| 648 | DT4HSign-18    | weight gain                                                                                         | Weight increased                                                                                                                  |                    0 |                     0 |                     0 |                        500 |                           0 |                         242 |                   0     |                        0 |               0          |\n",
      "| 649 | DT4HSign-19    | weight loss                                                                                         | Weight loss                                                                                                                       |                    0 |                     0 |                    64 |                        500 |                           0 |                         242 |                   0     |                        0 |               0.264463   |\n",
      "| 650 | DT4HSign-2     | Chest pain                                                                                          | Chest pain                                                                                                                        |                    0 |                     0 |                    15 |                        500 |                           0 |                         242 |                   0     |                        0 |               0.0619835  |\n",
      "| 651 | DT4HSign-20    | cardiac murmur                                                                                      | Heart murmur                                                                                                                      |                    0 |                     0 |                     1 |                        500 |                           0 |                         242 |                   0     |                        0 |               0.00413223 |\n",
      "| 652 | DT4HSign-21    | peripheral edema (ankle, sacral, scrotal)                                                           | Peripheral edema                                                                                                                  |                    0 |                     0 |                     0 |                        500 |                           0 |                         242 |                   0     |                        0 |               0          |\n",
      "| 653 | DT4HSign-22    | pulmonary crepitations                                                                              | Respiratory crackles                                                                                                              |                    0 |                     0 |                     7 |                        500 |                           0 |                         242 |                   0     |                        0 |               0.0289256  |\n",
      "| 654 | DT4HSign-23    | pleural effusion                                                                                    | Pleural effusion                                                                                                                  |                   24 |                     0 |                     2 |                        500 |                           0 |                         242 |                   0.048 |                        0 |               0.00826446 |\n",
      "| 655 | DT4HSign-24    | tachycardia                                                                                         | Tachycardia                                                                                                                       |                    0 |                     0 |                     1 |                        500 |                           0 |                         242 |                   0     |                        0 |               0.00413223 |\n",
      "| 656 | DT4HSign-25    | irregular pulse                                                                                     | Pulse irregular                                                                                                                   |                    0 |                     0 |                     1 |                        500 |                           0 |                         242 |                   0     |                        0 |               0.00413223 |\n",
      "| 657 | DT4HSign-26    | tachypneoea                                                                                         | Tachypnea                                                                                                                         |                    0 |                     0 |                    17 |                        500 |                           0 |                         242 |                   0     |                        0 |               0.0702479  |\n",
      "| 658 | DT4HSign-27    | cheyne-stokes respiration                                                                           | Cheyne-Stokes respiration                                                                                                         |                    0 |                     0 |                     0 |                        500 |                           0 |                         242 |                   0     |                        0 |               0          |\n",
      "| 659 | DT4HSign-28    | hepatomegaly                                                                                        | Large liver                                                                                                                       |                   15 |                     0 |                     6 |                        500 |                           0 |                         242 |                   0.03  |                        0 |               0.0247934  |\n",
      "| 660 | DT4HSign-29    | ascites                                                                                             | Ascites                                                                                                                           |                   21 |                     0 |                    15 |                        500 |                           0 |                         242 |                   0.042 |                        0 |               0.0619835  |\n",
      "| 661 | DT4HSign-3     | breathness                                                                                          | Dyspnea                                                                                                                           |                    1 |                     0 |                     0 |                        500 |                           0 |                         242 |                   0.002 |                        0 |               0          |\n",
      "| 662 | DT4HSign-30    | oliguria                                                                                            | Oliguria                                                                                                                          |                    0 |                     0 |                    11 |                        500 |                           0 |                         242 |                   0     |                        0 |               0.0454545  |\n",
      "| 663 | DT4HSign-4     | orthopnoea                                                                                          | Orthopnea                                                                                                                         |                    0 |                     0 |                     5 |                        500 |                           0 |                         242 |                   0     |                        0 |               0.0206612  |\n",
      "| 664 | DT4HSign-5     | paroxysmal nocturnal dyspnoea                                                                       | Paroxysmal nocturnal dyspnea                                                                                                      |                    0 |                     0 |                     0 |                        500 |                           0 |                         242 |                   0     |                        0 |               0          |\n",
      "| 665 | DT4HSign-6     | reduced excercise tolerance                                                                         | Impaired exercise tolerance                                                                                                       |                    0 |                     0 |                     0 |                        500 |                           0 |                         242 |                   0     |                        0 |               0          |\n",
      "| 666 | DT4HSign-7     | fatigue                                                                                             | Fatigue                                                                                                                           |                    0 |                     0 |                    14 |                        500 |                           0 |                         242 |                   0     |                        0 |               0.0578512  |\n",
      "| 667 | DT4HSign-8     | ankle swelling                                                                                      | Swollen ankle                                                                                                                     |                    0 |                     0 |                     0 |                        500 |                           0 |                         242 |                   0     |                        0 |               0          |\n",
      "| 668 | DT4HSign-9     | nocturnal cough                                                                                     | Nocturnal cough                                                                                                                   |                    0 |                     0 |                     0 |                        500 |                           0 |                         242 |                   0     |                        0 |               0          |\n"
     ]
    }
   ],
   "source": [
    "print(df_out.to_markdown())"
   ]
  },
  {
   "cell_type": "code",
   "execution_count": 13,
   "metadata": {},
   "outputs": [
    {
     "name": "stdout",
     "output_type": "stream",
     "text": [
      "|     | ID             | name                                                                                |           code | semantic_tag      | term                                                                                                                              |\n",
      "|----:|:---------------|:------------------------------------------------------------------------------------|---------------:|:------------------|:----------------------------------------------------------------------------------------------------------------------------------|\n",
      "|  62 | DT4H-Lab10     | TropThs                                                                             |      102682001 | substance         | Troponin T                                                                                                                        |\n",
      "|  63 | DT4H-Lab11     | TropTnhs                                                                            |      102682001 | substance         | Troponin T                                                                                                                        |\n",
      "|  60 | DT4H-Lab8      | TropIhs                                                                             |      102683006 | substance         | Troponin I                                                                                                                        |\n",
      "|  61 | DT4H-Lab9      | TropInhs                                                                            |      102683006 | substance         | Troponin I                                                                                                                        |\n",
      "| 299 | DT4H-MedD187   | Torasemide                                                                          |      108476002 | substance         | Torasemide                                                                                                                        |\n",
      "| 347 | DT4H-MedL105   | Torasemide                                                                          |      108476002 | substance         | Torasemide                                                                                                                        |\n",
      "| 224 | DT4H-MedA144   | Moexipril hydrochloride                                                             |      108567007 | substance         | Moexipril hydrochloride                                                                                                           |\n",
      "| 185 | DT4H-MedR164   | Moexipril hydrochloride                                                             |      108567007 | substance         | Moexipril hydrochloride                                                                                                           |\n",
      "| 223 | DT4H-MedA143   | Fosinopril sodium                                                                   |      108570006 | substance         | Fosinopril sodium                                                                                                                 |\n",
      "| 184 | DT4H-MedR163   | Fosinopril sodium                                                                   |      108570006 | substance         | Fosinopril sodium                                                                                                                 |\n",
      "| 222 | DT4H-MedA142   | Benazepril hydrochloride                                                            |      108573008 | substance         | Benazepril hydrochloride                                                                                                          |\n",
      "| 183 | DT4H-MedR162   | Benazepril hydrochloride                                                            |      108573008 | substance         | Benazepril hydrochloride                                                                                                          |\n",
      "| 243 | DT4H-MedAR127  | Losartan potassium                                                                  |      108582002 | substance         | Losartan potassium                                                                                                                |\n",
      "| 150 | DT4H-MedR127   | Losartan potassium                                                                  |      108582002 | substance         | Losartan potassium                                                                                                                |\n",
      "| 195 | DT4H-MedA115   | Enalapril sodium                                                                    |     1119307002 | substance         | Enalapril sodium                                                                                                                  |\n",
      "| 156 | DT4H-MedR135   | Enalapril sodium                                                                    |     1119307002 | substance         | Enalapril sodium                                                                                                                  |\n",
      "| 155 | DT4H-MedR134   | Perindopril erbumine monohydrate                                                    |     1119308007 | substance         | Perindopril erbumine monohydrate                                                                                                  |\n",
      "| 194 | DT4H-MedA114   | Perindopril erbumine monohydrate                                                    |     1119308007 | substance         | Perindopril erbumine monohydrate                                                                                                  |\n",
      "| 306 | DT4H-MedD194   | Trichlormethiazide                                                                  |       11473005 | substance         | Trichlormethiazide                                                                                                                |\n",
      "| 334 | DT4H-MedD233   | Trichlormethiazide                                                                  |       11473005 | substance         | Trichlormethiazide                                                                                                                |\n",
      "| 437 | DT4H-MedP141   | substance with glycoprotein-IIb/IIIa receptor antagonist mechanism of action        |     1162907009 | substance         | substance with glycoprotein-IIb/IIIa receptor antagonist mechanism of action                                                      |\n",
      "| 417 | DT4H-MedP11    | Substance with glycoprotein-IIb/IIIa receptor antagonist mechanism of action        |     1162907009 | substance         | Substance with glycoprotein-IIb/IIIa receptor antagonist mechanism of action                                                      |\n",
      "| 279 | DT4H-MedD152   | Finerenone                                                                          |     1163346008 | substance         | Finerenone                                                                                                                        |\n",
      "| 246 | DT4H-MedM111   | Finerenone                                                                          |     1163346008 | substance         | Finerenone                                                                                                                        |\n",
      "| 626 | DT4H-MedRHY113 | Amiloride hydrochloride anhydrous                                                   |     1268944002 | substance         | Amiloride hydrochloride anhydrous                                                                                                 |\n",
      "| 278 | DT4H-MedD151   | Amiloride hydrochloride anhydrous                                                   |     1268944002 | substance         | Amiloride hydrochloride anhydrous                                                                                                 |\n",
      "| 154 | DT4H-MedR133   | Cilazapril anhydrous                                                                |     1268982005 | substance         | Cilazapril anhydrous                                                                                                              |\n",
      "| 193 | DT4H-MedA113   | Cilazapril anhydrous                                                                |     1268982005 | substance         | Cilazapril anhydrous                                                                                                              |\n",
      "| 153 | DT4H-MedR132   | Lisinopril anhydrous                                                                |     1269132005 | substance         | Lisinopril anhydrous                                                                                                              |\n",
      "| 192 | DT4H-MedA112   | Lisinopril anhydrous                                                                |     1269132005 | substance         | Lisinopril anhydrous                                                                                                              |\n",
      "| 182 | DT4H-MedR161   | Perindopril erbumine                                                                |      129485000 | substance         | Perindopril erbumine                                                                                                              |\n",
      "| 221 | DT4H-MedA141   | Perindopril erbumine                                                                |      129485000 | substance         | Perindopril erbumine                                                                                                              |\n",
      "| 242 | DT4H-MedAR126  | Eprosartan mesilate                                                                 |      129488003 | substance         | Eprosartan mesilate                                                                                                               |\n",
      "| 149 | DT4H-MedR126   | Eprosartan mesilate                                                                 |      129488003 | substance         | Eprosartan mesilate                                                                                                               |\n",
      "| 135 | DT4H-MedR112   | Fimasartan                                                                          |     1332433003 | substance         | Fimasartan                                                                                                                        |\n",
      "| 228 | DT4H-MedAR112  | Fimasartan                                                                          |     1332433003 | substance         | Fimasartan                                                                                                                        |\n",
      "| 227 | DT4H-MedAR111  | Fimasartan potassium trihydrate                                                     |     1332434009 | substance         | Fimasartan potassium trihydrate                                                                                                   |\n",
      "| 134 | DT4H-MedR111   | Fimasartan potassium trihydrate                                                     |     1332434009 | substance         | Fimasartan potassium trihydrate                                                                                                   |\n",
      "| 322 | DT4H-MedD221   | Butizide                                                                            | 20551000122108 | substance         | Butizide                                                                                                                          |\n",
      "| 293 | DT4H-MedD181   | Butizide                                                                            | 20551000122108 | substance         | Butizide                                                                                                                          |\n",
      "|  49 | DT4H-US2       | BSA                                                                                 |      301898006 | observable entity | Body surface area                                                                                                                 |\n",
      "|  50 | DT4H-US5       | LVEDV                                                                               |      301898006 | observable entity | Left ventricular end-diastolic cavity size                                                                                        |\n",
      "| 191 | DT4H-MedA111   | Lisinopril dihydrate                                                                |   341000220102 | substance         | Lisinopril dihydrate                                                                                                              |\n",
      "| 152 | DT4H-MedR131   | Lisinopril dihydrate                                                                |   341000220102 | substance         | Lisinopril dihydrate                                                                                                              |\n",
      "| 305 | DT4H-MedD193   | Cyclothiazide                                                                       |       37006008 | substance         | Cyclothiazide                                                                                                                     |\n",
      "| 333 | DT4H-MedD232   | Cyclothiazide                                                                       |       37006008 | substance         | Cyclothiazide                                                                                                                     |\n",
      "| 181 | DT4H-MedR160   | Fosinopril                                                                          |      372510000 | substance         | Fosinopril                                                                                                                        |\n",
      "| 220 | DT4H-MedA140   | Fosinopril                                                                          |      372510000 | substance         | Fosinopril                                                                                                                        |\n",
      "| 180 | DT4H-MedR159   | Benazepril                                                                          |      372511001 | substance         | Benazepril                                                                                                                        |\n",
      "| 219 | DT4H-MedA139   | Benazepril                                                                          |      372511001 | substance         | Benazepril                                                                                                                        |\n",
      "| 241 | DT4H-MedAR125  | Candesartan                                                                         |      372512008 | substance         | Candesartan                                                                                                                       |\n",
      "| 148 | DT4H-MedR125   | Candesartan                                                                         |      372512008 | substance         | Candesartan                                                                                                                       |\n",
      "| 114 | DT4H-MedM1     | Mineralcorticoid Receptor Antagonist (MRA)                                          |      372603003 | substance         | Substance with aldosterone receptor antagonist mechanism of action                                                                |\n",
      "| 245 | DT4H-MedM1     | MINERALCORTICOID RECEPTOR ANTAGONIST (MRA)                                          |      372603003 | substance         | MINERALCORTICOID RECEPTOR ANTAGONIST (MRA)                                                                                        |\n",
      "| 287 | DT4H-MedD160   | Aldosterone receptor antagonist                                                     |      372603003 | substance         | Aldosterone receptor antagonist                                                                                                   |\n",
      "| 179 | DT4H-MedR158   | Enalapril                                                                           |      372658000 | substance         | Enalapril                                                                                                                         |\n",
      "| 218 | DT4H-MedA138   | Enalapril                                                                           |      372658000 | substance         | Enalapril                                                                                                                         |\n",
      "| 592 | DT4H-MedBB130  | Beta-1 adrenergic receptor antagonist                                               |      372661004 | substance         | Beta-1 adrenergic receptor antagonist                                                                                             |\n",
      "| 601 | DT4H-MedBB15   | Substance with beta-1 adrenergic receptor antagonist mechanism of action            |      372661004 | substance         | Substance with beta-1 adrenergic receptor antagonist mechanism of action                                                          |\n",
      "| 116 | DT4H-MedL1     | Loop diuretics                                                                      |      372691009 | substance         | Loop diuretic                                                                                                                     |\n",
      "| 342 | DT4H-MedL1     | LOOP DIURETIC                                                                       |      372691009 | substance         | LOOP DIURETIC                                                                                                                     |\n",
      "| 115 | DT4H-MedD1     | Diuretics                                                                           |      372695000 | substance         | Diuretic                                                                                                                          |\n",
      "| 251 | DT4H-MedD1     | DIURETICS                                                                           |      372695000 | substance         | DIURETICS                                                                                                                         |\n",
      "| 190 | DT4H-MedA1     | ACE-INHIBITORS                                                                      |      372733002 | substance         | ACE-INHIBITORS                                                                                                                    |\n",
      "| 111 | DT4H-MedA1     | ACE-inhibitors                                                                      |      372733002 | substance         | Substance with angiotensin-converting enzyme inhibitor mechanism of action                                                        |\n",
      "| 151 | DT4H-MedR13    | Substance with angiotensin-converting                                               |      372733002 | substance         | Substance with angiotensin-converting                                                                                             |\n",
      "|     |                | enzyme inhibitor mechanism of action                                                |                |                   | enzyme inhibitor mechanism of action                                                                                              |\n",
      "| 331 | DT4H-MedD230   | Chlorothiazide                                                                      |      372782002 | substance         | Chlorothiazide                                                                                                                    |\n",
      "| 298 | DT4H-MedD186   | Chlorothiazide                                                                      |      372782002 | substance         | Chlorothiazide                                                                                                                    |\n",
      "| 120 | DT4H-MedCO1    | Anticoagulants                                                                      |      372862008 | substance         | Anticoagulant                                                                                                                     |\n",
      "| 461 | DT4H-MedCO1    | ANTICOAGULANTS                                                                      |      372862008 | substance         | ANTICOAGULANTS                                                                                                                    |\n",
      "| 121 | DT4H-MedS1     | Statins                                                                             |      372912004 | substance         | Substance with 3-hydroxy-3-methylglutaryl-coenzyme A reductase inhibitor mechanism of action                                      |\n",
      "| 544 | DT4H-MedS1     | STATINS                                                                             |      372912004 | substance         | STATINS                                                                                                                           |\n",
      "| 112 | DT4H-MedAR1    | Angiotensin receptor blocker                                                        |      372913009 | substance         | Substance with angiotensin II receptor antagonist mechanism of action                                                             |\n",
      "| 226 | DT4H-MedAR1    | ANGIOTENSIN RECEPTOR BLOCKER                                                        |      372913009 | substance         | ANGIOTENSIN RECEPTOR BLOCKER                                                                                                      |\n",
      "| 133 | DT4H-MedR11    | Substance with angiotensin II receptor antagonist mechanism of action               |      372913009 | substance         | Substance with angiotensin II receptor antagonist mechanism of action                                                             |\n",
      "| 217 | DT4H-MedA137   | Perindopril                                                                         |      372916001 | substance         | Perindopril                                                                                                                       |\n",
      "| 178 | DT4H-MedR157   | Perindopril                                                                         |      372916001 | substance         | Perindopril                                                                                                                       |\n",
      "| 572 | DT4H-MedBB1    | BETABLOCKERS                                                                        |      373254001 | substance         | BETABLOCKERS                                                                                                                      |\n",
      "| 123 | DT4H-MedBB1    | Betablockers                                                                        |      373254001 | substance         | Substance with beta adrenergic receptor antagonist mechanism of action                                                            |\n",
      "| 350 | DT4H-MedC1     | CALCIUM CHANNEL BLOCKER                                                             |      373304005 | substance         | CALCIUM CHANNEL BLOCKER                                                                                                           |\n",
      "| 117 | DT4H-MedC1     | Calcium Channel Blockers                                                            |      373304005 | substance         | Substance with calcium channel blocker mechanism of action                                                                        |\n",
      "| 177 | DT4H-MedR156   | Moexipril                                                                           |      373442003 | substance         | Moexipril                                                                                                                         |\n",
      "| 216 | DT4H-MedA136   | Moexipril                                                                           |      373442003 | substance         | Moexipril                                                                                                                         |\n",
      "| 346 | DT4H-MedL104   | Ethacrynic acid                                                                     |      373536004 | substance         | Ethacrynic acid                                                                                                                   |\n",
      "| 297 | DT4H-MedD185   | Ethacrynic acid                                                                     |      373536004 | substance         | Ethacrynic acid                                                                                                                   |\n",
      "| 147 | DT4H-MedR124   | Losartan                                                                            |      373567002 | substance         | Losartan                                                                                                                          |\n",
      "| 240 | DT4H-MedAR124  | Losartan                                                                            |      373567002 | substance         | Losartan                                                                                                                          |\n",
      "| 176 | DT4H-MedR155   | Trandolapril                                                                        |      386871006 | substance         | Trandolapril                                                                                                                      |\n",
      "| 215 | DT4H-MedA135   | Trandolapril                                                                        |      386871006 | substance         | Trandolapril                                                                                                                      |\n",
      "| 214 | DT4H-MedA134   | Ramipril                                                                            |      386872004 | substance         | Ramipril                                                                                                                          |\n",
      "| 175 | DT4H-MedR154   | Ramipril                                                                            |      386872004 | substance         | Ramipril                                                                                                                          |\n",
      "| 174 | DT4H-MedR153   | Lisinopril                                                                          |      386873009 | substance         | Lisinopril                                                                                                                        |\n",
      "| 213 | DT4H-MedA133   | Lisinopril                                                                          |      386873009 | substance         | Lisinopril                                                                                                                        |\n",
      "| 173 | DT4H-MedR152   | Quinapril                                                                           |      386874003 | substance         | Quinapril                                                                                                                         |\n",
      "| 212 | DT4H-MedA132   | Quinapril                                                                           |      386874003 | substance         | Quinapril                                                                                                                         |\n",
      "| 172 | DT4H-MedR151   | Quinapril hydrochloride                                                             |      386875002 | substance         | Quinapril hydrochloride                                                                                                           |\n",
      "| 211 | DT4H-MedA131   | Quinapril hydrochloride                                                             |      386875002 | substance         | Quinapril hydrochloride                                                                                                           |\n",
      "| 239 | DT4H-MedAR123  | Valsartan                                                                           |      386876001 | substance         | Valsartan                                                                                                                         |\n",
      "| 146 | DT4H-MedR123   | Valsartan                                                                           |      386876001 | substance         | Valsartan                                                                                                                         |\n",
      "| 238 | DT4H-MedAR122  | Irbesartan                                                                          |      386877005 | substance         | Irbesartan                                                                                                                        |\n",
      "| 145 | DT4H-MedR122   | Irbesartan                                                                          |      386877005 | substance         | Irbesartan                                                                                                                        |\n",
      "| 144 | DT4H-MedR121   | Candesartan cilexetil                                                               |      386878000 | substance         | Candesartan cilexetil                                                                                                             |\n",
      "| 237 | DT4H-MedAR121  | Candesartan cilexetil                                                               |      386878000 | substance         | Candesartan cilexetil                                                                                                             |\n",
      "| 638 | DT4H-MedRHY125 | Triamterene                                                                         |      387053007 | substance         | Triamterene                                                                                                                       |\n",
      "| 286 | DT4H-MedD159   | Triamterene                                                                         |      387053007 | substance         | Triamterene                                                                                                                       |\n",
      "| 236 | DT4H-MedAR120  | Telmisartan                                                                         |      387069000 | substance         | Telmisartan                                                                                                                       |\n",
      "| 143 | DT4H-MedR120   | Telmisartan                                                                         |      387069000 | substance         | Telmisartan                                                                                                                       |\n",
      "| 249 | DT4H-MedM114   | Spironolactone                                                                      |      387078006 | substance         | Spironolactone                                                                                                                    |\n",
      "| 285 | DT4H-MedD158   | Spironolactone                                                                      |      387078006 | substance         | Spironolactone                                                                                                                    |\n",
      "| 210 | DT4H-MedA130   | Captopril                                                                           |      387160004 | substance         | Captopril                                                                                                                         |\n",
      "| 171 | DT4H-MedR150   | Captopril                                                                           |      387160004 | substance         | Captopril                                                                                                                         |\n",
      "| 170 | DT4H-MedR149   | Enalapril maleate                                                                   |      387165009 | substance         | Enalapril maleate                                                                                                                 |\n",
      "| 209 | DT4H-MedA129   | Enalapril maleate                                                                   |      387165009 | substance         | Enalapril maleate                                                                                                                 |\n",
      "| 296 | DT4H-MedD184   | Chlortalidone                                                                       |      387324004 | substance         | Chlortalidone                                                                                                                     |\n",
      "| 316 | DT4H-MedD208   | Chlortalidone                                                                       |      387324004 | substance         | Chlortalidone                                                                                                                     |\n",
      "| 345 | DT4H-MedL103   | Furosemide                                                                          |      387475002 | substance         | Furosemide                                                                                                                        |\n",
      "| 314 | DT4H-MedD206   | Furosemide                                                                          |      387475002 | substance         | Furosemide                                                                                                                        |\n",
      "| 295 | DT4H-MedD183   | Furosemide                                                                          |      387475002 | substance         | Furosemide                                                                                                                        |\n",
      "| 294 | DT4H-MedD182   | Bumetanide                                                                          |      387498005 | substance         | Bumetanide                                                                                                                        |\n",
      "| 344 | DT4H-MedL102   | Bumetanide                                                                          |      387498005 | substance         | Bumetanide                                                                                                                        |\n",
      "| 313 | DT4H-MedD205   | Bumetanide                                                                          |      387498005 | substance         | Bumetanide                                                                                                                        |\n",
      "| 284 | DT4H-MedD157   | Amiloride                                                                           |      387503008 | substance         | Amiloride                                                                                                                         |\n",
      "| 634 | DT4H-MedRHY121 | Amiloride                                                                           |      387503008 | substance         | Amiloride                                                                                                                         |\n",
      "| 283 | DT4H-MedD156   | Amiloride hydrochloride                                                             |      387516008 | substance         | Amiloride hydrochloride                                                                                                           |\n",
      "| 633 | DT4H-MedRHY120 | Amiloride hydrochloride                                                             |      387516008 | substance         | Amiloride hydrochloride                                                                                                           |\n",
      "| 169 | DT4H-MedR148   | Imidapril hydrochloride                                                             |      395741003 | substance         | Imidapril hydrochloride                                                                                                           |\n",
      "| 208 | DT4H-MedA128   | Imidapril hydrochloride                                                             |      395741003 | substance         | Imidapril hydrochloride                                                                                                           |\n",
      "| 168 | DT4H-MedR147   | Cilazapril                                                                          |      395947008 | substance         | Cilazapril                                                                                                                        |\n",
      "| 207 | DT4H-MedA127   | Cilazapril                                                                          |      395947008 | substance         | Cilazapril                                                                                                                        |\n",
      "| 206 | DT4H-MedA126   | Imidapril                                                                           |      395984005 | substance         | Imidapril                                                                                                                         |\n",
      "| 167 | DT4H-MedR146   | Imidapril                                                                           |      395984005 | substance         | Imidapril                                                                                                                         |\n",
      "| 235 | DT4H-MedAR119  | Eprosartan                                                                          |      396044005 | substance         | Eprosartan                                                                                                                        |\n",
      "| 142 | DT4H-MedR119   | Eprosartan                                                                          |      396044005 | substance         | Eprosartan                                                                                                                        |\n",
      "| 562 | DT4H-MedDG1    | DIGITALIS GLYCOSIDES                                                                |      406759007 | substance         | DIGITALIS GLYCOSIDES                                                                                                              |\n",
      "| 122 | DT4H-MedDG1    | Digitalis glycosides                                                                |      406759007 | substance         | Digitalis glycoside                                                                                                               |\n",
      "| 324 | DT4H-MedD223   | Mefruside                                                                           |      406772008 | substance         | Mefruside                                                                                                                         |\n",
      "| 310 | DT4H-MedD202   | Mefruside                                                                           |      406772008 | substance         | Mefruside                                                                                                                         |\n",
      "| 248 | DT4H-MedM113   | Eplerenone                                                                          |      407010008 | substance         | Eplerenone                                                                                                                        |\n",
      "| 282 | DT4H-MedD155   | Eplerenone                                                                          |      407010008 | substance         | Eplerenone                                                                                                                        |\n",
      "| 631 | DT4H-MedRHY118 | Amiloride hydrochloride dihydrate                                                   |      412082007 | substance         | Amiloride hydrochloride dihydrate                                                                                                 |\n",
      "| 281 | DT4H-MedD154   | Amiloride hydrochloride dihydrate                                                   |      412082007 | substance         | Amiloride hydrochloride dihydrate                                                                                                 |\n",
      "| 234 | DT4H-MedAR118  | Olmesartan                                                                          |      412259001 | substance         | Olmesartan                                                                                                                        |\n",
      "| 141 | DT4H-MedR118   | Olmesartan                                                                          |      412259001 | substance         | Olmesartan                                                                                                                        |\n",
      "| 140 | DT4H-MedR117   | Olmesartan medoxomil                                                                |      412260006 | substance         | Olmesartan medoxomil                                                                                                              |\n",
      "| 233 | DT4H-MedAR117  | Olmesartan medoxomil                                                                |      412260006 | substance         | Olmesartan medoxomil                                                                                                              |\n",
      "| 420 | DT4H-MedP113   | Tirofiban hydrochloride monohydrate                                                 |      412321006 | substance         | Tirofiban hydrochloride monohydrate                                                                                               |\n",
      "| 448 | DT4H-MedP152   | tirofiban hydrochloride monohydrate                                                 |      412321006 | substance         | tirofiban hydrochloride monohydrate                                                                                               |\n",
      "| 304 | DT4H-MedD192   | Quinethazone                                                                        |       41261002 | substance         | Quinethazone                                                                                                                      |\n",
      "| 320 | DT4H-MedD212   | Quinethazone                                                                        |       41261002 | substance         | Quinethazone                                                                                                                      |\n",
      "| 280 | DT4H-MedD153   | Potassium canrenoate                                                                |      419615001 | substance         | Potassium canrenoate                                                                                                              |\n",
      "| 247 | DT4H-MedM112   | Potassium canrenoate                                                                |      419615001 | substance         | Potassium canrenoate                                                                                                              |\n",
      "| 656 | DT4H-MedIV1    | IVABRADINE                                                                          |      421228002 | substance         | IVABRADINE                                                                                                                        |\n",
      "| 125 | DT4H-MedIV1    | Ivabradine                                                                          |      421228002 | substance         | Ivabradine                                                                                                                        |\n",
      "| 166 | DT4H-MedR145   | Perindopril arginine                                                                |      442509000 | substance         | Perindopril arginine                                                                                                              |\n",
      "| 205 | DT4H-MedA125   | Perindopril arginine                                                                |      442509000 | substance         | Perindopril arginine                                                                                                              |\n",
      "| 139 | DT4H-MedR116   | Azilsartan                                                                          |      449042005 | substance         | Azilsartan                                                                                                                        |\n",
      "| 232 | DT4H-MedAR116  | Azilsartan                                                                          |      449042005 | substance         | Azilsartan                                                                                                                        |\n",
      "| 138 | DT4H-MedR115   | Azilsartan medoxomil                                                                |      449561004 | substance         | Azilsartan medoxomil                                                                                                              |\n",
      "| 231 | DT4H-MedAR115  | Azilsartan medoxomil                                                                |      449561004 | substance         | Azilsartan medoxomil                                                                                                              |\n",
      "| 225 | DT4H-MedA145   | Enalaprilat                                                                         |       48052001 | substance         | Enalaprilat                                                                                                                       |\n",
      "| 186 | DT4H-MedR165   | Enalaprilat                                                                         |       48052001 | substance         | Enalaprilat                                                                                                                       |\n",
      "| 349 | DT4H-MedL107   | Tienilic acid                                                                       |       64029000 | substance         | Tienilic acid                                                                                                                     |\n",
      "| 303 | DT4H-MedD191   | Tienilic acid                                                                       |       64029000 | substance         | Tienilic acid                                                                                                                     |\n",
      "| 302 | DT4H-MedD190   | Benzthiazide                                                                        |       66290002 | substance         | Benzthiazide                                                                                                                      |\n",
      "| 332 | DT4H-MedD231   | Benzthiazide                                                                        |       66290002 | substance         | Benzthiazide                                                                                                                      |\n",
      "| 165 | DT4H-MedR144   | Delapril                                                                            |      698093003 | substance         | Delapril                                                                                                                          |\n",
      "| 204 | DT4H-MedA124   | Delapril                                                                            |      698093003 | substance         | Delapril                                                                                                                          |\n",
      "| 203 | DT4H-MedA123   | Delapril hydrochloride                                                              |      700066002 | substance         | Delapril hydrochloride                                                                                                            |\n",
      "| 164 | DT4H-MedR143   | Delapril hydrochloride                                                              |      700066002 | substance         | Delapril hydrochloride                                                                                                            |\n",
      "| 202 | DT4H-MedA122   | Zofenopril                                                                          |      703340007 | substance         | Zofenopril                                                                                                                        |\n",
      "| 163 | DT4H-MedR142   | Zofenopril                                                                          |      703340007 | substance         | Zofenopril                                                                                                                        |\n",
      "| 162 | DT4H-MedR141   | Zofenopril calcium                                                                  |      703341006 | substance         | Zofenopril calcium                                                                                                                |\n",
      "| 201 | DT4H-MedA121   | Zofenopril calcium                                                                  |      703341006 | substance         | Zofenopril calcium                                                                                                                |\n",
      "| 161 | DT4H-MedR140   | Zofenoprilat                                                                        |      703342004 | substance         | Zofenoprilat                                                                                                                      |\n",
      "| 200 | DT4H-MedA120   | Zofenoprilat                                                                        |      703342004 | substance         | Zofenoprilat                                                                                                                      |\n",
      "| 199 | DT4H-MedA119   | Zofenoprilat arginine                                                               |      703343009 | substance         | Zofenoprilat arginine                                                                                                             |\n",
      "| 160 | DT4H-MedR139   | Zofenoprilat arginine                                                               |      703343009 | substance         | Zofenoprilat arginine                                                                                                             |\n",
      "| 657 | DT4H-MedSG1    | SUBSTANCE WITH SODIUM GLUCOSE COTRANSPORTER SUBTYPE 2 INHIBITOR MECHANISM OF ACTION |      703673007 | substance         | SUBSTANCE WITH SODIUM GLUCOSE COTRANSPORTER SUBTYPE 2 INHIBITOR MECHANISM OF ACTION                                               |\n",
      "| 126 | DT4H-MedSG1    | SGLT-2 Inhibitor                                                                    |      703673007 | substance         | Substance with sodium glucose cotransporter subtype 2 inhibitor mechanism of action                                               |\n",
      "| 198 | DT4H-MedA118   | Spirapril                                                                           |      713473008 | substance         | Spirapril                                                                                                                         |\n",
      "| 159 | DT4H-MedR138   | Spirapril                                                                           |      713473008 | substance         | Spirapril                                                                                                                         |\n",
      "| 197 | DT4H-MedA117   | Cilazapril monohydrate                                                              |      725786001 | substance         | Cilazapril monohydrate                                                                                                            |\n",
      "| 158 | DT4H-MedR137   | Cilazapril monohydrate                                                              |      725786001 | substance         | Cilazapril monohydrate                                                                                                            |\n",
      "| 137 | DT4H-MedR114   | Irbesartan hydrochloride                                                            |      734504000 | substance         | Irbesartan hydrochloride                                                                                                          |\n",
      "| 230 | DT4H-MedAR114  | Irbesartan hydrochloride                                                            |      734504000 | substance         | Irbesartan hydrochloride                                                                                                          |\n",
      "| 260 | DT4H-MedD118   | conivaptan hydrochloride                                                            |      735160008 | substance         | conivaptan hydrochloride                                                                                                          |\n",
      "| 258 | DT4H-MedD116   | cicletanine hydrochloride                                                           |      735160008 | substance         | cicletanine hydrochloride                                                                                                         |\n",
      "| 196 | DT4H-MedA116   | Perindopril tosylate                                                                |      735174001 | substance         | Perindopril tosylate                                                                                                              |\n",
      "| 157 | DT4H-MedR136   | Perindopril tosylate                                                                |      735174001 | substance         | Perindopril tosylate                                                                                                              |\n",
      "| 301 | DT4H-MedD189   | Ethacrynate sodium                                                                  |       75341007 | substance         | Ethacrynate sodium                                                                                                                |\n",
      "| 348 | DT4H-MedL106   | Ethacrynate sodium                                                                  |       75341007 | substance         | Ethacrynate sodium                                                                                                                |\n",
      "| 416 | DT4H-MedP1     | SUBSTANCE WITH PLATELET AGGREGATION INHIBITOR MECHANISM OF ACTION                   |      771452004 | substance         | SUBSTANCE WITH PLATELET AGGREGATION INHIBITOR MECHANISM OF ACTION                                                                 |\n",
      "| 119 | DT4H-MedP1     | Platelet inhibitor                                                                  |      771452004 | substance         | Substance with platelet aggregation inhibitor mechanism of action                                                                 |\n",
      "| 102 | DT4H-SM1       | Smoker                                                                              |       77176002 | finding           | Smoker                                                                                                                            |\n",
      "| 108 | DT4H-SM7       | Smoker                                                                              |       77176002 | finding           | Smoker                                                                                                                            |\n",
      "| 244 | DT4H-Med2      | ANGIOTENSIN RECEPTOR/NEPRILYSIN INHIBITOR (ARNI)                                    |      777480008 | medicinal product | ANGIOTENSIN RECEPTOR/NEPRILYSIN INHIBITOR (ARNI)                                                                                  |\n",
      "| 113 | DT4H-Med2      | Angiotensin receptor/neprilysin inhibitor (ARNI)                                    |      777480008 | medicine          | Product containing only sacubitril and valsartan                                                                                  |\n",
      "| 623 | DT4H-MedRHY11  | Substance with sodium channel blocker mechanism of action                           |      782436006 | substance         | Substance with sodium channel blocker mechanism of action                                                                         |\n",
      "| 124 | DT4H-MedRHY1   | Class 1 and 3 antiarrhytmic drugs                                                   |      782436006 | substance         | Substance with sodium channel blocker mechanism of action +415152007 Substance with potassium channel blocker mechanism of action |\n",
      "| 335 | DT4H-MedD234   | Chlorothiazide sodium                                                               |        8252004 | substance         | Chlorothiazide sodium                                                                                                             |\n",
      "| 307 | DT4H-MedD195   | Chlorothiazide sodium                                                               |        8252004 | substance         | Chlorothiazide sodium                                                                                                             |\n",
      "| 106 | DT4H-SM5       | Ex-smoker                                                                           |        8517006 | finding           | Ex-smoker                                                                                                                         |\n",
      "| 103 | DT4H-SM2       | Ex-smoker                                                                           |        8517006 | finding           | Ex-smoker                                                                                                                         |\n",
      "| 110 | DT4H-MedR1     | RAS-inhibitors                                                                      |      866173006 | substance         | Substance with renin-angiotensin system inhibitor mechanism of action                                                             |\n",
      "| 132 | DT4H-MedR1     | RAS-INHIBITORS                                                                      |      866173006 | substance         | RAS-INHIBITORS                                                                                                                    |\n",
      "| 136 | DT4H-MedR113   | Azilsartan medoxomil potassium                                                      |      895431005 | substance         | Azilsartan medoxomil potassium                                                                                                    |\n",
      "| 229 | DT4H-MedAR113  | Azilsartan medoxomil potassium                                                      |      895431005 | substance         | Azilsartan medoxomil potassium                                                                                                    |\n",
      "| 288 | DT4H-MedD161   | Canrenone                                                                           |       96291007 | substance         | Canrenone                                                                                                                         |\n",
      "| 300 | DT4H-MedD188   | Canrenone                                                                           |       96291007 | substance         | Canrenone                                                                                                                         |\n",
      "| 250 | DT4H-MedM115   | Canrenone                                                                           |       96291007 | substance         | Canrenone                                                                                                                         |\n",
      "| 459 | DT4H-MedP163   | resveratrol                                                                         |       96383001 | substance         | resveratrol                                                                                                                       |\n",
      "| 462 | DT4H-MedCO111  | resveratrol                                                                         |       96383001 | substance         | resveratrol                                                                                                                       |\n"
     ]
    }
   ],
   "source": [
    "print(df_variables[df_variables[\"code\"].duplicated(keep=False)].sort_values(by=\"code\").to_markdown())"
   ]
  },
  {
   "cell_type": "code",
   "execution_count": 14,
   "metadata": {},
   "outputs": [
    {
     "data": {
      "text/plain": [
       "(560,)"
      ]
     },
     "execution_count": 14,
     "metadata": {},
     "output_type": "execute_result"
    }
   ],
   "source": [
    "df_variables[\"code\"].drop_duplicates().shape"
   ]
  },
  {
   "cell_type": "code",
   "execution_count": 15,
   "metadata": {},
   "outputs": [
    {
     "data": {
      "text/plain": [
       "<Axes: xlabel='semantic_rel'>"
      ]
     },
     "execution_count": 15,
     "metadata": {},
     "output_type": "execute_result"
    },
    {
     "data": {
      "image/png": "[encoded data removed]",
      "text/plain": [
       "<Figure size 640x480 with 1 Axes>"
      ]
     },
     "metadata": {},
     "output_type": "display_data"
    }
   ],
   "source": [
    "df_symptemist.semantic_rel.value_counts().plot(kind='bar')"
   ]
  },
  {
   "cell_type": "markdown",
   "metadata": {},
   "source": [
    "## Code overlap"
   ]
  },
  {
   "cell_type": "code",
   "execution_count": 16,
   "metadata": {},
   "outputs": [
    {
     "name": "stdout",
     "output_type": "stream",
     "text": [
      "Shape: (728, 13)\n",
      "Unique codes: 653\n",
      "Codes not found: 539\n",
      "|    | ID          | name             |      code | span            | term             | semantic_rel   | semantic_tag   |   count | found   |   count_ID |   EXACT |   NARROW |   NOT_FOUND |\n",
      "|---:|:------------|:-----------------|----------:|:----------------|:-----------------|:---------------|:---------------|--------:|:--------|-----------:|--------:|---------:|------------:|\n",
      "|  0 | DT4HSign-19 | weight loss      |  89362005 | pérdida de peso | Weight loss      | EXACT          | finding        |      34 | True    |         64 |      64 |        0 |           0 |\n",
      "|  1 | DT4HSign-10 | loss of appetite |  79890006 | anorexia        | Loss of appetite | EXACT          | finding        |      30 | True    |         38 |      38 |        0 |           0 |\n",
      "|  2 | DT4HSign-13 | dizziness        | 404640003 | mareo           | Dizziness        | EXACT          | finding        |      20 | True    |         23 |      23 |        0 |           0 |\n",
      "|  3 | DT4HSign-2  | Chest pain       |  29857009 | dolor torácico  | Chest pain       | EXACT          | finding        |      13 | True    |         15 |      15 |        0 |           0 |\n",
      "|  4 | DT4HSign-26 | tachypneoea      | 271823003 | taquipnea       | Tachypnea        | EXACT          | finding        |      10 | True    |         17 |      15 |        2 |           0 | \n",
      "\n",
      "|     | ID           | name              |       code | span      | term              | semantic_rel   | semantic_tag   |   count | found   |   count_ID |   EXACT |   NARROW |   NOT_FOUND |\n",
      "|----:|:-------------|:------------------|-----------:|:----------|:------------------|:---------------|:---------------|--------:|:--------|-----------:|--------:|---------:|------------:|\n",
      "| 294 | DT4H-MedS119 | Fluvastatin       |  387585004 | NOT_FOUND | Fluvastatin       | NOT_FOUND      | substance      |       0 | False   |          0 |       0 |        0 |           0 |\n",
      "| 295 | DT4H-MedS120 | Simvastatin       |  387584000 | NOT_FOUND | Simvastatin       | NOT_FOUND      | substance      |       0 | False   |          0 |       0 |        0 |           0 |\n",
      "| 296 | DT4H-MedS121 | Pravastatin       |  373566006 | NOT_FOUND | Pravastatin       | NOT_FOUND      | substance      |       0 | False   |          0 |       0 |        0 |           0 |\n",
      "| 297 | DT4H-MedS122 | Atorvastatin      |  373444002 | NOT_FOUND | Atorvastatin      | NOT_FOUND      | substance      |       0 | False   |          0 |       0 |        0 |           0 |\n",
      "| 287 | DT4H-MedS112 | Rosuvastatin zinc | 1217216007 | NOT_FOUND | Rosuvastatin zinc | NOT_FOUND      | substance      |       0 | False   |          0 |       0 |        0 |           0 | \n",
      "\n"
     ]
    }
   ],
   "source": [
    "def process_composites(df, df_vars):\n",
    "    '''\n",
    "    Function to extract composite codes. Get the first code that is in the list of variables.\n",
    "    '''\n",
    "\n",
    "    df_data = df.copy()\n",
    "    df_vars = df_vars.copy()\n",
    "\n",
    "    # Get the unique codes from the variables dataframe to process the composites\n",
    "    ls_var_codes = df_vars[\"code\"].drop_duplicates().tolist()\n",
    "\n",
    "    # Merge df_variables with df_symptemist on 'code', filling missing values with \"NOT_FOUND\"\n",
    "    df_data_comp = df_data[df_data[\"semantic_rel\"] == \"COMPOSITE\"].copy()\n",
    "    df_data_comp[\"code_list\"] = df_data_comp[\"code\"].str.split(\"+\")\n",
    "    df_data_comp[\"var_code\"] = df_data_comp[\"code_list\"].apply(lambda code: [c for c in code if c in ls_var_codes][0] if any(c in ls_var_codes for c in code) else code[0])\n",
    "    df_data_comp[\"var_code\"] = df_data_comp[\"var_code\"].astype(str)\n",
    "    df_data_comp.code = df_data_comp.var_code\n",
    "\n",
    "    # Process composites\n",
    "    df_data_no_comp = df_data[df_data[\"semantic_rel\"] != \"COMPOSITE\"].copy()\n",
    "\n",
    "    # Once composites have a single code instead of a list, concatenate the dataframes\n",
    "    df_data = pd.concat([df_data_no_comp, df_data_comp], ignore_index=True)\n",
    "\n",
    "    return df_data\n",
    "\n",
    "def generate_df_codes(df_data, df_vars):\n",
    "\n",
    "    # Make copies of the dataframes to avoid modifying the originals\n",
    "    df_data = df_data.copy()\n",
    "    df_vars = df_vars.copy()\n",
    "\n",
    "    df_data = process_composites(df_data, df_vars)\n",
    "\n",
    "    df_code_ovr = df_vars[[\"ID\", \"name\", \"code\", \"term\", \"semantic_tag\"]].merge(\n",
    "                                                                            df_data[['code', 'span', 'semantic_rel']].reset_index(), \n",
    "                                                                            on='code', \n",
    "                                                                            how='left'\n",
    "                                                                        ).fillna(\"NOT_FOUND\")\n",
    "\n",
    "    # assert (df_code_ovr[\"semantic_rel\"] == \"COMPOSITE\").sum() > 0, \"NO COMPOSITES FOUND\"\n",
    "\n",
    "    # Group by 'code', 'span', and 'semantic_rel', then count occurrences\n",
    "    df_code_ovr = df_code_ovr.groupby(['ID', 'name', 'code', 'span', 'term', 'semantic_rel', 'semantic_tag']).size().reset_index(name='count').sort_values(by=\"count\", ascending=False)\n",
    "\n",
    "    # Set count to 0 for entries with 'span' marked as \"NOT_FOUND\"\n",
    "    df_code_ovr.loc[df_code_ovr.span == \"NOT_FOUND\", \"count\"] = 0\n",
    "\n",
    "    # Rename columns for clarity\n",
    "    df_code_ovr.columns = ['ID', 'name', 'code', 'span', 'term', 'semantic_rel', 'semantic_tag', 'count']\n",
    "\n",
    "    \n",
    "    df_code_ovr[\"found\"] = df_code_ovr[\"span\"] != \"NOT_FOUND\"\n",
    "\n",
    "    # Include column of count by code\n",
    "    df_code_count = df_code_ovr.groupby([\"ID\"]).aggregate({\"count\":\"sum\"}).reset_index()\n",
    "    df_count_group = df_code_count.groupby(\"ID\").aggregate({\"count\":\"sum\"}).reset_index()\n",
    "    df_code_ovr = df_code_ovr.merge(df_count_group, on=\"ID\", suffixes=('', '_ID'))\n",
    "\n",
    "    # Include columns of count by semantic_rel\n",
    "    df_code_rel = df_code_ovr.groupby([\"ID\", \"semantic_rel\"]).aggregate({\"count\":\"sum\"}).reset_index()\n",
    "    df_code_rel = df_code_rel.pivot(index=\"ID\", columns=\"semantic_rel\", values=\"count\").fillna(0).reset_index()\n",
    "    df_code_ovr = df_code_ovr.merge(df_code_rel, on=\"ID\").sort_values(by=\"count\", ascending=False)\n",
    "\n",
    "    # Print the shape of the resulting dataframe\n",
    "    print(\"Shape:\", df_code_ovr.shape)\n",
    "    print(\"Unique codes:\", df_code_ovr[\"ID\"].nunique())\n",
    "    # Print the number of codes not found (count is 0)\n",
    "    print(\"Codes not found:\", df_code_ovr[~df_code_ovr[\"found\"]].code.nunique())\n",
    "\n",
    "    # Print the top 10 codes by count in markdown format\n",
    "    print(df_code_ovr.head().to_markdown(), \"\\n\")\n",
    "\n",
    "    # Print the bottom 10 codes by count in markdown format\n",
    "    print(df_code_ovr.tail().to_markdown(), \"\\n\")\n",
    "\n",
    "    return df_code_ovr\n",
    "\n",
    "df_code_ovr = generate_df_codes(df_symptemist, df_variables)"
   ]
  },
  {
   "cell_type": "code",
   "execution_count": 17,
   "metadata": {},
   "outputs": [
    {
     "data": {
      "text/plain": [
       "<Axes: xlabel='semantic_rel'>"
      ]
     },
     "execution_count": 17,
     "metadata": {},
     "output_type": "execute_result"
    },
    {
     "data": {
      "image/png": "[encoded data removed]",
      "text/plain": [
       "<Figure size 640x480 with 1 Axes>"
      ]
     },
     "metadata": {},
     "output_type": "display_data"
    }
   ],
   "source": [
    "df_code_ovr.semantic_rel.value_counts().plot(kind='bar')"
   ]
  },
  {
   "cell_type": "code",
   "execution_count": 18,
   "metadata": {},
   "outputs": [
    {
     "data": {
      "text/plain": [
       "(653,)"
      ]
     },
     "execution_count": 18,
     "metadata": {},
     "output_type": "execute_result"
    }
   ],
   "source": [
    "df_code_ovr[\"ID\"].drop_duplicates().shape"
   ]
  },
  {
   "cell_type": "code",
   "execution_count": 19,
   "metadata": {},
   "outputs": [
    {
     "data": {
      "application/vnd.plotly.v1+json": {
       "config": {
        "plotlyServerURL": "https://plot.ly"
       },
       "data": [
        {
         "domain": {
          "x": [
           0,
           0.2888888888888889
          ],
          "y": [
           0,
           1
          ]
         },
         "hovertemplate": "found=%{label}<extra></extra>",
         "labels": [
          true,
          true,
          true,
          true,
          true,
          true,
          true,
          true,
          true,
          true,
          true,
          true,
          true,
          true,
          true,
          true,
          true,
          true,
          true,
          true,
          true,
          false,
          false,
          false,
          false,
          false,
          false,
          false,
          false,
          false,
          false,
          false,
          false,
          false,
          false,
          false,
          false,
          false,
          false,
          false,
          false,
          false,
          false,
          false,
          false,
          false,
          false,
          false,
          false,
          false,
          false,
          false,
          false,
          false,
          false,
          false,
          false,
          false,
          false,
          false,
          false,
          false,
          false,
          false,
          false,
          false,
          false,
          false,
          false,
          false,
          false,
          false,
          false,
          false,
          false,
          false,
          false,
          false,
          false,
          false,
          false,
          false,
          false,
          false,
          false,
          false,
          false,
          false,
          false,
          false,
          false,
          false,
          false,
          false,
          false,
          false,
          false,
          false,
          false,
          false,
          false,
          false,
          false,
          false,
          false,
          false,
          false,
          false,
          false,
          false,
          false,
          false,
          false,
          false,
          false,
          false,
          false,
          false,
          false,
          false,
          false,
          false,
          false,
          false,
          false,
          false,
          false,
          false,
          false,
          false,
          false,
          false,
          false,
          false,
          false,
          false,
          false,
          false,
          false,
          false,
          false,
          false,
          false,
          false,
          false,
          false,
          false,
          false,
          false,
          false,
          false,
          false,
          false,
          false,
          false,
          false,
          false,
          false,
          false,
          false,
          false,
          false,
          false,
          false,
          false,
          false,
          false,
          false,
          false,
          false,
          false,
          false,
          false,
          false,
          false,
          false,
          false,
          false,
          false,
          false,
          false,
          false,
          false,
          false,
          false,
          false,
          false,
          false,
          false,
          false,
          false,
          false,
          false,
          false,
          false,
          false,
          false,
          false,
          false,
          false,
          false,
          false,
          false,
          false,
          false,
          false,
          false,
          false,
          false,
          false,
          false,
          false,
          false,
          false,
          false,
          false,
          false,
          false,
          false,
          false,
          false,
          false,
          false,
          false,
          false,
          false,
          false,
          false,
          false,
          false,
          false,
          false,
          false,
          false,
          false,
          false,
          false,
          false,
          false,
          false,
          false,
          false,
          false,
          false,
          false,
          false,
          false,
          false,
          false,
          false,
          false,
          false,
          false,
          false,
          false,
          false,
          false,
          false,
          false,
          false,
          false,
          false,
          false,
          false,
          false,
          false,
          false,
          false,
          false,
          false,
          false,
          false,
          false,
          false,
          false,
          false,
          false,
          false,
          false,
          false,
          false,
          false,
          false,
          false,
          false,
          false,
          false,
          false,
          false,
          false,
          false,
          false,
          false,
          false,
          false,
          false,
          false,
          false,
          false,
          false,
          false,
          false,
          false,
          false,
          false,
          false,
          false,
          false,
          false,
          false,
          false,
          false,
          false,
          false,
          false,
          false,
          false,
          false,
          false,
          false,
          false,
          false,
          false,
          false,
          false,
          false,
          false,
          false,
          false,
          false,
          false,
          false,
          false,
          false,
          false,
          false,
          false,
          false,
          false,
          false,
          false,
          false,
          false,
          false,
          false,
          false,
          false,
          false,
          false,
          false,
          false,
          false,
          false,
          false,
          false,
          false,
          false,
          false,
          false,
          false,
          false,
          false,
          false,
          false,
          false,
          false,
          false,
          false,
          false,
          false,
          false,
          false,
          false,
          false,
          false,
          false,
          false,
          false,
          false,
          false,
          false,
          false,
          false,
          false,
          false,
          false,
          false,
          false,
          false,
          false,
          false,
          false,
          false,
          false,
          false,
          false,
          false,
          false,
          false,
          false,
          false,
          false,
          false,
          false,
          false,
          false,
          false,
          false,
          false,
          false,
          false,
          false,
          false,
          false,
          false,
          false,
          false,
          false,
          false,
          false,
          false,
          false,
          false,
          false,
          false,
          false,
          false,
          false,
          false,
          false,
          false,
          false,
          false,
          false,
          false,
          false,
          false,
          false,
          false,
          false,
          false,
          false,
          false,
          false,
          false,
          false,
          false,
          false,
          false,
          false,
          false,
          false,
          false,
          false,
          false,
          false,
          false,
          false,
          false,
          false,
          false,
          false,
          false,
          false,
          false,
          false,
          false,
          false,
          false,
          false,
          false,
          false,
          false,
          false,
          false,
          false,
          false,
          false,
          false,
          false,
          false,
          false,
          false,
          false,
          false,
          false,
          false,
          false,
          false,
          false,
          false,
          false,
          false,
          false,
          false,
          false,
          false,
          false,
          false,
          false,
          false,
          false,
          false,
          false,
          false,
          false,
          false,
          false,
          false,
          false,
          false,
          false,
          false,
          false,
          false,
          false,
          false,
          false,
          false,
          false,
          false,
          false,
          false,
          false,
          false,
          false,
          false,
          false,
          false,
          false,
          false,
          false,
          false,
          false,
          false,
          false,
          false,
          false,
          false,
          false,
          false,
          false,
          false,
          false,
          false,
          false,
          false,
          false,
          false,
          false,
          false,
          false,
          false,
          false,
          false,
          false,
          false,
          false,
          false,
          false,
          false,
          false,
          false,
          false,
          false,
          false,
          false,
          false,
          false,
          false,
          false,
          false,
          false,
          false,
          false,
          false,
          false,
          false,
          false,
          false,
          false,
          false,
          false,
          false,
          false,
          false,
          false,
          false,
          false,
          false,
          false,
          false,
          false,
          false,
          false,
          false,
          false,
          false,
          false,
          false,
          false,
          false,
          false,
          false,
          false,
          false,
          false,
          false,
          false,
          false,
          false,
          false,
          false,
          false,
          false,
          false,
          false,
          false,
          false,
          false,
          false,
          false,
          false,
          false,
          false,
          false,
          false,
          false,
          false,
          false,
          false,
          false,
          false,
          false,
          false,
          false,
          false,
          false,
          false,
          false,
          false,
          false,
          false,
          false,
          false,
          false,
          false,
          false,
          false,
          false,
          false,
          false,
          false
         ],
         "legendgroup": "",
         "name": "",
         "showlegend": true,
         "textinfo": "label+percent+value",
         "type": "pie"
        },
        {
         "domain": {
          "x": [
           0.35555555555555557,
           0.6444444444444445
          ],
          "y": [
           0,
           1
          ]
         },
         "hovertemplate": "semantic_tag=%{label}<extra></extra>",
         "labels": [
          "finding",
          "finding",
          "finding",
          "finding",
          "finding",
          "disorder",
          "finding",
          "finding",
          "finding",
          "finding",
          "finding",
          "finding",
          "disorder",
          "disorder",
          "finding",
          "finding",
          "finding",
          "finding",
          "finding",
          "finding",
          "finding"
         ],
         "legendgroup": "",
         "name": "",
         "showlegend": true,
         "textinfo": "label+percent+value",
         "type": "pie"
        },
        {
         "domain": {
          "x": [
           0.7111111111111111,
           1
          ],
          "y": [
           0,
           1
          ]
         },
         "hovertemplate": "semantic_rel=%{label}<extra></extra>",
         "labels": [
          "EXACT",
          "EXACT",
          "EXACT",
          "EXACT",
          "EXACT",
          "EXACT",
          "EXACT",
          "EXACT",
          "EXACT",
          "EXACT",
          "EXACT",
          "EXACT",
          "EXACT",
          "EXACT",
          "EXACT",
          "EXACT",
          "EXACT",
          "EXACT",
          "EXACT",
          "EXACT",
          "EXACT",
          "EXACT",
          "EXACT",
          "EXACT",
          "NARROW",
          "EXACT",
          "EXACT",
          "EXACT",
          "NARROW",
          "EXACT",
          "EXACT",
          "EXACT",
          "EXACT",
          "EXACT",
          "EXACT",
          "EXACT",
          "EXACT",
          "EXACT",
          "EXACT",
          "EXACT",
          "EXACT",
          "EXACT",
          "EXACT",
          "EXACT",
          "EXACT",
          "EXACT",
          "EXACT",
          "EXACT",
          "EXACT",
          "EXACT",
          "EXACT",
          "EXACT",
          "NARROW",
          "EXACT",
          "EXACT",
          "EXACT",
          "EXACT",
          "EXACT",
          "EXACT",
          "EXACT",
          "EXACT",
          "EXACT",
          "EXACT",
          "EXACT",
          "EXACT",
          "EXACT",
          "EXACT",
          "EXACT",
          "EXACT",
          "EXACT",
          "EXACT",
          "EXACT",
          "EXACT",
          "EXACT",
          "EXACT",
          "EXACT",
          "EXACT",
          "EXACT",
          "EXACT",
          "EXACT"
         ],
         "legendgroup": "",
         "name": "",
         "showlegend": true,
         "textinfo": "label+percent+value",
         "type": "pie"
        }
       ],
       "layout": {
        "annotations": [
         {
          "font": {
           "size": 16
          },
          "showarrow": false,
          "text": "Found Variables",
          "x": 0.14444444444444446,
          "xanchor": "center",
          "xref": "paper",
          "y": 1,
          "yanchor": "bottom",
          "yref": "paper"
         },
         {
          "font": {
           "size": 16
          },
          "showarrow": false,
          "text": "Semantic Tag Distribution",
          "x": 0.5,
          "xanchor": "center",
          "xref": "paper",
          "y": 1,
          "yanchor": "bottom",
          "yref": "paper"
         },
         {
          "font": {
           "size": 16
          },
          "showarrow": false,
          "text": "Semantic Relationship Distribution (Total Mentions)",
          "x": 0.8555555555555556,
          "xanchor": "center",
          "xref": "paper",
          "y": 1,
          "yanchor": "bottom",
          "yref": "paper"
         }
        ],
        "height": 600,
        "showlegend": false,
        "template": {
         "data": {
          "bar": [
           {
            "error_x": {
             "color": "#2a3f5f"
            },
            "error_y": {
             "color": "#2a3f5f"
            },
            "marker": {
             "line": {
              "color": "#E5ECF6",
              "width": 0.5
             },
             "pattern": {
              "fillmode": "overlay",
              "size": 10,
              "solidity": 0.2
             }
            },
            "type": "bar"
           }
          ],
          "barpolar": [
           {
            "marker": {
             "line": {
              "color": "#E5ECF6",
              "width": 0.5
             },
             "pattern": {
              "fillmode": "overlay",
              "size": 10,
              "solidity": 0.2
             }
            },
            "type": "barpolar"
           }
          ],
          "carpet": [
           {
            "aaxis": {
             "endlinecolor": "#2a3f5f",
             "gridcolor": "white",
             "linecolor": "white",
             "minorgridcolor": "white",
             "startlinecolor": "#2a3f5f"
            },
            "baxis": {
             "endlinecolor": "#2a3f5f",
             "gridcolor": "white",
             "linecolor": "white",
             "minorgridcolor": "white",
             "startlinecolor": "#2a3f5f"
            },
            "type": "carpet"
           }
          ],
          "choropleth": [
           {
            "colorbar": {
             "outlinewidth": 0,
             "ticks": ""
            },
            "type": "choropleth"
           }
          ],
          "contour": [
           {
            "colorbar": {
             "outlinewidth": 0,
             "ticks": ""
            },
            "colorscale": [
             [
              0,
              "#0d0887"
             ],
             [
              0.1111111111111111,
              "#46039f"
             ],
             [
              0.2222222222222222,
              "#7201a8"
             ],
             [
              0.3333333333333333,
              "#9c179e"
             ],
             [
              0.4444444444444444,
              "#bd3786"
             ],
             [
              0.5555555555555556,
              "#d8576b"
             ],
             [
              0.6666666666666666,
              "#ed7953"
             ],
             [
              0.7777777777777778,
              "#fb9f3a"
             ],
             [
              0.8888888888888888,
              "#fdca26"
             ],
             [
              1,
              "#f0f921"
             ]
            ],
            "type": "contour"
           }
          ],
          "contourcarpet": [
           {
            "colorbar": {
             "outlinewidth": 0,
             "ticks": ""
            },
            "type": "contourcarpet"
           }
          ],
          "heatmap": [
           {
            "colorbar": {
             "outlinewidth": 0,
             "ticks": ""
            },
            "colorscale": [
             [
              0,
              "#0d0887"
             ],
             [
              0.1111111111111111,
              "#46039f"
             ],
             [
              0.2222222222222222,
              "#7201a8"
             ],
             [
              0.3333333333333333,
              "#9c179e"
             ],
             [
              0.4444444444444444,
              "#bd3786"
             ],
             [
              0.5555555555555556,
              "#d8576b"
             ],
             [
              0.6666666666666666,
              "#ed7953"
             ],
             [
              0.7777777777777778,
              "#fb9f3a"
             ],
             [
              0.8888888888888888,
              "#fdca26"
             ],
             [
              1,
              "#f0f921"
             ]
            ],
            "type": "heatmap"
           }
          ],
          "heatmapgl": [
           {
            "colorbar": {
             "outlinewidth": 0,
             "ticks": ""
            },
            "colorscale": [
             [
              0,
              "#0d0887"
             ],
             [
              0.1111111111111111,
              "#46039f"
             ],
             [
              0.2222222222222222,
              "#7201a8"
             ],
             [
              0.3333333333333333,
              "#9c179e"
             ],
             [
              0.4444444444444444,
              "#bd3786"
             ],
             [
              0.5555555555555556,
              "#d8576b"
             ],
             [
              0.6666666666666666,
              "#ed7953"
             ],
             [
              0.7777777777777778,
              "#fb9f3a"
             ],
             [
              0.8888888888888888,
              "#fdca26"
             ],
             [
              1,
              "#f0f921"
             ]
            ],
            "type": "heatmapgl"
           }
          ],
          "histogram": [
           {
            "marker": {
             "pattern": {
              "fillmode": "overlay",
              "size": 10,
              "solidity": 0.2
             }
            },
            "type": "histogram"
           }
          ],
          "histogram2d": [
           {
            "colorbar": {
             "outlinewidth": 0,
             "ticks": ""
            },
            "colorscale": [
             [
              0,
              "#0d0887"
             ],
             [
              0.1111111111111111,
              "#46039f"
             ],
             [
              0.2222222222222222,
              "#7201a8"
             ],
             [
              0.3333333333333333,
              "#9c179e"
             ],
             [
              0.4444444444444444,
              "#bd3786"
             ],
             [
              0.5555555555555556,
              "#d8576b"
             ],
             [
              0.6666666666666666,
              "#ed7953"
             ],
             [
              0.7777777777777778,
              "#fb9f3a"
             ],
             [
              0.8888888888888888,
              "#fdca26"
             ],
             [
              1,
              "#f0f921"
             ]
            ],
            "type": "histogram2d"
           }
          ],
          "histogram2dcontour": [
           {
            "colorbar": {
             "outlinewidth": 0,
             "ticks": ""
            },
            "colorscale": [
             [
              0,
              "#0d0887"
             ],
             [
              0.1111111111111111,
              "#46039f"
             ],
             [
              0.2222222222222222,
              "#7201a8"
             ],
             [
              0.3333333333333333,
              "#9c179e"
             ],
             [
              0.4444444444444444,
              "#bd3786"
             ],
             [
              0.5555555555555556,
              "#d8576b"
             ],
             [
              0.6666666666666666,
              "#ed7953"
             ],
             [
              0.7777777777777778,
              "#fb9f3a"
             ],
             [
              0.8888888888888888,
              "#fdca26"
             ],
             [
              1,
              "#f0f921"
             ]
            ],
            "type": "histogram2dcontour"
           }
          ],
          "mesh3d": [
           {
            "colorbar": {
             "outlinewidth": 0,
             "ticks": ""
            },
            "type": "mesh3d"
           }
          ],
          "parcoords": [
           {
            "line": {
             "colorbar": {
              "outlinewidth": 0,
              "ticks": ""
             }
            },
            "type": "parcoords"
           }
          ],
          "pie": [
           {
            "automargin": true,
            "type": "pie"
           }
          ],
          "scatter": [
           {
            "fillpattern": {
             "fillmode": "overlay",
             "size": 10,
             "solidity": 0.2
            },
            "type": "scatter"
           }
          ],
          "scatter3d": [
           {
            "line": {
             "colorbar": {
              "outlinewidth": 0,
              "ticks": ""
             }
            },
            "marker": {
             "colorbar": {
              "outlinewidth": 0,
              "ticks": ""
             }
            },
            "type": "scatter3d"
           }
          ],
          "scattercarpet": [
           {
            "marker": {
             "colorbar": {
              "outlinewidth": 0,
              "ticks": ""
             }
            },
            "type": "scattercarpet"
           }
          ],
          "scattergeo": [
           {
            "marker": {
             "colorbar": {
              "outlinewidth": 0,
              "ticks": ""
             }
            },
            "type": "scattergeo"
           }
          ],
          "scattergl": [
           {
            "marker": {
             "colorbar": {
              "outlinewidth": 0,
              "ticks": ""
             }
            },
            "type": "scattergl"
           }
          ],
          "scattermapbox": [
           {
            "marker": {
             "colorbar": {
              "outlinewidth": 0,
              "ticks": ""
             }
            },
            "type": "scattermapbox"
           }
          ],
          "scatterpolar": [
           {
            "marker": {
             "colorbar": {
              "outlinewidth": 0,
              "ticks": ""
             }
            },
            "type": "scatterpolar"
           }
          ],
          "scatterpolargl": [
           {
            "marker": {
             "colorbar": {
              "outlinewidth": 0,
              "ticks": ""
             }
            },
            "type": "scatterpolargl"
           }
          ],
          "scatterternary": [
           {
            "marker": {
             "colorbar": {
              "outlinewidth": 0,
              "ticks": ""
             }
            },
            "type": "scatterternary"
           }
          ],
          "surface": [
           {
            "colorbar": {
             "outlinewidth": 0,
             "ticks": ""
            },
            "colorscale": [
             [
              0,
              "#0d0887"
             ],
             [
              0.1111111111111111,
              "#46039f"
             ],
             [
              0.2222222222222222,
              "#7201a8"
             ],
             [
              0.3333333333333333,
              "#9c179e"
             ],
             [
              0.4444444444444444,
              "#bd3786"
             ],
             [
              0.5555555555555556,
              "#d8576b"
             ],
             [
              0.6666666666666666,
              "#ed7953"
             ],
             [
              0.7777777777777778,
              "#fb9f3a"
             ],
             [
              0.8888888888888888,
              "#fdca26"
             ],
             [
              1,
              "#f0f921"
             ]
            ],
            "type": "surface"
           }
          ],
          "table": [
           {
            "cells": {
             "fill": {
              "color": "#EBF0F8"
             },
             "line": {
              "color": "white"
             }
            },
            "header": {
             "fill": {
              "color": "#C8D4E3"
             },
             "line": {
              "color": "white"
             }
            },
            "type": "table"
           }
          ]
         },
         "layout": {
          "annotationdefaults": {
           "arrowcolor": "#2a3f5f",
           "arrowhead": 0,
           "arrowwidth": 1
          },
          "autotypenumbers": "strict",
          "coloraxis": {
           "colorbar": {
            "outlinewidth": 0,
            "ticks": ""
           }
          },
          "colorscale": {
           "diverging": [
            [
             0,
             "#8e0152"
            ],
            [
             0.1,
             "#c51b7d"
            ],
            [
             0.2,
             "#de77ae"
            ],
            [
             0.3,
             "#f1b6da"
            ],
            [
             0.4,
             "#fde0ef"
            ],
            [
             0.5,
             "#f7f7f7"
            ],
            [
             0.6,
             "#e6f5d0"
            ],
            [
             0.7,
             "#b8e186"
            ],
            [
             0.8,
             "#7fbc41"
            ],
            [
             0.9,
             "#4d9221"
            ],
            [
             1,
             "#276419"
            ]
           ],
           "sequential": [
            [
             0,
             "#0d0887"
            ],
            [
             0.1111111111111111,
             "#46039f"
            ],
            [
             0.2222222222222222,
             "#7201a8"
            ],
            [
             0.3333333333333333,
             "#9c179e"
            ],
            [
             0.4444444444444444,
             "#bd3786"
            ],
            [
             0.5555555555555556,
             "#d8576b"
            ],
            [
             0.6666666666666666,
             "#ed7953"
            ],
            [
             0.7777777777777778,
             "#fb9f3a"
            ],
            [
             0.8888888888888888,
             "#fdca26"
            ],
            [
             1,
             "#f0f921"
            ]
           ],
           "sequentialminus": [
            [
             0,
             "#0d0887"
            ],
            [
             0.1111111111111111,
             "#46039f"
            ],
            [
             0.2222222222222222,
             "#7201a8"
            ],
            [
             0.3333333333333333,
             "#9c179e"
            ],
            [
             0.4444444444444444,
             "#bd3786"
            ],
            [
             0.5555555555555556,
             "#d8576b"
            ],
            [
             0.6666666666666666,
             "#ed7953"
            ],
            [
             0.7777777777777778,
             "#fb9f3a"
            ],
            [
             0.8888888888888888,
             "#fdca26"
            ],
            [
             1,
             "#f0f921"
            ]
           ]
          },
          "colorway": [
           "#636efa",
           "#EF553B",
           "#00cc96",
           "#ab63fa",
           "#FFA15A",
           "#19d3f3",
           "#FF6692",
           "#B6E880",
           "#FF97FF",
           "#FECB52"
          ],
          "font": {
           "color": "#2a3f5f"
          },
          "geo": {
           "bgcolor": "white",
           "lakecolor": "white",
           "landcolor": "#E5ECF6",
           "showlakes": true,
           "showland": true,
           "subunitcolor": "white"
          },
          "hoverlabel": {
           "align": "left"
          },
          "hovermode": "closest",
          "mapbox": {
           "style": "light"
          },
          "paper_bgcolor": "white",
          "plot_bgcolor": "#E5ECF6",
          "polar": {
           "angularaxis": {
            "gridcolor": "white",
            "linecolor": "white",
            "ticks": ""
           },
           "bgcolor": "#E5ECF6",
           "radialaxis": {
            "gridcolor": "white",
            "linecolor": "white",
            "ticks": ""
           }
          },
          "scene": {
           "xaxis": {
            "backgroundcolor": "#E5ECF6",
            "gridcolor": "white",
            "gridwidth": 2,
            "linecolor": "white",
            "showbackground": true,
            "ticks": "",
            "zerolinecolor": "white"
           },
           "yaxis": {
            "backgroundcolor": "#E5ECF6",
            "gridcolor": "white",
            "gridwidth": 2,
            "linecolor": "white",
            "showbackground": true,
            "ticks": "",
            "zerolinecolor": "white"
           },
           "zaxis": {
            "backgroundcolor": "#E5ECF6",
            "gridcolor": "white",
            "gridwidth": 2,
            "linecolor": "white",
            "showbackground": true,
            "ticks": "",
            "zerolinecolor": "white"
           }
          },
          "shapedefaults": {
           "line": {
            "color": "#2a3f5f"
           }
          },
          "ternary": {
           "aaxis": {
            "gridcolor": "white",
            "linecolor": "white",
            "ticks": ""
           },
           "baxis": {
            "gridcolor": "white",
            "linecolor": "white",
            "ticks": ""
           },
           "bgcolor": "#E5ECF6",
           "caxis": {
            "gridcolor": "white",
            "linecolor": "white",
            "ticks": ""
           }
          },
          "title": {
           "x": 0.05
          },
          "xaxis": {
           "automargin": true,
           "gridcolor": "white",
           "linecolor": "white",
           "ticks": "",
           "title": {
            "standoff": 15
           },
           "zerolinecolor": "white",
           "zerolinewidth": 2
          },
          "yaxis": {
           "automargin": true,
           "gridcolor": "white",
           "linecolor": "white",
           "ticks": "",
           "title": {
            "standoff": 15
           },
           "zerolinecolor": "white",
           "zerolinewidth": 2
          }
         }
        },
        "title": {
         "text": "Distribution of Semantic Relationships and Found Codes"
        }
       }
      }
     },
     "metadata": {},
     "output_type": "display_data"
    },
    {
     "data": {
      "application/vnd.plotly.v1+json": {
       "config": {
        "plotlyServerURL": "https://plot.ly"
       },
       "data": [
        {
         "alignmentgroup": "True",
         "hovertemplate": "semantic_rel=EXACT<br>Count=%{x}<br>Name=%{y}<extra></extra>",
         "legendgroup": "EXACT",
         "marker": {
          "color": "#636efa",
          "pattern": {
           "shape": ""
          }
         },
         "name": "EXACT",
         "offsetgroup": "EXACT",
         "orientation": "h",
         "showlegend": true,
         "textposition": "auto",
         "type": "bar",
         "x": [
          1,
          1,
          1,
          1,
          1,
          1,
          2,
          4,
          5,
          4,
          7,
          7,
          8,
          11,
          14,
          15,
          15,
          15,
          23,
          38,
          64
         ],
         "xaxis": "x",
         "y": [
          "DT4HSign-24-tachycardia (Tachycardia )",
          "DT4HSign-25-irregular pulse ( Pulse irregular )",
          "DT4HSign-16-hepatojugular reflux ( Hepatojugular reflux )",
          "DT4HSign-17-third heart sound ( Third heart sound )",
          "DT4HSign-20-cardiac murmur ( Heart murmur )",
          "DT4HSign-15-elevated jugular venous pressure ( Raised jugular venous pressure )",
          "DT4HSign-23-pleural effusion ( Pleural effusion )",
          "DT4HSign-11-depression (Depressed mood )",
          "DT4HSign-4-orthopnoea (Orthopnea )",
          "DT4HSign-28-hepatomegaly (Large liver )",
          "DT4HSign-22-pulmonary crepitations ( Respiratory crackles )",
          "DT4HSign-14-syncope ( Syncope )",
          "DT4HSign-12-palpitation ( Palpitations )",
          "DT4HSign-30-oliguria ( Oliguria )",
          "DT4HSign-7-fatigue (Fatigue )",
          "DT4HSign-29-ascites ( Ascites )",
          "DT4HSign-2-Chest pain ( Chest pain )",
          "DT4HSign-26-tachypneoea (Tachypnea )",
          "DT4HSign-13-dizziness ( Dizziness )",
          "DT4HSign-10-loss of appetite (Loss of appetite )",
          "DT4HSign-19-weight loss  ( Weight loss )"
         ],
         "yaxis": "y"
        },
        {
         "alignmentgroup": "True",
         "hovertemplate": "semantic_rel=NOT_FOUND<br>Count=%{x}<br>Name=%{y}<extra></extra>",
         "legendgroup": "NOT_FOUND",
         "marker": {
          "color": "#EF553B",
          "pattern": {
           "shape": ""
          }
         },
         "name": "NOT_FOUND",
         "offsetgroup": "NOT_FOUND",
         "orientation": "h",
         "showlegend": true,
         "textposition": "auto",
         "type": "bar",
         "x": [
          0,
          0,
          0,
          0,
          0,
          0,
          0,
          0,
          0,
          0,
          0,
          0,
          0,
          0,
          0,
          0,
          0,
          0,
          0,
          0,
          0
         ],
         "xaxis": "x",
         "y": [
          "DT4HSign-15-elevated jugular venous pressure ( Raised jugular venous pressure )",
          "DT4HSign-20-cardiac murmur ( Heart murmur )",
          "DT4HSign-16-hepatojugular reflux ( Hepatojugular reflux )",
          "DT4HSign-17-third heart sound ( Third heart sound )",
          "DT4HSign-24-tachycardia (Tachycardia )",
          "DT4HSign-25-irregular pulse ( Pulse irregular )",
          "DT4HSign-23-pleural effusion ( Pleural effusion )",
          "DT4HSign-11-depression (Depressed mood )",
          "DT4HSign-4-orthopnoea (Orthopnea )",
          "DT4HSign-28-hepatomegaly (Large liver )",
          "DT4HSign-14-syncope ( Syncope )",
          "DT4HSign-22-pulmonary crepitations ( Respiratory crackles )",
          "DT4HSign-12-palpitation ( Palpitations )",
          "DT4HSign-30-oliguria ( Oliguria )",
          "DT4HSign-7-fatigue (Fatigue )",
          "DT4HSign-29-ascites ( Ascites )",
          "DT4HSign-2-Chest pain ( Chest pain )",
          "DT4HSign-26-tachypneoea (Tachypnea )",
          "DT4HSign-13-dizziness ( Dizziness )",
          "DT4HSign-10-loss of appetite (Loss of appetite )",
          "DT4HSign-19-weight loss  ( Weight loss )"
         ],
         "yaxis": "y"
        },
        {
         "alignmentgroup": "True",
         "hovertemplate": "semantic_rel=NARROW<br>Count=%{x}<br>Name=%{y}<extra></extra>",
         "legendgroup": "NARROW",
         "marker": {
          "color": "#00cc96",
          "pattern": {
           "shape": ""
          }
         },
         "name": "NARROW",
         "offsetgroup": "NARROW",
         "orientation": "h",
         "showlegend": true,
         "textposition": "auto",
         "type": "bar",
         "x": [
          0,
          0,
          0,
          0,
          0,
          0,
          0,
          0,
          0,
          2,
          0,
          0,
          0,
          0,
          0,
          0,
          0,
          2,
          0,
          0,
          0
         ],
         "xaxis": "x",
         "y": [
          "DT4HSign-15-elevated jugular venous pressure ( Raised jugular venous pressure )",
          "DT4HSign-20-cardiac murmur ( Heart murmur )",
          "DT4HSign-24-tachycardia (Tachycardia )",
          "DT4HSign-17-third heart sound ( Third heart sound )",
          "DT4HSign-16-hepatojugular reflux ( Hepatojugular reflux )",
          "DT4HSign-25-irregular pulse ( Pulse irregular )",
          "DT4HSign-23-pleural effusion ( Pleural effusion )",
          "DT4HSign-11-depression (Depressed mood )",
          "DT4HSign-4-orthopnoea (Orthopnea )",
          "DT4HSign-28-hepatomegaly (Large liver )",
          "DT4HSign-14-syncope ( Syncope )",
          "DT4HSign-22-pulmonary crepitations ( Respiratory crackles )",
          "DT4HSign-12-palpitation ( Palpitations )",
          "DT4HSign-30-oliguria ( Oliguria )",
          "DT4HSign-7-fatigue (Fatigue )",
          "DT4HSign-29-ascites ( Ascites )",
          "DT4HSign-2-Chest pain ( Chest pain )",
          "DT4HSign-26-tachypneoea (Tachypnea )",
          "DT4HSign-13-dizziness ( Dizziness )",
          "DT4HSign-10-loss of appetite (Loss of appetite )",
          "DT4HSign-19-weight loss  ( Weight loss )"
         ],
         "yaxis": "y"
        }
       ],
       "layout": {
        "barmode": "relative",
        "height": 600,
        "legend": {
         "title": {
          "text": "semantic_rel"
         },
         "tracegroupgap": 0
        },
        "template": {
         "data": {
          "bar": [
           {
            "error_x": {
             "color": "#2a3f5f"
            },
            "error_y": {
             "color": "#2a3f5f"
            },
            "marker": {
             "line": {
              "color": "#E5ECF6",
              "width": 0.5
             },
             "pattern": {
              "fillmode": "overlay",
              "size": 10,
              "solidity": 0.2
             }
            },
            "type": "bar"
           }
          ],
          "barpolar": [
           {
            "marker": {
             "line": {
              "color": "#E5ECF6",
              "width": 0.5
             },
             "pattern": {
              "fillmode": "overlay",
              "size": 10,
              "solidity": 0.2
             }
            },
            "type": "barpolar"
           }
          ],
          "carpet": [
           {
            "aaxis": {
             "endlinecolor": "#2a3f5f",
             "gridcolor": "white",
             "linecolor": "white",
             "minorgridcolor": "white",
             "startlinecolor": "#2a3f5f"
            },
            "baxis": {
             "endlinecolor": "#2a3f5f",
             "gridcolor": "white",
             "linecolor": "white",
             "minorgridcolor": "white",
             "startlinecolor": "#2a3f5f"
            },
            "type": "carpet"
           }
          ],
          "choropleth": [
           {
            "colorbar": {
             "outlinewidth": 0,
             "ticks": ""
            },
            "type": "choropleth"
           }
          ],
          "contour": [
           {
            "colorbar": {
             "outlinewidth": 0,
             "ticks": ""
            },
            "colorscale": [
             [
              0,
              "#0d0887"
             ],
             [
              0.1111111111111111,
              "#46039f"
             ],
             [
              0.2222222222222222,
              "#7201a8"
             ],
             [
              0.3333333333333333,
              "#9c179e"
             ],
             [
              0.4444444444444444,
              "#bd3786"
             ],
             [
              0.5555555555555556,
              "#d8576b"
             ],
             [
              0.6666666666666666,
              "#ed7953"
             ],
             [
              0.7777777777777778,
              "#fb9f3a"
             ],
             [
              0.8888888888888888,
              "#fdca26"
             ],
             [
              1,
              "#f0f921"
             ]
            ],
            "type": "contour"
           }
          ],
          "contourcarpet": [
           {
            "colorbar": {
             "outlinewidth": 0,
             "ticks": ""
            },
            "type": "contourcarpet"
           }
          ],
          "heatmap": [
           {
            "colorbar": {
             "outlinewidth": 0,
             "ticks": ""
            },
            "colorscale": [
             [
              0,
              "#0d0887"
             ],
             [
              0.1111111111111111,
              "#46039f"
             ],
             [
              0.2222222222222222,
              "#7201a8"
             ],
             [
              0.3333333333333333,
              "#9c179e"
             ],
             [
              0.4444444444444444,
              "#bd3786"
             ],
             [
              0.5555555555555556,
              "#d8576b"
             ],
             [
              0.6666666666666666,
              "#ed7953"
             ],
             [
              0.7777777777777778,
              "#fb9f3a"
             ],
             [
              0.8888888888888888,
              "#fdca26"
             ],
             [
              1,
              "#f0f921"
             ]
            ],
            "type": "heatmap"
           }
          ],
          "heatmapgl": [
           {
            "colorbar": {
             "outlinewidth": 0,
             "ticks": ""
            },
            "colorscale": [
             [
              0,
              "#0d0887"
             ],
             [
              0.1111111111111111,
              "#46039f"
             ],
             [
              0.2222222222222222,
              "#7201a8"
             ],
             [
              0.3333333333333333,
              "#9c179e"
             ],
             [
              0.4444444444444444,
              "#bd3786"
             ],
             [
              0.5555555555555556,
              "#d8576b"
             ],
             [
              0.6666666666666666,
              "#ed7953"
             ],
             [
              0.7777777777777778,
              "#fb9f3a"
             ],
             [
              0.8888888888888888,
              "#fdca26"
             ],
             [
              1,
              "#f0f921"
             ]
            ],
            "type": "heatmapgl"
           }
          ],
          "histogram": [
           {
            "marker": {
             "pattern": {
              "fillmode": "overlay",
              "size": 10,
              "solidity": 0.2
             }
            },
            "type": "histogram"
           }
          ],
          "histogram2d": [
           {
            "colorbar": {
             "outlinewidth": 0,
             "ticks": ""
            },
            "colorscale": [
             [
              0,
              "#0d0887"
             ],
             [
              0.1111111111111111,
              "#46039f"
             ],
             [
              0.2222222222222222,
              "#7201a8"
             ],
             [
              0.3333333333333333,
              "#9c179e"
             ],
             [
              0.4444444444444444,
              "#bd3786"
             ],
             [
              0.5555555555555556,
              "#d8576b"
             ],
             [
              0.6666666666666666,
              "#ed7953"
             ],
             [
              0.7777777777777778,
              "#fb9f3a"
             ],
             [
              0.8888888888888888,
              "#fdca26"
             ],
             [
              1,
              "#f0f921"
             ]
            ],
            "type": "histogram2d"
           }
          ],
          "histogram2dcontour": [
           {
            "colorbar": {
             "outlinewidth": 0,
             "ticks": ""
            },
            "colorscale": [
             [
              0,
              "#0d0887"
             ],
             [
              0.1111111111111111,
              "#46039f"
             ],
             [
              0.2222222222222222,
              "#7201a8"
             ],
             [
              0.3333333333333333,
              "#9c179e"
             ],
             [
              0.4444444444444444,
              "#bd3786"
             ],
             [
              0.5555555555555556,
              "#d8576b"
             ],
             [
              0.6666666666666666,
              "#ed7953"
             ],
             [
              0.7777777777777778,
              "#fb9f3a"
             ],
             [
              0.8888888888888888,
              "#fdca26"
             ],
             [
              1,
              "#f0f921"
             ]
            ],
            "type": "histogram2dcontour"
           }
          ],
          "mesh3d": [
           {
            "colorbar": {
             "outlinewidth": 0,
             "ticks": ""
            },
            "type": "mesh3d"
           }
          ],
          "parcoords": [
           {
            "line": {
             "colorbar": {
              "outlinewidth": 0,
              "ticks": ""
             }
            },
            "type": "parcoords"
           }
          ],
          "pie": [
           {
            "automargin": true,
            "type": "pie"
           }
          ],
          "scatter": [
           {
            "fillpattern": {
             "fillmode": "overlay",
             "size": 10,
             "solidity": 0.2
            },
            "type": "scatter"
           }
          ],
          "scatter3d": [
           {
            "line": {
             "colorbar": {
              "outlinewidth": 0,
              "ticks": ""
             }
            },
            "marker": {
             "colorbar": {
              "outlinewidth": 0,
              "ticks": ""
             }
            },
            "type": "scatter3d"
           }
          ],
          "scattercarpet": [
           {
            "marker": {
             "colorbar": {
              "outlinewidth": 0,
              "ticks": ""
             }
            },
            "type": "scattercarpet"
           }
          ],
          "scattergeo": [
           {
            "marker": {
             "colorbar": {
              "outlinewidth": 0,
              "ticks": ""
             }
            },
            "type": "scattergeo"
           }
          ],
          "scattergl": [
           {
            "marker": {
             "colorbar": {
              "outlinewidth": 0,
              "ticks": ""
             }
            },
            "type": "scattergl"
           }
          ],
          "scattermapbox": [
           {
            "marker": {
             "colorbar": {
              "outlinewidth": 0,
              "ticks": ""
             }
            },
            "type": "scattermapbox"
           }
          ],
          "scatterpolar": [
           {
            "marker": {
             "colorbar": {
              "outlinewidth": 0,
              "ticks": ""
             }
            },
            "type": "scatterpolar"
           }
          ],
          "scatterpolargl": [
           {
            "marker": {
             "colorbar": {
              "outlinewidth": 0,
              "ticks": ""
             }
            },
            "type": "scatterpolargl"
           }
          ],
          "scatterternary": [
           {
            "marker": {
             "colorbar": {
              "outlinewidth": 0,
              "ticks": ""
             }
            },
            "type": "scatterternary"
           }
          ],
          "surface": [
           {
            "colorbar": {
             "outlinewidth": 0,
             "ticks": ""
            },
            "colorscale": [
             [
              0,
              "#0d0887"
             ],
             [
              0.1111111111111111,
              "#46039f"
             ],
             [
              0.2222222222222222,
              "#7201a8"
             ],
             [
              0.3333333333333333,
              "#9c179e"
             ],
             [
              0.4444444444444444,
              "#bd3786"
             ],
             [
              0.5555555555555556,
              "#d8576b"
             ],
             [
              0.6666666666666666,
              "#ed7953"
             ],
             [
              0.7777777777777778,
              "#fb9f3a"
             ],
             [
              0.8888888888888888,
              "#fdca26"
             ],
             [
              1,
              "#f0f921"
             ]
            ],
            "type": "surface"
           }
          ],
          "table": [
           {
            "cells": {
             "fill": {
              "color": "#EBF0F8"
             },
             "line": {
              "color": "white"
             }
            },
            "header": {
             "fill": {
              "color": "#C8D4E3"
             },
             "line": {
              "color": "white"
             }
            },
            "type": "table"
           }
          ]
         },
         "layout": {
          "annotationdefaults": {
           "arrowcolor": "#2a3f5f",
           "arrowhead": 0,
           "arrowwidth": 1
          },
          "autotypenumbers": "strict",
          "coloraxis": {
           "colorbar": {
            "outlinewidth": 0,
            "ticks": ""
           }
          },
          "colorscale": {
           "diverging": [
            [
             0,
             "#8e0152"
            ],
            [
             0.1,
             "#c51b7d"
            ],
            [
             0.2,
             "#de77ae"
            ],
            [
             0.3,
             "#f1b6da"
            ],
            [
             0.4,
             "#fde0ef"
            ],
            [
             0.5,
             "#f7f7f7"
            ],
            [
             0.6,
             "#e6f5d0"
            ],
            [
             0.7,
             "#b8e186"
            ],
            [
             0.8,
             "#7fbc41"
            ],
            [
             0.9,
             "#4d9221"
            ],
            [
             1,
             "#276419"
            ]
           ],
           "sequential": [
            [
             0,
             "#0d0887"
            ],
            [
             0.1111111111111111,
             "#46039f"
            ],
            [
             0.2222222222222222,
             "#7201a8"
            ],
            [
             0.3333333333333333,
             "#9c179e"
            ],
            [
             0.4444444444444444,
             "#bd3786"
            ],
            [
             0.5555555555555556,
             "#d8576b"
            ],
            [
             0.6666666666666666,
             "#ed7953"
            ],
            [
             0.7777777777777778,
             "#fb9f3a"
            ],
            [
             0.8888888888888888,
             "#fdca26"
            ],
            [
             1,
             "#f0f921"
            ]
           ],
           "sequentialminus": [
            [
             0,
             "#0d0887"
            ],
            [
             0.1111111111111111,
             "#46039f"
            ],
            [
             0.2222222222222222,
             "#7201a8"
            ],
            [
             0.3333333333333333,
             "#9c179e"
            ],
            [
             0.4444444444444444,
             "#bd3786"
            ],
            [
             0.5555555555555556,
             "#d8576b"
            ],
            [
             0.6666666666666666,
             "#ed7953"
            ],
            [
             0.7777777777777778,
             "#fb9f3a"
            ],
            [
             0.8888888888888888,
             "#fdca26"
            ],
            [
             1,
             "#f0f921"
            ]
           ]
          },
          "colorway": [
           "#636efa",
           "#EF553B",
           "#00cc96",
           "#ab63fa",
           "#FFA15A",
           "#19d3f3",
           "#FF6692",
           "#B6E880",
           "#FF97FF",
           "#FECB52"
          ],
          "font": {
           "color": "#2a3f5f"
          },
          "geo": {
           "bgcolor": "white",
           "lakecolor": "white",
           "landcolor": "#E5ECF6",
           "showlakes": true,
           "showland": true,
           "subunitcolor": "white"
          },
          "hoverlabel": {
           "align": "left"
          },
          "hovermode": "closest",
          "mapbox": {
           "style": "light"
          },
          "paper_bgcolor": "white",
          "plot_bgcolor": "#E5ECF6",
          "polar": {
           "angularaxis": {
            "gridcolor": "white",
            "linecolor": "white",
            "ticks": ""
           },
           "bgcolor": "#E5ECF6",
           "radialaxis": {
            "gridcolor": "white",
            "linecolor": "white",
            "ticks": ""
           }
          },
          "scene": {
           "xaxis": {
            "backgroundcolor": "#E5ECF6",
            "gridcolor": "white",
            "gridwidth": 2,
            "linecolor": "white",
            "showbackground": true,
            "ticks": "",
            "zerolinecolor": "white"
           },
           "yaxis": {
            "backgroundcolor": "#E5ECF6",
            "gridcolor": "white",
            "gridwidth": 2,
            "linecolor": "white",
            "showbackground": true,
            "ticks": "",
            "zerolinecolor": "white"
           },
           "zaxis": {
            "backgroundcolor": "#E5ECF6",
            "gridcolor": "white",
            "gridwidth": 2,
            "linecolor": "white",
            "showbackground": true,
            "ticks": "",
            "zerolinecolor": "white"
           }
          },
          "shapedefaults": {
           "line": {
            "color": "#2a3f5f"
           }
          },
          "ternary": {
           "aaxis": {
            "gridcolor": "white",
            "linecolor": "white",
            "ticks": ""
           },
           "baxis": {
            "gridcolor": "white",
            "linecolor": "white",
            "ticks": ""
           },
           "bgcolor": "#E5ECF6",
           "caxis": {
            "gridcolor": "white",
            "linecolor": "white",
            "ticks": ""
           }
          },
          "title": {
           "x": 0.05
          },
          "xaxis": {
           "automargin": true,
           "gridcolor": "white",
           "linecolor": "white",
           "ticks": "",
           "title": {
            "standoff": 15
           },
           "zerolinecolor": "white",
           "zerolinewidth": 2
          },
          "yaxis": {
           "automargin": true,
           "gridcolor": "white",
           "linecolor": "white",
           "ticks": "",
           "title": {
            "standoff": 15
           },
           "zerolinecolor": "white",
           "zerolinewidth": 2
          }
         }
        },
        "title": {
         "text": "Codes by Semantic Relationship [Variable Name (SNOMED term)]"
        },
        "xaxis": {
         "anchor": "y",
         "domain": [
          0,
          1
         ],
         "title": {
          "text": "Count"
         }
        },
        "yaxis": {
         "anchor": "x",
         "domain": [
          0,
          1
         ],
         "title": {
          "text": "Name"
         }
        }
       }
      }
     },
     "metadata": {},
     "output_type": "display_data"
    },
    {
     "data": {
      "application/vnd.plotly.v1+json": {
       "config": {
        "plotlyServerURL": "https://plot.ly"
       },
       "data": [
        {
         "alignmentgroup": "True",
         "hovertemplate": "span=pulso arritmico<br>Count=%{x}<br>Name=%{y}<extra></extra>",
         "legendgroup": "pulso arritmico",
         "marker": {
          "color": "#636efa",
          "pattern": {
           "shape": ""
          }
         },
         "name": "pulso arritmico",
         "offsetgroup": "pulso arritmico",
         "orientation": "h",
         "showlegend": true,
         "textposition": "auto",
         "type": "bar",
         "x": [
          1
         ],
         "xaxis": "x",
         "y": [
          "DT4HSign-25-irregular pulse ( Pulse irregular )"
         ],
         "yaxis": "y"
        },
        {
         "alignmentgroup": "True",
         "hovertemplate": "span=taquicardización<br>Count=%{x}<br>Name=%{y}<extra></extra>",
         "legendgroup": "taquicardización",
         "marker": {
          "color": "#EF553B",
          "pattern": {
           "shape": ""
          }
         },
         "name": "taquicardización",
         "offsetgroup": "taquicardización",
         "orientation": "h",
         "showlegend": true,
         "textposition": "auto",
         "type": "bar",
         "x": [
          1
         ],
         "xaxis": "x",
         "y": [
          "DT4HSign-24-tachycardia (Tachycardia )"
         ],
         "yaxis": "y"
        },
        {
         "alignmentgroup": "True",
         "hovertemplate": "span=reflejo hepatoyugular positivo<br>Count=%{x}<br>Name=%{y}<extra></extra>",
         "legendgroup": "reflejo hepatoyugular positivo",
         "marker": {
          "color": "#00cc96",
          "pattern": {
           "shape": ""
          }
         },
         "name": "reflejo hepatoyugular positivo",
         "offsetgroup": "reflejo hepatoyugular positivo",
         "orientation": "h",
         "showlegend": true,
         "textposition": "auto",
         "type": "bar",
         "x": [
          1
         ],
         "xaxis": "x",
         "y": [
          "DT4HSign-16-hepatojugular reflux ( Hepatojugular reflux )"
         ],
         "yaxis": "y"
        },
        {
         "alignmentgroup": "True",
         "hovertemplate": "span=tercer ruido<br>Count=%{x}<br>Name=%{y}<extra></extra>",
         "legendgroup": "tercer ruido",
         "marker": {
          "color": "#ab63fa",
          "pattern": {
           "shape": ""
          }
         },
         "name": "tercer ruido",
         "offsetgroup": "tercer ruido",
         "orientation": "h",
         "showlegend": true,
         "textposition": "auto",
         "type": "bar",
         "x": [
          1
         ],
         "xaxis": "x",
         "y": [
          "DT4HSign-17-third heart sound ( Third heart sound )"
         ],
         "yaxis": "y"
        },
        {
         "alignmentgroup": "True",
         "hovertemplate": "span=soplo cardíaco<br>Count=%{x}<br>Name=%{y}<extra></extra>",
         "legendgroup": "soplo cardíaco",
         "marker": {
          "color": "#FFA15A",
          "pattern": {
           "shape": ""
          }
         },
         "name": "soplo cardíaco",
         "offsetgroup": "soplo cardíaco",
         "orientation": "h",
         "showlegend": true,
         "textposition": "auto",
         "type": "bar",
         "x": [
          1
         ],
         "xaxis": "x",
         "y": [
          "DT4HSign-20-cardiac murmur ( Heart murmur )"
         ],
         "yaxis": "y"
        },
        {
         "alignmentgroup": "True",
         "hovertemplate": "span=aumento de la presión venosa yugular<br>Count=%{x}<br>Name=%{y}<extra></extra>",
         "legendgroup": "aumento de la presión venosa yugular",
         "marker": {
          "color": "#19d3f3",
          "pattern": {
           "shape": ""
          }
         },
         "name": "aumento de la presión venosa yugular",
         "offsetgroup": "aumento de la presión venosa yugular",
         "orientation": "h",
         "showlegend": true,
         "textposition": "auto",
         "type": "bar",
         "x": [
          1
         ],
         "xaxis": "x",
         "y": [
          "DT4HSign-15-elevated jugular venous pressure ( Raised jugular venous pressure )"
         ],
         "yaxis": "y"
        },
        {
         "alignmentgroup": "True",
         "hovertemplate": "span=derrame pleural<br>Count=%{x}<br>Name=%{y}<extra></extra>",
         "legendgroup": "derrame pleural",
         "marker": {
          "color": "#FF6692",
          "pattern": {
           "shape": ""
          }
         },
         "name": "derrame pleural",
         "offsetgroup": "derrame pleural",
         "orientation": "h",
         "showlegend": true,
         "textposition": "auto",
         "type": "bar",
         "x": [
          2
         ],
         "xaxis": "x",
         "y": [
          "DT4HSign-23-pleural effusion ( Pleural effusion )"
         ],
         "yaxis": "y"
        },
        {
         "alignmentgroup": "True",
         "hovertemplate": "span=ánimo decaído<br>Count=%{x}<br>Name=%{y}<extra></extra>",
         "legendgroup": "ánimo decaído",
         "marker": {
          "color": "#B6E880",
          "pattern": {
           "shape": ""
          }
         },
         "name": "ánimo decaído",
         "offsetgroup": "ánimo decaído",
         "orientation": "h",
         "showlegend": true,
         "textposition": "auto",
         "type": "bar",
         "x": [
          1
         ],
         "xaxis": "x",
         "y": [
          "DT4HSign-11-depression (Depressed mood )"
         ],
         "yaxis": "y"
        },
        {
         "alignmentgroup": "True",
         "hovertemplate": "span=ánimo depresivo<br>Count=%{x}<br>Name=%{y}<extra></extra>",
         "legendgroup": "ánimo depresivo",
         "marker": {
          "color": "#FF97FF",
          "pattern": {
           "shape": ""
          }
         },
         "name": "ánimo depresivo",
         "offsetgroup": "ánimo depresivo",
         "orientation": "h",
         "showlegend": true,
         "textposition": "auto",
         "type": "bar",
         "x": [
          1
         ],
         "xaxis": "x",
         "y": [
          "DT4HSign-11-depression (Depressed mood )"
         ],
         "yaxis": "y"
        },
        {
         "alignmentgroup": "True",
         "hovertemplate": "span=humor depresivo<br>Count=%{x}<br>Name=%{y}<extra></extra>",
         "legendgroup": "humor depresivo",
         "marker": {
          "color": "#FECB52",
          "pattern": {
           "shape": ""
          }
         },
         "name": "humor depresivo",
         "offsetgroup": "humor depresivo",
         "orientation": "h",
         "showlegend": true,
         "textposition": "auto",
         "type": "bar",
         "x": [
          1
         ],
         "xaxis": "x",
         "y": [
          "DT4HSign-11-depression (Depressed mood )"
         ],
         "yaxis": "y"
        },
        {
         "alignmentgroup": "True",
         "hovertemplate": "span=ánimo bajo<br>Count=%{x}<br>Name=%{y}<extra></extra>",
         "legendgroup": "ánimo bajo",
         "marker": {
          "color": "#636efa",
          "pattern": {
           "shape": ""
          }
         },
         "name": "ánimo bajo",
         "offsetgroup": "ánimo bajo",
         "orientation": "h",
         "showlegend": true,
         "textposition": "auto",
         "type": "bar",
         "x": [
          1
         ],
         "xaxis": "x",
         "y": [
          "DT4HSign-11-depression (Depressed mood )"
         ],
         "yaxis": "y"
        },
        {
         "alignmentgroup": "True",
         "hovertemplate": "span=ortopnea<br>Count=%{x}<br>Name=%{y}<extra></extra>",
         "legendgroup": "ortopnea",
         "marker": {
          "color": "#EF553B",
          "pattern": {
           "shape": ""
          }
         },
         "name": "ortopnea",
         "offsetgroup": "ortopnea",
         "orientation": "h",
         "showlegend": true,
         "textposition": "auto",
         "type": "bar",
         "x": [
          5
         ],
         "xaxis": "x",
         "y": [
          "DT4HSign-4-orthopnoea (Orthopnea )"
         ],
         "yaxis": "y"
        },
        {
         "alignmentgroup": "True",
         "hovertemplate": "span=Hígado aumentado difusamente de tamaño<br>Count=%{x}<br>Name=%{y}<extra></extra>",
         "legendgroup": "Hígado aumentado difusamente de tamaño",
         "marker": {
          "color": "#00cc96",
          "pattern": {
           "shape": ""
          }
         },
         "name": "Hígado aumentado difusamente de tamaño",
         "offsetgroup": "Hígado aumentado difusamente de tamaño",
         "orientation": "h",
         "showlegend": true,
         "textposition": "auto",
         "type": "bar",
         "x": [
          2
         ],
         "xaxis": "x",
         "y": [
          "DT4HSign-28-hepatomegaly (Large liver )"
         ],
         "yaxis": "y"
        },
        {
         "alignmentgroup": "True",
         "hovertemplate": "span=hepatomegalia dolorosa<br>Count=%{x}<br>Name=%{y}<extra></extra>",
         "legendgroup": "hepatomegalia dolorosa",
         "marker": {
          "color": "#ab63fa",
          "pattern": {
           "shape": ""
          }
         },
         "name": "hepatomegalia dolorosa",
         "offsetgroup": "hepatomegalia dolorosa",
         "orientation": "h",
         "showlegend": true,
         "textposition": "auto",
         "type": "bar",
         "x": [
          2
         ],
         "xaxis": "x",
         "y": [
          "DT4HSign-28-hepatomegaly (Large liver )"
         ],
         "yaxis": "y"
        },
        {
         "alignmentgroup": "True",
         "hovertemplate": "span=Hígado aumentado de tamaño y peso<br>Count=%{x}<br>Name=%{y}<extra></extra>",
         "legendgroup": "Hígado aumentado de tamaño y peso",
         "marker": {
          "color": "#FFA15A",
          "pattern": {
           "shape": ""
          }
         },
         "name": "Hígado aumentado de tamaño y peso",
         "offsetgroup": "Hígado aumentado de tamaño y peso",
         "orientation": "h",
         "showlegend": true,
         "textposition": "auto",
         "type": "bar",
         "x": [
          1
         ],
         "xaxis": "x",
         "y": [
          "DT4HSign-28-hepatomegaly (Large liver )"
         ],
         "yaxis": "y"
        },
        {
         "alignmentgroup": "True",
         "hovertemplate": "span=aumento del hígado<br>Count=%{x}<br>Name=%{y}<extra></extra>",
         "legendgroup": "aumento del hígado",
         "marker": {
          "color": "#19d3f3",
          "pattern": {
           "shape": ""
          }
         },
         "name": "aumento del hígado",
         "offsetgroup": "aumento del hígado",
         "orientation": "h",
         "showlegend": true,
         "textposition": "auto",
         "type": "bar",
         "x": [
          1
         ],
         "xaxis": "x",
         "y": [
          "DT4HSign-28-hepatomegaly (Large liver )"
         ],
         "yaxis": "y"
        },
        {
         "alignmentgroup": "True",
         "hovertemplate": "span=crepitantes<br>Count=%{x}<br>Name=%{y}<extra></extra>",
         "legendgroup": "crepitantes",
         "marker": {
          "color": "#FF6692",
          "pattern": {
           "shape": ""
          }
         },
         "name": "crepitantes",
         "offsetgroup": "crepitantes",
         "orientation": "h",
         "showlegend": true,
         "textposition": "auto",
         "type": "bar",
         "x": [
          3
         ],
         "xaxis": "x",
         "y": [
          "DT4HSign-22-pulmonary crepitations ( Respiratory crackles )"
         ],
         "yaxis": "y"
        },
        {
         "alignmentgroup": "True",
         "hovertemplate": "span=crepitantes en la auscultación pulmonar<br>Count=%{x}<br>Name=%{y}<extra></extra>",
         "legendgroup": "crepitantes en la auscultación pulmonar",
         "marker": {
          "color": "#B6E880",
          "pattern": {
           "shape": ""
          }
         },
         "name": "crepitantes en la auscultación pulmonar",
         "offsetgroup": "crepitantes en la auscultación pulmonar",
         "orientation": "h",
         "showlegend": true,
         "textposition": "auto",
         "type": "bar",
         "x": [
          1
         ],
         "xaxis": "x",
         "y": [
          "DT4HSign-22-pulmonary crepitations ( Respiratory crackles )"
         ],
         "yaxis": "y"
        },
        {
         "alignmentgroup": "True",
         "hovertemplate": "span=síncopes<br>Count=%{x}<br>Name=%{y}<extra></extra>",
         "legendgroup": "síncopes",
         "marker": {
          "color": "#FF97FF",
          "pattern": {
           "shape": ""
          }
         },
         "name": "síncopes",
         "offsetgroup": "síncopes",
         "orientation": "h",
         "showlegend": true,
         "textposition": "auto",
         "type": "bar",
         "x": [
          1
         ],
         "xaxis": "x",
         "y": [
          "DT4HSign-14-syncope ( Syncope )"
         ],
         "yaxis": "y"
        },
        {
         "alignmentgroup": "True",
         "hovertemplate": "span=roncus y crepitantes bilaterales<br>Count=%{x}<br>Name=%{y}<extra></extra>",
         "legendgroup": "roncus y crepitantes bilaterales",
         "marker": {
          "color": "#FECB52",
          "pattern": {
           "shape": ""
          }
         },
         "name": "roncus y crepitantes bilaterales",
         "offsetgroup": "roncus y crepitantes bilaterales",
         "orientation": "h",
         "showlegend": true,
         "textposition": "auto",
         "type": "bar",
         "x": [
          1
         ],
         "xaxis": "x",
         "y": [
          "DT4HSign-22-pulmonary crepitations ( Respiratory crackles )"
         ],
         "yaxis": "y"
        },
        {
         "alignmentgroup": "True",
         "hovertemplate": "span=ruidos sobreañadidos<br>Count=%{x}<br>Name=%{y}<extra></extra>",
         "legendgroup": "ruidos sobreañadidos",
         "marker": {
          "color": "#636efa",
          "pattern": {
           "shape": ""
          }
         },
         "name": "ruidos sobreañadidos",
         "offsetgroup": "ruidos sobreañadidos",
         "orientation": "h",
         "showlegend": true,
         "textposition": "auto",
         "type": "bar",
         "x": [
          1
         ],
         "xaxis": "x",
         "y": [
          "DT4HSign-22-pulmonary crepitations ( Respiratory crackles )"
         ],
         "yaxis": "y"
        },
        {
         "alignmentgroup": "True",
         "hovertemplate": "span=murmullo vesicular con crepitantes en la base<br>Count=%{x}<br>Name=%{y}<extra></extra>",
         "legendgroup": "murmullo vesicular con crepitantes en la base",
         "marker": {
          "color": "#EF553B",
          "pattern": {
           "shape": ""
          }
         },
         "name": "murmullo vesicular con crepitantes en la base",
         "offsetgroup": "murmullo vesicular con crepitantes en la base",
         "orientation": "h",
         "showlegend": true,
         "textposition": "auto",
         "type": "bar",
         "x": [
          1
         ],
         "xaxis": "x",
         "y": [
          "DT4HSign-22-pulmonary crepitations ( Respiratory crackles )"
         ],
         "yaxis": "y"
        },
        {
         "alignmentgroup": "True",
         "hovertemplate": "span=episodio sincopal<br>Count=%{x}<br>Name=%{y}<extra></extra>",
         "legendgroup": "episodio sincopal",
         "marker": {
          "color": "#00cc96",
          "pattern": {
           "shape": ""
          }
         },
         "name": "episodio sincopal",
         "offsetgroup": "episodio sincopal",
         "orientation": "h",
         "showlegend": true,
         "textposition": "auto",
         "type": "bar",
         "x": [
          1
         ],
         "xaxis": "x",
         "y": [
          "DT4HSign-14-syncope ( Syncope )"
         ],
         "yaxis": "y"
        },
        {
         "alignmentgroup": "True",
         "hovertemplate": "span=síncope<br>Count=%{x}<br>Name=%{y}<extra></extra>",
         "legendgroup": "síncope",
         "marker": {
          "color": "#ab63fa",
          "pattern": {
           "shape": ""
          }
         },
         "name": "síncope",
         "offsetgroup": "síncope",
         "orientation": "h",
         "showlegend": true,
         "textposition": "auto",
         "type": "bar",
         "x": [
          3
         ],
         "xaxis": "x",
         "y": [
          "DT4HSign-14-syncope ( Syncope )"
         ],
         "yaxis": "y"
        },
        {
         "alignmentgroup": "True",
         "hovertemplate": "span=cuadro sincopal<br>Count=%{x}<br>Name=%{y}<extra></extra>",
         "legendgroup": "cuadro sincopal",
         "marker": {
          "color": "#FFA15A",
          "pattern": {
           "shape": ""
          }
         },
         "name": "cuadro sincopal",
         "offsetgroup": "cuadro sincopal",
         "orientation": "h",
         "showlegend": true,
         "textposition": "auto",
         "type": "bar",
         "x": [
          2
         ],
         "xaxis": "x",
         "y": [
          "DT4HSign-14-syncope ( Syncope )"
         ],
         "yaxis": "y"
        },
        {
         "alignmentgroup": "True",
         "hovertemplate": "span=sensación de palpitaciones<br>Count=%{x}<br>Name=%{y}<extra></extra>",
         "legendgroup": "sensación de palpitaciones",
         "marker": {
          "color": "#19d3f3",
          "pattern": {
           "shape": ""
          }
         },
         "name": "sensación de palpitaciones",
         "offsetgroup": "sensación de palpitaciones",
         "orientation": "h",
         "showlegend": true,
         "textposition": "auto",
         "type": "bar",
         "x": [
          1
         ],
         "xaxis": "x",
         "y": [
          "DT4HSign-12-palpitation ( Palpitations )"
         ],
         "yaxis": "y"
        },
        {
         "alignmentgroup": "True",
         "hovertemplate": "span=palpitaciones<br>Count=%{x}<br>Name=%{y}<extra></extra>",
         "legendgroup": "palpitaciones",
         "marker": {
          "color": "#FF6692",
          "pattern": {
           "shape": ""
          }
         },
         "name": "palpitaciones",
         "offsetgroup": "palpitaciones",
         "orientation": "h",
         "showlegend": true,
         "textposition": "auto",
         "type": "bar",
         "x": [
          7
         ],
         "xaxis": "x",
         "y": [
          "DT4HSign-12-palpitation ( Palpitations )"
         ],
         "yaxis": "y"
        },
        {
         "alignmentgroup": "True",
         "hovertemplate": "span=oligoanuria<br>Count=%{x}<br>Name=%{y}<extra></extra>",
         "legendgroup": "oligoanuria",
         "marker": {
          "color": "#B6E880",
          "pattern": {
           "shape": ""
          }
         },
         "name": "oligoanuria",
         "offsetgroup": "oligoanuria",
         "orientation": "h",
         "showlegend": true,
         "textposition": "auto",
         "type": "bar",
         "x": [
          5
         ],
         "xaxis": "x",
         "y": [
          "DT4HSign-30-oliguria ( Oliguria )"
         ],
         "yaxis": "y"
        },
        {
         "alignmentgroup": "True",
         "hovertemplate": "span=oligoanuria progresiva<br>Count=%{x}<br>Name=%{y}<extra></extra>",
         "legendgroup": "oligoanuria progresiva",
         "marker": {
          "color": "#FF97FF",
          "pattern": {
           "shape": ""
          }
         },
         "name": "oligoanuria progresiva",
         "offsetgroup": "oligoanuria progresiva",
         "orientation": "h",
         "showlegend": true,
         "textposition": "auto",
         "type": "bar",
         "x": [
          1
         ],
         "xaxis": "x",
         "y": [
          "DT4HSign-30-oliguria ( Oliguria )"
         ],
         "yaxis": "y"
        },
        {
         "alignmentgroup": "True",
         "hovertemplate": "span=oliguria<br>Count=%{x}<br>Name=%{y}<extra></extra>",
         "legendgroup": "oliguria",
         "marker": {
          "color": "#FECB52",
          "pattern": {
           "shape": ""
          }
         },
         "name": "oliguria",
         "offsetgroup": "oliguria",
         "orientation": "h",
         "showlegend": true,
         "textposition": "auto",
         "type": "bar",
         "x": [
          5
         ],
         "xaxis": "x",
         "y": [
          "DT4HSign-30-oliguria ( Oliguria )"
         ],
         "yaxis": "y"
        },
        {
         "alignmentgroup": "True",
         "hovertemplate": "span=fatiga<br>Count=%{x}<br>Name=%{y}<extra></extra>",
         "legendgroup": "fatiga",
         "marker": {
          "color": "#636efa",
          "pattern": {
           "shape": ""
          }
         },
         "name": "fatiga",
         "offsetgroup": "fatiga",
         "orientation": "h",
         "showlegend": true,
         "textposition": "auto",
         "type": "bar",
         "x": [
          5
         ],
         "xaxis": "x",
         "y": [
          "DT4HSign-7-fatigue (Fatigue )"
         ],
         "yaxis": "y"
        },
        {
         "alignmentgroup": "True",
         "hovertemplate": "span=cansancio<br>Count=%{x}<br>Name=%{y}<extra></extra>",
         "legendgroup": "cansancio",
         "marker": {
          "color": "#EF553B",
          "pattern": {
           "shape": ""
          }
         },
         "name": "cansancio",
         "offsetgroup": "cansancio",
         "orientation": "h",
         "showlegend": true,
         "textposition": "auto",
         "type": "bar",
         "x": [
          6
         ],
         "xaxis": "x",
         "y": [
          "DT4HSign-7-fatigue (Fatigue )"
         ],
         "yaxis": "y"
        },
        {
         "alignmentgroup": "True",
         "hovertemplate": "span=sensación de fatiga<br>Count=%{x}<br>Name=%{y}<extra></extra>",
         "legendgroup": "sensación de fatiga",
         "marker": {
          "color": "#00cc96",
          "pattern": {
           "shape": ""
          }
         },
         "name": "sensación de fatiga",
         "offsetgroup": "sensación de fatiga",
         "orientation": "h",
         "showlegend": true,
         "textposition": "auto",
         "type": "bar",
         "x": [
          3
         ],
         "xaxis": "x",
         "y": [
          "DT4HSign-7-fatigue (Fatigue )"
         ],
         "yaxis": "y"
        },
        {
         "alignmentgroup": "True",
         "hovertemplate": "span=molestias pectorales<br>Count=%{x}<br>Name=%{y}<extra></extra>",
         "legendgroup": "molestias pectorales",
         "marker": {
          "color": "#ab63fa",
          "pattern": {
           "shape": ""
          }
         },
         "name": "molestias pectorales",
         "offsetgroup": "molestias pectorales",
         "orientation": "h",
         "showlegend": true,
         "textposition": "auto",
         "type": "bar",
         "x": [
          1
         ],
         "xaxis": "x",
         "y": [
          "DT4HSign-2-Chest pain ( Chest pain )"
         ],
         "yaxis": "y"
        },
        {
         "alignmentgroup": "True",
         "hovertemplate": "span=dolor torácico bilateral<br>Count=%{x}<br>Name=%{y}<extra></extra>",
         "legendgroup": "dolor torácico bilateral",
         "marker": {
          "color": "#FFA15A",
          "pattern": {
           "shape": ""
          }
         },
         "name": "dolor torácico bilateral",
         "offsetgroup": "dolor torácico bilateral",
         "orientation": "h",
         "showlegend": true,
         "textposition": "auto",
         "type": "bar",
         "x": [
          1
         ],
         "xaxis": "x",
         "y": [
          "DT4HSign-2-Chest pain ( Chest pain )"
         ],
         "yaxis": "y"
        },
        {
         "alignmentgroup": "True",
         "hovertemplate": "span=Ascitis<br>Count=%{x}<br>Name=%{y}<extra></extra>",
         "legendgroup": "Ascitis",
         "marker": {
          "color": "#19d3f3",
          "pattern": {
           "shape": ""
          }
         },
         "name": "Ascitis",
         "offsetgroup": "Ascitis",
         "orientation": "h",
         "showlegend": true,
         "textposition": "auto",
         "type": "bar",
         "x": [
          2
         ],
         "xaxis": "x",
         "y": [
          "DT4HSign-29-ascites ( Ascites )"
         ],
         "yaxis": "y"
        },
        {
         "alignmentgroup": "True",
         "hovertemplate": "span=ascitis<br>Count=%{x}<br>Name=%{y}<extra></extra>",
         "legendgroup": "ascitis",
         "marker": {
          "color": "#FF6692",
          "pattern": {
           "shape": ""
          }
         },
         "name": "ascitis",
         "offsetgroup": "ascitis",
         "orientation": "h",
         "showlegend": true,
         "textposition": "auto",
         "type": "bar",
         "x": [
          9
         ],
         "xaxis": "x",
         "y": [
          "DT4HSign-29-ascites ( Ascites )"
         ],
         "yaxis": "y"
        },
        {
         "alignmentgroup": "True",
         "hovertemplate": "span=líquido ascítico peritoneal,<br>Count=%{x}<br>Name=%{y}<extra></extra>",
         "legendgroup": "líquido ascítico peritoneal,",
         "marker": {
          "color": "#B6E880",
          "pattern": {
           "shape": ""
          }
         },
         "name": "líquido ascítico peritoneal,",
         "offsetgroup": "líquido ascítico peritoneal,",
         "orientation": "h",
         "showlegend": true,
         "textposition": "auto",
         "type": "bar",
         "x": [
          1
         ],
         "xaxis": "x",
         "y": [
          "DT4HSign-29-ascites ( Ascites )"
         ],
         "yaxis": "y"
        },
        {
         "alignmentgroup": "True",
         "hovertemplate": "span=líquido ascítico<br>Count=%{x}<br>Name=%{y}<extra></extra>",
         "legendgroup": "líquido ascítico",
         "marker": {
          "color": "#FF97FF",
          "pattern": {
           "shape": ""
          }
         },
         "name": "líquido ascítico",
         "offsetgroup": "líquido ascítico",
         "orientation": "h",
         "showlegend": true,
         "textposition": "auto",
         "type": "bar",
         "x": [
          2
         ],
         "xaxis": "x",
         "y": [
          "DT4HSign-29-ascites ( Ascites )"
         ],
         "yaxis": "y"
        },
        {
         "alignmentgroup": "True",
         "hovertemplate": "span=dolor torácico<br>Count=%{x}<br>Name=%{y}<extra></extra>",
         "legendgroup": "dolor torácico",
         "marker": {
          "color": "#FECB52",
          "pattern": {
           "shape": ""
          }
         },
         "name": "dolor torácico",
         "offsetgroup": "dolor torácico",
         "orientation": "h",
         "showlegend": true,
         "textposition": "auto",
         "type": "bar",
         "x": [
          13
         ],
         "xaxis": "x",
         "y": [
          "DT4HSign-2-Chest pain ( Chest pain )"
         ],
         "yaxis": "y"
        },
        {
         "alignmentgroup": "True",
         "hovertemplate": "span=ascitis de distribución difusa<br>Count=%{x}<br>Name=%{y}<extra></extra>",
         "legendgroup": "ascitis de distribución difusa",
         "marker": {
          "color": "#636efa",
          "pattern": {
           "shape": ""
          }
         },
         "name": "ascitis de distribución difusa",
         "offsetgroup": "ascitis de distribución difusa",
         "orientation": "h",
         "showlegend": true,
         "textposition": "auto",
         "type": "bar",
         "x": [
          1
         ],
         "xaxis": "x",
         "y": [
          "DT4HSign-29-ascites ( Ascites )"
         ],
         "yaxis": "y"
        },
        {
         "alignmentgroup": "True",
         "hovertemplate": "span=taquipnea<br>Count=%{x}<br>Name=%{y}<extra></extra>",
         "legendgroup": "taquipnea",
         "marker": {
          "color": "#EF553B",
          "pattern": {
           "shape": ""
          }
         },
         "name": "taquipnea",
         "offsetgroup": "taquipnea",
         "orientation": "h",
         "showlegend": true,
         "textposition": "auto",
         "type": "bar",
         "x": [
          10
         ],
         "xaxis": "x",
         "y": [
          "DT4HSign-26-tachypneoea (Tachypnea )"
         ],
         "yaxis": "y"
        },
        {
         "alignmentgroup": "True",
         "hovertemplate": "span=taquipnea persistente<br>Count=%{x}<br>Name=%{y}<extra></extra>",
         "legendgroup": "taquipnea persistente",
         "marker": {
          "color": "#00cc96",
          "pattern": {
           "shape": ""
          }
         },
         "name": "taquipnea persistente",
         "offsetgroup": "taquipnea persistente",
         "orientation": "h",
         "showlegend": true,
         "textposition": "auto",
         "type": "bar",
         "x": [
          1
         ],
         "xaxis": "x",
         "y": [
          "DT4HSign-26-tachypneoea (Tachypnea )"
         ],
         "yaxis": "y"
        },
        {
         "alignmentgroup": "True",
         "hovertemplate": "span=taquipneica<br>Count=%{x}<br>Name=%{y}<extra></extra>",
         "legendgroup": "taquipneica",
         "marker": {
          "color": "#ab63fa",
          "pattern": {
           "shape": ""
          }
         },
         "name": "taquipneica",
         "offsetgroup": "taquipneica",
         "orientation": "h",
         "showlegend": true,
         "textposition": "auto",
         "type": "bar",
         "x": [
          1
         ],
         "xaxis": "x",
         "y": [
          "DT4HSign-26-tachypneoea (Tachypnea )"
         ],
         "yaxis": "y"
        },
        {
         "alignmentgroup": "True",
         "hovertemplate": "span=taquipneico<br>Count=%{x}<br>Name=%{y}<extra></extra>",
         "legendgroup": "taquipneico",
         "marker": {
          "color": "#FFA15A",
          "pattern": {
           "shape": ""
          }
         },
         "name": "taquipneico",
         "offsetgroup": "taquipneico",
         "orientation": "h",
         "showlegend": true,
         "textposition": "auto",
         "type": "bar",
         "x": [
          3
         ],
         "xaxis": "x",
         "y": [
          "DT4HSign-26-tachypneoea (Tachypnea )"
         ],
         "yaxis": "y"
        },
        {
         "alignmentgroup": "True",
         "hovertemplate": "span=aumento de la frecuencia respiratoria<br>Count=%{x}<br>Name=%{y}<extra></extra>",
         "legendgroup": "aumento de la frecuencia respiratoria",
         "marker": {
          "color": "#19d3f3",
          "pattern": {
           "shape": ""
          }
         },
         "name": "aumento de la frecuencia respiratoria",
         "offsetgroup": "aumento de la frecuencia respiratoria",
         "orientation": "h",
         "showlegend": true,
         "textposition": "auto",
         "type": "bar",
         "x": [
          1
         ],
         "xaxis": "x",
         "y": [
          "DT4HSign-26-tachypneoea (Tachypnea )"
         ],
         "yaxis": "y"
        },
        {
         "alignmentgroup": "True",
         "hovertemplate": "span=taquipnea en reposo<br>Count=%{x}<br>Name=%{y}<extra></extra>",
         "legendgroup": "taquipnea en reposo",
         "marker": {
          "color": "#FF6692",
          "pattern": {
           "shape": ""
          }
         },
         "name": "taquipnea en reposo",
         "offsetgroup": "taquipnea en reposo",
         "orientation": "h",
         "showlegend": true,
         "textposition": "auto",
         "type": "bar",
         "x": [
          1
         ],
         "xaxis": "x",
         "y": [
          "DT4HSign-26-tachypneoea (Tachypnea )"
         ],
         "yaxis": "y"
        },
        {
         "alignmentgroup": "True",
         "hovertemplate": "span=mareo<br>Count=%{x}<br>Name=%{y}<extra></extra>",
         "legendgroup": "mareo",
         "marker": {
          "color": "#B6E880",
          "pattern": {
           "shape": ""
          }
         },
         "name": "mareo",
         "offsetgroup": "mareo",
         "orientation": "h",
         "showlegend": true,
         "textposition": "auto",
         "type": "bar",
         "x": [
          20
         ],
         "xaxis": "x",
         "y": [
          "DT4HSign-13-dizziness ( Dizziness )"
         ],
         "yaxis": "y"
        },
        {
         "alignmentgroup": "True",
         "hovertemplate": "span=mareos<br>Count=%{x}<br>Name=%{y}<extra></extra>",
         "legendgroup": "mareos",
         "marker": {
          "color": "#FF97FF",
          "pattern": {
           "shape": ""
          }
         },
         "name": "mareos",
         "offsetgroup": "mareos",
         "orientation": "h",
         "showlegend": true,
         "textposition": "auto",
         "type": "bar",
         "x": [
          3
         ],
         "xaxis": "x",
         "y": [
          "DT4HSign-13-dizziness ( Dizziness )"
         ],
         "yaxis": "y"
        },
        {
         "alignmentgroup": "True",
         "hovertemplate": "span=pérdida de apetito<br>Count=%{x}<br>Name=%{y}<extra></extra>",
         "legendgroup": "pérdida de apetito",
         "marker": {
          "color": "#FECB52",
          "pattern": {
           "shape": ""
          }
         },
         "name": "pérdida de apetito",
         "offsetgroup": "pérdida de apetito",
         "orientation": "h",
         "showlegend": true,
         "textposition": "auto",
         "type": "bar",
         "x": [
          1
         ],
         "xaxis": "x",
         "y": [
          "DT4HSign-10-loss of appetite (Loss of appetite )"
         ],
         "yaxis": "y"
        },
        {
         "alignmentgroup": "True",
         "hovertemplate": "span=anorexia moderada<br>Count=%{x}<br>Name=%{y}<extra></extra>",
         "legendgroup": "anorexia moderada",
         "marker": {
          "color": "#636efa",
          "pattern": {
           "shape": ""
          }
         },
         "name": "anorexia moderada",
         "offsetgroup": "anorexia moderada",
         "orientation": "h",
         "showlegend": true,
         "textposition": "auto",
         "type": "bar",
         "x": [
          1
         ],
         "xaxis": "x",
         "y": [
          "DT4HSign-10-loss of appetite (Loss of appetite )"
         ],
         "yaxis": "y"
        },
        {
         "alignmentgroup": "True",
         "hovertemplate": "span=pérdida apetito<br>Count=%{x}<br>Name=%{y}<extra></extra>",
         "legendgroup": "pérdida apetito",
         "marker": {
          "color": "#EF553B",
          "pattern": {
           "shape": ""
          }
         },
         "name": "pérdida apetito",
         "offsetgroup": "pérdida apetito",
         "orientation": "h",
         "showlegend": true,
         "textposition": "auto",
         "type": "bar",
         "x": [
          1
         ],
         "xaxis": "x",
         "y": [
          "DT4HSign-10-loss of appetite (Loss of appetite )"
         ],
         "yaxis": "y"
        },
        {
         "alignmentgroup": "True",
         "hovertemplate": "span=hiporexia<br>Count=%{x}<br>Name=%{y}<extra></extra>",
         "legendgroup": "hiporexia",
         "marker": {
          "color": "#00cc96",
          "pattern": {
           "shape": ""
          }
         },
         "name": "hiporexia",
         "offsetgroup": "hiporexia",
         "orientation": "h",
         "showlegend": true,
         "textposition": "auto",
         "type": "bar",
         "x": [
          4
         ],
         "xaxis": "x",
         "y": [
          "DT4HSign-10-loss of appetite (Loss of appetite )"
         ],
         "yaxis": "y"
        },
        {
         "alignmentgroup": "True",
         "hovertemplate": "span=anorexia<br>Count=%{x}<br>Name=%{y}<extra></extra>",
         "legendgroup": "anorexia",
         "marker": {
          "color": "#ab63fa",
          "pattern": {
           "shape": ""
          }
         },
         "name": "anorexia",
         "offsetgroup": "anorexia",
         "orientation": "h",
         "showlegend": true,
         "textposition": "auto",
         "type": "bar",
         "x": [
          30
         ],
         "xaxis": "x",
         "y": [
          "DT4HSign-10-loss of appetite (Loss of appetite )"
         ],
         "yaxis": "y"
        },
        {
         "alignmentgroup": "True",
         "hovertemplate": "span=falta de apetito<br>Count=%{x}<br>Name=%{y}<extra></extra>",
         "legendgroup": "falta de apetito",
         "marker": {
          "color": "#FFA15A",
          "pattern": {
           "shape": ""
          }
         },
         "name": "falta de apetito",
         "offsetgroup": "falta de apetito",
         "orientation": "h",
         "showlegend": true,
         "textposition": "auto",
         "type": "bar",
         "x": [
          1
         ],
         "xaxis": "x",
         "y": [
          "DT4HSign-10-loss of appetite (Loss of appetite )"
         ],
         "yaxis": "y"
        },
        {
         "alignmentgroup": "True",
         "hovertemplate": "span=perder peso<br>Count=%{x}<br>Name=%{y}<extra></extra>",
         "legendgroup": "perder peso",
         "marker": {
          "color": "#19d3f3",
          "pattern": {
           "shape": ""
          }
         },
         "name": "perder peso",
         "offsetgroup": "perder peso",
         "orientation": "h",
         "showlegend": true,
         "textposition": "auto",
         "type": "bar",
         "x": [
          2
         ],
         "xaxis": "x",
         "y": [
          "DT4HSign-19-weight loss  ( Weight loss )"
         ],
         "yaxis": "y"
        },
        {
         "alignmentgroup": "True",
         "hovertemplate": "span=pérdida de 8 kg de peso<br>Count=%{x}<br>Name=%{y}<extra></extra>",
         "legendgroup": "pérdida de 8 kg de peso",
         "marker": {
          "color": "#FF6692",
          "pattern": {
           "shape": ""
          }
         },
         "name": "pérdida de 8 kg de peso",
         "offsetgroup": "pérdida de 8 kg de peso",
         "orientation": "h",
         "showlegend": true,
         "textposition": "auto",
         "type": "bar",
         "x": [
          1
         ],
         "xaxis": "x",
         "y": [
          "DT4HSign-19-weight loss  ( Weight loss )"
         ],
         "yaxis": "y"
        },
        {
         "alignmentgroup": "True",
         "hovertemplate": "span=pérdida de 10 kg de peso<br>Count=%{x}<br>Name=%{y}<extra></extra>",
         "legendgroup": "pérdida de 10 kg de peso",
         "marker": {
          "color": "#B6E880",
          "pattern": {
           "shape": ""
          }
         },
         "name": "pérdida de 10 kg de peso",
         "offsetgroup": "pérdida de 10 kg de peso",
         "orientation": "h",
         "showlegend": true,
         "textposition": "auto",
         "type": "bar",
         "x": [
          1
         ],
         "xaxis": "x",
         "y": [
          "DT4HSign-19-weight loss  ( Weight loss )"
         ],
         "yaxis": "y"
        },
        {
         "alignmentgroup": "True",
         "hovertemplate": "span=pérdida de 7 kg de peso<br>Count=%{x}<br>Name=%{y}<extra></extra>",
         "legendgroup": "pérdida de 7 kg de peso",
         "marker": {
          "color": "#FF97FF",
          "pattern": {
           "shape": ""
          }
         },
         "name": "pérdida de 7 kg de peso",
         "offsetgroup": "pérdida de 7 kg de peso",
         "orientation": "h",
         "showlegend": true,
         "textposition": "auto",
         "type": "bar",
         "x": [
          3
         ],
         "xaxis": "x",
         "y": [
          "DT4HSign-19-weight loss  ( Weight loss )"
         ],
         "yaxis": "y"
        },
        {
         "alignmentgroup": "True",
         "hovertemplate": "span=pérdida ponderal<br>Count=%{x}<br>Name=%{y}<extra></extra>",
         "legendgroup": "pérdida ponderal",
         "marker": {
          "color": "#FECB52",
          "pattern": {
           "shape": ""
          }
         },
         "name": "pérdida ponderal",
         "offsetgroup": "pérdida ponderal",
         "orientation": "h",
         "showlegend": true,
         "textposition": "auto",
         "type": "bar",
         "x": [
          4
         ],
         "xaxis": "x",
         "y": [
          "DT4HSign-19-weight loss  ( Weight loss )"
         ],
         "yaxis": "y"
        },
        {
         "alignmentgroup": "True",
         "hovertemplate": "span=pérdida de peso<br>Count=%{x}<br>Name=%{y}<extra></extra>",
         "legendgroup": "pérdida de peso",
         "marker": {
          "color": "#636efa",
          "pattern": {
           "shape": ""
          }
         },
         "name": "pérdida de peso",
         "offsetgroup": "pérdida de peso",
         "orientation": "h",
         "showlegend": true,
         "textposition": "auto",
         "type": "bar",
         "x": [
          34
         ],
         "xaxis": "x",
         "y": [
          "DT4HSign-19-weight loss  ( Weight loss )"
         ],
         "yaxis": "y"
        },
        {
         "alignmentgroup": "True",
         "hovertemplate": "span=perdido unos 20 kg de peso<br>Count=%{x}<br>Name=%{y}<extra></extra>",
         "legendgroup": "perdido unos 20 kg de peso",
         "marker": {
          "color": "#EF553B",
          "pattern": {
           "shape": ""
          }
         },
         "name": "perdido unos 20 kg de peso",
         "offsetgroup": "perdido unos 20 kg de peso",
         "orientation": "h",
         "showlegend": true,
         "textposition": "auto",
         "type": "bar",
         "x": [
          1
         ],
         "xaxis": "x",
         "y": [
          "DT4HSign-19-weight loss  ( Weight loss )"
         ],
         "yaxis": "y"
        },
        {
         "alignmentgroup": "True",
         "hovertemplate": "span=Pérdida de 2-3 Kg de peso<br>Count=%{x}<br>Name=%{y}<extra></extra>",
         "legendgroup": "Pérdida de 2-3 Kg de peso",
         "marker": {
          "color": "#00cc96",
          "pattern": {
           "shape": ""
          }
         },
         "name": "Pérdida de 2-3 Kg de peso",
         "offsetgroup": "Pérdida de 2-3 Kg de peso",
         "orientation": "h",
         "showlegend": true,
         "textposition": "auto",
         "type": "bar",
         "x": [
          1
         ],
         "xaxis": "x",
         "y": [
          "DT4HSign-19-weight loss  ( Weight loss )"
         ],
         "yaxis": "y"
        },
        {
         "alignmentgroup": "True",
         "hovertemplate": "span=perdida de peso<br>Count=%{x}<br>Name=%{y}<extra></extra>",
         "legendgroup": "perdida de peso",
         "marker": {
          "color": "#ab63fa",
          "pattern": {
           "shape": ""
          }
         },
         "name": "perdida de peso",
         "offsetgroup": "perdida de peso",
         "orientation": "h",
         "showlegend": true,
         "textposition": "auto",
         "type": "bar",
         "x": [
          1
         ],
         "xaxis": "x",
         "y": [
          "DT4HSign-19-weight loss  ( Weight loss )"
         ],
         "yaxis": "y"
        },
        {
         "alignmentgroup": "True",
         "hovertemplate": "span=pérdida de treinta libras de peso<br>Count=%{x}<br>Name=%{y}<extra></extra>",
         "legendgroup": "pérdida de treinta libras de peso",
         "marker": {
          "color": "#FFA15A",
          "pattern": {
           "shape": ""
          }
         },
         "name": "pérdida de treinta libras de peso",
         "offsetgroup": "pérdida de treinta libras de peso",
         "orientation": "h",
         "showlegend": true,
         "textposition": "auto",
         "type": "bar",
         "x": [
          1
         ],
         "xaxis": "x",
         "y": [
          "DT4HSign-19-weight loss  ( Weight loss )"
         ],
         "yaxis": "y"
        },
        {
         "alignmentgroup": "True",
         "hovertemplate": "span=pérdida de unos 15 kg de peso<br>Count=%{x}<br>Name=%{y}<extra></extra>",
         "legendgroup": "pérdida de unos 15 kg de peso",
         "marker": {
          "color": "#19d3f3",
          "pattern": {
           "shape": ""
          }
         },
         "name": "pérdida de unos 15 kg de peso",
         "offsetgroup": "pérdida de unos 15 kg de peso",
         "orientation": "h",
         "showlegend": true,
         "textposition": "auto",
         "type": "bar",
         "x": [
          1
         ],
         "xaxis": "x",
         "y": [
          "DT4HSign-19-weight loss  ( Weight loss )"
         ],
         "yaxis": "y"
        },
        {
         "alignmentgroup": "True",
         "hovertemplate": "span=pérdida de unos 20 kg de peso<br>Count=%{x}<br>Name=%{y}<extra></extra>",
         "legendgroup": "pérdida de unos 20 kg de peso",
         "marker": {
          "color": "#FF6692",
          "pattern": {
           "shape": ""
          }
         },
         "name": "pérdida de unos 20 kg de peso",
         "offsetgroup": "pérdida de unos 20 kg de peso",
         "orientation": "h",
         "showlegend": true,
         "textposition": "auto",
         "type": "bar",
         "x": [
          1
         ],
         "xaxis": "x",
         "y": [
          "DT4HSign-19-weight loss  ( Weight loss )"
         ],
         "yaxis": "y"
        },
        {
         "alignmentgroup": "True",
         "hovertemplate": "span=pérdida de unos 21 kilogramos de peso<br>Count=%{x}<br>Name=%{y}<extra></extra>",
         "legendgroup": "pérdida de unos 21 kilogramos de peso",
         "marker": {
          "color": "#B6E880",
          "pattern": {
           "shape": ""
          }
         },
         "name": "pérdida de unos 21 kilogramos de peso",
         "offsetgroup": "pérdida de unos 21 kilogramos de peso",
         "orientation": "h",
         "showlegend": true,
         "textposition": "auto",
         "type": "bar",
         "x": [
          1
         ],
         "xaxis": "x",
         "y": [
          "DT4HSign-19-weight loss  ( Weight loss )"
         ],
         "yaxis": "y"
        },
        {
         "alignmentgroup": "True",
         "hovertemplate": "span=pérdida de unos 8 kg de peso<br>Count=%{x}<br>Name=%{y}<extra></extra>",
         "legendgroup": "pérdida de unos 8 kg de peso",
         "marker": {
          "color": "#FF97FF",
          "pattern": {
           "shape": ""
          }
         },
         "name": "pérdida de unos 8 kg de peso",
         "offsetgroup": "pérdida de unos 8 kg de peso",
         "orientation": "h",
         "showlegend": true,
         "textposition": "auto",
         "type": "bar",
         "x": [
          1
         ],
         "xaxis": "x",
         "y": [
          "DT4HSign-19-weight loss  ( Weight loss )"
         ],
         "yaxis": "y"
        },
        {
         "alignmentgroup": "True",
         "hovertemplate": "span=pérdida del 23% de su peso habitual<br>Count=%{x}<br>Name=%{y}<extra></extra>",
         "legendgroup": "pérdida del 23% de su peso habitual",
         "marker": {
          "color": "#FECB52",
          "pattern": {
           "shape": ""
          }
         },
         "name": "pérdida del 23% de su peso habitual",
         "offsetgroup": "pérdida del 23% de su peso habitual",
         "orientation": "h",
         "showlegend": true,
         "textposition": "auto",
         "type": "bar",
         "x": [
          1
         ],
         "xaxis": "x",
         "y": [
          "DT4HSign-19-weight loss  ( Weight loss )"
         ],
         "yaxis": "y"
        },
        {
         "alignmentgroup": "True",
         "hovertemplate": "span=pérdida de 17 kg de peso<br>Count=%{x}<br>Name=%{y}<extra></extra>",
         "legendgroup": "pérdida de 17 kg de peso",
         "marker": {
          "color": "#636efa",
          "pattern": {
           "shape": ""
          }
         },
         "name": "pérdida de 17 kg de peso",
         "offsetgroup": "pérdida de 17 kg de peso",
         "orientation": "h",
         "showlegend": true,
         "textposition": "auto",
         "type": "bar",
         "x": [
          1
         ],
         "xaxis": "x",
         "y": [
          "DT4HSign-19-weight loss  ( Weight loss )"
         ],
         "yaxis": "y"
        },
        {
         "alignmentgroup": "True",
         "hovertemplate": "span=pérdida de 6,4 kg de peso<br>Count=%{x}<br>Name=%{y}<extra></extra>",
         "legendgroup": "pérdida de 6,4 kg de peso",
         "marker": {
          "color": "#EF553B",
          "pattern": {
           "shape": ""
          }
         },
         "name": "pérdida de 6,4 kg de peso",
         "offsetgroup": "pérdida de 6,4 kg de peso",
         "orientation": "h",
         "showlegend": true,
         "textposition": "auto",
         "type": "bar",
         "x": [
          1
         ],
         "xaxis": "x",
         "y": [
          "DT4HSign-19-weight loss  ( Weight loss )"
         ],
         "yaxis": "y"
        },
        {
         "alignmentgroup": "True",
         "hovertemplate": "span=pérdida de 15 kg de peso<br>Count=%{x}<br>Name=%{y}<extra></extra>",
         "legendgroup": "pérdida de 15 kg de peso",
         "marker": {
          "color": "#00cc96",
          "pattern": {
           "shape": ""
          }
         },
         "name": "pérdida de 15 kg de peso",
         "offsetgroup": "pérdida de 15 kg de peso",
         "orientation": "h",
         "showlegend": true,
         "textposition": "auto",
         "type": "bar",
         "x": [
          1
         ],
         "xaxis": "x",
         "y": [
          "DT4HSign-19-weight loss  ( Weight loss )"
         ],
         "yaxis": "y"
        },
        {
         "alignmentgroup": "True",
         "hovertemplate": "span=pérdida de 15kg de peso<br>Count=%{x}<br>Name=%{y}<extra></extra>",
         "legendgroup": "pérdida de 15kg de peso",
         "marker": {
          "color": "#ab63fa",
          "pattern": {
           "shape": ""
          }
         },
         "name": "pérdida de 15kg de peso",
         "offsetgroup": "pérdida de 15kg de peso",
         "orientation": "h",
         "showlegend": true,
         "textposition": "auto",
         "type": "bar",
         "x": [
          1
         ],
         "xaxis": "x",
         "y": [
          "DT4HSign-19-weight loss  ( Weight loss )"
         ],
         "yaxis": "y"
        },
        {
         "alignmentgroup": "True",
         "hovertemplate": "span=pérdida de 16 kilogramos (kg) de peso<br>Count=%{x}<br>Name=%{y}<extra></extra>",
         "legendgroup": "pérdida de 16 kilogramos (kg) de peso",
         "marker": {
          "color": "#FFA15A",
          "pattern": {
           "shape": ""
          }
         },
         "name": "pérdida de 16 kilogramos (kg) de peso",
         "offsetgroup": "pérdida de 16 kilogramos (kg) de peso",
         "orientation": "h",
         "showlegend": true,
         "textposition": "auto",
         "type": "bar",
         "x": [
          1
         ],
         "xaxis": "x",
         "y": [
          "DT4HSign-19-weight loss  ( Weight loss )"
         ],
         "yaxis": "y"
        },
        {
         "alignmentgroup": "True",
         "hovertemplate": "span=pérdida de 25 kg de peso<br>Count=%{x}<br>Name=%{y}<extra></extra>",
         "legendgroup": "pérdida de 25 kg de peso",
         "marker": {
          "color": "#19d3f3",
          "pattern": {
           "shape": ""
          }
         },
         "name": "pérdida de 25 kg de peso",
         "offsetgroup": "pérdida de 25 kg de peso",
         "orientation": "h",
         "showlegend": true,
         "textposition": "auto",
         "type": "bar",
         "x": [
          1
         ],
         "xaxis": "x",
         "y": [
          "DT4HSign-19-weight loss  ( Weight loss )"
         ],
         "yaxis": "y"
        },
        {
         "alignmentgroup": "True",
         "hovertemplate": "span=pérdida de 3 kg de peso<br>Count=%{x}<br>Name=%{y}<extra></extra>",
         "legendgroup": "pérdida de 3 kg de peso",
         "marker": {
          "color": "#FF6692",
          "pattern": {
           "shape": ""
          }
         },
         "name": "pérdida de 3 kg de peso",
         "offsetgroup": "pérdida de 3 kg de peso",
         "orientation": "h",
         "showlegend": true,
         "textposition": "auto",
         "type": "bar",
         "x": [
          1
         ],
         "xaxis": "x",
         "y": [
          "DT4HSign-19-weight loss  ( Weight loss )"
         ],
         "yaxis": "y"
        },
        {
         "alignmentgroup": "True",
         "hovertemplate": "span=pérdida de 5 kg de peso<br>Count=%{x}<br>Name=%{y}<extra></extra>",
         "legendgroup": "pérdida de 5 kg de peso",
         "marker": {
          "color": "#B6E880",
          "pattern": {
           "shape": ""
          }
         },
         "name": "pérdida de 5 kg de peso",
         "offsetgroup": "pérdida de 5 kg de peso",
         "orientation": "h",
         "showlegend": true,
         "textposition": "auto",
         "type": "bar",
         "x": [
          1
         ],
         "xaxis": "x",
         "y": [
          "DT4HSign-19-weight loss  ( Weight loss )"
         ],
         "yaxis": "y"
        },
        {
         "alignmentgroup": "True",
         "hovertemplate": "span=pérdida de 12 kilogramos de peso<br>Count=%{x}<br>Name=%{y}<extra></extra>",
         "legendgroup": "pérdida de 12 kilogramos de peso",
         "marker": {
          "color": "#FF97FF",
          "pattern": {
           "shape": ""
          }
         },
         "name": "pérdida de 12 kilogramos de peso",
         "offsetgroup": "pérdida de 12 kilogramos de peso",
         "orientation": "h",
         "showlegend": true,
         "textposition": "auto",
         "type": "bar",
         "x": [
          1
         ],
         "xaxis": "x",
         "y": [
          "DT4HSign-19-weight loss  ( Weight loss )"
         ],
         "yaxis": "y"
        },
        {
         "alignmentgroup": "True",
         "hovertemplate": "span=pérdida de de peso<br>Count=%{x}<br>Name=%{y}<extra></extra>",
         "legendgroup": "pérdida de de peso",
         "marker": {
          "color": "#FECB52",
          "pattern": {
           "shape": ""
          }
         },
         "name": "pérdida de de peso",
         "offsetgroup": "pérdida de de peso",
         "orientation": "h",
         "showlegend": true,
         "textposition": "auto",
         "type": "bar",
         "x": [
          1
         ],
         "xaxis": "x",
         "y": [
          "DT4HSign-19-weight loss  ( Weight loss )"
         ],
         "yaxis": "y"
        }
       ],
       "layout": {
        "barmode": "relative",
        "height": 600,
        "legend": {
         "title": {
          "text": "span"
         },
         "tracegroupgap": 0
        },
        "showlegend": false,
        "template": {
         "data": {
          "bar": [
           {
            "error_x": {
             "color": "#2a3f5f"
            },
            "error_y": {
             "color": "#2a3f5f"
            },
            "marker": {
             "line": {
              "color": "#E5ECF6",
              "width": 0.5
             },
             "pattern": {
              "fillmode": "overlay",
              "size": 10,
              "solidity": 0.2
             }
            },
            "type": "bar"
           }
          ],
          "barpolar": [
           {
            "marker": {
             "line": {
              "color": "#E5ECF6",
              "width": 0.5
             },
             "pattern": {
              "fillmode": "overlay",
              "size": 10,
              "solidity": 0.2
             }
            },
            "type": "barpolar"
           }
          ],
          "carpet": [
           {
            "aaxis": {
             "endlinecolor": "#2a3f5f",
             "gridcolor": "white",
             "linecolor": "white",
             "minorgridcolor": "white",
             "startlinecolor": "#2a3f5f"
            },
            "baxis": {
             "endlinecolor": "#2a3f5f",
             "gridcolor": "white",
             "linecolor": "white",
             "minorgridcolor": "white",
             "startlinecolor": "#2a3f5f"
            },
            "type": "carpet"
           }
          ],
          "choropleth": [
           {
            "colorbar": {
             "outlinewidth": 0,
             "ticks": ""
            },
            "type": "choropleth"
           }
          ],
          "contour": [
           {
            "colorbar": {
             "outlinewidth": 0,
             "ticks": ""
            },
            "colorscale": [
             [
              0,
              "#0d0887"
             ],
             [
              0.1111111111111111,
              "#46039f"
             ],
             [
              0.2222222222222222,
              "#7201a8"
             ],
             [
              0.3333333333333333,
              "#9c179e"
             ],
             [
              0.4444444444444444,
              "#bd3786"
             ],
             [
              0.5555555555555556,
              "#d8576b"
             ],
             [
              0.6666666666666666,
              "#ed7953"
             ],
             [
              0.7777777777777778,
              "#fb9f3a"
             ],
             [
              0.8888888888888888,
              "#fdca26"
             ],
             [
              1,
              "#f0f921"
             ]
            ],
            "type": "contour"
           }
          ],
          "contourcarpet": [
           {
            "colorbar": {
             "outlinewidth": 0,
             "ticks": ""
            },
            "type": "contourcarpet"
           }
          ],
          "heatmap": [
           {
            "colorbar": {
             "outlinewidth": 0,
             "ticks": ""
            },
            "colorscale": [
             [
              0,
              "#0d0887"
             ],
             [
              0.1111111111111111,
              "#46039f"
             ],
             [
              0.2222222222222222,
              "#7201a8"
             ],
             [
              0.3333333333333333,
              "#9c179e"
             ],
             [
              0.4444444444444444,
              "#bd3786"
             ],
             [
              0.5555555555555556,
              "#d8576b"
             ],
             [
              0.6666666666666666,
              "#ed7953"
             ],
             [
              0.7777777777777778,
              "#fb9f3a"
             ],
             [
              0.8888888888888888,
              "#fdca26"
             ],
             [
              1,
              "#f0f921"
             ]
            ],
            "type": "heatmap"
           }
          ],
          "heatmapgl": [
           {
            "colorbar": {
             "outlinewidth": 0,
             "ticks": ""
            },
            "colorscale": [
             [
              0,
              "#0d0887"
             ],
             [
              0.1111111111111111,
              "#46039f"
             ],
             [
              0.2222222222222222,
              "#7201a8"
             ],
             [
              0.3333333333333333,
              "#9c179e"
             ],
             [
              0.4444444444444444,
              "#bd3786"
             ],
             [
              0.5555555555555556,
              "#d8576b"
             ],
             [
              0.6666666666666666,
              "#ed7953"
             ],
             [
              0.7777777777777778,
              "#fb9f3a"
             ],
             [
              0.8888888888888888,
              "#fdca26"
             ],
             [
              1,
              "#f0f921"
             ]
            ],
            "type": "heatmapgl"
           }
          ],
          "histogram": [
           {
            "marker": {
             "pattern": {
              "fillmode": "overlay",
              "size": 10,
              "solidity": 0.2
             }
            },
            "type": "histogram"
           }
          ],
          "histogram2d": [
           {
            "colorbar": {
             "outlinewidth": 0,
             "ticks": ""
            },
            "colorscale": [
             [
              0,
              "#0d0887"
             ],
             [
              0.1111111111111111,
              "#46039f"
             ],
             [
              0.2222222222222222,
              "#7201a8"
             ],
             [
              0.3333333333333333,
              "#9c179e"
             ],
             [
              0.4444444444444444,
              "#bd3786"
             ],
             [
              0.5555555555555556,
              "#d8576b"
             ],
             [
              0.6666666666666666,
              "#ed7953"
             ],
             [
              0.7777777777777778,
              "#fb9f3a"
             ],
             [
              0.8888888888888888,
              "#fdca26"
             ],
             [
              1,
              "#f0f921"
             ]
            ],
            "type": "histogram2d"
           }
          ],
          "histogram2dcontour": [
           {
            "colorbar": {
             "outlinewidth": 0,
             "ticks": ""
            },
            "colorscale": [
             [
              0,
              "#0d0887"
             ],
             [
              0.1111111111111111,
              "#46039f"
             ],
             [
              0.2222222222222222,
              "#7201a8"
             ],
             [
              0.3333333333333333,
              "#9c179e"
             ],
             [
              0.4444444444444444,
              "#bd3786"
             ],
             [
              0.5555555555555556,
              "#d8576b"
             ],
             [
              0.6666666666666666,
              "#ed7953"
             ],
             [
              0.7777777777777778,
              "#fb9f3a"
             ],
             [
              0.8888888888888888,
              "#fdca26"
             ],
             [
              1,
              "#f0f921"
             ]
            ],
            "type": "histogram2dcontour"
           }
          ],
          "mesh3d": [
           {
            "colorbar": {
             "outlinewidth": 0,
             "ticks": ""
            },
            "type": "mesh3d"
           }
          ],
          "parcoords": [
           {
            "line": {
             "colorbar": {
              "outlinewidth": 0,
              "ticks": ""
             }
            },
            "type": "parcoords"
           }
          ],
          "pie": [
           {
            "automargin": true,
            "type": "pie"
           }
          ],
          "scatter": [
           {
            "fillpattern": {
             "fillmode": "overlay",
             "size": 10,
             "solidity": 0.2
            },
            "type": "scatter"
           }
          ],
          "scatter3d": [
           {
            "line": {
             "colorbar": {
              "outlinewidth": 0,
              "ticks": ""
             }
            },
            "marker": {
             "colorbar": {
              "outlinewidth": 0,
              "ticks": ""
             }
            },
            "type": "scatter3d"
           }
          ],
          "scattercarpet": [
           {
            "marker": {
             "colorbar": {
              "outlinewidth": 0,
              "ticks": ""
             }
            },
            "type": "scattercarpet"
           }
          ],
          "scattergeo": [
           {
            "marker": {
             "colorbar": {
              "outlinewidth": 0,
              "ticks": ""
             }
            },
            "type": "scattergeo"
           }
          ],
          "scattergl": [
           {
            "marker": {
             "colorbar": {
              "outlinewidth": 0,
              "ticks": ""
             }
            },
            "type": "scattergl"
           }
          ],
          "scattermapbox": [
           {
            "marker": {
             "colorbar": {
              "outlinewidth": 0,
              "ticks": ""
             }
            },
            "type": "scattermapbox"
           }
          ],
          "scatterpolar": [
           {
            "marker": {
             "colorbar": {
              "outlinewidth": 0,
              "ticks": ""
             }
            },
            "type": "scatterpolar"
           }
          ],
          "scatterpolargl": [
           {
            "marker": {
             "colorbar": {
              "outlinewidth": 0,
              "ticks": ""
             }
            },
            "type": "scatterpolargl"
           }
          ],
          "scatterternary": [
           {
            "marker": {
             "colorbar": {
              "outlinewidth": 0,
              "ticks": ""
             }
            },
            "type": "scatterternary"
           }
          ],
          "surface": [
           {
            "colorbar": {
             "outlinewidth": 0,
             "ticks": ""
            },
            "colorscale": [
             [
              0,
              "#0d0887"
             ],
             [
              0.1111111111111111,
              "#46039f"
             ],
             [
              0.2222222222222222,
              "#7201a8"
             ],
             [
              0.3333333333333333,
              "#9c179e"
             ],
             [
              0.4444444444444444,
              "#bd3786"
             ],
             [
              0.5555555555555556,
              "#d8576b"
             ],
             [
              0.6666666666666666,
              "#ed7953"
             ],
             [
              0.7777777777777778,
              "#fb9f3a"
             ],
             [
              0.8888888888888888,
              "#fdca26"
             ],
             [
              1,
              "#f0f921"
             ]
            ],
            "type": "surface"
           }
          ],
          "table": [
           {
            "cells": {
             "fill": {
              "color": "#EBF0F8"
             },
             "line": {
              "color": "white"
             }
            },
            "header": {
             "fill": {
              "color": "#C8D4E3"
             },
             "line": {
              "color": "white"
             }
            },
            "type": "table"
           }
          ]
         },
         "layout": {
          "annotationdefaults": {
           "arrowcolor": "#2a3f5f",
           "arrowhead": 0,
           "arrowwidth": 1
          },
          "autotypenumbers": "strict",
          "coloraxis": {
           "colorbar": {
            "outlinewidth": 0,
            "ticks": ""
           }
          },
          "colorscale": {
           "diverging": [
            [
             0,
             "#8e0152"
            ],
            [
             0.1,
             "#c51b7d"
            ],
            [
             0.2,
             "#de77ae"
            ],
            [
             0.3,
             "#f1b6da"
            ],
            [
             0.4,
             "#fde0ef"
            ],
            [
             0.5,
             "#f7f7f7"
            ],
            [
             0.6,
             "#e6f5d0"
            ],
            [
             0.7,
             "#b8e186"
            ],
            [
             0.8,
             "#7fbc41"
            ],
            [
             0.9,
             "#4d9221"
            ],
            [
             1,
             "#276419"
            ]
           ],
           "sequential": [
            [
             0,
             "#0d0887"
            ],
            [
             0.1111111111111111,
             "#46039f"
            ],
            [
             0.2222222222222222,
             "#7201a8"
            ],
            [
             0.3333333333333333,
             "#9c179e"
            ],
            [
             0.4444444444444444,
             "#bd3786"
            ],
            [
             0.5555555555555556,
             "#d8576b"
            ],
            [
             0.6666666666666666,
             "#ed7953"
            ],
            [
             0.7777777777777778,
             "#fb9f3a"
            ],
            [
             0.8888888888888888,
             "#fdca26"
            ],
            [
             1,
             "#f0f921"
            ]
           ],
           "sequentialminus": [
            [
             0,
             "#0d0887"
            ],
            [
             0.1111111111111111,
             "#46039f"
            ],
            [
             0.2222222222222222,
             "#7201a8"
            ],
            [
             0.3333333333333333,
             "#9c179e"
            ],
            [
             0.4444444444444444,
             "#bd3786"
            ],
            [
             0.5555555555555556,
             "#d8576b"
            ],
            [
             0.6666666666666666,
             "#ed7953"
            ],
            [
             0.7777777777777778,
             "#fb9f3a"
            ],
            [
             0.8888888888888888,
             "#fdca26"
            ],
            [
             1,
             "#f0f921"
            ]
           ]
          },
          "colorway": [
           "#636efa",
           "#EF553B",
           "#00cc96",
           "#ab63fa",
           "#FFA15A",
           "#19d3f3",
           "#FF6692",
           "#B6E880",
           "#FF97FF",
           "#FECB52"
          ],
          "font": {
           "color": "#2a3f5f"
          },
          "geo": {
           "bgcolor": "white",
           "lakecolor": "white",
           "landcolor": "#E5ECF6",
           "showlakes": true,
           "showland": true,
           "subunitcolor": "white"
          },
          "hoverlabel": {
           "align": "left"
          },
          "hovermode": "closest",
          "mapbox": {
           "style": "light"
          },
          "paper_bgcolor": "white",
          "plot_bgcolor": "#E5ECF6",
          "polar": {
           "angularaxis": {
            "gridcolor": "white",
            "linecolor": "white",
            "ticks": ""
           },
           "bgcolor": "#E5ECF6",
           "radialaxis": {
            "gridcolor": "white",
            "linecolor": "white",
            "ticks": ""
           }
          },
          "scene": {
           "xaxis": {
            "backgroundcolor": "#E5ECF6",
            "gridcolor": "white",
            "gridwidth": 2,
            "linecolor": "white",
            "showbackground": true,
            "ticks": "",
            "zerolinecolor": "white"
           },
           "yaxis": {
            "backgroundcolor": "#E5ECF6",
            "gridcolor": "white",
            "gridwidth": 2,
            "linecolor": "white",
            "showbackground": true,
            "ticks": "",
            "zerolinecolor": "white"
           },
           "zaxis": {
            "backgroundcolor": "#E5ECF6",
            "gridcolor": "white",
            "gridwidth": 2,
            "linecolor": "white",
            "showbackground": true,
            "ticks": "",
            "zerolinecolor": "white"
           }
          },
          "shapedefaults": {
           "line": {
            "color": "#2a3f5f"
           }
          },
          "ternary": {
           "aaxis": {
            "gridcolor": "white",
            "linecolor": "white",
            "ticks": ""
           },
           "baxis": {
            "gridcolor": "white",
            "linecolor": "white",
            "ticks": ""
           },
           "bgcolor": "#E5ECF6",
           "caxis": {
            "gridcolor": "white",
            "linecolor": "white",
            "ticks": ""
           }
          },
          "title": {
           "x": 0.05
          },
          "xaxis": {
           "automargin": true,
           "gridcolor": "white",
           "linecolor": "white",
           "ticks": "",
           "title": {
            "standoff": 15
           },
           "zerolinecolor": "white",
           "zerolinewidth": 2
          },
          "yaxis": {
           "automargin": true,
           "gridcolor": "white",
           "linecolor": "white",
           "ticks": "",
           "title": {
            "standoff": 15
           },
           "zerolinecolor": "white",
           "zerolinewidth": 2
          }
         }
        },
        "title": {
         "text": "Codes Distribution [Variable Name (SNOMED term)]"
        },
        "xaxis": {
         "anchor": "y",
         "domain": [
          0,
          1
         ],
         "title": {
          "text": "Count"
         }
        },
        "yaxis": {
         "anchor": "x",
         "domain": [
          0,
          1
         ],
         "title": {
          "text": "Name"
         }
        }
       }
      }
     },
     "metadata": {},
     "output_type": "display_data"
    }
   ],
   "source": [
    "def plot_code_distribution(df):\n",
    "    import plotly.express as px\n",
    "    from plotly.subplots import make_subplots\n",
    "\n",
    "    # Filter the dataframe to exclude rows where 'span' is \"NOT_FOUND\"\n",
    "    df = df.copy()\n",
    "    ls_semantic_rel = df[\"semantic_rel\"].unique().tolist()\n",
    "\n",
    "    df[\"ID+term\"] = df[\"ID\"] + \"-\" + df[\"name\"] + \" (\" + df[\"term\"] + \")\"\n",
    "    df_found = df.loc[(df[\"span\"] != \"NOT_FOUND\"), :].copy()\n",
    "    df_count_rel = df_found[[\"ID+term\"] + ls_semantic_rel + [\"count_ID\"]].melt(id_vars=[\"ID+term\", \"count_ID\"], var_name=\"semantic_rel\", value_name=\"count\").drop_duplicates()\n",
    "    df_n_founds = df[[\"ID\", \"found\"]].drop_duplicates()\n",
    "\n",
    "    # Assuming df_found and df_n_founds are already defined\n",
    "\n",
    "    # Create the pie charts\n",
    "\n",
    "    fig01 = px.pie(df_n_founds, names='found', title='Found Variables')\n",
    "    fig01.update_traces(textinfo='label+percent+value')\n",
    "\n",
    "    fig02 = px.pie(df_found.drop_duplicates(subset=[\"ID\"]), names='semantic_tag', title='Semantic Tag Distribution')\n",
    "    fig02.update_traces(textinfo='label+percent+value')\n",
    "\n",
    "    fig03 = px.pie(df_found, names='semantic_rel', title='Semantic Relationship Distribution')\n",
    "    fig03.update_traces(textinfo='label+percent+value')\n",
    "\n",
    "\n",
    "    # Create a subplot layout with 1 row and 2 columns\n",
    "    fig = make_subplots(rows=1, cols=3, subplot_titles=(\"Found Variables\", \"Semantic Tag Distribution\", \"Semantic Relationship Distribution (Total Mentions)\"),\n",
    "                            specs=[[{\"type\": \"pie\"}] * 3])\n",
    "\n",
    "    # Add the pie charts to the subplots\n",
    "    fig.add_trace(fig01.data[0], row=1, col=1)\n",
    "    fig.add_trace(fig02.data[0], row=1, col=2)\n",
    "    fig.add_trace(fig03.data[0], row=1, col=3)\n",
    "\n",
    "    # Update the layout to adjust the title and other settings\n",
    "    fig.update_layout(title_text=\"Distribution of Semantic Relationships and Found Codes\", showlegend=False,\n",
    "                      height=600)\n",
    "\n",
    "    # Display the combined figure\n",
    "    fig.show()\n",
    "\n",
    "    # print(df_count_rel[df_count_rel.term.str.contains(\"Diabetes\")].to_markdown())\n",
    "    # Assuming df_aggregated is correctly aggregated data\n",
    "    n_terms = df_found[\"ID+term\"].nunique()\n",
    "    n_show = 25\n",
    "\n",
    "    fig1 = px.bar(df_count_rel.sort_values(by=\"count_ID\", ascending=True),\n",
    "                y='ID+term', x='count', color='semantic_rel', \n",
    "                title=f'Codes by Semantic Relationship [Variable Name (SNOMED term)] <Zoom {n_show} out of {n_terms} terms; zoom out to see all>',\n",
    "                labels={'count': 'Count', 'ID+term': 'Name'},\n",
    "                orientation='h')\n",
    "    \n",
    "    fig1.update_layout(\n",
    "                           height=600,\n",
    "                            yaxis=dict(\n",
    "                                        range=[n_terms - n_show, n_terms],\n",
    "                                        tickmode='linear',\n",
    "                                        dtick=1,\n",
    "                                    )\n",
    "                                    )\n",
    "    fig1.show()\n",
    "\n",
    "    # Create a bar chart for all the found codes by count\n",
    "    # ls_IDs = df_found.sort_values(by=\"count_ID\", ascending=False)[\"ID+term\"].unique().tolist()[:25]\n",
    "    fig2 = px.bar(df_found.sort_values(by=\"count_ID\", ascending=True),\n",
    "                y='ID+term', x='count', color='span', title=f'Codes Distribution [Variable Name (SNOMED term)] <Zoom {n_show} out of {n_terms} terms; zoom out to see all>',\n",
    "                labels={'count': 'Count', 'ID+term': 'Name'},\n",
    "                orientation='h')\n",
    "    \n",
    "    fig2.update_layout(showlegend=False, \n",
    "                           height=600,\n",
    "                            yaxis=dict(\n",
    "                                        range=[n_terms - n_show, n_terms],\n",
    "                                        tickmode='linear',\n",
    "                                        dtick=1,\n",
    "                                    )\n",
    "                                    )\n",
    "    fig2.show()\n",
    "\n",
    "\n",
    "plot_code_distribution(df_code_ovr)"
   ]
  },
  {
   "cell_type": "code",
   "execution_count": null,
   "metadata": {},
   "outputs": [],
   "source": []
  }
 ],
 "metadata": {
  "kernelspec": {
   "display_name": ".venv",
   "language": "python",
   "name": "python3"
  },
  "language_info": {
   "codemirror_mode": {
    "name": "ipython",
    "version": 3
   },
   "file_extension": ".py",
   "mimetype": "text/x-python",
   "name": "python",
   "nbconvert_exporter": "python",
   "pygments_lexer": "ipython3",
   "version": "3.10.12"
  }
 },
 "nbformat": 4,
 "nbformat_minor": 2
}
