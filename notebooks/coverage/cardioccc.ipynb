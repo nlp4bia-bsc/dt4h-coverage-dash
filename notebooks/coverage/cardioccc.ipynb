{
 "cells": [
  {
   "cell_type": "markdown",
   "metadata": {},
   "source": [
    "# Data Characterisation: Distemist"
   ]
  },
  {
   "cell_type": "code",
   "execution_count": 1,
   "metadata": {},
   "outputs": [
    {
     "name": "stdout",
     "output_type": "stream",
     "text": [
      "|    | filename                     | label      |   off0 |   off1 | span                                    |     code | semantic_rel   |\n",
      "|---:|:-----------------------------|:-----------|-------:|-------:|:----------------------------------------|---------:|:---------------|\n",
      "|  0 | es-S1139-76322014000100010-1 | ENFERMEDAD |   2008 |   2047 | apéndice cecal con signos inflamatorios | 74400008 | EXACT          |\n",
      "|  1 | es-S1139-76322014000100010-1 | ENFERMEDAD |   1259 |   1277 | cuadro obstructivo                      | 81060008 | EXACT          |\n",
      "|  2 | es-S1139-76322014000100010-1 | ENFERMEDAD |    574 |    587 | abdomen agudo                           |  9209005 | EXACT          |\n",
      "|  3 | es-S1139-76322014000100010-1 | ENFERMEDAD |    753 |    770 | apendicitis aguda                       | 85189001 | EXACT          |\n",
      "|  4 | es-S1130-05582017000200099-1 | ENFERMEDAD |     50 |     58 | fumadora                                | 77176002 | EXACT          |\n",
      "(7733, 7)\n",
      "|    | ID        | name       |       code | semantic_tag      | term          |\n",
      "|---:|:----------|:-----------|-----------:|:------------------|:--------------|\n",
      "|  0 | DT4HDem-3 | Sex female |  248152002 | finding           | Female        |\n",
      "|  1 | DT4HDem-4 | Sex male   |  248153007 | finding           | Male          |\n",
      "|  2 | DT4HDem-6 | YOB        |  184099003 | observable entity | Date of birth |\n",
      "|  3 | DT4HDem-7 | Height     | 1153637007 | observable entity | Body height   |\n",
      "|  4 | DT4HDem-8 | Weight     |   27113001 | observable entity | Body weight   |\n",
      "(652, 5)\n"
     ]
    }
   ],
   "source": [
    "import pandas as pd\n",
    "import matplotlib.pyplot as plt\n",
    "import seaborn as sns\n",
    "\n",
    "DATA = 'data/processed/distemist.tsv'\n",
    "DATA_VAR = 'data/variables/processed/variables.tsv'\n",
    "df_distemist = pd.read_csv(DATA, sep='\\t', dtype={'code': str})\n",
    "df_variables = pd.read_csv(DATA_VAR, sep='\\t', dtype={'code': str})\n",
    "# df_variables['term'] = df_variables['term'].str.lower()\n",
    "# df_variables = df_variables[df_variables['semantic_tag']==\"disorder\"]\n",
    "\n",
    "print(df_distemist.head().to_markdown())\n",
    "print(df_distemist.shape)\n",
    "print(df_variables.head().to_markdown())\n",
    "print(df_variables.shape)"
   ]
  },
  {
   "cell_type": "code",
   "execution_count": 2,
   "metadata": {},
   "outputs": [
    {
     "name": "stdout",
     "output_type": "stream",
     "text": [
      "|     | ID             | name                                                                         |           code | semantic_tag      | term                                                                         |\n",
      "|----:|:---------------|:-----------------------------------------------------------------------------|---------------:|:------------------|:-----------------------------------------------------------------------------|\n",
      "|  62 | DT4H-Lab10     | TropThs                                                                      |      102682001 | substance         | Troponin T                                                                   |\n",
      "|  63 | DT4H-Lab11     | TropTnhs                                                                     |      102682001 | substance         | Troponin T                                                                   |\n",
      "|  60 | DT4H-Lab8      | TropIhs                                                                      |      102683006 | substance         | Troponin I                                                                   |\n",
      "|  61 | DT4H-Lab9      | TropInhs                                                                     |      102683006 | substance         | Troponin I                                                                   |\n",
      "| 339 | DT4H-MedL105   | Torasemide                                                                   |      108476002 | substance         | Torasemide                                                                   |\n",
      "| 292 | DT4H-MedD187   | Torasemide                                                                   |      108476002 | substance         | Torasemide                                                                   |\n",
      "| 221 | DT4H-MedA144   | Moexipril hydrochloride                                                      |      108567007 | substance         | Moexipril hydrochloride                                                      |\n",
      "| 183 | DT4H-MedR164   | Moexipril hydrochloride                                                      |      108567007 | substance         | Moexipril hydrochloride                                                      |\n",
      "| 220 | DT4H-MedA143   | Fosinopril sodium                                                            |      108570006 | substance         | Fosinopril sodium                                                            |\n",
      "| 182 | DT4H-MedR163   | Fosinopril sodium                                                            |      108570006 | substance         | Fosinopril sodium                                                            |\n",
      "| 181 | DT4H-MedR162   | Benazepril hydrochloride                                                     |      108573008 | substance         | Benazepril hydrochloride                                                     |\n",
      "| 219 | DT4H-MedA142   | Benazepril hydrochloride                                                     |      108573008 | substance         | Benazepril hydrochloride                                                     |\n",
      "| 239 | DT4H-MedAR127  | Losartan potassium                                                           |      108582002 | substance         | Losartan potassium                                                           |\n",
      "| 148 | DT4H-MedR127   | Losartan potassium                                                           |      108582002 | substance         | Losartan potassium                                                           |\n",
      "| 192 | DT4H-MedA115   | Enalapril sodium                                                             |     1119307002 | substance         | Enalapril sodium                                                             |\n",
      "| 154 | DT4H-MedR135   | Enalapril sodium                                                             |     1119307002 | substance         | Enalapril sodium                                                             |\n",
      "| 153 | DT4H-MedR134   | Perindopril erbumine monohydrate                                             |     1119308007 | substance         | Perindopril erbumine monohydrate                                             |\n",
      "| 191 | DT4H-MedA114   | Perindopril erbumine monohydrate                                             |     1119308007 | substance         | Perindopril erbumine monohydrate                                             |\n",
      "| 327 | DT4H-MedD233   | Trichlormethiazide                                                           |       11473005 | substance         | Trichlormethiazide                                                           |\n",
      "| 299 | DT4H-MedD194   | Trichlormethiazide                                                           |       11473005 | substance         | Trichlormethiazide                                                           |\n",
      "| 427 | DT4H-MedP141   | substance with glycoprotein-IIb/IIIa receptor antagonist mechanism of action |     1162907009 | substance         | substance with glycoprotein-IIb/IIIa receptor antagonist mechanism of action |\n",
      "| 407 | DT4H-MedP11    | Substance with glycoprotein-IIb/IIIa receptor antagonist mechanism of action |     1162907009 | substance         | Substance with glycoprotein-IIb/IIIa receptor antagonist mechanism of action |\n",
      "| 272 | DT4H-MedD152   | Finerenone                                                                   |     1163346008 | substance         | Finerenone                                                                   |\n",
      "| 240 | DT4H-MedM111   | Finerenone                                                                   |     1163346008 | substance         | Finerenone                                                                   |\n",
      "| 271 | DT4H-MedD151   | Amiloride hydrochloride anhydrous                                            |     1268944002 | substance         | Amiloride hydrochloride anhydrous                                            |\n",
      "| 611 | DT4H-MedRHY113 | Amiloride hydrochloride anhydrous                                            |     1268944002 | substance         | Amiloride hydrochloride anhydrous                                            |\n",
      "| 190 | DT4H-MedA113   | Cilazapril anhydrous                                                         |     1268982005 | substance         | Cilazapril anhydrous                                                         |\n",
      "| 152 | DT4H-MedR133   | Cilazapril anhydrous                                                         |     1268982005 | substance         | Cilazapril anhydrous                                                         |\n",
      "| 151 | DT4H-MedR132   | Lisinopril anhydrous                                                         |     1269132005 | substance         | Lisinopril anhydrous                                                         |\n",
      "| 189 | DT4H-MedA112   | Lisinopril anhydrous                                                         |     1269132005 | substance         | Lisinopril anhydrous                                                         |\n",
      "| 180 | DT4H-MedR161   | Perindopril erbumine                                                         |      129485000 | substance         | Perindopril erbumine                                                         |\n",
      "| 218 | DT4H-MedA141   | Perindopril erbumine                                                         |      129485000 | substance         | Perindopril erbumine                                                         |\n",
      "| 238 | DT4H-MedAR126  | Eprosartan mesilate                                                          |      129488003 | substance         | Eprosartan mesilate                                                          |\n",
      "| 147 | DT4H-MedR126   | Eprosartan mesilate                                                          |      129488003 | substance         | Eprosartan mesilate                                                          |\n",
      "| 224 | DT4H-MedAR112  | Fimasartan                                                                   |     1332433003 | substance         | Fimasartan                                                                   |\n",
      "| 133 | DT4H-MedR112   | Fimasartan                                                                   |     1332433003 | substance         | Fimasartan                                                                   |\n",
      "| 223 | DT4H-MedAR111  | Fimasartan potassium trihydrate                                              |     1332434009 | substance         | Fimasartan potassium trihydrate                                              |\n",
      "| 132 | DT4H-MedR111   | Fimasartan potassium trihydrate                                              |     1332434009 | substance         | Fimasartan potassium trihydrate                                              |\n",
      "| 315 | DT4H-MedD221   | Butizide                                                                     | 20551000122108 | substance         | Butizide                                                                     |\n",
      "| 286 | DT4H-MedD181   | Butizide                                                                     | 20551000122108 | substance         | Butizide                                                                     |\n",
      "|  50 | DT4H-US5       | LVEDV                                                                        |      301898006 | observable entity | Left ventricular end-diastolic cavity size                                   |\n",
      "|  49 | DT4H-US2       | BSA                                                                          |      301898006 | observable entity | Body surface area                                                            |\n",
      "| 188 | DT4H-MedA111   | Lisinopril dihydrate                                                         |   341000220102 | substance         | Lisinopril dihydrate                                                         |\n",
      "| 150 | DT4H-MedR131   | Lisinopril dihydrate                                                         |   341000220102 | substance         | Lisinopril dihydrate                                                         |\n",
      "| 298 | DT4H-MedD193   | Cyclothiazide                                                                |       37006008 | substance         | Cyclothiazide                                                                |\n",
      "| 326 | DT4H-MedD232   | Cyclothiazide                                                                |       37006008 | substance         | Cyclothiazide                                                                |\n",
      "| 179 | DT4H-MedR160   | Fosinopril                                                                   |      372510000 | substance         | Fosinopril                                                                   |\n",
      "| 217 | DT4H-MedA140   | Fosinopril                                                                   |      372510000 | substance         | Fosinopril                                                                   |\n",
      "| 178 | DT4H-MedR159   | Benazepril                                                                   |      372511001 | substance         | Benazepril                                                                   |\n",
      "| 216 | DT4H-MedA139   | Benazepril                                                                   |      372511001 | substance         | Benazepril                                                                   |\n",
      "| 146 | DT4H-MedR125   | Candesartan                                                                  |      372512008 | substance         | Candesartan                                                                  |\n",
      "| 237 | DT4H-MedAR125  | Candesartan                                                                  |      372512008 | substance         | Candesartan                                                                  |\n",
      "| 280 | DT4H-MedD160   | Aldosterone receptor antagonist                                              |      372603003 | substance         | Aldosterone receptor antagonist                                              |\n",
      "| 114 | DT4H-MedM1     | Mineralcorticoid Receptor Antagonist (MRA)                                   |      372603003 | substance         | MINERALCORTICOID RECEPTOR ANTAGONIST (MRA)                                   |\n",
      "| 215 | DT4H-MedA138   | Enalapril                                                                    |      372658000 | substance         | Enalapril                                                                    |\n",
      "| 177 | DT4H-MedR158   | Enalapril                                                                    |      372658000 | substance         | Enalapril                                                                    |\n",
      "| 578 | DT4H-MedBB130  | Beta-1 adrenergic receptor antagonist                                        |      372661004 | substance         | Beta-1 adrenergic receptor antagonist                                        |\n",
      "| 587 | DT4H-MedBB15   | Substance with beta-1 adrenergic receptor antagonist mechanism of action     |      372661004 | substance         | Substance with beta-1 adrenergic receptor antagonist mechanism of action     |\n",
      "| 149 | DT4H-MedR13    | Substance with angiotensin-converting                                        |      372733002 | substance         | Substance with angiotensin-converting                                        |\n",
      "|     |                | enzyme inhibitor mechanism of action                                         |                |                   | enzyme inhibitor mechanism of action                                         |\n",
      "| 111 | DT4H-MedA1     | ACE-inhibitors                                                               |      372733002 | substance         | ACE-INHIBITORS                                                               |\n",
      "| 324 | DT4H-MedD230   | Chlorothiazide                                                               |      372782002 | substance         | Chlorothiazide                                                               |\n",
      "| 291 | DT4H-MedD186   | Chlorothiazide                                                               |      372782002 | substance         | Chlorothiazide                                                               |\n",
      "| 131 | DT4H-MedR11    | Substance with angiotensin II receptor antagonist mechanism of action        |      372913009 | substance         | Substance with angiotensin II receptor antagonist mechanism of action        |\n",
      "| 112 | DT4H-MedAR1    | Angiotensin receptor blocker                                                 |      372913009 | substance         | ANGIOTENSIN RECEPTOR BLOCKER                                                 |\n",
      "| 214 | DT4H-MedA137   | Perindopril                                                                  |      372916001 | substance         | Perindopril                                                                  |\n",
      "| 176 | DT4H-MedR157   | Perindopril                                                                  |      372916001 | substance         | Perindopril                                                                  |\n",
      "| 175 | DT4H-MedR156   | Moexipril                                                                    |      373442003 | substance         | Moexipril                                                                    |\n",
      "| 213 | DT4H-MedA136   | Moexipril                                                                    |      373442003 | substance         | Moexipril                                                                    |\n",
      "| 290 | DT4H-MedD185   | Ethacrynic acid                                                              |      373536004 | substance         | Ethacrynic acid                                                              |\n",
      "| 338 | DT4H-MedL104   | Ethacrynic acid                                                              |      373536004 | substance         | Ethacrynic acid                                                              |\n",
      "| 236 | DT4H-MedAR124  | Losartan                                                                     |      373567002 | substance         | Losartan                                                                     |\n",
      "| 145 | DT4H-MedR124   | Losartan                                                                     |      373567002 | substance         | Losartan                                                                     |\n",
      "| 212 | DT4H-MedA135   | Trandolapril                                                                 |      386871006 | substance         | Trandolapril                                                                 |\n",
      "| 174 | DT4H-MedR155   | Trandolapril                                                                 |      386871006 | substance         | Trandolapril                                                                 |\n",
      "| 173 | DT4H-MedR154   | Ramipril                                                                     |      386872004 | substance         | Ramipril                                                                     |\n",
      "| 211 | DT4H-MedA134   | Ramipril                                                                     |      386872004 | substance         | Ramipril                                                                     |\n",
      "| 172 | DT4H-MedR153   | Lisinopril                                                                   |      386873009 | substance         | Lisinopril                                                                   |\n",
      "| 210 | DT4H-MedA133   | Lisinopril                                                                   |      386873009 | substance         | Lisinopril                                                                   |\n",
      "| 171 | DT4H-MedR152   | Quinapril                                                                    |      386874003 | substance         | Quinapril                                                                    |\n",
      "| 209 | DT4H-MedA132   | Quinapril                                                                    |      386874003 | substance         | Quinapril                                                                    |\n",
      "| 170 | DT4H-MedR151   | Quinapril hydrochloride                                                      |      386875002 | substance         | Quinapril hydrochloride                                                      |\n",
      "| 208 | DT4H-MedA131   | Quinapril hydrochloride                                                      |      386875002 | substance         | Quinapril hydrochloride                                                      |\n",
      "| 235 | DT4H-MedAR123  | Valsartan                                                                    |      386876001 | substance         | Valsartan                                                                    |\n",
      "| 144 | DT4H-MedR123   | Valsartan                                                                    |      386876001 | substance         | Valsartan                                                                    |\n",
      "| 143 | DT4H-MedR122   | Irbesartan                                                                   |      386877005 | substance         | Irbesartan                                                                   |\n",
      "| 234 | DT4H-MedAR122  | Irbesartan                                                                   |      386877005 | substance         | Irbesartan                                                                   |\n",
      "| 142 | DT4H-MedR121   | Candesartan cilexetil                                                        |      386878000 | substance         | Candesartan cilexetil                                                        |\n",
      "| 233 | DT4H-MedAR121  | Candesartan cilexetil                                                        |      386878000 | substance         | Candesartan cilexetil                                                        |\n",
      "| 279 | DT4H-MedD159   | Triamterene                                                                  |      387053007 | substance         | Triamterene                                                                  |\n",
      "| 623 | DT4H-MedRHY125 | Triamterene                                                                  |      387053007 | substance         | Triamterene                                                                  |\n",
      "| 141 | DT4H-MedR120   | Telmisartan                                                                  |      387069000 | substance         | Telmisartan                                                                  |\n",
      "| 232 | DT4H-MedAR120  | Telmisartan                                                                  |      387069000 | substance         | Telmisartan                                                                  |\n",
      "| 243 | DT4H-MedM114   | Spironolactone                                                               |      387078006 | substance         | Spironolactone                                                               |\n",
      "| 278 | DT4H-MedD158   | Spironolactone                                                               |      387078006 | substance         | Spironolactone                                                               |\n",
      "| 207 | DT4H-MedA130   | Captopril                                                                    |      387160004 | substance         | Captopril                                                                    |\n",
      "| 169 | DT4H-MedR150   | Captopril                                                                    |      387160004 | substance         | Captopril                                                                    |\n",
      "| 168 | DT4H-MedR149   | Enalapril maleate                                                            |      387165009 | substance         | Enalapril maleate                                                            |\n",
      "| 206 | DT4H-MedA129   | Enalapril maleate                                                            |      387165009 | substance         | Enalapril maleate                                                            |\n",
      "| 309 | DT4H-MedD208   | Chlortalidone                                                                |      387324004 | substance         | Chlortalidone                                                                |\n",
      "| 289 | DT4H-MedD184   | Chlortalidone                                                                |      387324004 | substance         | Chlortalidone                                                                |\n",
      "| 307 | DT4H-MedD206   | Furosemide                                                                   |      387475002 | substance         | Furosemide                                                                   |\n",
      "| 288 | DT4H-MedD183   | Furosemide                                                                   |      387475002 | substance         | Furosemide                                                                   |\n",
      "| 337 | DT4H-MedL103   | Furosemide                                                                   |      387475002 | substance         | Furosemide                                                                   |\n",
      "| 306 | DT4H-MedD205   | Bumetanide                                                                   |      387498005 | substance         | Bumetanide                                                                   |\n",
      "| 287 | DT4H-MedD182   | Bumetanide                                                                   |      387498005 | substance         | Bumetanide                                                                   |\n",
      "| 336 | DT4H-MedL102   | Bumetanide                                                                   |      387498005 | substance         | Bumetanide                                                                   |\n",
      "| 619 | DT4H-MedRHY121 | Amiloride                                                                    |      387503008 | substance         | Amiloride                                                                    |\n",
      "| 277 | DT4H-MedD157   | Amiloride                                                                    |      387503008 | substance         | Amiloride                                                                    |\n",
      "| 276 | DT4H-MedD156   | Amiloride hydrochloride                                                      |      387516008 | substance         | Amiloride hydrochloride                                                      |\n",
      "| 618 | DT4H-MedRHY120 | Amiloride hydrochloride                                                      |      387516008 | substance         | Amiloride hydrochloride                                                      |\n",
      "| 167 | DT4H-MedR148   | Imidapril hydrochloride                                                      |      395741003 | substance         | Imidapril hydrochloride                                                      |\n",
      "| 205 | DT4H-MedA128   | Imidapril hydrochloride                                                      |      395741003 | substance         | Imidapril hydrochloride                                                      |\n",
      "| 166 | DT4H-MedR147   | Cilazapril                                                                   |      395947008 | substance         | Cilazapril                                                                   |\n",
      "| 204 | DT4H-MedA127   | Cilazapril                                                                   |      395947008 | substance         | Cilazapril                                                                   |\n",
      "| 203 | DT4H-MedA126   | Imidapril                                                                    |      395984005 | substance         | Imidapril                                                                    |\n",
      "| 165 | DT4H-MedR146   | Imidapril                                                                    |      395984005 | substance         | Imidapril                                                                    |\n",
      "| 231 | DT4H-MedAR119  | Eprosartan                                                                   |      396044005 | substance         | Eprosartan                                                                   |\n",
      "| 140 | DT4H-MedR119   | Eprosartan                                                                   |      396044005 | substance         | Eprosartan                                                                   |\n",
      "| 317 | DT4H-MedD223   | Mefruside                                                                    |      406772008 | substance         | Mefruside                                                                    |\n",
      "| 303 | DT4H-MedD202   | Mefruside                                                                    |      406772008 | substance         | Mefruside                                                                    |\n",
      "| 275 | DT4H-MedD155   | Eplerenone                                                                   |      407010008 | substance         | Eplerenone                                                                   |\n",
      "| 242 | DT4H-MedM113   | Eplerenone                                                                   |      407010008 | substance         | Eplerenone                                                                   |\n",
      "| 274 | DT4H-MedD154   | Amiloride hydrochloride dihydrate                                            |      412082007 | substance         | Amiloride hydrochloride dihydrate                                            |\n",
      "| 616 | DT4H-MedRHY118 | Amiloride hydrochloride dihydrate                                            |      412082007 | substance         | Amiloride hydrochloride dihydrate                                            |\n",
      "| 230 | DT4H-MedAR118  | Olmesartan                                                                   |      412259001 | substance         | Olmesartan                                                                   |\n",
      "| 139 | DT4H-MedR118   | Olmesartan                                                                   |      412259001 | substance         | Olmesartan                                                                   |\n",
      "| 229 | DT4H-MedAR117  | Olmesartan medoxomil                                                         |      412260006 | substance         | Olmesartan medoxomil                                                         |\n",
      "| 138 | DT4H-MedR117   | Olmesartan medoxomil                                                         |      412260006 | substance         | Olmesartan medoxomil                                                         |\n",
      "| 410 | DT4H-MedP113   | Tirofiban hydrochloride monohydrate                                          |      412321006 | substance         | Tirofiban hydrochloride monohydrate                                          |\n",
      "| 438 | DT4H-MedP152   | tirofiban hydrochloride monohydrate                                          |      412321006 | substance         | tirofiban hydrochloride monohydrate                                          |\n",
      "| 313 | DT4H-MedD212   | Quinethazone                                                                 |       41261002 | substance         | Quinethazone                                                                 |\n",
      "| 297 | DT4H-MedD192   | Quinethazone                                                                 |       41261002 | substance         | Quinethazone                                                                 |\n",
      "| 273 | DT4H-MedD153   | Potassium canrenoate                                                         |      419615001 | substance         | Potassium canrenoate                                                         |\n",
      "| 241 | DT4H-MedM112   | Potassium canrenoate                                                         |      419615001 | substance         | Potassium canrenoate                                                         |\n",
      "| 164 | DT4H-MedR145   | Perindopril arginine                                                         |      442509000 | substance         | Perindopril arginine                                                         |\n",
      "| 202 | DT4H-MedA125   | Perindopril arginine                                                         |      442509000 | substance         | Perindopril arginine                                                         |\n",
      "| 137 | DT4H-MedR116   | Azilsartan                                                                   |      449042005 | substance         | Azilsartan                                                                   |\n",
      "| 228 | DT4H-MedAR116  | Azilsartan                                                                   |      449042005 | substance         | Azilsartan                                                                   |\n",
      "| 136 | DT4H-MedR115   | Azilsartan medoxomil                                                         |      449561004 | substance         | Azilsartan medoxomil                                                         |\n",
      "| 227 | DT4H-MedAR115  | Azilsartan medoxomil                                                         |      449561004 | substance         | Azilsartan medoxomil                                                         |\n",
      "| 184 | DT4H-MedR165   | Enalaprilat                                                                  |       48052001 | substance         | Enalaprilat                                                                  |\n",
      "| 222 | DT4H-MedA145   | Enalaprilat                                                                  |       48052001 | substance         | Enalaprilat                                                                  |\n",
      "| 296 | DT4H-MedD191   | Tienilic acid                                                                |       64029000 | substance         | Tienilic acid                                                                |\n",
      "| 341 | DT4H-MedL107   | Tienilic acid                                                                |       64029000 | substance         | Tienilic acid                                                                |\n",
      "| 295 | DT4H-MedD190   | Benzthiazide                                                                 |       66290002 | substance         | Benzthiazide                                                                 |\n",
      "| 325 | DT4H-MedD231   | Benzthiazide                                                                 |       66290002 | substance         | Benzthiazide                                                                 |\n",
      "| 201 | DT4H-MedA124   | Delapril                                                                     |      698093003 | substance         | Delapril                                                                     |\n",
      "| 163 | DT4H-MedR144   | Delapril                                                                     |      698093003 | substance         | Delapril                                                                     |\n",
      "| 200 | DT4H-MedA123   | Delapril hydrochloride                                                       |      700066002 | substance         | Delapril hydrochloride                                                       |\n",
      "| 162 | DT4H-MedR143   | Delapril hydrochloride                                                       |      700066002 | substance         | Delapril hydrochloride                                                       |\n",
      "| 161 | DT4H-MedR142   | Zofenopril                                                                   |      703340007 | substance         | Zofenopril                                                                   |\n",
      "| 199 | DT4H-MedA122   | Zofenopril                                                                   |      703340007 | substance         | Zofenopril                                                                   |\n",
      "| 160 | DT4H-MedR141   | Zofenopril calcium                                                           |      703341006 | substance         | Zofenopril calcium                                                           |\n",
      "| 198 | DT4H-MedA121   | Zofenopril calcium                                                           |      703341006 | substance         | Zofenopril calcium                                                           |\n",
      "| 197 | DT4H-MedA120   | Zofenoprilat                                                                 |      703342004 | substance         | Zofenoprilat                                                                 |\n",
      "| 159 | DT4H-MedR140   | Zofenoprilat                                                                 |      703342004 | substance         | Zofenoprilat                                                                 |\n",
      "| 196 | DT4H-MedA119   | Zofenoprilat arginine                                                        |      703343009 | substance         | Zofenoprilat arginine                                                        |\n",
      "| 158 | DT4H-MedR139   | Zofenoprilat arginine                                                        |      703343009 | substance         | Zofenoprilat arginine                                                        |\n",
      "| 157 | DT4H-MedR138   | Spirapril                                                                    |      713473008 | substance         | Spirapril                                                                    |\n",
      "| 195 | DT4H-MedA118   | Spirapril                                                                    |      713473008 | substance         | Spirapril                                                                    |\n",
      "| 194 | DT4H-MedA117   | Cilazapril monohydrate                                                       |      725786001 | substance         | Cilazapril monohydrate                                                       |\n",
      "| 156 | DT4H-MedR137   | Cilazapril monohydrate                                                       |      725786001 | substance         | Cilazapril monohydrate                                                       |\n",
      "| 226 | DT4H-MedAR114  | Irbesartan hydrochloride                                                     |      734504000 | substance         | Irbesartan hydrochloride                                                     |\n",
      "| 135 | DT4H-MedR114   | Irbesartan hydrochloride                                                     |      734504000 | substance         | Irbesartan hydrochloride                                                     |\n",
      "| 253 | DT4H-MedD118   | conivaptan hydrochloride                                                     |      735160008 | substance         | conivaptan hydrochloride                                                     |\n",
      "| 251 | DT4H-MedD116   | cicletanine hydrochloride                                                    |      735160008 | substance         | cicletanine hydrochloride                                                    |\n",
      "| 193 | DT4H-MedA116   | Perindopril tosylate                                                         |      735174001 | substance         | Perindopril tosylate                                                         |\n",
      "| 155 | DT4H-MedR136   | Perindopril tosylate                                                         |      735174001 | substance         | Perindopril tosylate                                                         |\n",
      "| 340 | DT4H-MedL106   | Ethacrynate sodium                                                           |       75341007 | substance         | Ethacrynate sodium                                                           |\n",
      "| 294 | DT4H-MedD189   | Ethacrynate sodium                                                           |       75341007 | substance         | Ethacrynate sodium                                                           |\n",
      "| 108 | DT4H-SM7       | Smoker                                                                       |       77176002 | finding           | Smoker                                                                       |\n",
      "| 102 | DT4H-SM1       | Smoker                                                                       |       77176002 | finding           | Smoker                                                                       |\n",
      "| 608 | DT4H-MedRHY11  | Substance with sodium channel blocker mechanism of action                    |      782436006 | substance         | Substance with sodium channel blocker mechanism of action                    |\n",
      "| 123 | DT4H-MedRHY1   | Class 1 and 3 antiarrhytmic drugs                                            |      782436006 | substance         | ANTIARRYTHMICS                                                               |\n",
      "| 300 | DT4H-MedD195   | Chlorothiazide sodium                                                        |        8252004 | substance         | Chlorothiazide sodium                                                        |\n",
      "| 328 | DT4H-MedD234   | Chlorothiazide sodium                                                        |        8252004 | substance         | Chlorothiazide sodium                                                        |\n",
      "| 106 | DT4H-SM5       | Ex-smoker                                                                    |        8517006 | finding           | Ex-smoker                                                                    |\n",
      "| 103 | DT4H-SM2       | Ex-smoker                                                                    |        8517006 | finding           | Ex-smoker                                                                    |\n",
      "| 225 | DT4H-MedAR113  | Azilsartan medoxomil potassium                                               |      895431005 | substance         | Azilsartan medoxomil potassium                                               |\n",
      "| 134 | DT4H-MedR113   | Azilsartan medoxomil potassium                                               |      895431005 | substance         | Azilsartan medoxomil potassium                                               |\n",
      "| 244 | DT4H-MedM115   | Canrenone                                                                    |       96291007 | substance         | Canrenone                                                                    |\n",
      "| 281 | DT4H-MedD161   | Canrenone                                                                    |       96291007 | substance         | Canrenone                                                                    |\n",
      "| 293 | DT4H-MedD188   | Canrenone                                                                    |       96291007 | substance         | Canrenone                                                                    |\n",
      "| 449 | DT4H-MedP163   | resveratrol                                                                  |       96383001 | substance         | resveratrol                                                                  |\n",
      "| 451 | DT4H-MedCO111  | resveratrol                                                                  |       96383001 | substance         | resveratrol                                                                  |\n"
     ]
    }
   ],
   "source": [
    "print(df_variables[df_variables[\"code\"].duplicated(keep=False)].sort_values(by=\"code\").to_markdown())"
   ]
  },
  {
   "cell_type": "code",
   "execution_count": 3,
   "metadata": {},
   "outputs": [
    {
     "data": {
      "text/plain": [
       "(558,)"
      ]
     },
     "execution_count": 3,
     "metadata": {},
     "output_type": "execute_result"
    }
   ],
   "source": [
    "df_variables[\"code\"].drop_duplicates().shape"
   ]
  },
  {
   "cell_type": "code",
   "execution_count": 4,
   "metadata": {},
   "outputs": [
    {
     "data": {
      "text/plain": [
       "<Axes: xlabel='semantic_rel'>"
      ]
     },
     "execution_count": 4,
     "metadata": {},
     "output_type": "execute_result"
    },
    {
     "data": {
      "image/png": "[encoded data removed]",
      "text/plain": [
       "<Figure size 640x480 with 1 Axes>"
      ]
     },
     "metadata": {},
     "output_type": "display_data"
    }
   ],
   "source": [
    "df_distemist.semantic_rel.value_counts().plot(kind='bar')"
   ]
  },
  {
   "cell_type": "markdown",
   "metadata": {},
   "source": [
    "## Code overlap"
   ]
  },
  {
   "cell_type": "code",
   "execution_count": 5,
   "metadata": {},
   "outputs": [
    {
     "name": "stdout",
     "output_type": "stream",
     "text": [
      "Shape: (758, 14)\n",
      "Unique codes: 652\n",
      "Codes not found: 530\n",
      "|    | ID          | name             |     code | span                  | term                                     | semantic_rel   | semantic_tag   |   count | found   |   count_ID |   COMPOSITE |   EXACT |   NARROW |   NOT_FOUND |\n",
      "|---:|:------------|:-----------------|---------:|:----------------------|:-----------------------------------------|:---------------|:---------------|--------:|:--------|-----------:|------------:|--------:|---------:|------------:|\n",
      "|  0 | DT4H-CV5    | Hypertension     | 38341003 | hipertensión arterial | Hypertensive disorder, systemic arterial | EXACT          | disorder       |      74 | True    |        130 |           0 |     129 |        1 |           0 |\n",
      "|  2 | DT4H-SM7    | Smoker           | 77176002 | fumador               | Smoker                                   | EXACT          | finding        |      35 | True    |         53 |           0 |      53 |        0 |           0 |\n",
      "|  1 | DT4H-SM1    | Smoker           | 77176002 | fumador               | Smoker                                   | EXACT          | finding        |      35 | True    |         53 |           0 |      53 |        0 |           0 |\n",
      "|  3 | DT4H-CV5    | Hypertension     | 38341003 | HTA                   | Hypertensive disorder, systemic arterial | EXACT          | disorder       |      24 | True    |        130 |           0 |     129 |        1 |           0 |\n",
      "|  4 | DT4HSign-23 | pleural effusion | 60046008 | derrame pleural       | Pleural effusion                         | EXACT          | disorder       |      23 | True    |         24 |           0 |      23 |        1 |           0 | \n",
      "\n",
      "|     | ID          | name        |      code | span      | term                                      | semantic_rel   | semantic_tag     |   count | found   |   count_ID |   COMPOSITE |   EXACT |   NARROW |   NOT_FOUND |\n",
      "|----:|:------------|:------------|----------:|:----------|:------------------------------------------|:---------------|:-----------------|--------:|:--------|-----------:|------------:|--------:|---------:|------------:|\n",
      "| 303 | DT4HSign-18 | weight gain | 262286000 | NOT_FOUND | Weight increased                          | NOT_FOUND      | finding          |       0 | False   |          0 |           0 |       0 |        0 |           0 |\n",
      "| 304 | DT4HSign-19 | weight loss |  89362005 | NOT_FOUND | Weight loss                               | NOT_FOUND      | finding          |       0 | False   |          0 |           0 |       0 |        0 |           0 |\n",
      "| 305 | DT4HSign-2  | Chest pain  |  29857009 | NOT_FOUND | Chest pain                                | NOT_FOUND      | finding          |       0 | False   |          0 |           0 |       0 |        0 |           0 |\n",
      "| 306 | DT4HSign-11 | depression  | 366979004 | NOT_FOUND | Depressed mood                            | NOT_FOUND      | finding          |       0 | False   |          0 |           0 |       0 |        0 |           0 |\n",
      "| 293 | DT4HSign-1  | NYHA class  | 420816009 | NOT_FOUND | New York Heart Association Classification | NOT_FOUND      | assessment scale |       0 | False   |          0 |           0 |       0 |        0 |           0 | \n",
      "\n"
     ]
    }
   ],
   "source": [
    "def process_composites(df, df_vars):\n",
    "    '''\n",
    "    Function to extract composite codes. Get the first code that is in the list of variables.\n",
    "    '''\n",
    "\n",
    "    df_data = df.copy()\n",
    "    df_vars = df_vars.copy()\n",
    "\n",
    "    # Get the unique codes from the variables dataframe to process the composites\n",
    "    ls_var_codes = df_vars[\"code\"].drop_duplicates().tolist()\n",
    "\n",
    "    # Merge df_variables with df_distemist on 'code', filling missing values with \"NOT_FOUND\"\n",
    "    df_data_comp = df_data[df_data[\"semantic_rel\"] == \"COMPOSITE\"].copy()\n",
    "    df_data_comp[\"code_list\"] = df_data_comp[\"code\"].str.split(\"+\")\n",
    "    df_data_comp[\"var_code\"] = df_data_comp[\"code_list\"].apply(lambda code: [c for c in code if c in ls_var_codes][0] if any(c in ls_var_codes for c in code) else code[0])\n",
    "    df_data_comp[\"var_code\"] = df_data_comp[\"var_code\"].astype(str)\n",
    "    df_data_comp.code = df_data_comp.var_code\n",
    "\n",
    "    # Process composites\n",
    "    df_data_no_comp = df_data[df_data[\"semantic_rel\"] != \"COMPOSITE\"].copy()\n",
    "\n",
    "    # Once composites have a single code instead of a list, concatenate the dataframes\n",
    "    df_data = pd.concat([df_data_no_comp, df_data_comp], ignore_index=True)\n",
    "\n",
    "    return df_data\n",
    "\n",
    "def generate_df_codes(df_data, df_vars):\n",
    "\n",
    "    # Make copies of the dataframes to avoid modifying the originals\n",
    "    df_data = df_data.copy()\n",
    "    df_vars = df_vars.copy()\n",
    "\n",
    "    df_data = process_composites(df_data, df_vars)\n",
    "\n",
    "    df_code_ovr = df_vars[[\"ID\", \"name\", \"code\", \"term\", \"semantic_tag\"]].merge(\n",
    "                                                                            df_data[['code', 'span', 'semantic_rel']].reset_index(), \n",
    "                                                                            on='code', \n",
    "                                                                            how='left'\n",
    "                                                                        ).fillna(\"NOT_FOUND\")\n",
    "\n",
    "    # assert (df_code_ovr[\"semantic_rel\"] == \"COMPOSITE\").sum() > 0, \"NO COMPOSITES FOUND\"\n",
    "\n",
    "    # Group by 'code', 'span', and 'semantic_rel', then count occurrences\n",
    "    df_code_ovr = df_code_ovr.groupby(['ID', 'name', 'code', 'span', 'term', 'semantic_rel', 'semantic_tag']).size().reset_index(name='count').sort_values(by=\"count\", ascending=False)\n",
    "\n",
    "    # Set count to 0 for entries with 'span' marked as \"NOT_FOUND\"\n",
    "    df_code_ovr.loc[df_code_ovr.span == \"NOT_FOUND\", \"count\"] = 0\n",
    "\n",
    "    # Rename columns for clarity\n",
    "    df_code_ovr.columns = ['ID', 'name', 'code', 'span', 'term', 'semantic_rel', 'semantic_tag', 'count']\n",
    "\n",
    "    \n",
    "    df_code_ovr[\"found\"] = df_code_ovr[\"span\"] != \"NOT_FOUND\"\n",
    "\n",
    "    # Include column of count by code\n",
    "    df_code_count = df_code_ovr.groupby([\"ID\"]).aggregate({\"count\":\"sum\"}).reset_index()\n",
    "    df_count_group = df_code_count.groupby(\"ID\").aggregate({\"count\":\"sum\"}).reset_index()\n",
    "    df_code_ovr = df_code_ovr.merge(df_count_group, on=\"ID\", suffixes=('', '_ID'))\n",
    "\n",
    "    # Include columns of count by semantic_rel\n",
    "    df_code_rel = df_code_ovr.groupby([\"ID\", \"semantic_rel\"]).aggregate({\"count\":\"sum\"}).reset_index()\n",
    "    df_code_rel = df_code_rel.pivot(index=\"ID\", columns=\"semantic_rel\", values=\"count\").fillna(0).reset_index()\n",
    "    df_code_ovr = df_code_ovr.merge(df_code_rel, on=\"ID\").sort_values(by=\"count\", ascending=False)\n",
    "\n",
    "    # Print the shape of the resulting dataframe\n",
    "    print(\"Shape:\", df_code_ovr.shape)\n",
    "    print(\"Unique codes:\", df_code_ovr[\"ID\"].nunique())\n",
    "    # Print the number of codes not found (count is 0)\n",
    "    print(\"Codes not found:\", df_code_ovr[~df_code_ovr[\"found\"]].code.nunique())\n",
    "\n",
    "    # Print the top 10 codes by count in markdown format\n",
    "    print(df_code_ovr.head().to_markdown(), \"\\n\")\n",
    "\n",
    "    # Print the bottom 10 codes by count in markdown format\n",
    "    print(df_code_ovr.tail().to_markdown(), \"\\n\")\n",
    "\n",
    "    return df_code_ovr\n",
    "\n",
    "df_code_ovr = generate_df_codes(df_distemist, df_variables)"
   ]
  },
  {
   "cell_type": "code",
   "execution_count": 6,
   "metadata": {},
   "outputs": [
    {
     "data": {
      "text/plain": [
       "<Axes: xlabel='semantic_rel'>"
      ]
     },
     "execution_count": 6,
     "metadata": {},
     "output_type": "execute_result"
    },
    {
     "data": {
      "image/png": "[encoded data removed]",
      "text/plain": [
       "<Figure size 640x480 with 1 Axes>"
      ]
     },
     "metadata": {},
     "output_type": "display_data"
    }
   ],
   "source": [
    "df_code_ovr.semantic_rel.value_counts().plot(kind='bar')"
   ]
  },
  {
   "cell_type": "code",
   "execution_count": 7,
   "metadata": {},
   "outputs": [
    {
     "data": {
      "text/plain": [
       "(652,)"
      ]
     },
     "execution_count": 7,
     "metadata": {},
     "output_type": "execute_result"
    }
   ],
   "source": [
    "df_code_ovr[\"ID\"].drop_duplicates().shape"
   ]
  },
  {
   "cell_type": "code",
   "execution_count": 8,
   "metadata": {},
   "outputs": [
    {
     "data": {
      "application/vnd.plotly.v1+json": {
       "config": {
        "plotlyServerURL": "https://plot.ly"
       },
       "data": [
        {
         "alignmentgroup": "True",
         "hovertemplate": "found=Found<br>Count=%{x}<br>Semantic Tag=%{y}<br>text=%{text}<extra></extra>",
         "legendgroup": "Found",
         "marker": {
          "color": "#1EE132",
          "pattern": {
           "shape": ""
          }
         },
         "name": "Found",
         "offsetgroup": "Found",
         "orientation": "h",
         "showlegend": true,
         "text": [
          "16.67%",
          "82.76%"
         ],
         "textposition": "auto",
         "type": "bar",
         "x": [
          6,
          24
         ],
         "xaxis": "x",
         "y": [
          "finding",
          "disorder"
         ],
         "yaxis": "y"
        },
        {
         "alignmentgroup": "True",
         "hovertemplate": "found=Not Found<br>Count=%{x}<br>Semantic Tag=%{y}<br>text=%{text}<extra></extra>",
         "legendgroup": "Not Found",
         "marker": {
          "color": "#9E8C88",
          "pattern": {
           "shape": ""
          }
         },
         "name": "Not Found",
         "offsetgroup": "Not Found",
         "orientation": "h",
         "showlegend": true,
         "text": [
          "100.0%",
          "83.33%",
          "17.24%",
          "100.0%",
          "100.0%",
          "100.0%",
          "100.0%",
          "100.0%"
         ],
         "textposition": "auto",
         "type": "bar",
         "x": [
          553,
          30,
          5,
          18,
          11,
          3,
          1,
          1
         ],
         "xaxis": "x",
         "y": [
          "substance",
          "finding",
          "disorder",
          "observable entity",
          "procedure",
          "other",
          "assessment scale",
          "medicinal product"
         ],
         "yaxis": "y"
        }
       ],
       "layout": {
        "barmode": "stack",
        "legend": {
         "title": {
          "text": "found"
         },
         "tracegroupgap": 0
        },
        "template": {
         "data": {
          "bar": [
           {
            "error_x": {
             "color": "#2a3f5f"
            },
            "error_y": {
             "color": "#2a3f5f"
            },
            "marker": {
             "line": {
              "color": "#E5ECF6",
              "width": 0.5
             },
             "pattern": {
              "fillmode": "overlay",
              "size": 10,
              "solidity": 0.2
             }
            },
            "type": "bar"
           }
          ],
          "barpolar": [
           {
            "marker": {
             "line": {
              "color": "#E5ECF6",
              "width": 0.5
             },
             "pattern": {
              "fillmode": "overlay",
              "size": 10,
              "solidity": 0.2
             }
            },
            "type": "barpolar"
           }
          ],
          "carpet": [
           {
            "aaxis": {
             "endlinecolor": "#2a3f5f",
             "gridcolor": "white",
             "linecolor": "white",
             "minorgridcolor": "white",
             "startlinecolor": "#2a3f5f"
            },
            "baxis": {
             "endlinecolor": "#2a3f5f",
             "gridcolor": "white",
             "linecolor": "white",
             "minorgridcolor": "white",
             "startlinecolor": "#2a3f5f"
            },
            "type": "carpet"
           }
          ],
          "choropleth": [
           {
            "colorbar": {
             "outlinewidth": 0,
             "ticks": ""
            },
            "type": "choropleth"
           }
          ],
          "contour": [
           {
            "colorbar": {
             "outlinewidth": 0,
             "ticks": ""
            },
            "colorscale": [
             [
              0,
              "#0d0887"
             ],
             [
              0.1111111111111111,
              "#46039f"
             ],
             [
              0.2222222222222222,
              "#7201a8"
             ],
             [
              0.3333333333333333,
              "#9c179e"
             ],
             [
              0.4444444444444444,
              "#bd3786"
             ],
             [
              0.5555555555555556,
              "#d8576b"
             ],
             [
              0.6666666666666666,
              "#ed7953"
             ],
             [
              0.7777777777777778,
              "#fb9f3a"
             ],
             [
              0.8888888888888888,
              "#fdca26"
             ],
             [
              1,
              "#f0f921"
             ]
            ],
            "type": "contour"
           }
          ],
          "contourcarpet": [
           {
            "colorbar": {
             "outlinewidth": 0,
             "ticks": ""
            },
            "type": "contourcarpet"
           }
          ],
          "heatmap": [
           {
            "colorbar": {
             "outlinewidth": 0,
             "ticks": ""
            },
            "colorscale": [
             [
              0,
              "#0d0887"
             ],
             [
              0.1111111111111111,
              "#46039f"
             ],
             [
              0.2222222222222222,
              "#7201a8"
             ],
             [
              0.3333333333333333,
              "#9c179e"
             ],
             [
              0.4444444444444444,
              "#bd3786"
             ],
             [
              0.5555555555555556,
              "#d8576b"
             ],
             [
              0.6666666666666666,
              "#ed7953"
             ],
             [
              0.7777777777777778,
              "#fb9f3a"
             ],
             [
              0.8888888888888888,
              "#fdca26"
             ],
             [
              1,
              "#f0f921"
             ]
            ],
            "type": "heatmap"
           }
          ],
          "heatmapgl": [
           {
            "colorbar": {
             "outlinewidth": 0,
             "ticks": ""
            },
            "colorscale": [
             [
              0,
              "#0d0887"
             ],
             [
              0.1111111111111111,
              "#46039f"
             ],
             [
              0.2222222222222222,
              "#7201a8"
             ],
             [
              0.3333333333333333,
              "#9c179e"
             ],
             [
              0.4444444444444444,
              "#bd3786"
             ],
             [
              0.5555555555555556,
              "#d8576b"
             ],
             [
              0.6666666666666666,
              "#ed7953"
             ],
             [
              0.7777777777777778,
              "#fb9f3a"
             ],
             [
              0.8888888888888888,
              "#fdca26"
             ],
             [
              1,
              "#f0f921"
             ]
            ],
            "type": "heatmapgl"
           }
          ],
          "histogram": [
           {
            "marker": {
             "pattern": {
              "fillmode": "overlay",
              "size": 10,
              "solidity": 0.2
             }
            },
            "type": "histogram"
           }
          ],
          "histogram2d": [
           {
            "colorbar": {
             "outlinewidth": 0,
             "ticks": ""
            },
            "colorscale": [
             [
              0,
              "#0d0887"
             ],
             [
              0.1111111111111111,
              "#46039f"
             ],
             [
              0.2222222222222222,
              "#7201a8"
             ],
             [
              0.3333333333333333,
              "#9c179e"
             ],
             [
              0.4444444444444444,
              "#bd3786"
             ],
             [
              0.5555555555555556,
              "#d8576b"
             ],
             [
              0.6666666666666666,
              "#ed7953"
             ],
             [
              0.7777777777777778,
              "#fb9f3a"
             ],
             [
              0.8888888888888888,
              "#fdca26"
             ],
             [
              1,
              "#f0f921"
             ]
            ],
            "type": "histogram2d"
           }
          ],
          "histogram2dcontour": [
           {
            "colorbar": {
             "outlinewidth": 0,
             "ticks": ""
            },
            "colorscale": [
             [
              0,
              "#0d0887"
             ],
             [
              0.1111111111111111,
              "#46039f"
             ],
             [
              0.2222222222222222,
              "#7201a8"
             ],
             [
              0.3333333333333333,
              "#9c179e"
             ],
             [
              0.4444444444444444,
              "#bd3786"
             ],
             [
              0.5555555555555556,
              "#d8576b"
             ],
             [
              0.6666666666666666,
              "#ed7953"
             ],
             [
              0.7777777777777778,
              "#fb9f3a"
             ],
             [
              0.8888888888888888,
              "#fdca26"
             ],
             [
              1,
              "#f0f921"
             ]
            ],
            "type": "histogram2dcontour"
           }
          ],
          "mesh3d": [
           {
            "colorbar": {
             "outlinewidth": 0,
             "ticks": ""
            },
            "type": "mesh3d"
           }
          ],
          "parcoords": [
           {
            "line": {
             "colorbar": {
              "outlinewidth": 0,
              "ticks": ""
             }
            },
            "type": "parcoords"
           }
          ],
          "pie": [
           {
            "automargin": true,
            "type": "pie"
           }
          ],
          "scatter": [
           {
            "fillpattern": {
             "fillmode": "overlay",
             "size": 10,
             "solidity": 0.2
            },
            "type": "scatter"
           }
          ],
          "scatter3d": [
           {
            "line": {
             "colorbar": {
              "outlinewidth": 0,
              "ticks": ""
             }
            },
            "marker": {
             "colorbar": {
              "outlinewidth": 0,
              "ticks": ""
             }
            },
            "type": "scatter3d"
           }
          ],
          "scattercarpet": [
           {
            "marker": {
             "colorbar": {
              "outlinewidth": 0,
              "ticks": ""
             }
            },
            "type": "scattercarpet"
           }
          ],
          "scattergeo": [
           {
            "marker": {
             "colorbar": {
              "outlinewidth": 0,
              "ticks": ""
             }
            },
            "type": "scattergeo"
           }
          ],
          "scattergl": [
           {
            "marker": {
             "colorbar": {
              "outlinewidth": 0,
              "ticks": ""
             }
            },
            "type": "scattergl"
           }
          ],
          "scattermapbox": [
           {
            "marker": {
             "colorbar": {
              "outlinewidth": 0,
              "ticks": ""
             }
            },
            "type": "scattermapbox"
           }
          ],
          "scatterpolar": [
           {
            "marker": {
             "colorbar": {
              "outlinewidth": 0,
              "ticks": ""
             }
            },
            "type": "scatterpolar"
           }
          ],
          "scatterpolargl": [
           {
            "marker": {
             "colorbar": {
              "outlinewidth": 0,
              "ticks": ""
             }
            },
            "type": "scatterpolargl"
           }
          ],
          "scatterternary": [
           {
            "marker": {
             "colorbar": {
              "outlinewidth": 0,
              "ticks": ""
             }
            },
            "type": "scatterternary"
           }
          ],
          "surface": [
           {
            "colorbar": {
             "outlinewidth": 0,
             "ticks": ""
            },
            "colorscale": [
             [
              0,
              "#0d0887"
             ],
             [
              0.1111111111111111,
              "#46039f"
             ],
             [
              0.2222222222222222,
              "#7201a8"
             ],
             [
              0.3333333333333333,
              "#9c179e"
             ],
             [
              0.4444444444444444,
              "#bd3786"
             ],
             [
              0.5555555555555556,
              "#d8576b"
             ],
             [
              0.6666666666666666,
              "#ed7953"
             ],
             [
              0.7777777777777778,
              "#fb9f3a"
             ],
             [
              0.8888888888888888,
              "#fdca26"
             ],
             [
              1,
              "#f0f921"
             ]
            ],
            "type": "surface"
           }
          ],
          "table": [
           {
            "cells": {
             "fill": {
              "color": "#EBF0F8"
             },
             "line": {
              "color": "white"
             }
            },
            "header": {
             "fill": {
              "color": "#C8D4E3"
             },
             "line": {
              "color": "white"
             }
            },
            "type": "table"
           }
          ]
         },
         "layout": {
          "annotationdefaults": {
           "arrowcolor": "#2a3f5f",
           "arrowhead": 0,
           "arrowwidth": 1
          },
          "autotypenumbers": "strict",
          "coloraxis": {
           "colorbar": {
            "outlinewidth": 0,
            "ticks": ""
           }
          },
          "colorscale": {
           "diverging": [
            [
             0,
             "#8e0152"
            ],
            [
             0.1,
             "#c51b7d"
            ],
            [
             0.2,
             "#de77ae"
            ],
            [
             0.3,
             "#f1b6da"
            ],
            [
             0.4,
             "#fde0ef"
            ],
            [
             0.5,
             "#f7f7f7"
            ],
            [
             0.6,
             "#e6f5d0"
            ],
            [
             0.7,
             "#b8e186"
            ],
            [
             0.8,
             "#7fbc41"
            ],
            [
             0.9,
             "#4d9221"
            ],
            [
             1,
             "#276419"
            ]
           ],
           "sequential": [
            [
             0,
             "#0d0887"
            ],
            [
             0.1111111111111111,
             "#46039f"
            ],
            [
             0.2222222222222222,
             "#7201a8"
            ],
            [
             0.3333333333333333,
             "#9c179e"
            ],
            [
             0.4444444444444444,
             "#bd3786"
            ],
            [
             0.5555555555555556,
             "#d8576b"
            ],
            [
             0.6666666666666666,
             "#ed7953"
            ],
            [
             0.7777777777777778,
             "#fb9f3a"
            ],
            [
             0.8888888888888888,
             "#fdca26"
            ],
            [
             1,
             "#f0f921"
            ]
           ],
           "sequentialminus": [
            [
             0,
             "#0d0887"
            ],
            [
             0.1111111111111111,
             "#46039f"
            ],
            [
             0.2222222222222222,
             "#7201a8"
            ],
            [
             0.3333333333333333,
             "#9c179e"
            ],
            [
             0.4444444444444444,
             "#bd3786"
            ],
            [
             0.5555555555555556,
             "#d8576b"
            ],
            [
             0.6666666666666666,
             "#ed7953"
            ],
            [
             0.7777777777777778,
             "#fb9f3a"
            ],
            [
             0.8888888888888888,
             "#fdca26"
            ],
            [
             1,
             "#f0f921"
            ]
           ]
          },
          "colorway": [
           "#636efa",
           "#EF553B",
           "#00cc96",
           "#ab63fa",
           "#FFA15A",
           "#19d3f3",
           "#FF6692",
           "#B6E880",
           "#FF97FF",
           "#FECB52"
          ],
          "font": {
           "color": "#2a3f5f"
          },
          "geo": {
           "bgcolor": "white",
           "lakecolor": "white",
           "landcolor": "#E5ECF6",
           "showlakes": true,
           "showland": true,
           "subunitcolor": "white"
          },
          "hoverlabel": {
           "align": "left"
          },
          "hovermode": "closest",
          "mapbox": {
           "style": "light"
          },
          "paper_bgcolor": "white",
          "plot_bgcolor": "#E5ECF6",
          "polar": {
           "angularaxis": {
            "gridcolor": "white",
            "linecolor": "white",
            "ticks": ""
           },
           "bgcolor": "#E5ECF6",
           "radialaxis": {
            "gridcolor": "white",
            "linecolor": "white",
            "ticks": ""
           }
          },
          "scene": {
           "xaxis": {
            "backgroundcolor": "#E5ECF6",
            "gridcolor": "white",
            "gridwidth": 2,
            "linecolor": "white",
            "showbackground": true,
            "ticks": "",
            "zerolinecolor": "white"
           },
           "yaxis": {
            "backgroundcolor": "#E5ECF6",
            "gridcolor": "white",
            "gridwidth": 2,
            "linecolor": "white",
            "showbackground": true,
            "ticks": "",
            "zerolinecolor": "white"
           },
           "zaxis": {
            "backgroundcolor": "#E5ECF6",
            "gridcolor": "white",
            "gridwidth": 2,
            "linecolor": "white",
            "showbackground": true,
            "ticks": "",
            "zerolinecolor": "white"
           }
          },
          "shapedefaults": {
           "line": {
            "color": "#2a3f5f"
           }
          },
          "ternary": {
           "aaxis": {
            "gridcolor": "white",
            "linecolor": "white",
            "ticks": ""
           },
           "baxis": {
            "gridcolor": "white",
            "linecolor": "white",
            "ticks": ""
           },
           "bgcolor": "#E5ECF6",
           "caxis": {
            "gridcolor": "white",
            "linecolor": "white",
            "ticks": ""
           }
          },
          "title": {
           "x": 0.05
          },
          "xaxis": {
           "automargin": true,
           "gridcolor": "white",
           "linecolor": "white",
           "ticks": "",
           "title": {
            "standoff": 15
           },
           "zerolinecolor": "white",
           "zerolinewidth": 2
          },
          "yaxis": {
           "automargin": true,
           "gridcolor": "white",
           "linecolor": "white",
           "ticks": "",
           "title": {
            "standoff": 15
           },
           "zerolinecolor": "white",
           "zerolinewidth": 2
          }
         }
        },
        "title": {
         "text": "Coverage by Semantic Tag"
        },
        "xaxis": {
         "anchor": "y",
         "domain": [
          0,
          1
         ],
         "title": {
          "text": "Count"
         }
        },
        "yaxis": {
         "anchor": "x",
         "autorange": "reversed",
         "domain": [
          0,
          1
         ],
         "title": {
          "text": "Semantic Tag"
         }
        }
       }
      }
     },
     "metadata": {},
     "output_type": "display_data"
    },
    {
     "data": {
      "application/vnd.plotly.v1+json": {
       "config": {
        "plotlyServerURL": "https://plot.ly"
       },
       "data": [
        {
         "domain": {
          "x": [
           0,
           0.2888888888888889
          ],
          "y": [
           0,
           1
          ]
         },
         "hovertemplate": "found=%{label}<extra></extra>",
         "labels": [
          "Found",
          "Found",
          "Found",
          "Found",
          "Found",
          "Found",
          "Found",
          "Found",
          "Found",
          "Found",
          "Found",
          "Found",
          "Found",
          "Found",
          "Found",
          "Found",
          "Found",
          "Found",
          "Found",
          "Found",
          "Found",
          "Found",
          "Found",
          "Found",
          "Found",
          "Found",
          "Found",
          "Found",
          "Found",
          "Found",
          "Not Found",
          "Not Found",
          "Not Found",
          "Not Found",
          "Not Found",
          "Not Found",
          "Not Found",
          "Not Found",
          "Not Found",
          "Not Found",
          "Not Found",
          "Not Found",
          "Not Found",
          "Not Found",
          "Not Found",
          "Not Found",
          "Not Found",
          "Not Found",
          "Not Found",
          "Not Found",
          "Not Found",
          "Not Found",
          "Not Found",
          "Not Found",
          "Not Found",
          "Not Found",
          "Not Found",
          "Not Found",
          "Not Found",
          "Not Found",
          "Not Found",
          "Not Found",
          "Not Found",
          "Not Found",
          "Not Found",
          "Not Found",
          "Not Found",
          "Not Found",
          "Not Found",
          "Not Found",
          "Not Found",
          "Not Found",
          "Not Found",
          "Not Found",
          "Not Found",
          "Not Found",
          "Not Found",
          "Not Found",
          "Not Found",
          "Not Found",
          "Not Found",
          "Not Found",
          "Not Found",
          "Not Found",
          "Not Found",
          "Not Found",
          "Not Found",
          "Not Found",
          "Not Found",
          "Not Found",
          "Not Found",
          "Not Found",
          "Not Found",
          "Not Found",
          "Not Found",
          "Not Found",
          "Not Found",
          "Not Found",
          "Not Found",
          "Not Found",
          "Not Found",
          "Not Found",
          "Not Found",
          "Not Found",
          "Not Found",
          "Not Found",
          "Not Found",
          "Not Found",
          "Not Found",
          "Not Found",
          "Not Found",
          "Not Found",
          "Not Found",
          "Not Found",
          "Not Found",
          "Not Found",
          "Not Found",
          "Not Found",
          "Not Found",
          "Not Found",
          "Not Found",
          "Not Found",
          "Not Found",
          "Not Found",
          "Not Found",
          "Not Found",
          "Not Found",
          "Not Found",
          "Not Found",
          "Not Found",
          "Not Found",
          "Not Found",
          "Not Found",
          "Not Found",
          "Not Found",
          "Not Found",
          "Not Found",
          "Not Found",
          "Not Found",
          "Not Found",
          "Not Found",
          "Not Found",
          "Not Found",
          "Not Found",
          "Not Found",
          "Not Found",
          "Not Found",
          "Not Found",
          "Not Found",
          "Not Found",
          "Not Found",
          "Not Found",
          "Not Found",
          "Not Found",
          "Not Found",
          "Not Found",
          "Not Found",
          "Not Found",
          "Not Found",
          "Not Found",
          "Not Found",
          "Not Found",
          "Not Found",
          "Not Found",
          "Not Found",
          "Not Found",
          "Not Found",
          "Not Found",
          "Not Found",
          "Not Found",
          "Not Found",
          "Not Found",
          "Not Found",
          "Not Found",
          "Not Found",
          "Not Found",
          "Not Found",
          "Not Found",
          "Not Found",
          "Not Found",
          "Not Found",
          "Not Found",
          "Not Found",
          "Not Found",
          "Not Found",
          "Not Found",
          "Not Found",
          "Not Found",
          "Not Found",
          "Not Found",
          "Not Found",
          "Not Found",
          "Not Found",
          "Not Found",
          "Not Found",
          "Not Found",
          "Not Found",
          "Not Found",
          "Not Found",
          "Not Found",
          "Not Found",
          "Not Found",
          "Not Found",
          "Not Found",
          "Not Found",
          "Not Found",
          "Not Found",
          "Not Found",
          "Not Found",
          "Not Found",
          "Not Found",
          "Not Found",
          "Not Found",
          "Not Found",
          "Not Found",
          "Not Found",
          "Not Found",
          "Not Found",
          "Not Found",
          "Not Found",
          "Not Found",
          "Not Found",
          "Not Found",
          "Not Found",
          "Not Found",
          "Not Found",
          "Not Found",
          "Not Found",
          "Not Found",
          "Not Found",
          "Not Found",
          "Not Found",
          "Not Found",
          "Not Found",
          "Not Found",
          "Not Found",
          "Not Found",
          "Not Found",
          "Not Found",
          "Not Found",
          "Not Found",
          "Not Found",
          "Not Found",
          "Not Found",
          "Not Found",
          "Not Found",
          "Not Found",
          "Not Found",
          "Not Found",
          "Not Found",
          "Not Found",
          "Not Found",
          "Not Found",
          "Not Found",
          "Not Found",
          "Not Found",
          "Not Found",
          "Not Found",
          "Not Found",
          "Not Found",
          "Not Found",
          "Not Found",
          "Not Found",
          "Not Found",
          "Not Found",
          "Not Found",
          "Not Found",
          "Not Found",
          "Not Found",
          "Not Found",
          "Not Found",
          "Not Found",
          "Not Found",
          "Not Found",
          "Not Found",
          "Not Found",
          "Not Found",
          "Not Found",
          "Not Found",
          "Not Found",
          "Not Found",
          "Not Found",
          "Not Found",
          "Not Found",
          "Not Found",
          "Not Found",
          "Not Found",
          "Not Found",
          "Not Found",
          "Not Found",
          "Not Found",
          "Not Found",
          "Not Found",
          "Not Found",
          "Not Found",
          "Not Found",
          "Not Found",
          "Not Found",
          "Not Found",
          "Not Found",
          "Not Found",
          "Not Found",
          "Not Found",
          "Not Found",
          "Not Found",
          "Not Found",
          "Not Found",
          "Not Found",
          "Not Found",
          "Not Found",
          "Not Found",
          "Not Found",
          "Not Found",
          "Not Found",
          "Not Found",
          "Not Found",
          "Not Found",
          "Not Found",
          "Not Found",
          "Not Found",
          "Not Found",
          "Not Found",
          "Not Found",
          "Not Found",
          "Not Found",
          "Not Found",
          "Not Found",
          "Not Found",
          "Not Found",
          "Not Found",
          "Not Found",
          "Not Found",
          "Not Found",
          "Not Found",
          "Not Found",
          "Not Found",
          "Not Found",
          "Not Found",
          "Not Found",
          "Not Found",
          "Not Found",
          "Not Found",
          "Not Found",
          "Not Found",
          "Not Found",
          "Not Found",
          "Not Found",
          "Not Found",
          "Not Found",
          "Not Found",
          "Not Found",
          "Not Found",
          "Not Found",
          "Not Found",
          "Not Found",
          "Not Found",
          "Not Found",
          "Not Found",
          "Not Found",
          "Not Found",
          "Not Found",
          "Not Found",
          "Not Found",
          "Not Found",
          "Not Found",
          "Not Found",
          "Not Found",
          "Not Found",
          "Not Found",
          "Not Found",
          "Not Found",
          "Not Found",
          "Not Found",
          "Not Found",
          "Not Found",
          "Not Found",
          "Not Found",
          "Not Found",
          "Not Found",
          "Not Found",
          "Not Found",
          "Not Found",
          "Not Found",
          "Not Found",
          "Not Found",
          "Not Found",
          "Not Found",
          "Not Found",
          "Not Found",
          "Not Found",
          "Not Found",
          "Not Found",
          "Not Found",
          "Not Found",
          "Not Found",
          "Not Found",
          "Not Found",
          "Not Found",
          "Not Found",
          "Not Found",
          "Not Found",
          "Not Found",
          "Not Found",
          "Not Found",
          "Not Found",
          "Not Found",
          "Not Found",
          "Not Found",
          "Not Found",
          "Not Found",
          "Not Found",
          "Not Found",
          "Not Found",
          "Not Found",
          "Not Found",
          "Not Found",
          "Not Found",
          "Not Found",
          "Not Found",
          "Not Found",
          "Not Found",
          "Not Found",
          "Not Found",
          "Not Found",
          "Not Found",
          "Not Found",
          "Not Found",
          "Not Found",
          "Not Found",
          "Not Found",
          "Not Found",
          "Not Found",
          "Not Found",
          "Not Found",
          "Not Found",
          "Not Found",
          "Not Found",
          "Not Found",
          "Not Found",
          "Not Found",
          "Not Found",
          "Not Found",
          "Not Found",
          "Not Found",
          "Not Found",
          "Not Found",
          "Not Found",
          "Not Found",
          "Not Found",
          "Not Found",
          "Not Found",
          "Not Found",
          "Not Found",
          "Not Found",
          "Not Found",
          "Not Found",
          "Not Found",
          "Not Found",
          "Not Found",
          "Not Found",
          "Not Found",
          "Not Found",
          "Not Found",
          "Not Found",
          "Not Found",
          "Not Found",
          "Not Found",
          "Not Found",
          "Not Found",
          "Not Found",
          "Not Found",
          "Not Found",
          "Not Found",
          "Not Found",
          "Not Found",
          "Not Found",
          "Not Found",
          "Not Found",
          "Not Found",
          "Not Found",
          "Not Found",
          "Not Found",
          "Not Found",
          "Not Found",
          "Not Found",
          "Not Found",
          "Not Found",
          "Not Found",
          "Not Found",
          "Not Found",
          "Not Found",
          "Not Found",
          "Not Found",
          "Not Found",
          "Not Found",
          "Not Found",
          "Not Found",
          "Not Found",
          "Not Found",
          "Not Found",
          "Not Found",
          "Not Found",
          "Not Found",
          "Not Found",
          "Not Found",
          "Not Found",
          "Not Found",
          "Not Found",
          "Not Found",
          "Not Found",
          "Not Found",
          "Not Found",
          "Not Found",
          "Not Found",
          "Not Found",
          "Not Found",
          "Not Found",
          "Not Found",
          "Not Found",
          "Not Found",
          "Not Found",
          "Not Found",
          "Not Found",
          "Not Found",
          "Not Found",
          "Not Found",
          "Not Found",
          "Not Found",
          "Not Found",
          "Not Found",
          "Not Found",
          "Not Found",
          "Not Found",
          "Not Found",
          "Not Found",
          "Not Found",
          "Not Found",
          "Not Found",
          "Not Found",
          "Not Found",
          "Not Found",
          "Not Found",
          "Not Found",
          "Not Found",
          "Not Found",
          "Not Found",
          "Not Found",
          "Not Found",
          "Not Found",
          "Not Found",
          "Not Found",
          "Not Found",
          "Not Found",
          "Not Found",
          "Not Found",
          "Not Found",
          "Not Found",
          "Not Found",
          "Not Found",
          "Not Found",
          "Not Found",
          "Not Found",
          "Not Found",
          "Not Found",
          "Not Found",
          "Not Found",
          "Not Found",
          "Not Found",
          "Not Found",
          "Not Found",
          "Not Found",
          "Not Found",
          "Not Found",
          "Not Found",
          "Not Found",
          "Not Found",
          "Not Found",
          "Not Found",
          "Not Found",
          "Not Found",
          "Not Found",
          "Not Found",
          "Not Found",
          "Not Found",
          "Not Found",
          "Not Found",
          "Not Found",
          "Not Found",
          "Not Found",
          "Not Found",
          "Not Found",
          "Not Found",
          "Not Found",
          "Not Found",
          "Not Found",
          "Not Found",
          "Not Found",
          "Not Found",
          "Not Found",
          "Not Found",
          "Not Found",
          "Not Found",
          "Not Found",
          "Not Found",
          "Not Found",
          "Not Found",
          "Not Found",
          "Not Found",
          "Not Found",
          "Not Found",
          "Not Found",
          "Not Found",
          "Not Found",
          "Not Found",
          "Not Found",
          "Not Found",
          "Not Found",
          "Not Found",
          "Not Found",
          "Not Found",
          "Not Found",
          "Not Found",
          "Not Found",
          "Not Found",
          "Not Found",
          "Not Found",
          "Not Found",
          "Not Found",
          "Not Found",
          "Not Found",
          "Not Found",
          "Not Found",
          "Not Found",
          "Not Found",
          "Not Found",
          "Not Found",
          "Not Found",
          "Not Found",
          "Not Found",
          "Not Found",
          "Not Found",
          "Not Found",
          "Not Found",
          "Not Found",
          "Not Found",
          "Not Found",
          "Not Found",
          "Not Found",
          "Not Found",
          "Not Found",
          "Not Found",
          "Not Found"
         ],
         "legendgroup": "",
         "name": "",
         "showlegend": true,
         "textinfo": "label+percent+value",
         "type": "pie"
        },
        {
         "domain": {
          "x": [
           0.35555555555555557,
           0.6444444444444445
          ],
          "y": [
           0,
           1
          ]
         },
         "hovertemplate": "semantic_tag=%{label}<extra></extra>",
         "labels": [
          "disorder",
          "finding",
          "finding",
          "disorder",
          "disorder",
          "disorder",
          "disorder",
          "finding",
          "disorder",
          "finding",
          "disorder",
          "disorder",
          "disorder",
          "disorder",
          "disorder",
          "finding",
          "disorder",
          "disorder",
          "disorder",
          "disorder",
          "disorder",
          "disorder",
          "disorder",
          "disorder",
          "disorder",
          "disorder",
          "finding",
          "disorder",
          "disorder",
          "disorder"
         ],
         "legendgroup": "",
         "name": "",
         "showlegend": true,
         "textinfo": "label+percent+value",
         "type": "pie"
        },
        {
         "domain": {
          "x": [
           0.7111111111111111,
           1
          ],
          "y": [
           0,
           1
          ]
         },
         "hovertemplate": "semantic_rel=%{label}<extra></extra>",
         "labels": [
          "EXACT",
          "EXACT",
          "EXACT",
          "EXACT",
          "EXACT",
          "EXACT",
          "EXACT",
          "EXACT",
          "EXACT",
          "EXACT",
          "EXACT",
          "EXACT",
          "EXACT",
          "EXACT",
          "EXACT",
          "EXACT",
          "EXACT",
          "EXACT",
          "EXACT",
          "EXACT",
          "EXACT",
          "EXACT",
          "EXACT",
          "EXACT",
          "EXACT",
          "EXACT",
          "EXACT",
          "EXACT",
          "EXACT",
          "EXACT",
          "EXACT",
          "EXACT",
          "EXACT",
          "EXACT",
          "EXACT",
          "EXACT",
          "EXACT",
          "EXACT",
          "EXACT",
          "EXACT",
          "EXACT",
          "EXACT",
          "NARROW",
          "EXACT",
          "EXACT",
          "EXACT",
          "NARROW",
          "EXACT",
          "EXACT",
          "NARROW",
          "EXACT",
          "EXACT",
          "EXACT",
          "EXACT",
          "NARROW",
          "EXACT",
          "NARROW",
          "EXACT",
          "EXACT",
          "EXACT",
          "NARROW",
          "NARROW",
          "NARROW",
          "NARROW",
          "EXACT",
          "NARROW",
          "NARROW",
          "NARROW",
          "EXACT",
          "NARROW",
          "EXACT",
          "EXACT",
          "NARROW",
          "NARROW",
          "EXACT",
          "NARROW",
          "COMPOSITE",
          "EXACT",
          "EXACT",
          "NARROW",
          "EXACT",
          "EXACT",
          "NARROW",
          "COMPOSITE",
          "EXACT",
          "EXACT",
          "EXACT",
          "NARROW",
          "EXACT",
          "NARROW",
          "EXACT",
          "COMPOSITE",
          "EXACT",
          "EXACT",
          "EXACT",
          "COMPOSITE",
          "EXACT",
          "NARROW",
          "EXACT",
          "EXACT",
          "EXACT",
          "EXACT",
          "NARROW",
          "EXACT",
          "NARROW",
          "EXACT",
          "EXACT",
          "EXACT",
          "EXACT",
          "EXACT",
          "EXACT",
          "NARROW",
          "EXACT",
          "NARROW",
          "EXACT",
          "COMPOSITE",
          "EXACT",
          "EXACT",
          "EXACT",
          "EXACT",
          "EXACT",
          "EXACT",
          "NARROW",
          "EXACT",
          "EXACT",
          "COMPOSITE",
          "EXACT",
          "EXACT",
          "NARROW",
          "NARROW",
          "EXACT",
          "NARROW",
          "EXACT",
          "NARROW",
          "EXACT",
          "EXACT"
         ],
         "legendgroup": "",
         "name": "",
         "showlegend": true,
         "textinfo": "label+percent+value",
         "type": "pie"
        }
       ],
       "layout": {
        "annotations": [
         {
          "font": {
           "size": 16
          },
          "showarrow": false,
          "text": "Found Variables",
          "x": 0.14444444444444446,
          "xanchor": "center",
          "xref": "paper",
          "y": 1,
          "yanchor": "bottom",
          "yref": "paper"
         },
         {
          "font": {
           "size": 16
          },
          "showarrow": false,
          "text": "Semantic Tag Distribution",
          "x": 0.5,
          "xanchor": "center",
          "xref": "paper",
          "y": 1,
          "yanchor": "bottom",
          "yref": "paper"
         },
         {
          "font": {
           "size": 16
          },
          "showarrow": false,
          "text": "Semantic Relationship Distribution (Total Mentions)",
          "x": 0.8555555555555556,
          "xanchor": "center",
          "xref": "paper",
          "y": 1,
          "yanchor": "bottom",
          "yref": "paper"
         }
        ],
        "height": 600,
        "showlegend": false,
        "template": {
         "data": {
          "bar": [
           {
            "error_x": {
             "color": "#2a3f5f"
            },
            "error_y": {
             "color": "#2a3f5f"
            },
            "marker": {
             "line": {
              "color": "#E5ECF6",
              "width": 0.5
             },
             "pattern": {
              "fillmode": "overlay",
              "size": 10,
              "solidity": 0.2
             }
            },
            "type": "bar"
           }
          ],
          "barpolar": [
           {
            "marker": {
             "line": {
              "color": "#E5ECF6",
              "width": 0.5
             },
             "pattern": {
              "fillmode": "overlay",
              "size": 10,
              "solidity": 0.2
             }
            },
            "type": "barpolar"
           }
          ],
          "carpet": [
           {
            "aaxis": {
             "endlinecolor": "#2a3f5f",
             "gridcolor": "white",
             "linecolor": "white",
             "minorgridcolor": "white",
             "startlinecolor": "#2a3f5f"
            },
            "baxis": {
             "endlinecolor": "#2a3f5f",
             "gridcolor": "white",
             "linecolor": "white",
             "minorgridcolor": "white",
             "startlinecolor": "#2a3f5f"
            },
            "type": "carpet"
           }
          ],
          "choropleth": [
           {
            "colorbar": {
             "outlinewidth": 0,
             "ticks": ""
            },
            "type": "choropleth"
           }
          ],
          "contour": [
           {
            "colorbar": {
             "outlinewidth": 0,
             "ticks": ""
            },
            "colorscale": [
             [
              0,
              "#0d0887"
             ],
             [
              0.1111111111111111,
              "#46039f"
             ],
             [
              0.2222222222222222,
              "#7201a8"
             ],
             [
              0.3333333333333333,
              "#9c179e"
             ],
             [
              0.4444444444444444,
              "#bd3786"
             ],
             [
              0.5555555555555556,
              "#d8576b"
             ],
             [
              0.6666666666666666,
              "#ed7953"
             ],
             [
              0.7777777777777778,
              "#fb9f3a"
             ],
             [
              0.8888888888888888,
              "#fdca26"
             ],
             [
              1,
              "#f0f921"
             ]
            ],
            "type": "contour"
           }
          ],
          "contourcarpet": [
           {
            "colorbar": {
             "outlinewidth": 0,
             "ticks": ""
            },
            "type": "contourcarpet"
           }
          ],
          "heatmap": [
           {
            "colorbar": {
             "outlinewidth": 0,
             "ticks": ""
            },
            "colorscale": [
             [
              0,
              "#0d0887"
             ],
             [
              0.1111111111111111,
              "#46039f"
             ],
             [
              0.2222222222222222,
              "#7201a8"
             ],
             [
              0.3333333333333333,
              "#9c179e"
             ],
             [
              0.4444444444444444,
              "#bd3786"
             ],
             [
              0.5555555555555556,
              "#d8576b"
             ],
             [
              0.6666666666666666,
              "#ed7953"
             ],
             [
              0.7777777777777778,
              "#fb9f3a"
             ],
             [
              0.8888888888888888,
              "#fdca26"
             ],
             [
              1,
              "#f0f921"
             ]
            ],
            "type": "heatmap"
           }
          ],
          "heatmapgl": [
           {
            "colorbar": {
             "outlinewidth": 0,
             "ticks": ""
            },
            "colorscale": [
             [
              0,
              "#0d0887"
             ],
             [
              0.1111111111111111,
              "#46039f"
             ],
             [
              0.2222222222222222,
              "#7201a8"
             ],
             [
              0.3333333333333333,
              "#9c179e"
             ],
             [
              0.4444444444444444,
              "#bd3786"
             ],
             [
              0.5555555555555556,
              "#d8576b"
             ],
             [
              0.6666666666666666,
              "#ed7953"
             ],
             [
              0.7777777777777778,
              "#fb9f3a"
             ],
             [
              0.8888888888888888,
              "#fdca26"
             ],
             [
              1,
              "#f0f921"
             ]
            ],
            "type": "heatmapgl"
           }
          ],
          "histogram": [
           {
            "marker": {
             "pattern": {
              "fillmode": "overlay",
              "size": 10,
              "solidity": 0.2
             }
            },
            "type": "histogram"
           }
          ],
          "histogram2d": [
           {
            "colorbar": {
             "outlinewidth": 0,
             "ticks": ""
            },
            "colorscale": [
             [
              0,
              "#0d0887"
             ],
             [
              0.1111111111111111,
              "#46039f"
             ],
             [
              0.2222222222222222,
              "#7201a8"
             ],
             [
              0.3333333333333333,
              "#9c179e"
             ],
             [
              0.4444444444444444,
              "#bd3786"
             ],
             [
              0.5555555555555556,
              "#d8576b"
             ],
             [
              0.6666666666666666,
              "#ed7953"
             ],
             [
              0.7777777777777778,
              "#fb9f3a"
             ],
             [
              0.8888888888888888,
              "#fdca26"
             ],
             [
              1,
              "#f0f921"
             ]
            ],
            "type": "histogram2d"
           }
          ],
          "histogram2dcontour": [
           {
            "colorbar": {
             "outlinewidth": 0,
             "ticks": ""
            },
            "colorscale": [
             [
              0,
              "#0d0887"
             ],
             [
              0.1111111111111111,
              "#46039f"
             ],
             [
              0.2222222222222222,
              "#7201a8"
             ],
             [
              0.3333333333333333,
              "#9c179e"
             ],
             [
              0.4444444444444444,
              "#bd3786"
             ],
             [
              0.5555555555555556,
              "#d8576b"
             ],
             [
              0.6666666666666666,
              "#ed7953"
             ],
             [
              0.7777777777777778,
              "#fb9f3a"
             ],
             [
              0.8888888888888888,
              "#fdca26"
             ],
             [
              1,
              "#f0f921"
             ]
            ],
            "type": "histogram2dcontour"
           }
          ],
          "mesh3d": [
           {
            "colorbar": {
             "outlinewidth": 0,
             "ticks": ""
            },
            "type": "mesh3d"
           }
          ],
          "parcoords": [
           {
            "line": {
             "colorbar": {
              "outlinewidth": 0,
              "ticks": ""
             }
            },
            "type": "parcoords"
           }
          ],
          "pie": [
           {
            "automargin": true,
            "type": "pie"
           }
          ],
          "scatter": [
           {
            "fillpattern": {
             "fillmode": "overlay",
             "size": 10,
             "solidity": 0.2
            },
            "type": "scatter"
           }
          ],
          "scatter3d": [
           {
            "line": {
             "colorbar": {
              "outlinewidth": 0,
              "ticks": ""
             }
            },
            "marker": {
             "colorbar": {
              "outlinewidth": 0,
              "ticks": ""
             }
            },
            "type": "scatter3d"
           }
          ],
          "scattercarpet": [
           {
            "marker": {
             "colorbar": {
              "outlinewidth": 0,
              "ticks": ""
             }
            },
            "type": "scattercarpet"
           }
          ],
          "scattergeo": [
           {
            "marker": {
             "colorbar": {
              "outlinewidth": 0,
              "ticks": ""
             }
            },
            "type": "scattergeo"
           }
          ],
          "scattergl": [
           {
            "marker": {
             "colorbar": {
              "outlinewidth": 0,
              "ticks": ""
             }
            },
            "type": "scattergl"
           }
          ],
          "scattermapbox": [
           {
            "marker": {
             "colorbar": {
              "outlinewidth": 0,
              "ticks": ""
             }
            },
            "type": "scattermapbox"
           }
          ],
          "scatterpolar": [
           {
            "marker": {
             "colorbar": {
              "outlinewidth": 0,
              "ticks": ""
             }
            },
            "type": "scatterpolar"
           }
          ],
          "scatterpolargl": [
           {
            "marker": {
             "colorbar": {
              "outlinewidth": 0,
              "ticks": ""
             }
            },
            "type": "scatterpolargl"
           }
          ],
          "scatterternary": [
           {
            "marker": {
             "colorbar": {
              "outlinewidth": 0,
              "ticks": ""
             }
            },
            "type": "scatterternary"
           }
          ],
          "surface": [
           {
            "colorbar": {
             "outlinewidth": 0,
             "ticks": ""
            },
            "colorscale": [
             [
              0,
              "#0d0887"
             ],
             [
              0.1111111111111111,
              "#46039f"
             ],
             [
              0.2222222222222222,
              "#7201a8"
             ],
             [
              0.3333333333333333,
              "#9c179e"
             ],
             [
              0.4444444444444444,
              "#bd3786"
             ],
             [
              0.5555555555555556,
              "#d8576b"
             ],
             [
              0.6666666666666666,
              "#ed7953"
             ],
             [
              0.7777777777777778,
              "#fb9f3a"
             ],
             [
              0.8888888888888888,
              "#fdca26"
             ],
             [
              1,
              "#f0f921"
             ]
            ],
            "type": "surface"
           }
          ],
          "table": [
           {
            "cells": {
             "fill": {
              "color": "#EBF0F8"
             },
             "line": {
              "color": "white"
             }
            },
            "header": {
             "fill": {
              "color": "#C8D4E3"
             },
             "line": {
              "color": "white"
             }
            },
            "type": "table"
           }
          ]
         },
         "layout": {
          "annotationdefaults": {
           "arrowcolor": "#2a3f5f",
           "arrowhead": 0,
           "arrowwidth": 1
          },
          "autotypenumbers": "strict",
          "coloraxis": {
           "colorbar": {
            "outlinewidth": 0,
            "ticks": ""
           }
          },
          "colorscale": {
           "diverging": [
            [
             0,
             "#8e0152"
            ],
            [
             0.1,
             "#c51b7d"
            ],
            [
             0.2,
             "#de77ae"
            ],
            [
             0.3,
             "#f1b6da"
            ],
            [
             0.4,
             "#fde0ef"
            ],
            [
             0.5,
             "#f7f7f7"
            ],
            [
             0.6,
             "#e6f5d0"
            ],
            [
             0.7,
             "#b8e186"
            ],
            [
             0.8,
             "#7fbc41"
            ],
            [
             0.9,
             "#4d9221"
            ],
            [
             1,
             "#276419"
            ]
           ],
           "sequential": [
            [
             0,
             "#0d0887"
            ],
            [
             0.1111111111111111,
             "#46039f"
            ],
            [
             0.2222222222222222,
             "#7201a8"
            ],
            [
             0.3333333333333333,
             "#9c179e"
            ],
            [
             0.4444444444444444,
             "#bd3786"
            ],
            [
             0.5555555555555556,
             "#d8576b"
            ],
            [
             0.6666666666666666,
             "#ed7953"
            ],
            [
             0.7777777777777778,
             "#fb9f3a"
            ],
            [
             0.8888888888888888,
             "#fdca26"
            ],
            [
             1,
             "#f0f921"
            ]
           ],
           "sequentialminus": [
            [
             0,
             "#0d0887"
            ],
            [
             0.1111111111111111,
             "#46039f"
            ],
            [
             0.2222222222222222,
             "#7201a8"
            ],
            [
             0.3333333333333333,
             "#9c179e"
            ],
            [
             0.4444444444444444,
             "#bd3786"
            ],
            [
             0.5555555555555556,
             "#d8576b"
            ],
            [
             0.6666666666666666,
             "#ed7953"
            ],
            [
             0.7777777777777778,
             "#fb9f3a"
            ],
            [
             0.8888888888888888,
             "#fdca26"
            ],
            [
             1,
             "#f0f921"
            ]
           ]
          },
          "colorway": [
           "#636efa",
           "#EF553B",
           "#00cc96",
           "#ab63fa",
           "#FFA15A",
           "#19d3f3",
           "#FF6692",
           "#B6E880",
           "#FF97FF",
           "#FECB52"
          ],
          "font": {
           "color": "#2a3f5f"
          },
          "geo": {
           "bgcolor": "white",
           "lakecolor": "white",
           "landcolor": "#E5ECF6",
           "showlakes": true,
           "showland": true,
           "subunitcolor": "white"
          },
          "hoverlabel": {
           "align": "left"
          },
          "hovermode": "closest",
          "mapbox": {
           "style": "light"
          },
          "paper_bgcolor": "white",
          "plot_bgcolor": "#E5ECF6",
          "polar": {
           "angularaxis": {
            "gridcolor": "white",
            "linecolor": "white",
            "ticks": ""
           },
           "bgcolor": "#E5ECF6",
           "radialaxis": {
            "gridcolor": "white",
            "linecolor": "white",
            "ticks": ""
           }
          },
          "scene": {
           "xaxis": {
            "backgroundcolor": "#E5ECF6",
            "gridcolor": "white",
            "gridwidth": 2,
            "linecolor": "white",
            "showbackground": true,
            "ticks": "",
            "zerolinecolor": "white"
           },
           "yaxis": {
            "backgroundcolor": "#E5ECF6",
            "gridcolor": "white",
            "gridwidth": 2,
            "linecolor": "white",
            "showbackground": true,
            "ticks": "",
            "zerolinecolor": "white"
           },
           "zaxis": {
            "backgroundcolor": "#E5ECF6",
            "gridcolor": "white",
            "gridwidth": 2,
            "linecolor": "white",
            "showbackground": true,
            "ticks": "",
            "zerolinecolor": "white"
           }
          },
          "shapedefaults": {
           "line": {
            "color": "#2a3f5f"
           }
          },
          "ternary": {
           "aaxis": {
            "gridcolor": "white",
            "linecolor": "white",
            "ticks": ""
           },
           "baxis": {
            "gridcolor": "white",
            "linecolor": "white",
            "ticks": ""
           },
           "bgcolor": "#E5ECF6",
           "caxis": {
            "gridcolor": "white",
            "linecolor": "white",
            "ticks": ""
           }
          },
          "title": {
           "x": 0.05
          },
          "xaxis": {
           "automargin": true,
           "gridcolor": "white",
           "linecolor": "white",
           "ticks": "",
           "title": {
            "standoff": 15
           },
           "zerolinecolor": "white",
           "zerolinewidth": 2
          },
          "yaxis": {
           "automargin": true,
           "gridcolor": "white",
           "linecolor": "white",
           "ticks": "",
           "title": {
            "standoff": 15
           },
           "zerolinecolor": "white",
           "zerolinewidth": 2
          }
         }
        },
        "title": {
         "text": "Distribution of Semantic Relationships and Found Codes"
        }
       }
      }
     },
     "metadata": {},
     "output_type": "display_data"
    },
    {
     "data": {
      "application/vnd.plotly.v1+json": {
       "config": {
        "plotlyServerURL": "https://plot.ly"
       },
       "data": [
        {
         "alignmentgroup": "True",
         "hovertemplate": "semantic_rel=EXACT<br>Count=%{x}<br>Name=%{y}<extra></extra>",
         "legendgroup": "EXACT",
         "marker": {
          "color": "#636efa",
          "pattern": {
           "shape": ""
          }
         },
         "name": "EXACT",
         "offsetgroup": "EXACT",
         "orientation": "h",
         "showlegend": true,
         "textposition": "auto",
         "type": "bar",
         "x": [
          1,
          0,
          1,
          1,
          1,
          1,
          2,
          2,
          3,
          3,
          4,
          4,
          5,
          6,
          8,
          6,
          10,
          3,
          15,
          14,
          7,
          18,
          18,
          19,
          21,
          23,
          31,
          53,
          53,
          129
         ],
         "xaxis": "x",
         "y": [
          "DT4HEKG-2-ECG_STEMI (Acute ST segment elevation myocardial infarction )",
          "DT4H-Dis12-Rheumatic disorder ( Rheumatism )",
          "DT4H-Dis11-Obstructive Sleep Apnea ( Obstructive sleep apnea syndrome )",
          "DT4H-CV9-Stroke ( Cerebrovascular accident )",
          "DT4HSign-3-breathness ( Dyspnea )",
          "DT4HEKG-3-ECG_nSTEMI (Acute non-ST segment elevation myocardial infarction )",
          "DT4H-CV7-Myocardial infarction (Myocardial infarction )",
          "DT4H-Dis8-Hyperthyroidism ( Hyperthyroidism )",
          "DT4H-Dis2-HIV positive (Human immunodeficiency virus infection)",
          "DT4H-CV6-Ischemic Heart disorder ( Ischemic heart disorder)",
          "DT4HSign-14-syncope ( Syncope )",
          "DT4H-CV11-Valvular disorder (Heart valve disorder )",
          "DT4H-CV10-Transient Ischemic Attack (Transient ischemic attack )",
          "DT4H-CV4-Heart failure (Heart failure )",
          "DT4H-CV2-Atrial fibrillation (Atrial fibrillation )",
          "DT4H-Dis13-Renal disorder chronic ( Chronic kidney disorder )",
          "DT4H-Dis6-Depression (Depressive disorder )",
          "DT4H-Dis9-Liver disorder (disorder of liver )",
          "DT4HSign-28-hepatomegaly (Large liver )",
          "DT4H-Dis3-Chronic Obstructive Pulmonic disorder ( Chronic obstructive lung disease )",
          "DT4H-Dis10-Malignant Cancer ( Malignant neoplastic disorder )",
          "DT4H-SM5-Ex-smoker  (Ex-smoker )",
          "DT4H-SM2-Ex-smoker  (Ex-smoker )",
          "DT4HSign-29-ascites ( Ascites )",
          "DT4H-CV1-Angina pectoris (Angina )",
          "DT4HSign-23-pleural effusion ( Pleural effusion )",
          "DT4H-Dis4-Diabetes Mellitus (Diabetes mellitus )",
          "DT4H-SM7-Smoker (Smoker)",
          "DT4H-SM1-Smoker (Smoker )",
          "DT4H-CV5-Hypertension ( Hypertensive disorder, systemic arterial )"
         ],
         "yaxis": "y"
        },
        {
         "alignmentgroup": "True",
         "hovertemplate": "semantic_rel=NARROW<br>Count=%{x}<br>Name=%{y}<extra></extra>",
         "legendgroup": "NARROW",
         "marker": {
          "color": "#EF553B",
          "pattern": {
           "shape": ""
          }
         },
         "name": "NARROW",
         "offsetgroup": "NARROW",
         "orientation": "h",
         "showlegend": true,
         "textposition": "auto",
         "type": "bar",
         "x": [
          0,
          0,
          0,
          0,
          0,
          1,
          0,
          0,
          0,
          0,
          0,
          0,
          1,
          0,
          1,
          3,
          2,
          10,
          0,
          0,
          10,
          0,
          0,
          2,
          0,
          1,
          0,
          0,
          0,
          1
         ],
         "xaxis": "x",
         "y": [
          "DT4HEKG-3-ECG_nSTEMI (Acute non-ST segment elevation myocardial infarction )",
          "DT4HSign-3-breathness ( Dyspnea )",
          "DT4H-CV9-Stroke ( Cerebrovascular accident )",
          "DT4HEKG-2-ECG_STEMI (Acute ST segment elevation myocardial infarction )",
          "DT4H-Dis11-Obstructive Sleep Apnea ( Obstructive sleep apnea syndrome )",
          "DT4H-Dis12-Rheumatic disorder ( Rheumatism )",
          "DT4H-Dis8-Hyperthyroidism ( Hyperthyroidism )",
          "DT4H-CV7-Myocardial infarction (Myocardial infarction )",
          "DT4H-Dis2-HIV positive (Human immunodeficiency virus infection)",
          "DT4H-CV6-Ischemic Heart disorder ( Ischemic heart disorder)",
          "DT4HSign-14-syncope ( Syncope )",
          "DT4H-CV10-Transient Ischemic Attack (Transient ischemic attack )",
          "DT4H-CV11-Valvular disorder (Heart valve disorder )",
          "DT4H-CV4-Heart failure (Heart failure )",
          "DT4H-CV2-Atrial fibrillation (Atrial fibrillation )",
          "DT4H-Dis13-Renal disorder chronic ( Chronic kidney disorder )",
          "DT4H-Dis6-Depression (Depressive disorder )",
          "DT4H-Dis9-Liver disorder (disorder of liver )",
          "DT4H-Dis3-Chronic Obstructive Pulmonic disorder ( Chronic obstructive lung disease )",
          "DT4HSign-28-hepatomegaly (Large liver )",
          "DT4H-Dis10-Malignant Cancer ( Malignant neoplastic disorder )",
          "DT4H-SM2-Ex-smoker  (Ex-smoker )",
          "DT4H-SM5-Ex-smoker  (Ex-smoker )",
          "DT4HSign-29-ascites ( Ascites )",
          "DT4H-CV1-Angina pectoris (Angina )",
          "DT4HSign-23-pleural effusion ( Pleural effusion )",
          "DT4H-Dis4-Diabetes Mellitus (Diabetes mellitus )",
          "DT4H-SM1-Smoker (Smoker )",
          "DT4H-SM7-Smoker (Smoker)",
          "DT4H-CV5-Hypertension ( Hypertensive disorder, systemic arterial )"
         ],
         "yaxis": "y"
        },
        {
         "alignmentgroup": "True",
         "hovertemplate": "semantic_rel=COMPOSITE<br>Count=%{x}<br>Name=%{y}<extra></extra>",
         "legendgroup": "COMPOSITE",
         "marker": {
          "color": "#00cc96",
          "pattern": {
           "shape": ""
          }
         },
         "name": "COMPOSITE",
         "offsetgroup": "COMPOSITE",
         "orientation": "h",
         "showlegend": true,
         "textposition": "auto",
         "type": "bar",
         "x": [
          0,
          0,
          0,
          0,
          0,
          0,
          0,
          0,
          0,
          0,
          0,
          0,
          0,
          0,
          1,
          2,
          1,
          1,
          1,
          0,
          0,
          0,
          0,
          0,
          0,
          0,
          0,
          0,
          0,
          0
         ],
         "xaxis": "x",
         "y": [
          "DT4H-CV9-Stroke ( Cerebrovascular accident )",
          "DT4HEKG-2-ECG_STEMI (Acute ST segment elevation myocardial infarction )",
          "DT4H-Dis12-Rheumatic disorder ( Rheumatism )",
          "DT4H-Dis11-Obstructive Sleep Apnea ( Obstructive sleep apnea syndrome )",
          "DT4HEKG-3-ECG_nSTEMI (Acute non-ST segment elevation myocardial infarction )",
          "DT4HSign-3-breathness ( Dyspnea )",
          "DT4H-Dis8-Hyperthyroidism ( Hyperthyroidism )",
          "DT4H-CV7-Myocardial infarction (Myocardial infarction )",
          "DT4H-CV6-Ischemic Heart disorder ( Ischemic heart disorder)",
          "DT4H-Dis2-HIV positive (Human immunodeficiency virus infection)",
          "DT4HSign-14-syncope ( Syncope )",
          "DT4H-CV10-Transient Ischemic Attack (Transient ischemic attack )",
          "DT4H-CV11-Valvular disorder (Heart valve disorder )",
          "DT4H-CV4-Heart failure (Heart failure )",
          "DT4H-CV2-Atrial fibrillation (Atrial fibrillation )",
          "DT4H-Dis13-Renal disorder chronic ( Chronic kidney disorder )",
          "DT4H-Dis6-Depression (Depressive disorder )",
          "DT4H-Dis9-Liver disorder (disorder of liver )",
          "DT4H-Dis3-Chronic Obstructive Pulmonic disorder ( Chronic obstructive lung disease )",
          "DT4HSign-28-hepatomegaly (Large liver )",
          "DT4H-Dis10-Malignant Cancer ( Malignant neoplastic disorder )",
          "DT4H-SM2-Ex-smoker  (Ex-smoker )",
          "DT4H-SM5-Ex-smoker  (Ex-smoker )",
          "DT4H-CV1-Angina pectoris (Angina )",
          "DT4HSign-29-ascites ( Ascites )",
          "DT4HSign-23-pleural effusion ( Pleural effusion )",
          "DT4H-Dis4-Diabetes Mellitus (Diabetes mellitus )",
          "DT4H-SM7-Smoker (Smoker)",
          "DT4H-SM1-Smoker (Smoker )",
          "DT4H-CV5-Hypertension ( Hypertensive disorder, systemic arterial )"
         ],
         "yaxis": "y"
        },
        {
         "alignmentgroup": "True",
         "hovertemplate": "semantic_rel=NOT_FOUND<br>Count=%{x}<br>Name=%{y}<extra></extra>",
         "legendgroup": "NOT_FOUND",
         "marker": {
          "color": "#ab63fa",
          "pattern": {
           "shape": ""
          }
         },
         "name": "NOT_FOUND",
         "offsetgroup": "NOT_FOUND",
         "orientation": "h",
         "showlegend": true,
         "textposition": "auto",
         "type": "bar",
         "x": [
          0,
          0,
          0,
          0,
          0,
          0,
          0,
          0,
          0,
          0,
          0,
          0,
          0,
          0,
          0,
          0,
          0,
          0,
          0,
          0,
          0,
          0,
          0,
          0,
          0,
          0,
          0,
          0,
          0,
          0
         ],
         "xaxis": "x",
         "y": [
          "DT4HSign-3-breathness ( Dyspnea )",
          "DT4H-Dis12-Rheumatic disorder ( Rheumatism )",
          "DT4H-Dis11-Obstructive Sleep Apnea ( Obstructive sleep apnea syndrome )",
          "DT4HEKG-3-ECG_nSTEMI (Acute non-ST segment elevation myocardial infarction )",
          "DT4H-CV9-Stroke ( Cerebrovascular accident )",
          "DT4HEKG-2-ECG_STEMI (Acute ST segment elevation myocardial infarction )",
          "DT4H-Dis8-Hyperthyroidism ( Hyperthyroidism )",
          "DT4H-CV7-Myocardial infarction (Myocardial infarction )",
          "DT4H-Dis2-HIV positive (Human immunodeficiency virus infection)",
          "DT4H-CV6-Ischemic Heart disorder ( Ischemic heart disorder)",
          "DT4HSign-14-syncope ( Syncope )",
          "DT4H-CV11-Valvular disorder (Heart valve disorder )",
          "DT4H-CV10-Transient Ischemic Attack (Transient ischemic attack )",
          "DT4H-CV4-Heart failure (Heart failure )",
          "DT4H-CV2-Atrial fibrillation (Atrial fibrillation )",
          "DT4H-Dis13-Renal disorder chronic ( Chronic kidney disorder )",
          "DT4H-Dis6-Depression (Depressive disorder )",
          "DT4H-Dis9-Liver disorder (disorder of liver )",
          "DT4H-Dis3-Chronic Obstructive Pulmonic disorder ( Chronic obstructive lung disease )",
          "DT4HSign-28-hepatomegaly (Large liver )",
          "DT4H-Dis10-Malignant Cancer ( Malignant neoplastic disorder )",
          "DT4H-SM5-Ex-smoker  (Ex-smoker )",
          "DT4H-SM2-Ex-smoker  (Ex-smoker )",
          "DT4HSign-29-ascites ( Ascites )",
          "DT4H-CV1-Angina pectoris (Angina )",
          "DT4HSign-23-pleural effusion ( Pleural effusion )",
          "DT4H-Dis4-Diabetes Mellitus (Diabetes mellitus )",
          "DT4H-SM7-Smoker (Smoker)",
          "DT4H-SM1-Smoker (Smoker )",
          "DT4H-CV5-Hypertension ( Hypertensive disorder, systemic arterial )"
         ],
         "yaxis": "y"
        }
       ],
       "layout": {
        "barmode": "relative",
        "height": 600,
        "legend": {
         "title": {
          "text": "semantic_rel"
         },
         "tracegroupgap": 0
        },
        "template": {
         "data": {
          "bar": [
           {
            "error_x": {
             "color": "#2a3f5f"
            },
            "error_y": {
             "color": "#2a3f5f"
            },
            "marker": {
             "line": {
              "color": "#E5ECF6",
              "width": 0.5
             },
             "pattern": {
              "fillmode": "overlay",
              "size": 10,
              "solidity": 0.2
             }
            },
            "type": "bar"
           }
          ],
          "barpolar": [
           {
            "marker": {
             "line": {
              "color": "#E5ECF6",
              "width": 0.5
             },
             "pattern": {
              "fillmode": "overlay",
              "size": 10,
              "solidity": 0.2
             }
            },
            "type": "barpolar"
           }
          ],
          "carpet": [
           {
            "aaxis": {
             "endlinecolor": "#2a3f5f",
             "gridcolor": "white",
             "linecolor": "white",
             "minorgridcolor": "white",
             "startlinecolor": "#2a3f5f"
            },
            "baxis": {
             "endlinecolor": "#2a3f5f",
             "gridcolor": "white",
             "linecolor": "white",
             "minorgridcolor": "white",
             "startlinecolor": "#2a3f5f"
            },
            "type": "carpet"
           }
          ],
          "choropleth": [
           {
            "colorbar": {
             "outlinewidth": 0,
             "ticks": ""
            },
            "type": "choropleth"
           }
          ],
          "contour": [
           {
            "colorbar": {
             "outlinewidth": 0,
             "ticks": ""
            },
            "colorscale": [
             [
              0,
              "#0d0887"
             ],
             [
              0.1111111111111111,
              "#46039f"
             ],
             [
              0.2222222222222222,
              "#7201a8"
             ],
             [
              0.3333333333333333,
              "#9c179e"
             ],
             [
              0.4444444444444444,
              "#bd3786"
             ],
             [
              0.5555555555555556,
              "#d8576b"
             ],
             [
              0.6666666666666666,
              "#ed7953"
             ],
             [
              0.7777777777777778,
              "#fb9f3a"
             ],
             [
              0.8888888888888888,
              "#fdca26"
             ],
             [
              1,
              "#f0f921"
             ]
            ],
            "type": "contour"
           }
          ],
          "contourcarpet": [
           {
            "colorbar": {
             "outlinewidth": 0,
             "ticks": ""
            },
            "type": "contourcarpet"
           }
          ],
          "heatmap": [
           {
            "colorbar": {
             "outlinewidth": 0,
             "ticks": ""
            },
            "colorscale": [
             [
              0,
              "#0d0887"
             ],
             [
              0.1111111111111111,
              "#46039f"
             ],
             [
              0.2222222222222222,
              "#7201a8"
             ],
             [
              0.3333333333333333,
              "#9c179e"
             ],
             [
              0.4444444444444444,
              "#bd3786"
             ],
             [
              0.5555555555555556,
              "#d8576b"
             ],
             [
              0.6666666666666666,
              "#ed7953"
             ],
             [
              0.7777777777777778,
              "#fb9f3a"
             ],
             [
              0.8888888888888888,
              "#fdca26"
             ],
             [
              1,
              "#f0f921"
             ]
            ],
            "type": "heatmap"
           }
          ],
          "heatmapgl": [
           {
            "colorbar": {
             "outlinewidth": 0,
             "ticks": ""
            },
            "colorscale": [
             [
              0,
              "#0d0887"
             ],
             [
              0.1111111111111111,
              "#46039f"
             ],
             [
              0.2222222222222222,
              "#7201a8"
             ],
             [
              0.3333333333333333,
              "#9c179e"
             ],
             [
              0.4444444444444444,
              "#bd3786"
             ],
             [
              0.5555555555555556,
              "#d8576b"
             ],
             [
              0.6666666666666666,
              "#ed7953"
             ],
             [
              0.7777777777777778,
              "#fb9f3a"
             ],
             [
              0.8888888888888888,
              "#fdca26"
             ],
             [
              1,
              "#f0f921"
             ]
            ],
            "type": "heatmapgl"
           }
          ],
          "histogram": [
           {
            "marker": {
             "pattern": {
              "fillmode": "overlay",
              "size": 10,
              "solidity": 0.2
             }
            },
            "type": "histogram"
           }
          ],
          "histogram2d": [
           {
            "colorbar": {
             "outlinewidth": 0,
             "ticks": ""
            },
            "colorscale": [
             [
              0,
              "#0d0887"
             ],
             [
              0.1111111111111111,
              "#46039f"
             ],
             [
              0.2222222222222222,
              "#7201a8"
             ],
             [
              0.3333333333333333,
              "#9c179e"
             ],
             [
              0.4444444444444444,
              "#bd3786"
             ],
             [
              0.5555555555555556,
              "#d8576b"
             ],
             [
              0.6666666666666666,
              "#ed7953"
             ],
             [
              0.7777777777777778,
              "#fb9f3a"
             ],
             [
              0.8888888888888888,
              "#fdca26"
             ],
             [
              1,
              "#f0f921"
             ]
            ],
            "type": "histogram2d"
           }
          ],
          "histogram2dcontour": [
           {
            "colorbar": {
             "outlinewidth": 0,
             "ticks": ""
            },
            "colorscale": [
             [
              0,
              "#0d0887"
             ],
             [
              0.1111111111111111,
              "#46039f"
             ],
             [
              0.2222222222222222,
              "#7201a8"
             ],
             [
              0.3333333333333333,
              "#9c179e"
             ],
             [
              0.4444444444444444,
              "#bd3786"
             ],
             [
              0.5555555555555556,
              "#d8576b"
             ],
             [
              0.6666666666666666,
              "#ed7953"
             ],
             [
              0.7777777777777778,
              "#fb9f3a"
             ],
             [
              0.8888888888888888,
              "#fdca26"
             ],
             [
              1,
              "#f0f921"
             ]
            ],
            "type": "histogram2dcontour"
           }
          ],
          "mesh3d": [
           {
            "colorbar": {
             "outlinewidth": 0,
             "ticks": ""
            },
            "type": "mesh3d"
           }
          ],
          "parcoords": [
           {
            "line": {
             "colorbar": {
              "outlinewidth": 0,
              "ticks": ""
             }
            },
            "type": "parcoords"
           }
          ],
          "pie": [
           {
            "automargin": true,
            "type": "pie"
           }
          ],
          "scatter": [
           {
            "fillpattern": {
             "fillmode": "overlay",
             "size": 10,
             "solidity": 0.2
            },
            "type": "scatter"
           }
          ],
          "scatter3d": [
           {
            "line": {
             "colorbar": {
              "outlinewidth": 0,
              "ticks": ""
             }
            },
            "marker": {
             "colorbar": {
              "outlinewidth": 0,
              "ticks": ""
             }
            },
            "type": "scatter3d"
           }
          ],
          "scattercarpet": [
           {
            "marker": {
             "colorbar": {
              "outlinewidth": 0,
              "ticks": ""
             }
            },
            "type": "scattercarpet"
           }
          ],
          "scattergeo": [
           {
            "marker": {
             "colorbar": {
              "outlinewidth": 0,
              "ticks": ""
             }
            },
            "type": "scattergeo"
           }
          ],
          "scattergl": [
           {
            "marker": {
             "colorbar": {
              "outlinewidth": 0,
              "ticks": ""
             }
            },
            "type": "scattergl"
           }
          ],
          "scattermapbox": [
           {
            "marker": {
             "colorbar": {
              "outlinewidth": 0,
              "ticks": ""
             }
            },
            "type": "scattermapbox"
           }
          ],
          "scatterpolar": [
           {
            "marker": {
             "colorbar": {
              "outlinewidth": 0,
              "ticks": ""
             }
            },
            "type": "scatterpolar"
           }
          ],
          "scatterpolargl": [
           {
            "marker": {
             "colorbar": {
              "outlinewidth": 0,
              "ticks": ""
             }
            },
            "type": "scatterpolargl"
           }
          ],
          "scatterternary": [
           {
            "marker": {
             "colorbar": {
              "outlinewidth": 0,
              "ticks": ""
             }
            },
            "type": "scatterternary"
           }
          ],
          "surface": [
           {
            "colorbar": {
             "outlinewidth": 0,
             "ticks": ""
            },
            "colorscale": [
             [
              0,
              "#0d0887"
             ],
             [
              0.1111111111111111,
              "#46039f"
             ],
             [
              0.2222222222222222,
              "#7201a8"
             ],
             [
              0.3333333333333333,
              "#9c179e"
             ],
             [
              0.4444444444444444,
              "#bd3786"
             ],
             [
              0.5555555555555556,
              "#d8576b"
             ],
             [
              0.6666666666666666,
              "#ed7953"
             ],
             [
              0.7777777777777778,
              "#fb9f3a"
             ],
             [
              0.8888888888888888,
              "#fdca26"
             ],
             [
              1,
              "#f0f921"
             ]
            ],
            "type": "surface"
           }
          ],
          "table": [
           {
            "cells": {
             "fill": {
              "color": "#EBF0F8"
             },
             "line": {
              "color": "white"
             }
            },
            "header": {
             "fill": {
              "color": "#C8D4E3"
             },
             "line": {
              "color": "white"
             }
            },
            "type": "table"
           }
          ]
         },
         "layout": {
          "annotationdefaults": {
           "arrowcolor": "#2a3f5f",
           "arrowhead": 0,
           "arrowwidth": 1
          },
          "autotypenumbers": "strict",
          "coloraxis": {
           "colorbar": {
            "outlinewidth": 0,
            "ticks": ""
           }
          },
          "colorscale": {
           "diverging": [
            [
             0,
             "#8e0152"
            ],
            [
             0.1,
             "#c51b7d"
            ],
            [
             0.2,
             "#de77ae"
            ],
            [
             0.3,
             "#f1b6da"
            ],
            [
             0.4,
             "#fde0ef"
            ],
            [
             0.5,
             "#f7f7f7"
            ],
            [
             0.6,
             "#e6f5d0"
            ],
            [
             0.7,
             "#b8e186"
            ],
            [
             0.8,
             "#7fbc41"
            ],
            [
             0.9,
             "#4d9221"
            ],
            [
             1,
             "#276419"
            ]
           ],
           "sequential": [
            [
             0,
             "#0d0887"
            ],
            [
             0.1111111111111111,
             "#46039f"
            ],
            [
             0.2222222222222222,
             "#7201a8"
            ],
            [
             0.3333333333333333,
             "#9c179e"
            ],
            [
             0.4444444444444444,
             "#bd3786"
            ],
            [
             0.5555555555555556,
             "#d8576b"
            ],
            [
             0.6666666666666666,
             "#ed7953"
            ],
            [
             0.7777777777777778,
             "#fb9f3a"
            ],
            [
             0.8888888888888888,
             "#fdca26"
            ],
            [
             1,
             "#f0f921"
            ]
           ],
           "sequentialminus": [
            [
             0,
             "#0d0887"
            ],
            [
             0.1111111111111111,
             "#46039f"
            ],
            [
             0.2222222222222222,
             "#7201a8"
            ],
            [
             0.3333333333333333,
             "#9c179e"
            ],
            [
             0.4444444444444444,
             "#bd3786"
            ],
            [
             0.5555555555555556,
             "#d8576b"
            ],
            [
             0.6666666666666666,
             "#ed7953"
            ],
            [
             0.7777777777777778,
             "#fb9f3a"
            ],
            [
             0.8888888888888888,
             "#fdca26"
            ],
            [
             1,
             "#f0f921"
            ]
           ]
          },
          "colorway": [
           "#636efa",
           "#EF553B",
           "#00cc96",
           "#ab63fa",
           "#FFA15A",
           "#19d3f3",
           "#FF6692",
           "#B6E880",
           "#FF97FF",
           "#FECB52"
          ],
          "font": {
           "color": "#2a3f5f"
          },
          "geo": {
           "bgcolor": "white",
           "lakecolor": "white",
           "landcolor": "#E5ECF6",
           "showlakes": true,
           "showland": true,
           "subunitcolor": "white"
          },
          "hoverlabel": {
           "align": "left"
          },
          "hovermode": "closest",
          "mapbox": {
           "style": "light"
          },
          "paper_bgcolor": "white",
          "plot_bgcolor": "#E5ECF6",
          "polar": {
           "angularaxis": {
            "gridcolor": "white",
            "linecolor": "white",
            "ticks": ""
           },
           "bgcolor": "#E5ECF6",
           "radialaxis": {
            "gridcolor": "white",
            "linecolor": "white",
            "ticks": ""
           }
          },
          "scene": {
           "xaxis": {
            "backgroundcolor": "#E5ECF6",
            "gridcolor": "white",
            "gridwidth": 2,
            "linecolor": "white",
            "showbackground": true,
            "ticks": "",
            "zerolinecolor": "white"
           },
           "yaxis": {
            "backgroundcolor": "#E5ECF6",
            "gridcolor": "white",
            "gridwidth": 2,
            "linecolor": "white",
            "showbackground": true,
            "ticks": "",
            "zerolinecolor": "white"
           },
           "zaxis": {
            "backgroundcolor": "#E5ECF6",
            "gridcolor": "white",
            "gridwidth": 2,
            "linecolor": "white",
            "showbackground": true,
            "ticks": "",
            "zerolinecolor": "white"
           }
          },
          "shapedefaults": {
           "line": {
            "color": "#2a3f5f"
           }
          },
          "ternary": {
           "aaxis": {
            "gridcolor": "white",
            "linecolor": "white",
            "ticks": ""
           },
           "baxis": {
            "gridcolor": "white",
            "linecolor": "white",
            "ticks": ""
           },
           "bgcolor": "#E5ECF6",
           "caxis": {
            "gridcolor": "white",
            "linecolor": "white",
            "ticks": ""
           }
          },
          "title": {
           "x": 0.05
          },
          "xaxis": {
           "automargin": true,
           "gridcolor": "white",
           "linecolor": "white",
           "ticks": "",
           "title": {
            "standoff": 15
           },
           "zerolinecolor": "white",
           "zerolinewidth": 2
          },
          "yaxis": {
           "automargin": true,
           "gridcolor": "white",
           "linecolor": "white",
           "ticks": "",
           "title": {
            "standoff": 15
           },
           "zerolinecolor": "white",
           "zerolinewidth": 2
          }
         }
        },
        "title": {
         "text": "Codes by Semantic Relationship [Variable Name (SNOMED term)] <Zoom 25 out of 30 terms; zoom out to see all>"
        },
        "xaxis": {
         "anchor": "y",
         "domain": [
          0,
          1
         ],
         "title": {
          "text": "Count"
         }
        },
        "yaxis": {
         "anchor": "x",
         "domain": [
          0,
          1
         ],
         "dtick": 1,
         "range": [
          5,
          30
         ],
         "tickmode": "linear",
         "title": {
          "text": "Name"
         }
        }
       }
      }
     },
     "metadata": {},
     "output_type": "display_data"
    },
    {
     "data": {
      "application/vnd.plotly.v1+json": {
       "config": {
        "plotlyServerURL": "https://plot.ly"
       },
       "data": [
        {
         "alignmentgroup": "True",
         "hovertemplate": "span=reumatismo poliarticular en la infancia<br>Count=%{x}<br>Name=%{y}<extra></extra>",
         "legendgroup": "reumatismo poliarticular en la infancia",
         "marker": {
          "color": "#636efa",
          "pattern": {
           "shape": ""
          }
         },
         "name": "reumatismo poliarticular en la infancia",
         "offsetgroup": "reumatismo poliarticular en la infancia",
         "orientation": "h",
         "showlegend": true,
         "textposition": "auto",
         "type": "bar",
         "x": [
          1
         ],
         "xaxis": "x",
         "y": [
          "DT4H-Dis12-Rheumatic disorder ( Rheumatism )"
         ],
         "yaxis": "y"
        },
        {
         "alignmentgroup": "True",
         "hovertemplate": "span=crisis de disnea<br>Count=%{x}<br>Name=%{y}<extra></extra>",
         "legendgroup": "crisis de disnea",
         "marker": {
          "color": "#EF553B",
          "pattern": {
           "shape": ""
          }
         },
         "name": "crisis de disnea",
         "offsetgroup": "crisis de disnea",
         "orientation": "h",
         "showlegend": true,
         "textposition": "auto",
         "type": "bar",
         "x": [
          1
         ],
         "xaxis": "x",
         "y": [
          "DT4HSign-3-breathness ( Dyspnea )"
         ],
         "yaxis": "y"
        },
        {
         "alignmentgroup": "True",
         "hovertemplate": "span=SCACEST<br>Count=%{x}<br>Name=%{y}<extra></extra>",
         "legendgroup": "SCACEST",
         "marker": {
          "color": "#00cc96",
          "pattern": {
           "shape": ""
          }
         },
         "name": "SCACEST",
         "offsetgroup": "SCACEST",
         "orientation": "h",
         "showlegend": true,
         "textposition": "auto",
         "type": "bar",
         "x": [
          1
         ],
         "xaxis": "x",
         "y": [
          "DT4HEKG-2-ECG_STEMI (Acute ST segment elevation myocardial infarction )"
         ],
         "yaxis": "y"
        },
        {
         "alignmentgroup": "True",
         "hovertemplate": "span=accidentes vasculares<br>Count=%{x}<br>Name=%{y}<extra></extra>",
         "legendgroup": "accidentes vasculares",
         "marker": {
          "color": "#ab63fa",
          "pattern": {
           "shape": ""
          }
         },
         "name": "accidentes vasculares",
         "offsetgroup": "accidentes vasculares",
         "orientation": "h",
         "showlegend": true,
         "textposition": "auto",
         "type": "bar",
         "x": [
          1
         ],
         "xaxis": "x",
         "y": [
          "DT4H-CV9-Stroke ( Cerebrovascular accident )"
         ],
         "yaxis": "y"
        },
        {
         "alignmentgroup": "True",
         "hovertemplate": "span=síndrome de apnea obstructiva de sueño<br>Count=%{x}<br>Name=%{y}<extra></extra>",
         "legendgroup": "síndrome de apnea obstructiva de sueño",
         "marker": {
          "color": "#FFA15A",
          "pattern": {
           "shape": ""
          }
         },
         "name": "síndrome de apnea obstructiva de sueño",
         "offsetgroup": "síndrome de apnea obstructiva de sueño",
         "orientation": "h",
         "showlegend": true,
         "textposition": "auto",
         "type": "bar",
         "x": [
          1
         ],
         "xaxis": "x",
         "y": [
          "DT4H-Dis11-Obstructive Sleep Apnea ( Obstructive sleep apnea syndrome )"
         ],
         "yaxis": "y"
        },
        {
         "alignmentgroup": "True",
         "hovertemplate": "span=SCASEST<br>Count=%{x}<br>Name=%{y}<extra></extra>",
         "legendgroup": "SCASEST",
         "marker": {
          "color": "#19d3f3",
          "pattern": {
           "shape": ""
          }
         },
         "name": "SCASEST",
         "offsetgroup": "SCASEST",
         "orientation": "h",
         "showlegend": true,
         "textposition": "auto",
         "type": "bar",
         "x": [
          1
         ],
         "xaxis": "x",
         "y": [
          "DT4HEKG-3-ECG_nSTEMI (Acute non-ST segment elevation myocardial infarction )"
         ],
         "yaxis": "y"
        },
        {
         "alignmentgroup": "True",
         "hovertemplate": "span=Infarto de miocardio<br>Count=%{x}<br>Name=%{y}<extra></extra>",
         "legendgroup": "Infarto de miocardio",
         "marker": {
          "color": "#FF6692",
          "pattern": {
           "shape": ""
          }
         },
         "name": "Infarto de miocardio",
         "offsetgroup": "Infarto de miocardio",
         "orientation": "h",
         "showlegend": true,
         "textposition": "auto",
         "type": "bar",
         "x": [
          1
         ],
         "xaxis": "x",
         "y": [
          "DT4H-CV7-Myocardial infarction (Myocardial infarction )"
         ],
         "yaxis": "y"
        },
        {
         "alignmentgroup": "True",
         "hovertemplate": "span=infarto de miocardio<br>Count=%{x}<br>Name=%{y}<extra></extra>",
         "legendgroup": "infarto de miocardio",
         "marker": {
          "color": "#B6E880",
          "pattern": {
           "shape": ""
          }
         },
         "name": "infarto de miocardio",
         "offsetgroup": "infarto de miocardio",
         "orientation": "h",
         "showlegend": true,
         "textposition": "auto",
         "type": "bar",
         "x": [
          1
         ],
         "xaxis": "x",
         "y": [
          "DT4H-CV7-Myocardial infarction (Myocardial infarction )"
         ],
         "yaxis": "y"
        },
        {
         "alignmentgroup": "True",
         "hovertemplate": "span=Hipertiroidismo<br>Count=%{x}<br>Name=%{y}<extra></extra>",
         "legendgroup": "Hipertiroidismo",
         "marker": {
          "color": "#FF97FF",
          "pattern": {
           "shape": ""
          }
         },
         "name": "Hipertiroidismo",
         "offsetgroup": "Hipertiroidismo",
         "orientation": "h",
         "showlegend": true,
         "textposition": "auto",
         "type": "bar",
         "x": [
          1
         ],
         "xaxis": "x",
         "y": [
          "DT4H-Dis8-Hyperthyroidism ( Hyperthyroidism )"
         ],
         "yaxis": "y"
        },
        {
         "alignmentgroup": "True",
         "hovertemplate": "span=hipertiroidismo<br>Count=%{x}<br>Name=%{y}<extra></extra>",
         "legendgroup": "hipertiroidismo",
         "marker": {
          "color": "#FECB52",
          "pattern": {
           "shape": ""
          }
         },
         "name": "hipertiroidismo",
         "offsetgroup": "hipertiroidismo",
         "orientation": "h",
         "showlegend": true,
         "textposition": "auto",
         "type": "bar",
         "x": [
          1
         ],
         "xaxis": "x",
         "y": [
          "DT4H-Dis8-Hyperthyroidism ( Hyperthyroidism )"
         ],
         "yaxis": "y"
        },
        {
         "alignmentgroup": "True",
         "hovertemplate": "span=infección por VIH<br>Count=%{x}<br>Name=%{y}<extra></extra>",
         "legendgroup": "infección por VIH",
         "marker": {
          "color": "#636efa",
          "pattern": {
           "shape": ""
          }
         },
         "name": "infección por VIH",
         "offsetgroup": "infección por VIH",
         "orientation": "h",
         "showlegend": true,
         "textposition": "auto",
         "type": "bar",
         "x": [
          3
         ],
         "xaxis": "x",
         "y": [
          "DT4H-Dis2-HIV positive (Human immunodeficiency virus infection)"
         ],
         "yaxis": "y"
        },
        {
         "alignmentgroup": "True",
         "hovertemplate": "span=enfermedad coronaria<br>Count=%{x}<br>Name=%{y}<extra></extra>",
         "legendgroup": "enfermedad coronaria",
         "marker": {
          "color": "#EF553B",
          "pattern": {
           "shape": ""
          }
         },
         "name": "enfermedad coronaria",
         "offsetgroup": "enfermedad coronaria",
         "orientation": "h",
         "showlegend": true,
         "textposition": "auto",
         "type": "bar",
         "x": [
          3
         ],
         "xaxis": "x",
         "y": [
          "DT4H-CV6-Ischemic Heart disorder ( Ischemic heart disorder)"
         ],
         "yaxis": "y"
        },
        {
         "alignmentgroup": "True",
         "hovertemplate": "span=síncopes<br>Count=%{x}<br>Name=%{y}<extra></extra>",
         "legendgroup": "síncopes",
         "marker": {
          "color": "#00cc96",
          "pattern": {
           "shape": ""
          }
         },
         "name": "síncopes",
         "offsetgroup": "síncopes",
         "orientation": "h",
         "showlegend": true,
         "textposition": "auto",
         "type": "bar",
         "x": [
          1
         ],
         "xaxis": "x",
         "y": [
          "DT4HSign-14-syncope ( Syncope )"
         ],
         "yaxis": "y"
        },
        {
         "alignmentgroup": "True",
         "hovertemplate": "span=cuadro sincopal<br>Count=%{x}<br>Name=%{y}<extra></extra>",
         "legendgroup": "cuadro sincopal",
         "marker": {
          "color": "#ab63fa",
          "pattern": {
           "shape": ""
          }
         },
         "name": "cuadro sincopal",
         "offsetgroup": "cuadro sincopal",
         "orientation": "h",
         "showlegend": true,
         "textposition": "auto",
         "type": "bar",
         "x": [
          3
         ],
         "xaxis": "x",
         "y": [
          "DT4HSign-14-syncope ( Syncope )"
         ],
         "yaxis": "y"
        },
        {
         "alignmentgroup": "True",
         "hovertemplate": "span=accidente isquémico transitorio<br>Count=%{x}<br>Name=%{y}<extra></extra>",
         "legendgroup": "accidente isquémico transitorio",
         "marker": {
          "color": "#FFA15A",
          "pattern": {
           "shape": ""
          }
         },
         "name": "accidente isquémico transitorio",
         "offsetgroup": "accidente isquémico transitorio",
         "orientation": "h",
         "showlegend": true,
         "textposition": "auto",
         "type": "bar",
         "x": [
          4
         ],
         "xaxis": "x",
         "y": [
          "DT4H-CV10-Transient Ischemic Attack (Transient ischemic attack )"
         ],
         "yaxis": "y"
        },
        {
         "alignmentgroup": "True",
         "hovertemplate": "span=valvulopatía<br>Count=%{x}<br>Name=%{y}<extra></extra>",
         "legendgroup": "valvulopatía",
         "marker": {
          "color": "#19d3f3",
          "pattern": {
           "shape": ""
          }
         },
         "name": "valvulopatía",
         "offsetgroup": "valvulopatía",
         "orientation": "h",
         "showlegend": true,
         "textposition": "auto",
         "type": "bar",
         "x": [
          2
         ],
         "xaxis": "x",
         "y": [
          "DT4H-CV11-Valvular disorder (Heart valve disorder )"
         ],
         "yaxis": "y"
        },
        {
         "alignmentgroup": "True",
         "hovertemplate": "span=accidente isquémico transitorio cerebral<br>Count=%{x}<br>Name=%{y}<extra></extra>",
         "legendgroup": "accidente isquémico transitorio cerebral",
         "marker": {
          "color": "#FF6692",
          "pattern": {
           "shape": ""
          }
         },
         "name": "accidente isquémico transitorio cerebral",
         "offsetgroup": "accidente isquémico transitorio cerebral",
         "orientation": "h",
         "showlegend": true,
         "textposition": "auto",
         "type": "bar",
         "x": [
          1
         ],
         "xaxis": "x",
         "y": [
          "DT4H-CV10-Transient Ischemic Attack (Transient ischemic attack )"
         ],
         "yaxis": "y"
        },
        {
         "alignmentgroup": "True",
         "hovertemplate": "span=patología del aparato valvular cardiaco<br>Count=%{x}<br>Name=%{y}<extra></extra>",
         "legendgroup": "patología del aparato valvular cardiaco",
         "marker": {
          "color": "#B6E880",
          "pattern": {
           "shape": ""
          }
         },
         "name": "patología del aparato valvular cardiaco",
         "offsetgroup": "patología del aparato valvular cardiaco",
         "orientation": "h",
         "showlegend": true,
         "textposition": "auto",
         "type": "bar",
         "x": [
          1
         ],
         "xaxis": "x",
         "y": [
          "DT4H-CV11-Valvular disorder (Heart valve disorder )"
         ],
         "yaxis": "y"
        },
        {
         "alignmentgroup": "True",
         "hovertemplate": "span=complicaciones valvulares<br>Count=%{x}<br>Name=%{y}<extra></extra>",
         "legendgroup": "complicaciones valvulares",
         "marker": {
          "color": "#FF97FF",
          "pattern": {
           "shape": ""
          }
         },
         "name": "complicaciones valvulares",
         "offsetgroup": "complicaciones valvulares",
         "orientation": "h",
         "showlegend": true,
         "textposition": "auto",
         "type": "bar",
         "x": [
          1
         ],
         "xaxis": "x",
         "y": [
          "DT4H-CV11-Valvular disorder (Heart valve disorder )"
         ],
         "yaxis": "y"
        },
        {
         "alignmentgroup": "True",
         "hovertemplate": "span=problema valvular<br>Count=%{x}<br>Name=%{y}<extra></extra>",
         "legendgroup": "problema valvular",
         "marker": {
          "color": "#FECB52",
          "pattern": {
           "shape": ""
          }
         },
         "name": "problema valvular",
         "offsetgroup": "problema valvular",
         "orientation": "h",
         "showlegend": true,
         "textposition": "auto",
         "type": "bar",
         "x": [
          1
         ],
         "xaxis": "x",
         "y": [
          "DT4H-CV11-Valvular disorder (Heart valve disorder )"
         ],
         "yaxis": "y"
        },
        {
         "alignmentgroup": "True",
         "hovertemplate": "span=insuficiencia cardiaca<br>Count=%{x}<br>Name=%{y}<extra></extra>",
         "legendgroup": "insuficiencia cardiaca",
         "marker": {
          "color": "#636efa",
          "pattern": {
           "shape": ""
          }
         },
         "name": "insuficiencia cardiaca",
         "offsetgroup": "insuficiencia cardiaca",
         "orientation": "h",
         "showlegend": true,
         "textposition": "auto",
         "type": "bar",
         "x": [
          3
         ],
         "xaxis": "x",
         "y": [
          "DT4H-CV4-Heart failure (Heart failure )"
         ],
         "yaxis": "y"
        },
        {
         "alignmentgroup": "True",
         "hovertemplate": "span=insuficiencia cardíaca<br>Count=%{x}<br>Name=%{y}<extra></extra>",
         "legendgroup": "insuficiencia cardíaca",
         "marker": {
          "color": "#EF553B",
          "pattern": {
           "shape": ""
          }
         },
         "name": "insuficiencia cardíaca",
         "offsetgroup": "insuficiencia cardíaca",
         "orientation": "h",
         "showlegend": true,
         "textposition": "auto",
         "type": "bar",
         "x": [
          2
         ],
         "xaxis": "x",
         "y": [
          "DT4H-CV4-Heart failure (Heart failure )"
         ],
         "yaxis": "y"
        },
        {
         "alignmentgroup": "True",
         "hovertemplate": "span=fallo cardíaco<br>Count=%{x}<br>Name=%{y}<extra></extra>",
         "legendgroup": "fallo cardíaco",
         "marker": {
          "color": "#00cc96",
          "pattern": {
           "shape": ""
          }
         },
         "name": "fallo cardíaco",
         "offsetgroup": "fallo cardíaco",
         "orientation": "h",
         "showlegend": true,
         "textposition": "auto",
         "type": "bar",
         "x": [
          1
         ],
         "xaxis": "x",
         "y": [
          "DT4H-CV4-Heart failure (Heart failure )"
         ],
         "yaxis": "y"
        },
        {
         "alignmentgroup": "True",
         "hovertemplate": "span=FA lenta<br>Count=%{x}<br>Name=%{y}<extra></extra>",
         "legendgroup": "FA lenta",
         "marker": {
          "color": "#ab63fa",
          "pattern": {
           "shape": ""
          }
         },
         "name": "FA lenta",
         "offsetgroup": "FA lenta",
         "orientation": "h",
         "showlegend": true,
         "textposition": "auto",
         "type": "bar",
         "x": [
          1
         ],
         "xaxis": "x",
         "y": [
          "DT4H-CV2-Atrial fibrillation (Atrial fibrillation )"
         ],
         "yaxis": "y"
        },
        {
         "alignmentgroup": "True",
         "hovertemplate": "span=FA<br>Count=%{x}<br>Name=%{y}<extra></extra>",
         "legendgroup": "FA",
         "marker": {
          "color": "#FFA15A",
          "pattern": {
           "shape": ""
          }
         },
         "name": "FA",
         "offsetgroup": "FA",
         "orientation": "h",
         "showlegend": true,
         "textposition": "auto",
         "type": "bar",
         "x": [
          3
         ],
         "xaxis": "x",
         "y": [
          "DT4H-CV2-Atrial fibrillation (Atrial fibrillation )"
         ],
         "yaxis": "y"
        },
        {
         "alignmentgroup": "True",
         "hovertemplate": "span=arritmia completa por fibrilación auricular<br>Count=%{x}<br>Name=%{y}<extra></extra>",
         "legendgroup": "arritmia completa por fibrilación auricular",
         "marker": {
          "color": "#19d3f3",
          "pattern": {
           "shape": ""
          }
         },
         "name": "arritmia completa por fibrilación auricular",
         "offsetgroup": "arritmia completa por fibrilación auricular",
         "orientation": "h",
         "showlegend": true,
         "textposition": "auto",
         "type": "bar",
         "x": [
          1
         ],
         "xaxis": "x",
         "y": [
          "DT4H-CV2-Atrial fibrillation (Atrial fibrillation )"
         ],
         "yaxis": "y"
        },
        {
         "alignmentgroup": "True",
         "hovertemplate": "span=fibrilación auricular<br>Count=%{x}<br>Name=%{y}<extra></extra>",
         "legendgroup": "fibrilación auricular",
         "marker": {
          "color": "#FF6692",
          "pattern": {
           "shape": ""
          }
         },
         "name": "fibrilación auricular",
         "offsetgroup": "fibrilación auricular",
         "orientation": "h",
         "showlegend": true,
         "textposition": "auto",
         "type": "bar",
         "x": [
          5
         ],
         "xaxis": "x",
         "y": [
          "DT4H-CV2-Atrial fibrillation (Atrial fibrillation )"
         ],
         "yaxis": "y"
        },
        {
         "alignmentgroup": "True",
         "hovertemplate": "span=ERC estadio 4 secundaria a poliquistosis hepatorrenal<br>Count=%{x}<br>Name=%{y}<extra></extra>",
         "legendgroup": "ERC estadio 4 secundaria a poliquistosis hepatorrenal",
         "marker": {
          "color": "#B6E880",
          "pattern": {
           "shape": ""
          }
         },
         "name": "ERC estadio 4 secundaria a poliquistosis hepatorrenal",
         "offsetgroup": "ERC estadio 4 secundaria a poliquistosis hepatorrenal",
         "orientation": "h",
         "showlegend": true,
         "textposition": "auto",
         "type": "bar",
         "x": [
          1
         ],
         "xaxis": "x",
         "y": [
          "DT4H-Dis13-Renal disorder chronic ( Chronic kidney disorder )"
         ],
         "yaxis": "y"
        },
        {
         "alignmentgroup": "True",
         "hovertemplate": "span=enfermedad renal crónica<br>Count=%{x}<br>Name=%{y}<extra></extra>",
         "legendgroup": "enfermedad renal crónica",
         "marker": {
          "color": "#FF97FF",
          "pattern": {
           "shape": ""
          }
         },
         "name": "enfermedad renal crónica",
         "offsetgroup": "enfermedad renal crónica",
         "orientation": "h",
         "showlegend": true,
         "textposition": "auto",
         "type": "bar",
         "x": [
          4
         ],
         "xaxis": "x",
         "y": [
          "DT4H-Dis13-Renal disorder chronic ( Chronic kidney disorder )"
         ],
         "yaxis": "y"
        },
        {
         "alignmentgroup": "True",
         "hovertemplate": "span=nefropatía crónica<br>Count=%{x}<br>Name=%{y}<extra></extra>",
         "legendgroup": "nefropatía crónica",
         "marker": {
          "color": "#FECB52",
          "pattern": {
           "shape": ""
          }
         },
         "name": "nefropatía crónica",
         "offsetgroup": "nefropatía crónica",
         "orientation": "h",
         "showlegend": true,
         "textposition": "auto",
         "type": "bar",
         "x": [
          1
         ],
         "xaxis": "x",
         "y": [
          "DT4H-Dis13-Renal disorder chronic ( Chronic kidney disorder )"
         ],
         "yaxis": "y"
        },
        {
         "alignmentgroup": "True",
         "hovertemplate": "span=ERC avanzada<br>Count=%{x}<br>Name=%{y}<extra></extra>",
         "legendgroup": "ERC avanzada",
         "marker": {
          "color": "#636efa",
          "pattern": {
           "shape": ""
          }
         },
         "name": "ERC avanzada",
         "offsetgroup": "ERC avanzada",
         "orientation": "h",
         "showlegend": true,
         "textposition": "auto",
         "type": "bar",
         "x": [
          1
         ],
         "xaxis": "x",
         "y": [
          "DT4H-Dis13-Renal disorder chronic ( Chronic kidney disorder )"
         ],
         "yaxis": "y"
        },
        {
         "alignmentgroup": "True",
         "hovertemplate": "span=diabetes mellitus tipo 2 insulindependiente<br>Count=%{x}<br>Name=%{y}<extra></extra>",
         "legendgroup": "diabetes mellitus tipo 2 insulindependiente",
         "marker": {
          "color": "#EF553B",
          "pattern": {
           "shape": ""
          }
         },
         "name": "diabetes mellitus tipo 2 insulindependiente",
         "offsetgroup": "diabetes mellitus tipo 2 insulindependiente",
         "orientation": "h",
         "showlegend": true,
         "textposition": "auto",
         "type": "bar",
         "x": [
          1
         ],
         "xaxis": "x",
         "y": [
          "DT4H-Dis13-Renal disorder chronic ( Chronic kidney disorder )"
         ],
         "yaxis": "y"
        },
        {
         "alignmentgroup": "True",
         "hovertemplate": "span=enfermedad renal crónica severa<br>Count=%{x}<br>Name=%{y}<extra></extra>",
         "legendgroup": "enfermedad renal crónica severa",
         "marker": {
          "color": "#00cc96",
          "pattern": {
           "shape": ""
          }
         },
         "name": "enfermedad renal crónica severa",
         "offsetgroup": "enfermedad renal crónica severa",
         "orientation": "h",
         "showlegend": true,
         "textposition": "auto",
         "type": "bar",
         "x": [
          1
         ],
         "xaxis": "x",
         "y": [
          "DT4H-Dis13-Renal disorder chronic ( Chronic kidney disorder )"
         ],
         "yaxis": "y"
        },
        {
         "alignmentgroup": "True",
         "hovertemplate": "span=ERCA<br>Count=%{x}<br>Name=%{y}<extra></extra>",
         "legendgroup": "ERCA",
         "marker": {
          "color": "#ab63fa",
          "pattern": {
           "shape": ""
          }
         },
         "name": "ERCA",
         "offsetgroup": "ERCA",
         "orientation": "h",
         "showlegend": true,
         "textposition": "auto",
         "type": "bar",
         "x": [
          1
         ],
         "xaxis": "x",
         "y": [
          "DT4H-Dis13-Renal disorder chronic ( Chronic kidney disorder )"
         ],
         "yaxis": "y"
        },
        {
         "alignmentgroup": "True",
         "hovertemplate": "span=ERC<br>Count=%{x}<br>Name=%{y}<extra></extra>",
         "legendgroup": "ERC",
         "marker": {
          "color": "#FFA15A",
          "pattern": {
           "shape": ""
          }
         },
         "name": "ERC",
         "offsetgroup": "ERC",
         "orientation": "h",
         "showlegend": true,
         "textposition": "auto",
         "type": "bar",
         "x": [
          1
         ],
         "xaxis": "x",
         "y": [
          "DT4H-Dis13-Renal disorder chronic ( Chronic kidney disorder )"
         ],
         "yaxis": "y"
        },
        {
         "alignmentgroup": "True",
         "hovertemplate": "span=síndrome ansioso-depresivo<br>Count=%{x}<br>Name=%{y}<extra></extra>",
         "legendgroup": "síndrome ansioso-depresivo",
         "marker": {
          "color": "#19d3f3",
          "pattern": {
           "shape": ""
          }
         },
         "name": "síndrome ansioso-depresivo",
         "offsetgroup": "síndrome ansioso-depresivo",
         "orientation": "h",
         "showlegend": true,
         "textposition": "auto",
         "type": "bar",
         "x": [
          1
         ],
         "xaxis": "x",
         "y": [
          "DT4H-Dis6-Depression (Depressive disorder )"
         ],
         "yaxis": "y"
        },
        {
         "alignmentgroup": "True",
         "hovertemplate": "span=deprimido<br>Count=%{x}<br>Name=%{y}<extra></extra>",
         "legendgroup": "deprimido",
         "marker": {
          "color": "#FF6692",
          "pattern": {
           "shape": ""
          }
         },
         "name": "deprimido",
         "offsetgroup": "deprimido",
         "orientation": "h",
         "showlegend": true,
         "textposition": "auto",
         "type": "bar",
         "x": [
          1
         ],
         "xaxis": "x",
         "y": [
          "DT4H-Dis6-Depression (Depressive disorder )"
         ],
         "yaxis": "y"
        },
        {
         "alignmentgroup": "True",
         "hovertemplate": "span=proceso depresivo<br>Count=%{x}<br>Name=%{y}<extra></extra>",
         "legendgroup": "proceso depresivo",
         "marker": {
          "color": "#B6E880",
          "pattern": {
           "shape": ""
          }
         },
         "name": "proceso depresivo",
         "offsetgroup": "proceso depresivo",
         "orientation": "h",
         "showlegend": true,
         "textposition": "auto",
         "type": "bar",
         "x": [
          1
         ],
         "xaxis": "x",
         "y": [
          "DT4H-Dis6-Depression (Depressive disorder )"
         ],
         "yaxis": "y"
        },
        {
         "alignmentgroup": "True",
         "hovertemplate": "span=depresión en el anciano<br>Count=%{x}<br>Name=%{y}<extra></extra>",
         "legendgroup": "depresión en el anciano",
         "marker": {
          "color": "#FF97FF",
          "pattern": {
           "shape": ""
          }
         },
         "name": "depresión en el anciano",
         "offsetgroup": "depresión en el anciano",
         "orientation": "h",
         "showlegend": true,
         "textposition": "auto",
         "type": "bar",
         "x": [
          1
         ],
         "xaxis": "x",
         "y": [
          "DT4H-Dis6-Depression (Depressive disorder )"
         ],
         "yaxis": "y"
        },
        {
         "alignmentgroup": "True",
         "hovertemplate": "span=trastornos depresivos<br>Count=%{x}<br>Name=%{y}<extra></extra>",
         "legendgroup": "trastornos depresivos",
         "marker": {
          "color": "#FECB52",
          "pattern": {
           "shape": ""
          }
         },
         "name": "trastornos depresivos",
         "offsetgroup": "trastornos depresivos",
         "orientation": "h",
         "showlegend": true,
         "textposition": "auto",
         "type": "bar",
         "x": [
          1
         ],
         "xaxis": "x",
         "y": [
          "DT4H-Dis6-Depression (Depressive disorder )"
         ],
         "yaxis": "y"
        },
        {
         "alignmentgroup": "True",
         "hovertemplate": "span=Síndrome depresivo de larga evolución<br>Count=%{x}<br>Name=%{y}<extra></extra>",
         "legendgroup": "Síndrome depresivo de larga evolución",
         "marker": {
          "color": "#636efa",
          "pattern": {
           "shape": ""
          }
         },
         "name": "Síndrome depresivo de larga evolución",
         "offsetgroup": "Síndrome depresivo de larga evolución",
         "orientation": "h",
         "showlegend": true,
         "textposition": "auto",
         "type": "bar",
         "x": [
          1
         ],
         "xaxis": "x",
         "y": [
          "DT4H-Dis6-Depression (Depressive disorder )"
         ],
         "yaxis": "y"
        },
        {
         "alignmentgroup": "True",
         "hovertemplate": "span=síndrome depresivo<br>Count=%{x}<br>Name=%{y}<extra></extra>",
         "legendgroup": "síndrome depresivo",
         "marker": {
          "color": "#EF553B",
          "pattern": {
           "shape": ""
          }
         },
         "name": "síndrome depresivo",
         "offsetgroup": "síndrome depresivo",
         "orientation": "h",
         "showlegend": true,
         "textposition": "auto",
         "type": "bar",
         "x": [
          4
         ],
         "xaxis": "x",
         "y": [
          "DT4H-Dis6-Depression (Depressive disorder )"
         ],
         "yaxis": "y"
        },
        {
         "alignmentgroup": "True",
         "hovertemplate": "span=sintomatología depresiva<br>Count=%{x}<br>Name=%{y}<extra></extra>",
         "legendgroup": "sintomatología depresiva",
         "marker": {
          "color": "#00cc96",
          "pattern": {
           "shape": ""
          }
         },
         "name": "sintomatología depresiva",
         "offsetgroup": "sintomatología depresiva",
         "orientation": "h",
         "showlegend": true,
         "textposition": "auto",
         "type": "bar",
         "x": [
          2
         ],
         "xaxis": "x",
         "y": [
          "DT4H-Dis6-Depression (Depressive disorder )"
         ],
         "yaxis": "y"
        },
        {
         "alignmentgroup": "True",
         "hovertemplate": "span=cuadro depresivo<br>Count=%{x}<br>Name=%{y}<extra></extra>",
         "legendgroup": "cuadro depresivo",
         "marker": {
          "color": "#ab63fa",
          "pattern": {
           "shape": ""
          }
         },
         "name": "cuadro depresivo",
         "offsetgroup": "cuadro depresivo",
         "orientation": "h",
         "showlegend": true,
         "textposition": "auto",
         "type": "bar",
         "x": [
          1
         ],
         "xaxis": "x",
         "y": [
          "DT4H-Dis6-Depression (Depressive disorder )"
         ],
         "yaxis": "y"
        },
        {
         "alignmentgroup": "True",
         "hovertemplate": "span=lesiones en ambos lóbulos hepáticos<br>Count=%{x}<br>Name=%{y}<extra></extra>",
         "legendgroup": "lesiones en ambos lóbulos hepáticos",
         "marker": {
          "color": "#FFA15A",
          "pattern": {
           "shape": ""
          }
         },
         "name": "lesiones en ambos lóbulos hepáticos",
         "offsetgroup": "lesiones en ambos lóbulos hepáticos",
         "orientation": "h",
         "showlegend": true,
         "textposition": "auto",
         "type": "bar",
         "x": [
          1
         ],
         "xaxis": "x",
         "y": [
          "DT4H-Dis9-Liver disorder (disorder of liver )"
         ],
         "yaxis": "y"
        },
        {
         "alignmentgroup": "True",
         "hovertemplate": "span=lesiones a nivel hepático<br>Count=%{x}<br>Name=%{y}<extra></extra>",
         "legendgroup": "lesiones a nivel hepático",
         "marker": {
          "color": "#19d3f3",
          "pattern": {
           "shape": ""
          }
         },
         "name": "lesiones a nivel hepático",
         "offsetgroup": "lesiones a nivel hepático",
         "orientation": "h",
         "showlegend": true,
         "textposition": "auto",
         "type": "bar",
         "x": [
          1
         ],
         "xaxis": "x",
         "y": [
          "DT4H-Dis9-Liver disorder (disorder of liver )"
         ],
         "yaxis": "y"
        },
        {
         "alignmentgroup": "True",
         "hovertemplate": "span=lesiones focales hepatoesplénicas<br>Count=%{x}<br>Name=%{y}<extra></extra>",
         "legendgroup": "lesiones focales hepatoesplénicas",
         "marker": {
          "color": "#FF6692",
          "pattern": {
           "shape": ""
          }
         },
         "name": "lesiones focales hepatoesplénicas",
         "offsetgroup": "lesiones focales hepatoesplénicas",
         "orientation": "h",
         "showlegend": true,
         "textposition": "auto",
         "type": "bar",
         "x": [
          1
         ],
         "xaxis": "x",
         "y": [
          "DT4H-Dis9-Liver disorder (disorder of liver )"
         ],
         "yaxis": "y"
        },
        {
         "alignmentgroup": "True",
         "hovertemplate": "span=lesiones hepáticas<br>Count=%{x}<br>Name=%{y}<extra></extra>",
         "legendgroup": "lesiones hepáticas",
         "marker": {
          "color": "#B6E880",
          "pattern": {
           "shape": ""
          }
         },
         "name": "lesiones hepáticas",
         "offsetgroup": "lesiones hepáticas",
         "orientation": "h",
         "showlegend": true,
         "textposition": "auto",
         "type": "bar",
         "x": [
          1,
          2
         ],
         "xaxis": "x",
         "y": [
          "DT4H-Dis9-Liver disorder (disorder of liver )",
          "DT4H-Dis9-Liver disorder (disorder of liver )"
         ],
         "yaxis": "y"
        },
        {
         "alignmentgroup": "True",
         "hovertemplate": "span=lesiones focales hepáticas<br>Count=%{x}<br>Name=%{y}<extra></extra>",
         "legendgroup": "lesiones focales hepáticas",
         "marker": {
          "color": "#FF97FF",
          "pattern": {
           "shape": ""
          }
         },
         "name": "lesiones focales hepáticas",
         "offsetgroup": "lesiones focales hepáticas",
         "orientation": "h",
         "showlegend": true,
         "textposition": "auto",
         "type": "bar",
         "x": [
          2
         ],
         "xaxis": "x",
         "y": [
          "DT4H-Dis9-Liver disorder (disorder of liver )"
         ],
         "yaxis": "y"
        },
        {
         "alignmentgroup": "True",
         "hovertemplate": "span=lesiones ocupantes de espacio hepáticas<br>Count=%{x}<br>Name=%{y}<extra></extra>",
         "legendgroup": "lesiones ocupantes de espacio hepáticas",
         "marker": {
          "color": "#FECB52",
          "pattern": {
           "shape": ""
          }
         },
         "name": "lesiones ocupantes de espacio hepáticas",
         "offsetgroup": "lesiones ocupantes de espacio hepáticas",
         "orientation": "h",
         "showlegend": true,
         "textposition": "auto",
         "type": "bar",
         "x": [
          1
         ],
         "xaxis": "x",
         "y": [
          "DT4H-Dis9-Liver disorder (disorder of liver )"
         ],
         "yaxis": "y"
        },
        {
         "alignmentgroup": "True",
         "hovertemplate": "span=lesión ocupante de espacio en lóbulo hepático<br>Count=%{x}<br>Name=%{y}<extra></extra>",
         "legendgroup": "lesión ocupante de espacio en lóbulo hepático",
         "marker": {
          "color": "#636efa",
          "pattern": {
           "shape": ""
          }
         },
         "name": "lesión ocupante de espacio en lóbulo hepático",
         "offsetgroup": "lesión ocupante de espacio en lóbulo hepático",
         "orientation": "h",
         "showlegend": true,
         "textposition": "auto",
         "type": "bar",
         "x": [
          1
         ],
         "xaxis": "x",
         "y": [
          "DT4H-Dis9-Liver disorder (disorder of liver )"
         ],
         "yaxis": "y"
        },
        {
         "alignmentgroup": "True",
         "hovertemplate": "span=lesiones hipodensas en ambos lóbulos hepáticos<br>Count=%{x}<br>Name=%{y}<extra></extra>",
         "legendgroup": "lesiones hipodensas en ambos lóbulos hepáticos",
         "marker": {
          "color": "#EF553B",
          "pattern": {
           "shape": ""
          }
         },
         "name": "lesiones hipodensas en ambos lóbulos hepáticos",
         "offsetgroup": "lesiones hipodensas en ambos lóbulos hepáticos",
         "orientation": "h",
         "showlegend": true,
         "textposition": "auto",
         "type": "bar",
         "x": [
          1
         ],
         "xaxis": "x",
         "y": [
          "DT4H-Dis9-Liver disorder (disorder of liver )"
         ],
         "yaxis": "y"
        },
        {
         "alignmentgroup": "True",
         "hovertemplate": "span=lesiones hipodensas hepáticas<br>Count=%{x}<br>Name=%{y}<extra></extra>",
         "legendgroup": "lesiones hipodensas hepáticas",
         "marker": {
          "color": "#00cc96",
          "pattern": {
           "shape": ""
          }
         },
         "name": "lesiones hipodensas hepáticas",
         "offsetgroup": "lesiones hipodensas hepáticas",
         "orientation": "h",
         "showlegend": true,
         "textposition": "auto",
         "type": "bar",
         "x": [
          1
         ],
         "xaxis": "x",
         "y": [
          "DT4H-Dis9-Liver disorder (disorder of liver )"
         ],
         "yaxis": "y"
        },
        {
         "alignmentgroup": "True",
         "hovertemplate": "span=enfermedad hepática<br>Count=%{x}<br>Name=%{y}<extra></extra>",
         "legendgroup": "enfermedad hepática",
         "marker": {
          "color": "#ab63fa",
          "pattern": {
           "shape": ""
          }
         },
         "name": "enfermedad hepática",
         "offsetgroup": "enfermedad hepática",
         "orientation": "h",
         "showlegend": true,
         "textposition": "auto",
         "type": "bar",
         "x": [
          1
         ],
         "xaxis": "x",
         "y": [
          "DT4H-Dis9-Liver disorder (disorder of liver )"
         ],
         "yaxis": "y"
        },
        {
         "alignmentgroup": "True",
         "hovertemplate": "span=fibrosis portal<br>Count=%{x}<br>Name=%{y}<extra></extra>",
         "legendgroup": "fibrosis portal",
         "marker": {
          "color": "#FFA15A",
          "pattern": {
           "shape": ""
          }
         },
         "name": "fibrosis portal",
         "offsetgroup": "fibrosis portal",
         "orientation": "h",
         "showlegend": true,
         "textposition": "auto",
         "type": "bar",
         "x": [
          1
         ],
         "xaxis": "x",
         "y": [
          "DT4H-Dis9-Liver disorder (disorder of liver )"
         ],
         "yaxis": "y"
        },
        {
         "alignmentgroup": "True",
         "hovertemplate": "span=enfermedad pulmonar obstructiva crónica<br>Count=%{x}<br>Name=%{y}<extra></extra>",
         "legendgroup": "enfermedad pulmonar obstructiva crónica",
         "marker": {
          "color": "#19d3f3",
          "pattern": {
           "shape": ""
          }
         },
         "name": "enfermedad pulmonar obstructiva crónica",
         "offsetgroup": "enfermedad pulmonar obstructiva crónica",
         "orientation": "h",
         "showlegend": true,
         "textposition": "auto",
         "type": "bar",
         "x": [
          6
         ],
         "xaxis": "x",
         "y": [
          "DT4H-Dis3-Chronic Obstructive Pulmonic disorder ( Chronic obstructive lung disease )"
         ],
         "yaxis": "y"
        },
        {
         "alignmentgroup": "True",
         "hovertemplate": "span=EPOC corticodependiente<br>Count=%{x}<br>Name=%{y}<extra></extra>",
         "legendgroup": "EPOC corticodependiente",
         "marker": {
          "color": "#FF6692",
          "pattern": {
           "shape": ""
          }
         },
         "name": "EPOC corticodependiente",
         "offsetgroup": "EPOC corticodependiente",
         "orientation": "h",
         "showlegend": true,
         "textposition": "auto",
         "type": "bar",
         "x": [
          1
         ],
         "xaxis": "x",
         "y": [
          "DT4H-Dis3-Chronic Obstructive Pulmonic disorder ( Chronic obstructive lung disease )"
         ],
         "yaxis": "y"
        },
        {
         "alignmentgroup": "True",
         "hovertemplate": "span=enfermedad pulmonar obstructiva<br>Count=%{x}<br>Name=%{y}<extra></extra>",
         "legendgroup": "enfermedad pulmonar obstructiva",
         "marker": {
          "color": "#B6E880",
          "pattern": {
           "shape": ""
          }
         },
         "name": "enfermedad pulmonar obstructiva",
         "offsetgroup": "enfermedad pulmonar obstructiva",
         "orientation": "h",
         "showlegend": true,
         "textposition": "auto",
         "type": "bar",
         "x": [
          1
         ],
         "xaxis": "x",
         "y": [
          "DT4H-Dis3-Chronic Obstructive Pulmonic disorder ( Chronic obstructive lung disease )"
         ],
         "yaxis": "y"
        },
        {
         "alignmentgroup": "True",
         "hovertemplate": "span=EPOC<br>Count=%{x}<br>Name=%{y}<extra></extra>",
         "legendgroup": "EPOC",
         "marker": {
          "color": "#FF97FF",
          "pattern": {
           "shape": ""
          }
         },
         "name": "EPOC",
         "offsetgroup": "EPOC",
         "orientation": "h",
         "showlegend": true,
         "textposition": "auto",
         "type": "bar",
         "x": [
          7
         ],
         "xaxis": "x",
         "y": [
          "DT4H-Dis3-Chronic Obstructive Pulmonic disorder ( Chronic obstructive lung disease )"
         ],
         "yaxis": "y"
        },
        {
         "alignmentgroup": "True",
         "hovertemplate": "span=Hepatomegalia<br>Count=%{x}<br>Name=%{y}<extra></extra>",
         "legendgroup": "Hepatomegalia",
         "marker": {
          "color": "#FECB52",
          "pattern": {
           "shape": ""
          }
         },
         "name": "Hepatomegalia",
         "offsetgroup": "Hepatomegalia",
         "orientation": "h",
         "showlegend": true,
         "textposition": "auto",
         "type": "bar",
         "x": [
          1
         ],
         "xaxis": "x",
         "y": [
          "DT4HSign-28-hepatomegaly (Large liver )"
         ],
         "yaxis": "y"
        },
        {
         "alignmentgroup": "True",
         "hovertemplate": "span=hepatomegalia<br>Count=%{x}<br>Name=%{y}<extra></extra>",
         "legendgroup": "hepatomegalia",
         "marker": {
          "color": "#636efa",
          "pattern": {
           "shape": ""
          }
         },
         "name": "hepatomegalia",
         "offsetgroup": "hepatomegalia",
         "orientation": "h",
         "showlegend": true,
         "textposition": "auto",
         "type": "bar",
         "x": [
          14
         ],
         "xaxis": "x",
         "y": [
          "DT4HSign-28-hepatomegaly (Large liver )"
         ],
         "yaxis": "y"
        },
        {
         "alignmentgroup": "True",
         "hovertemplate": "span=tumor formado por células fusiformes<br>Count=%{x}<br>Name=%{y}<extra></extra>",
         "legendgroup": "tumor formado por células fusiformes",
         "marker": {
          "color": "#EF553B",
          "pattern": {
           "shape": ""
          }
         },
         "name": "tumor formado por células fusiformes",
         "offsetgroup": "tumor formado por células fusiformes",
         "orientation": "h",
         "showlegend": true,
         "textposition": "auto",
         "type": "bar",
         "x": [
          1
         ],
         "xaxis": "x",
         "y": [
          "DT4H-Dis10-Malignant Cancer ( Malignant neoplastic disorder )"
         ],
         "yaxis": "y"
        },
        {
         "alignmentgroup": "True",
         "hovertemplate": "span=neoplasia maligna<br>Count=%{x}<br>Name=%{y}<extra></extra>",
         "legendgroup": "neoplasia maligna",
         "marker": {
          "color": "#00cc96",
          "pattern": {
           "shape": ""
          }
         },
         "name": "neoplasia maligna",
         "offsetgroup": "neoplasia maligna",
         "orientation": "h",
         "showlegend": true,
         "textposition": "auto",
         "type": "bar",
         "x": [
          1
         ],
         "xaxis": "x",
         "y": [
          "DT4H-Dis10-Malignant Cancer ( Malignant neoplastic disorder )"
         ],
         "yaxis": "y"
        },
        {
         "alignmentgroup": "True",
         "hovertemplate": "span=patrón infiltrativo hacia el tejido conjuntivo<br>Count=%{x}<br>Name=%{y}<extra></extra>",
         "legendgroup": "patrón infiltrativo hacia el tejido conjuntivo",
         "marker": {
          "color": "#ab63fa",
          "pattern": {
           "shape": ""
          }
         },
         "name": "patrón infiltrativo hacia el tejido conjuntivo",
         "offsetgroup": "patrón infiltrativo hacia el tejido conjuntivo",
         "orientation": "h",
         "showlegend": true,
         "textposition": "auto",
         "type": "bar",
         "x": [
          1
         ],
         "xaxis": "x",
         "y": [
          "DT4H-Dis10-Malignant Cancer ( Malignant neoplastic disorder )"
         ],
         "yaxis": "y"
        },
        {
         "alignmentgroup": "True",
         "hovertemplate": "span=tumor de células fusiformes<br>Count=%{x}<br>Name=%{y}<extra></extra>",
         "legendgroup": "tumor de células fusiformes",
         "marker": {
          "color": "#FFA15A",
          "pattern": {
           "shape": ""
          }
         },
         "name": "tumor de células fusiformes",
         "offsetgroup": "tumor de células fusiformes",
         "orientation": "h",
         "showlegend": true,
         "textposition": "auto",
         "type": "bar",
         "x": [
          1
         ],
         "xaxis": "x",
         "y": [
          "DT4H-Dis10-Malignant Cancer ( Malignant neoplastic disorder )"
         ],
         "yaxis": "y"
        },
        {
         "alignmentgroup": "True",
         "hovertemplate": "span=recidiva tumoral en el lecho quirúrgico<br>Count=%{x}<br>Name=%{y}<extra></extra>",
         "legendgroup": "recidiva tumoral en el lecho quirúrgico",
         "marker": {
          "color": "#19d3f3",
          "pattern": {
           "shape": ""
          }
         },
         "name": "recidiva tumoral en el lecho quirúrgico",
         "offsetgroup": "recidiva tumoral en el lecho quirúrgico",
         "orientation": "h",
         "showlegend": true,
         "textposition": "auto",
         "type": "bar",
         "x": [
          1
         ],
         "xaxis": "x",
         "y": [
          "DT4H-Dis10-Malignant Cancer ( Malignant neoplastic disorder )"
         ],
         "yaxis": "y"
        },
        {
         "alignmentgroup": "True",
         "hovertemplate": "span=tumores malignos<br>Count=%{x}<br>Name=%{y}<extra></extra>",
         "legendgroup": "tumores malignos",
         "marker": {
          "color": "#FF6692",
          "pattern": {
           "shape": ""
          }
         },
         "name": "tumores malignos",
         "offsetgroup": "tumores malignos",
         "orientation": "h",
         "showlegend": true,
         "textposition": "auto",
         "type": "bar",
         "x": [
          2
         ],
         "xaxis": "x",
         "y": [
          "DT4H-Dis10-Malignant Cancer ( Malignant neoplastic disorder )"
         ],
         "yaxis": "y"
        },
        {
         "alignmentgroup": "True",
         "hovertemplate": "span=recidiva neoplásica<br>Count=%{x}<br>Name=%{y}<extra></extra>",
         "legendgroup": "recidiva neoplásica",
         "marker": {
          "color": "#B6E880",
          "pattern": {
           "shape": ""
          }
         },
         "name": "recidiva neoplásica",
         "offsetgroup": "recidiva neoplásica",
         "orientation": "h",
         "showlegend": true,
         "textposition": "auto",
         "type": "bar",
         "x": [
          1
         ],
         "xaxis": "x",
         "y": [
          "DT4H-Dis10-Malignant Cancer ( Malignant neoplastic disorder )"
         ],
         "yaxis": "y"
        },
        {
         "alignmentgroup": "True",
         "hovertemplate": "span=recidiva del lecho quirúrgico<br>Count=%{x}<br>Name=%{y}<extra></extra>",
         "legendgroup": "recidiva del lecho quirúrgico",
         "marker": {
          "color": "#FF97FF",
          "pattern": {
           "shape": ""
          }
         },
         "name": "recidiva del lecho quirúrgico",
         "offsetgroup": "recidiva del lecho quirúrgico",
         "orientation": "h",
         "showlegend": true,
         "textposition": "auto",
         "type": "bar",
         "x": [
          1
         ],
         "xaxis": "x",
         "y": [
          "DT4H-Dis10-Malignant Cancer ( Malignant neoplastic disorder )"
         ],
         "yaxis": "y"
        },
        {
         "alignmentgroup": "True",
         "hovertemplate": "span=neoplasia infiltrante<br>Count=%{x}<br>Name=%{y}<extra></extra>",
         "legendgroup": "neoplasia infiltrante",
         "marker": {
          "color": "#FECB52",
          "pattern": {
           "shape": ""
          }
         },
         "name": "neoplasia infiltrante",
         "offsetgroup": "neoplasia infiltrante",
         "orientation": "h",
         "showlegend": true,
         "textposition": "auto",
         "type": "bar",
         "x": [
          1
         ],
         "xaxis": "x",
         "y": [
          "DT4H-Dis10-Malignant Cancer ( Malignant neoplastic disorder )"
         ],
         "yaxis": "y"
        },
        {
         "alignmentgroup": "True",
         "hovertemplate": "span=recidiva local<br>Count=%{x}<br>Name=%{y}<extra></extra>",
         "legendgroup": "recidiva local",
         "marker": {
          "color": "#636efa",
          "pattern": {
           "shape": ""
          }
         },
         "name": "recidiva local",
         "offsetgroup": "recidiva local",
         "orientation": "h",
         "showlegend": true,
         "textposition": "auto",
         "type": "bar",
         "x": [
          1
         ],
         "xaxis": "x",
         "y": [
          "DT4H-Dis10-Malignant Cancer ( Malignant neoplastic disorder )"
         ],
         "yaxis": "y"
        },
        {
         "alignmentgroup": "True",
         "hovertemplate": "span=Cancer<br>Count=%{x}<br>Name=%{y}<extra></extra>",
         "legendgroup": "Cancer",
         "marker": {
          "color": "#EF553B",
          "pattern": {
           "shape": ""
          }
         },
         "name": "Cancer",
         "offsetgroup": "Cancer",
         "orientation": "h",
         "showlegend": true,
         "textposition": "auto",
         "type": "bar",
         "x": [
          1
         ],
         "xaxis": "x",
         "y": [
          "DT4H-Dis10-Malignant Cancer ( Malignant neoplastic disorder )"
         ],
         "yaxis": "y"
        },
        {
         "alignmentgroup": "True",
         "hovertemplate": "span=Cáncer<br>Count=%{x}<br>Name=%{y}<extra></extra>",
         "legendgroup": "Cáncer",
         "marker": {
          "color": "#00cc96",
          "pattern": {
           "shape": ""
          }
         },
         "name": "Cáncer",
         "offsetgroup": "Cáncer",
         "orientation": "h",
         "showlegend": true,
         "textposition": "auto",
         "type": "bar",
         "x": [
          1
         ],
         "xaxis": "x",
         "y": [
          "DT4H-Dis10-Malignant Cancer ( Malignant neoplastic disorder )"
         ],
         "yaxis": "y"
        },
        {
         "alignmentgroup": "True",
         "hovertemplate": "span=Tumor maligno indiferenciado<br>Count=%{x}<br>Name=%{y}<extra></extra>",
         "legendgroup": "Tumor maligno indiferenciado",
         "marker": {
          "color": "#ab63fa",
          "pattern": {
           "shape": ""
          }
         },
         "name": "Tumor maligno indiferenciado",
         "offsetgroup": "Tumor maligno indiferenciado",
         "orientation": "h",
         "showlegend": true,
         "textposition": "auto",
         "type": "bar",
         "x": [
          1
         ],
         "xaxis": "x",
         "y": [
          "DT4H-Dis10-Malignant Cancer ( Malignant neoplastic disorder )"
         ],
         "yaxis": "y"
        },
        {
         "alignmentgroup": "True",
         "hovertemplate": "span=cáncer<br>Count=%{x}<br>Name=%{y}<extra></extra>",
         "legendgroup": "cáncer",
         "marker": {
          "color": "#FFA15A",
          "pattern": {
           "shape": ""
          }
         },
         "name": "cáncer",
         "offsetgroup": "cáncer",
         "orientation": "h",
         "showlegend": true,
         "textposition": "auto",
         "type": "bar",
         "x": [
          1
         ],
         "xaxis": "x",
         "y": [
          "DT4H-Dis10-Malignant Cancer ( Malignant neoplastic disorder )"
         ],
         "yaxis": "y"
        },
        {
         "alignmentgroup": "True",
         "hovertemplate": "span=cáncer infiltrante de 5 cm con componente epidermoide bien diferenciado y microcítico<br>Count=%{x}<br>Name=%{y}<extra></extra>",
         "legendgroup": "cáncer infiltrante de 5 cm con componente epidermoide bien diferenciado y microcítico",
         "marker": {
          "color": "#19d3f3",
          "pattern": {
           "shape": ""
          }
         },
         "name": "cáncer infiltrante de 5 cm con componente epidermoide bien diferenciado y microcítico",
         "offsetgroup": "cáncer infiltrante de 5 cm con componente epidermoide bien diferenciado y microcítico",
         "orientation": "h",
         "showlegend": true,
         "textposition": "auto",
         "type": "bar",
         "x": [
          1
         ],
         "xaxis": "x",
         "y": [
          "DT4H-Dis10-Malignant Cancer ( Malignant neoplastic disorder )"
         ],
         "yaxis": "y"
        },
        {
         "alignmentgroup": "True",
         "hovertemplate": "span=lesión maligna<br>Count=%{x}<br>Name=%{y}<extra></extra>",
         "legendgroup": "lesión maligna",
         "marker": {
          "color": "#FF6692",
          "pattern": {
           "shape": ""
          }
         },
         "name": "lesión maligna",
         "offsetgroup": "lesión maligna",
         "orientation": "h",
         "showlegend": true,
         "textposition": "auto",
         "type": "bar",
         "x": [
          1
         ],
         "xaxis": "x",
         "y": [
          "DT4H-Dis10-Malignant Cancer ( Malignant neoplastic disorder )"
         ],
         "yaxis": "y"
        },
        {
         "alignmentgroup": "True",
         "hovertemplate": "span=Exfumador<br>Count=%{x}<br>Name=%{y}<extra></extra>",
         "legendgroup": "Exfumador",
         "marker": {
          "color": "#B6E880",
          "pattern": {
           "shape": ""
          }
         },
         "name": "Exfumador",
         "offsetgroup": "Exfumador",
         "orientation": "h",
         "showlegend": true,
         "textposition": "auto",
         "type": "bar",
         "x": [
          3,
          3
         ],
         "xaxis": "x",
         "y": [
          "DT4H-SM5-Ex-smoker  (Ex-smoker )",
          "DT4H-SM2-Ex-smoker  (Ex-smoker )"
         ],
         "yaxis": "y"
        },
        {
         "alignmentgroup": "True",
         "hovertemplate": "span=exfumador<br>Count=%{x}<br>Name=%{y}<extra></extra>",
         "legendgroup": "exfumador",
         "marker": {
          "color": "#FF97FF",
          "pattern": {
           "shape": ""
          }
         },
         "name": "exfumador",
         "offsetgroup": "exfumador",
         "orientation": "h",
         "showlegend": true,
         "textposition": "auto",
         "type": "bar",
         "x": [
          8,
          8
         ],
         "xaxis": "x",
         "y": [
          "DT4H-SM2-Ex-smoker  (Ex-smoker )",
          "DT4H-SM5-Ex-smoker  (Ex-smoker )"
         ],
         "yaxis": "y"
        },
        {
         "alignmentgroup": "True",
         "hovertemplate": "span=ex-fumador<br>Count=%{x}<br>Name=%{y}<extra></extra>",
         "legendgroup": "ex-fumador",
         "marker": {
          "color": "#FECB52",
          "pattern": {
           "shape": ""
          }
         },
         "name": "ex-fumador",
         "offsetgroup": "ex-fumador",
         "orientation": "h",
         "showlegend": true,
         "textposition": "auto",
         "type": "bar",
         "x": [
          2,
          2
         ],
         "xaxis": "x",
         "y": [
          "DT4H-SM5-Ex-smoker  (Ex-smoker )",
          "DT4H-SM2-Ex-smoker  (Ex-smoker )"
         ],
         "yaxis": "y"
        },
        {
         "alignmentgroup": "True",
         "hovertemplate": "span=exfumadora<br>Count=%{x}<br>Name=%{y}<extra></extra>",
         "legendgroup": "exfumadora",
         "marker": {
          "color": "#636efa",
          "pattern": {
           "shape": ""
          }
         },
         "name": "exfumadora",
         "offsetgroup": "exfumadora",
         "orientation": "h",
         "showlegend": true,
         "textposition": "auto",
         "type": "bar",
         "x": [
          2,
          2
         ],
         "xaxis": "x",
         "y": [
          "DT4H-SM5-Ex-smoker  (Ex-smoker )",
          "DT4H-SM2-Ex-smoker  (Ex-smoker )"
         ],
         "yaxis": "y"
        },
        {
         "alignmentgroup": "True",
         "hovertemplate": "span=Ex fumador<br>Count=%{x}<br>Name=%{y}<extra></extra>",
         "legendgroup": "Ex fumador",
         "marker": {
          "color": "#EF553B",
          "pattern": {
           "shape": ""
          }
         },
         "name": "Ex fumador",
         "offsetgroup": "Ex fumador",
         "orientation": "h",
         "showlegend": true,
         "textposition": "auto",
         "type": "bar",
         "x": [
          1,
          1
         ],
         "xaxis": "x",
         "y": [
          "DT4H-SM2-Ex-smoker  (Ex-smoker )",
          "DT4H-SM5-Ex-smoker  (Ex-smoker )"
         ],
         "yaxis": "y"
        },
        {
         "alignmentgroup": "True",
         "hovertemplate": "span=Exfumadora<br>Count=%{x}<br>Name=%{y}<extra></extra>",
         "legendgroup": "Exfumadora",
         "marker": {
          "color": "#00cc96",
          "pattern": {
           "shape": ""
          }
         },
         "name": "Exfumadora",
         "offsetgroup": "Exfumadora",
         "orientation": "h",
         "showlegend": true,
         "textposition": "auto",
         "type": "bar",
         "x": [
          1,
          1
         ],
         "xaxis": "x",
         "y": [
          "DT4H-SM5-Ex-smoker  (Ex-smoker )",
          "DT4H-SM2-Ex-smoker  (Ex-smoker )"
         ],
         "yaxis": "y"
        },
        {
         "alignmentgroup": "True",
         "hovertemplate": "span=Ex-fumador<br>Count=%{x}<br>Name=%{y}<extra></extra>",
         "legendgroup": "Ex-fumador",
         "marker": {
          "color": "#ab63fa",
          "pattern": {
           "shape": ""
          }
         },
         "name": "Ex-fumador",
         "offsetgroup": "Ex-fumador",
         "orientation": "h",
         "showlegend": true,
         "textposition": "auto",
         "type": "bar",
         "x": [
          1,
          1
         ],
         "xaxis": "x",
         "y": [
          "DT4H-SM2-Ex-smoker  (Ex-smoker )",
          "DT4H-SM5-Ex-smoker  (Ex-smoker )"
         ],
         "yaxis": "y"
        },
        {
         "alignmentgroup": "True",
         "hovertemplate": "span=líquido libre abdominal<br>Count=%{x}<br>Name=%{y}<extra></extra>",
         "legendgroup": "líquido libre abdominal",
         "marker": {
          "color": "#FFA15A",
          "pattern": {
           "shape": ""
          }
         },
         "name": "líquido libre abdominal",
         "offsetgroup": "líquido libre abdominal",
         "orientation": "h",
         "showlegend": true,
         "textposition": "auto",
         "type": "bar",
         "x": [
          1
         ],
         "xaxis": "x",
         "y": [
          "DT4HSign-29-ascites ( Ascites )"
         ],
         "yaxis": "y"
        },
        {
         "alignmentgroup": "True",
         "hovertemplate": "span=Cardiopatía isquémica<br>Count=%{x}<br>Name=%{y}<extra></extra>",
         "legendgroup": "Cardiopatía isquémica",
         "marker": {
          "color": "#19d3f3",
          "pattern": {
           "shape": ""
          }
         },
         "name": "Cardiopatía isquémica",
         "offsetgroup": "Cardiopatía isquémica",
         "orientation": "h",
         "showlegend": true,
         "textposition": "auto",
         "type": "bar",
         "x": [
          1
         ],
         "xaxis": "x",
         "y": [
          "DT4H-CV1-Angina pectoris (Angina )"
         ],
         "yaxis": "y"
        },
        {
         "alignmentgroup": "True",
         "hovertemplate": "span=ascitis en todos los compartimentos peritoneales<br>Count=%{x}<br>Name=%{y}<extra></extra>",
         "legendgroup": "ascitis en todos los compartimentos peritoneales",
         "marker": {
          "color": "#FF6692",
          "pattern": {
           "shape": ""
          }
         },
         "name": "ascitis en todos los compartimentos peritoneales",
         "offsetgroup": "ascitis en todos los compartimentos peritoneales",
         "orientation": "h",
         "showlegend": true,
         "textposition": "auto",
         "type": "bar",
         "x": [
          1
         ],
         "xaxis": "x",
         "y": [
          "DT4HSign-29-ascites ( Ascites )"
         ],
         "yaxis": "y"
        },
        {
         "alignmentgroup": "True",
         "hovertemplate": "span=angor hemodinámico<br>Count=%{x}<br>Name=%{y}<extra></extra>",
         "legendgroup": "angor hemodinámico",
         "marker": {
          "color": "#B6E880",
          "pattern": {
           "shape": ""
          }
         },
         "name": "angor hemodinámico",
         "offsetgroup": "angor hemodinámico",
         "orientation": "h",
         "showlegend": true,
         "textposition": "auto",
         "type": "bar",
         "x": [
          1
         ],
         "xaxis": "x",
         "y": [
          "DT4H-CV1-Angina pectoris (Angina )"
         ],
         "yaxis": "y"
        },
        {
         "alignmentgroup": "True",
         "hovertemplate": "span=cardiopatía isquémica<br>Count=%{x}<br>Name=%{y}<extra></extra>",
         "legendgroup": "cardiopatía isquémica",
         "marker": {
          "color": "#FF97FF",
          "pattern": {
           "shape": ""
          }
         },
         "name": "cardiopatía isquémica",
         "offsetgroup": "cardiopatía isquémica",
         "orientation": "h",
         "showlegend": true,
         "textposition": "auto",
         "type": "bar",
         "x": [
          16
         ],
         "xaxis": "x",
         "y": [
          "DT4H-CV1-Angina pectoris (Angina )"
         ],
         "yaxis": "y"
        },
        {
         "alignmentgroup": "True",
         "hovertemplate": "span=ascitis<br>Count=%{x}<br>Name=%{y}<extra></extra>",
         "legendgroup": "ascitis",
         "marker": {
          "color": "#FECB52",
          "pattern": {
           "shape": ""
          }
         },
         "name": "ascitis",
         "offsetgroup": "ascitis",
         "orientation": "h",
         "showlegend": true,
         "textposition": "auto",
         "type": "bar",
         "x": [
          16
         ],
         "xaxis": "x",
         "y": [
          "DT4HSign-29-ascites ( Ascites )"
         ],
         "yaxis": "y"
        },
        {
         "alignmentgroup": "True",
         "hovertemplate": "span=angor pectoris<br>Count=%{x}<br>Name=%{y}<extra></extra>",
         "legendgroup": "angor pectoris",
         "marker": {
          "color": "#636efa",
          "pattern": {
           "shape": ""
          }
         },
         "name": "angor pectoris",
         "offsetgroup": "angor pectoris",
         "orientation": "h",
         "showlegend": true,
         "textposition": "auto",
         "type": "bar",
         "x": [
          1
         ],
         "xaxis": "x",
         "y": [
          "DT4H-CV1-Angina pectoris (Angina )"
         ],
         "yaxis": "y"
        },
        {
         "alignmentgroup": "True",
         "hovertemplate": "span=líquido libre en abdomen<br>Count=%{x}<br>Name=%{y}<extra></extra>",
         "legendgroup": "líquido libre en abdomen",
         "marker": {
          "color": "#EF553B",
          "pattern": {
           "shape": ""
          }
         },
         "name": "líquido libre en abdomen",
         "offsetgroup": "líquido libre en abdomen",
         "orientation": "h",
         "showlegend": true,
         "textposition": "auto",
         "type": "bar",
         "x": [
          1
         ],
         "xaxis": "x",
         "y": [
          "DT4HSign-29-ascites ( Ascites )"
         ],
         "yaxis": "y"
        },
        {
         "alignmentgroup": "True",
         "hovertemplate": "span=líquido ascítico peritoneal<br>Count=%{x}<br>Name=%{y}<extra></extra>",
         "legendgroup": "líquido ascítico peritoneal",
         "marker": {
          "color": "#00cc96",
          "pattern": {
           "shape": ""
          }
         },
         "name": "líquido ascítico peritoneal",
         "offsetgroup": "líquido ascítico peritoneal",
         "orientation": "h",
         "showlegend": true,
         "textposition": "auto",
         "type": "bar",
         "x": [
          1
         ],
         "xaxis": "x",
         "y": [
          "DT4HSign-29-ascites ( Ascites )"
         ],
         "yaxis": "y"
        },
        {
         "alignmentgroup": "True",
         "hovertemplate": "span=angina<br>Count=%{x}<br>Name=%{y}<extra></extra>",
         "legendgroup": "angina",
         "marker": {
          "color": "#ab63fa",
          "pattern": {
           "shape": ""
          }
         },
         "name": "angina",
         "offsetgroup": "angina",
         "orientation": "h",
         "showlegend": true,
         "textposition": "auto",
         "type": "bar",
         "x": [
          1
         ],
         "xaxis": "x",
         "y": [
          "DT4H-CV1-Angina pectoris (Angina )"
         ],
         "yaxis": "y"
        },
        {
         "alignmentgroup": "True",
         "hovertemplate": "span=ascitis de distribución difusa<br>Count=%{x}<br>Name=%{y}<extra></extra>",
         "legendgroup": "ascitis de distribución difusa",
         "marker": {
          "color": "#FFA15A",
          "pattern": {
           "shape": ""
          }
         },
         "name": "ascitis de distribución difusa",
         "offsetgroup": "ascitis de distribución difusa",
         "orientation": "h",
         "showlegend": true,
         "textposition": "auto",
         "type": "bar",
         "x": [
          1
         ],
         "xaxis": "x",
         "y": [
          "DT4HSign-29-ascites ( Ascites )"
         ],
         "yaxis": "y"
        },
        {
         "alignmentgroup": "True",
         "hovertemplate": "span=angina de pecho<br>Count=%{x}<br>Name=%{y}<extra></extra>",
         "legendgroup": "angina de pecho",
         "marker": {
          "color": "#19d3f3",
          "pattern": {
           "shape": ""
          }
         },
         "name": "angina de pecho",
         "offsetgroup": "angina de pecho",
         "orientation": "h",
         "showlegend": true,
         "textposition": "auto",
         "type": "bar",
         "x": [
          1
         ],
         "xaxis": "x",
         "y": [
          "DT4H-CV1-Angina pectoris (Angina )"
         ],
         "yaxis": "y"
        },
        {
         "alignmentgroup": "True",
         "hovertemplate": "span=derrame pleural<br>Count=%{x}<br>Name=%{y}<extra></extra>",
         "legendgroup": "derrame pleural",
         "marker": {
          "color": "#FF6692",
          "pattern": {
           "shape": ""
          }
         },
         "name": "derrame pleural",
         "offsetgroup": "derrame pleural",
         "orientation": "h",
         "showlegend": true,
         "textposition": "auto",
         "type": "bar",
         "x": [
          23
         ],
         "xaxis": "x",
         "y": [
          "DT4HSign-23-pleural effusion ( Pleural effusion )"
         ],
         "yaxis": "y"
        },
        {
         "alignmentgroup": "True",
         "hovertemplate": "span=derrame pleural derecho<br>Count=%{x}<br>Name=%{y}<extra></extra>",
         "legendgroup": "derrame pleural derecho",
         "marker": {
          "color": "#B6E880",
          "pattern": {
           "shape": ""
          }
         },
         "name": "derrame pleural derecho",
         "offsetgroup": "derrame pleural derecho",
         "orientation": "h",
         "showlegend": true,
         "textposition": "auto",
         "type": "bar",
         "x": [
          1
         ],
         "xaxis": "x",
         "y": [
          "DT4HSign-23-pleural effusion ( Pleural effusion )"
         ],
         "yaxis": "y"
        },
        {
         "alignmentgroup": "True",
         "hovertemplate": "span=diabéticos<br>Count=%{x}<br>Name=%{y}<extra></extra>",
         "legendgroup": "diabéticos",
         "marker": {
          "color": "#FF97FF",
          "pattern": {
           "shape": ""
          }
         },
         "name": "diabéticos",
         "offsetgroup": "diabéticos",
         "orientation": "h",
         "showlegend": true,
         "textposition": "auto",
         "type": "bar",
         "x": [
          1
         ],
         "xaxis": "x",
         "y": [
          "DT4H-Dis4-Diabetes Mellitus (Diabetes mellitus )"
         ],
         "yaxis": "y"
        },
        {
         "alignmentgroup": "True",
         "hovertemplate": "span=DM<br>Count=%{x}<br>Name=%{y}<extra></extra>",
         "legendgroup": "DM",
         "marker": {
          "color": "#FECB52",
          "pattern": {
           "shape": ""
          }
         },
         "name": "DM",
         "offsetgroup": "DM",
         "orientation": "h",
         "showlegend": true,
         "textposition": "auto",
         "type": "bar",
         "x": [
          6
         ],
         "xaxis": "x",
         "y": [
          "DT4H-Dis4-Diabetes Mellitus (Diabetes mellitus )"
         ],
         "yaxis": "y"
        },
        {
         "alignmentgroup": "True",
         "hovertemplate": "span=diabético<br>Count=%{x}<br>Name=%{y}<extra></extra>",
         "legendgroup": "diabético",
         "marker": {
          "color": "#636efa",
          "pattern": {
           "shape": ""
          }
         },
         "name": "diabético",
         "offsetgroup": "diabético",
         "orientation": "h",
         "showlegend": true,
         "textposition": "auto",
         "type": "bar",
         "x": [
          8
         ],
         "xaxis": "x",
         "y": [
          "DT4H-Dis4-Diabetes Mellitus (Diabetes mellitus )"
         ],
         "yaxis": "y"
        },
        {
         "alignmentgroup": "True",
         "hovertemplate": "span=diabética<br>Count=%{x}<br>Name=%{y}<extra></extra>",
         "legendgroup": "diabética",
         "marker": {
          "color": "#EF553B",
          "pattern": {
           "shape": ""
          }
         },
         "name": "diabética",
         "offsetgroup": "diabética",
         "orientation": "h",
         "showlegend": true,
         "textposition": "auto",
         "type": "bar",
         "x": [
          2
         ],
         "xaxis": "x",
         "y": [
          "DT4H-Dis4-Diabetes Mellitus (Diabetes mellitus )"
         ],
         "yaxis": "y"
        },
        {
         "alignmentgroup": "True",
         "hovertemplate": "span=diabetes mellitus<br>Count=%{x}<br>Name=%{y}<extra></extra>",
         "legendgroup": "diabetes mellitus",
         "marker": {
          "color": "#00cc96",
          "pattern": {
           "shape": ""
          }
         },
         "name": "diabetes mellitus",
         "offsetgroup": "diabetes mellitus",
         "orientation": "h",
         "showlegend": true,
         "textposition": "auto",
         "type": "bar",
         "x": [
          5
         ],
         "xaxis": "x",
         "y": [
          "DT4H-Dis4-Diabetes Mellitus (Diabetes mellitus )"
         ],
         "yaxis": "y"
        },
        {
         "alignmentgroup": "True",
         "hovertemplate": "span=diabetes<br>Count=%{x}<br>Name=%{y}<extra></extra>",
         "legendgroup": "diabetes",
         "marker": {
          "color": "#ab63fa",
          "pattern": {
           "shape": ""
          }
         },
         "name": "diabetes",
         "offsetgroup": "diabetes",
         "orientation": "h",
         "showlegend": true,
         "textposition": "auto",
         "type": "bar",
         "x": [
          8
         ],
         "xaxis": "x",
         "y": [
          "DT4H-Dis4-Diabetes Mellitus (Diabetes mellitus )"
         ],
         "yaxis": "y"
        },
        {
         "alignmentgroup": "True",
         "hovertemplate": "span=Diabetes<br>Count=%{x}<br>Name=%{y}<extra></extra>",
         "legendgroup": "Diabetes",
         "marker": {
          "color": "#FFA15A",
          "pattern": {
           "shape": ""
          }
         },
         "name": "Diabetes",
         "offsetgroup": "Diabetes",
         "orientation": "h",
         "showlegend": true,
         "textposition": "auto",
         "type": "bar",
         "x": [
          1
         ],
         "xaxis": "x",
         "y": [
          "DT4H-Dis4-Diabetes Mellitus (Diabetes mellitus )"
         ],
         "yaxis": "y"
        },
        {
         "alignmentgroup": "True",
         "hovertemplate": "span=Fumador<br>Count=%{x}<br>Name=%{y}<extra></extra>",
         "legendgroup": "Fumador",
         "marker": {
          "color": "#19d3f3",
          "pattern": {
           "shape": ""
          }
         },
         "name": "Fumador",
         "offsetgroup": "Fumador",
         "orientation": "h",
         "showlegend": true,
         "textposition": "auto",
         "type": "bar",
         "x": [
          3,
          3
         ],
         "xaxis": "x",
         "y": [
          "DT4H-SM1-Smoker (Smoker )",
          "DT4H-SM7-Smoker (Smoker)"
         ],
         "yaxis": "y"
        },
        {
         "alignmentgroup": "True",
         "hovertemplate": "span=fumadora ocasional<br>Count=%{x}<br>Name=%{y}<extra></extra>",
         "legendgroup": "fumadora ocasional",
         "marker": {
          "color": "#FF6692",
          "pattern": {
           "shape": ""
          }
         },
         "name": "fumadora ocasional",
         "offsetgroup": "fumadora ocasional",
         "orientation": "h",
         "showlegend": true,
         "textposition": "auto",
         "type": "bar",
         "x": [
          1,
          1
         ],
         "xaxis": "x",
         "y": [
          "DT4H-SM7-Smoker (Smoker)",
          "DT4H-SM1-Smoker (Smoker )"
         ],
         "yaxis": "y"
        },
        {
         "alignmentgroup": "True",
         "hovertemplate": "span=Fumadora<br>Count=%{x}<br>Name=%{y}<extra></extra>",
         "legendgroup": "Fumadora",
         "marker": {
          "color": "#B6E880",
          "pattern": {
           "shape": ""
          }
         },
         "name": "Fumadora",
         "offsetgroup": "Fumadora",
         "orientation": "h",
         "showlegend": true,
         "textposition": "auto",
         "type": "bar",
         "x": [
          1,
          1
         ],
         "xaxis": "x",
         "y": [
          "DT4H-SM7-Smoker (Smoker)",
          "DT4H-SM1-Smoker (Smoker )"
         ],
         "yaxis": "y"
        },
        {
         "alignmentgroup": "True",
         "hovertemplate": "span=fuma<br>Count=%{x}<br>Name=%{y}<extra></extra>",
         "legendgroup": "fuma",
         "marker": {
          "color": "#FF97FF",
          "pattern": {
           "shape": ""
          }
         },
         "name": "fuma",
         "offsetgroup": "fuma",
         "orientation": "h",
         "showlegend": true,
         "textposition": "auto",
         "type": "bar",
         "x": [
          1,
          1
         ],
         "xaxis": "x",
         "y": [
          "DT4H-SM1-Smoker (Smoker )",
          "DT4H-SM7-Smoker (Smoker)"
         ],
         "yaxis": "y"
        },
        {
         "alignmentgroup": "True",
         "hovertemplate": "span=fumadora<br>Count=%{x}<br>Name=%{y}<extra></extra>",
         "legendgroup": "fumadora",
         "marker": {
          "color": "#FECB52",
          "pattern": {
           "shape": ""
          }
         },
         "name": "fumadora",
         "offsetgroup": "fumadora",
         "orientation": "h",
         "showlegend": true,
         "textposition": "auto",
         "type": "bar",
         "x": [
          10,
          10
         ],
         "xaxis": "x",
         "y": [
          "DT4H-SM1-Smoker (Smoker )",
          "DT4H-SM7-Smoker (Smoker)"
         ],
         "yaxis": "y"
        },
        {
         "alignmentgroup": "True",
         "hovertemplate": "span=fumador<br>Count=%{x}<br>Name=%{y}<extra></extra>",
         "legendgroup": "fumador",
         "marker": {
          "color": "#636efa",
          "pattern": {
           "shape": ""
          }
         },
         "name": "fumador",
         "offsetgroup": "fumador",
         "orientation": "h",
         "showlegend": true,
         "textposition": "auto",
         "type": "bar",
         "x": [
          35,
          35
         ],
         "xaxis": "x",
         "y": [
          "DT4H-SM1-Smoker (Smoker )",
          "DT4H-SM7-Smoker (Smoker)"
         ],
         "yaxis": "y"
        },
        {
         "alignmentgroup": "True",
         "hovertemplate": "span=fumador activo<br>Count=%{x}<br>Name=%{y}<extra></extra>",
         "legendgroup": "fumador activo",
         "marker": {
          "color": "#EF553B",
          "pattern": {
           "shape": ""
          }
         },
         "name": "fumador activo",
         "offsetgroup": "fumador activo",
         "orientation": "h",
         "showlegend": true,
         "textposition": "auto",
         "type": "bar",
         "x": [
          2,
          2
         ],
         "xaxis": "x",
         "y": [
          "DT4H-SM1-Smoker (Smoker )",
          "DT4H-SM7-Smoker (Smoker)"
         ],
         "yaxis": "y"
        },
        {
         "alignmentgroup": "True",
         "hovertemplate": "span=Hipertensión<br>Count=%{x}<br>Name=%{y}<extra></extra>",
         "legendgroup": "Hipertensión",
         "marker": {
          "color": "#00cc96",
          "pattern": {
           "shape": ""
          }
         },
         "name": "Hipertensión",
         "offsetgroup": "Hipertensión",
         "orientation": "h",
         "showlegend": true,
         "textposition": "auto",
         "type": "bar",
         "x": [
          1
         ],
         "xaxis": "x",
         "y": [
          "DT4H-CV5-Hypertension ( Hypertensive disorder, systemic arterial )"
         ],
         "yaxis": "y"
        },
        {
         "alignmentgroup": "True",
         "hovertemplate": "span=Hipertensión arterial<br>Count=%{x}<br>Name=%{y}<extra></extra>",
         "legendgroup": "Hipertensión arterial",
         "marker": {
          "color": "#ab63fa",
          "pattern": {
           "shape": ""
          }
         },
         "name": "Hipertensión arterial",
         "offsetgroup": "Hipertensión arterial",
         "orientation": "h",
         "showlegend": true,
         "textposition": "auto",
         "type": "bar",
         "x": [
          4
         ],
         "xaxis": "x",
         "y": [
          "DT4H-CV5-Hypertension ( Hypertensive disorder, systemic arterial )"
         ],
         "yaxis": "y"
        },
        {
         "alignmentgroup": "True",
         "hovertemplate": "span=hipertenso<br>Count=%{x}<br>Name=%{y}<extra></extra>",
         "legendgroup": "hipertenso",
         "marker": {
          "color": "#FFA15A",
          "pattern": {
           "shape": ""
          }
         },
         "name": "hipertenso",
         "offsetgroup": "hipertenso",
         "orientation": "h",
         "showlegend": true,
         "textposition": "auto",
         "type": "bar",
         "x": [
          5
         ],
         "xaxis": "x",
         "y": [
          "DT4H-CV5-Hypertension ( Hypertensive disorder, systemic arterial )"
         ],
         "yaxis": "y"
        },
        {
         "alignmentgroup": "True",
         "hovertemplate": "span=hipertensa<br>Count=%{x}<br>Name=%{y}<extra></extra>",
         "legendgroup": "hipertensa",
         "marker": {
          "color": "#19d3f3",
          "pattern": {
           "shape": ""
          }
         },
         "name": "hipertensa",
         "offsetgroup": "hipertensa",
         "orientation": "h",
         "showlegend": true,
         "textposition": "auto",
         "type": "bar",
         "x": [
          6
         ],
         "xaxis": "x",
         "y": [
          "DT4H-CV5-Hypertension ( Hypertensive disorder, systemic arterial )"
         ],
         "yaxis": "y"
        },
        {
         "alignmentgroup": "True",
         "hovertemplate": "span=hipertensión<br>Count=%{x}<br>Name=%{y}<extra></extra>",
         "legendgroup": "hipertensión",
         "marker": {
          "color": "#FF6692",
          "pattern": {
           "shape": ""
          }
         },
         "name": "hipertensión",
         "offsetgroup": "hipertensión",
         "orientation": "h",
         "showlegend": true,
         "textposition": "auto",
         "type": "bar",
         "x": [
          13
         ],
         "xaxis": "x",
         "y": [
          "DT4H-CV5-Hypertension ( Hypertensive disorder, systemic arterial )"
         ],
         "yaxis": "y"
        },
        {
         "alignmentgroup": "True",
         "hovertemplate": "span=hipertensión arterial<br>Count=%{x}<br>Name=%{y}<extra></extra>",
         "legendgroup": "hipertensión arterial",
         "marker": {
          "color": "#B6E880",
          "pattern": {
           "shape": ""
          }
         },
         "name": "hipertensión arterial",
         "offsetgroup": "hipertensión arterial",
         "orientation": "h",
         "showlegend": true,
         "textposition": "auto",
         "type": "bar",
         "x": [
          74
         ],
         "xaxis": "x",
         "y": [
          "DT4H-CV5-Hypertension ( Hypertensive disorder, systemic arterial )"
         ],
         "yaxis": "y"
        },
        {
         "alignmentgroup": "True",
         "hovertemplate": "span=hipertensión arterial sistémica<br>Count=%{x}<br>Name=%{y}<extra></extra>",
         "legendgroup": "hipertensión arterial sistémica",
         "marker": {
          "color": "#FF97FF",
          "pattern": {
           "shape": ""
          }
         },
         "name": "hipertensión arterial sistémica",
         "offsetgroup": "hipertensión arterial sistémica",
         "orientation": "h",
         "showlegend": true,
         "textposition": "auto",
         "type": "bar",
         "x": [
          2
         ],
         "xaxis": "x",
         "y": [
          "DT4H-CV5-Hypertension ( Hypertensive disorder, systemic arterial )"
         ],
         "yaxis": "y"
        },
        {
         "alignmentgroup": "True",
         "hovertemplate": "span=HTA severa<br>Count=%{x}<br>Name=%{y}<extra></extra>",
         "legendgroup": "HTA severa",
         "marker": {
          "color": "#FECB52",
          "pattern": {
           "shape": ""
          }
         },
         "name": "HTA severa",
         "offsetgroup": "HTA severa",
         "orientation": "h",
         "showlegend": true,
         "textposition": "auto",
         "type": "bar",
         "x": [
          1
         ],
         "xaxis": "x",
         "y": [
          "DT4H-CV5-Hypertension ( Hypertensive disorder, systemic arterial )"
         ],
         "yaxis": "y"
        },
        {
         "alignmentgroup": "True",
         "hovertemplate": "span=HTA<br>Count=%{x}<br>Name=%{y}<extra></extra>",
         "legendgroup": "HTA",
         "marker": {
          "color": "#636efa",
          "pattern": {
           "shape": ""
          }
         },
         "name": "HTA",
         "offsetgroup": "HTA",
         "orientation": "h",
         "showlegend": true,
         "textposition": "auto",
         "type": "bar",
         "x": [
          24
         ],
         "xaxis": "x",
         "y": [
          "DT4H-CV5-Hypertension ( Hypertensive disorder, systemic arterial )"
         ],
         "yaxis": "y"
        }
       ],
       "layout": {
        "barmode": "relative",
        "height": 600,
        "legend": {
         "title": {
          "text": "span"
         },
         "tracegroupgap": 0
        },
        "showlegend": false,
        "template": {
         "data": {
          "bar": [
           {
            "error_x": {
             "color": "#2a3f5f"
            },
            "error_y": {
             "color": "#2a3f5f"
            },
            "marker": {
             "line": {
              "color": "#E5ECF6",
              "width": 0.5
             },
             "pattern": {
              "fillmode": "overlay",
              "size": 10,
              "solidity": 0.2
             }
            },
            "type": "bar"
           }
          ],
          "barpolar": [
           {
            "marker": {
             "line": {
              "color": "#E5ECF6",
              "width": 0.5
             },
             "pattern": {
              "fillmode": "overlay",
              "size": 10,
              "solidity": 0.2
             }
            },
            "type": "barpolar"
           }
          ],
          "carpet": [
           {
            "aaxis": {
             "endlinecolor": "#2a3f5f",
             "gridcolor": "white",
             "linecolor": "white",
             "minorgridcolor": "white",
             "startlinecolor": "#2a3f5f"
            },
            "baxis": {
             "endlinecolor": "#2a3f5f",
             "gridcolor": "white",
             "linecolor": "white",
             "minorgridcolor": "white",
             "startlinecolor": "#2a3f5f"
            },
            "type": "carpet"
           }
          ],
          "choropleth": [
           {
            "colorbar": {
             "outlinewidth": 0,
             "ticks": ""
            },
            "type": "choropleth"
           }
          ],
          "contour": [
           {
            "colorbar": {
             "outlinewidth": 0,
             "ticks": ""
            },
            "colorscale": [
             [
              0,
              "#0d0887"
             ],
             [
              0.1111111111111111,
              "#46039f"
             ],
             [
              0.2222222222222222,
              "#7201a8"
             ],
             [
              0.3333333333333333,
              "#9c179e"
             ],
             [
              0.4444444444444444,
              "#bd3786"
             ],
             [
              0.5555555555555556,
              "#d8576b"
             ],
             [
              0.6666666666666666,
              "#ed7953"
             ],
             [
              0.7777777777777778,
              "#fb9f3a"
             ],
             [
              0.8888888888888888,
              "#fdca26"
             ],
             [
              1,
              "#f0f921"
             ]
            ],
            "type": "contour"
           }
          ],
          "contourcarpet": [
           {
            "colorbar": {
             "outlinewidth": 0,
             "ticks": ""
            },
            "type": "contourcarpet"
           }
          ],
          "heatmap": [
           {
            "colorbar": {
             "outlinewidth": 0,
             "ticks": ""
            },
            "colorscale": [
             [
              0,
              "#0d0887"
             ],
             [
              0.1111111111111111,
              "#46039f"
             ],
             [
              0.2222222222222222,
              "#7201a8"
             ],
             [
              0.3333333333333333,
              "#9c179e"
             ],
             [
              0.4444444444444444,
              "#bd3786"
             ],
             [
              0.5555555555555556,
              "#d8576b"
             ],
             [
              0.6666666666666666,
              "#ed7953"
             ],
             [
              0.7777777777777778,
              "#fb9f3a"
             ],
             [
              0.8888888888888888,
              "#fdca26"
             ],
             [
              1,
              "#f0f921"
             ]
            ],
            "type": "heatmap"
           }
          ],
          "heatmapgl": [
           {
            "colorbar": {
             "outlinewidth": 0,
             "ticks": ""
            },
            "colorscale": [
             [
              0,
              "#0d0887"
             ],
             [
              0.1111111111111111,
              "#46039f"
             ],
             [
              0.2222222222222222,
              "#7201a8"
             ],
             [
              0.3333333333333333,
              "#9c179e"
             ],
             [
              0.4444444444444444,
              "#bd3786"
             ],
             [
              0.5555555555555556,
              "#d8576b"
             ],
             [
              0.6666666666666666,
              "#ed7953"
             ],
             [
              0.7777777777777778,
              "#fb9f3a"
             ],
             [
              0.8888888888888888,
              "#fdca26"
             ],
             [
              1,
              "#f0f921"
             ]
            ],
            "type": "heatmapgl"
           }
          ],
          "histogram": [
           {
            "marker": {
             "pattern": {
              "fillmode": "overlay",
              "size": 10,
              "solidity": 0.2
             }
            },
            "type": "histogram"
           }
          ],
          "histogram2d": [
           {
            "colorbar": {
             "outlinewidth": 0,
             "ticks": ""
            },
            "colorscale": [
             [
              0,
              "#0d0887"
             ],
             [
              0.1111111111111111,
              "#46039f"
             ],
             [
              0.2222222222222222,
              "#7201a8"
             ],
             [
              0.3333333333333333,
              "#9c179e"
             ],
             [
              0.4444444444444444,
              "#bd3786"
             ],
             [
              0.5555555555555556,
              "#d8576b"
             ],
             [
              0.6666666666666666,
              "#ed7953"
             ],
             [
              0.7777777777777778,
              "#fb9f3a"
             ],
             [
              0.8888888888888888,
              "#fdca26"
             ],
             [
              1,
              "#f0f921"
             ]
            ],
            "type": "histogram2d"
           }
          ],
          "histogram2dcontour": [
           {
            "colorbar": {
             "outlinewidth": 0,
             "ticks": ""
            },
            "colorscale": [
             [
              0,
              "#0d0887"
             ],
             [
              0.1111111111111111,
              "#46039f"
             ],
             [
              0.2222222222222222,
              "#7201a8"
             ],
             [
              0.3333333333333333,
              "#9c179e"
             ],
             [
              0.4444444444444444,
              "#bd3786"
             ],
             [
              0.5555555555555556,
              "#d8576b"
             ],
             [
              0.6666666666666666,
              "#ed7953"
             ],
             [
              0.7777777777777778,
              "#fb9f3a"
             ],
             [
              0.8888888888888888,
              "#fdca26"
             ],
             [
              1,
              "#f0f921"
             ]
            ],
            "type": "histogram2dcontour"
           }
          ],
          "mesh3d": [
           {
            "colorbar": {
             "outlinewidth": 0,
             "ticks": ""
            },
            "type": "mesh3d"
           }
          ],
          "parcoords": [
           {
            "line": {
             "colorbar": {
              "outlinewidth": 0,
              "ticks": ""
             }
            },
            "type": "parcoords"
           }
          ],
          "pie": [
           {
            "automargin": true,
            "type": "pie"
           }
          ],
          "scatter": [
           {
            "fillpattern": {
             "fillmode": "overlay",
             "size": 10,
             "solidity": 0.2
            },
            "type": "scatter"
           }
          ],
          "scatter3d": [
           {
            "line": {
             "colorbar": {
              "outlinewidth": 0,
              "ticks": ""
             }
            },
            "marker": {
             "colorbar": {
              "outlinewidth": 0,
              "ticks": ""
             }
            },
            "type": "scatter3d"
           }
          ],
          "scattercarpet": [
           {
            "marker": {
             "colorbar": {
              "outlinewidth": 0,
              "ticks": ""
             }
            },
            "type": "scattercarpet"
           }
          ],
          "scattergeo": [
           {
            "marker": {
             "colorbar": {
              "outlinewidth": 0,
              "ticks": ""
             }
            },
            "type": "scattergeo"
           }
          ],
          "scattergl": [
           {
            "marker": {
             "colorbar": {
              "outlinewidth": 0,
              "ticks": ""
             }
            },
            "type": "scattergl"
           }
          ],
          "scattermapbox": [
           {
            "marker": {
             "colorbar": {
              "outlinewidth": 0,
              "ticks": ""
             }
            },
            "type": "scattermapbox"
           }
          ],
          "scatterpolar": [
           {
            "marker": {
             "colorbar": {
              "outlinewidth": 0,
              "ticks": ""
             }
            },
            "type": "scatterpolar"
           }
          ],
          "scatterpolargl": [
           {
            "marker": {
             "colorbar": {
              "outlinewidth": 0,
              "ticks": ""
             }
            },
            "type": "scatterpolargl"
           }
          ],
          "scatterternary": [
           {
            "marker": {
             "colorbar": {
              "outlinewidth": 0,
              "ticks": ""
             }
            },
            "type": "scatterternary"
           }
          ],
          "surface": [
           {
            "colorbar": {
             "outlinewidth": 0,
             "ticks": ""
            },
            "colorscale": [
             [
              0,
              "#0d0887"
             ],
             [
              0.1111111111111111,
              "#46039f"
             ],
             [
              0.2222222222222222,
              "#7201a8"
             ],
             [
              0.3333333333333333,
              "#9c179e"
             ],
             [
              0.4444444444444444,
              "#bd3786"
             ],
             [
              0.5555555555555556,
              "#d8576b"
             ],
             [
              0.6666666666666666,
              "#ed7953"
             ],
             [
              0.7777777777777778,
              "#fb9f3a"
             ],
             [
              0.8888888888888888,
              "#fdca26"
             ],
             [
              1,
              "#f0f921"
             ]
            ],
            "type": "surface"
           }
          ],
          "table": [
           {
            "cells": {
             "fill": {
              "color": "#EBF0F8"
             },
             "line": {
              "color": "white"
             }
            },
            "header": {
             "fill": {
              "color": "#C8D4E3"
             },
             "line": {
              "color": "white"
             }
            },
            "type": "table"
           }
          ]
         },
         "layout": {
          "annotationdefaults": {
           "arrowcolor": "#2a3f5f",
           "arrowhead": 0,
           "arrowwidth": 1
          },
          "autotypenumbers": "strict",
          "coloraxis": {
           "colorbar": {
            "outlinewidth": 0,
            "ticks": ""
           }
          },
          "colorscale": {
           "diverging": [
            [
             0,
             "#8e0152"
            ],
            [
             0.1,
             "#c51b7d"
            ],
            [
             0.2,
             "#de77ae"
            ],
            [
             0.3,
             "#f1b6da"
            ],
            [
             0.4,
             "#fde0ef"
            ],
            [
             0.5,
             "#f7f7f7"
            ],
            [
             0.6,
             "#e6f5d0"
            ],
            [
             0.7,
             "#b8e186"
            ],
            [
             0.8,
             "#7fbc41"
            ],
            [
             0.9,
             "#4d9221"
            ],
            [
             1,
             "#276419"
            ]
           ],
           "sequential": [
            [
             0,
             "#0d0887"
            ],
            [
             0.1111111111111111,
             "#46039f"
            ],
            [
             0.2222222222222222,
             "#7201a8"
            ],
            [
             0.3333333333333333,
             "#9c179e"
            ],
            [
             0.4444444444444444,
             "#bd3786"
            ],
            [
             0.5555555555555556,
             "#d8576b"
            ],
            [
             0.6666666666666666,
             "#ed7953"
            ],
            [
             0.7777777777777778,
             "#fb9f3a"
            ],
            [
             0.8888888888888888,
             "#fdca26"
            ],
            [
             1,
             "#f0f921"
            ]
           ],
           "sequentialminus": [
            [
             0,
             "#0d0887"
            ],
            [
             0.1111111111111111,
             "#46039f"
            ],
            [
             0.2222222222222222,
             "#7201a8"
            ],
            [
             0.3333333333333333,
             "#9c179e"
            ],
            [
             0.4444444444444444,
             "#bd3786"
            ],
            [
             0.5555555555555556,
             "#d8576b"
            ],
            [
             0.6666666666666666,
             "#ed7953"
            ],
            [
             0.7777777777777778,
             "#fb9f3a"
            ],
            [
             0.8888888888888888,
             "#fdca26"
            ],
            [
             1,
             "#f0f921"
            ]
           ]
          },
          "colorway": [
           "#636efa",
           "#EF553B",
           "#00cc96",
           "#ab63fa",
           "#FFA15A",
           "#19d3f3",
           "#FF6692",
           "#B6E880",
           "#FF97FF",
           "#FECB52"
          ],
          "font": {
           "color": "#2a3f5f"
          },
          "geo": {
           "bgcolor": "white",
           "lakecolor": "white",
           "landcolor": "#E5ECF6",
           "showlakes": true,
           "showland": true,
           "subunitcolor": "white"
          },
          "hoverlabel": {
           "align": "left"
          },
          "hovermode": "closest",
          "mapbox": {
           "style": "light"
          },
          "paper_bgcolor": "white",
          "plot_bgcolor": "#E5ECF6",
          "polar": {
           "angularaxis": {
            "gridcolor": "white",
            "linecolor": "white",
            "ticks": ""
           },
           "bgcolor": "#E5ECF6",
           "radialaxis": {
            "gridcolor": "white",
            "linecolor": "white",
            "ticks": ""
           }
          },
          "scene": {
           "xaxis": {
            "backgroundcolor": "#E5ECF6",
            "gridcolor": "white",
            "gridwidth": 2,
            "linecolor": "white",
            "showbackground": true,
            "ticks": "",
            "zerolinecolor": "white"
           },
           "yaxis": {
            "backgroundcolor": "#E5ECF6",
            "gridcolor": "white",
            "gridwidth": 2,
            "linecolor": "white",
            "showbackground": true,
            "ticks": "",
            "zerolinecolor": "white"
           },
           "zaxis": {
            "backgroundcolor": "#E5ECF6",
            "gridcolor": "white",
            "gridwidth": 2,
            "linecolor": "white",
            "showbackground": true,
            "ticks": "",
            "zerolinecolor": "white"
           }
          },
          "shapedefaults": {
           "line": {
            "color": "#2a3f5f"
           }
          },
          "ternary": {
           "aaxis": {
            "gridcolor": "white",
            "linecolor": "white",
            "ticks": ""
           },
           "baxis": {
            "gridcolor": "white",
            "linecolor": "white",
            "ticks": ""
           },
           "bgcolor": "#E5ECF6",
           "caxis": {
            "gridcolor": "white",
            "linecolor": "white",
            "ticks": ""
           }
          },
          "title": {
           "x": 0.05
          },
          "xaxis": {
           "automargin": true,
           "gridcolor": "white",
           "linecolor": "white",
           "ticks": "",
           "title": {
            "standoff": 15
           },
           "zerolinecolor": "white",
           "zerolinewidth": 2
          },
          "yaxis": {
           "automargin": true,
           "gridcolor": "white",
           "linecolor": "white",
           "ticks": "",
           "title": {
            "standoff": 15
           },
           "zerolinecolor": "white",
           "zerolinewidth": 2
          }
         }
        },
        "title": {
         "text": "Codes Distribution [Variable Name (SNOMED term)] <Zoom 25 out of 30 terms; zoom out to see all>"
        },
        "xaxis": {
         "anchor": "y",
         "domain": [
          0,
          1
         ],
         "title": {
          "text": "Count"
         }
        },
        "yaxis": {
         "anchor": "x",
         "domain": [
          0,
          1
         ],
         "dtick": 1,
         "range": [
          5,
          30
         ],
         "tickmode": "linear",
         "title": {
          "text": "Name"
         }
        }
       }
      }
     },
     "metadata": {},
     "output_type": "display_data"
    }
   ],
   "source": [
    "def plot_code_distribution(df):\n",
    "    import plotly.express as px\n",
    "    from plotly.subplots import make_subplots\n",
    "\n",
    "    #### Variables ####\n",
    "    color_sequence = [ '#1EE132', '#9E8C88']\n",
    "\n",
    "    #### Data Preparation for Visualization ####\n",
    "    # Filter the dataframe to exclude rows where 'span' is \"NOT_FOUND\"\n",
    "    df = df.copy()\n",
    "    # Create a new column with the ID, name, and term concatenated for better visualization\n",
    "    df[\"ID+term\"] = df[\"ID\"] + \"-\" + df[\"name\"] + \" (\" + df[\"term\"] + \")\"\n",
    "\n",
    "    # Dataframe to plot the distribution of found variables by semantic tag\n",
    "    df_sem_tag = df.drop_duplicates(subset=[\"ID\", \"semantic_tag\", \"found\"]).copy()\n",
    "    df_sem_tag[\"found\"] = df_sem_tag[\"found\"].replace({True: \"Found\", False: \"Not Found\"})        # Avoid True/False in the plot\n",
    "    df_sem_tag = df_sem_tag.groupby([\"semantic_tag\", \"found\"]).size().reset_index(name=\"count\")   # Count the occurrences by semantic tag and found/not found\n",
    "\n",
    "    # Calculate the total counts by semantic tag to compute percentages and merge the dataframes\n",
    "    total_counts = df_sem_tag.groupby(\"semantic_tag\").aggregate({\"count\":\"sum\"})\\\n",
    "                                .reset_index()\\\n",
    "                                .rename(columns={\"count\":\"total\"})\n",
    "    df_sem_tag = df_sem_tag.merge(total_counts, on=\"semantic_tag\")\n",
    "    df_sem_tag[\"percentage\"] = df_sem_tag[\"count\"] / df_sem_tag[\"total\"]                          # Calculate the percentage of found/not found by semantic tag\n",
    "    df_sem_tag = df_sem_tag.sort_values(by=[\"found\", \"total\"], ascending=[True, False])           # Sort the dataframe to display the highest counts first\n",
    "\n",
    "    # Dataframe to plot the statistics of the found variables\n",
    "    df_found = df.loc[(df[\"span\"] != \"NOT_FOUND\"), :].copy()\n",
    "    df_n_founds = df[[\"ID\", \"found\"]].drop_duplicates()\n",
    "    df_n_founds[\"found\"] = df_n_founds[\"found\"].replace({True: \"Found\", False: \"Not Found\"})\n",
    "\n",
    "    # Dataframe to plot the distribution of semantic relationships\n",
    "    ls_semantic_rel = df[\"semantic_rel\"].unique().tolist()                                        # Get the unique semantic relationships and semantic tags\n",
    "    sel_cols = [\"ID+term\"] + ls_semantic_rel + [\"count_ID\"]\n",
    "    df_count_rel = df_found[sel_cols].melt(id_vars=[\"ID+term\", \"count_ID\"], var_name=\"semantic_rel\", value_name=\"count\")\\\n",
    "                                     .drop_duplicates()\n",
    "\n",
    "    #### Visualization ####\n",
    "    # 1. Create a bar chart for the distribution of found variables by semantic tag\n",
    "    fig_top = px.bar(df_sem_tag,\n",
    "                        y='semantic_tag', x='count', color='found',\n",
    "                        color_discrete_sequence=color_sequence,\n",
    "                        orientation='h',\n",
    "                        barmode='stack',  # Add this line to stack the bars\n",
    "                        title='Coverage by Semantic Tag',\n",
    "                        labels={'count': 'Count', 'semantic_tag': 'Semantic Tag', 'percentage': 'Percentage'},\n",
    "                        title=\"Coverage by Semantic Tag\",\n",
    "                        text=(df_sem_tag[\"percentage\"] * 100).round(2).astype(str) + \"%\")  # Display percentages with %\n",
    "\n",
    "    # Reverse the order of the y-axis to display the highest counts at the top\n",
    "    fig_top.update_layout(yaxis=dict(autorange=\"reversed\"))\n",
    "    fig_top.show()\n",
    "\n",
    "    # 2. Create pie charts for the distribution of found variables, semantic tags, and semantic relationships\n",
    "    # Create the pie charts\n",
    "    fig01 = px.pie(df_n_founds, names='found', title='Found Variables')\n",
    "    fig01.update_traces(textinfo='label+percent+value')\n",
    "\n",
    "    fig02 = px.pie(df_found.drop_duplicates(subset=[\"ID\"]), names='semantic_tag', title='Semantic Tag Distribution')\n",
    "    fig02.update_traces(textinfo='label+percent+value')\n",
    "\n",
    "    fig03 = px.pie(df_found, names='semantic_rel', title='Semantic Relationship Distribution')\n",
    "    fig03.update_traces(textinfo='label+percent+value')\n",
    "\n",
    "    # Create a subplot layout with 1 row and 2 columns\n",
    "    fig = make_subplots(rows=1, cols=3, subplot_titles=(\"Found Variables\", \"Semantic Tag Distribution\", \"Semantic Relationship Distribution (Total Mentions)\"),\n",
    "                            specs=[[{\"type\": \"pie\"}, {\"type\":\"pie\"}, {\"type\":\"pie\"}]])\n",
    "\n",
    "    # Add the pie charts to the subplots\n",
    "    fig.add_trace(fig01.data[0], row=1, col=1)\n",
    "    fig.add_trace(fig02.data[0], row=1, col=2)\n",
    "    fig.add_trace(fig03.data[0], row=1, col=3)\n",
    "\n",
    "    # Update the layout to adjust the title and other settings\n",
    "    fig.update_layout(title_text=\"Distribution of Semantic Relationships and Found Codes\", showlegend=False,\n",
    "                      height=600)\n",
    "\n",
    "    # Display the combined figure\n",
    "    fig.show()\n",
    "\n",
    "    # Assuming df_aggregated is correctly aggregated data\n",
    "    n_terms = df_found[\"ID+term\"].nunique()\n",
    "    n_show = 25\n",
    "\n",
    "    # 3. Create a bar chart for all the found codes by semantic relationship\n",
    "    fig1 = px.bar(df_count_rel.sort_values(by=\"count_ID\", ascending=True),\n",
    "                y='ID+term', x='count', color='semantic_rel', \n",
    "                title=f'Codes by Semantic Relationship [Variable Name (SNOMED term)] <Zoom {n_show} out of {n_terms} terms; zoom out to see all>',\n",
    "                labels={'count': 'Count', 'ID+term': 'Name'},\n",
    "                orientation='h')\n",
    "    \n",
    "    fig1.update_layout(\n",
    "                           height=600,\n",
    "                            yaxis=dict(\n",
    "                                        range=[n_terms - n_show, n_terms],\n",
    "                                        tickmode='linear',\n",
    "                                        dtick=1,\n",
    "                                    )\n",
    "                                    )\n",
    "    fig1.show()\n",
    "\n",
    "    # 4. Create a bar chart for all the found codes by count\n",
    "    fig2 = px.bar(df_found.sort_values(by=\"count_ID\", ascending=True),\n",
    "                y='ID+term', x='count', color='span', title=f'Codes Distribution [Variable Name (SNOMED term)] <Zoom {n_show} out of {n_terms} terms; zoom out to see all>',\n",
    "                labels={'count': 'Count', 'ID+term': 'Name'},\n",
    "                orientation='h')\n",
    "    \n",
    "    fig2.update_layout(showlegend=False, \n",
    "                           height=600,\n",
    "                            yaxis=dict(\n",
    "                                        range=[n_terms - n_show, n_terms],\n",
    "                                        tickmode='linear',\n",
    "                                        dtick=1,\n",
    "                                    )\n",
    "                                    )\n",
    "    fig2.show()\n",
    "\n",
    "\n",
    "plot_code_distribution(df_code_ovr)"
   ]
  }
 ],
 "metadata": {
  "kernelspec": {
   "display_name": ".venv",
   "language": "python",
   "name": "python3"
  },
  "language_info": {
   "codemirror_mode": {
    "name": "ipython",
    "version": 3
   },
   "file_extension": ".py",
   "mimetype": "text/x-python",
   "name": "python",
   "nbconvert_exporter": "python",
   "pygments_lexer": "ipython3",
   "version": "3.10.12"
  }
 },
 "nbformat": 4,
 "nbformat_minor": 2
}
