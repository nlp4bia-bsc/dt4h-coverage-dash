{
 "cells": [
  {
   "cell_type": "markdown",
   "metadata": {},
   "source": [
    "# Data Characterisation: Pharmaconer"
   ]
  },
  {
   "cell_type": "code",
   "execution_count": 9,
   "metadata": {},
   "outputs": [
    {
     "name": "stdout",
     "output_type": "stream",
     "text": [
      "|    | filename                  | label   |   off0 |   off1 | span      |      code | semantic_rel   |\n",
      "|---:|:--------------------------|:--------|-------:|-------:|:----------|----------:|:---------------|\n",
      "|  0 | S0211-69952009000500017-1 | FARMACO |    576 |    580 | Ig M      |  74889000 | EXACT          |\n",
      "|  1 | S0211-69952009000500017-1 | FARMACO |   1551 |   1560 | enalapril | 372658000 | EXACT          |\n",
      "|  2 | S0211-69952009000500017-1 | FARMACO |    198 |    207 | enalapril | 372658000 | EXACT          |\n",
      "|  3 | S0211-69952009000500017-1 | FARMACO |   1518 |   1522 | urea      | 387092000 | EXACT          |\n",
      "|  4 | S0211-69952009000500017-1 | FARMACO |    115 |    119 | urea      | 387092000 | EXACT          |\n",
      "(7267, 7)\n",
      "|    | ID        | name       |       code | semantic_tag      | term          |\n",
      "|---:|:----------|:-----------|-----------:|:------------------|:--------------|\n",
      "|  0 | DT4HDem-3 | Sex female |  248152002 | finding           | Female        |\n",
      "|  1 | DT4HDem-4 | Sex male   |  248153007 | finding           | Male          |\n",
      "|  2 | DT4HDem-6 | YOB        |  184099003 | observable entity | Date of birth |\n",
      "|  3 | DT4HDem-7 | Height     | 1153637007 | observable entity | Body height   |\n",
      "|  4 | DT4HDem-8 | Weight     |   27113001 | observable entity | Body weight   |\n",
      "(669, 5)\n"
     ]
    }
   ],
   "source": [
    "import pandas as pd\n",
    "import matplotlib.pyplot as plt\n",
    "import seaborn as sns\n",
    "\n",
    "DATA = 'data/processed/pharmaconer.tsv'\n",
    "DATA_VAR = 'data/variables/processed/variables.tsv'\n",
    "df_pharmaconer = pd.read_csv(DATA, sep='\\t', dtype={'code': str})\n",
    "df_variables = pd.read_csv(DATA_VAR, sep='\\t', dtype={'code': str})\n",
    "# df_variables['term'] = df_variables['term'].str.lower()\n",
    "# df_variables = df_variables[df_variables['semantic_tag']==\"disorder\"]\n",
    "\n",
    "print(df_pharmaconer.head().to_markdown())\n",
    "print(df_pharmaconer.shape)\n",
    "print(df_variables.head().to_markdown())\n",
    "print(df_variables.shape)"
   ]
  },
  {
   "cell_type": "code",
   "execution_count": 10,
   "metadata": {},
   "outputs": [
    {
     "name": "stdout",
     "output_type": "stream",
     "text": [
      "|     | ID             | name                                                                                |           code | semantic_tag      | term                                                                                                                              |\n",
      "|----:|:---------------|:------------------------------------------------------------------------------------|---------------:|:------------------|:----------------------------------------------------------------------------------------------------------------------------------|\n",
      "|  62 | DT4H-Lab10     | TropThs                                                                             |      102682001 | substance         | Troponin T                                                                                                                        |\n",
      "|  63 | DT4H-Lab11     | TropTnhs                                                                            |      102682001 | substance         | Troponin T                                                                                                                        |\n",
      "|  60 | DT4H-Lab8      | TropIhs                                                                             |      102683006 | substance         | Troponin I                                                                                                                        |\n",
      "|  61 | DT4H-Lab9      | TropInhs                                                                            |      102683006 | substance         | Troponin I                                                                                                                        |\n",
      "| 299 | DT4H-MedD187   | Torasemide                                                                          |      108476002 | substance         | Torasemide                                                                                                                        |\n",
      "| 347 | DT4H-MedL105   | Torasemide                                                                          |      108476002 | substance         | Torasemide                                                                                                                        |\n",
      "| 224 | DT4H-MedA144   | Moexipril hydrochloride                                                             |      108567007 | substance         | Moexipril hydrochloride                                                                                                           |\n",
      "| 185 | DT4H-MedR164   | Moexipril hydrochloride                                                             |      108567007 | substance         | Moexipril hydrochloride                                                                                                           |\n",
      "| 223 | DT4H-MedA143   | Fosinopril sodium                                                                   |      108570006 | substance         | Fosinopril sodium                                                                                                                 |\n",
      "| 184 | DT4H-MedR163   | Fosinopril sodium                                                                   |      108570006 | substance         | Fosinopril sodium                                                                                                                 |\n",
      "| 222 | DT4H-MedA142   | Benazepril hydrochloride                                                            |      108573008 | substance         | Benazepril hydrochloride                                                                                                          |\n",
      "| 183 | DT4H-MedR162   | Benazepril hydrochloride                                                            |      108573008 | substance         | Benazepril hydrochloride                                                                                                          |\n",
      "| 243 | DT4H-MedAR127  | Losartan potassium                                                                  |      108582002 | substance         | Losartan potassium                                                                                                                |\n",
      "| 150 | DT4H-MedR127   | Losartan potassium                                                                  |      108582002 | substance         | Losartan potassium                                                                                                                |\n",
      "| 195 | DT4H-MedA115   | Enalapril sodium                                                                    |     1119307002 | substance         | Enalapril sodium                                                                                                                  |\n",
      "| 156 | DT4H-MedR135   | Enalapril sodium                                                                    |     1119307002 | substance         | Enalapril sodium                                                                                                                  |\n",
      "| 155 | DT4H-MedR134   | Perindopril erbumine monohydrate                                                    |     1119308007 | substance         | Perindopril erbumine monohydrate                                                                                                  |\n",
      "| 194 | DT4H-MedA114   | Perindopril erbumine monohydrate                                                    |     1119308007 | substance         | Perindopril erbumine monohydrate                                                                                                  |\n",
      "| 306 | DT4H-MedD194   | Trichlormethiazide                                                                  |       11473005 | substance         | Trichlormethiazide                                                                                                                |\n",
      "| 334 | DT4H-MedD233   | Trichlormethiazide                                                                  |       11473005 | substance         | Trichlormethiazide                                                                                                                |\n",
      "| 437 | DT4H-MedP141   | substance with glycoprotein-IIb/IIIa receptor antagonist mechanism of action        |     1162907009 | substance         | substance with glycoprotein-IIb/IIIa receptor antagonist mechanism of action                                                      |\n",
      "| 417 | DT4H-MedP11    | Substance with glycoprotein-IIb/IIIa receptor antagonist mechanism of action        |     1162907009 | substance         | Substance with glycoprotein-IIb/IIIa receptor antagonist mechanism of action                                                      |\n",
      "| 279 | DT4H-MedD152   | Finerenone                                                                          |     1163346008 | substance         | Finerenone                                                                                                                        |\n",
      "| 246 | DT4H-MedM111   | Finerenone                                                                          |     1163346008 | substance         | Finerenone                                                                                                                        |\n",
      "| 626 | DT4H-MedRHY113 | Amiloride hydrochloride anhydrous                                                   |     1268944002 | substance         | Amiloride hydrochloride anhydrous                                                                                                 |\n",
      "| 278 | DT4H-MedD151   | Amiloride hydrochloride anhydrous                                                   |     1268944002 | substance         | Amiloride hydrochloride anhydrous                                                                                                 |\n",
      "| 154 | DT4H-MedR133   | Cilazapril anhydrous                                                                |     1268982005 | substance         | Cilazapril anhydrous                                                                                                              |\n",
      "| 193 | DT4H-MedA113   | Cilazapril anhydrous                                                                |     1268982005 | substance         | Cilazapril anhydrous                                                                                                              |\n",
      "| 153 | DT4H-MedR132   | Lisinopril anhydrous                                                                |     1269132005 | substance         | Lisinopril anhydrous                                                                                                              |\n",
      "| 192 | DT4H-MedA112   | Lisinopril anhydrous                                                                |     1269132005 | substance         | Lisinopril anhydrous                                                                                                              |\n",
      "| 182 | DT4H-MedR161   | Perindopril erbumine                                                                |      129485000 | substance         | Perindopril erbumine                                                                                                              |\n",
      "| 221 | DT4H-MedA141   | Perindopril erbumine                                                                |      129485000 | substance         | Perindopril erbumine                                                                                                              |\n",
      "| 242 | DT4H-MedAR126  | Eprosartan mesilate                                                                 |      129488003 | substance         | Eprosartan mesilate                                                                                                               |\n",
      "| 149 | DT4H-MedR126   | Eprosartan mesilate                                                                 |      129488003 | substance         | Eprosartan mesilate                                                                                                               |\n",
      "| 135 | DT4H-MedR112   | Fimasartan                                                                          |     1332433003 | substance         | Fimasartan                                                                                                                        |\n",
      "| 228 | DT4H-MedAR112  | Fimasartan                                                                          |     1332433003 | substance         | Fimasartan                                                                                                                        |\n",
      "| 227 | DT4H-MedAR111  | Fimasartan potassium trihydrate                                                     |     1332434009 | substance         | Fimasartan potassium trihydrate                                                                                                   |\n",
      "| 134 | DT4H-MedR111   | Fimasartan potassium trihydrate                                                     |     1332434009 | substance         | Fimasartan potassium trihydrate                                                                                                   |\n",
      "| 322 | DT4H-MedD221   | Butizide                                                                            | 20551000122108 | substance         | Butizide                                                                                                                          |\n",
      "| 293 | DT4H-MedD181   | Butizide                                                                            | 20551000122108 | substance         | Butizide                                                                                                                          |\n",
      "|  49 | DT4H-US2       | BSA                                                                                 |      301898006 | observable entity | Body surface area                                                                                                                 |\n",
      "|  50 | DT4H-US5       | LVEDV                                                                               |      301898006 | observable entity | Left ventricular end-diastolic cavity size                                                                                        |\n",
      "| 191 | DT4H-MedA111   | Lisinopril dihydrate                                                                |   341000220102 | substance         | Lisinopril dihydrate                                                                                                              |\n",
      "| 152 | DT4H-MedR131   | Lisinopril dihydrate                                                                |   341000220102 | substance         | Lisinopril dihydrate                                                                                                              |\n",
      "| 305 | DT4H-MedD193   | Cyclothiazide                                                                       |       37006008 | substance         | Cyclothiazide                                                                                                                     |\n",
      "| 333 | DT4H-MedD232   | Cyclothiazide                                                                       |       37006008 | substance         | Cyclothiazide                                                                                                                     |\n",
      "| 181 | DT4H-MedR160   | Fosinopril                                                                          |      372510000 | substance         | Fosinopril                                                                                                                        |\n",
      "| 220 | DT4H-MedA140   | Fosinopril                                                                          |      372510000 | substance         | Fosinopril                                                                                                                        |\n",
      "| 180 | DT4H-MedR159   | Benazepril                                                                          |      372511001 | substance         | Benazepril                                                                                                                        |\n",
      "| 219 | DT4H-MedA139   | Benazepril                                                                          |      372511001 | substance         | Benazepril                                                                                                                        |\n",
      "| 241 | DT4H-MedAR125  | Candesartan                                                                         |      372512008 | substance         | Candesartan                                                                                                                       |\n",
      "| 148 | DT4H-MedR125   | Candesartan                                                                         |      372512008 | substance         | Candesartan                                                                                                                       |\n",
      "| 114 | DT4H-MedM1     | Mineralcorticoid Receptor Antagonist (MRA)                                          |      372603003 | substance         | Substance with aldosterone receptor antagonist mechanism of action                                                                |\n",
      "| 245 | DT4H-MedM1     | MINERALCORTICOID RECEPTOR ANTAGONIST (MRA)                                          |      372603003 | substance         | MINERALCORTICOID RECEPTOR ANTAGONIST (MRA)                                                                                        |\n",
      "| 287 | DT4H-MedD160   | Aldosterone receptor antagonist                                                     |      372603003 | substance         | Aldosterone receptor antagonist                                                                                                   |\n",
      "| 179 | DT4H-MedR158   | Enalapril                                                                           |      372658000 | substance         | Enalapril                                                                                                                         |\n",
      "| 218 | DT4H-MedA138   | Enalapril                                                                           |      372658000 | substance         | Enalapril                                                                                                                         |\n",
      "| 592 | DT4H-MedBB130  | Beta-1 adrenergic receptor antagonist                                               |      372661004 | substance         | Beta-1 adrenergic receptor antagonist                                                                                             |\n",
      "| 601 | DT4H-MedBB15   | Substance with beta-1 adrenergic receptor antagonist mechanism of action            |      372661004 | substance         | Substance with beta-1 adrenergic receptor antagonist mechanism of action                                                          |\n",
      "| 116 | DT4H-MedL1     | Loop diuretics                                                                      |      372691009 | substance         | Loop diuretic                                                                                                                     |\n",
      "| 342 | DT4H-MedL1     | LOOP DIURETIC                                                                       |      372691009 | substance         | LOOP DIURETIC                                                                                                                     |\n",
      "| 115 | DT4H-MedD1     | Diuretics                                                                           |      372695000 | substance         | Diuretic                                                                                                                          |\n",
      "| 251 | DT4H-MedD1     | DIURETICS                                                                           |      372695000 | substance         | DIURETICS                                                                                                                         |\n",
      "| 190 | DT4H-MedA1     | ACE-INHIBITORS                                                                      |      372733002 | substance         | ACE-INHIBITORS                                                                                                                    |\n",
      "| 111 | DT4H-MedA1     | ACE-inhibitors                                                                      |      372733002 | substance         | Substance with angiotensin-converting enzyme inhibitor mechanism of action                                                        |\n",
      "| 151 | DT4H-MedR13    | Substance with angiotensin-converting                                               |      372733002 | substance         | Substance with angiotensin-converting                                                                                             |\n",
      "|     |                | enzyme inhibitor mechanism of action                                                |                |                   | enzyme inhibitor mechanism of action                                                                                              |\n",
      "| 331 | DT4H-MedD230   | Chlorothiazide                                                                      |      372782002 | substance         | Chlorothiazide                                                                                                                    |\n",
      "| 298 | DT4H-MedD186   | Chlorothiazide                                                                      |      372782002 | substance         | Chlorothiazide                                                                                                                    |\n",
      "| 120 | DT4H-MedCO1    | Anticoagulants                                                                      |      372862008 | substance         | Anticoagulant                                                                                                                     |\n",
      "| 461 | DT4H-MedCO1    | ANTICOAGULANTS                                                                      |      372862008 | substance         | ANTICOAGULANTS                                                                                                                    |\n",
      "| 121 | DT4H-MedS1     | Statins                                                                             |      372912004 | substance         | Substance with 3-hydroxy-3-methylglutaryl-coenzyme A reductase inhibitor mechanism of action                                      |\n",
      "| 544 | DT4H-MedS1     | STATINS                                                                             |      372912004 | substance         | STATINS                                                                                                                           |\n",
      "| 112 | DT4H-MedAR1    | Angiotensin receptor blocker                                                        |      372913009 | substance         | Substance with angiotensin II receptor antagonist mechanism of action                                                             |\n",
      "| 226 | DT4H-MedAR1    | ANGIOTENSIN RECEPTOR BLOCKER                                                        |      372913009 | substance         | ANGIOTENSIN RECEPTOR BLOCKER                                                                                                      |\n",
      "| 133 | DT4H-MedR11    | Substance with angiotensin II receptor antagonist mechanism of action               |      372913009 | substance         | Substance with angiotensin II receptor antagonist mechanism of action                                                             |\n",
      "| 217 | DT4H-MedA137   | Perindopril                                                                         |      372916001 | substance         | Perindopril                                                                                                                       |\n",
      "| 178 | DT4H-MedR157   | Perindopril                                                                         |      372916001 | substance         | Perindopril                                                                                                                       |\n",
      "| 572 | DT4H-MedBB1    | BETABLOCKERS                                                                        |      373254001 | substance         | BETABLOCKERS                                                                                                                      |\n",
      "| 123 | DT4H-MedBB1    | Betablockers                                                                        |      373254001 | substance         | Substance with beta adrenergic receptor antagonist mechanism of action                                                            |\n",
      "| 350 | DT4H-MedC1     | CALCIUM CHANNEL BLOCKER                                                             |      373304005 | substance         | CALCIUM CHANNEL BLOCKER                                                                                                           |\n",
      "| 117 | DT4H-MedC1     | Calcium Channel Blockers                                                            |      373304005 | substance         | Substance with calcium channel blocker mechanism of action                                                                        |\n",
      "| 177 | DT4H-MedR156   | Moexipril                                                                           |      373442003 | substance         | Moexipril                                                                                                                         |\n",
      "| 216 | DT4H-MedA136   | Moexipril                                                                           |      373442003 | substance         | Moexipril                                                                                                                         |\n",
      "| 346 | DT4H-MedL104   | Ethacrynic acid                                                                     |      373536004 | substance         | Ethacrynic acid                                                                                                                   |\n",
      "| 297 | DT4H-MedD185   | Ethacrynic acid                                                                     |      373536004 | substance         | Ethacrynic acid                                                                                                                   |\n",
      "| 147 | DT4H-MedR124   | Losartan                                                                            |      373567002 | substance         | Losartan                                                                                                                          |\n",
      "| 240 | DT4H-MedAR124  | Losartan                                                                            |      373567002 | substance         | Losartan                                                                                                                          |\n",
      "| 176 | DT4H-MedR155   | Trandolapril                                                                        |      386871006 | substance         | Trandolapril                                                                                                                      |\n",
      "| 215 | DT4H-MedA135   | Trandolapril                                                                        |      386871006 | substance         | Trandolapril                                                                                                                      |\n",
      "| 214 | DT4H-MedA134   | Ramipril                                                                            |      386872004 | substance         | Ramipril                                                                                                                          |\n",
      "| 175 | DT4H-MedR154   | Ramipril                                                                            |      386872004 | substance         | Ramipril                                                                                                                          |\n",
      "| 174 | DT4H-MedR153   | Lisinopril                                                                          |      386873009 | substance         | Lisinopril                                                                                                                        |\n",
      "| 213 | DT4H-MedA133   | Lisinopril                                                                          |      386873009 | substance         | Lisinopril                                                                                                                        |\n",
      "| 173 | DT4H-MedR152   | Quinapril                                                                           |      386874003 | substance         | Quinapril                                                                                                                         |\n",
      "| 212 | DT4H-MedA132   | Quinapril                                                                           |      386874003 | substance         | Quinapril                                                                                                                         |\n",
      "| 172 | DT4H-MedR151   | Quinapril hydrochloride                                                             |      386875002 | substance         | Quinapril hydrochloride                                                                                                           |\n",
      "| 211 | DT4H-MedA131   | Quinapril hydrochloride                                                             |      386875002 | substance         | Quinapril hydrochloride                                                                                                           |\n",
      "| 239 | DT4H-MedAR123  | Valsartan                                                                           |      386876001 | substance         | Valsartan                                                                                                                         |\n",
      "| 146 | DT4H-MedR123   | Valsartan                                                                           |      386876001 | substance         | Valsartan                                                                                                                         |\n",
      "| 238 | DT4H-MedAR122  | Irbesartan                                                                          |      386877005 | substance         | Irbesartan                                                                                                                        |\n",
      "| 145 | DT4H-MedR122   | Irbesartan                                                                          |      386877005 | substance         | Irbesartan                                                                                                                        |\n",
      "| 144 | DT4H-MedR121   | Candesartan cilexetil                                                               |      386878000 | substance         | Candesartan cilexetil                                                                                                             |\n",
      "| 237 | DT4H-MedAR121  | Candesartan cilexetil                                                               |      386878000 | substance         | Candesartan cilexetil                                                                                                             |\n",
      "| 638 | DT4H-MedRHY125 | Triamterene                                                                         |      387053007 | substance         | Triamterene                                                                                                                       |\n",
      "| 286 | DT4H-MedD159   | Triamterene                                                                         |      387053007 | substance         | Triamterene                                                                                                                       |\n",
      "| 236 | DT4H-MedAR120  | Telmisartan                                                                         |      387069000 | substance         | Telmisartan                                                                                                                       |\n",
      "| 143 | DT4H-MedR120   | Telmisartan                                                                         |      387069000 | substance         | Telmisartan                                                                                                                       |\n",
      "| 249 | DT4H-MedM114   | Spironolactone                                                                      |      387078006 | substance         | Spironolactone                                                                                                                    |\n",
      "| 285 | DT4H-MedD158   | Spironolactone                                                                      |      387078006 | substance         | Spironolactone                                                                                                                    |\n",
      "| 210 | DT4H-MedA130   | Captopril                                                                           |      387160004 | substance         | Captopril                                                                                                                         |\n",
      "| 171 | DT4H-MedR150   | Captopril                                                                           |      387160004 | substance         | Captopril                                                                                                                         |\n",
      "| 170 | DT4H-MedR149   | Enalapril maleate                                                                   |      387165009 | substance         | Enalapril maleate                                                                                                                 |\n",
      "| 209 | DT4H-MedA129   | Enalapril maleate                                                                   |      387165009 | substance         | Enalapril maleate                                                                                                                 |\n",
      "| 296 | DT4H-MedD184   | Chlortalidone                                                                       |      387324004 | substance         | Chlortalidone                                                                                                                     |\n",
      "| 316 | DT4H-MedD208   | Chlortalidone                                                                       |      387324004 | substance         | Chlortalidone                                                                                                                     |\n",
      "| 345 | DT4H-MedL103   | Furosemide                                                                          |      387475002 | substance         | Furosemide                                                                                                                        |\n",
      "| 314 | DT4H-MedD206   | Furosemide                                                                          |      387475002 | substance         | Furosemide                                                                                                                        |\n",
      "| 295 | DT4H-MedD183   | Furosemide                                                                          |      387475002 | substance         | Furosemide                                                                                                                        |\n",
      "| 294 | DT4H-MedD182   | Bumetanide                                                                          |      387498005 | substance         | Bumetanide                                                                                                                        |\n",
      "| 344 | DT4H-MedL102   | Bumetanide                                                                          |      387498005 | substance         | Bumetanide                                                                                                                        |\n",
      "| 313 | DT4H-MedD205   | Bumetanide                                                                          |      387498005 | substance         | Bumetanide                                                                                                                        |\n",
      "| 284 | DT4H-MedD157   | Amiloride                                                                           |      387503008 | substance         | Amiloride                                                                                                                         |\n",
      "| 634 | DT4H-MedRHY121 | Amiloride                                                                           |      387503008 | substance         | Amiloride                                                                                                                         |\n",
      "| 283 | DT4H-MedD156   | Amiloride hydrochloride                                                             |      387516008 | substance         | Amiloride hydrochloride                                                                                                           |\n",
      "| 633 | DT4H-MedRHY120 | Amiloride hydrochloride                                                             |      387516008 | substance         | Amiloride hydrochloride                                                                                                           |\n",
      "| 169 | DT4H-MedR148   | Imidapril hydrochloride                                                             |      395741003 | substance         | Imidapril hydrochloride                                                                                                           |\n",
      "| 208 | DT4H-MedA128   | Imidapril hydrochloride                                                             |      395741003 | substance         | Imidapril hydrochloride                                                                                                           |\n",
      "| 168 | DT4H-MedR147   | Cilazapril                                                                          |      395947008 | substance         | Cilazapril                                                                                                                        |\n",
      "| 207 | DT4H-MedA127   | Cilazapril                                                                          |      395947008 | substance         | Cilazapril                                                                                                                        |\n",
      "| 206 | DT4H-MedA126   | Imidapril                                                                           |      395984005 | substance         | Imidapril                                                                                                                         |\n",
      "| 167 | DT4H-MedR146   | Imidapril                                                                           |      395984005 | substance         | Imidapril                                                                                                                         |\n",
      "| 235 | DT4H-MedAR119  | Eprosartan                                                                          |      396044005 | substance         | Eprosartan                                                                                                                        |\n",
      "| 142 | DT4H-MedR119   | Eprosartan                                                                          |      396044005 | substance         | Eprosartan                                                                                                                        |\n",
      "| 562 | DT4H-MedDG1    | DIGITALIS GLYCOSIDES                                                                |      406759007 | substance         | DIGITALIS GLYCOSIDES                                                                                                              |\n",
      "| 122 | DT4H-MedDG1    | Digitalis glycosides                                                                |      406759007 | substance         | Digitalis glycoside                                                                                                               |\n",
      "| 324 | DT4H-MedD223   | Mefruside                                                                           |      406772008 | substance         | Mefruside                                                                                                                         |\n",
      "| 310 | DT4H-MedD202   | Mefruside                                                                           |      406772008 | substance         | Mefruside                                                                                                                         |\n",
      "| 248 | DT4H-MedM113   | Eplerenone                                                                          |      407010008 | substance         | Eplerenone                                                                                                                        |\n",
      "| 282 | DT4H-MedD155   | Eplerenone                                                                          |      407010008 | substance         | Eplerenone                                                                                                                        |\n",
      "| 631 | DT4H-MedRHY118 | Amiloride hydrochloride dihydrate                                                   |      412082007 | substance         | Amiloride hydrochloride dihydrate                                                                                                 |\n",
      "| 281 | DT4H-MedD154   | Amiloride hydrochloride dihydrate                                                   |      412082007 | substance         | Amiloride hydrochloride dihydrate                                                                                                 |\n",
      "| 234 | DT4H-MedAR118  | Olmesartan                                                                          |      412259001 | substance         | Olmesartan                                                                                                                        |\n",
      "| 141 | DT4H-MedR118   | Olmesartan                                                                          |      412259001 | substance         | Olmesartan                                                                                                                        |\n",
      "| 140 | DT4H-MedR117   | Olmesartan medoxomil                                                                |      412260006 | substance         | Olmesartan medoxomil                                                                                                              |\n",
      "| 233 | DT4H-MedAR117  | Olmesartan medoxomil                                                                |      412260006 | substance         | Olmesartan medoxomil                                                                                                              |\n",
      "| 420 | DT4H-MedP113   | Tirofiban hydrochloride monohydrate                                                 |      412321006 | substance         | Tirofiban hydrochloride monohydrate                                                                                               |\n",
      "| 448 | DT4H-MedP152   | tirofiban hydrochloride monohydrate                                                 |      412321006 | substance         | tirofiban hydrochloride monohydrate                                                                                               |\n",
      "| 304 | DT4H-MedD192   | Quinethazone                                                                        |       41261002 | substance         | Quinethazone                                                                                                                      |\n",
      "| 320 | DT4H-MedD212   | Quinethazone                                                                        |       41261002 | substance         | Quinethazone                                                                                                                      |\n",
      "| 280 | DT4H-MedD153   | Potassium canrenoate                                                                |      419615001 | substance         | Potassium canrenoate                                                                                                              |\n",
      "| 247 | DT4H-MedM112   | Potassium canrenoate                                                                |      419615001 | substance         | Potassium canrenoate                                                                                                              |\n",
      "| 656 | DT4H-MedIV1    | IVABRADINE                                                                          |      421228002 | substance         | IVABRADINE                                                                                                                        |\n",
      "| 125 | DT4H-MedIV1    | Ivabradine                                                                          |      421228002 | substance         | Ivabradine                                                                                                                        |\n",
      "| 166 | DT4H-MedR145   | Perindopril arginine                                                                |      442509000 | substance         | Perindopril arginine                                                                                                              |\n",
      "| 205 | DT4H-MedA125   | Perindopril arginine                                                                |      442509000 | substance         | Perindopril arginine                                                                                                              |\n",
      "| 139 | DT4H-MedR116   | Azilsartan                                                                          |      449042005 | substance         | Azilsartan                                                                                                                        |\n",
      "| 232 | DT4H-MedAR116  | Azilsartan                                                                          |      449042005 | substance         | Azilsartan                                                                                                                        |\n",
      "| 138 | DT4H-MedR115   | Azilsartan medoxomil                                                                |      449561004 | substance         | Azilsartan medoxomil                                                                                                              |\n",
      "| 231 | DT4H-MedAR115  | Azilsartan medoxomil                                                                |      449561004 | substance         | Azilsartan medoxomil                                                                                                              |\n",
      "| 225 | DT4H-MedA145   | Enalaprilat                                                                         |       48052001 | substance         | Enalaprilat                                                                                                                       |\n",
      "| 186 | DT4H-MedR165   | Enalaprilat                                                                         |       48052001 | substance         | Enalaprilat                                                                                                                       |\n",
      "| 349 | DT4H-MedL107   | Tienilic acid                                                                       |       64029000 | substance         | Tienilic acid                                                                                                                     |\n",
      "| 303 | DT4H-MedD191   | Tienilic acid                                                                       |       64029000 | substance         | Tienilic acid                                                                                                                     |\n",
      "| 302 | DT4H-MedD190   | Benzthiazide                                                                        |       66290002 | substance         | Benzthiazide                                                                                                                      |\n",
      "| 332 | DT4H-MedD231   | Benzthiazide                                                                        |       66290002 | substance         | Benzthiazide                                                                                                                      |\n",
      "| 165 | DT4H-MedR144   | Delapril                                                                            |      698093003 | substance         | Delapril                                                                                                                          |\n",
      "| 204 | DT4H-MedA124   | Delapril                                                                            |      698093003 | substance         | Delapril                                                                                                                          |\n",
      "| 203 | DT4H-MedA123   | Delapril hydrochloride                                                              |      700066002 | substance         | Delapril hydrochloride                                                                                                            |\n",
      "| 164 | DT4H-MedR143   | Delapril hydrochloride                                                              |      700066002 | substance         | Delapril hydrochloride                                                                                                            |\n",
      "| 202 | DT4H-MedA122   | Zofenopril                                                                          |      703340007 | substance         | Zofenopril                                                                                                                        |\n",
      "| 163 | DT4H-MedR142   | Zofenopril                                                                          |      703340007 | substance         | Zofenopril                                                                                                                        |\n",
      "| 162 | DT4H-MedR141   | Zofenopril calcium                                                                  |      703341006 | substance         | Zofenopril calcium                                                                                                                |\n",
      "| 201 | DT4H-MedA121   | Zofenopril calcium                                                                  |      703341006 | substance         | Zofenopril calcium                                                                                                                |\n",
      "| 161 | DT4H-MedR140   | Zofenoprilat                                                                        |      703342004 | substance         | Zofenoprilat                                                                                                                      |\n",
      "| 200 | DT4H-MedA120   | Zofenoprilat                                                                        |      703342004 | substance         | Zofenoprilat                                                                                                                      |\n",
      "| 199 | DT4H-MedA119   | Zofenoprilat arginine                                                               |      703343009 | substance         | Zofenoprilat arginine                                                                                                             |\n",
      "| 160 | DT4H-MedR139   | Zofenoprilat arginine                                                               |      703343009 | substance         | Zofenoprilat arginine                                                                                                             |\n",
      "| 657 | DT4H-MedSG1    | SUBSTANCE WITH SODIUM GLUCOSE COTRANSPORTER SUBTYPE 2 INHIBITOR MECHANISM OF ACTION |      703673007 | substance         | SUBSTANCE WITH SODIUM GLUCOSE COTRANSPORTER SUBTYPE 2 INHIBITOR MECHANISM OF ACTION                                               |\n",
      "| 126 | DT4H-MedSG1    | SGLT-2 Inhibitor                                                                    |      703673007 | substance         | Substance with sodium glucose cotransporter subtype 2 inhibitor mechanism of action                                               |\n",
      "| 198 | DT4H-MedA118   | Spirapril                                                                           |      713473008 | substance         | Spirapril                                                                                                                         |\n",
      "| 159 | DT4H-MedR138   | Spirapril                                                                           |      713473008 | substance         | Spirapril                                                                                                                         |\n",
      "| 197 | DT4H-MedA117   | Cilazapril monohydrate                                                              |      725786001 | substance         | Cilazapril monohydrate                                                                                                            |\n",
      "| 158 | DT4H-MedR137   | Cilazapril monohydrate                                                              |      725786001 | substance         | Cilazapril monohydrate                                                                                                            |\n",
      "| 137 | DT4H-MedR114   | Irbesartan hydrochloride                                                            |      734504000 | substance         | Irbesartan hydrochloride                                                                                                          |\n",
      "| 230 | DT4H-MedAR114  | Irbesartan hydrochloride                                                            |      734504000 | substance         | Irbesartan hydrochloride                                                                                                          |\n",
      "| 260 | DT4H-MedD118   | conivaptan hydrochloride                                                            |      735160008 | substance         | conivaptan hydrochloride                                                                                                          |\n",
      "| 258 | DT4H-MedD116   | cicletanine hydrochloride                                                           |      735160008 | substance         | cicletanine hydrochloride                                                                                                         |\n",
      "| 196 | DT4H-MedA116   | Perindopril tosylate                                                                |      735174001 | substance         | Perindopril tosylate                                                                                                              |\n",
      "| 157 | DT4H-MedR136   | Perindopril tosylate                                                                |      735174001 | substance         | Perindopril tosylate                                                                                                              |\n",
      "| 301 | DT4H-MedD189   | Ethacrynate sodium                                                                  |       75341007 | substance         | Ethacrynate sodium                                                                                                                |\n",
      "| 348 | DT4H-MedL106   | Ethacrynate sodium                                                                  |       75341007 | substance         | Ethacrynate sodium                                                                                                                |\n",
      "| 416 | DT4H-MedP1     | SUBSTANCE WITH PLATELET AGGREGATION INHIBITOR MECHANISM OF ACTION                   |      771452004 | substance         | SUBSTANCE WITH PLATELET AGGREGATION INHIBITOR MECHANISM OF ACTION                                                                 |\n",
      "| 119 | DT4H-MedP1     | Platelet inhibitor                                                                  |      771452004 | substance         | Substance with platelet aggregation inhibitor mechanism of action                                                                 |\n",
      "| 102 | DT4H-SM1       | Smoker                                                                              |       77176002 | finding           | Smoker                                                                                                                            |\n",
      "| 108 | DT4H-SM7       | Smoker                                                                              |       77176002 | finding           | Smoker                                                                                                                            |\n",
      "| 244 | DT4H-Med2      | ANGIOTENSIN RECEPTOR/NEPRILYSIN INHIBITOR (ARNI)                                    |      777480008 | medicinal product | ANGIOTENSIN RECEPTOR/NEPRILYSIN INHIBITOR (ARNI)                                                                                  |\n",
      "| 113 | DT4H-Med2      | Angiotensin receptor/neprilysin inhibitor (ARNI)                                    |      777480008 | medicine          | Product containing only sacubitril and valsartan                                                                                  |\n",
      "| 623 | DT4H-MedRHY11  | Substance with sodium channel blocker mechanism of action                           |      782436006 | substance         | Substance with sodium channel blocker mechanism of action                                                                         |\n",
      "| 124 | DT4H-MedRHY1   | Class 1 and 3 antiarrhytmic drugs                                                   |      782436006 | substance         | Substance with sodium channel blocker mechanism of action +415152007 Substance with potassium channel blocker mechanism of action |\n",
      "| 335 | DT4H-MedD234   | Chlorothiazide sodium                                                               |        8252004 | substance         | Chlorothiazide sodium                                                                                                             |\n",
      "| 307 | DT4H-MedD195   | Chlorothiazide sodium                                                               |        8252004 | substance         | Chlorothiazide sodium                                                                                                             |\n",
      "| 106 | DT4H-SM5       | Ex-smoker                                                                           |        8517006 | finding           | Ex-smoker                                                                                                                         |\n",
      "| 103 | DT4H-SM2       | Ex-smoker                                                                           |        8517006 | finding           | Ex-smoker                                                                                                                         |\n",
      "| 110 | DT4H-MedR1     | RAS-inhibitors                                                                      |      866173006 | substance         | Substance with renin-angiotensin system inhibitor mechanism of action                                                             |\n",
      "| 132 | DT4H-MedR1     | RAS-INHIBITORS                                                                      |      866173006 | substance         | RAS-INHIBITORS                                                                                                                    |\n",
      "| 136 | DT4H-MedR113   | Azilsartan medoxomil potassium                                                      |      895431005 | substance         | Azilsartan medoxomil potassium                                                                                                    |\n",
      "| 229 | DT4H-MedAR113  | Azilsartan medoxomil potassium                                                      |      895431005 | substance         | Azilsartan medoxomil potassium                                                                                                    |\n",
      "| 288 | DT4H-MedD161   | Canrenone                                                                           |       96291007 | substance         | Canrenone                                                                                                                         |\n",
      "| 300 | DT4H-MedD188   | Canrenone                                                                           |       96291007 | substance         | Canrenone                                                                                                                         |\n",
      "| 250 | DT4H-MedM115   | Canrenone                                                                           |       96291007 | substance         | Canrenone                                                                                                                         |\n",
      "| 459 | DT4H-MedP163   | resveratrol                                                                         |       96383001 | substance         | resveratrol                                                                                                                       |\n",
      "| 462 | DT4H-MedCO111  | resveratrol                                                                         |       96383001 | substance         | resveratrol                                                                                                                       |\n"
     ]
    }
   ],
   "source": [
    "print(df_variables[df_variables[\"code\"].duplicated(keep=False)].sort_values(by=\"code\").to_markdown())"
   ]
  },
  {
   "cell_type": "code",
   "execution_count": 11,
   "metadata": {},
   "outputs": [
    {
     "data": {
      "text/plain": [
       "(560,)"
      ]
     },
     "execution_count": 11,
     "metadata": {},
     "output_type": "execute_result"
    }
   ],
   "source": [
    "df_variables[\"code\"].drop_duplicates().shape"
   ]
  },
  {
   "cell_type": "code",
   "execution_count": 12,
   "metadata": {},
   "outputs": [
    {
     "data": {
      "text/plain": [
       "<Axes: xlabel='semantic_rel'>"
      ]
     },
     "execution_count": 12,
     "metadata": {},
     "output_type": "execute_result"
    },
    {
     "data": {
      "image/png": "[encoded data removed]",
      "text/plain": [
       "<Figure size 640x480 with 1 Axes>"
      ]
     },
     "metadata": {},
     "output_type": "display_data"
    }
   ],
   "source": [
    "df_pharmaconer.semantic_rel.value_counts().plot(kind='bar')"
   ]
  },
  {
   "cell_type": "markdown",
   "metadata": {},
   "source": [
    "## Code overlap"
   ]
  },
  {
   "cell_type": "code",
   "execution_count": 13,
   "metadata": {},
   "outputs": [
    {
     "name": "stdout",
     "output_type": "stream",
     "text": [
      "Shape: (764, 12)\n",
      "Unique codes: 653\n",
      "Codes not found: 479\n",
      "|    | ID           | name      |      code | span        | term               | semantic_rel   | semantic_tag   |   count | found   |   count_ID |   EXACT |   NOT_FOUND |\n",
      "|---:|:-------------|:----------|----------:|:------------|:-------------------|:---------------|:---------------|--------:|:--------|-----------:|--------:|------------:|\n",
      "|  0 | DT4H-Lab1    | Hb        |  38082009 | hemoglobina | Hemoglobin         | EXACT          | substance      |     106 | True    |        180 |     180 |           0 |\n",
      "|  1 | DT4H-Lab1    | Hb        |  38082009 | Hb          | Hemoglobin         | EXACT          | substance      |      66 | True    |        180 |     180 |           0 |\n",
      "|  2 | DT4H-Lab7    | CRPnonhs  |  61425002 | PCR         | C-reactive protein | EXACT          | substance      |      54 | True    |         92 |      92 |           0 |\n",
      "|  3 | DT4H-MedD142 | Urea      | 387092000 | urea        | Urea               | EXACT          | substance      |      51 | True    |         59 |      59 |           0 |\n",
      "|  4 | DT4H-Lab16   | Potassium |  88480006 | potasio     | Potassium          | EXACT          | substance      |      40 | True    |         72 |      72 |           0 | \n",
      "\n",
      "|     | ID           | name                           |       code | span      | term                           | semantic_rel   | semantic_tag   |   count | found   |   count_ID |   EXACT |   NOT_FOUND |\n",
      "|----:|:-------------|:-------------------------------|-----------:|:----------|:-------------------------------|:---------------|:---------------|--------:|:--------|-----------:|--------:|------------:|\n",
      "| 377 | DT4H-MedS117 | Fluvastatin sodium             |  412392009 | NOT_FOUND | Fluvastatin sodium             | NOT_FOUND      | substance      |       0 | False   |          0 |       0 |           0 |\n",
      "| 378 | DT4H-MedS118 | Rosuvastatin calcium           |  406435003 | NOT_FOUND | Rosuvastatin calcium           | NOT_FOUND      | substance      |       0 | False   |          0 |       0 |           0 |\n",
      "| 161 | DT4H-MedD24  | Uricosuric agent               |  372758007 | NOT_FOUND | Uricosuric agent               | NOT_FOUND      | substance      |       0 | False   |          0 |       0 |           0 |\n",
      "| 160 | DT4H-MedD234 | Chlorothiazide sodium          |    8252004 | NOT_FOUND | Chlorothiazide sodium          | NOT_FOUND      | substance      |       0 | False   |          0 |       0 |           0 |\n",
      "| 371 | DT4H-MedS111 | Atorvastatin calcium anhydrous | 1268949007 | NOT_FOUND | Atorvastatin calcium anhydrous | NOT_FOUND      | substance      |       0 | False   |          0 |       0 |           0 | \n",
      "\n"
     ]
    }
   ],
   "source": [
    "def process_composites(df, df_vars):\n",
    "    '''\n",
    "    Function to extract composite codes. Get the first code that is in the list of variables.\n",
    "    '''\n",
    "\n",
    "    df_data = df.copy()\n",
    "    df_vars = df_vars.copy()\n",
    "\n",
    "    # Get the unique codes from the variables dataframe to process the composites\n",
    "    ls_var_codes = df_vars[\"code\"].drop_duplicates().tolist()\n",
    "\n",
    "    # Merge df_variables with df_pharmaconer on 'code', filling missing values with \"NOT_FOUND\"\n",
    "    df_data_comp = df_data[df_data[\"semantic_rel\"] == \"COMPOSITE\"].copy()\n",
    "    df_data_comp[\"code_list\"] = df_data_comp[\"code\"].str.split(\"+\")\n",
    "    df_data_comp[\"var_code\"] = df_data_comp[\"code_list\"].apply(lambda code: [c for c in code if c in ls_var_codes][0] if any(c in ls_var_codes for c in code) else code[0])\n",
    "    df_data_comp[\"var_code\"] = df_data_comp[\"var_code\"].astype(str)\n",
    "    df_data_comp.code = df_data_comp.var_code\n",
    "\n",
    "    # Process composites\n",
    "    df_data_no_comp = df_data[df_data[\"semantic_rel\"] != \"COMPOSITE\"].copy()\n",
    "\n",
    "    # Once composites have a single code instead of a list, concatenate the dataframes\n",
    "    df_data = pd.concat([df_data_no_comp, df_data_comp], ignore_index=True)\n",
    "\n",
    "    return df_data\n",
    "\n",
    "def generate_df_codes(df_data, df_vars):\n",
    "\n",
    "    # Make copies of the dataframes to avoid modifying the originals\n",
    "    df_data = df_data.copy()\n",
    "    df_vars = df_vars.copy()\n",
    "\n",
    "    df_data = process_composites(df_data, df_vars)\n",
    "\n",
    "    df_code_ovr = df_vars[[\"ID\", \"name\", \"code\", \"term\", \"semantic_tag\"]].merge(\n",
    "                                                                            df_data[['code', 'span', 'semantic_rel']].reset_index(), \n",
    "                                                                            on='code', \n",
    "                                                                            how='left'\n",
    "                                                                        ).fillna(\"NOT_FOUND\")\n",
    "\n",
    "    # assert (df_code_ovr[\"semantic_rel\"] == \"COMPOSITE\").sum() > 0, \"NO COMPOSITES FOUND\"\n",
    "\n",
    "    # Group by 'code', 'span', and 'semantic_rel', then count occurrences\n",
    "    df_code_ovr = df_code_ovr.groupby(['ID', 'name', 'code', 'span', 'term', 'semantic_rel', 'semantic_tag']).size().reset_index(name='count').sort_values(by=\"count\", ascending=False)\n",
    "\n",
    "    # Set count to 0 for entries with 'span' marked as \"NOT_FOUND\"\n",
    "    df_code_ovr.loc[df_code_ovr.span == \"NOT_FOUND\", \"count\"] = 0\n",
    "\n",
    "    # Rename columns for clarity\n",
    "    df_code_ovr.columns = ['ID', 'name', 'code', 'span', 'term', 'semantic_rel', 'semantic_tag', 'count']\n",
    "\n",
    "    \n",
    "    df_code_ovr[\"found\"] = df_code_ovr[\"span\"] != \"NOT_FOUND\"\n",
    "\n",
    "    # Include column of count by code\n",
    "    df_code_count = df_code_ovr.groupby([\"ID\"]).aggregate({\"count\":\"sum\"}).reset_index()\n",
    "    df_count_group = df_code_count.groupby(\"ID\").aggregate({\"count\":\"sum\"}).reset_index()\n",
    "    df_code_ovr = df_code_ovr.merge(df_count_group, on=\"ID\", suffixes=('', '_ID'))\n",
    "\n",
    "    # Include columns of count by semantic_rel\n",
    "    df_code_rel = df_code_ovr.groupby([\"ID\", \"semantic_rel\"]).aggregate({\"count\":\"sum\"}).reset_index()\n",
    "    df_code_rel = df_code_rel.pivot(index=\"ID\", columns=\"semantic_rel\", values=\"count\").fillna(0).reset_index()\n",
    "    df_code_ovr = df_code_ovr.merge(df_code_rel, on=\"ID\").sort_values(by=\"count\", ascending=False)\n",
    "\n",
    "    # Print the shape of the resulting dataframe\n",
    "    print(\"Shape:\", df_code_ovr.shape)\n",
    "    print(\"Unique codes:\", df_code_ovr[\"ID\"].nunique())\n",
    "    # Print the number of codes not found (count is 0)\n",
    "    print(\"Codes not found:\", df_code_ovr[~df_code_ovr[\"found\"]].code.nunique())\n",
    "\n",
    "    # Print the top 10 codes by count in markdown format\n",
    "    print(df_code_ovr.head().to_markdown(), \"\\n\")\n",
    "\n",
    "    # Print the bottom 10 codes by count in markdown format\n",
    "    print(df_code_ovr.tail().to_markdown(), \"\\n\")\n",
    "\n",
    "    return df_code_ovr\n",
    "\n",
    "df_code_ovr = generate_df_codes(df_pharmaconer, df_variables)"
   ]
  },
  {
   "cell_type": "code",
   "execution_count": 14,
   "metadata": {},
   "outputs": [
    {
     "data": {
      "text/plain": [
       "<Axes: xlabel='semantic_rel'>"
      ]
     },
     "execution_count": 14,
     "metadata": {},
     "output_type": "execute_result"
    },
    {
     "data": {
      "image/png": "[encoded data removed]",
      "text/plain": [
       "<Figure size 640x480 with 1 Axes>"
      ]
     },
     "metadata": {},
     "output_type": "display_data"
    }
   ],
   "source": [
    "df_code_ovr.semantic_rel.value_counts().plot(kind='bar')"
   ]
  },
  {
   "cell_type": "code",
   "execution_count": 15,
   "metadata": {},
   "outputs": [
    {
     "data": {
      "text/plain": [
       "(653,)"
      ]
     },
     "execution_count": 15,
     "metadata": {},
     "output_type": "execute_result"
    }
   ],
   "source": [
    "df_code_ovr[\"ID\"].drop_duplicates().shape"
   ]
  },
  {
   "cell_type": "code",
   "execution_count": 77,
   "metadata": {},
   "outputs": [
    {
     "data": {
      "application/vnd.plotly.v1+json": {
       "config": {
        "plotlyServerURL": "https://plot.ly"
       },
       "data": [
        {
         "domain": {
          "x": [
           0,
           0.2888888888888889
          ],
          "y": [
           0,
           1
          ]
         },
         "hovertemplate": "found=%{label}<extra></extra>",
         "labels": [
          true,
          true,
          true,
          true,
          true,
          true,
          true,
          true,
          true,
          true,
          true,
          true,
          true,
          true,
          true,
          true,
          true,
          true,
          true,
          true,
          true,
          true,
          true,
          true,
          true,
          true,
          true,
          true,
          true,
          true,
          true,
          true,
          true,
          true,
          true,
          true,
          true,
          true,
          true,
          true,
          true,
          true,
          true,
          true,
          true,
          true,
          true,
          true,
          true,
          true,
          true,
          true,
          true,
          true,
          true,
          true,
          true,
          true,
          true,
          true,
          true,
          true,
          true,
          true,
          true,
          true,
          true,
          true,
          true,
          true,
          true,
          true,
          true,
          true,
          true,
          true,
          true,
          true,
          true,
          true,
          true,
          true,
          true,
          true,
          true,
          true,
          true,
          true,
          true,
          true,
          true,
          true,
          true,
          true,
          true,
          true,
          true,
          true,
          true,
          true,
          false,
          false,
          false,
          false,
          false,
          false,
          false,
          false,
          false,
          false,
          false,
          false,
          false,
          false,
          false,
          false,
          false,
          false,
          false,
          false,
          false,
          false,
          false,
          false,
          false,
          false,
          false,
          false,
          false,
          false,
          false,
          false,
          false,
          false,
          false,
          false,
          false,
          false,
          false,
          false,
          false,
          false,
          false,
          false,
          false,
          false,
          false,
          false,
          false,
          false,
          false,
          false,
          false,
          false,
          false,
          false,
          false,
          false,
          false,
          false,
          false,
          false,
          false,
          false,
          false,
          false,
          false,
          false,
          false,
          false,
          false,
          false,
          false,
          false,
          false,
          false,
          false,
          false,
          false,
          false,
          false,
          false,
          false,
          false,
          false,
          false,
          false,
          false,
          false,
          false,
          false,
          false,
          false,
          false,
          false,
          false,
          false,
          false,
          false,
          false,
          false,
          false,
          false,
          false,
          false,
          false,
          false,
          false,
          false,
          false,
          false,
          false,
          false,
          false,
          false,
          false,
          false,
          false,
          false,
          false,
          false,
          false,
          false,
          false,
          false,
          false,
          false,
          false,
          false,
          false,
          false,
          false,
          false,
          false,
          false,
          false,
          false,
          false,
          false,
          false,
          false,
          false,
          false,
          false,
          false,
          false,
          false,
          false,
          false,
          false,
          false,
          false,
          false,
          false,
          false,
          false,
          false,
          false,
          false,
          false,
          false,
          false,
          false,
          false,
          false,
          false,
          false,
          false,
          false,
          false,
          false,
          false,
          false,
          false,
          false,
          false,
          false,
          false,
          false,
          false,
          false,
          false,
          false,
          false,
          false,
          false,
          false,
          false,
          false,
          false,
          false,
          false,
          false,
          false,
          false,
          false,
          false,
          false,
          false,
          false,
          false,
          false,
          false,
          false,
          false,
          false,
          false,
          false,
          false,
          false,
          false,
          false,
          false,
          false,
          false,
          false,
          false,
          false,
          false,
          false,
          false,
          false,
          false,
          false,
          false,
          false,
          false,
          false,
          false,
          false,
          false,
          false,
          false,
          false,
          false,
          false,
          false,
          false,
          false,
          false,
          false,
          false,
          false,
          false,
          false,
          false,
          false,
          false,
          false,
          false,
          false,
          false,
          false,
          false,
          false,
          false,
          false,
          false,
          false,
          false,
          false,
          false,
          false,
          false,
          false,
          false,
          false,
          false,
          false,
          false,
          false,
          false,
          false,
          false,
          false,
          false,
          false,
          false,
          false,
          false,
          false,
          false,
          false,
          false,
          false,
          false,
          false,
          false,
          false,
          false,
          false,
          false,
          false,
          false,
          false,
          false,
          false,
          false,
          false,
          false,
          false,
          false,
          false,
          false,
          false,
          false,
          false,
          false,
          false,
          false,
          false,
          false,
          false,
          false,
          false,
          false,
          false,
          false,
          false,
          false,
          false,
          false,
          false,
          false,
          false,
          false,
          false,
          false,
          false,
          false,
          false,
          false,
          false,
          false,
          false,
          false,
          false,
          false,
          false,
          false,
          false,
          false,
          false,
          false,
          false,
          false,
          false,
          false,
          false,
          false,
          false,
          false,
          false,
          false,
          false,
          false,
          false,
          false,
          false,
          false,
          false,
          false,
          false,
          false,
          false,
          false,
          false,
          false,
          false,
          false,
          false,
          false,
          false,
          false,
          false,
          false,
          false,
          false,
          false,
          false,
          false,
          false,
          false,
          false,
          false,
          false,
          false,
          false,
          false,
          false,
          false,
          false,
          false,
          false,
          false,
          false,
          false,
          false,
          false,
          false,
          false,
          false,
          false,
          false,
          false,
          false,
          false,
          false,
          false,
          false,
          false,
          false,
          false,
          false,
          false,
          false,
          false,
          false,
          false,
          false,
          false,
          false,
          false,
          false,
          false,
          false,
          false,
          false,
          false,
          false,
          false,
          false,
          false,
          false,
          false,
          false,
          false,
          false,
          false,
          false,
          false,
          false,
          false,
          false,
          false,
          false,
          false,
          false,
          false,
          false,
          false,
          false,
          false,
          false,
          false,
          false,
          false,
          false,
          false,
          false,
          false,
          false,
          false,
          false,
          false,
          false,
          false,
          false,
          false,
          false,
          false,
          false,
          false,
          false,
          false,
          false,
          false,
          false,
          false,
          false,
          false,
          false,
          false,
          false,
          false,
          false,
          false,
          false,
          false,
          false,
          false,
          false,
          false,
          false,
          false,
          false,
          false,
          false,
          false,
          false,
          false,
          false,
          false,
          false,
          false,
          false,
          false,
          false,
          false,
          false,
          false,
          false,
          false,
          false,
          false,
          false,
          false,
          false,
          false,
          false,
          false,
          false,
          false,
          false,
          false,
          false,
          false,
          false,
          false,
          false,
          false,
          false,
          false,
          false,
          false,
          false,
          false,
          false,
          false,
          false,
          false,
          false,
          false,
          false,
          false,
          false,
          false,
          false,
          false,
          false,
          false,
          false,
          false
         ],
         "legendgroup": "",
         "name": "",
         "showlegend": true,
         "textinfo": "label+percent+value",
         "type": "pie"
        },
        {
         "domain": {
          "x": [
           0.35555555555555557,
           0.6444444444444445
          ],
          "y": [
           0,
           1
          ]
         },
         "hovertemplate": "semantic_tag=%{label}<extra></extra>",
         "labels": [
          "substance",
          "substance",
          "substance",
          "substance",
          "substance",
          "substance",
          "substance",
          "substance",
          "substance",
          "substance",
          "substance",
          "substance",
          "substance",
          "substance",
          "substance",
          "substance",
          "substance",
          "substance",
          "substance",
          "substance",
          "substance",
          "substance",
          "substance",
          "substance",
          "substance",
          "substance",
          "substance",
          "substance",
          "substance",
          "substance",
          "substance",
          "substance",
          "substance",
          "substance",
          "substance",
          "substance",
          "substance",
          "substance",
          "substance",
          "substance",
          "substance",
          "substance",
          "substance",
          "substance",
          "substance",
          "substance",
          "substance",
          "substance",
          "substance",
          "substance",
          "substance",
          "substance",
          "substance",
          "substance",
          "substance",
          "substance",
          "substance",
          "substance",
          "substance",
          "substance",
          "substance",
          "substance",
          "substance",
          "substance",
          "substance",
          "substance",
          "substance",
          "substance",
          "substance",
          "substance",
          "substance",
          "substance",
          "substance",
          "substance",
          "substance",
          "substance",
          "substance",
          "substance",
          "substance",
          "substance",
          "substance",
          "substance",
          "substance",
          "substance",
          "substance",
          "substance",
          "substance",
          "substance",
          "substance",
          "substance",
          "substance",
          "substance",
          "substance",
          "substance",
          "substance",
          "substance",
          "substance",
          "substance",
          "substance",
          "substance"
         ],
         "legendgroup": "",
         "name": "",
         "showlegend": true,
         "textinfo": "label+percent+value",
         "type": "pie"
        },
        {
         "domain": {
          "x": [
           0.7111111111111111,
           1
          ],
          "y": [
           0,
           1
          ]
         },
         "hovertemplate": "semantic_rel=%{label}<extra></extra>",
         "labels": [
          "EXACT",
          "EXACT",
          "EXACT",
          "EXACT",
          "EXACT",
          "EXACT",
          "EXACT",
          "EXACT",
          "EXACT",
          "EXACT",
          "EXACT",
          "EXACT",
          "EXACT",
          "EXACT",
          "EXACT",
          "EXACT",
          "EXACT",
          "EXACT",
          "EXACT",
          "EXACT",
          "EXACT",
          "EXACT",
          "EXACT",
          "EXACT",
          "EXACT",
          "EXACT",
          "EXACT",
          "EXACT",
          "EXACT",
          "EXACT",
          "EXACT",
          "EXACT",
          "EXACT",
          "EXACT",
          "EXACT",
          "EXACT",
          "EXACT",
          "EXACT",
          "EXACT",
          "EXACT",
          "EXACT",
          "EXACT",
          "EXACT",
          "EXACT",
          "EXACT",
          "EXACT",
          "EXACT",
          "EXACT",
          "EXACT",
          "EXACT",
          "EXACT",
          "EXACT",
          "EXACT",
          "EXACT",
          "EXACT",
          "EXACT",
          "EXACT",
          "EXACT",
          "EXACT",
          "EXACT",
          "EXACT",
          "EXACT",
          "EXACT",
          "EXACT",
          "EXACT",
          "EXACT",
          "EXACT",
          "EXACT",
          "EXACT",
          "EXACT",
          "EXACT",
          "EXACT",
          "EXACT",
          "EXACT",
          "EXACT",
          "EXACT",
          "EXACT",
          "EXACT",
          "EXACT",
          "EXACT",
          "EXACT",
          "EXACT",
          "EXACT",
          "EXACT",
          "EXACT",
          "EXACT",
          "EXACT",
          "EXACT",
          "EXACT",
          "EXACT",
          "EXACT",
          "EXACT",
          "EXACT",
          "EXACT",
          "EXACT",
          "EXACT",
          "EXACT",
          "EXACT",
          "EXACT",
          "EXACT",
          "EXACT",
          "EXACT",
          "EXACT",
          "EXACT",
          "EXACT",
          "EXACT",
          "EXACT",
          "EXACT",
          "EXACT",
          "EXACT",
          "EXACT",
          "EXACT",
          "EXACT",
          "EXACT",
          "EXACT",
          "EXACT",
          "EXACT",
          "EXACT",
          "EXACT",
          "EXACT",
          "EXACT",
          "EXACT",
          "EXACT",
          "EXACT",
          "EXACT",
          "EXACT",
          "EXACT",
          "EXACT",
          "EXACT",
          "EXACT",
          "EXACT",
          "EXACT",
          "EXACT",
          "EXACT",
          "EXACT",
          "EXACT",
          "EXACT",
          "EXACT",
          "EXACT",
          "EXACT",
          "EXACT",
          "EXACT",
          "EXACT",
          "EXACT",
          "EXACT",
          "EXACT",
          "EXACT",
          "EXACT",
          "EXACT",
          "EXACT",
          "EXACT",
          "EXACT",
          "EXACT",
          "EXACT",
          "EXACT",
          "EXACT",
          "EXACT",
          "EXACT",
          "EXACT",
          "EXACT",
          "EXACT",
          "EXACT",
          "EXACT",
          "EXACT",
          "EXACT",
          "EXACT",
          "EXACT",
          "EXACT",
          "EXACT",
          "EXACT",
          "EXACT",
          "EXACT",
          "EXACT",
          "EXACT",
          "EXACT",
          "EXACT",
          "EXACT",
          "EXACT",
          "EXACT",
          "EXACT",
          "EXACT",
          "EXACT",
          "EXACT",
          "EXACT",
          "EXACT",
          "EXACT",
          "EXACT",
          "EXACT",
          "EXACT",
          "EXACT",
          "EXACT",
          "EXACT",
          "EXACT",
          "EXACT",
          "EXACT",
          "EXACT",
          "EXACT"
         ],
         "legendgroup": "",
         "name": "",
         "showlegend": true,
         "textinfo": "label+percent+value",
         "type": "pie"
        }
       ],
       "layout": {
        "annotations": [
         {
          "font": {
           "size": 16
          },
          "showarrow": false,
          "text": "Found Variables",
          "x": 0.14444444444444446,
          "xanchor": "center",
          "xref": "paper",
          "y": 1,
          "yanchor": "bottom",
          "yref": "paper"
         },
         {
          "font": {
           "size": 16
          },
          "showarrow": false,
          "text": "Semantic Tag Distribution",
          "x": 0.5,
          "xanchor": "center",
          "xref": "paper",
          "y": 1,
          "yanchor": "bottom",
          "yref": "paper"
         },
         {
          "font": {
           "size": 16
          },
          "showarrow": false,
          "text": "Semantic Relationship Distribution (Total Mentions)",
          "x": 0.8555555555555556,
          "xanchor": "center",
          "xref": "paper",
          "y": 1,
          "yanchor": "bottom",
          "yref": "paper"
         }
        ],
        "height": 600,
        "showlegend": false,
        "template": {
         "data": {
          "bar": [
           {
            "error_x": {
             "color": "#2a3f5f"
            },
            "error_y": {
             "color": "#2a3f5f"
            },
            "marker": {
             "line": {
              "color": "#E5ECF6",
              "width": 0.5
             },
             "pattern": {
              "fillmode": "overlay",
              "size": 10,
              "solidity": 0.2
             }
            },
            "type": "bar"
           }
          ],
          "barpolar": [
           {
            "marker": {
             "line": {
              "color": "#E5ECF6",
              "width": 0.5
             },
             "pattern": {
              "fillmode": "overlay",
              "size": 10,
              "solidity": 0.2
             }
            },
            "type": "barpolar"
           }
          ],
          "carpet": [
           {
            "aaxis": {
             "endlinecolor": "#2a3f5f",
             "gridcolor": "white",
             "linecolor": "white",
             "minorgridcolor": "white",
             "startlinecolor": "#2a3f5f"
            },
            "baxis": {
             "endlinecolor": "#2a3f5f",
             "gridcolor": "white",
             "linecolor": "white",
             "minorgridcolor": "white",
             "startlinecolor": "#2a3f5f"
            },
            "type": "carpet"
           }
          ],
          "choropleth": [
           {
            "colorbar": {
             "outlinewidth": 0,
             "ticks": ""
            },
            "type": "choropleth"
           }
          ],
          "contour": [
           {
            "colorbar": {
             "outlinewidth": 0,
             "ticks": ""
            },
            "colorscale": [
             [
              0,
              "#0d0887"
             ],
             [
              0.1111111111111111,
              "#46039f"
             ],
             [
              0.2222222222222222,
              "#7201a8"
             ],
             [
              0.3333333333333333,
              "#9c179e"
             ],
             [
              0.4444444444444444,
              "#bd3786"
             ],
             [
              0.5555555555555556,
              "#d8576b"
             ],
             [
              0.6666666666666666,
              "#ed7953"
             ],
             [
              0.7777777777777778,
              "#fb9f3a"
             ],
             [
              0.8888888888888888,
              "#fdca26"
             ],
             [
              1,
              "#f0f921"
             ]
            ],
            "type": "contour"
           }
          ],
          "contourcarpet": [
           {
            "colorbar": {
             "outlinewidth": 0,
             "ticks": ""
            },
            "type": "contourcarpet"
           }
          ],
          "heatmap": [
           {
            "colorbar": {
             "outlinewidth": 0,
             "ticks": ""
            },
            "colorscale": [
             [
              0,
              "#0d0887"
             ],
             [
              0.1111111111111111,
              "#46039f"
             ],
             [
              0.2222222222222222,
              "#7201a8"
             ],
             [
              0.3333333333333333,
              "#9c179e"
             ],
             [
              0.4444444444444444,
              "#bd3786"
             ],
             [
              0.5555555555555556,
              "#d8576b"
             ],
             [
              0.6666666666666666,
              "#ed7953"
             ],
             [
              0.7777777777777778,
              "#fb9f3a"
             ],
             [
              0.8888888888888888,
              "#fdca26"
             ],
             [
              1,
              "#f0f921"
             ]
            ],
            "type": "heatmap"
           }
          ],
          "heatmapgl": [
           {
            "colorbar": {
             "outlinewidth": 0,
             "ticks": ""
            },
            "colorscale": [
             [
              0,
              "#0d0887"
             ],
             [
              0.1111111111111111,
              "#46039f"
             ],
             [
              0.2222222222222222,
              "#7201a8"
             ],
             [
              0.3333333333333333,
              "#9c179e"
             ],
             [
              0.4444444444444444,
              "#bd3786"
             ],
             [
              0.5555555555555556,
              "#d8576b"
             ],
             [
              0.6666666666666666,
              "#ed7953"
             ],
             [
              0.7777777777777778,
              "#fb9f3a"
             ],
             [
              0.8888888888888888,
              "#fdca26"
             ],
             [
              1,
              "#f0f921"
             ]
            ],
            "type": "heatmapgl"
           }
          ],
          "histogram": [
           {
            "marker": {
             "pattern": {
              "fillmode": "overlay",
              "size": 10,
              "solidity": 0.2
             }
            },
            "type": "histogram"
           }
          ],
          "histogram2d": [
           {
            "colorbar": {
             "outlinewidth": 0,
             "ticks": ""
            },
            "colorscale": [
             [
              0,
              "#0d0887"
             ],
             [
              0.1111111111111111,
              "#46039f"
             ],
             [
              0.2222222222222222,
              "#7201a8"
             ],
             [
              0.3333333333333333,
              "#9c179e"
             ],
             [
              0.4444444444444444,
              "#bd3786"
             ],
             [
              0.5555555555555556,
              "#d8576b"
             ],
             [
              0.6666666666666666,
              "#ed7953"
             ],
             [
              0.7777777777777778,
              "#fb9f3a"
             ],
             [
              0.8888888888888888,
              "#fdca26"
             ],
             [
              1,
              "#f0f921"
             ]
            ],
            "type": "histogram2d"
           }
          ],
          "histogram2dcontour": [
           {
            "colorbar": {
             "outlinewidth": 0,
             "ticks": ""
            },
            "colorscale": [
             [
              0,
              "#0d0887"
             ],
             [
              0.1111111111111111,
              "#46039f"
             ],
             [
              0.2222222222222222,
              "#7201a8"
             ],
             [
              0.3333333333333333,
              "#9c179e"
             ],
             [
              0.4444444444444444,
              "#bd3786"
             ],
             [
              0.5555555555555556,
              "#d8576b"
             ],
             [
              0.6666666666666666,
              "#ed7953"
             ],
             [
              0.7777777777777778,
              "#fb9f3a"
             ],
             [
              0.8888888888888888,
              "#fdca26"
             ],
             [
              1,
              "#f0f921"
             ]
            ],
            "type": "histogram2dcontour"
           }
          ],
          "mesh3d": [
           {
            "colorbar": {
             "outlinewidth": 0,
             "ticks": ""
            },
            "type": "mesh3d"
           }
          ],
          "parcoords": [
           {
            "line": {
             "colorbar": {
              "outlinewidth": 0,
              "ticks": ""
             }
            },
            "type": "parcoords"
           }
          ],
          "pie": [
           {
            "automargin": true,
            "type": "pie"
           }
          ],
          "scatter": [
           {
            "fillpattern": {
             "fillmode": "overlay",
             "size": 10,
             "solidity": 0.2
            },
            "type": "scatter"
           }
          ],
          "scatter3d": [
           {
            "line": {
             "colorbar": {
              "outlinewidth": 0,
              "ticks": ""
             }
            },
            "marker": {
             "colorbar": {
              "outlinewidth": 0,
              "ticks": ""
             }
            },
            "type": "scatter3d"
           }
          ],
          "scattercarpet": [
           {
            "marker": {
             "colorbar": {
              "outlinewidth": 0,
              "ticks": ""
             }
            },
            "type": "scattercarpet"
           }
          ],
          "scattergeo": [
           {
            "marker": {
             "colorbar": {
              "outlinewidth": 0,
              "ticks": ""
             }
            },
            "type": "scattergeo"
           }
          ],
          "scattergl": [
           {
            "marker": {
             "colorbar": {
              "outlinewidth": 0,
              "ticks": ""
             }
            },
            "type": "scattergl"
           }
          ],
          "scattermapbox": [
           {
            "marker": {
             "colorbar": {
              "outlinewidth": 0,
              "ticks": ""
             }
            },
            "type": "scattermapbox"
           }
          ],
          "scatterpolar": [
           {
            "marker": {
             "colorbar": {
              "outlinewidth": 0,
              "ticks": ""
             }
            },
            "type": "scatterpolar"
           }
          ],
          "scatterpolargl": [
           {
            "marker": {
             "colorbar": {
              "outlinewidth": 0,
              "ticks": ""
             }
            },
            "type": "scatterpolargl"
           }
          ],
          "scatterternary": [
           {
            "marker": {
             "colorbar": {
              "outlinewidth": 0,
              "ticks": ""
             }
            },
            "type": "scatterternary"
           }
          ],
          "surface": [
           {
            "colorbar": {
             "outlinewidth": 0,
             "ticks": ""
            },
            "colorscale": [
             [
              0,
              "#0d0887"
             ],
             [
              0.1111111111111111,
              "#46039f"
             ],
             [
              0.2222222222222222,
              "#7201a8"
             ],
             [
              0.3333333333333333,
              "#9c179e"
             ],
             [
              0.4444444444444444,
              "#bd3786"
             ],
             [
              0.5555555555555556,
              "#d8576b"
             ],
             [
              0.6666666666666666,
              "#ed7953"
             ],
             [
              0.7777777777777778,
              "#fb9f3a"
             ],
             [
              0.8888888888888888,
              "#fdca26"
             ],
             [
              1,
              "#f0f921"
             ]
            ],
            "type": "surface"
           }
          ],
          "table": [
           {
            "cells": {
             "fill": {
              "color": "#EBF0F8"
             },
             "line": {
              "color": "white"
             }
            },
            "header": {
             "fill": {
              "color": "#C8D4E3"
             },
             "line": {
              "color": "white"
             }
            },
            "type": "table"
           }
          ]
         },
         "layout": {
          "annotationdefaults": {
           "arrowcolor": "#2a3f5f",
           "arrowhead": 0,
           "arrowwidth": 1
          },
          "autotypenumbers": "strict",
          "coloraxis": {
           "colorbar": {
            "outlinewidth": 0,
            "ticks": ""
           }
          },
          "colorscale": {
           "diverging": [
            [
             0,
             "#8e0152"
            ],
            [
             0.1,
             "#c51b7d"
            ],
            [
             0.2,
             "#de77ae"
            ],
            [
             0.3,
             "#f1b6da"
            ],
            [
             0.4,
             "#fde0ef"
            ],
            [
             0.5,
             "#f7f7f7"
            ],
            [
             0.6,
             "#e6f5d0"
            ],
            [
             0.7,
             "#b8e186"
            ],
            [
             0.8,
             "#7fbc41"
            ],
            [
             0.9,
             "#4d9221"
            ],
            [
             1,
             "#276419"
            ]
           ],
           "sequential": [
            [
             0,
             "#0d0887"
            ],
            [
             0.1111111111111111,
             "#46039f"
            ],
            [
             0.2222222222222222,
             "#7201a8"
            ],
            [
             0.3333333333333333,
             "#9c179e"
            ],
            [
             0.4444444444444444,
             "#bd3786"
            ],
            [
             0.5555555555555556,
             "#d8576b"
            ],
            [
             0.6666666666666666,
             "#ed7953"
            ],
            [
             0.7777777777777778,
             "#fb9f3a"
            ],
            [
             0.8888888888888888,
             "#fdca26"
            ],
            [
             1,
             "#f0f921"
            ]
           ],
           "sequentialminus": [
            [
             0,
             "#0d0887"
            ],
            [
             0.1111111111111111,
             "#46039f"
            ],
            [
             0.2222222222222222,
             "#7201a8"
            ],
            [
             0.3333333333333333,
             "#9c179e"
            ],
            [
             0.4444444444444444,
             "#bd3786"
            ],
            [
             0.5555555555555556,
             "#d8576b"
            ],
            [
             0.6666666666666666,
             "#ed7953"
            ],
            [
             0.7777777777777778,
             "#fb9f3a"
            ],
            [
             0.8888888888888888,
             "#fdca26"
            ],
            [
             1,
             "#f0f921"
            ]
           ]
          },
          "colorway": [
           "#636efa",
           "#EF553B",
           "#00cc96",
           "#ab63fa",
           "#FFA15A",
           "#19d3f3",
           "#FF6692",
           "#B6E880",
           "#FF97FF",
           "#FECB52"
          ],
          "font": {
           "color": "#2a3f5f"
          },
          "geo": {
           "bgcolor": "white",
           "lakecolor": "white",
           "landcolor": "#E5ECF6",
           "showlakes": true,
           "showland": true,
           "subunitcolor": "white"
          },
          "hoverlabel": {
           "align": "left"
          },
          "hovermode": "closest",
          "mapbox": {
           "style": "light"
          },
          "paper_bgcolor": "white",
          "plot_bgcolor": "#E5ECF6",
          "polar": {
           "angularaxis": {
            "gridcolor": "white",
            "linecolor": "white",
            "ticks": ""
           },
           "bgcolor": "#E5ECF6",
           "radialaxis": {
            "gridcolor": "white",
            "linecolor": "white",
            "ticks": ""
           }
          },
          "scene": {
           "xaxis": {
            "backgroundcolor": "#E5ECF6",
            "gridcolor": "white",
            "gridwidth": 2,
            "linecolor": "white",
            "showbackground": true,
            "ticks": "",
            "zerolinecolor": "white"
           },
           "yaxis": {
            "backgroundcolor": "#E5ECF6",
            "gridcolor": "white",
            "gridwidth": 2,
            "linecolor": "white",
            "showbackground": true,
            "ticks": "",
            "zerolinecolor": "white"
           },
           "zaxis": {
            "backgroundcolor": "#E5ECF6",
            "gridcolor": "white",
            "gridwidth": 2,
            "linecolor": "white",
            "showbackground": true,
            "ticks": "",
            "zerolinecolor": "white"
           }
          },
          "shapedefaults": {
           "line": {
            "color": "#2a3f5f"
           }
          },
          "ternary": {
           "aaxis": {
            "gridcolor": "white",
            "linecolor": "white",
            "ticks": ""
           },
           "baxis": {
            "gridcolor": "white",
            "linecolor": "white",
            "ticks": ""
           },
           "bgcolor": "#E5ECF6",
           "caxis": {
            "gridcolor": "white",
            "linecolor": "white",
            "ticks": ""
           }
          },
          "title": {
           "x": 0.05
          },
          "xaxis": {
           "automargin": true,
           "gridcolor": "white",
           "linecolor": "white",
           "ticks": "",
           "title": {
            "standoff": 15
           },
           "zerolinecolor": "white",
           "zerolinewidth": 2
          },
          "yaxis": {
           "automargin": true,
           "gridcolor": "white",
           "linecolor": "white",
           "ticks": "",
           "title": {
            "standoff": 15
           },
           "zerolinecolor": "white",
           "zerolinewidth": 2
          }
         }
        },
        "title": {
         "text": "Distribution of Semantic Relationships and Found Codes"
        }
       }
      }
     },
     "metadata": {},
     "output_type": "display_data"
    },
    {
     "data": {
      "application/vnd.plotly.v1+json": {
       "config": {
        "plotlyServerURL": "https://plot.ly"
       },
       "data": [
        {
         "alignmentgroup": "True",
         "hovertemplate": "semantic_rel=EXACT<br>Count=%{x}<br>Name=%{y}<extra></extra>",
         "legendgroup": "EXACT",
         "marker": {
          "color": "#636efa",
          "pattern": {
           "shape": ""
          }
         },
         "name": "EXACT",
         "offsetgroup": "EXACT",
         "orientation": "h",
         "showlegend": true,
         "textposition": "auto",
         "type": "bar",
         "x": [
          1,
          1,
          1,
          1,
          1,
          1,
          1,
          1,
          1,
          1,
          1,
          1,
          1,
          1,
          1,
          1,
          1,
          1,
          1,
          1,
          1,
          1,
          1,
          1,
          1,
          1,
          2,
          2,
          2,
          2,
          2,
          2,
          2,
          2,
          2,
          2,
          2,
          2,
          2,
          2,
          2,
          2,
          2,
          2,
          2,
          2,
          2,
          2,
          3,
          3,
          3,
          3,
          3,
          3,
          3,
          3,
          3,
          4,
          4,
          4,
          4,
          4,
          4,
          5,
          5,
          5,
          5,
          5,
          6,
          6,
          7,
          7,
          7,
          8,
          8,
          9,
          9,
          10,
          10,
          10,
          11,
          11,
          11,
          12,
          12,
          14,
          15,
          15,
          17,
          17,
          17,
          20,
          23,
          26,
          32,
          34,
          47,
          58,
          59,
          72,
          92,
          180
         ],
         "xaxis": "x",
         "y": [
          "DT4H-MedRHY121-Amiloride (Amiloride)",
          "DT4H-MedCO145-Bemiparin (Bemiparin)",
          "DT4H-MedD156-Amiloride hydrochloride (Amiloride hydrochloride)",
          "DT4H-MedD157-Amiloride (Amiloride)",
          "DT4H-MedC174-Lercanidipine (Lercanidipine)",
          "DT4H-MedC178-Nifedipine (Nifedipine)",
          "DT4H-MedR118-Olmesartan (Olmesartan)",
          "DT4H-MedD207-Indapamide (Indapamide)",
          "DT4H-MedR11-Substance with angiotensin II receptor antagonist mechanism of action  (Substance with angiotensin II receptor antagonist mechanism of action )",
          "DT4H-MedP148-triflusal (triflusal)",
          "DT4H-MedR127-Losartan potassium (Losartan potassium)",
          "DT4H-MedP161-epoprostenol sodium (epoprostenol sodium)",
          "DT4H-MedA133-Lisinopril (Lisinopril)",
          "DT4H-MedCO152-Lepirudin (Lepirudin)",
          "DT4H-MedCO149-Tinzaparin sodium (Tinzaparin sodium)",
          "DT4H-Lab5-BNP (Brain natriuretic peptide )",
          "DT4H-MedP129-Prasugrel (Prasugrel)",
          "DT4H-MedDG113-Digoxin (Digoxin)",
          "DT4H-MedR153-Lisinopril (Lisinopril)",
          "DT4H-MedRHY120-Amiloride hydrochloride (Amiloride hydrochloride)",
          "DT4H-MedAR118-Olmesartan (Olmesartan)",
          "DT4H-MedAR127-Losartan potassium (Losartan potassium)",
          "DT4H-MedC145-Verapamil hydrochloride (Verapamil hydrochloride)",
          "DT4H-MedC170-Barnidipine (Barnidipine)",
          "DT4H-Lab14-HDL (High density lipoprotein )",
          "DT4H-MedBB121-Carvedilol (Carvedilol)",
          "DT4H-MedR152-Quinapril (Quinapril)",
          "DT4H-MedD184-Chlortalidone (Chlortalidone)",
          "DT4H-MedAR1-ANGIOTENSIN RECEPTOR BLOCKER (ANGIOTENSIN RECEPTOR BLOCKER)",
          "DT4H-MedAR1-Angiotensin receptor blocker ( Substance with angiotensin II receptor antagonist mechanism of action )",
          "DT4H-MedL1-LOOP DIURETIC (LOOP DIURETIC)",
          "DT4H-MedBB128-Propranolol (Propranolol)",
          "DT4H-MedA130-Captopril (Captopril)",
          "DT4H-MedV115-Isosorbide mononitrate (Isosorbide mononitrate)",
          "DT4H-MedBB117-Nadolol (Nadolol)",
          "DT4H-MedR150-Captopril (Captopril)",
          "DT4H-MedA134-Ramipril (Ramipril)",
          "DT4H-MedP132-Clopidogrel (Clopidogrel)",
          "DT4H-MedR154-Ramipril (Ramipril)",
          "DT4H-MedBB166-Metoprolol (Metoprolol)",
          "DT4H-MedS127-Lovastatin (Lovastatin)",
          "DT4H-MedS121-Pravastatin (Pravastatin)",
          "DT4H-MedCO137-Rivaroxaban (Rivaroxaban)",
          "DT4H-MedD208-Chlortalidone (Chlortalidone)",
          "DT4H-MedA132-Quinapril (Quinapril)",
          "DT4H-MedCO133-Dabigatran (Dabigatran)",
          "DT4H-MedCO220-Warfarin (Warfarin)",
          "DT4H-MedL1-Loop diuretics (Loop diuretic )",
          "DT4H-MedR125-Candesartan (Candesartan)",
          "DT4H-Lab8-TropIhs (Troponin I )",
          "DT4H-MedAR125-Candesartan (Candesartan)",
          "DT4H-Lab25-HbA1c ( Hemoglobin A1c )",
          "DT4H-MedAR122-Irbesartan (Irbesartan)",
          "DT4H-MedR122-Irbesartan (Irbesartan)",
          "DT4H-MedBB164-Bisoprolol (Bisoprolol)",
          "DT4H-MedC143-Verapamil (Verapamil)",
          "DT4H-Lab9-TropInhs (Troponin I )",
          "DT4H-MedCO235-Protein C (Protein C)",
          "DT4H-MedBB127-Timolol (Timolol)",
          "DT4H-MedD22-Thiazide diuretic (Thiazide diuretic)",
          "DT4H-MedRHY126-Oxcarbazepine (Oxcarbazepine)",
          "DT4H-MedR124-Losartan (Losartan)",
          "DT4H-MedAR124-Losartan (Losartan)",
          "DT4H-MedD187-Torasemide (Torasemide)",
          "DT4H-MedD121-tolvaptan (tolvaptan)",
          "DT4H-MedS122-Atorvastatin (Atorvastatin)",
          "DT4H-MedCO219-Coumarin anticoagulant (Coumarin anticoagulant)",
          "DT4H-MedL105-Torasemide (Torasemide)",
          "DT4H-MedV112-Nitroglycerin (Nitroglycerin)",
          "DT4H-MedBB129-Labetalol (Labetalol)",
          "DT4H-MedS120-Simvastatin (Simvastatin)",
          "DT4H-MedCO170-Heparin sodium (Heparin sodium)",
          "DT4H-MedCO157-Low molecular weight heparin (Low molecular weight heparin)",
          "DT4H-MedD226-Hydrochlorothiazide (Hydrochlorothiazide)",
          "DT4H-MedRHY127-Topiramate (Topiramate)",
          "DT4H-MedBB135-Timolol maleate (Timolol maleate)",
          "DT4H-MedD111-acetazolamide (acetazolamide)",
          "DT4H-MedC111-Gabapentin (Gabapentin)",
          "DT4H-MedRHY124-Phenytoin (Phenytoin)",
          "DT4H-MedCO163-Enoxaparin (Enoxaparin)",
          "DT4H-MedD158-Spironolactone (Spironolactone)",
          "DT4H-MedC179-Amlodipine (Amlodipine)",
          "DT4H-MedM114-Spironolactone (Spironolactone)",
          "DT4H-MedCO158-Heparin (Heparin)",
          "DT4H-MedBB161-Atenolol (Atenolol)",
          "DT4H-MedRHY122-Lidocaine (Lidocaine)",
          "DT4H-MedR158-Enalapril (Enalapril)",
          "DT4H-MedA138-Enalapril (Enalapril)",
          "DT4H-MedD183-Furosemide (Furosemide)",
          "DT4H-MedL103-Furosemide (Furosemide)",
          "DT4H-MedD206-Furosemide (Furosemide)",
          "DT4H-Lab2-Ferritin (Ferritin)",
          "DT4H-Lab12-TriGly (Triacylglycerol )",
          "DT4H-MedCO217-Acenocoumarol (Acenocoumarol)",
          "DT4H-Lab13-CholTot (Cholesterol )",
          "DT4H-MedP154-aspirin (aspirin)",
          "DT4H-Lab18-GGT (Gamma-glutamyltransferase )",
          "DT4H-Lab17-Sodium (sodium)",
          "DT4H-MedD142-Urea (Urea)",
          "DT4H-Lab16-Potassium (Potassium)",
          "DT4H-Lab7-CRPnonhs (C-reactive protein )",
          "DT4H-Lab1-Hb (Hemoglobin)"
         ],
         "yaxis": "y"
        },
        {
         "alignmentgroup": "True",
         "hovertemplate": "semantic_rel=NOT_FOUND<br>Count=%{x}<br>Name=%{y}<extra></extra>",
         "legendgroup": "NOT_FOUND",
         "marker": {
          "color": "#EF553B",
          "pattern": {
           "shape": ""
          }
         },
         "name": "NOT_FOUND",
         "offsetgroup": "NOT_FOUND",
         "orientation": "h",
         "showlegend": true,
         "textposition": "auto",
         "type": "bar",
         "x": [
          0,
          0,
          0,
          0,
          0,
          0,
          0,
          0,
          0,
          0,
          0,
          0,
          0,
          0,
          0,
          0,
          0,
          0,
          0,
          0,
          0,
          0,
          0,
          0,
          0,
          0,
          0,
          0,
          0,
          0,
          0,
          0,
          0,
          0,
          0,
          0,
          0,
          0,
          0,
          0,
          0,
          0,
          0,
          0,
          0,
          0,
          0,
          0,
          0,
          0,
          0,
          0,
          0,
          0,
          0,
          0,
          0,
          0,
          0,
          0,
          0,
          0,
          0,
          0,
          0,
          0,
          0,
          0,
          0,
          0,
          0,
          0,
          0,
          0,
          0,
          0,
          0,
          0,
          0,
          0,
          0,
          0,
          0,
          0,
          0,
          0,
          0,
          0,
          0,
          0,
          0,
          0,
          0,
          0,
          0,
          0,
          0,
          0,
          0,
          0,
          0,
          0
         ],
         "xaxis": "x",
         "y": [
          "DT4H-MedC174-Lercanidipine (Lercanidipine)",
          "DT4H-MedCO145-Bemiparin (Bemiparin)",
          "DT4H-MedR153-Lisinopril (Lisinopril)",
          "DT4H-MedRHY121-Amiloride (Amiloride)",
          "DT4H-MedRHY120-Amiloride hydrochloride (Amiloride hydrochloride)",
          "DT4H-MedDG113-Digoxin (Digoxin)",
          "DT4H-MedBB121-Carvedilol (Carvedilol)",
          "DT4H-MedP129-Prasugrel (Prasugrel)",
          "DT4H-MedAR118-Olmesartan (Olmesartan)",
          "DT4H-MedAR127-Losartan potassium (Losartan potassium)",
          "DT4H-Lab14-HDL (High density lipoprotein )",
          "DT4H-MedC178-Nifedipine (Nifedipine)",
          "DT4H-MedCO149-Tinzaparin sodium (Tinzaparin sodium)",
          "DT4H-MedCO152-Lepirudin (Lepirudin)",
          "DT4H-MedR118-Olmesartan (Olmesartan)",
          "DT4H-MedD207-Indapamide (Indapamide)",
          "DT4H-MedA133-Lisinopril (Lisinopril)",
          "DT4H-Lab5-BNP (Brain natriuretic peptide )",
          "DT4H-MedP148-triflusal (triflusal)",
          "DT4H-MedR11-Substance with angiotensin II receptor antagonist mechanism of action  (Substance with angiotensin II receptor antagonist mechanism of action )",
          "DT4H-MedP161-epoprostenol sodium (epoprostenol sodium)",
          "DT4H-MedR127-Losartan potassium (Losartan potassium)",
          "DT4H-MedD156-Amiloride hydrochloride (Amiloride hydrochloride)",
          "DT4H-MedD157-Amiloride (Amiloride)",
          "DT4H-MedC145-Verapamil hydrochloride (Verapamil hydrochloride)",
          "DT4H-MedC170-Barnidipine (Barnidipine)",
          "DT4H-MedBB117-Nadolol (Nadolol)",
          "DT4H-MedBB166-Metoprolol (Metoprolol)",
          "DT4H-MedS121-Pravastatin (Pravastatin)",
          "DT4H-MedR154-Ramipril (Ramipril)",
          "DT4H-MedP132-Clopidogrel (Clopidogrel)",
          "DT4H-MedCO137-Rivaroxaban (Rivaroxaban)",
          "DT4H-MedV115-Isosorbide mononitrate (Isosorbide mononitrate)",
          "DT4H-MedA134-Ramipril (Ramipril)",
          "DT4H-MedS127-Lovastatin (Lovastatin)",
          "DT4H-MedD208-Chlortalidone (Chlortalidone)",
          "DT4H-MedBB128-Propranolol (Propranolol)",
          "DT4H-MedA130-Captopril (Captopril)",
          "DT4H-MedAR1-Angiotensin receptor blocker ( Substance with angiotensin II receptor antagonist mechanism of action )",
          "DT4H-MedAR1-ANGIOTENSIN RECEPTOR BLOCKER (ANGIOTENSIN RECEPTOR BLOCKER)",
          "DT4H-MedR152-Quinapril (Quinapril)",
          "DT4H-MedR150-Captopril (Captopril)",
          "DT4H-MedCO220-Warfarin (Warfarin)",
          "DT4H-MedA132-Quinapril (Quinapril)",
          "DT4H-MedL1-LOOP DIURETIC (LOOP DIURETIC)",
          "DT4H-MedD184-Chlortalidone (Chlortalidone)",
          "DT4H-MedL1-Loop diuretics (Loop diuretic )",
          "DT4H-MedCO133-Dabigatran (Dabigatran)",
          "DT4H-MedAR125-Candesartan (Candesartan)",
          "DT4H-MedR122-Irbesartan (Irbesartan)",
          "DT4H-MedC143-Verapamil (Verapamil)",
          "DT4H-MedBB164-Bisoprolol (Bisoprolol)",
          "DT4H-Lab9-TropInhs (Troponin I )",
          "DT4H-Lab25-HbA1c ( Hemoglobin A1c )",
          "DT4H-MedR125-Candesartan (Candesartan)",
          "DT4H-Lab8-TropIhs (Troponin I )",
          "DT4H-MedAR122-Irbesartan (Irbesartan)",
          "DT4H-MedAR124-Losartan (Losartan)",
          "DT4H-MedCO235-Protein C (Protein C)",
          "DT4H-MedR124-Losartan (Losartan)",
          "DT4H-MedBB127-Timolol (Timolol)",
          "DT4H-MedD22-Thiazide diuretic (Thiazide diuretic)",
          "DT4H-MedRHY126-Oxcarbazepine (Oxcarbazepine)",
          "DT4H-MedL105-Torasemide (Torasemide)",
          "DT4H-MedCO219-Coumarin anticoagulant (Coumarin anticoagulant)",
          "DT4H-MedD187-Torasemide (Torasemide)",
          "DT4H-MedD121-tolvaptan (tolvaptan)",
          "DT4H-MedS122-Atorvastatin (Atorvastatin)",
          "DT4H-MedBB129-Labetalol (Labetalol)",
          "DT4H-MedV112-Nitroglycerin (Nitroglycerin)",
          "DT4H-MedCO157-Low molecular weight heparin (Low molecular weight heparin)",
          "DT4H-MedS120-Simvastatin (Simvastatin)",
          "DT4H-MedCO170-Heparin sodium (Heparin sodium)",
          "DT4H-MedRHY127-Topiramate (Topiramate)",
          "DT4H-MedD226-Hydrochlorothiazide (Hydrochlorothiazide)",
          "DT4H-MedBB135-Timolol maleate (Timolol maleate)",
          "DT4H-MedD111-acetazolamide (acetazolamide)",
          "DT4H-MedC111-Gabapentin (Gabapentin)",
          "DT4H-MedRHY124-Phenytoin (Phenytoin)",
          "DT4H-MedCO163-Enoxaparin (Enoxaparin)",
          "DT4H-MedD158-Spironolactone (Spironolactone)",
          "DT4H-MedC179-Amlodipine (Amlodipine)",
          "DT4H-MedM114-Spironolactone (Spironolactone)",
          "DT4H-MedBB161-Atenolol (Atenolol)",
          "DT4H-MedCO158-Heparin (Heparin)",
          "DT4H-MedRHY122-Lidocaine (Lidocaine)",
          "DT4H-MedA138-Enalapril (Enalapril)",
          "DT4H-MedR158-Enalapril (Enalapril)",
          "DT4H-MedL103-Furosemide (Furosemide)",
          "DT4H-MedD183-Furosemide (Furosemide)",
          "DT4H-MedD206-Furosemide (Furosemide)",
          "DT4H-Lab2-Ferritin (Ferritin)",
          "DT4H-Lab12-TriGly (Triacylglycerol )",
          "DT4H-MedCO217-Acenocoumarol (Acenocoumarol)",
          "DT4H-Lab13-CholTot (Cholesterol )",
          "DT4H-MedP154-aspirin (aspirin)",
          "DT4H-Lab18-GGT (Gamma-glutamyltransferase )",
          "DT4H-Lab17-Sodium (sodium)",
          "DT4H-MedD142-Urea (Urea)",
          "DT4H-Lab16-Potassium (Potassium)",
          "DT4H-Lab7-CRPnonhs (C-reactive protein )",
          "DT4H-Lab1-Hb (Hemoglobin)"
         ],
         "yaxis": "y"
        }
       ],
       "layout": {
        "barmode": "relative",
        "height": 600,
        "legend": {
         "title": {
          "text": "semantic_rel"
         },
         "tracegroupgap": 0
        },
        "template": {
         "data": {
          "bar": [
           {
            "error_x": {
             "color": "#2a3f5f"
            },
            "error_y": {
             "color": "#2a3f5f"
            },
            "marker": {
             "line": {
              "color": "#E5ECF6",
              "width": 0.5
             },
             "pattern": {
              "fillmode": "overlay",
              "size": 10,
              "solidity": 0.2
             }
            },
            "type": "bar"
           }
          ],
          "barpolar": [
           {
            "marker": {
             "line": {
              "color": "#E5ECF6",
              "width": 0.5
             },
             "pattern": {
              "fillmode": "overlay",
              "size": 10,
              "solidity": 0.2
             }
            },
            "type": "barpolar"
           }
          ],
          "carpet": [
           {
            "aaxis": {
             "endlinecolor": "#2a3f5f",
             "gridcolor": "white",
             "linecolor": "white",
             "minorgridcolor": "white",
             "startlinecolor": "#2a3f5f"
            },
            "baxis": {
             "endlinecolor": "#2a3f5f",
             "gridcolor": "white",
             "linecolor": "white",
             "minorgridcolor": "white",
             "startlinecolor": "#2a3f5f"
            },
            "type": "carpet"
           }
          ],
          "choropleth": [
           {
            "colorbar": {
             "outlinewidth": 0,
             "ticks": ""
            },
            "type": "choropleth"
           }
          ],
          "contour": [
           {
            "colorbar": {
             "outlinewidth": 0,
             "ticks": ""
            },
            "colorscale": [
             [
              0,
              "#0d0887"
             ],
             [
              0.1111111111111111,
              "#46039f"
             ],
             [
              0.2222222222222222,
              "#7201a8"
             ],
             [
              0.3333333333333333,
              "#9c179e"
             ],
             [
              0.4444444444444444,
              "#bd3786"
             ],
             [
              0.5555555555555556,
              "#d8576b"
             ],
             [
              0.6666666666666666,
              "#ed7953"
             ],
             [
              0.7777777777777778,
              "#fb9f3a"
             ],
             [
              0.8888888888888888,
              "#fdca26"
             ],
             [
              1,
              "#f0f921"
             ]
            ],
            "type": "contour"
           }
          ],
          "contourcarpet": [
           {
            "colorbar": {
             "outlinewidth": 0,
             "ticks": ""
            },
            "type": "contourcarpet"
           }
          ],
          "heatmap": [
           {
            "colorbar": {
             "outlinewidth": 0,
             "ticks": ""
            },
            "colorscale": [
             [
              0,
              "#0d0887"
             ],
             [
              0.1111111111111111,
              "#46039f"
             ],
             [
              0.2222222222222222,
              "#7201a8"
             ],
             [
              0.3333333333333333,
              "#9c179e"
             ],
             [
              0.4444444444444444,
              "#bd3786"
             ],
             [
              0.5555555555555556,
              "#d8576b"
             ],
             [
              0.6666666666666666,
              "#ed7953"
             ],
             [
              0.7777777777777778,
              "#fb9f3a"
             ],
             [
              0.8888888888888888,
              "#fdca26"
             ],
             [
              1,
              "#f0f921"
             ]
            ],
            "type": "heatmap"
           }
          ],
          "heatmapgl": [
           {
            "colorbar": {
             "outlinewidth": 0,
             "ticks": ""
            },
            "colorscale": [
             [
              0,
              "#0d0887"
             ],
             [
              0.1111111111111111,
              "#46039f"
             ],
             [
              0.2222222222222222,
              "#7201a8"
             ],
             [
              0.3333333333333333,
              "#9c179e"
             ],
             [
              0.4444444444444444,
              "#bd3786"
             ],
             [
              0.5555555555555556,
              "#d8576b"
             ],
             [
              0.6666666666666666,
              "#ed7953"
             ],
             [
              0.7777777777777778,
              "#fb9f3a"
             ],
             [
              0.8888888888888888,
              "#fdca26"
             ],
             [
              1,
              "#f0f921"
             ]
            ],
            "type": "heatmapgl"
           }
          ],
          "histogram": [
           {
            "marker": {
             "pattern": {
              "fillmode": "overlay",
              "size": 10,
              "solidity": 0.2
             }
            },
            "type": "histogram"
           }
          ],
          "histogram2d": [
           {
            "colorbar": {
             "outlinewidth": 0,
             "ticks": ""
            },
            "colorscale": [
             [
              0,
              "#0d0887"
             ],
             [
              0.1111111111111111,
              "#46039f"
             ],
             [
              0.2222222222222222,
              "#7201a8"
             ],
             [
              0.3333333333333333,
              "#9c179e"
             ],
             [
              0.4444444444444444,
              "#bd3786"
             ],
             [
              0.5555555555555556,
              "#d8576b"
             ],
             [
              0.6666666666666666,
              "#ed7953"
             ],
             [
              0.7777777777777778,
              "#fb9f3a"
             ],
             [
              0.8888888888888888,
              "#fdca26"
             ],
             [
              1,
              "#f0f921"
             ]
            ],
            "type": "histogram2d"
           }
          ],
          "histogram2dcontour": [
           {
            "colorbar": {
             "outlinewidth": 0,
             "ticks": ""
            },
            "colorscale": [
             [
              0,
              "#0d0887"
             ],
             [
              0.1111111111111111,
              "#46039f"
             ],
             [
              0.2222222222222222,
              "#7201a8"
             ],
             [
              0.3333333333333333,
              "#9c179e"
             ],
             [
              0.4444444444444444,
              "#bd3786"
             ],
             [
              0.5555555555555556,
              "#d8576b"
             ],
             [
              0.6666666666666666,
              "#ed7953"
             ],
             [
              0.7777777777777778,
              "#fb9f3a"
             ],
             [
              0.8888888888888888,
              "#fdca26"
             ],
             [
              1,
              "#f0f921"
             ]
            ],
            "type": "histogram2dcontour"
           }
          ],
          "mesh3d": [
           {
            "colorbar": {
             "outlinewidth": 0,
             "ticks": ""
            },
            "type": "mesh3d"
           }
          ],
          "parcoords": [
           {
            "line": {
             "colorbar": {
              "outlinewidth": 0,
              "ticks": ""
             }
            },
            "type": "parcoords"
           }
          ],
          "pie": [
           {
            "automargin": true,
            "type": "pie"
           }
          ],
          "scatter": [
           {
            "fillpattern": {
             "fillmode": "overlay",
             "size": 10,
             "solidity": 0.2
            },
            "type": "scatter"
           }
          ],
          "scatter3d": [
           {
            "line": {
             "colorbar": {
              "outlinewidth": 0,
              "ticks": ""
             }
            },
            "marker": {
             "colorbar": {
              "outlinewidth": 0,
              "ticks": ""
             }
            },
            "type": "scatter3d"
           }
          ],
          "scattercarpet": [
           {
            "marker": {
             "colorbar": {
              "outlinewidth": 0,
              "ticks": ""
             }
            },
            "type": "scattercarpet"
           }
          ],
          "scattergeo": [
           {
            "marker": {
             "colorbar": {
              "outlinewidth": 0,
              "ticks": ""
             }
            },
            "type": "scattergeo"
           }
          ],
          "scattergl": [
           {
            "marker": {
             "colorbar": {
              "outlinewidth": 0,
              "ticks": ""
             }
            },
            "type": "scattergl"
           }
          ],
          "scattermapbox": [
           {
            "marker": {
             "colorbar": {
              "outlinewidth": 0,
              "ticks": ""
             }
            },
            "type": "scattermapbox"
           }
          ],
          "scatterpolar": [
           {
            "marker": {
             "colorbar": {
              "outlinewidth": 0,
              "ticks": ""
             }
            },
            "type": "scatterpolar"
           }
          ],
          "scatterpolargl": [
           {
            "marker": {
             "colorbar": {
              "outlinewidth": 0,
              "ticks": ""
             }
            },
            "type": "scatterpolargl"
           }
          ],
          "scatterternary": [
           {
            "marker": {
             "colorbar": {
              "outlinewidth": 0,
              "ticks": ""
             }
            },
            "type": "scatterternary"
           }
          ],
          "surface": [
           {
            "colorbar": {
             "outlinewidth": 0,
             "ticks": ""
            },
            "colorscale": [
             [
              0,
              "#0d0887"
             ],
             [
              0.1111111111111111,
              "#46039f"
             ],
             [
              0.2222222222222222,
              "#7201a8"
             ],
             [
              0.3333333333333333,
              "#9c179e"
             ],
             [
              0.4444444444444444,
              "#bd3786"
             ],
             [
              0.5555555555555556,
              "#d8576b"
             ],
             [
              0.6666666666666666,
              "#ed7953"
             ],
             [
              0.7777777777777778,
              "#fb9f3a"
             ],
             [
              0.8888888888888888,
              "#fdca26"
             ],
             [
              1,
              "#f0f921"
             ]
            ],
            "type": "surface"
           }
          ],
          "table": [
           {
            "cells": {
             "fill": {
              "color": "#EBF0F8"
             },
             "line": {
              "color": "white"
             }
            },
            "header": {
             "fill": {
              "color": "#C8D4E3"
             },
             "line": {
              "color": "white"
             }
            },
            "type": "table"
           }
          ]
         },
         "layout": {
          "annotationdefaults": {
           "arrowcolor": "#2a3f5f",
           "arrowhead": 0,
           "arrowwidth": 1
          },
          "autotypenumbers": "strict",
          "coloraxis": {
           "colorbar": {
            "outlinewidth": 0,
            "ticks": ""
           }
          },
          "colorscale": {
           "diverging": [
            [
             0,
             "#8e0152"
            ],
            [
             0.1,
             "#c51b7d"
            ],
            [
             0.2,
             "#de77ae"
            ],
            [
             0.3,
             "#f1b6da"
            ],
            [
             0.4,
             "#fde0ef"
            ],
            [
             0.5,
             "#f7f7f7"
            ],
            [
             0.6,
             "#e6f5d0"
            ],
            [
             0.7,
             "#b8e186"
            ],
            [
             0.8,
             "#7fbc41"
            ],
            [
             0.9,
             "#4d9221"
            ],
            [
             1,
             "#276419"
            ]
           ],
           "sequential": [
            [
             0,
             "#0d0887"
            ],
            [
             0.1111111111111111,
             "#46039f"
            ],
            [
             0.2222222222222222,
             "#7201a8"
            ],
            [
             0.3333333333333333,
             "#9c179e"
            ],
            [
             0.4444444444444444,
             "#bd3786"
            ],
            [
             0.5555555555555556,
             "#d8576b"
            ],
            [
             0.6666666666666666,
             "#ed7953"
            ],
            [
             0.7777777777777778,
             "#fb9f3a"
            ],
            [
             0.8888888888888888,
             "#fdca26"
            ],
            [
             1,
             "#f0f921"
            ]
           ],
           "sequentialminus": [
            [
             0,
             "#0d0887"
            ],
            [
             0.1111111111111111,
             "#46039f"
            ],
            [
             0.2222222222222222,
             "#7201a8"
            ],
            [
             0.3333333333333333,
             "#9c179e"
            ],
            [
             0.4444444444444444,
             "#bd3786"
            ],
            [
             0.5555555555555556,
             "#d8576b"
            ],
            [
             0.6666666666666666,
             "#ed7953"
            ],
            [
             0.7777777777777778,
             "#fb9f3a"
            ],
            [
             0.8888888888888888,
             "#fdca26"
            ],
            [
             1,
             "#f0f921"
            ]
           ]
          },
          "colorway": [
           "#636efa",
           "#EF553B",
           "#00cc96",
           "#ab63fa",
           "#FFA15A",
           "#19d3f3",
           "#FF6692",
           "#B6E880",
           "#FF97FF",
           "#FECB52"
          ],
          "font": {
           "color": "#2a3f5f"
          },
          "geo": {
           "bgcolor": "white",
           "lakecolor": "white",
           "landcolor": "#E5ECF6",
           "showlakes": true,
           "showland": true,
           "subunitcolor": "white"
          },
          "hoverlabel": {
           "align": "left"
          },
          "hovermode": "closest",
          "mapbox": {
           "style": "light"
          },
          "paper_bgcolor": "white",
          "plot_bgcolor": "#E5ECF6",
          "polar": {
           "angularaxis": {
            "gridcolor": "white",
            "linecolor": "white",
            "ticks": ""
           },
           "bgcolor": "#E5ECF6",
           "radialaxis": {
            "gridcolor": "white",
            "linecolor": "white",
            "ticks": ""
           }
          },
          "scene": {
           "xaxis": {
            "backgroundcolor": "#E5ECF6",
            "gridcolor": "white",
            "gridwidth": 2,
            "linecolor": "white",
            "showbackground": true,
            "ticks": "",
            "zerolinecolor": "white"
           },
           "yaxis": {
            "backgroundcolor": "#E5ECF6",
            "gridcolor": "white",
            "gridwidth": 2,
            "linecolor": "white",
            "showbackground": true,
            "ticks": "",
            "zerolinecolor": "white"
           },
           "zaxis": {
            "backgroundcolor": "#E5ECF6",
            "gridcolor": "white",
            "gridwidth": 2,
            "linecolor": "white",
            "showbackground": true,
            "ticks": "",
            "zerolinecolor": "white"
           }
          },
          "shapedefaults": {
           "line": {
            "color": "#2a3f5f"
           }
          },
          "ternary": {
           "aaxis": {
            "gridcolor": "white",
            "linecolor": "white",
            "ticks": ""
           },
           "baxis": {
            "gridcolor": "white",
            "linecolor": "white",
            "ticks": ""
           },
           "bgcolor": "#E5ECF6",
           "caxis": {
            "gridcolor": "white",
            "linecolor": "white",
            "ticks": ""
           }
          },
          "title": {
           "x": 0.05
          },
          "xaxis": {
           "automargin": true,
           "gridcolor": "white",
           "linecolor": "white",
           "ticks": "",
           "title": {
            "standoff": 15
           },
           "zerolinecolor": "white",
           "zerolinewidth": 2
          },
          "yaxis": {
           "automargin": true,
           "gridcolor": "white",
           "linecolor": "white",
           "ticks": "",
           "title": {
            "standoff": 15
           },
           "zerolinecolor": "white",
           "zerolinewidth": 2
          }
         }
        },
        "title": {
         "text": "Codes by Semantic Relationship [Variable Name (SNOMED term)] <Zoom 25 out of 102 terms; zoom out to see all>"
        },
        "xaxis": {
         "anchor": "y",
         "domain": [
          0,
          1
         ],
         "title": {
          "text": "Count"
         }
        },
        "yaxis": {
         "anchor": "x",
         "domain": [
          0,
          1
         ],
         "dtick": 1,
         "range": [
          77,
          102
         ],
         "tickmode": "linear",
         "title": {
          "text": "Name"
         }
        }
       }
      }
     },
     "metadata": {},
     "output_type": "display_data"
    },
    {
     "data": {
      "application/vnd.plotly.v1+json": {
       "config": {
        "plotlyServerURL": "https://plot.ly"
       },
       "data": [
        {
         "alignmentgroup": "True",
         "hovertemplate": "span=Prasugrel<br>Count=%{x}<br>Name=%{y}<extra></extra>",
         "legendgroup": "Prasugrel",
         "marker": {
          "color": "#636efa",
          "pattern": {
           "shape": ""
          }
         },
         "name": "Prasugrel",
         "offsetgroup": "Prasugrel",
         "orientation": "h",
         "showlegend": true,
         "textposition": "auto",
         "type": "bar",
         "x": [
          1
         ],
         "xaxis": "x",
         "y": [
          "DT4H-MedP129-Prasugrel (Prasugrel)"
         ],
         "yaxis": "y"
        },
        {
         "alignmentgroup": "True",
         "hovertemplate": "span=digoxina<br>Count=%{x}<br>Name=%{y}<extra></extra>",
         "legendgroup": "digoxina",
         "marker": {
          "color": "#EF553B",
          "pattern": {
           "shape": ""
          }
         },
         "name": "digoxina",
         "offsetgroup": "digoxina",
         "orientation": "h",
         "showlegend": true,
         "textposition": "auto",
         "type": "bar",
         "x": [
          1
         ],
         "xaxis": "x",
         "y": [
          "DT4H-MedDG113-Digoxin (Digoxin)"
         ],
         "yaxis": "y"
        },
        {
         "alignmentgroup": "True",
         "hovertemplate": "span=carvedilol<br>Count=%{x}<br>Name=%{y}<extra></extra>",
         "legendgroup": "carvedilol",
         "marker": {
          "color": "#00cc96",
          "pattern": {
           "shape": ""
          }
         },
         "name": "carvedilol",
         "offsetgroup": "carvedilol",
         "orientation": "h",
         "showlegend": true,
         "textposition": "auto",
         "type": "bar",
         "x": [
          1
         ],
         "xaxis": "x",
         "y": [
          "DT4H-MedBB121-Carvedilol (Carvedilol)"
         ],
         "yaxis": "y"
        },
        {
         "alignmentgroup": "True",
         "hovertemplate": "span=olmesartan<br>Count=%{x}<br>Name=%{y}<extra></extra>",
         "legendgroup": "olmesartan",
         "marker": {
          "color": "#ab63fa",
          "pattern": {
           "shape": ""
          }
         },
         "name": "olmesartan",
         "offsetgroup": "olmesartan",
         "orientation": "h",
         "showlegend": true,
         "textposition": "auto",
         "type": "bar",
         "x": [
          1,
          1
         ],
         "xaxis": "x",
         "y": [
          "DT4H-MedAR118-Olmesartan (Olmesartan)",
          "DT4H-MedR118-Olmesartan (Olmesartan)"
         ],
         "yaxis": "y"
        },
        {
         "alignmentgroup": "True",
         "hovertemplate": "span=losartán postásico<br>Count=%{x}<br>Name=%{y}<extra></extra>",
         "legendgroup": "losartán postásico",
         "marker": {
          "color": "#FFA15A",
          "pattern": {
           "shape": ""
          }
         },
         "name": "losartán postásico",
         "offsetgroup": "losartán postásico",
         "orientation": "h",
         "showlegend": true,
         "textposition": "auto",
         "type": "bar",
         "x": [
          1,
          1
         ],
         "xaxis": "x",
         "y": [
          "DT4H-MedAR127-Losartan potassium (Losartan potassium)",
          "DT4H-MedR127-Losartan potassium (Losartan potassium)"
         ],
         "yaxis": "y"
        },
        {
         "alignmentgroup": "True",
         "hovertemplate": "span=lipoproteínas de alta densidad<br>Count=%{x}<br>Name=%{y}<extra></extra>",
         "legendgroup": "lipoproteínas de alta densidad",
         "marker": {
          "color": "#19d3f3",
          "pattern": {
           "shape": ""
          }
         },
         "name": "lipoproteínas de alta densidad",
         "offsetgroup": "lipoproteínas de alta densidad",
         "orientation": "h",
         "showlegend": true,
         "textposition": "auto",
         "type": "bar",
         "x": [
          1
         ],
         "xaxis": "x",
         "y": [
          "DT4H-Lab14-HDL (High density lipoprotein )"
         ],
         "yaxis": "y"
        },
        {
         "alignmentgroup": "True",
         "hovertemplate": "span=barnidipino<br>Count=%{x}<br>Name=%{y}<extra></extra>",
         "legendgroup": "barnidipino",
         "marker": {
          "color": "#FF6692",
          "pattern": {
           "shape": ""
          }
         },
         "name": "barnidipino",
         "offsetgroup": "barnidipino",
         "orientation": "h",
         "showlegend": true,
         "textposition": "auto",
         "type": "bar",
         "x": [
          1
         ],
         "xaxis": "x",
         "y": [
          "DT4H-MedC170-Barnidipine (Barnidipine)"
         ],
         "yaxis": "y"
        },
        {
         "alignmentgroup": "True",
         "hovertemplate": "span=Manidon retard<br>Count=%{x}<br>Name=%{y}<extra></extra>",
         "legendgroup": "Manidon retard",
         "marker": {
          "color": "#B6E880",
          "pattern": {
           "shape": ""
          }
         },
         "name": "Manidon retard",
         "offsetgroup": "Manidon retard",
         "orientation": "h",
         "showlegend": true,
         "textposition": "auto",
         "type": "bar",
         "x": [
          1
         ],
         "xaxis": "x",
         "y": [
          "DT4H-MedC145-Verapamil hydrochloride (Verapamil hydrochloride)"
         ],
         "yaxis": "y"
        },
        {
         "alignmentgroup": "True",
         "hovertemplate": "span=lercanidipino<br>Count=%{x}<br>Name=%{y}<extra></extra>",
         "legendgroup": "lercanidipino",
         "marker": {
          "color": "#FF97FF",
          "pattern": {
           "shape": ""
          }
         },
         "name": "lercanidipino",
         "offsetgroup": "lercanidipino",
         "orientation": "h",
         "showlegend": true,
         "textposition": "auto",
         "type": "bar",
         "x": [
          1
         ],
         "xaxis": "x",
         "y": [
          "DT4H-MedC174-Lercanidipine (Lercanidipine)"
         ],
         "yaxis": "y"
        },
        {
         "alignmentgroup": "True",
         "hovertemplate": "span=nifedipina<br>Count=%{x}<br>Name=%{y}<extra></extra>",
         "legendgroup": "nifedipina",
         "marker": {
          "color": "#FECB52",
          "pattern": {
           "shape": ""
          }
         },
         "name": "nifedipina",
         "offsetgroup": "nifedipina",
         "orientation": "h",
         "showlegend": true,
         "textposition": "auto",
         "type": "bar",
         "x": [
          1
         ],
         "xaxis": "x",
         "y": [
          "DT4H-MedC178-Nifedipine (Nifedipine)"
         ],
         "yaxis": "y"
        },
        {
         "alignmentgroup": "True",
         "hovertemplate": "span=amiloride<br>Count=%{x}<br>Name=%{y}<extra></extra>",
         "legendgroup": "amiloride",
         "marker": {
          "color": "#636efa",
          "pattern": {
           "shape": ""
          }
         },
         "name": "amiloride",
         "offsetgroup": "amiloride",
         "orientation": "h",
         "showlegend": true,
         "textposition": "auto",
         "type": "bar",
         "x": [
          1,
          1
         ],
         "xaxis": "x",
         "y": [
          "DT4H-MedD157-Amiloride (Amiloride)",
          "DT4H-MedRHY121-Amiloride (Amiloride)"
         ],
         "yaxis": "y"
        },
        {
         "alignmentgroup": "True",
         "hovertemplate": "span=Ameride<br>Count=%{x}<br>Name=%{y}<extra></extra>",
         "legendgroup": "Ameride",
         "marker": {
          "color": "#EF553B",
          "pattern": {
           "shape": ""
          }
         },
         "name": "Ameride",
         "offsetgroup": "Ameride",
         "orientation": "h",
         "showlegend": true,
         "textposition": "auto",
         "type": "bar",
         "x": [
          1,
          1
         ],
         "xaxis": "x",
         "y": [
          "DT4H-MedD156-Amiloride hydrochloride (Amiloride hydrochloride)",
          "DT4H-MedRHY120-Amiloride hydrochloride (Amiloride hydrochloride)"
         ],
         "yaxis": "y"
        },
        {
         "alignmentgroup": "True",
         "hovertemplate": "span=indapamida<br>Count=%{x}<br>Name=%{y}<extra></extra>",
         "legendgroup": "indapamida",
         "marker": {
          "color": "#00cc96",
          "pattern": {
           "shape": ""
          }
         },
         "name": "indapamida",
         "offsetgroup": "indapamida",
         "orientation": "h",
         "showlegend": true,
         "textposition": "auto",
         "type": "bar",
         "x": [
          1
         ],
         "xaxis": "x",
         "y": [
          "DT4H-MedD207-Indapamide (Indapamide)"
         ],
         "yaxis": "y"
        },
        {
         "alignmentgroup": "True",
         "hovertemplate": "span=ARA II<br>Count=%{x}<br>Name=%{y}<extra></extra>",
         "legendgroup": "ARA II",
         "marker": {
          "color": "#ab63fa",
          "pattern": {
           "shape": ""
          }
         },
         "name": "ARA II",
         "offsetgroup": "ARA II",
         "orientation": "h",
         "showlegend": true,
         "textposition": "auto",
         "type": "bar",
         "x": [
          1,
          1,
          1
         ],
         "xaxis": "x",
         "y": [
          "DT4H-MedR11-Substance with angiotensin II receptor antagonist mechanism of action  (Substance with angiotensin II receptor antagonist mechanism of action )",
          "DT4H-MedAR1-Angiotensin receptor blocker ( Substance with angiotensin II receptor antagonist mechanism of action )",
          "DT4H-MedAR1-ANGIOTENSIN RECEPTOR BLOCKER (ANGIOTENSIN RECEPTOR BLOCKER)"
         ],
         "yaxis": "y"
        },
        {
         "alignmentgroup": "True",
         "hovertemplate": "span=trifusal<br>Count=%{x}<br>Name=%{y}<extra></extra>",
         "legendgroup": "trifusal",
         "marker": {
          "color": "#FFA15A",
          "pattern": {
           "shape": ""
          }
         },
         "name": "trifusal",
         "offsetgroup": "trifusal",
         "orientation": "h",
         "showlegend": true,
         "textposition": "auto",
         "type": "bar",
         "x": [
          1
         ],
         "xaxis": "x",
         "y": [
          "DT4H-MedP148-triflusal (triflusal)"
         ],
         "yaxis": "y"
        },
        {
         "alignmentgroup": "True",
         "hovertemplate": "span=lisinopril<br>Count=%{x}<br>Name=%{y}<extra></extra>",
         "legendgroup": "lisinopril",
         "marker": {
          "color": "#19d3f3",
          "pattern": {
           "shape": ""
          }
         },
         "name": "lisinopril",
         "offsetgroup": "lisinopril",
         "orientation": "h",
         "showlegend": true,
         "textposition": "auto",
         "type": "bar",
         "x": [
          1,
          1
         ],
         "xaxis": "x",
         "y": [
          "DT4H-MedA133-Lisinopril (Lisinopril)",
          "DT4H-MedR153-Lisinopril (Lisinopril)"
         ],
         "yaxis": "y"
        },
        {
         "alignmentgroup": "True",
         "hovertemplate": "span=Péptido natriurético tipo B<br>Count=%{x}<br>Name=%{y}<extra></extra>",
         "legendgroup": "Péptido natriurético tipo B",
         "marker": {
          "color": "#FF6692",
          "pattern": {
           "shape": ""
          }
         },
         "name": "Péptido natriurético tipo B",
         "offsetgroup": "Péptido natriurético tipo B",
         "orientation": "h",
         "showlegend": true,
         "textposition": "auto",
         "type": "bar",
         "x": [
          1
         ],
         "xaxis": "x",
         "y": [
          "DT4H-Lab5-BNP (Brain natriuretic peptide )"
         ],
         "yaxis": "y"
        },
        {
         "alignmentgroup": "True",
         "hovertemplate": "span=epoprostenol sódico<br>Count=%{x}<br>Name=%{y}<extra></extra>",
         "legendgroup": "epoprostenol sódico",
         "marker": {
          "color": "#B6E880",
          "pattern": {
           "shape": ""
          }
         },
         "name": "epoprostenol sódico",
         "offsetgroup": "epoprostenol sódico",
         "orientation": "h",
         "showlegend": true,
         "textposition": "auto",
         "type": "bar",
         "x": [
          1
         ],
         "xaxis": "x",
         "y": [
          "DT4H-MedP161-epoprostenol sodium (epoprostenol sodium)"
         ],
         "yaxis": "y"
        },
        {
         "alignmentgroup": "True",
         "hovertemplate": "span=lepirudina<br>Count=%{x}<br>Name=%{y}<extra></extra>",
         "legendgroup": "lepirudina",
         "marker": {
          "color": "#FF97FF",
          "pattern": {
           "shape": ""
          }
         },
         "name": "lepirudina",
         "offsetgroup": "lepirudina",
         "orientation": "h",
         "showlegend": true,
         "textposition": "auto",
         "type": "bar",
         "x": [
          1
         ],
         "xaxis": "x",
         "y": [
          "DT4H-MedCO152-Lepirudin (Lepirudin)"
         ],
         "yaxis": "y"
        },
        {
         "alignmentgroup": "True",
         "hovertemplate": "span=Tinzapaina sódica<br>Count=%{x}<br>Name=%{y}<extra></extra>",
         "legendgroup": "Tinzapaina sódica",
         "marker": {
          "color": "#FECB52",
          "pattern": {
           "shape": ""
          }
         },
         "name": "Tinzapaina sódica",
         "offsetgroup": "Tinzapaina sódica",
         "orientation": "h",
         "showlegend": true,
         "textposition": "auto",
         "type": "bar",
         "x": [
          1
         ],
         "xaxis": "x",
         "y": [
          "DT4H-MedCO149-Tinzaparin sodium (Tinzaparin sodium)"
         ],
         "yaxis": "y"
        },
        {
         "alignmentgroup": "True",
         "hovertemplate": "span=bemiparina<br>Count=%{x}<br>Name=%{y}<extra></extra>",
         "legendgroup": "bemiparina",
         "marker": {
          "color": "#636efa",
          "pattern": {
           "shape": ""
          }
         },
         "name": "bemiparina",
         "offsetgroup": "bemiparina",
         "orientation": "h",
         "showlegend": true,
         "textposition": "auto",
         "type": "bar",
         "x": [
          1
         ],
         "xaxis": "x",
         "y": [
          "DT4H-MedCO145-Bemiparin (Bemiparin)"
         ],
         "yaxis": "y"
        },
        {
         "alignmentgroup": "True",
         "hovertemplate": "span=Rivaroxabán<br>Count=%{x}<br>Name=%{y}<extra></extra>",
         "legendgroup": "Rivaroxabán",
         "marker": {
          "color": "#EF553B",
          "pattern": {
           "shape": ""
          }
         },
         "name": "Rivaroxabán",
         "offsetgroup": "Rivaroxabán",
         "orientation": "h",
         "showlegend": true,
         "textposition": "auto",
         "type": "bar",
         "x": [
          2
         ],
         "xaxis": "x",
         "y": [
          "DT4H-MedCO137-Rivaroxaban (Rivaroxaban)"
         ],
         "yaxis": "y"
        },
        {
         "alignmentgroup": "True",
         "hovertemplate": "span=captopril<br>Count=%{x}<br>Name=%{y}<extra></extra>",
         "legendgroup": "captopril",
         "marker": {
          "color": "#00cc96",
          "pattern": {
           "shape": ""
          }
         },
         "name": "captopril",
         "offsetgroup": "captopril",
         "orientation": "h",
         "showlegend": true,
         "textposition": "auto",
         "type": "bar",
         "x": [
          2,
          2
         ],
         "xaxis": "x",
         "y": [
          "DT4H-MedA130-Captopril (Captopril)",
          "DT4H-MedR150-Captopril (Captopril)"
         ],
         "yaxis": "y"
        },
        {
         "alignmentgroup": "True",
         "hovertemplate": "span=chlortalidona<br>Count=%{x}<br>Name=%{y}<extra></extra>",
         "legendgroup": "chlortalidona",
         "marker": {
          "color": "#ab63fa",
          "pattern": {
           "shape": ""
          }
         },
         "name": "chlortalidona",
         "offsetgroup": "chlortalidona",
         "orientation": "h",
         "showlegend": true,
         "textposition": "auto",
         "type": "bar",
         "x": [
          1,
          1
         ],
         "xaxis": "x",
         "y": [
          "DT4H-MedD208-Chlortalidone (Chlortalidone)",
          "DT4H-MedD184-Chlortalidone (Chlortalidone)"
         ],
         "yaxis": "y"
        },
        {
         "alignmentgroup": "True",
         "hovertemplate": "span=nadolol<br>Count=%{x}<br>Name=%{y}<extra></extra>",
         "legendgroup": "nadolol",
         "marker": {
          "color": "#FFA15A",
          "pattern": {
           "shape": ""
          }
         },
         "name": "nadolol",
         "offsetgroup": "nadolol",
         "orientation": "h",
         "showlegend": true,
         "textposition": "auto",
         "type": "bar",
         "x": [
          2
         ],
         "xaxis": "x",
         "y": [
          "DT4H-MedBB117-Nadolol (Nadolol)"
         ],
         "yaxis": "y"
        },
        {
         "alignmentgroup": "True",
         "hovertemplate": "span=pravastatina<br>Count=%{x}<br>Name=%{y}<extra></extra>",
         "legendgroup": "pravastatina",
         "marker": {
          "color": "#19d3f3",
          "pattern": {
           "shape": ""
          }
         },
         "name": "pravastatina",
         "offsetgroup": "pravastatina",
         "orientation": "h",
         "showlegend": true,
         "textposition": "auto",
         "type": "bar",
         "x": [
          2
         ],
         "xaxis": "x",
         "y": [
          "DT4H-MedS121-Pravastatin (Pravastatin)"
         ],
         "yaxis": "y"
        },
        {
         "alignmentgroup": "True",
         "hovertemplate": "span=ramipril<br>Count=%{x}<br>Name=%{y}<extra></extra>",
         "legendgroup": "ramipril",
         "marker": {
          "color": "#FF6692",
          "pattern": {
           "shape": ""
          }
         },
         "name": "ramipril",
         "offsetgroup": "ramipril",
         "orientation": "h",
         "showlegend": true,
         "textposition": "auto",
         "type": "bar",
         "x": [
          2,
          2
         ],
         "xaxis": "x",
         "y": [
          "DT4H-MedR154-Ramipril (Ramipril)",
          "DT4H-MedA134-Ramipril (Ramipril)"
         ],
         "yaxis": "y"
        },
        {
         "alignmentgroup": "True",
         "hovertemplate": "span=quinaprilo<br>Count=%{x}<br>Name=%{y}<extra></extra>",
         "legendgroup": "quinaprilo",
         "marker": {
          "color": "#B6E880",
          "pattern": {
           "shape": ""
          }
         },
         "name": "quinaprilo",
         "offsetgroup": "quinaprilo",
         "orientation": "h",
         "showlegend": true,
         "textposition": "auto",
         "type": "bar",
         "x": [
          1,
          1
         ],
         "xaxis": "x",
         "y": [
          "DT4H-MedA132-Quinapril (Quinapril)",
          "DT4H-MedR152-Quinapril (Quinapril)"
         ],
         "yaxis": "y"
        },
        {
         "alignmentgroup": "True",
         "hovertemplate": "span=AVK<br>Count=%{x}<br>Name=%{y}<extra></extra>",
         "legendgroup": "AVK",
         "marker": {
          "color": "#FF97FF",
          "pattern": {
           "shape": ""
          }
         },
         "name": "AVK",
         "offsetgroup": "AVK",
         "orientation": "h",
         "showlegend": true,
         "textposition": "auto",
         "type": "bar",
         "x": [
          1
         ],
         "xaxis": "x",
         "y": [
          "DT4H-MedCO220-Warfarin (Warfarin)"
         ],
         "yaxis": "y"
        },
        {
         "alignmentgroup": "True",
         "hovertemplate": "span=Acuprel<br>Count=%{x}<br>Name=%{y}<extra></extra>",
         "legendgroup": "Acuprel",
         "marker": {
          "color": "#FECB52",
          "pattern": {
           "shape": ""
          }
         },
         "name": "Acuprel",
         "offsetgroup": "Acuprel",
         "orientation": "h",
         "showlegend": true,
         "textposition": "auto",
         "type": "bar",
         "x": [
          1,
          1
         ],
         "xaxis": "x",
         "y": [
          "DT4H-MedR152-Quinapril (Quinapril)",
          "DT4H-MedA132-Quinapril (Quinapril)"
         ],
         "yaxis": "y"
        },
        {
         "alignmentgroup": "True",
         "hovertemplate": "span=dabigatran<br>Count=%{x}<br>Name=%{y}<extra></extra>",
         "legendgroup": "dabigatran",
         "marker": {
          "color": "#636efa",
          "pattern": {
           "shape": ""
          }
         },
         "name": "dabigatran",
         "offsetgroup": "dabigatran",
         "orientation": "h",
         "showlegend": true,
         "textposition": "auto",
         "type": "bar",
         "x": [
          1
         ],
         "xaxis": "x",
         "y": [
          "DT4H-MedCO133-Dabigatran (Dabigatran)"
         ],
         "yaxis": "y"
        },
        {
         "alignmentgroup": "True",
         "hovertemplate": "span=warfarina<br>Count=%{x}<br>Name=%{y}<extra></extra>",
         "legendgroup": "warfarina",
         "marker": {
          "color": "#EF553B",
          "pattern": {
           "shape": ""
          }
         },
         "name": "warfarina",
         "offsetgroup": "warfarina",
         "orientation": "h",
         "showlegend": true,
         "textposition": "auto",
         "type": "bar",
         "x": [
          1
         ],
         "xaxis": "x",
         "y": [
          "DT4H-MedCO220-Warfarin (Warfarin)"
         ],
         "yaxis": "y"
        },
        {
         "alignmentgroup": "True",
         "hovertemplate": "span=clortalidona<br>Count=%{x}<br>Name=%{y}<extra></extra>",
         "legendgroup": "clortalidona",
         "marker": {
          "color": "#00cc96",
          "pattern": {
           "shape": ""
          }
         },
         "name": "clortalidona",
         "offsetgroup": "clortalidona",
         "orientation": "h",
         "showlegend": true,
         "textposition": "auto",
         "type": "bar",
         "x": [
          1,
          1
         ],
         "xaxis": "x",
         "y": [
          "DT4H-MedD208-Chlortalidone (Chlortalidone)",
          "DT4H-MedD184-Chlortalidone (Chlortalidone)"
         ],
         "yaxis": "y"
        },
        {
         "alignmentgroup": "True",
         "hovertemplate": "span=Dabigatran<br>Count=%{x}<br>Name=%{y}<extra></extra>",
         "legendgroup": "Dabigatran",
         "marker": {
          "color": "#ab63fa",
          "pattern": {
           "shape": ""
          }
         },
         "name": "Dabigatran",
         "offsetgroup": "Dabigatran",
         "orientation": "h",
         "showlegend": true,
         "textposition": "auto",
         "type": "bar",
         "x": [
          1
         ],
         "xaxis": "x",
         "y": [
          "DT4H-MedCO133-Dabigatran (Dabigatran)"
         ],
         "yaxis": "y"
        },
        {
         "alignmentgroup": "True",
         "hovertemplate": "span=clopidogrel<br>Count=%{x}<br>Name=%{y}<extra></extra>",
         "legendgroup": "clopidogrel",
         "marker": {
          "color": "#FFA15A",
          "pattern": {
           "shape": ""
          }
         },
         "name": "clopidogrel",
         "offsetgroup": "clopidogrel",
         "orientation": "h",
         "showlegend": true,
         "textposition": "auto",
         "type": "bar",
         "x": [
          2
         ],
         "xaxis": "x",
         "y": [
          "DT4H-MedP132-Clopidogrel (Clopidogrel)"
         ],
         "yaxis": "y"
        },
        {
         "alignmentgroup": "True",
         "hovertemplate": "span=metoprolol<br>Count=%{x}<br>Name=%{y}<extra></extra>",
         "legendgroup": "metoprolol",
         "marker": {
          "color": "#19d3f3",
          "pattern": {
           "shape": ""
          }
         },
         "name": "metoprolol",
         "offsetgroup": "metoprolol",
         "orientation": "h",
         "showlegend": true,
         "textposition": "auto",
         "type": "bar",
         "x": [
          2
         ],
         "xaxis": "x",
         "y": [
          "DT4H-MedBB166-Metoprolol (Metoprolol)"
         ],
         "yaxis": "y"
        },
        {
         "alignmentgroup": "True",
         "hovertemplate": "span=mononitrato de isosorbida<br>Count=%{x}<br>Name=%{y}<extra></extra>",
         "legendgroup": "mononitrato de isosorbida",
         "marker": {
          "color": "#FF6692",
          "pattern": {
           "shape": ""
          }
         },
         "name": "mononitrato de isosorbida",
         "offsetgroup": "mononitrato de isosorbida",
         "orientation": "h",
         "showlegend": true,
         "textposition": "auto",
         "type": "bar",
         "x": [
          2
         ],
         "xaxis": "x",
         "y": [
          "DT4H-MedV115-Isosorbide mononitrate (Isosorbide mononitrate)"
         ],
         "yaxis": "y"
        },
        {
         "alignmentgroup": "True",
         "hovertemplate": "span=lovastatina<br>Count=%{x}<br>Name=%{y}<extra></extra>",
         "legendgroup": "lovastatina",
         "marker": {
          "color": "#B6E880",
          "pattern": {
           "shape": ""
          }
         },
         "name": "lovastatina",
         "offsetgroup": "lovastatina",
         "orientation": "h",
         "showlegend": true,
         "textposition": "auto",
         "type": "bar",
         "x": [
          2
         ],
         "xaxis": "x",
         "y": [
          "DT4H-MedS127-Lovastatin (Lovastatin)"
         ],
         "yaxis": "y"
        },
        {
         "alignmentgroup": "True",
         "hovertemplate": "span=propranolol<br>Count=%{x}<br>Name=%{y}<extra></extra>",
         "legendgroup": "propranolol",
         "marker": {
          "color": "#FF97FF",
          "pattern": {
           "shape": ""
          }
         },
         "name": "propranolol",
         "offsetgroup": "propranolol",
         "orientation": "h",
         "showlegend": true,
         "textposition": "auto",
         "type": "bar",
         "x": [
          1
         ],
         "xaxis": "x",
         "y": [
          "DT4H-MedBB128-Propranolol (Propranolol)"
         ],
         "yaxis": "y"
        },
        {
         "alignmentgroup": "True",
         "hovertemplate": "span=diurético de asa<br>Count=%{x}<br>Name=%{y}<extra></extra>",
         "legendgroup": "diurético de asa",
         "marker": {
          "color": "#FECB52",
          "pattern": {
           "shape": ""
          }
         },
         "name": "diurético de asa",
         "offsetgroup": "diurético de asa",
         "orientation": "h",
         "showlegend": true,
         "textposition": "auto",
         "type": "bar",
         "x": [
          1,
          1
         ],
         "xaxis": "x",
         "y": [
          "DT4H-MedL1-LOOP DIURETIC (LOOP DIURETIC)",
          "DT4H-MedL1-Loop diuretics (Loop diuretic )"
         ],
         "yaxis": "y"
        },
        {
         "alignmentgroup": "True",
         "hovertemplate": "span=propanolol<br>Count=%{x}<br>Name=%{y}<extra></extra>",
         "legendgroup": "propanolol",
         "marker": {
          "color": "#636efa",
          "pattern": {
           "shape": ""
          }
         },
         "name": "propanolol",
         "offsetgroup": "propanolol",
         "orientation": "h",
         "showlegend": true,
         "textposition": "auto",
         "type": "bar",
         "x": [
          1
         ],
         "xaxis": "x",
         "y": [
          "DT4H-MedBB128-Propranolol (Propranolol)"
         ],
         "yaxis": "y"
        },
        {
         "alignmentgroup": "True",
         "hovertemplate": "span=candesartan<br>Count=%{x}<br>Name=%{y}<extra></extra>",
         "legendgroup": "candesartan",
         "marker": {
          "color": "#EF553B",
          "pattern": {
           "shape": ""
          }
         },
         "name": "candesartan",
         "offsetgroup": "candesartan",
         "orientation": "h",
         "showlegend": true,
         "textposition": "auto",
         "type": "bar",
         "x": [
          1,
          1
         ],
         "xaxis": "x",
         "y": [
          "DT4H-MedAR125-Candesartan (Candesartan)",
          "DT4H-MedR125-Candesartan (Candesartan)"
         ],
         "yaxis": "y"
        },
        {
         "alignmentgroup": "True",
         "hovertemplate": "span=troponina I<br>Count=%{x}<br>Name=%{y}<extra></extra>",
         "legendgroup": "troponina I",
         "marker": {
          "color": "#00cc96",
          "pattern": {
           "shape": ""
          }
         },
         "name": "troponina I",
         "offsetgroup": "troponina I",
         "orientation": "h",
         "showlegend": true,
         "textposition": "auto",
         "type": "bar",
         "x": [
          3,
          3
         ],
         "xaxis": "x",
         "y": [
          "DT4H-Lab9-TropInhs (Troponin I )",
          "DT4H-Lab8-TropIhs (Troponin I )"
         ],
         "yaxis": "y"
        },
        {
         "alignmentgroup": "True",
         "hovertemplate": "span=bisoprolol<br>Count=%{x}<br>Name=%{y}<extra></extra>",
         "legendgroup": "bisoprolol",
         "marker": {
          "color": "#ab63fa",
          "pattern": {
           "shape": ""
          }
         },
         "name": "bisoprolol",
         "offsetgroup": "bisoprolol",
         "orientation": "h",
         "showlegend": true,
         "textposition": "auto",
         "type": "bar",
         "x": [
          3
         ],
         "xaxis": "x",
         "y": [
          "DT4H-MedBB164-Bisoprolol (Bisoprolol)"
         ],
         "yaxis": "y"
        },
        {
         "alignmentgroup": "True",
         "hovertemplate": "span=verapamilo<br>Count=%{x}<br>Name=%{y}<extra></extra>",
         "legendgroup": "verapamilo",
         "marker": {
          "color": "#FFA15A",
          "pattern": {
           "shape": ""
          }
         },
         "name": "verapamilo",
         "offsetgroup": "verapamilo",
         "orientation": "h",
         "showlegend": true,
         "textposition": "auto",
         "type": "bar",
         "x": [
          3
         ],
         "xaxis": "x",
         "y": [
          "DT4H-MedC143-Verapamil (Verapamil)"
         ],
         "yaxis": "y"
        },
        {
         "alignmentgroup": "True",
         "hovertemplate": "span=irbesartán<br>Count=%{x}<br>Name=%{y}<extra></extra>",
         "legendgroup": "irbesartán",
         "marker": {
          "color": "#19d3f3",
          "pattern": {
           "shape": ""
          }
         },
         "name": "irbesartán",
         "offsetgroup": "irbesartán",
         "orientation": "h",
         "showlegend": true,
         "textposition": "auto",
         "type": "bar",
         "x": [
          3,
          3
         ],
         "xaxis": "x",
         "y": [
          "DT4H-MedAR122-Irbesartan (Irbesartan)",
          "DT4H-MedR122-Irbesartan (Irbesartan)"
         ],
         "yaxis": "y"
        },
        {
         "alignmentgroup": "True",
         "hovertemplate": "span=HbA1c<br>Count=%{x}<br>Name=%{y}<extra></extra>",
         "legendgroup": "HbA1c",
         "marker": {
          "color": "#FF6692",
          "pattern": {
           "shape": ""
          }
         },
         "name": "HbA1c",
         "offsetgroup": "HbA1c",
         "orientation": "h",
         "showlegend": true,
         "textposition": "auto",
         "type": "bar",
         "x": [
          3
         ],
         "xaxis": "x",
         "y": [
          "DT4H-Lab25-HbA1c ( Hemoglobin A1c )"
         ],
         "yaxis": "y"
        },
        {
         "alignmentgroup": "True",
         "hovertemplate": "span=candesartán<br>Count=%{x}<br>Name=%{y}<extra></extra>",
         "legendgroup": "candesartán",
         "marker": {
          "color": "#B6E880",
          "pattern": {
           "shape": ""
          }
         },
         "name": "candesartán",
         "offsetgroup": "candesartán",
         "orientation": "h",
         "showlegend": true,
         "textposition": "auto",
         "type": "bar",
         "x": [
          2,
          2
         ],
         "xaxis": "x",
         "y": [
          "DT4H-MedR125-Candesartan (Candesartan)",
          "DT4H-MedAR125-Candesartan (Candesartan)"
         ],
         "yaxis": "y"
        },
        {
         "alignmentgroup": "True",
         "hovertemplate": "span=timolol<br>Count=%{x}<br>Name=%{y}<extra></extra>",
         "legendgroup": "timolol",
         "marker": {
          "color": "#FF97FF",
          "pattern": {
           "shape": ""
          }
         },
         "name": "timolol",
         "offsetgroup": "timolol",
         "orientation": "h",
         "showlegend": true,
         "textposition": "auto",
         "type": "bar",
         "x": [
          2
         ],
         "xaxis": "x",
         "y": [
          "DT4H-MedBB127-Timolol (Timolol)"
         ],
         "yaxis": "y"
        },
        {
         "alignmentgroup": "True",
         "hovertemplate": "span=Timolol<br>Count=%{x}<br>Name=%{y}<extra></extra>",
         "legendgroup": "Timolol",
         "marker": {
          "color": "#FECB52",
          "pattern": {
           "shape": ""
          }
         },
         "name": "Timolol",
         "offsetgroup": "Timolol",
         "orientation": "h",
         "showlegend": true,
         "textposition": "auto",
         "type": "bar",
         "x": [
          2
         ],
         "xaxis": "x",
         "y": [
          "DT4H-MedBB127-Timolol (Timolol)"
         ],
         "yaxis": "y"
        },
        {
         "alignmentgroup": "True",
         "hovertemplate": "span=proteína C<br>Count=%{x}<br>Name=%{y}<extra></extra>",
         "legendgroup": "proteína C",
         "marker": {
          "color": "#636efa",
          "pattern": {
           "shape": ""
          }
         },
         "name": "proteína C",
         "offsetgroup": "proteína C",
         "orientation": "h",
         "showlegend": true,
         "textposition": "auto",
         "type": "bar",
         "x": [
          3
         ],
         "xaxis": "x",
         "y": [
          "DT4H-MedCO235-Protein C (Protein C)"
         ],
         "yaxis": "y"
        },
        {
         "alignmentgroup": "True",
         "hovertemplate": "span=oxcarbazepina<br>Count=%{x}<br>Name=%{y}<extra></extra>",
         "legendgroup": "oxcarbazepina",
         "marker": {
          "color": "#EF553B",
          "pattern": {
           "shape": ""
          }
         },
         "name": "oxcarbazepina",
         "offsetgroup": "oxcarbazepina",
         "orientation": "h",
         "showlegend": true,
         "textposition": "auto",
         "type": "bar",
         "x": [
          2
         ],
         "xaxis": "x",
         "y": [
          "DT4H-MedRHY126-Oxcarbazepine (Oxcarbazepine)"
         ],
         "yaxis": "y"
        },
        {
         "alignmentgroup": "True",
         "hovertemplate": "span=losartán<br>Count=%{x}<br>Name=%{y}<extra></extra>",
         "legendgroup": "losartán",
         "marker": {
          "color": "#00cc96",
          "pattern": {
           "shape": ""
          }
         },
         "name": "losartán",
         "offsetgroup": "losartán",
         "orientation": "h",
         "showlegend": true,
         "textposition": "auto",
         "type": "bar",
         "x": [
          3,
          3
         ],
         "xaxis": "x",
         "y": [
          "DT4H-MedAR124-Losartan (Losartan)",
          "DT4H-MedR124-Losartan (Losartan)"
         ],
         "yaxis": "y"
        },
        {
         "alignmentgroup": "True",
         "hovertemplate": "span=OXC<br>Count=%{x}<br>Name=%{y}<extra></extra>",
         "legendgroup": "OXC",
         "marker": {
          "color": "#ab63fa",
          "pattern": {
           "shape": ""
          }
         },
         "name": "OXC",
         "offsetgroup": "OXC",
         "orientation": "h",
         "showlegend": true,
         "textposition": "auto",
         "type": "bar",
         "x": [
          1
         ],
         "xaxis": "x",
         "y": [
          "DT4H-MedRHY126-Oxcarbazepine (Oxcarbazepine)"
         ],
         "yaxis": "y"
        },
        {
         "alignmentgroup": "True",
         "hovertemplate": "span=tiacídicos<br>Count=%{x}<br>Name=%{y}<extra></extra>",
         "legendgroup": "tiacídicos",
         "marker": {
          "color": "#FFA15A",
          "pattern": {
           "shape": ""
          }
         },
         "name": "tiacídicos",
         "offsetgroup": "tiacídicos",
         "orientation": "h",
         "showlegend": true,
         "textposition": "auto",
         "type": "bar",
         "x": [
          1
         ],
         "xaxis": "x",
         "y": [
          "DT4H-MedD22-Thiazide diuretic (Thiazide diuretic)"
         ],
         "yaxis": "y"
        },
        {
         "alignmentgroup": "True",
         "hovertemplate": "span=losartan<br>Count=%{x}<br>Name=%{y}<extra></extra>",
         "legendgroup": "losartan",
         "marker": {
          "color": "#19d3f3",
          "pattern": {
           "shape": ""
          }
         },
         "name": "losartan",
         "offsetgroup": "losartan",
         "orientation": "h",
         "showlegend": true,
         "textposition": "auto",
         "type": "bar",
         "x": [
          1,
          1
         ],
         "xaxis": "x",
         "y": [
          "DT4H-MedAR124-Losartan (Losartan)",
          "DT4H-MedR124-Losartan (Losartan)"
         ],
         "yaxis": "y"
        },
        {
         "alignmentgroup": "True",
         "hovertemplate": "span=oxcarbacepina<br>Count=%{x}<br>Name=%{y}<extra></extra>",
         "legendgroup": "oxcarbacepina",
         "marker": {
          "color": "#FF6692",
          "pattern": {
           "shape": ""
          }
         },
         "name": "oxcarbacepina",
         "offsetgroup": "oxcarbacepina",
         "orientation": "h",
         "showlegend": true,
         "textposition": "auto",
         "type": "bar",
         "x": [
          1
         ],
         "xaxis": "x",
         "y": [
          "DT4H-MedRHY126-Oxcarbazepine (Oxcarbazepine)"
         ],
         "yaxis": "y"
        },
        {
         "alignmentgroup": "True",
         "hovertemplate": "span=tiazidas<br>Count=%{x}<br>Name=%{y}<extra></extra>",
         "legendgroup": "tiazidas",
         "marker": {
          "color": "#B6E880",
          "pattern": {
           "shape": ""
          }
         },
         "name": "tiazidas",
         "offsetgroup": "tiazidas",
         "orientation": "h",
         "showlegend": true,
         "textposition": "auto",
         "type": "bar",
         "x": [
          1
         ],
         "xaxis": "x",
         "y": [
          "DT4H-MedD22-Thiazide diuretic (Thiazide diuretic)"
         ],
         "yaxis": "y"
        },
        {
         "alignmentgroup": "True",
         "hovertemplate": "span=tiazídico<br>Count=%{x}<br>Name=%{y}<extra></extra>",
         "legendgroup": "tiazídico",
         "marker": {
          "color": "#FF97FF",
          "pattern": {
           "shape": ""
          }
         },
         "name": "tiazídico",
         "offsetgroup": "tiazídico",
         "orientation": "h",
         "showlegend": true,
         "textposition": "auto",
         "type": "bar",
         "x": [
          1
         ],
         "xaxis": "x",
         "y": [
          "DT4H-MedD22-Thiazide diuretic (Thiazide diuretic)"
         ],
         "yaxis": "y"
        },
        {
         "alignmentgroup": "True",
         "hovertemplate": "span=diuréticos tiazídicos<br>Count=%{x}<br>Name=%{y}<extra></extra>",
         "legendgroup": "diuréticos tiazídicos",
         "marker": {
          "color": "#FECB52",
          "pattern": {
           "shape": ""
          }
         },
         "name": "diuréticos tiazídicos",
         "offsetgroup": "diuréticos tiazídicos",
         "orientation": "h",
         "showlegend": true,
         "textposition": "auto",
         "type": "bar",
         "x": [
          1
         ],
         "xaxis": "x",
         "y": [
          "DT4H-MedD22-Thiazide diuretic (Thiazide diuretic)"
         ],
         "yaxis": "y"
        },
        {
         "alignmentgroup": "True",
         "hovertemplate": "span=C<br>Count=%{x}<br>Name=%{y}<extra></extra>",
         "legendgroup": "C",
         "marker": {
          "color": "#636efa",
          "pattern": {
           "shape": ""
          }
         },
         "name": "C",
         "offsetgroup": "C",
         "orientation": "h",
         "showlegend": true,
         "textposition": "auto",
         "type": "bar",
         "x": [
          1
         ],
         "xaxis": "x",
         "y": [
          "DT4H-MedCO235-Protein C (Protein C)"
         ],
         "yaxis": "y"
        },
        {
         "alignmentgroup": "True",
         "hovertemplate": "span=Diluton<br>Count=%{x}<br>Name=%{y}<extra></extra>",
         "legendgroup": "Diluton",
         "marker": {
          "color": "#EF553B",
          "pattern": {
           "shape": ""
          }
         },
         "name": "Diluton",
         "offsetgroup": "Diluton",
         "orientation": "h",
         "showlegend": true,
         "textposition": "auto",
         "type": "bar",
         "x": [
          1,
          1
         ],
         "xaxis": "x",
         "y": [
          "DT4H-MedL105-Torasemide (Torasemide)",
          "DT4H-MedD187-Torasemide (Torasemide)"
         ],
         "yaxis": "y"
        },
        {
         "alignmentgroup": "True",
         "hovertemplate": "span=torasemida<br>Count=%{x}<br>Name=%{y}<extra></extra>",
         "legendgroup": "torasemida",
         "marker": {
          "color": "#00cc96",
          "pattern": {
           "shape": ""
          }
         },
         "name": "torasemida",
         "offsetgroup": "torasemida",
         "orientation": "h",
         "showlegend": true,
         "textposition": "auto",
         "type": "bar",
         "x": [
          4,
          4
         ],
         "xaxis": "x",
         "y": [
          "DT4H-MedD187-Torasemide (Torasemide)",
          "DT4H-MedL105-Torasemide (Torasemide)"
         ],
         "yaxis": "y"
        },
        {
         "alignmentgroup": "True",
         "hovertemplate": "span=tolvaptan<br>Count=%{x}<br>Name=%{y}<extra></extra>",
         "legendgroup": "tolvaptan",
         "marker": {
          "color": "#ab63fa",
          "pattern": {
           "shape": ""
          }
         },
         "name": "tolvaptan",
         "offsetgroup": "tolvaptan",
         "orientation": "h",
         "showlegend": true,
         "textposition": "auto",
         "type": "bar",
         "x": [
          5
         ],
         "xaxis": "x",
         "y": [
          "DT4H-MedD121-tolvaptan (tolvaptan)"
         ],
         "yaxis": "y"
        },
        {
         "alignmentgroup": "True",
         "hovertemplate": "span=torvastatina<br>Count=%{x}<br>Name=%{y}<extra></extra>",
         "legendgroup": "torvastatina",
         "marker": {
          "color": "#FFA15A",
          "pattern": {
           "shape": ""
          }
         },
         "name": "torvastatina",
         "offsetgroup": "torvastatina",
         "orientation": "h",
         "showlegend": true,
         "textposition": "auto",
         "type": "bar",
         "x": [
          1
         ],
         "xaxis": "x",
         "y": [
          "DT4H-MedS122-Atorvastatin (Atorvastatin)"
         ],
         "yaxis": "y"
        },
        {
         "alignmentgroup": "True",
         "hovertemplate": "span=dicumarínicos<br>Count=%{x}<br>Name=%{y}<extra></extra>",
         "legendgroup": "dicumarínicos",
         "marker": {
          "color": "#19d3f3",
          "pattern": {
           "shape": ""
          }
         },
         "name": "dicumarínicos",
         "offsetgroup": "dicumarínicos",
         "orientation": "h",
         "showlegend": true,
         "textposition": "auto",
         "type": "bar",
         "x": [
          3
         ],
         "xaxis": "x",
         "y": [
          "DT4H-MedCO219-Coumarin anticoagulant (Coumarin anticoagulant)"
         ],
         "yaxis": "y"
        },
        {
         "alignmentgroup": "True",
         "hovertemplate": "span=atorvastatina<br>Count=%{x}<br>Name=%{y}<extra></extra>",
         "legendgroup": "atorvastatina",
         "marker": {
          "color": "#FF6692",
          "pattern": {
           "shape": ""
          }
         },
         "name": "atorvastatina",
         "offsetgroup": "atorvastatina",
         "orientation": "h",
         "showlegend": true,
         "textposition": "auto",
         "type": "bar",
         "x": [
          3
         ],
         "xaxis": "x",
         "y": [
          "DT4H-MedS122-Atorvastatin (Atorvastatin)"
         ],
         "yaxis": "y"
        },
        {
         "alignmentgroup": "True",
         "hovertemplate": "span=anticumarínicos<br>Count=%{x}<br>Name=%{y}<extra></extra>",
         "legendgroup": "anticumarínicos",
         "marker": {
          "color": "#B6E880",
          "pattern": {
           "shape": ""
          }
         },
         "name": "anticumarínicos",
         "offsetgroup": "anticumarínicos",
         "orientation": "h",
         "showlegend": true,
         "textposition": "auto",
         "type": "bar",
         "x": [
          1
         ],
         "xaxis": "x",
         "y": [
          "DT4H-MedCO219-Coumarin anticoagulant (Coumarin anticoagulant)"
         ],
         "yaxis": "y"
        },
        {
         "alignmentgroup": "True",
         "hovertemplate": "span=Atorvastatina<br>Count=%{x}<br>Name=%{y}<extra></extra>",
         "legendgroup": "Atorvastatina",
         "marker": {
          "color": "#FF97FF",
          "pattern": {
           "shape": ""
          }
         },
         "name": "Atorvastatina",
         "offsetgroup": "Atorvastatina",
         "orientation": "h",
         "showlegend": true,
         "textposition": "auto",
         "type": "bar",
         "x": [
          1
         ],
         "xaxis": "x",
         "y": [
          "DT4H-MedS122-Atorvastatin (Atorvastatin)"
         ],
         "yaxis": "y"
        },
        {
         "alignmentgroup": "True",
         "hovertemplate": "span=dicumarinicos<br>Count=%{x}<br>Name=%{y}<extra></extra>",
         "legendgroup": "dicumarinicos",
         "marker": {
          "color": "#FECB52",
          "pattern": {
           "shape": ""
          }
         },
         "name": "dicumarinicos",
         "offsetgroup": "dicumarinicos",
         "orientation": "h",
         "showlegend": true,
         "textposition": "auto",
         "type": "bar",
         "x": [
          1
         ],
         "xaxis": "x",
         "y": [
          "DT4H-MedCO219-Coumarin anticoagulant (Coumarin anticoagulant)"
         ],
         "yaxis": "y"
        },
        {
         "alignmentgroup": "True",
         "hovertemplate": "span=Nitroplast<br>Count=%{x}<br>Name=%{y}<extra></extra>",
         "legendgroup": "Nitroplast",
         "marker": {
          "color": "#636efa",
          "pattern": {
           "shape": ""
          }
         },
         "name": "Nitroplast",
         "offsetgroup": "Nitroplast",
         "orientation": "h",
         "showlegend": true,
         "textposition": "auto",
         "type": "bar",
         "x": [
          1
         ],
         "xaxis": "x",
         "y": [
          "DT4H-MedV112-Nitroglycerin (Nitroglycerin)"
         ],
         "yaxis": "y"
        },
        {
         "alignmentgroup": "True",
         "hovertemplate": "span=nitroglicerina<br>Count=%{x}<br>Name=%{y}<extra></extra>",
         "legendgroup": "nitroglicerina",
         "marker": {
          "color": "#EF553B",
          "pattern": {
           "shape": ""
          }
         },
         "name": "nitroglicerina",
         "offsetgroup": "nitroglicerina",
         "orientation": "h",
         "showlegend": true,
         "textposition": "auto",
         "type": "bar",
         "x": [
          4
         ],
         "xaxis": "x",
         "y": [
          "DT4H-MedV112-Nitroglycerin (Nitroglycerin)"
         ],
         "yaxis": "y"
        },
        {
         "alignmentgroup": "True",
         "hovertemplate": "span=Labetalol<br>Count=%{x}<br>Name=%{y}<extra></extra>",
         "legendgroup": "Labetalol",
         "marker": {
          "color": "#00cc96",
          "pattern": {
           "shape": ""
          }
         },
         "name": "Labetalol",
         "offsetgroup": "Labetalol",
         "orientation": "h",
         "showlegend": true,
         "textposition": "auto",
         "type": "bar",
         "x": [
          1
         ],
         "xaxis": "x",
         "y": [
          "DT4H-MedBB129-Labetalol (Labetalol)"
         ],
         "yaxis": "y"
        },
        {
         "alignmentgroup": "True",
         "hovertemplate": "span=Solinitrina<br>Count=%{x}<br>Name=%{y}<extra></extra>",
         "legendgroup": "Solinitrina",
         "marker": {
          "color": "#ab63fa",
          "pattern": {
           "shape": ""
          }
         },
         "name": "Solinitrina",
         "offsetgroup": "Solinitrina",
         "orientation": "h",
         "showlegend": true,
         "textposition": "auto",
         "type": "bar",
         "x": [
          1
         ],
         "xaxis": "x",
         "y": [
          "DT4H-MedV112-Nitroglycerin (Nitroglycerin)"
         ],
         "yaxis": "y"
        },
        {
         "alignmentgroup": "True",
         "hovertemplate": "span=labetalol<br>Count=%{x}<br>Name=%{y}<extra></extra>",
         "legendgroup": "labetalol",
         "marker": {
          "color": "#FFA15A",
          "pattern": {
           "shape": ""
          }
         },
         "name": "labetalol",
         "offsetgroup": "labetalol",
         "orientation": "h",
         "showlegend": true,
         "textposition": "auto",
         "type": "bar",
         "x": [
          5
         ],
         "xaxis": "x",
         "y": [
          "DT4H-MedBB129-Labetalol (Labetalol)"
         ],
         "yaxis": "y"
        },
        {
         "alignmentgroup": "True",
         "hovertemplate": "span=HBPM<br>Count=%{x}<br>Name=%{y}<extra></extra>",
         "legendgroup": "HBPM",
         "marker": {
          "color": "#19d3f3",
          "pattern": {
           "shape": ""
          }
         },
         "name": "HBPM",
         "offsetgroup": "HBPM",
         "orientation": "h",
         "showlegend": true,
         "textposition": "auto",
         "type": "bar",
         "x": [
          4
         ],
         "xaxis": "x",
         "y": [
          "DT4H-MedCO157-Low molecular weight heparin (Low molecular weight heparin)"
         ],
         "yaxis": "y"
        },
        {
         "alignmentgroup": "True",
         "hovertemplate": "span=simvastatina<br>Count=%{x}<br>Name=%{y}<extra></extra>",
         "legendgroup": "simvastatina",
         "marker": {
          "color": "#FF6692",
          "pattern": {
           "shape": ""
          }
         },
         "name": "simvastatina",
         "offsetgroup": "simvastatina",
         "orientation": "h",
         "showlegend": true,
         "textposition": "auto",
         "type": "bar",
         "x": [
          6
         ],
         "xaxis": "x",
         "y": [
          "DT4H-MedS120-Simvastatin (Simvastatin)"
         ],
         "yaxis": "y"
        },
        {
         "alignmentgroup": "True",
         "hovertemplate": "span=heparina sódica<br>Count=%{x}<br>Name=%{y}<extra></extra>",
         "legendgroup": "heparina sódica",
         "marker": {
          "color": "#B6E880",
          "pattern": {
           "shape": ""
          }
         },
         "name": "heparina sódica",
         "offsetgroup": "heparina sódica",
         "orientation": "h",
         "showlegend": true,
         "textposition": "auto",
         "type": "bar",
         "x": [
          6
         ],
         "xaxis": "x",
         "y": [
          "DT4H-MedCO170-Heparin sodium (Heparin sodium)"
         ],
         "yaxis": "y"
        },
        {
         "alignmentgroup": "True",
         "hovertemplate": "span=heparina de bajo peso molecular<br>Count=%{x}<br>Name=%{y}<extra></extra>",
         "legendgroup": "heparina de bajo peso molecular",
         "marker": {
          "color": "#FF97FF",
          "pattern": {
           "shape": ""
          }
         },
         "name": "heparina de bajo peso molecular",
         "offsetgroup": "heparina de bajo peso molecular",
         "orientation": "h",
         "showlegend": true,
         "textposition": "auto",
         "type": "bar",
         "x": [
          3
         ],
         "xaxis": "x",
         "y": [
          "DT4H-MedCO157-Low molecular weight heparin (Low molecular weight heparin)"
         ],
         "yaxis": "y"
        },
        {
         "alignmentgroup": "True",
         "hovertemplate": "span=heparina Na<br>Count=%{x}<br>Name=%{y}<extra></extra>",
         "legendgroup": "heparina Na",
         "marker": {
          "color": "#FECB52",
          "pattern": {
           "shape": ""
          }
         },
         "name": "heparina Na",
         "offsetgroup": "heparina Na",
         "orientation": "h",
         "showlegend": true,
         "textposition": "auto",
         "type": "bar",
         "x": [
          1
         ],
         "xaxis": "x",
         "y": [
          "DT4H-MedCO170-Heparin sodium (Heparin sodium)"
         ],
         "yaxis": "y"
        },
        {
         "alignmentgroup": "True",
         "hovertemplate": "span=sinvastatina<br>Count=%{x}<br>Name=%{y}<extra></extra>",
         "legendgroup": "sinvastatina",
         "marker": {
          "color": "#636efa",
          "pattern": {
           "shape": ""
          }
         },
         "name": "sinvastatina",
         "offsetgroup": "sinvastatina",
         "orientation": "h",
         "showlegend": true,
         "textposition": "auto",
         "type": "bar",
         "x": [
          1
         ],
         "xaxis": "x",
         "y": [
          "DT4H-MedS120-Simvastatin (Simvastatin)"
         ],
         "yaxis": "y"
        },
        {
         "alignmentgroup": "True",
         "hovertemplate": "span=hidroclorotiacida<br>Count=%{x}<br>Name=%{y}<extra></extra>",
         "legendgroup": "hidroclorotiacida",
         "marker": {
          "color": "#EF553B",
          "pattern": {
           "shape": ""
          }
         },
         "name": "hidroclorotiacida",
         "offsetgroup": "hidroclorotiacida",
         "orientation": "h",
         "showlegend": true,
         "textposition": "auto",
         "type": "bar",
         "x": [
          1
         ],
         "xaxis": "x",
         "y": [
          "DT4H-MedD226-Hydrochlorothiazide (Hydrochlorothiazide)"
         ],
         "yaxis": "y"
        },
        {
         "alignmentgroup": "True",
         "hovertemplate": "span=hidroclorotiazida<br>Count=%{x}<br>Name=%{y}<extra></extra>",
         "legendgroup": "hidroclorotiazida",
         "marker": {
          "color": "#00cc96",
          "pattern": {
           "shape": ""
          }
         },
         "name": "hidroclorotiazida",
         "offsetgroup": "hidroclorotiazida",
         "orientation": "h",
         "showlegend": true,
         "textposition": "auto",
         "type": "bar",
         "x": [
          7
         ],
         "xaxis": "x",
         "y": [
          "DT4H-MedD226-Hydrochlorothiazide (Hydrochlorothiazide)"
         ],
         "yaxis": "y"
        },
        {
         "alignmentgroup": "True",
         "hovertemplate": "span=topiramato<br>Count=%{x}<br>Name=%{y}<extra></extra>",
         "legendgroup": "topiramato",
         "marker": {
          "color": "#ab63fa",
          "pattern": {
           "shape": ""
          }
         },
         "name": "topiramato",
         "offsetgroup": "topiramato",
         "orientation": "h",
         "showlegend": true,
         "textposition": "auto",
         "type": "bar",
         "x": [
          4
         ],
         "xaxis": "x",
         "y": [
          "DT4H-MedRHY127-Topiramate (Topiramate)"
         ],
         "yaxis": "y"
        },
        {
         "alignmentgroup": "True",
         "hovertemplate": "span=Topamax<br>Count=%{x}<br>Name=%{y}<extra></extra>",
         "legendgroup": "Topamax",
         "marker": {
          "color": "#FFA15A",
          "pattern": {
           "shape": ""
          }
         },
         "name": "Topamax",
         "offsetgroup": "Topamax",
         "orientation": "h",
         "showlegend": true,
         "textposition": "auto",
         "type": "bar",
         "x": [
          4
         ],
         "xaxis": "x",
         "y": [
          "DT4H-MedRHY127-Topiramate (Topiramate)"
         ],
         "yaxis": "y"
        },
        {
         "alignmentgroup": "True",
         "hovertemplate": "span=timoftol<br>Count=%{x}<br>Name=%{y}<extra></extra>",
         "legendgroup": "timoftol",
         "marker": {
          "color": "#19d3f3",
          "pattern": {
           "shape": ""
          }
         },
         "name": "timoftol",
         "offsetgroup": "timoftol",
         "orientation": "h",
         "showlegend": true,
         "textposition": "auto",
         "type": "bar",
         "x": [
          1
         ],
         "xaxis": "x",
         "y": [
          "DT4H-MedBB135-Timolol maleate (Timolol maleate)"
         ],
         "yaxis": "y"
        },
        {
         "alignmentgroup": "True",
         "hovertemplate": "span=Combigan<br>Count=%{x}<br>Name=%{y}<extra></extra>",
         "legendgroup": "Combigan",
         "marker": {
          "color": "#FF6692",
          "pattern": {
           "shape": ""
          }
         },
         "name": "Combigan",
         "offsetgroup": "Combigan",
         "orientation": "h",
         "showlegend": true,
         "textposition": "auto",
         "type": "bar",
         "x": [
          1
         ],
         "xaxis": "x",
         "y": [
          "DT4H-MedBB135-Timolol maleate (Timolol maleate)"
         ],
         "yaxis": "y"
        },
        {
         "alignmentgroup": "True",
         "hovertemplate": "span=maleato de timolol<br>Count=%{x}<br>Name=%{y}<extra></extra>",
         "legendgroup": "maleato de timolol",
         "marker": {
          "color": "#B6E880",
          "pattern": {
           "shape": ""
          }
         },
         "name": "maleato de timolol",
         "offsetgroup": "maleato de timolol",
         "orientation": "h",
         "showlegend": true,
         "textposition": "auto",
         "type": "bar",
         "x": [
          5
         ],
         "xaxis": "x",
         "y": [
          "DT4H-MedBB135-Timolol maleate (Timolol maleate)"
         ],
         "yaxis": "y"
        },
        {
         "alignmentgroup": "True",
         "hovertemplate": "span=acetazolamida<br>Count=%{x}<br>Name=%{y}<extra></extra>",
         "legendgroup": "acetazolamida",
         "marker": {
          "color": "#FF97FF",
          "pattern": {
           "shape": ""
          }
         },
         "name": "acetazolamida",
         "offsetgroup": "acetazolamida",
         "orientation": "h",
         "showlegend": true,
         "textposition": "auto",
         "type": "bar",
         "x": [
          7
         ],
         "xaxis": "x",
         "y": [
          "DT4H-MedD111-acetazolamide (acetazolamide)"
         ],
         "yaxis": "y"
        },
        {
         "alignmentgroup": "True",
         "hovertemplate": "span=Timoftol<br>Count=%{x}<br>Name=%{y}<extra></extra>",
         "legendgroup": "Timoftol",
         "marker": {
          "color": "#FECB52",
          "pattern": {
           "shape": ""
          }
         },
         "name": "Timoftol",
         "offsetgroup": "Timoftol",
         "orientation": "h",
         "showlegend": true,
         "textposition": "auto",
         "type": "bar",
         "x": [
          2
         ],
         "xaxis": "x",
         "y": [
          "DT4H-MedBB135-Timolol maleate (Timolol maleate)"
         ],
         "yaxis": "y"
        },
        {
         "alignmentgroup": "True",
         "hovertemplate": "span=edemox<br>Count=%{x}<br>Name=%{y}<extra></extra>",
         "legendgroup": "edemox",
         "marker": {
          "color": "#636efa",
          "pattern": {
           "shape": ""
          }
         },
         "name": "edemox",
         "offsetgroup": "edemox",
         "orientation": "h",
         "showlegend": true,
         "textposition": "auto",
         "type": "bar",
         "x": [
          1
         ],
         "xaxis": "x",
         "y": [
          "DT4H-MedD111-acetazolamide (acetazolamide)"
         ],
         "yaxis": "y"
        },
        {
         "alignmentgroup": "True",
         "hovertemplate": "span=Edemox<br>Count=%{x}<br>Name=%{y}<extra></extra>",
         "legendgroup": "Edemox",
         "marker": {
          "color": "#EF553B",
          "pattern": {
           "shape": ""
          }
         },
         "name": "Edemox",
         "offsetgroup": "Edemox",
         "orientation": "h",
         "showlegend": true,
         "textposition": "auto",
         "type": "bar",
         "x": [
          1
         ],
         "xaxis": "x",
         "y": [
          "DT4H-MedD111-acetazolamide (acetazolamide)"
         ],
         "yaxis": "y"
        },
        {
         "alignmentgroup": "True",
         "hovertemplate": "span=HPBM<br>Count=%{x}<br>Name=%{y}<extra></extra>",
         "legendgroup": "HPBM",
         "marker": {
          "color": "#00cc96",
          "pattern": {
           "shape": ""
          }
         },
         "name": "HPBM",
         "offsetgroup": "HPBM",
         "orientation": "h",
         "showlegend": true,
         "textposition": "auto",
         "type": "bar",
         "x": [
          1
         ],
         "xaxis": "x",
         "y": [
          "DT4H-MedCO163-Enoxaparin (Enoxaparin)"
         ],
         "yaxis": "y"
        },
        {
         "alignmentgroup": "True",
         "hovertemplate": "span=fenitoina<br>Count=%{x}<br>Name=%{y}<extra></extra>",
         "legendgroup": "fenitoina",
         "marker": {
          "color": "#ab63fa",
          "pattern": {
           "shape": ""
          }
         },
         "name": "fenitoina",
         "offsetgroup": "fenitoina",
         "orientation": "h",
         "showlegend": true,
         "textposition": "auto",
         "type": "bar",
         "x": [
          1
         ],
         "xaxis": "x",
         "y": [
          "DT4H-MedRHY124-Phenytoin (Phenytoin)"
         ],
         "yaxis": "y"
        },
        {
         "alignmentgroup": "True",
         "hovertemplate": "span=gabapentina<br>Count=%{x}<br>Name=%{y}<extra></extra>",
         "legendgroup": "gabapentina",
         "marker": {
          "color": "#FFA15A",
          "pattern": {
           "shape": ""
          }
         },
         "name": "gabapentina",
         "offsetgroup": "gabapentina",
         "orientation": "h",
         "showlegend": true,
         "textposition": "auto",
         "type": "bar",
         "x": [
          10
         ],
         "xaxis": "x",
         "y": [
          "DT4H-MedC111-Gabapentin (Gabapentin)"
         ],
         "yaxis": "y"
        },
        {
         "alignmentgroup": "True",
         "hovertemplate": "span=Difehilhidantoína<br>Count=%{x}<br>Name=%{y}<extra></extra>",
         "legendgroup": "Difehilhidantoína",
         "marker": {
          "color": "#19d3f3",
          "pattern": {
           "shape": ""
          }
         },
         "name": "Difehilhidantoína",
         "offsetgroup": "Difehilhidantoína",
         "orientation": "h",
         "showlegend": true,
         "textposition": "auto",
         "type": "bar",
         "x": [
          1
         ],
         "xaxis": "x",
         "y": [
          "DT4H-MedRHY124-Phenytoin (Phenytoin)"
         ],
         "yaxis": "y"
        },
        {
         "alignmentgroup": "True",
         "hovertemplate": "span=enoxaparina<br>Count=%{x}<br>Name=%{y}<extra></extra>",
         "legendgroup": "enoxaparina",
         "marker": {
          "color": "#FF6692",
          "pattern": {
           "shape": ""
          }
         },
         "name": "enoxaparina",
         "offsetgroup": "enoxaparina",
         "orientation": "h",
         "showlegend": true,
         "textposition": "auto",
         "type": "bar",
         "x": [
          9
         ],
         "xaxis": "x",
         "y": [
          "DT4H-MedCO163-Enoxaparin (Enoxaparin)"
         ],
         "yaxis": "y"
        },
        {
         "alignmentgroup": "True",
         "hovertemplate": "span=fenitoína<br>Count=%{x}<br>Name=%{y}<extra></extra>",
         "legendgroup": "fenitoína",
         "marker": {
          "color": "#B6E880",
          "pattern": {
           "shape": ""
          }
         },
         "name": "fenitoína",
         "offsetgroup": "fenitoína",
         "orientation": "h",
         "showlegend": true,
         "textposition": "auto",
         "type": "bar",
         "x": [
          6
         ],
         "xaxis": "x",
         "y": [
          "DT4H-MedRHY124-Phenytoin (Phenytoin)"
         ],
         "yaxis": "y"
        },
        {
         "alignmentgroup": "True",
         "hovertemplate": "span=Fenitoína<br>Count=%{x}<br>Name=%{y}<extra></extra>",
         "legendgroup": "Fenitoína",
         "marker": {
          "color": "#FF97FF",
          "pattern": {
           "shape": ""
          }
         },
         "name": "Fenitoína",
         "offsetgroup": "Fenitoína",
         "orientation": "h",
         "showlegend": true,
         "textposition": "auto",
         "type": "bar",
         "x": [
          1
         ],
         "xaxis": "x",
         "y": [
          "DT4H-MedRHY124-Phenytoin (Phenytoin)"
         ],
         "yaxis": "y"
        },
        {
         "alignmentgroup": "True",
         "hovertemplate": "span=Difenilhidantoína<br>Count=%{x}<br>Name=%{y}<extra></extra>",
         "legendgroup": "Difenilhidantoína",
         "marker": {
          "color": "#FECB52",
          "pattern": {
           "shape": ""
          }
         },
         "name": "Difenilhidantoína",
         "offsetgroup": "Difenilhidantoína",
         "orientation": "h",
         "showlegend": true,
         "textposition": "auto",
         "type": "bar",
         "x": [
          1
         ],
         "xaxis": "x",
         "y": [
          "DT4H-MedRHY124-Phenytoin (Phenytoin)"
         ],
         "yaxis": "y"
        },
        {
         "alignmentgroup": "True",
         "hovertemplate": "span=Espironolactona<br>Count=%{x}<br>Name=%{y}<extra></extra>",
         "legendgroup": "Espironolactona",
         "marker": {
          "color": "#636efa",
          "pattern": {
           "shape": ""
          }
         },
         "name": "Espironolactona",
         "offsetgroup": "Espironolactona",
         "orientation": "h",
         "showlegend": true,
         "textposition": "auto",
         "type": "bar",
         "x": [
          1,
          1
         ],
         "xaxis": "x",
         "y": [
          "DT4H-MedD158-Spironolactone (Spironolactone)",
          "DT4H-MedM114-Spironolactone (Spironolactone)"
         ],
         "yaxis": "y"
        },
        {
         "alignmentgroup": "True",
         "hovertemplate": "span=amlodipina<br>Count=%{x}<br>Name=%{y}<extra></extra>",
         "legendgroup": "amlodipina",
         "marker": {
          "color": "#EF553B",
          "pattern": {
           "shape": ""
          }
         },
         "name": "amlodipina",
         "offsetgroup": "amlodipina",
         "orientation": "h",
         "showlegend": true,
         "textposition": "auto",
         "type": "bar",
         "x": [
          1
         ],
         "xaxis": "x",
         "y": [
          "DT4H-MedC179-Amlodipine (Amlodipine)"
         ],
         "yaxis": "y"
        },
        {
         "alignmentgroup": "True",
         "hovertemplate": "span=amlodipino<br>Count=%{x}<br>Name=%{y}<extra></extra>",
         "legendgroup": "amlodipino",
         "marker": {
          "color": "#00cc96",
          "pattern": {
           "shape": ""
          }
         },
         "name": "amlodipino",
         "offsetgroup": "amlodipino",
         "orientation": "h",
         "showlegend": true,
         "textposition": "auto",
         "type": "bar",
         "x": [
          10
         ],
         "xaxis": "x",
         "y": [
          "DT4H-MedC179-Amlodipine (Amlodipine)"
         ],
         "yaxis": "y"
        },
        {
         "alignmentgroup": "True",
         "hovertemplate": "span=espironolactona<br>Count=%{x}<br>Name=%{y}<extra></extra>",
         "legendgroup": "espironolactona",
         "marker": {
          "color": "#ab63fa",
          "pattern": {
           "shape": ""
          }
         },
         "name": "espironolactona",
         "offsetgroup": "espironolactona",
         "orientation": "h",
         "showlegend": true,
         "textposition": "auto",
         "type": "bar",
         "x": [
          10,
          10
         ],
         "xaxis": "x",
         "y": [
          "DT4H-MedD158-Spironolactone (Spironolactone)",
          "DT4H-MedM114-Spironolactone (Spironolactone)"
         ],
         "yaxis": "y"
        },
        {
         "alignmentgroup": "True",
         "hovertemplate": "span=heparin<br>Count=%{x}<br>Name=%{y}<extra></extra>",
         "legendgroup": "heparin",
         "marker": {
          "color": "#FFA15A",
          "pattern": {
           "shape": ""
          }
         },
         "name": "heparin",
         "offsetgroup": "heparin",
         "orientation": "h",
         "showlegend": true,
         "textposition": "auto",
         "type": "bar",
         "x": [
          1
         ],
         "xaxis": "x",
         "y": [
          "DT4H-MedCO158-Heparin (Heparin)"
         ],
         "yaxis": "y"
        },
        {
         "alignmentgroup": "True",
         "hovertemplate": "span=Heparine<br>Count=%{x}<br>Name=%{y}<extra></extra>",
         "legendgroup": "Heparine",
         "marker": {
          "color": "#19d3f3",
          "pattern": {
           "shape": ""
          }
         },
         "name": "Heparine",
         "offsetgroup": "Heparine",
         "orientation": "h",
         "showlegend": true,
         "textposition": "auto",
         "type": "bar",
         "x": [
          1
         ],
         "xaxis": "x",
         "y": [
          "DT4H-MedCO158-Heparin (Heparin)"
         ],
         "yaxis": "y"
        },
        {
         "alignmentgroup": "True",
         "hovertemplate": "span=heparina<br>Count=%{x}<br>Name=%{y}<extra></extra>",
         "legendgroup": "heparina",
         "marker": {
          "color": "#FF6692",
          "pattern": {
           "shape": ""
          }
         },
         "name": "heparina",
         "offsetgroup": "heparina",
         "orientation": "h",
         "showlegend": true,
         "textposition": "auto",
         "type": "bar",
         "x": [
          10
         ],
         "xaxis": "x",
         "y": [
          "DT4H-MedCO158-Heparin (Heparin)"
         ],
         "yaxis": "y"
        },
        {
         "alignmentgroup": "True",
         "hovertemplate": "span=atenolol<br>Count=%{x}<br>Name=%{y}<extra></extra>",
         "legendgroup": "atenolol",
         "marker": {
          "color": "#B6E880",
          "pattern": {
           "shape": ""
          }
         },
         "name": "atenolol",
         "offsetgroup": "atenolol",
         "orientation": "h",
         "showlegend": true,
         "textposition": "auto",
         "type": "bar",
         "x": [
          11
         ],
         "xaxis": "x",
         "y": [
          "DT4H-MedBB161-Atenolol (Atenolol)"
         ],
         "yaxis": "y"
        },
        {
         "alignmentgroup": "True",
         "hovertemplate": "span=Atenolol<br>Count=%{x}<br>Name=%{y}<extra></extra>",
         "legendgroup": "Atenolol",
         "marker": {
          "color": "#FF97FF",
          "pattern": {
           "shape": ""
          }
         },
         "name": "Atenolol",
         "offsetgroup": "Atenolol",
         "orientation": "h",
         "showlegend": true,
         "textposition": "auto",
         "type": "bar",
         "x": [
          1
         ],
         "xaxis": "x",
         "y": [
          "DT4H-MedBB161-Atenolol (Atenolol)"
         ],
         "yaxis": "y"
        },
        {
         "alignmentgroup": "True",
         "hovertemplate": "span=lidocaína<br>Count=%{x}<br>Name=%{y}<extra></extra>",
         "legendgroup": "lidocaína",
         "marker": {
          "color": "#FECB52",
          "pattern": {
           "shape": ""
          }
         },
         "name": "lidocaína",
         "offsetgroup": "lidocaína",
         "orientation": "h",
         "showlegend": true,
         "textposition": "auto",
         "type": "bar",
         "x": [
          14
         ],
         "xaxis": "x",
         "y": [
          "DT4H-MedRHY122-Lidocaine (Lidocaine)"
         ],
         "yaxis": "y"
        },
        {
         "alignmentgroup": "True",
         "hovertemplate": "span=Enalapril<br>Count=%{x}<br>Name=%{y}<extra></extra>",
         "legendgroup": "Enalapril",
         "marker": {
          "color": "#636efa",
          "pattern": {
           "shape": ""
          }
         },
         "name": "Enalapril",
         "offsetgroup": "Enalapril",
         "orientation": "h",
         "showlegend": true,
         "textposition": "auto",
         "type": "bar",
         "x": [
          1,
          1
         ],
         "xaxis": "x",
         "y": [
          "DT4H-MedR158-Enalapril (Enalapril)",
          "DT4H-MedA138-Enalapril (Enalapril)"
         ],
         "yaxis": "y"
        },
        {
         "alignmentgroup": "True",
         "hovertemplate": "span=enalaprilo<br>Count=%{x}<br>Name=%{y}<extra></extra>",
         "legendgroup": "enalaprilo",
         "marker": {
          "color": "#EF553B",
          "pattern": {
           "shape": ""
          }
         },
         "name": "enalaprilo",
         "offsetgroup": "enalaprilo",
         "orientation": "h",
         "showlegend": true,
         "textposition": "auto",
         "type": "bar",
         "x": [
          1,
          1
         ],
         "xaxis": "x",
         "y": [
          "DT4H-MedR158-Enalapril (Enalapril)",
          "DT4H-MedA138-Enalapril (Enalapril)"
         ],
         "yaxis": "y"
        },
        {
         "alignmentgroup": "True",
         "hovertemplate": "span=enalapril<br>Count=%{x}<br>Name=%{y}<extra></extra>",
         "legendgroup": "enalapril",
         "marker": {
          "color": "#00cc96",
          "pattern": {
           "shape": ""
          }
         },
         "name": "enalapril",
         "offsetgroup": "enalapril",
         "orientation": "h",
         "showlegend": true,
         "textposition": "auto",
         "type": "bar",
         "x": [
          13,
          13
         ],
         "xaxis": "x",
         "y": [
          "DT4H-MedR158-Enalapril (Enalapril)",
          "DT4H-MedA138-Enalapril (Enalapril)"
         ],
         "yaxis": "y"
        },
        {
         "alignmentgroup": "True",
         "hovertemplate": "span=furosemida<br>Count=%{x}<br>Name=%{y}<extra></extra>",
         "legendgroup": "furosemida",
         "marker": {
          "color": "#ab63fa",
          "pattern": {
           "shape": ""
          }
         },
         "name": "furosemida",
         "offsetgroup": "furosemida",
         "orientation": "h",
         "showlegend": true,
         "textposition": "auto",
         "type": "bar",
         "x": [
          14,
          14,
          14
         ],
         "xaxis": "x",
         "y": [
          "DT4H-MedD183-Furosemide (Furosemide)",
          "DT4H-MedL103-Furosemide (Furosemide)",
          "DT4H-MedD206-Furosemide (Furosemide)"
         ],
         "yaxis": "y"
        },
        {
         "alignmentgroup": "True",
         "hovertemplate": "span=Furosemida<br>Count=%{x}<br>Name=%{y}<extra></extra>",
         "legendgroup": "Furosemida",
         "marker": {
          "color": "#FFA15A",
          "pattern": {
           "shape": ""
          }
         },
         "name": "Furosemida",
         "offsetgroup": "Furosemida",
         "orientation": "h",
         "showlegend": true,
         "textposition": "auto",
         "type": "bar",
         "x": [
          3,
          3,
          3
         ],
         "xaxis": "x",
         "y": [
          "DT4H-MedD183-Furosemide (Furosemide)",
          "DT4H-MedD206-Furosemide (Furosemide)",
          "DT4H-MedL103-Furosemide (Furosemide)"
         ],
         "yaxis": "y"
        },
        {
         "alignmentgroup": "True",
         "hovertemplate": "span=Ferritina<br>Count=%{x}<br>Name=%{y}<extra></extra>",
         "legendgroup": "Ferritina",
         "marker": {
          "color": "#19d3f3",
          "pattern": {
           "shape": ""
          }
         },
         "name": "Ferritina",
         "offsetgroup": "Ferritina",
         "orientation": "h",
         "showlegend": true,
         "textposition": "auto",
         "type": "bar",
         "x": [
          2
         ],
         "xaxis": "x",
         "y": [
          "DT4H-Lab2-Ferritin (Ferritin)"
         ],
         "yaxis": "y"
        },
        {
         "alignmentgroup": "True",
         "hovertemplate": "span=ferritina<br>Count=%{x}<br>Name=%{y}<extra></extra>",
         "legendgroup": "ferritina",
         "marker": {
          "color": "#FF6692",
          "pattern": {
           "shape": ""
          }
         },
         "name": "ferritina",
         "offsetgroup": "ferritina",
         "orientation": "h",
         "showlegend": true,
         "textposition": "auto",
         "type": "bar",
         "x": [
          18
         ],
         "xaxis": "x",
         "y": [
          "DT4H-Lab2-Ferritin (Ferritin)"
         ],
         "yaxis": "y"
        },
        {
         "alignmentgroup": "True",
         "hovertemplate": "span=Triglicéridos<br>Count=%{x}<br>Name=%{y}<extra></extra>",
         "legendgroup": "Triglicéridos",
         "marker": {
          "color": "#B6E880",
          "pattern": {
           "shape": ""
          }
         },
         "name": "Triglicéridos",
         "offsetgroup": "Triglicéridos",
         "orientation": "h",
         "showlegend": true,
         "textposition": "auto",
         "type": "bar",
         "x": [
          3
         ],
         "xaxis": "x",
         "y": [
          "DT4H-Lab12-TriGly (Triacylglycerol )"
         ],
         "yaxis": "y"
        },
        {
         "alignmentgroup": "True",
         "hovertemplate": "span=triglicéridos<br>Count=%{x}<br>Name=%{y}<extra></extra>",
         "legendgroup": "triglicéridos",
         "marker": {
          "color": "#FF97FF",
          "pattern": {
           "shape": ""
          }
         },
         "name": "triglicéridos",
         "offsetgroup": "triglicéridos",
         "orientation": "h",
         "showlegend": true,
         "textposition": "auto",
         "type": "bar",
         "x": [
          18
         ],
         "xaxis": "x",
         "y": [
          "DT4H-Lab12-TriGly (Triacylglycerol )"
         ],
         "yaxis": "y"
        },
        {
         "alignmentgroup": "True",
         "hovertemplate": "span=TG<br>Count=%{x}<br>Name=%{y}<extra></extra>",
         "legendgroup": "TG",
         "marker": {
          "color": "#FECB52",
          "pattern": {
           "shape": ""
          }
         },
         "name": "TG",
         "offsetgroup": "TG",
         "orientation": "h",
         "showlegend": true,
         "textposition": "auto",
         "type": "bar",
         "x": [
          2
         ],
         "xaxis": "x",
         "y": [
          "DT4H-Lab12-TriGly (Triacylglycerol )"
         ],
         "yaxis": "y"
        },
        {
         "alignmentgroup": "True",
         "hovertemplate": "span=acenocumarina<br>Count=%{x}<br>Name=%{y}<extra></extra>",
         "legendgroup": "acenocumarina",
         "marker": {
          "color": "#636efa",
          "pattern": {
           "shape": ""
          }
         },
         "name": "acenocumarina",
         "offsetgroup": "acenocumarina",
         "orientation": "h",
         "showlegend": true,
         "textposition": "auto",
         "type": "bar",
         "x": [
          1
         ],
         "xaxis": "x",
         "y": [
          "DT4H-MedCO217-Acenocoumarol (Acenocoumarol)"
         ],
         "yaxis": "y"
        },
        {
         "alignmentgroup": "True",
         "hovertemplate": "span=acenocumarol<br>Count=%{x}<br>Name=%{y}<extra></extra>",
         "legendgroup": "acenocumarol",
         "marker": {
          "color": "#EF553B",
          "pattern": {
           "shape": ""
          }
         },
         "name": "acenocumarol",
         "offsetgroup": "acenocumarol",
         "orientation": "h",
         "showlegend": true,
         "textposition": "auto",
         "type": "bar",
         "x": [
          19
         ],
         "xaxis": "x",
         "y": [
          "DT4H-MedCO217-Acenocoumarol (Acenocoumarol)"
         ],
         "yaxis": "y"
        },
        {
         "alignmentgroup": "True",
         "hovertemplate": "span=Sintrom<br>Count=%{x}<br>Name=%{y}<extra></extra>",
         "legendgroup": "Sintrom",
         "marker": {
          "color": "#00cc96",
          "pattern": {
           "shape": ""
          }
         },
         "name": "Sintrom",
         "offsetgroup": "Sintrom",
         "orientation": "h",
         "showlegend": true,
         "textposition": "auto",
         "type": "bar",
         "x": [
          5
         ],
         "xaxis": "x",
         "y": [
          "DT4H-MedCO217-Acenocoumarol (Acenocoumarol)"
         ],
         "yaxis": "y"
        },
        {
         "alignmentgroup": "True",
         "hovertemplate": "span=sintrom<br>Count=%{x}<br>Name=%{y}<extra></extra>",
         "legendgroup": "sintrom",
         "marker": {
          "color": "#ab63fa",
          "pattern": {
           "shape": ""
          }
         },
         "name": "sintrom",
         "offsetgroup": "sintrom",
         "orientation": "h",
         "showlegend": true,
         "textposition": "auto",
         "type": "bar",
         "x": [
          1
         ],
         "xaxis": "x",
         "y": [
          "DT4H-MedCO217-Acenocoumarol (Acenocoumarol)"
         ],
         "yaxis": "y"
        },
        {
         "alignmentgroup": "True",
         "hovertemplate": "span=colesterol<br>Count=%{x}<br>Name=%{y}<extra></extra>",
         "legendgroup": "colesterol",
         "marker": {
          "color": "#FFA15A",
          "pattern": {
           "shape": ""
          }
         },
         "name": "colesterol",
         "offsetgroup": "colesterol",
         "orientation": "h",
         "showlegend": true,
         "textposition": "auto",
         "type": "bar",
         "x": [
          28
         ],
         "xaxis": "x",
         "y": [
          "DT4H-Lab13-CholTot (Cholesterol )"
         ],
         "yaxis": "y"
        },
        {
         "alignmentgroup": "True",
         "hovertemplate": "span=COL<br>Count=%{x}<br>Name=%{y}<extra></extra>",
         "legendgroup": "COL",
         "marker": {
          "color": "#19d3f3",
          "pattern": {
           "shape": ""
          }
         },
         "name": "COL",
         "offsetgroup": "COL",
         "orientation": "h",
         "showlegend": true,
         "textposition": "auto",
         "type": "bar",
         "x": [
          2
         ],
         "xaxis": "x",
         "y": [
          "DT4H-Lab13-CholTot (Cholesterol )"
         ],
         "yaxis": "y"
        },
        {
         "alignmentgroup": "True",
         "hovertemplate": "span=Colesterol<br>Count=%{x}<br>Name=%{y}<extra></extra>",
         "legendgroup": "Colesterol",
         "marker": {
          "color": "#FF6692",
          "pattern": {
           "shape": ""
          }
         },
         "name": "Colesterol",
         "offsetgroup": "Colesterol",
         "orientation": "h",
         "showlegend": true,
         "textposition": "auto",
         "type": "bar",
         "x": [
          2
         ],
         "xaxis": "x",
         "y": [
          "DT4H-Lab13-CholTot (Cholesterol )"
         ],
         "yaxis": "y"
        },
        {
         "alignmentgroup": "True",
         "hovertemplate": "span=aspirina<br>Count=%{x}<br>Name=%{y}<extra></extra>",
         "legendgroup": "aspirina",
         "marker": {
          "color": "#B6E880",
          "pattern": {
           "shape": ""
          }
         },
         "name": "aspirina",
         "offsetgroup": "aspirina",
         "orientation": "h",
         "showlegend": true,
         "textposition": "auto",
         "type": "bar",
         "x": [
          4
         ],
         "xaxis": "x",
         "y": [
          "DT4H-MedP154-aspirin (aspirin)"
         ],
         "yaxis": "y"
        },
        {
         "alignmentgroup": "True",
         "hovertemplate": "span=ácido acetilsalicílico<br>Count=%{x}<br>Name=%{y}<extra></extra>",
         "legendgroup": "ácido acetilsalicílico",
         "marker": {
          "color": "#FF97FF",
          "pattern": {
           "shape": ""
          }
         },
         "name": "ácido acetilsalicílico",
         "offsetgroup": "ácido acetilsalicílico",
         "orientation": "h",
         "showlegend": true,
         "textposition": "auto",
         "type": "bar",
         "x": [
          15
         ],
         "xaxis": "x",
         "y": [
          "DT4H-MedP154-aspirin (aspirin)"
         ],
         "yaxis": "y"
        },
        {
         "alignmentgroup": "True",
         "hovertemplate": "span=Adiro<br>Count=%{x}<br>Name=%{y}<extra></extra>",
         "legendgroup": "Adiro",
         "marker": {
          "color": "#FECB52",
          "pattern": {
           "shape": ""
          }
         },
         "name": "Adiro",
         "offsetgroup": "Adiro",
         "orientation": "h",
         "showlegend": true,
         "textposition": "auto",
         "type": "bar",
         "x": [
          1
         ],
         "xaxis": "x",
         "y": [
          "DT4H-MedP154-aspirin (aspirin)"
         ],
         "yaxis": "y"
        },
        {
         "alignmentgroup": "True",
         "hovertemplate": "span=Acetilsalicílico ácido<br>Count=%{x}<br>Name=%{y}<extra></extra>",
         "legendgroup": "Acetilsalicílico ácido",
         "marker": {
          "color": "#636efa",
          "pattern": {
           "shape": ""
          }
         },
         "name": "Acetilsalicílico ácido",
         "offsetgroup": "Acetilsalicílico ácido",
         "orientation": "h",
         "showlegend": true,
         "textposition": "auto",
         "type": "bar",
         "x": [
          1
         ],
         "xaxis": "x",
         "y": [
          "DT4H-MedP154-aspirin (aspirin)"
         ],
         "yaxis": "y"
        },
        {
         "alignmentgroup": "True",
         "hovertemplate": "span=ácido acetil salicílico<br>Count=%{x}<br>Name=%{y}<extra></extra>",
         "legendgroup": "ácido acetil salicílico",
         "marker": {
          "color": "#EF553B",
          "pattern": {
           "shape": ""
          }
         },
         "name": "ácido acetil salicílico",
         "offsetgroup": "ácido acetil salicílico",
         "orientation": "h",
         "showlegend": true,
         "textposition": "auto",
         "type": "bar",
         "x": [
          1
         ],
         "xaxis": "x",
         "y": [
          "DT4H-MedP154-aspirin (aspirin)"
         ],
         "yaxis": "y"
        },
        {
         "alignmentgroup": "True",
         "hovertemplate": "span=acido acetilsalicílico<br>Count=%{x}<br>Name=%{y}<extra></extra>",
         "legendgroup": "acido acetilsalicílico",
         "marker": {
          "color": "#00cc96",
          "pattern": {
           "shape": ""
          }
         },
         "name": "acido acetilsalicílico",
         "offsetgroup": "acido acetilsalicílico",
         "orientation": "h",
         "showlegend": true,
         "textposition": "auto",
         "type": "bar",
         "x": [
          1
         ],
         "xaxis": "x",
         "y": [
          "DT4H-MedP154-aspirin (aspirin)"
         ],
         "yaxis": "y"
        },
        {
         "alignmentgroup": "True",
         "hovertemplate": "span=Aspirina<br>Count=%{x}<br>Name=%{y}<extra></extra>",
         "legendgroup": "Aspirina",
         "marker": {
          "color": "#ab63fa",
          "pattern": {
           "shape": ""
          }
         },
         "name": "Aspirina",
         "offsetgroup": "Aspirina",
         "orientation": "h",
         "showlegend": true,
         "textposition": "auto",
         "type": "bar",
         "x": [
          1
         ],
         "xaxis": "x",
         "y": [
          "DT4H-MedP154-aspirin (aspirin)"
         ],
         "yaxis": "y"
        },
        {
         "alignmentgroup": "True",
         "hovertemplate": "span=aspirinas<br>Count=%{x}<br>Name=%{y}<extra></extra>",
         "legendgroup": "aspirinas",
         "marker": {
          "color": "#FFA15A",
          "pattern": {
           "shape": ""
          }
         },
         "name": "aspirinas",
         "offsetgroup": "aspirinas",
         "orientation": "h",
         "showlegend": true,
         "textposition": "auto",
         "type": "bar",
         "x": [
          2
         ],
         "xaxis": "x",
         "y": [
          "DT4H-MedP154-aspirin (aspirin)"
         ],
         "yaxis": "y"
        },
        {
         "alignmentgroup": "True",
         "hovertemplate": "span=ácido acetil-salicílico<br>Count=%{x}<br>Name=%{y}<extra></extra>",
         "legendgroup": "ácido acetil-salicílico",
         "marker": {
          "color": "#19d3f3",
          "pattern": {
           "shape": ""
          }
         },
         "name": "ácido acetil-salicílico",
         "offsetgroup": "ácido acetil-salicílico",
         "orientation": "h",
         "showlegend": true,
         "textposition": "auto",
         "type": "bar",
         "x": [
          2
         ],
         "xaxis": "x",
         "y": [
          "DT4H-MedP154-aspirin (aspirin)"
         ],
         "yaxis": "y"
        },
        {
         "alignmentgroup": "True",
         "hovertemplate": "span=AAS<br>Count=%{x}<br>Name=%{y}<extra></extra>",
         "legendgroup": "AAS",
         "marker": {
          "color": "#FF6692",
          "pattern": {
           "shape": ""
          }
         },
         "name": "AAS",
         "offsetgroup": "AAS",
         "orientation": "h",
         "showlegend": true,
         "textposition": "auto",
         "type": "bar",
         "x": [
          6
         ],
         "xaxis": "x",
         "y": [
          "DT4H-MedP154-aspirin (aspirin)"
         ],
         "yaxis": "y"
        },
        {
         "alignmentgroup": "True",
         "hovertemplate": "span=gamma-GT<br>Count=%{x}<br>Name=%{y}<extra></extra>",
         "legendgroup": "gamma-GT",
         "marker": {
          "color": "#B6E880",
          "pattern": {
           "shape": ""
          }
         },
         "name": "gamma-GT",
         "offsetgroup": "gamma-GT",
         "orientation": "h",
         "showlegend": true,
         "textposition": "auto",
         "type": "bar",
         "x": [
          1
         ],
         "xaxis": "x",
         "y": [
          "DT4H-Lab18-GGT (Gamma-glutamyltransferase )"
         ],
         "yaxis": "y"
        },
        {
         "alignmentgroup": "True",
         "hovertemplate": "span=γGT<br>Count=%{x}<br>Name=%{y}<extra></extra>",
         "legendgroup": "γGT",
         "marker": {
          "color": "#FF97FF",
          "pattern": {
           "shape": ""
          }
         },
         "name": "γGT",
         "offsetgroup": "γGT",
         "orientation": "h",
         "showlegend": true,
         "textposition": "auto",
         "type": "bar",
         "x": [
          1
         ],
         "xaxis": "x",
         "y": [
          "DT4H-Lab18-GGT (Gamma-glutamyltransferase )"
         ],
         "yaxis": "y"
        },
        {
         "alignmentgroup": "True",
         "hovertemplate": "span=gamma-glutamiltranspeptidasa<br>Count=%{x}<br>Name=%{y}<extra></extra>",
         "legendgroup": "gamma-glutamiltranspeptidasa",
         "marker": {
          "color": "#FECB52",
          "pattern": {
           "shape": ""
          }
         },
         "name": "gamma-glutamiltranspeptidasa",
         "offsetgroup": "gamma-glutamiltranspeptidasa",
         "orientation": "h",
         "showlegend": true,
         "textposition": "auto",
         "type": "bar",
         "x": [
          1
         ],
         "xaxis": "x",
         "y": [
          "DT4H-Lab18-GGT (Gamma-glutamyltransferase )"
         ],
         "yaxis": "y"
        },
        {
         "alignmentgroup": "True",
         "hovertemplate": "span=gammaglutamiltranspeptidasa<br>Count=%{x}<br>Name=%{y}<extra></extra>",
         "legendgroup": "gammaglutamiltranspeptidasa",
         "marker": {
          "color": "#636efa",
          "pattern": {
           "shape": ""
          }
         },
         "name": "gammaglutamiltranspeptidasa",
         "offsetgroup": "gammaglutamiltranspeptidasa",
         "orientation": "h",
         "showlegend": true,
         "textposition": "auto",
         "type": "bar",
         "x": [
          3
         ],
         "xaxis": "x",
         "y": [
          "DT4H-Lab18-GGT (Gamma-glutamyltransferase )"
         ],
         "yaxis": "y"
        },
        {
         "alignmentgroup": "True",
         "hovertemplate": "span=GGT<br>Count=%{x}<br>Name=%{y}<extra></extra>",
         "legendgroup": "GGT",
         "marker": {
          "color": "#EF553B",
          "pattern": {
           "shape": ""
          }
         },
         "name": "GGT",
         "offsetgroup": "GGT",
         "orientation": "h",
         "showlegend": true,
         "textposition": "auto",
         "type": "bar",
         "x": [
          38
         ],
         "xaxis": "x",
         "y": [
          "DT4H-Lab18-GGT (Gamma-glutamyltransferase )"
         ],
         "yaxis": "y"
        },
        {
         "alignmentgroup": "True",
         "hovertemplate": "span=gamma-glutamiltransferasa<br>Count=%{x}<br>Name=%{y}<extra></extra>",
         "legendgroup": "gamma-glutamiltransferasa",
         "marker": {
          "color": "#00cc96",
          "pattern": {
           "shape": ""
          }
         },
         "name": "gamma-glutamiltransferasa",
         "offsetgroup": "gamma-glutamiltransferasa",
         "orientation": "h",
         "showlegend": true,
         "textposition": "auto",
         "type": "bar",
         "x": [
          1
         ],
         "xaxis": "x",
         "y": [
          "DT4H-Lab18-GGT (Gamma-glutamyltransferase )"
         ],
         "yaxis": "y"
        },
        {
         "alignmentgroup": "True",
         "hovertemplate": "span=gGT<br>Count=%{x}<br>Name=%{y}<extra></extra>",
         "legendgroup": "gGT",
         "marker": {
          "color": "#ab63fa",
          "pattern": {
           "shape": ""
          }
         },
         "name": "gGT",
         "offsetgroup": "gGT",
         "orientation": "h",
         "showlegend": true,
         "textposition": "auto",
         "type": "bar",
         "x": [
          1
         ],
         "xaxis": "x",
         "y": [
          "DT4H-Lab18-GGT (Gamma-glutamyltransferase )"
         ],
         "yaxis": "y"
        },
        {
         "alignmentgroup": "True",
         "hovertemplate": "span=gamma-glutamil transpeptidasa<br>Count=%{x}<br>Name=%{y}<extra></extra>",
         "legendgroup": "gamma-glutamil transpeptidasa",
         "marker": {
          "color": "#FFA15A",
          "pattern": {
           "shape": ""
          }
         },
         "name": "gamma-glutamil transpeptidasa",
         "offsetgroup": "gamma-glutamil transpeptidasa",
         "orientation": "h",
         "showlegend": true,
         "textposition": "auto",
         "type": "bar",
         "x": [
          1
         ],
         "xaxis": "x",
         "y": [
          "DT4H-Lab18-GGT (Gamma-glutamyltransferase )"
         ],
         "yaxis": "y"
        },
        {
         "alignmentgroup": "True",
         "hovertemplate": "span=Sodio<br>Count=%{x}<br>Name=%{y}<extra></extra>",
         "legendgroup": "Sodio",
         "marker": {
          "color": "#19d3f3",
          "pattern": {
           "shape": ""
          }
         },
         "name": "Sodio",
         "offsetgroup": "Sodio",
         "orientation": "h",
         "showlegend": true,
         "textposition": "auto",
         "type": "bar",
         "x": [
          4
         ],
         "xaxis": "x",
         "y": [
          "DT4H-Lab17-Sodium (sodium)"
         ],
         "yaxis": "y"
        },
        {
         "alignmentgroup": "True",
         "hovertemplate": "span=sodio<br>Count=%{x}<br>Name=%{y}<extra></extra>",
         "legendgroup": "sodio",
         "marker": {
          "color": "#FF6692",
          "pattern": {
           "shape": ""
          }
         },
         "name": "sodio",
         "offsetgroup": "sodio",
         "orientation": "h",
         "showlegend": true,
         "textposition": "auto",
         "type": "bar",
         "x": [
          30
         ],
         "xaxis": "x",
         "y": [
          "DT4H-Lab17-Sodium (sodium)"
         ],
         "yaxis": "y"
        },
        {
         "alignmentgroup": "True",
         "hovertemplate": "span=Na<br>Count=%{x}<br>Name=%{y}<extra></extra>",
         "legendgroup": "Na",
         "marker": {
          "color": "#B6E880",
          "pattern": {
           "shape": ""
          }
         },
         "name": "Na",
         "offsetgroup": "Na",
         "orientation": "h",
         "showlegend": true,
         "textposition": "auto",
         "type": "bar",
         "x": [
          22
         ],
         "xaxis": "x",
         "y": [
          "DT4H-Lab17-Sodium (sodium)"
         ],
         "yaxis": "y"
        },
        {
         "alignmentgroup": "True",
         "hovertemplate": "span=Na+<br>Count=%{x}<br>Name=%{y}<extra></extra>",
         "legendgroup": "Na+",
         "marker": {
          "color": "#FF97FF",
          "pattern": {
           "shape": ""
          }
         },
         "name": "Na+",
         "offsetgroup": "Na+",
         "orientation": "h",
         "showlegend": true,
         "textposition": "auto",
         "type": "bar",
         "x": [
          2
         ],
         "xaxis": "x",
         "y": [
          "DT4H-Lab17-Sodium (sodium)"
         ],
         "yaxis": "y"
        },
        {
         "alignmentgroup": "True",
         "hovertemplate": "span=urea<br>Count=%{x}<br>Name=%{y}<extra></extra>",
         "legendgroup": "urea",
         "marker": {
          "color": "#FECB52",
          "pattern": {
           "shape": ""
          }
         },
         "name": "urea",
         "offsetgroup": "urea",
         "orientation": "h",
         "showlegend": true,
         "textposition": "auto",
         "type": "bar",
         "x": [
          51
         ],
         "xaxis": "x",
         "y": [
          "DT4H-MedD142-Urea (Urea)"
         ],
         "yaxis": "y"
        },
        {
         "alignmentgroup": "True",
         "hovertemplate": "span=Urea<br>Count=%{x}<br>Name=%{y}<extra></extra>",
         "legendgroup": "Urea",
         "marker": {
          "color": "#636efa",
          "pattern": {
           "shape": ""
          }
         },
         "name": "Urea",
         "offsetgroup": "Urea",
         "orientation": "h",
         "showlegend": true,
         "textposition": "auto",
         "type": "bar",
         "x": [
          8
         ],
         "xaxis": "x",
         "y": [
          "DT4H-MedD142-Urea (Urea)"
         ],
         "yaxis": "y"
        },
        {
         "alignmentgroup": "True",
         "hovertemplate": "span=K<br>Count=%{x}<br>Name=%{y}<extra></extra>",
         "legendgroup": "K",
         "marker": {
          "color": "#EF553B",
          "pattern": {
           "shape": ""
          }
         },
         "name": "K",
         "offsetgroup": "K",
         "orientation": "h",
         "showlegend": true,
         "textposition": "auto",
         "type": "bar",
         "x": [
          26
         ],
         "xaxis": "x",
         "y": [
          "DT4H-Lab16-Potassium (Potassium)"
         ],
         "yaxis": "y"
        },
        {
         "alignmentgroup": "True",
         "hovertemplate": "span=K+<br>Count=%{x}<br>Name=%{y}<extra></extra>",
         "legendgroup": "K+",
         "marker": {
          "color": "#00cc96",
          "pattern": {
           "shape": ""
          }
         },
         "name": "K+",
         "offsetgroup": "K+",
         "orientation": "h",
         "showlegend": true,
         "textposition": "auto",
         "type": "bar",
         "x": [
          2
         ],
         "xaxis": "x",
         "y": [
          "DT4H-Lab16-Potassium (Potassium)"
         ],
         "yaxis": "y"
        },
        {
         "alignmentgroup": "True",
         "hovertemplate": "span=potasio<br>Count=%{x}<br>Name=%{y}<extra></extra>",
         "legendgroup": "potasio",
         "marker": {
          "color": "#ab63fa",
          "pattern": {
           "shape": ""
          }
         },
         "name": "potasio",
         "offsetgroup": "potasio",
         "orientation": "h",
         "showlegend": true,
         "textposition": "auto",
         "type": "bar",
         "x": [
          40
         ],
         "xaxis": "x",
         "y": [
          "DT4H-Lab16-Potassium (Potassium)"
         ],
         "yaxis": "y"
        },
        {
         "alignmentgroup": "True",
         "hovertemplate": "span=Potasio<br>Count=%{x}<br>Name=%{y}<extra></extra>",
         "legendgroup": "Potasio",
         "marker": {
          "color": "#FFA15A",
          "pattern": {
           "shape": ""
          }
         },
         "name": "Potasio",
         "offsetgroup": "Potasio",
         "orientation": "h",
         "showlegend": true,
         "textposition": "auto",
         "type": "bar",
         "x": [
          4
         ],
         "xaxis": "x",
         "y": [
          "DT4H-Lab16-Potassium (Potassium)"
         ],
         "yaxis": "y"
        },
        {
         "alignmentgroup": "True",
         "hovertemplate": "span=proteína C reactiva<br>Count=%{x}<br>Name=%{y}<extra></extra>",
         "legendgroup": "proteína C reactiva",
         "marker": {
          "color": "#19d3f3",
          "pattern": {
           "shape": ""
          }
         },
         "name": "proteína C reactiva",
         "offsetgroup": "proteína C reactiva",
         "orientation": "h",
         "showlegend": true,
         "textposition": "auto",
         "type": "bar",
         "x": [
          30
         ],
         "xaxis": "x",
         "y": [
          "DT4H-Lab7-CRPnonhs (C-reactive protein )"
         ],
         "yaxis": "y"
        },
        {
         "alignmentgroup": "True",
         "hovertemplate": "span=PrCR<br>Count=%{x}<br>Name=%{y}<extra></extra>",
         "legendgroup": "PrCR",
         "marker": {
          "color": "#FF6692",
          "pattern": {
           "shape": ""
          }
         },
         "name": "PrCR",
         "offsetgroup": "PrCR",
         "orientation": "h",
         "showlegend": true,
         "textposition": "auto",
         "type": "bar",
         "x": [
          1
         ],
         "xaxis": "x",
         "y": [
          "DT4H-Lab7-CRPnonhs (C-reactive protein )"
         ],
         "yaxis": "y"
        },
        {
         "alignmentgroup": "True",
         "hovertemplate": "span=proteína C-reativa<br>Count=%{x}<br>Name=%{y}<extra></extra>",
         "legendgroup": "proteína C-reativa",
         "marker": {
          "color": "#B6E880",
          "pattern": {
           "shape": ""
          }
         },
         "name": "proteína C-reativa",
         "offsetgroup": "proteína C-reativa",
         "orientation": "h",
         "showlegend": true,
         "textposition": "auto",
         "type": "bar",
         "x": [
          1
         ],
         "xaxis": "x",
         "y": [
          "DT4H-Lab7-CRPnonhs (C-reactive protein )"
         ],
         "yaxis": "y"
        },
        {
         "alignmentgroup": "True",
         "hovertemplate": "span=Proteína C reactiva<br>Count=%{x}<br>Name=%{y}<extra></extra>",
         "legendgroup": "Proteína C reactiva",
         "marker": {
          "color": "#FF97FF",
          "pattern": {
           "shape": ""
          }
         },
         "name": "Proteína C reactiva",
         "offsetgroup": "Proteína C reactiva",
         "orientation": "h",
         "showlegend": true,
         "textposition": "auto",
         "type": "bar",
         "x": [
          4
         ],
         "xaxis": "x",
         "y": [
          "DT4H-Lab7-CRPnonhs (C-reactive protein )"
         ],
         "yaxis": "y"
        },
        {
         "alignmentgroup": "True",
         "hovertemplate": "span=proteína C-reactiva<br>Count=%{x}<br>Name=%{y}<extra></extra>",
         "legendgroup": "proteína C-reactiva",
         "marker": {
          "color": "#FECB52",
          "pattern": {
           "shape": ""
          }
         },
         "name": "proteína C-reactiva",
         "offsetgroup": "proteína C-reactiva",
         "orientation": "h",
         "showlegend": true,
         "textposition": "auto",
         "type": "bar",
         "x": [
          2
         ],
         "xaxis": "x",
         "y": [
          "DT4H-Lab7-CRPnonhs (C-reactive protein )"
         ],
         "yaxis": "y"
        },
        {
         "alignmentgroup": "True",
         "hovertemplate": "span=PCR<br>Count=%{x}<br>Name=%{y}<extra></extra>",
         "legendgroup": "PCR",
         "marker": {
          "color": "#636efa",
          "pattern": {
           "shape": ""
          }
         },
         "name": "PCR",
         "offsetgroup": "PCR",
         "orientation": "h",
         "showlegend": true,
         "textposition": "auto",
         "type": "bar",
         "x": [
          54
         ],
         "xaxis": "x",
         "y": [
          "DT4H-Lab7-CRPnonhs (C-reactive protein )"
         ],
         "yaxis": "y"
        },
        {
         "alignmentgroup": "True",
         "hovertemplate": "span=HB<br>Count=%{x}<br>Name=%{y}<extra></extra>",
         "legendgroup": "HB",
         "marker": {
          "color": "#EF553B",
          "pattern": {
           "shape": ""
          }
         },
         "name": "HB",
         "offsetgroup": "HB",
         "orientation": "h",
         "showlegend": true,
         "textposition": "auto",
         "type": "bar",
         "x": [
          1
         ],
         "xaxis": "x",
         "y": [
          "DT4H-Lab1-Hb (Hemoglobin)"
         ],
         "yaxis": "y"
        },
        {
         "alignmentgroup": "True",
         "hovertemplate": "span=Hgb<br>Count=%{x}<br>Name=%{y}<extra></extra>",
         "legendgroup": "Hgb",
         "marker": {
          "color": "#00cc96",
          "pattern": {
           "shape": ""
          }
         },
         "name": "Hgb",
         "offsetgroup": "Hgb",
         "orientation": "h",
         "showlegend": true,
         "textposition": "auto",
         "type": "bar",
         "x": [
          2
         ],
         "xaxis": "x",
         "y": [
          "DT4H-Lab1-Hb (Hemoglobin)"
         ],
         "yaxis": "y"
        },
        {
         "alignmentgroup": "True",
         "hovertemplate": "span=Hb<br>Count=%{x}<br>Name=%{y}<extra></extra>",
         "legendgroup": "Hb",
         "marker": {
          "color": "#ab63fa",
          "pattern": {
           "shape": ""
          }
         },
         "name": "Hb",
         "offsetgroup": "Hb",
         "orientation": "h",
         "showlegend": true,
         "textposition": "auto",
         "type": "bar",
         "x": [
          66
         ],
         "xaxis": "x",
         "y": [
          "DT4H-Lab1-Hb (Hemoglobin)"
         ],
         "yaxis": "y"
        },
        {
         "alignmentgroup": "True",
         "hovertemplate": "span=Hemoglobina<br>Count=%{x}<br>Name=%{y}<extra></extra>",
         "legendgroup": "Hemoglobina",
         "marker": {
          "color": "#FFA15A",
          "pattern": {
           "shape": ""
          }
         },
         "name": "Hemoglobina",
         "offsetgroup": "Hemoglobina",
         "orientation": "h",
         "showlegend": true,
         "textposition": "auto",
         "type": "bar",
         "x": [
          5
         ],
         "xaxis": "x",
         "y": [
          "DT4H-Lab1-Hb (Hemoglobin)"
         ],
         "yaxis": "y"
        },
        {
         "alignmentgroup": "True",
         "hovertemplate": "span=hemoglobina<br>Count=%{x}<br>Name=%{y}<extra></extra>",
         "legendgroup": "hemoglobina",
         "marker": {
          "color": "#19d3f3",
          "pattern": {
           "shape": ""
          }
         },
         "name": "hemoglobina",
         "offsetgroup": "hemoglobina",
         "orientation": "h",
         "showlegend": true,
         "textposition": "auto",
         "type": "bar",
         "x": [
          106
         ],
         "xaxis": "x",
         "y": [
          "DT4H-Lab1-Hb (Hemoglobin)"
         ],
         "yaxis": "y"
        }
       ],
       "layout": {
        "barmode": "relative",
        "height": 600,
        "legend": {
         "title": {
          "text": "span"
         },
         "tracegroupgap": 0
        },
        "showlegend": false,
        "template": {
         "data": {
          "bar": [
           {
            "error_x": {
             "color": "#2a3f5f"
            },
            "error_y": {
             "color": "#2a3f5f"
            },
            "marker": {
             "line": {
              "color": "#E5ECF6",
              "width": 0.5
             },
             "pattern": {
              "fillmode": "overlay",
              "size": 10,
              "solidity": 0.2
             }
            },
            "type": "bar"
           }
          ],
          "barpolar": [
           {
            "marker": {
             "line": {
              "color": "#E5ECF6",
              "width": 0.5
             },
             "pattern": {
              "fillmode": "overlay",
              "size": 10,
              "solidity": 0.2
             }
            },
            "type": "barpolar"
           }
          ],
          "carpet": [
           {
            "aaxis": {
             "endlinecolor": "#2a3f5f",
             "gridcolor": "white",
             "linecolor": "white",
             "minorgridcolor": "white",
             "startlinecolor": "#2a3f5f"
            },
            "baxis": {
             "endlinecolor": "#2a3f5f",
             "gridcolor": "white",
             "linecolor": "white",
             "minorgridcolor": "white",
             "startlinecolor": "#2a3f5f"
            },
            "type": "carpet"
           }
          ],
          "choropleth": [
           {
            "colorbar": {
             "outlinewidth": 0,
             "ticks": ""
            },
            "type": "choropleth"
           }
          ],
          "contour": [
           {
            "colorbar": {
             "outlinewidth": 0,
             "ticks": ""
            },
            "colorscale": [
             [
              0,
              "#0d0887"
             ],
             [
              0.1111111111111111,
              "#46039f"
             ],
             [
              0.2222222222222222,
              "#7201a8"
             ],
             [
              0.3333333333333333,
              "#9c179e"
             ],
             [
              0.4444444444444444,
              "#bd3786"
             ],
             [
              0.5555555555555556,
              "#d8576b"
             ],
             [
              0.6666666666666666,
              "#ed7953"
             ],
             [
              0.7777777777777778,
              "#fb9f3a"
             ],
             [
              0.8888888888888888,
              "#fdca26"
             ],
             [
              1,
              "#f0f921"
             ]
            ],
            "type": "contour"
           }
          ],
          "contourcarpet": [
           {
            "colorbar": {
             "outlinewidth": 0,
             "ticks": ""
            },
            "type": "contourcarpet"
           }
          ],
          "heatmap": [
           {
            "colorbar": {
             "outlinewidth": 0,
             "ticks": ""
            },
            "colorscale": [
             [
              0,
              "#0d0887"
             ],
             [
              0.1111111111111111,
              "#46039f"
             ],
             [
              0.2222222222222222,
              "#7201a8"
             ],
             [
              0.3333333333333333,
              "#9c179e"
             ],
             [
              0.4444444444444444,
              "#bd3786"
             ],
             [
              0.5555555555555556,
              "#d8576b"
             ],
             [
              0.6666666666666666,
              "#ed7953"
             ],
             [
              0.7777777777777778,
              "#fb9f3a"
             ],
             [
              0.8888888888888888,
              "#fdca26"
             ],
             [
              1,
              "#f0f921"
             ]
            ],
            "type": "heatmap"
           }
          ],
          "heatmapgl": [
           {
            "colorbar": {
             "outlinewidth": 0,
             "ticks": ""
            },
            "colorscale": [
             [
              0,
              "#0d0887"
             ],
             [
              0.1111111111111111,
              "#46039f"
             ],
             [
              0.2222222222222222,
              "#7201a8"
             ],
             [
              0.3333333333333333,
              "#9c179e"
             ],
             [
              0.4444444444444444,
              "#bd3786"
             ],
             [
              0.5555555555555556,
              "#d8576b"
             ],
             [
              0.6666666666666666,
              "#ed7953"
             ],
             [
              0.7777777777777778,
              "#fb9f3a"
             ],
             [
              0.8888888888888888,
              "#fdca26"
             ],
             [
              1,
              "#f0f921"
             ]
            ],
            "type": "heatmapgl"
           }
          ],
          "histogram": [
           {
            "marker": {
             "pattern": {
              "fillmode": "overlay",
              "size": 10,
              "solidity": 0.2
             }
            },
            "type": "histogram"
           }
          ],
          "histogram2d": [
           {
            "colorbar": {
             "outlinewidth": 0,
             "ticks": ""
            },
            "colorscale": [
             [
              0,
              "#0d0887"
             ],
             [
              0.1111111111111111,
              "#46039f"
             ],
             [
              0.2222222222222222,
              "#7201a8"
             ],
             [
              0.3333333333333333,
              "#9c179e"
             ],
             [
              0.4444444444444444,
              "#bd3786"
             ],
             [
              0.5555555555555556,
              "#d8576b"
             ],
             [
              0.6666666666666666,
              "#ed7953"
             ],
             [
              0.7777777777777778,
              "#fb9f3a"
             ],
             [
              0.8888888888888888,
              "#fdca26"
             ],
             [
              1,
              "#f0f921"
             ]
            ],
            "type": "histogram2d"
           }
          ],
          "histogram2dcontour": [
           {
            "colorbar": {
             "outlinewidth": 0,
             "ticks": ""
            },
            "colorscale": [
             [
              0,
              "#0d0887"
             ],
             [
              0.1111111111111111,
              "#46039f"
             ],
             [
              0.2222222222222222,
              "#7201a8"
             ],
             [
              0.3333333333333333,
              "#9c179e"
             ],
             [
              0.4444444444444444,
              "#bd3786"
             ],
             [
              0.5555555555555556,
              "#d8576b"
             ],
             [
              0.6666666666666666,
              "#ed7953"
             ],
             [
              0.7777777777777778,
              "#fb9f3a"
             ],
             [
              0.8888888888888888,
              "#fdca26"
             ],
             [
              1,
              "#f0f921"
             ]
            ],
            "type": "histogram2dcontour"
           }
          ],
          "mesh3d": [
           {
            "colorbar": {
             "outlinewidth": 0,
             "ticks": ""
            },
            "type": "mesh3d"
           }
          ],
          "parcoords": [
           {
            "line": {
             "colorbar": {
              "outlinewidth": 0,
              "ticks": ""
             }
            },
            "type": "parcoords"
           }
          ],
          "pie": [
           {
            "automargin": true,
            "type": "pie"
           }
          ],
          "scatter": [
           {
            "fillpattern": {
             "fillmode": "overlay",
             "size": 10,
             "solidity": 0.2
            },
            "type": "scatter"
           }
          ],
          "scatter3d": [
           {
            "line": {
             "colorbar": {
              "outlinewidth": 0,
              "ticks": ""
             }
            },
            "marker": {
             "colorbar": {
              "outlinewidth": 0,
              "ticks": ""
             }
            },
            "type": "scatter3d"
           }
          ],
          "scattercarpet": [
           {
            "marker": {
             "colorbar": {
              "outlinewidth": 0,
              "ticks": ""
             }
            },
            "type": "scattercarpet"
           }
          ],
          "scattergeo": [
           {
            "marker": {
             "colorbar": {
              "outlinewidth": 0,
              "ticks": ""
             }
            },
            "type": "scattergeo"
           }
          ],
          "scattergl": [
           {
            "marker": {
             "colorbar": {
              "outlinewidth": 0,
              "ticks": ""
             }
            },
            "type": "scattergl"
           }
          ],
          "scattermapbox": [
           {
            "marker": {
             "colorbar": {
              "outlinewidth": 0,
              "ticks": ""
             }
            },
            "type": "scattermapbox"
           }
          ],
          "scatterpolar": [
           {
            "marker": {
             "colorbar": {
              "outlinewidth": 0,
              "ticks": ""
             }
            },
            "type": "scatterpolar"
           }
          ],
          "scatterpolargl": [
           {
            "marker": {
             "colorbar": {
              "outlinewidth": 0,
              "ticks": ""
             }
            },
            "type": "scatterpolargl"
           }
          ],
          "scatterternary": [
           {
            "marker": {
             "colorbar": {
              "outlinewidth": 0,
              "ticks": ""
             }
            },
            "type": "scatterternary"
           }
          ],
          "surface": [
           {
            "colorbar": {
             "outlinewidth": 0,
             "ticks": ""
            },
            "colorscale": [
             [
              0,
              "#0d0887"
             ],
             [
              0.1111111111111111,
              "#46039f"
             ],
             [
              0.2222222222222222,
              "#7201a8"
             ],
             [
              0.3333333333333333,
              "#9c179e"
             ],
             [
              0.4444444444444444,
              "#bd3786"
             ],
             [
              0.5555555555555556,
              "#d8576b"
             ],
             [
              0.6666666666666666,
              "#ed7953"
             ],
             [
              0.7777777777777778,
              "#fb9f3a"
             ],
             [
              0.8888888888888888,
              "#fdca26"
             ],
             [
              1,
              "#f0f921"
             ]
            ],
            "type": "surface"
           }
          ],
          "table": [
           {
            "cells": {
             "fill": {
              "color": "#EBF0F8"
             },
             "line": {
              "color": "white"
             }
            },
            "header": {
             "fill": {
              "color": "#C8D4E3"
             },
             "line": {
              "color": "white"
             }
            },
            "type": "table"
           }
          ]
         },
         "layout": {
          "annotationdefaults": {
           "arrowcolor": "#2a3f5f",
           "arrowhead": 0,
           "arrowwidth": 1
          },
          "autotypenumbers": "strict",
          "coloraxis": {
           "colorbar": {
            "outlinewidth": 0,
            "ticks": ""
           }
          },
          "colorscale": {
           "diverging": [
            [
             0,
             "#8e0152"
            ],
            [
             0.1,
             "#c51b7d"
            ],
            [
             0.2,
             "#de77ae"
            ],
            [
             0.3,
             "#f1b6da"
            ],
            [
             0.4,
             "#fde0ef"
            ],
            [
             0.5,
             "#f7f7f7"
            ],
            [
             0.6,
             "#e6f5d0"
            ],
            [
             0.7,
             "#b8e186"
            ],
            [
             0.8,
             "#7fbc41"
            ],
            [
             0.9,
             "#4d9221"
            ],
            [
             1,
             "#276419"
            ]
           ],
           "sequential": [
            [
             0,
             "#0d0887"
            ],
            [
             0.1111111111111111,
             "#46039f"
            ],
            [
             0.2222222222222222,
             "#7201a8"
            ],
            [
             0.3333333333333333,
             "#9c179e"
            ],
            [
             0.4444444444444444,
             "#bd3786"
            ],
            [
             0.5555555555555556,
             "#d8576b"
            ],
            [
             0.6666666666666666,
             "#ed7953"
            ],
            [
             0.7777777777777778,
             "#fb9f3a"
            ],
            [
             0.8888888888888888,
             "#fdca26"
            ],
            [
             1,
             "#f0f921"
            ]
           ],
           "sequentialminus": [
            [
             0,
             "#0d0887"
            ],
            [
             0.1111111111111111,
             "#46039f"
            ],
            [
             0.2222222222222222,
             "#7201a8"
            ],
            [
             0.3333333333333333,
             "#9c179e"
            ],
            [
             0.4444444444444444,
             "#bd3786"
            ],
            [
             0.5555555555555556,
             "#d8576b"
            ],
            [
             0.6666666666666666,
             "#ed7953"
            ],
            [
             0.7777777777777778,
             "#fb9f3a"
            ],
            [
             0.8888888888888888,
             "#fdca26"
            ],
            [
             1,
             "#f0f921"
            ]
           ]
          },
          "colorway": [
           "#636efa",
           "#EF553B",
           "#00cc96",
           "#ab63fa",
           "#FFA15A",
           "#19d3f3",
           "#FF6692",
           "#B6E880",
           "#FF97FF",
           "#FECB52"
          ],
          "font": {
           "color": "#2a3f5f"
          },
          "geo": {
           "bgcolor": "white",
           "lakecolor": "white",
           "landcolor": "#E5ECF6",
           "showlakes": true,
           "showland": true,
           "subunitcolor": "white"
          },
          "hoverlabel": {
           "align": "left"
          },
          "hovermode": "closest",
          "mapbox": {
           "style": "light"
          },
          "paper_bgcolor": "white",
          "plot_bgcolor": "#E5ECF6",
          "polar": {
           "angularaxis": {
            "gridcolor": "white",
            "linecolor": "white",
            "ticks": ""
           },
           "bgcolor": "#E5ECF6",
           "radialaxis": {
            "gridcolor": "white",
            "linecolor": "white",
            "ticks": ""
           }
          },
          "scene": {
           "xaxis": {
            "backgroundcolor": "#E5ECF6",
            "gridcolor": "white",
            "gridwidth": 2,
            "linecolor": "white",
            "showbackground": true,
            "ticks": "",
            "zerolinecolor": "white"
           },
           "yaxis": {
            "backgroundcolor": "#E5ECF6",
            "gridcolor": "white",
            "gridwidth": 2,
            "linecolor": "white",
            "showbackground": true,
            "ticks": "",
            "zerolinecolor": "white"
           },
           "zaxis": {
            "backgroundcolor": "#E5ECF6",
            "gridcolor": "white",
            "gridwidth": 2,
            "linecolor": "white",
            "showbackground": true,
            "ticks": "",
            "zerolinecolor": "white"
           }
          },
          "shapedefaults": {
           "line": {
            "color": "#2a3f5f"
           }
          },
          "ternary": {
           "aaxis": {
            "gridcolor": "white",
            "linecolor": "white",
            "ticks": ""
           },
           "baxis": {
            "gridcolor": "white",
            "linecolor": "white",
            "ticks": ""
           },
           "bgcolor": "#E5ECF6",
           "caxis": {
            "gridcolor": "white",
            "linecolor": "white",
            "ticks": ""
           }
          },
          "title": {
           "x": 0.05
          },
          "xaxis": {
           "automargin": true,
           "gridcolor": "white",
           "linecolor": "white",
           "ticks": "",
           "title": {
            "standoff": 15
           },
           "zerolinecolor": "white",
           "zerolinewidth": 2
          },
          "yaxis": {
           "automargin": true,
           "gridcolor": "white",
           "linecolor": "white",
           "ticks": "",
           "title": {
            "standoff": 15
           },
           "zerolinecolor": "white",
           "zerolinewidth": 2
          }
         }
        },
        "title": {
         "text": "Codes Distribution [Variable Name (SNOMED term)] <Zoom 25 out of 102 terms; zoom out to see all>"
        },
        "xaxis": {
         "anchor": "y",
         "domain": [
          0,
          1
         ],
         "title": {
          "text": "Count"
         }
        },
        "yaxis": {
         "anchor": "x",
         "domain": [
          0,
          1
         ],
         "dtick": 1,
         "range": [
          77,
          102
         ],
         "tickmode": "linear",
         "title": {
          "text": "Name"
         }
        }
       }
      }
     },
     "metadata": {},
     "output_type": "display_data"
    }
   ],
   "source": [
    "def plot_code_distribution(df):\n",
    "    import plotly.express as px\n",
    "    from plotly.subplots import make_subplots\n",
    "\n",
    "    # Filter the dataframe to exclude rows where 'span' is \"NOT_FOUND\"\n",
    "    df = df.copy()\n",
    "    ls_semantic_rel = df[\"semantic_rel\"].unique().tolist()\n",
    "\n",
    "    df[\"ID+term\"] = df[\"ID\"] + \"-\" + df[\"name\"] + \" (\" + df[\"term\"] + \")\"\n",
    "    df_found = df.loc[(df[\"span\"] != \"NOT_FOUND\"), :].copy()\n",
    "    df_count_rel = df_found[[\"ID+term\"] + ls_semantic_rel + [\"count_ID\"]].melt(id_vars=[\"ID+term\", \"count_ID\"], var_name=\"semantic_rel\", value_name=\"count\").drop_duplicates()\n",
    "    df_n_founds = df[[\"ID\", \"found\"]].drop_duplicates()\n",
    "\n",
    "    # Assuming df_found and df_n_founds are already defined\n",
    "\n",
    "    # Create the pie charts\n",
    "\n",
    "    fig01 = px.pie(df_n_founds, names='found', title='Found Variables')\n",
    "    fig01.update_traces(textinfo='label+percent+value')\n",
    "\n",
    "    fig02 = px.pie(df_found.drop_duplicates(subset=[\"ID\"]), names='semantic_tag', title='Semantic Tag Distribution')\n",
    "    fig02.update_traces(textinfo='label+percent+value')\n",
    "\n",
    "    fig03 = px.pie(df_found, names='semantic_rel', title='Semantic Relationship Distribution')\n",
    "    fig03.update_traces(textinfo='label+percent+value')\n",
    "\n",
    "\n",
    "    # Create a subplot layout with 1 row and 2 columns\n",
    "    fig = make_subplots(rows=1, cols=3, subplot_titles=(\"Found Variables\", \"Semantic Tag Distribution\", \"Semantic Relationship Distribution (Total Mentions)\"),\n",
    "                            specs=[[{\"type\": \"pie\"}] * 3])\n",
    "\n",
    "    # Add the pie charts to the subplots\n",
    "    fig.add_trace(fig01.data[0], row=1, col=1)\n",
    "    fig.add_trace(fig02.data[0], row=1, col=2)\n",
    "    fig.add_trace(fig03.data[0], row=1, col=3)\n",
    "\n",
    "    # Update the layout to adjust the title and other settings\n",
    "    fig.update_layout(title_text=\"Distribution of Semantic Relationships and Found Codes\", showlegend=False,\n",
    "                      height=600)\n",
    "\n",
    "    # Display the combined figure\n",
    "    fig.show()\n",
    "\n",
    "    # print(df_count_rel[df_count_rel.term.str.contains(\"Diabetes\")].to_markdown())\n",
    "    # Assuming df_aggregated is correctly aggregated data\n",
    "    n_terms = df_found[\"ID+term\"].nunique()\n",
    "    n_show = 25\n",
    "\n",
    "    fig1 = px.bar(df_count_rel.sort_values(by=\"count_ID\", ascending=True),\n",
    "                y='ID+term', x='count', color='semantic_rel', \n",
    "                title=f'Codes by Semantic Relationship [Variable Name (SNOMED term)] <Zoom {n_show} out of {n_terms} terms; zoom out to see all>',\n",
    "                labels={'count': 'Count', 'ID+term': 'Name'},\n",
    "                orientation='h')\n",
    "    \n",
    "    fig1.update_layout(\n",
    "                           height=600,\n",
    "                            yaxis=dict(\n",
    "                                        range=[n_terms - n_show, n_terms],\n",
    "                                        tickmode='linear',\n",
    "                                        dtick=1,\n",
    "                                    )\n",
    "                                    )\n",
    "    fig1.show()\n",
    "\n",
    "    # Create a bar chart for all the found codes by count\n",
    "    # ls_IDs = df_found.sort_values(by=\"count_ID\", ascending=False)[\"ID+term\"].unique().tolist()[:25]\n",
    "    fig2 = px.bar(df_found.sort_values(by=\"count_ID\", ascending=True),\n",
    "                y='ID+term', x='count', color='span', title=f'Codes Distribution [Variable Name (SNOMED term)] <Zoom {n_show} out of {n_terms} terms; zoom out to see all>',\n",
    "                labels={'count': 'Count', 'ID+term': 'Name'},\n",
    "                orientation='h')\n",
    "    \n",
    "    fig2.update_layout(showlegend=False, \n",
    "                           height=600,\n",
    "                            yaxis=dict(\n",
    "                                        range=[n_terms - n_show, n_terms],\n",
    "                                        tickmode='linear',\n",
    "                                        dtick=1,\n",
    "                                    )\n",
    "                                    )\n",
    "    fig2.show()\n",
    "\n",
    "\n",
    "plot_code_distribution(df_code_ovr)"
   ]
  },
  {
   "cell_type": "code",
   "execution_count": 17,
   "metadata": {},
   "outputs": [
    {
     "data": {
      "text/html": [
       "<div>\n",
       "<style scoped>\n",
       "    .dataframe tbody tr th:only-of-type {\n",
       "        vertical-align: middle;\n",
       "    }\n",
       "\n",
       "    .dataframe tbody tr th {\n",
       "        vertical-align: top;\n",
       "    }\n",
       "\n",
       "    .dataframe thead th {\n",
       "        text-align: right;\n",
       "    }\n",
       "</style>\n",
       "<table border=\"1\" class=\"dataframe\">\n",
       "  <thead>\n",
       "    <tr style=\"text-align: right;\">\n",
       "      <th></th>\n",
       "      <th>ID</th>\n",
       "      <th>name</th>\n",
       "      <th>code</th>\n",
       "      <th>span</th>\n",
       "      <th>term</th>\n",
       "      <th>semantic_rel</th>\n",
       "      <th>semantic_tag</th>\n",
       "      <th>count</th>\n",
       "      <th>found</th>\n",
       "      <th>count_ID</th>\n",
       "      <th>EXACT</th>\n",
       "      <th>NOT_FOUND</th>\n",
       "    </tr>\n",
       "  </thead>\n",
       "  <tbody>\n",
       "    <tr>\n",
       "      <th>0</th>\n",
       "      <td>DT4H-Lab1</td>\n",
       "      <td>Hb</td>\n",
       "      <td>38082009</td>\n",
       "      <td>hemoglobina</td>\n",
       "      <td>Hemoglobin</td>\n",
       "      <td>EXACT</td>\n",
       "      <td>substance</td>\n",
       "      <td>106</td>\n",
       "      <td>True</td>\n",
       "      <td>180</td>\n",
       "      <td>180.0</td>\n",
       "      <td>0.0</td>\n",
       "    </tr>\n",
       "    <tr>\n",
       "      <th>1</th>\n",
       "      <td>DT4H-Lab1</td>\n",
       "      <td>Hb</td>\n",
       "      <td>38082009</td>\n",
       "      <td>Hb</td>\n",
       "      <td>Hemoglobin</td>\n",
       "      <td>EXACT</td>\n",
       "      <td>substance</td>\n",
       "      <td>66</td>\n",
       "      <td>True</td>\n",
       "      <td>180</td>\n",
       "      <td>180.0</td>\n",
       "      <td>0.0</td>\n",
       "    </tr>\n",
       "    <tr>\n",
       "      <th>2</th>\n",
       "      <td>DT4H-Lab7</td>\n",
       "      <td>CRPnonhs</td>\n",
       "      <td>61425002</td>\n",
       "      <td>PCR</td>\n",
       "      <td>C-reactive protein</td>\n",
       "      <td>EXACT</td>\n",
       "      <td>substance</td>\n",
       "      <td>54</td>\n",
       "      <td>True</td>\n",
       "      <td>92</td>\n",
       "      <td>92.0</td>\n",
       "      <td>0.0</td>\n",
       "    </tr>\n",
       "    <tr>\n",
       "      <th>3</th>\n",
       "      <td>DT4H-MedD142</td>\n",
       "      <td>Urea</td>\n",
       "      <td>387092000</td>\n",
       "      <td>urea</td>\n",
       "      <td>Urea</td>\n",
       "      <td>EXACT</td>\n",
       "      <td>substance</td>\n",
       "      <td>51</td>\n",
       "      <td>True</td>\n",
       "      <td>59</td>\n",
       "      <td>59.0</td>\n",
       "      <td>0.0</td>\n",
       "    </tr>\n",
       "    <tr>\n",
       "      <th>4</th>\n",
       "      <td>DT4H-Lab16</td>\n",
       "      <td>Potassium</td>\n",
       "      <td>88480006</td>\n",
       "      <td>potasio</td>\n",
       "      <td>Potassium</td>\n",
       "      <td>EXACT</td>\n",
       "      <td>substance</td>\n",
       "      <td>40</td>\n",
       "      <td>True</td>\n",
       "      <td>72</td>\n",
       "      <td>72.0</td>\n",
       "      <td>0.0</td>\n",
       "    </tr>\n",
       "    <tr>\n",
       "      <th>...</th>\n",
       "      <td>...</td>\n",
       "      <td>...</td>\n",
       "      <td>...</td>\n",
       "      <td>...</td>\n",
       "      <td>...</td>\n",
       "      <td>...</td>\n",
       "      <td>...</td>\n",
       "      <td>...</td>\n",
       "      <td>...</td>\n",
       "      <td>...</td>\n",
       "      <td>...</td>\n",
       "      <td>...</td>\n",
       "    </tr>\n",
       "    <tr>\n",
       "      <th>377</th>\n",
       "      <td>DT4H-MedS117</td>\n",
       "      <td>Fluvastatin sodium</td>\n",
       "      <td>412392009</td>\n",
       "      <td>NOT_FOUND</td>\n",
       "      <td>Fluvastatin sodium</td>\n",
       "      <td>NOT_FOUND</td>\n",
       "      <td>substance</td>\n",
       "      <td>0</td>\n",
       "      <td>False</td>\n",
       "      <td>0</td>\n",
       "      <td>0.0</td>\n",
       "      <td>0.0</td>\n",
       "    </tr>\n",
       "    <tr>\n",
       "      <th>378</th>\n",
       "      <td>DT4H-MedS118</td>\n",
       "      <td>Rosuvastatin calcium</td>\n",
       "      <td>406435003</td>\n",
       "      <td>NOT_FOUND</td>\n",
       "      <td>Rosuvastatin calcium</td>\n",
       "      <td>NOT_FOUND</td>\n",
       "      <td>substance</td>\n",
       "      <td>0</td>\n",
       "      <td>False</td>\n",
       "      <td>0</td>\n",
       "      <td>0.0</td>\n",
       "      <td>0.0</td>\n",
       "    </tr>\n",
       "    <tr>\n",
       "      <th>161</th>\n",
       "      <td>DT4H-MedD24</td>\n",
       "      <td>Uricosuric agent</td>\n",
       "      <td>372758007</td>\n",
       "      <td>NOT_FOUND</td>\n",
       "      <td>Uricosuric agent</td>\n",
       "      <td>NOT_FOUND</td>\n",
       "      <td>substance</td>\n",
       "      <td>0</td>\n",
       "      <td>False</td>\n",
       "      <td>0</td>\n",
       "      <td>0.0</td>\n",
       "      <td>0.0</td>\n",
       "    </tr>\n",
       "    <tr>\n",
       "      <th>160</th>\n",
       "      <td>DT4H-MedD234</td>\n",
       "      <td>Chlorothiazide sodium</td>\n",
       "      <td>8252004</td>\n",
       "      <td>NOT_FOUND</td>\n",
       "      <td>Chlorothiazide sodium</td>\n",
       "      <td>NOT_FOUND</td>\n",
       "      <td>substance</td>\n",
       "      <td>0</td>\n",
       "      <td>False</td>\n",
       "      <td>0</td>\n",
       "      <td>0.0</td>\n",
       "      <td>0.0</td>\n",
       "    </tr>\n",
       "    <tr>\n",
       "      <th>371</th>\n",
       "      <td>DT4H-MedS111</td>\n",
       "      <td>Atorvastatin calcium anhydrous</td>\n",
       "      <td>1268949007</td>\n",
       "      <td>NOT_FOUND</td>\n",
       "      <td>Atorvastatin calcium anhydrous</td>\n",
       "      <td>NOT_FOUND</td>\n",
       "      <td>substance</td>\n",
       "      <td>0</td>\n",
       "      <td>False</td>\n",
       "      <td>0</td>\n",
       "      <td>0.0</td>\n",
       "      <td>0.0</td>\n",
       "    </tr>\n",
       "  </tbody>\n",
       "</table>\n",
       "<p>764 rows × 12 columns</p>\n",
       "</div>"
      ],
      "text/plain": [
       "               ID                            name        code         span  \\\n",
       "0       DT4H-Lab1                              Hb    38082009  hemoglobina   \n",
       "1       DT4H-Lab1                              Hb    38082009           Hb   \n",
       "2       DT4H-Lab7                        CRPnonhs    61425002          PCR   \n",
       "3    DT4H-MedD142                            Urea   387092000         urea   \n",
       "4      DT4H-Lab16                       Potassium    88480006      potasio   \n",
       "..            ...                             ...         ...          ...   \n",
       "377  DT4H-MedS117              Fluvastatin sodium   412392009    NOT_FOUND   \n",
       "378  DT4H-MedS118            Rosuvastatin calcium   406435003    NOT_FOUND   \n",
       "161   DT4H-MedD24                Uricosuric agent   372758007    NOT_FOUND   \n",
       "160  DT4H-MedD234           Chlorothiazide sodium     8252004    NOT_FOUND   \n",
       "371  DT4H-MedS111  Atorvastatin calcium anhydrous  1268949007    NOT_FOUND   \n",
       "\n",
       "                               term semantic_rel semantic_tag  count  found  \\\n",
       "0                        Hemoglobin        EXACT    substance    106   True   \n",
       "1                        Hemoglobin        EXACT    substance     66   True   \n",
       "2               C-reactive protein         EXACT    substance     54   True   \n",
       "3                              Urea        EXACT    substance     51   True   \n",
       "4                         Potassium        EXACT    substance     40   True   \n",
       "..                              ...          ...          ...    ...    ...   \n",
       "377              Fluvastatin sodium    NOT_FOUND    substance      0  False   \n",
       "378            Rosuvastatin calcium    NOT_FOUND    substance      0  False   \n",
       "161                Uricosuric agent    NOT_FOUND    substance      0  False   \n",
       "160           Chlorothiazide sodium    NOT_FOUND    substance      0  False   \n",
       "371  Atorvastatin calcium anhydrous    NOT_FOUND    substance      0  False   \n",
       "\n",
       "     count_ID  EXACT  NOT_FOUND  \n",
       "0         180  180.0        0.0  \n",
       "1         180  180.0        0.0  \n",
       "2          92   92.0        0.0  \n",
       "3          59   59.0        0.0  \n",
       "4          72   72.0        0.0  \n",
       "..        ...    ...        ...  \n",
       "377         0    0.0        0.0  \n",
       "378         0    0.0        0.0  \n",
       "161         0    0.0        0.0  \n",
       "160         0    0.0        0.0  \n",
       "371         0    0.0        0.0  \n",
       "\n",
       "[764 rows x 12 columns]"
      ]
     },
     "execution_count": 17,
     "metadata": {},
     "output_type": "execute_result"
    }
   ],
   "source": [
    "df_code_ovr"
   ]
  }
 ],
 "metadata": {
  "kernelspec": {
   "display_name": ".venv",
   "language": "python",
   "name": "python3"
  },
  "language_info": {
   "codemirror_mode": {
    "name": "ipython",
    "version": 3
   },
   "file_extension": ".py",
   "mimetype": "text/x-python",
   "name": "python",
   "nbconvert_exporter": "python",
   "pygments_lexer": "ipython3",
   "version": "3.10.12"
  }
 },
 "nbformat": 4,
 "nbformat_minor": 2
}
