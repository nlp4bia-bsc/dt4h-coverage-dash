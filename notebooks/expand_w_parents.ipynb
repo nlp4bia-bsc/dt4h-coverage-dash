{
 "cells": [
  {
   "cell_type": "markdown",
   "metadata": {},
   "source": [
    "# Mentions Expansion"
   ]
  },
  {
   "cell_type": "markdown",
   "metadata": {},
   "source": [
    "Some of the variables are too much generalistic compared to real mentions, which tend to be more concrete. In order to solve that, we are going to generate different order parents and check the total coverage after that."
   ]
  },
  {
   "cell_type": "markdown",
   "metadata": {},
   "source": [
    "## 1. Load Snomed International in Local"
   ]
  },
  {
   "cell_type": "code",
   "execution_count": 1,
   "metadata": {},
   "outputs": [
    {
     "name": "stdout",
     "output_type": "stream",
     "text": [
      "Removing an already removed relation id 64885022\n",
      "Removing an already removed relation id 65015023\n",
      "Removing an already removed relation id 85964023\n",
      "Removing an already removed relation id 85965024\n",
      "Removing an already removed relation id 2534609022\n",
      "Removing an already removed relation id 2534612020\n",
      "Removing an already removed relation id 2535579020\n",
      "Removing an already removed relation id 6665732021\n",
      "Removing an already removed relation id 6665734022\n",
      "Removing an already removed relation id 13466013021\n",
      "Removing an already removed relation id 13763994028\n",
      "Removing an already removed relation id 13764011027\n"
     ]
    },
    {
     "name": "stderr",
     "output_type": "stream",
     "text": [
      " 84%|████████▍ | 5522570/6539138 [00:06<00:01, 995161.08it/s] "
     ]
    },
    {
     "name": "stdout",
     "output_type": "stream",
     "text": [
      "WARNING: Trying to remove key 719715003 from dict. The element was removed before\n",
      "WARNING: Trying to remove key 719722006 from dict. The element was removed before\n"
     ]
    },
    {
     "name": "stderr",
     "output_type": "stream",
     "text": [
      "100%|██████████| 6539138/6539138 [00:07<00:00, 881618.80it/s]\n"
     ]
    },
    {
     "name": "stdout",
     "output_type": "stream",
     "text": [
      "Se han obtenido 464388 relaciones del archivo\n"
     ]
    }
   ],
   "source": [
    "from src.ontology.SnomedCT import SnomedCT\n",
    "relationship_file = \"/home/abecerra/Documents/SnomedCT_InternationalRF2_PRODUCTION_20240901T120000Z/Full/Terminology/sct2_Relationship_Full_INT_20240901.txt\"\n",
    "\n",
    "sct = SnomedCT(file_name_rel=relationship_file, root_concept_code = \"138875005\", relation_types=[\"116680003\"])"
   ]
  },
  {
   "cell_type": "markdown",
   "metadata": {},
   "source": [
    "## 2. Load Processed Data"
   ]
  },
  {
   "cell_type": "code",
   "execution_count": 2,
   "metadata": {},
   "outputs": [],
   "source": [
    "import pandas as pd\n",
    "DATA = f'data/processed/total.tsv'\n",
    "\n",
    "df_data = pd.read_csv(DATA, sep='\\t', dtype={'code': str})\n"
   ]
  },
  {
   "cell_type": "code",
   "execution_count": 3,
   "metadata": {},
   "outputs": [],
   "source": [
    "df_data[\"code_wp\"] = df_data[\"code\"].apply(lambda x: sct.get_parents(x))"
   ]
  },
  {
   "cell_type": "code",
   "execution_count": 26,
   "metadata": {},
   "outputs": [
    {
     "data": {
      "text/html": [
       "<div>\n",
       "<style scoped>\n",
       "    .dataframe tbody tr th:only-of-type {\n",
       "        vertical-align: middle;\n",
       "    }\n",
       "\n",
       "    .dataframe tbody tr th {\n",
       "        vertical-align: top;\n",
       "    }\n",
       "\n",
       "    .dataframe thead th {\n",
       "        text-align: right;\n",
       "    }\n",
       "</style>\n",
       "<table border=\"1\" class=\"dataframe\">\n",
       "  <thead>\n",
       "    <tr style=\"text-align: right;\">\n",
       "      <th></th>\n",
       "      <th>filename</th>\n",
       "      <th>label</th>\n",
       "      <th>off0</th>\n",
       "      <th>off1</th>\n",
       "      <th>span</th>\n",
       "      <th>code</th>\n",
       "      <th>semantic_rel</th>\n",
       "      <th>code_wp</th>\n",
       "    </tr>\n",
       "  </thead>\n",
       "  <tbody>\n",
       "    <tr>\n",
       "      <th>30762</th>\n",
       "      <td>S0004-06142005000500011-1</td>\n",
       "      <td>FARMACO</td>\n",
       "      <td>375</td>\n",
       "      <td>386</td>\n",
       "      <td>cigarrillos</td>\n",
       "      <td>722496004</td>\n",
       "      <td>EXACT</td>\n",
       "      <td>[698101006]</td>\n",
       "    </tr>\n",
       "    <tr>\n",
       "      <th>85635</th>\n",
       "      <td>S0004-06142005000500011-1</td>\n",
       "      <td>FARMACO</td>\n",
       "      <td>375</td>\n",
       "      <td>386</td>\n",
       "      <td>cigarrillos</td>\n",
       "      <td>698101006</td>\n",
       "      <td>PARENT</td>\n",
       "      <td>698101006</td>\n",
       "    </tr>\n",
       "    <tr>\n",
       "      <th>22647</th>\n",
       "      <td>S0004-06142005000500011-1</td>\n",
       "      <td>SINTOMA</td>\n",
       "      <td>444</td>\n",
       "      <td>480</td>\n",
       "      <td>hematuria macroscópica postmiccional</td>\n",
       "      <td>197941005</td>\n",
       "      <td>NARROW</td>\n",
       "      <td>[365430005, 53298000]</td>\n",
       "    </tr>\n",
       "    <tr>\n",
       "      <th>72367</th>\n",
       "      <td>S0004-06142005000500011-1</td>\n",
       "      <td>SINTOMA</td>\n",
       "      <td>444</td>\n",
       "      <td>480</td>\n",
       "      <td>hematuria macroscópica postmiccional</td>\n",
       "      <td>365430005</td>\n",
       "      <td>PARENT</td>\n",
       "      <td>365430005</td>\n",
       "    </tr>\n",
       "    <tr>\n",
       "      <th>72368</th>\n",
       "      <td>S0004-06142005000500011-1</td>\n",
       "      <td>SINTOMA</td>\n",
       "      <td>444</td>\n",
       "      <td>480</td>\n",
       "      <td>hematuria macroscópica postmiccional</td>\n",
       "      <td>53298000</td>\n",
       "      <td>PARENT</td>\n",
       "      <td>53298000</td>\n",
       "    </tr>\n",
       "    <tr>\n",
       "      <th>...</th>\n",
       "      <td>...</td>\n",
       "      <td>...</td>\n",
       "      <td>...</td>\n",
       "      <td>...</td>\n",
       "      <td>...</td>\n",
       "      <td>...</td>\n",
       "      <td>...</td>\n",
       "      <td>...</td>\n",
       "    </tr>\n",
       "    <tr>\n",
       "      <th>62808</th>\n",
       "      <td>es-S2340-98942015000100005-1</td>\n",
       "      <td>PROCEDIMIENTO</td>\n",
       "      <td>1600</td>\n",
       "      <td>1619</td>\n",
       "      <td>detener la infusión</td>\n",
       "      <td>386609006</td>\n",
       "      <td>PARENT</td>\n",
       "      <td>386609006</td>\n",
       "    </tr>\n",
       "    <tr>\n",
       "      <th>16134</th>\n",
       "      <td>es-S2340-98942015000100005-1</td>\n",
       "      <td>PROCEDIMIENTO</td>\n",
       "      <td>1732</td>\n",
       "      <td>1795</td>\n",
       "      <td>quimioterapia con trabectedina y adriamicina l...</td>\n",
       "      <td>367336001</td>\n",
       "      <td>NARROW</td>\n",
       "      <td>[18629005]</td>\n",
       "    </tr>\n",
       "    <tr>\n",
       "      <th>62809</th>\n",
       "      <td>es-S2340-98942015000100005-1</td>\n",
       "      <td>PROCEDIMIENTO</td>\n",
       "      <td>1732</td>\n",
       "      <td>1795</td>\n",
       "      <td>quimioterapia con trabectedina y adriamicina l...</td>\n",
       "      <td>18629005</td>\n",
       "      <td>PARENT</td>\n",
       "      <td>18629005</td>\n",
       "    </tr>\n",
       "    <tr>\n",
       "      <th>25141</th>\n",
       "      <td>es-S2340-98942015000100005-1</td>\n",
       "      <td>SINTOMA</td>\n",
       "      <td>1912</td>\n",
       "      <td>1931</td>\n",
       "      <td>libre de enfermedad</td>\n",
       "      <td>110279003</td>\n",
       "      <td>EXACT</td>\n",
       "      <td>[128926000]</td>\n",
       "    </tr>\n",
       "    <tr>\n",
       "      <th>75844</th>\n",
       "      <td>es-S2340-98942015000100005-1</td>\n",
       "      <td>SINTOMA</td>\n",
       "      <td>1912</td>\n",
       "      <td>1931</td>\n",
       "      <td>libre de enfermedad</td>\n",
       "      <td>128926000</td>\n",
       "      <td>PARENT</td>\n",
       "      <td>128926000</td>\n",
       "    </tr>\n",
       "  </tbody>\n",
       "</table>\n",
       "<p>94424 rows × 8 columns</p>\n",
       "</div>"
      ],
      "text/plain": [
       "                           filename          label  off0  off1  \\\n",
       "30762     S0004-06142005000500011-1        FARMACO   375   386   \n",
       "85635     S0004-06142005000500011-1        FARMACO   375   386   \n",
       "22647     S0004-06142005000500011-1        SINTOMA   444   480   \n",
       "72367     S0004-06142005000500011-1        SINTOMA   444   480   \n",
       "72368     S0004-06142005000500011-1        SINTOMA   444   480   \n",
       "...                             ...            ...   ...   ...   \n",
       "62808  es-S2340-98942015000100005-1  PROCEDIMIENTO  1600  1619   \n",
       "16134  es-S2340-98942015000100005-1  PROCEDIMIENTO  1732  1795   \n",
       "62809  es-S2340-98942015000100005-1  PROCEDIMIENTO  1732  1795   \n",
       "25141  es-S2340-98942015000100005-1        SINTOMA  1912  1931   \n",
       "75844  es-S2340-98942015000100005-1        SINTOMA  1912  1931   \n",
       "\n",
       "                                                    span       code  \\\n",
       "30762                                        cigarrillos  722496004   \n",
       "85635                                        cigarrillos  698101006   \n",
       "22647               hematuria macroscópica postmiccional  197941005   \n",
       "72367               hematuria macroscópica postmiccional  365430005   \n",
       "72368               hematuria macroscópica postmiccional   53298000   \n",
       "...                                                  ...        ...   \n",
       "62808                                detener la infusión  386609006   \n",
       "16134  quimioterapia con trabectedina y adriamicina l...  367336001   \n",
       "62809  quimioterapia con trabectedina y adriamicina l...   18629005   \n",
       "25141                                libre de enfermedad  110279003   \n",
       "75844                                libre de enfermedad  128926000   \n",
       "\n",
       "      semantic_rel                code_wp  \n",
       "30762        EXACT            [698101006]  \n",
       "85635       PARENT              698101006  \n",
       "22647       NARROW  [365430005, 53298000]  \n",
       "72367       PARENT              365430005  \n",
       "72368       PARENT               53298000  \n",
       "...            ...                    ...  \n",
       "62808       PARENT              386609006  \n",
       "16134       NARROW             [18629005]  \n",
       "62809       PARENT               18629005  \n",
       "25141        EXACT            [128926000]  \n",
       "75844       PARENT              128926000  \n",
       "\n",
       "[94424 rows x 8 columns]"
      ]
     },
     "execution_count": 26,
     "metadata": {},
     "output_type": "execute_result"
    }
   ],
   "source": [
    "df_parents_1p = df_data.copy()\n",
    "\n",
    "df_parents_1p = df_parents_1p.explode(column=\"code_wp\")\n",
    "df_parents_1p[\"code\"] = df_parents_1p[\"code_wp\"]\n",
    "df_parents_1p[\"semantic_rel\"] = \"PARENT\"\n",
    "\n",
    "df_out = pd.concat([df_data, df_parents_1p], ignore_index=True)\n",
    "df_out = df_out.sort_values(by=[\"filename\", \"off0\", \"off1\"])\n"
   ]
  },
  {
   "cell_type": "code",
   "execution_count": 18,
   "metadata": {},
   "outputs": [
    {
     "ename": "ValueError",
     "evalue": "('Lengths must match to compare', (35127,), (2,))",
     "output_type": "error",
     "traceback": [
      "\u001b[0;31m---------------------------------------------------------------------------\u001b[0m",
      "\u001b[0;31mValueError\u001b[0m                                Traceback (most recent call last)",
      "Cell \u001b[0;32mIn[18], line 1\u001b[0m\n\u001b[0;32m----> 1\u001b[0m \u001b[43mdf_data\u001b[49m\u001b[43m[\u001b[49m\u001b[38;5;124;43m\"\u001b[39;49m\u001b[38;5;124;43mcode_wp\u001b[39;49m\u001b[38;5;124;43m\"\u001b[39;49m\u001b[43m]\u001b[49m\u001b[38;5;241;43m.\u001b[39;49m\u001b[43mastype\u001b[49m\u001b[43m(\u001b[49m\u001b[38;5;28;43mstr\u001b[39;49m\u001b[43m)\u001b[49m\u001b[38;5;241;43m.\u001b[39;49m\u001b[43mapply\u001b[49m\u001b[43m(\u001b[49m\u001b[38;5;28;43;01mlambda\u001b[39;49;00m\u001b[43m \u001b[49m\u001b[43mx\u001b[49m\u001b[43m:\u001b[49m\u001b[43m \u001b[49m\u001b[38;5;28;43meval\u001b[39;49m\u001b[43m(\u001b[49m\u001b[43mx\u001b[49m\u001b[43m)\u001b[49m\u001b[43m)\u001b[49m\u001b[43m \u001b[49m\u001b[38;5;241;43m==\u001b[39;49m\u001b[43m \u001b[49m\u001b[43m[\u001b[49m\u001b[38;5;124;43m\"\u001b[39;49m\u001b[38;5;124;43m18526009\u001b[39;49m\u001b[38;5;124;43m\"\u001b[39;49m\u001b[43m,\u001b[49m\u001b[43m \u001b[49m\u001b[38;5;124;43m\"\u001b[39;49m\u001b[38;5;124;43m302168000\u001b[39;49m\u001b[38;5;124;43m\"\u001b[39;49m\u001b[43m]\u001b[49m\n",
      "File \u001b[0;32m~/GitHub/dt4h-coverage-dash/.venv/lib/python3.8/site-packages/pandas/core/ops/common.py:81\u001b[0m, in \u001b[0;36m_unpack_zerodim_and_defer.<locals>.new_method\u001b[0;34m(self, other)\u001b[0m\n\u001b[1;32m     77\u001b[0m             \u001b[38;5;28;01mreturn\u001b[39;00m \u001b[38;5;28mNotImplemented\u001b[39m\n\u001b[1;32m     79\u001b[0m other \u001b[38;5;241m=\u001b[39m item_from_zerodim(other)\n\u001b[0;32m---> 81\u001b[0m \u001b[38;5;28;01mreturn\u001b[39;00m \u001b[43mmethod\u001b[49m\u001b[43m(\u001b[49m\u001b[38;5;28;43mself\u001b[39;49m\u001b[43m,\u001b[49m\u001b[43m \u001b[49m\u001b[43mother\u001b[49m\u001b[43m)\u001b[49m\n",
      "File \u001b[0;32m~/GitHub/dt4h-coverage-dash/.venv/lib/python3.8/site-packages/pandas/core/arraylike.py:40\u001b[0m, in \u001b[0;36mOpsMixin.__eq__\u001b[0;34m(self, other)\u001b[0m\n\u001b[1;32m     38\u001b[0m \u001b[38;5;129m@unpack_zerodim_and_defer\u001b[39m(\u001b[38;5;124m\"\u001b[39m\u001b[38;5;124m__eq__\u001b[39m\u001b[38;5;124m\"\u001b[39m)\n\u001b[1;32m     39\u001b[0m \u001b[38;5;28;01mdef\u001b[39;00m \u001b[38;5;21m__eq__\u001b[39m(\u001b[38;5;28mself\u001b[39m, other):\n\u001b[0;32m---> 40\u001b[0m     \u001b[38;5;28;01mreturn\u001b[39;00m \u001b[38;5;28;43mself\u001b[39;49m\u001b[38;5;241;43m.\u001b[39;49m\u001b[43m_cmp_method\u001b[49m\u001b[43m(\u001b[49m\u001b[43mother\u001b[49m\u001b[43m,\u001b[49m\u001b[43m \u001b[49m\u001b[43moperator\u001b[49m\u001b[38;5;241;43m.\u001b[39;49m\u001b[43meq\u001b[49m\u001b[43m)\u001b[49m\n",
      "File \u001b[0;32m~/GitHub/dt4h-coverage-dash/.venv/lib/python3.8/site-packages/pandas/core/series.py:6096\u001b[0m, in \u001b[0;36mSeries._cmp_method\u001b[0;34m(self, other, op)\u001b[0m\n\u001b[1;32m   6093\u001b[0m rvalues \u001b[38;5;241m=\u001b[39m extract_array(other, extract_numpy\u001b[38;5;241m=\u001b[39m\u001b[38;5;28;01mTrue\u001b[39;00m, extract_range\u001b[38;5;241m=\u001b[39m\u001b[38;5;28;01mTrue\u001b[39;00m)\n\u001b[1;32m   6095\u001b[0m \u001b[38;5;28;01mwith\u001b[39;00m np\u001b[38;5;241m.\u001b[39merrstate(\u001b[38;5;28mall\u001b[39m\u001b[38;5;241m=\u001b[39m\u001b[38;5;124m\"\u001b[39m\u001b[38;5;124mignore\u001b[39m\u001b[38;5;124m\"\u001b[39m):\n\u001b[0;32m-> 6096\u001b[0m     res_values \u001b[38;5;241m=\u001b[39m \u001b[43mops\u001b[49m\u001b[38;5;241;43m.\u001b[39;49m\u001b[43mcomparison_op\u001b[49m\u001b[43m(\u001b[49m\u001b[43mlvalues\u001b[49m\u001b[43m,\u001b[49m\u001b[43m \u001b[49m\u001b[43mrvalues\u001b[49m\u001b[43m,\u001b[49m\u001b[43m \u001b[49m\u001b[43mop\u001b[49m\u001b[43m)\u001b[49m\n\u001b[1;32m   6098\u001b[0m \u001b[38;5;28;01mreturn\u001b[39;00m \u001b[38;5;28mself\u001b[39m\u001b[38;5;241m.\u001b[39m_construct_result(res_values, name\u001b[38;5;241m=\u001b[39mres_name)\n",
      "File \u001b[0;32m~/GitHub/dt4h-coverage-dash/.venv/lib/python3.8/site-packages/pandas/core/ops/array_ops.py:270\u001b[0m, in \u001b[0;36mcomparison_op\u001b[0;34m(left, right, op)\u001b[0m\n\u001b[1;32m    265\u001b[0m \u001b[38;5;28;01mif\u001b[39;00m \u001b[38;5;28misinstance\u001b[39m(rvalues, (np\u001b[38;5;241m.\u001b[39mndarray, ABCExtensionArray)):\n\u001b[1;32m    266\u001b[0m     \u001b[38;5;66;03m# TODO: make this treatment consistent across ops and classes.\u001b[39;00m\n\u001b[1;32m    267\u001b[0m     \u001b[38;5;66;03m#  We are not catching all listlikes here (e.g. frozenset, tuple)\u001b[39;00m\n\u001b[1;32m    268\u001b[0m     \u001b[38;5;66;03m#  The ambiguous case is object-dtype.  See GH#27803\u001b[39;00m\n\u001b[1;32m    269\u001b[0m     \u001b[38;5;28;01mif\u001b[39;00m \u001b[38;5;28mlen\u001b[39m(lvalues) \u001b[38;5;241m!=\u001b[39m \u001b[38;5;28mlen\u001b[39m(rvalues):\n\u001b[0;32m--> 270\u001b[0m         \u001b[38;5;28;01mraise\u001b[39;00m \u001b[38;5;167;01mValueError\u001b[39;00m(\n\u001b[1;32m    271\u001b[0m             \u001b[38;5;124m\"\u001b[39m\u001b[38;5;124mLengths must match to compare\u001b[39m\u001b[38;5;124m\"\u001b[39m, lvalues\u001b[38;5;241m.\u001b[39mshape, rvalues\u001b[38;5;241m.\u001b[39mshape\n\u001b[1;32m    272\u001b[0m         )\n\u001b[1;32m    274\u001b[0m \u001b[38;5;28;01mif\u001b[39;00m should_extension_dispatch(lvalues, rvalues) \u001b[38;5;129;01mor\u001b[39;00m (\n\u001b[1;32m    275\u001b[0m     (\u001b[38;5;28misinstance\u001b[39m(rvalues, (Timedelta, BaseOffset, Timestamp)) \u001b[38;5;129;01mor\u001b[39;00m right \u001b[38;5;129;01mis\u001b[39;00m NaT)\n\u001b[1;32m    276\u001b[0m     \u001b[38;5;129;01mand\u001b[39;00m \u001b[38;5;129;01mnot\u001b[39;00m is_object_dtype(lvalues\u001b[38;5;241m.\u001b[39mdtype)\n\u001b[1;32m    277\u001b[0m ):\n\u001b[1;32m    278\u001b[0m     \u001b[38;5;66;03m# Call the method on lvalues\u001b[39;00m\n\u001b[1;32m    279\u001b[0m     res_values \u001b[38;5;241m=\u001b[39m op(lvalues, rvalues)\n",
      "\u001b[0;31mValueError\u001b[0m: ('Lengths must match to compare', (35127,), (2,))"
     ]
    }
   ],
   "source": []
  },
  {
   "cell_type": "code",
   "execution_count": null,
   "metadata": {},
   "outputs": [],
   "source": []
  }
 ],
 "metadata": {
  "kernelspec": {
   "display_name": ".venv",
   "language": "python",
   "name": "python3"
  },
  "language_info": {
   "codemirror_mode": {
    "name": "ipython",
    "version": 3
   },
   "file_extension": ".py",
   "mimetype": "text/x-python",
   "name": "python",
   "nbconvert_exporter": "python",
   "pygments_lexer": "ipython3",
   "version": "3.8.10"
  }
 },
 "nbformat": 4,
 "nbformat_minor": 2
}
